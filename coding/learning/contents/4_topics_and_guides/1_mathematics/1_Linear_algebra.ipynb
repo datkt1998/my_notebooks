{
 "cells": [
  {
   "cell_type": "markdown",
   "id": "6cb05c63-626b-4fcb-8574-1280d6616696",
   "metadata": {},
   "source": [
    "# Linear algebra"
   ]
  },
  {
   "cell_type": "code",
   "execution_count": 1,
   "id": "7608366b-fd46-4870-abaa-3e7f8959e761",
   "metadata": {
    "tags": []
   },
   "outputs": [],
   "source": [
    "import numpy as np\n",
    "import scipy\n",
    "import pandas as pd"
   ]
  },
  {
   "cell_type": "markdown",
   "id": "fbcc15b6-d070-43d8-a95c-b9012fb0eb90",
   "metadata": {},
   "source": [
    "# Matrix and vector"
   ]
  },
  {
   "cell_type": "markdown",
   "id": "042a1de3-0211-4d96-87f1-2401cd148a5b",
   "metadata": {},
   "source": [
    "## Vector\n",
    "- Vector thể hiện một quan sát gồm có các feature"
   ]
  },
  {
   "cell_type": "code",
   "execution_count": 6,
   "id": "2fa1eef7-fb13-4dfc-b88d-dd6cbe88e6d7",
   "metadata": {
    "tags": []
   },
   "outputs": [
    {
     "data": {
      "text/plain": [
       "array([1, 2, 3, 2])"
      ]
     },
     "execution_count": 6,
     "metadata": {},
     "output_type": "execute_result"
    }
   ],
   "source": [
    "v = np.array([1,2,3,2])\n",
    "v"
   ]
  },
  {
   "cell_type": "code",
   "execution_count": 5,
   "id": "3032d111-891e-4da3-a8c4-b5919dda3f40",
   "metadata": {
    "tags": []
   },
   "outputs": [
    {
     "data": {
      "text/plain": [
       "array([10, 15, 20])"
      ]
     },
     "execution_count": 5,
     "metadata": {},
     "output_type": "execute_result"
    }
   ],
   "source": [
    "# Create an array of evenly\n",
    "v2 = np.arange(10,25,5) \n",
    "v2"
   ]
  },
  {
   "cell_type": "code",
   "execution_count": 11,
   "id": "5ea35f6f-f8b0-4edb-a547-8df23ce5c236",
   "metadata": {
    "tags": []
   },
   "outputs": [
    {
     "data": {
      "text/plain": [
       "array([ 0.,  2.,  4.,  6.,  8., 10.])"
      ]
     },
     "execution_count": 11,
     "metadata": {},
     "output_type": "execute_result"
    }
   ],
   "source": [
    "# Create an array of evenly - array tuyen tinh\n",
    "np.linspace(0,10,6)"
   ]
  },
  {
   "cell_type": "code",
   "execution_count": 24,
   "id": "907b0c7d-ec34-41d5-ae14-ca19f77883ba",
   "metadata": {
    "tags": []
   },
   "outputs": [
    {
     "data": {
      "text/plain": [
       "-270"
      ]
     },
     "execution_count": 24,
     "metadata": {},
     "output_type": "execute_result"
    }
   ],
   "source": [
    "# 2 vector\n",
    "C = np.array([2,40])\n",
    "D = np.array([5,-7])\n",
    "C@D"
   ]
  },
  {
   "cell_type": "markdown",
   "id": "5274af83-f3e8-4049-8cfd-4d17e9841353",
   "metadata": {},
   "source": [
    "### tích vô hướng 2 vector"
   ]
  },
  {
   "cell_type": "code",
   "execution_count": 29,
   "id": "cd462561-82a9-4c55-8ae0-ecc782700fda",
   "metadata": {
    "tags": []
   },
   "outputs": [
    {
     "data": {
      "text/plain": [
       "0"
      ]
     },
     "execution_count": 29,
     "metadata": {},
     "output_type": "execute_result"
    }
   ],
   "source": [
    "A = np.array([0,2])\n",
    "B = np.array([3,0])\n",
    "np.inner(A, B)"
   ]
  },
  {
   "cell_type": "markdown",
   "id": "262cda85-a1f0-4fc7-a802-5ed6aba9ba0c",
   "metadata": {},
   "source": [
    "## Create matrix\n",
    "\n",
    "- Matrix thể hiện tập hợp nhiều vector"
   ]
  },
  {
   "cell_type": "markdown",
   "id": "45b3a25a-0662-4913-bbec-a9cb108346f3",
   "metadata": {},
   "source": [
    "### custom matrix"
   ]
  },
  {
   "cell_type": "code",
   "execution_count": 3,
   "id": "bebb55dd-09a4-4c9b-af4d-2ba53dd0f34a",
   "metadata": {
    "tags": []
   },
   "outputs": [
    {
     "data": {
      "text/plain": [
       "(3, 3)"
      ]
     },
     "execution_count": 3,
     "metadata": {},
     "output_type": "execute_result"
    }
   ],
   "source": [
    "# Taking a 3 * 3 matrix\n",
    "A = np.array([[1, 2, 3],\n",
    "              [0, -2, -2],\n",
    "              [2, 0, 4]])\n",
    "A.shape"
   ]
  },
  {
   "cell_type": "code",
   "execution_count": 7,
   "id": "774d8164-c466-421d-b91e-a485ca252edb",
   "metadata": {
    "tags": []
   },
   "outputs": [
    {
     "data": {
      "text/plain": [
       "(2, 2, 3)"
      ]
     },
     "execution_count": 7,
     "metadata": {},
     "output_type": "execute_result"
    }
   ],
   "source": [
    "# Taking a 2 * 2 * 3 matrix (3 dimensions)\n",
    "ar_3d = np.array([[(1.5,2,3), (4,5,6)], [(3,2,1), (4,5,6)]], dtype = float)\n",
    "ar_3d.shape"
   ]
  },
  {
   "cell_type": "markdown",
   "id": "7528201f-165f-4489-ab76-a309db28a783",
   "metadata": {},
   "source": [
    "### array of zeros"
   ]
  },
  {
   "cell_type": "code",
   "execution_count": 8,
   "id": "5790ee4b-30d3-4657-abcf-b1948982cd42",
   "metadata": {
    "tags": []
   },
   "outputs": [
    {
     "data": {
      "text/plain": [
       "array([[0., 0., 0., 0.],\n",
       "       [0., 0., 0., 0.],\n",
       "       [0., 0., 0., 0.]])"
      ]
     },
     "execution_count": 8,
     "metadata": {},
     "output_type": "execute_result"
    }
   ],
   "source": [
    "# Create an array of zeros\n",
    "np.zeros((3,4)) "
   ]
  },
  {
   "cell_type": "markdown",
   "id": "fcc0ab04-c836-49b7-b098-7b63a887de4a",
   "metadata": {},
   "source": [
    "### array of ones"
   ]
  },
  {
   "cell_type": "code",
   "execution_count": 9,
   "id": "6de0bd72-db34-4545-b326-a1f5353775fe",
   "metadata": {
    "tags": []
   },
   "outputs": [
    {
     "data": {
      "text/plain": [
       "array([[[1., 1., 1., 1.],\n",
       "        [1., 1., 1., 1.],\n",
       "        [1., 1., 1., 1.]],\n",
       "\n",
       "       [[1., 1., 1., 1.],\n",
       "        [1., 1., 1., 1.],\n",
       "        [1., 1., 1., 1.]]])"
      ]
     },
     "execution_count": 9,
     "metadata": {},
     "output_type": "execute_result"
    }
   ],
   "source": [
    "# Create an array of ones\n",
    "np.ones((2,3,4))"
   ]
  },
  {
   "cell_type": "markdown",
   "id": "29185006-f27a-4cdd-9ba4-6526650bb222",
   "metadata": {},
   "source": [
    "### array of constant"
   ]
  },
  {
   "cell_type": "code",
   "execution_count": 10,
   "id": "9f98cd6b-979e-4f74-97ac-06ae50331157",
   "metadata": {
    "tags": []
   },
   "outputs": [
    {
     "data": {
      "text/plain": [
       "array([[7, 7],\n",
       "       [7, 7]])"
      ]
     },
     "execution_count": 10,
     "metadata": {},
     "output_type": "execute_result"
    }
   ],
   "source": [
    "# Create a constant array \n",
    "np.full((2,2),7)"
   ]
  },
  {
   "cell_type": "markdown",
   "id": "057c670e-d674-4600-8da2-e3a237b60f5b",
   "metadata": {},
   "source": [
    "### matrix don vi"
   ]
  },
  {
   "cell_type": "code",
   "execution_count": 13,
   "id": "a8535645-9aa3-4983-a49c-174fe5c01070",
   "metadata": {
    "tags": []
   },
   "outputs": [
    {
     "data": {
      "text/plain": [
       "array([[1., 0., 0.],\n",
       "       [0., 1., 0.],\n",
       "       [0., 0., 1.]])"
      ]
     },
     "execution_count": 13,
     "metadata": {},
     "output_type": "execute_result"
    }
   ],
   "source": [
    "# Create a 2X2 identity matrix - matrix don vi\n",
    "np.eye(3) "
   ]
  },
  {
   "cell_type": "markdown",
   "id": "07f40f45-baab-4458-9af0-73faa4164d29",
   "metadata": {},
   "source": [
    "### random matrix"
   ]
  },
  {
   "cell_type": "code",
   "execution_count": 14,
   "id": "6c581f5c-1ee9-45e7-ab8e-3a544436063e",
   "metadata": {
    "tags": []
   },
   "outputs": [
    {
     "data": {
      "text/plain": [
       "array([[0.6686836 , 0.22002484],\n",
       "       [0.91715112, 0.93238177]])"
      ]
     },
     "execution_count": 14,
     "metadata": {},
     "output_type": "execute_result"
    }
   ],
   "source": [
    "# Create an array with random values\n",
    "np.random.random((2,2)) "
   ]
  },
  {
   "cell_type": "code",
   "execution_count": 15,
   "id": "bb08aa8a-fa44-4add-b370-1d22da0f18aa",
   "metadata": {
    "tags": []
   },
   "outputs": [
    {
     "data": {
      "text/plain": [
       "array([[1.5, 2. , 3. , 4. ],\n",
       "       [5. , 6. , 3. , 2. ],\n",
       "       [1. , 4. , 5. , 6. ]])"
      ]
     },
     "execution_count": 15,
     "metadata": {},
     "output_type": "execute_result"
    }
   ],
   "source": [
    "# Create an empty array\n",
    "np.empty((3,4)) "
   ]
  },
  {
   "cell_type": "markdown",
   "id": "c1802f45-701a-460c-82a1-abf896a894b3",
   "metadata": {
    "tags": []
   },
   "source": [
    "## Matrix function"
   ]
  },
  {
   "cell_type": "markdown",
   "id": "a296c73b-bc75-461f-b0e0-fff3c6009e94",
   "metadata": {},
   "source": [
    "### get info"
   ]
  },
  {
   "cell_type": "code",
   "execution_count": 16,
   "id": "e38f5ec9-94d7-484f-b57e-017701d028d7",
   "metadata": {
    "id": "e38f5ec9-94d7-484f-b57e-017701d028d7",
    "outputId": "67dc8187-e07a-4e96-d4c3-a1218494bc4a"
   },
   "outputs": [
    {
     "data": {
      "text/plain": [
       "(2, 2, 3)"
      ]
     },
     "execution_count": 16,
     "metadata": {},
     "output_type": "execute_result"
    }
   ],
   "source": [
    "# Array dimensions - xem chieu array\n",
    "c.shape"
   ]
  },
  {
   "cell_type": "code",
   "execution_count": 17,
   "id": "cffce368-0490-4ef4-adfe-8862b8d18885",
   "metadata": {
    "id": "cffce368-0490-4ef4-adfe-8862b8d18885",
    "outputId": "d2368425-e848-4f1f-b157-db5f193b8f6f"
   },
   "outputs": [
    {
     "data": {
      "text/plain": [
       "2"
      ]
     },
     "execution_count": 17,
     "metadata": {},
     "output_type": "execute_result"
    }
   ],
   "source": [
    "# Length of array - so phan tu array ben ngoai\n",
    "len(c)"
   ]
  },
  {
   "cell_type": "code",
   "execution_count": 18,
   "id": "b12c355d-ceee-420b-8e9e-f944b85e764a",
   "metadata": {
    "id": "b12c355d-ceee-420b-8e9e-f944b85e764a",
    "outputId": "2aaccc24-a422-4deb-d2da-93bf8ab0a2b5"
   },
   "outputs": [
    {
     "data": {
      "text/plain": [
       "3"
      ]
     },
     "execution_count": 18,
     "metadata": {},
     "output_type": "execute_result"
    }
   ],
   "source": [
    "# Number of array dimensions - so chieu\n",
    "c.ndim"
   ]
  },
  {
   "cell_type": "code",
   "execution_count": 19,
   "id": "23e882b4-6fa9-430a-be6f-c7128ed9c035",
   "metadata": {
    "id": "23e882b4-6fa9-430a-be6f-c7128ed9c035",
    "outputId": "d2e0271a-cb19-4f93-b01e-6de71453cd31"
   },
   "outputs": [
    {
     "data": {
      "text/plain": [
       "12"
      ]
     },
     "execution_count": 19,
     "metadata": {},
     "output_type": "execute_result"
    }
   ],
   "source": [
    "# Number of array elements - so elements trong ca array\n",
    "c.size"
   ]
  },
  {
   "cell_type": "code",
   "execution_count": 20,
   "id": "d29900e2-d438-4f8e-8bb0-3d3c7da77314",
   "metadata": {
    "id": "d29900e2-d438-4f8e-8bb0-3d3c7da77314",
    "outputId": "2855d1bb-cf37-4a03-90eb-bf5428ce15d7"
   },
   "outputs": [
    {
     "data": {
      "text/plain": [
       "dtype('float64')"
      ]
     },
     "execution_count": 20,
     "metadata": {},
     "output_type": "execute_result"
    }
   ],
   "source": [
    "# Data type of array elements\n",
    "b.dtype "
   ]
  },
  {
   "cell_type": "code",
   "execution_count": 21,
   "id": "e077bb4f-442e-4c30-8e90-fe30b8b3bfdb",
   "metadata": {
    "id": "e077bb4f-442e-4c30-8e90-fe30b8b3bfdb",
    "outputId": "eb6f18d3-cc87-4400-fb00-712f4414ee01"
   },
   "outputs": [
    {
     "data": {
      "text/plain": [
       "'float64'"
      ]
     },
     "execution_count": 21,
     "metadata": {},
     "output_type": "execute_result"
    }
   ],
   "source": [
    "# Name of data type\n",
    "b.dtype.name "
   ]
  },
  {
   "cell_type": "code",
   "execution_count": 22,
   "id": "b3ca6546-57a2-43f6-8220-5456fb058c85",
   "metadata": {
    "id": "b3ca6546-57a2-43f6-8220-5456fb058c85",
    "outputId": "5164b820-e55c-4fc4-9c9e-f81ffcc3aa2a"
   },
   "outputs": [
    {
     "data": {
      "text/plain": [
       "array([[1, 2, 3],\n",
       "       [4, 5, 6]])"
      ]
     },
     "execution_count": 22,
     "metadata": {},
     "output_type": "execute_result"
    }
   ],
   "source": [
    "# Convert an array to a different type\n",
    "b.astype(int)"
   ]
  },
  {
   "cell_type": "markdown",
   "id": "42d1bbb6-cb4a-4d2b-a424-1448e0f0483c",
   "metadata": {},
   "source": [
    "### resize , reshape"
   ]
  },
  {
   "cell_type": "code",
   "execution_count": 24,
   "id": "fac32732-e9d0-4685-a41e-2bcde5332359",
   "metadata": {
    "id": "fac32732-e9d0-4685-a41e-2bcde5332359",
    "outputId": "d99fd9f0-71e5-405b-b32d-8f7f5077dbe1"
   },
   "outputs": [
    {
     "data": {
      "text/plain": [
       "array([ 1,  2,  3,  0, -2, -2,  2,  0,  4])"
      ]
     },
     "execution_count": 24,
     "metadata": {},
     "output_type": "execute_result"
    }
   ],
   "source": [
    "# Flatten the array\n",
    "A.ravel() "
   ]
  },
  {
   "cell_type": "code",
   "execution_count": 25,
   "id": "446c754a-f75e-4292-b564-7e48e95be47a",
   "metadata": {
    "id": "446c754a-f75e-4292-b564-7e48e95be47a",
    "outputId": "70e80c4b-e040-487f-c348-026aeedf232c"
   },
   "outputs": [
    {
     "data": {
      "text/plain": [
       "array([[ 1],\n",
       "       [ 2],\n",
       "       [ 3],\n",
       "       [ 0],\n",
       "       [-2],\n",
       "       [-2],\n",
       "       [ 2],\n",
       "       [ 0],\n",
       "       [ 4]])"
      ]
     },
     "execution_count": 25,
     "metadata": {},
     "output_type": "execute_result"
    }
   ],
   "source": [
    "# reshape\n",
    "A.reshape(9,1) "
   ]
  },
  {
   "cell_type": "code",
   "execution_count": 26,
   "id": "287d64c9-f315-4018-be8e-4fbaf20c88b2",
   "metadata": {
    "id": "287d64c9-f315-4018-be8e-4fbaf20c88b2",
    "outputId": "09d9ec85-378b-4db4-f280-3ddce1f9e511"
   },
   "outputs": [
    {
     "data": {
      "text/plain": [
       "array([[ 1,  2,  3,  0, -2, -2],\n",
       "       [ 2,  0,  4,  0,  0,  0],\n",
       "       [ 0,  0,  0,  0,  0,  0]])"
      ]
     },
     "execution_count": 26,
     "metadata": {},
     "output_type": "execute_result"
    }
   ],
   "source": [
    "# resize\n",
    "A.resize((3,6),refcheck=False)\n",
    "A"
   ]
  },
  {
   "cell_type": "markdown",
   "id": "4b71644f-5893-4a8c-9ab0-cc6dd7eb450d",
   "metadata": {},
   "source": [
    "### concat"
   ]
  },
  {
   "cell_type": "code",
   "execution_count": 27,
   "id": "de53b73b-8e95-4b79-b779-b05f88139410",
   "metadata": {
    "id": "de53b73b-8e95-4b79-b779-b05f88139410",
    "outputId": "623dc567-ea65-4b40-9d54-74ced310d9a5"
   },
   "outputs": [
    {
     "data": {
      "text/plain": [
       "array([1, 2, 3, 1, 2, 3])"
      ]
     },
     "execution_count": 27,
     "metadata": {},
     "output_type": "execute_result"
    }
   ],
   "source": [
    "# append\n",
    "A = np.array([[1, 2, 3]])\n",
    "np.append(A,A) "
   ]
  },
  {
   "cell_type": "code",
   "execution_count": 28,
   "id": "ad9b92d6-0d67-44fb-b26e-115de60701e2",
   "metadata": {
    "id": "ad9b92d6-0d67-44fb-b26e-115de60701e2",
    "outputId": "5ee9d420-1117-40e3-978a-da355542e57f"
   },
   "outputs": [
    {
     "name": "stdout",
     "output_type": "stream",
     "text": [
      "[[ 1  2  3]\n",
      " [ 4  5  6]\n",
      " [11 12 13]\n",
      " [14 15 16]]\n"
     ]
    }
   ],
   "source": [
    "# Combining:\n",
    "A = np.array([[1, 2, 3],[4, 5, 6]])\n",
    "B = np.array([[11, 12, 13],[14, 15, 16]])\n",
    "# concatenate row-wise\n",
    "C = np.concatenate((A,B),axis=0)\n",
    "print(C)"
   ]
  },
  {
   "cell_type": "code",
   "execution_count": 29,
   "id": "87ece089-02be-4e5b-a7a9-2f50b12f33d3",
   "metadata": {
    "id": "87ece089-02be-4e5b-a7a9-2f50b12f33d3",
    "outputId": "3c297086-4bfc-4b55-e77f-d137d09c38d8"
   },
   "outputs": [
    {
     "data": {
      "text/plain": [
       "array([[ 1,  2,  3, 11, 12, 13],\n",
       "       [ 4,  5,  6, 14, 15, 16]])"
      ]
     },
     "execution_count": 29,
     "metadata": {},
     "output_type": "execute_result"
    }
   ],
   "source": [
    "# concatenate column-wise\n",
    "np.concatenate((A,B),axis=1)"
   ]
  },
  {
   "cell_type": "code",
   "execution_count": 30,
   "id": "5a32e716-79f5-4774-a4b6-fe7ec073fc67",
   "metadata": {
    "id": "5a32e716-79f5-4774-a4b6-fe7ec073fc67",
    "outputId": "1e4dd773-8ae5-4d38-ddc0-038ac079a08a"
   },
   "outputs": [
    {
     "data": {
      "text/plain": [
       "array([[ 1,  2,  3, 11, 12, 13],\n",
       "       [ 4,  5,  6, 14, 15, 16]])"
      ]
     },
     "execution_count": 30,
     "metadata": {},
     "output_type": "execute_result"
    }
   ],
   "source": [
    "# stack\n",
    "A = np.array([[1, 2, 3],[4, 5, 6]])\n",
    "np.hstack((A,B)) "
   ]
  },
  {
   "cell_type": "markdown",
   "id": "b703237e-860d-4697-8056-975d92cd16ab",
   "metadata": {},
   "source": [
    "### split"
   ]
  },
  {
   "cell_type": "code",
   "execution_count": 31,
   "id": "946e50a7-7c7d-407a-bea7-89727407a5c6",
   "metadata": {
    "id": "946e50a7-7c7d-407a-bea7-89727407a5c6",
    "outputId": "c1851b3a-185e-4d37-e0c8-3cdebe73837f"
   },
   "outputs": [
    {
     "data": {
      "text/plain": [
       "[array([[1, 2, 3]]), array([[4, 5, 6]])]"
      ]
     },
     "execution_count": 31,
     "metadata": {},
     "output_type": "execute_result"
    }
   ],
   "source": [
    "# Splitting:\n",
    "# - Splits array into 3 sub-arrays\n",
    "np.split(A,2, axis = 0) "
   ]
  },
  {
   "cell_type": "code",
   "execution_count": 32,
   "id": "2440a56a-cd98-40e7-a4c9-71f0b20270f5",
   "metadata": {
    "id": "2440a56a-cd98-40e7-a4c9-71f0b20270f5",
    "outputId": "e90b83ca-f8a7-40a0-f215-75e554828bda"
   },
   "outputs": [
    {
     "data": {
      "text/plain": [
       "[array([[1],\n",
       "        [4]]),\n",
       " array([[2],\n",
       "        [5]]),\n",
       " array([[3],\n",
       "        [6]])]"
      ]
     },
     "execution_count": 32,
     "metadata": {},
     "output_type": "execute_result"
    }
   ],
   "source": [
    "np.split(A,3, axis = 1) "
   ]
  },
  {
   "cell_type": "markdown",
   "id": "aa1321bf-7e7c-410a-ac50-cb67109db952",
   "metadata": {},
   "source": [
    "### filter matrix"
   ]
  },
  {
   "cell_type": "code",
   "execution_count": 33,
   "id": "fde54ddc-444a-435e-b7d0-a039be3627d3",
   "metadata": {
    "id": "fde54ddc-444a-435e-b7d0-a039be3627d3",
    "outputId": "8235bf2b-0e1b-4cde-e09f-bae0da474c62"
   },
   "outputs": [
    {
     "data": {
      "text/plain": [
       "array([[ True,  True,  True],\n",
       "       [ True, False, False]])"
      ]
     },
     "execution_count": 33,
     "metadata": {},
     "output_type": "execute_result"
    }
   ],
   "source": [
    "# boolean array\n",
    "A < 5"
   ]
  },
  {
   "cell_type": "code",
   "execution_count": 34,
   "id": "5434eb52-0d55-46a0-aa5a-20c0782b8202",
   "metadata": {
    "id": "5434eb52-0d55-46a0-aa5a-20c0782b8202",
    "outputId": "2b53d5f3-7eb8-4c83-f94f-e63695a335ad"
   },
   "outputs": [
    {
     "data": {
      "text/plain": [
       "array([1, 2, 3, 4])"
      ]
     },
     "execution_count": 34,
     "metadata": {},
     "output_type": "execute_result"
    }
   ],
   "source": [
    "A[A < 5]"
   ]
  },
  {
   "cell_type": "code",
   "execution_count": 35,
   "id": "4f0caf32-778e-4dbd-9c37-2d457e485573",
   "metadata": {
    "id": "4f0caf32-778e-4dbd-9c37-2d457e485573",
    "outputId": "9e7febc6-bd7b-468e-83e6-652dcdfd76d4"
   },
   "outputs": [
    {
     "data": {
      "text/plain": [
       "array([[ 1,  2,  3],\n",
       "       [ 4, 15, 16]])"
      ]
     },
     "execution_count": 35,
     "metadata": {},
     "output_type": "execute_result"
    }
   ],
   "source": [
    "np.where(A < 5, A, B)"
   ]
  },
  {
   "cell_type": "markdown",
   "id": "b19e73ab-22cb-474d-bebd-583a35103cef",
   "metadata": {},
   "source": [
    "### expand matrix"
   ]
  },
  {
   "cell_type": "code",
   "execution_count": 36,
   "id": "dbfa63f5-1c35-4fd0-a600-397d81c4ca72",
   "metadata": {
    "id": "dbfa63f5-1c35-4fd0-a600-397d81c4ca72",
    "outputId": "d38e1214-9ba0-4905-bd36-70e4e829290a"
   },
   "outputs": [
    {
     "name": "stdout",
     "output_type": "stream",
     "text": [
      "[[1 2 3]\n",
      " [4 5 6]]\n"
     ]
    },
    {
     "data": {
      "text/plain": [
       "array([[0, 0, 0, 0, 0, 0, 0, 0, 0],\n",
       "       [0, 0, 1, 2, 3, 0, 0, 0, 0],\n",
       "       [0, 0, 4, 5, 6, 0, 0, 0, 0],\n",
       "       [0, 0, 0, 0, 0, 0, 0, 0, 0],\n",
       "       [0, 0, 0, 0, 0, 0, 0, 0, 0],\n",
       "       [0, 0, 0, 0, 0, 0, 0, 0, 0]])"
      ]
     },
     "execution_count": 36,
     "metadata": {},
     "output_type": "execute_result"
    }
   ],
   "source": [
    "# pad\n",
    "print(A)\n",
    "# pad axis 0 with 1 before and 3 after, axis 2 with 2 before and 4 after\n",
    "np.pad(A, ((1,3), (2,4)))"
   ]
  },
  {
   "cell_type": "code",
   "execution_count": 37,
   "id": "6d7322ed-f1d0-435b-ac75-8ef249ee3b97",
   "metadata": {
    "id": "6d7322ed-f1d0-435b-ac75-8ef249ee3b97",
    "outputId": "f59de8ae-d89d-4b4e-9ca0-d8c4c7001336"
   },
   "outputs": [
    {
     "data": {
      "text/plain": [
       "array([[nan, nan, nan, nan, nan, nan, nan, nan, nan],\n",
       "       [nan, nan,  1.,  2.,  3., nan, nan, nan, nan],\n",
       "       [nan, nan,  4.,  5.,  6., nan, nan, nan, nan],\n",
       "       [nan, nan, nan, nan, nan, nan, nan, nan, nan],\n",
       "       [nan, nan, nan, nan, nan, nan, nan, nan, nan],\n",
       "       [nan, nan, nan, nan, nan, nan, nan, nan, nan]])"
      ]
     },
     "execution_count": 37,
     "metadata": {},
     "output_type": "execute_result"
    }
   ],
   "source": [
    "# pad axis 0 with 1 before and 3 after, axis 2 with 2 before and 4 after\n",
    "np.pad(A.astype(float), ((1,3), (2,4)), mode = 'constant', constant_values = np.nan)"
   ]
  },
  {
   "cell_type": "code",
   "execution_count": 38,
   "id": "d27158ad-6e67-4c05-b9f1-5e02fc1ff6af",
   "metadata": {
    "id": "d27158ad-6e67-4c05-b9f1-5e02fc1ff6af",
    "outputId": "d7183efa-67a6-4444-ee09-05d1e6a888e3"
   },
   "outputs": [
    {
     "data": {
      "text/plain": [
       "array([[  1.,   1.,   1.,  nan,  30.,  30.,  30.,  30.,  30.],\n",
       "       [  1.,   1.,   1.,  nan,  30.,  30.,  30.,  30.,  30.],\n",
       "       [ -4.,  -4.,  -4.,   5., -60., -60., -60., -60., -60.],\n",
       "       [ -4.,  -4.,  -4.,   5., -60., -60., -60., -60., -60.],\n",
       "       [ -4.,  -4.,  -4.,   5., -60., -60., -60., -60., -60.],\n",
       "       [ -4.,  -4.,  -4.,   5., -60., -60., -60., -60., -60.]])"
      ]
     },
     "execution_count": 38,
     "metadata": {},
     "output_type": "execute_result"
    }
   ],
   "source": [
    "A = np.array([[1, np.nan, 30],[-4, 5, -60]])\n",
    "np.pad(A.astype(float), ((1,3), (2,4)), mode = 'edge')"
   ]
  },
  {
   "cell_type": "markdown",
   "id": "8830d61f-3d3d-4950-be8b-27106ae9128f",
   "metadata": {},
   "source": [
    "## Math matrix function"
   ]
  },
  {
   "cell_type": "markdown",
   "id": "89ee46e4-9264-4f7f-862d-f8d625c804e9",
   "metadata": {},
   "source": [
    "### transpose"
   ]
  },
  {
   "cell_type": "code",
   "execution_count": 16,
   "id": "b9b87ed2-a923-4959-a30c-2365b27bc7cb",
   "metadata": {
    "id": "b9b87ed2-a923-4959-a30c-2365b27bc7cb",
    "outputId": "3511f5fc-29bc-4075-e920-1b8dfddc2884",
    "tags": []
   },
   "outputs": [
    {
     "data": {
      "text/plain": [
       "array([[1, 4],\n",
       "       [2, 5],\n",
       "       [3, 6]])"
      ]
     },
     "execution_count": 16,
     "metadata": {},
     "output_type": "execute_result"
    }
   ],
   "source": [
    "# transpose\n",
    "A = np.array([[1, 2, 3],[4, 5, 6]])\n",
    "A.T"
   ]
  },
  {
   "cell_type": "markdown",
   "id": "6399e6cb-58d5-4aab-bde5-21fdccf1087f",
   "metadata": {},
   "source": [
    "### nhân matrix"
   ]
  },
  {
   "cell_type": "code",
   "execution_count": 17,
   "id": "6cd95fb2-acfe-4ed3-88e6-9cf0b469bd49",
   "metadata": {
    "tags": []
   },
   "outputs": [
    {
     "data": {
      "text/plain": [
       "array([[ 1,  4,  9],\n",
       "       [16, 25, 36]])"
      ]
     },
     "execution_count": 17,
     "metadata": {},
     "output_type": "execute_result"
    }
   ],
   "source": [
    "# mũ matrix lên cơ số n\n",
    "np.power(A,2)"
   ]
  },
  {
   "cell_type": "code",
   "execution_count": 18,
   "id": "ab8b9c47-5cc0-4084-ac76-5054bf3907f0",
   "metadata": {
    "tags": []
   },
   "outputs": [
    {
     "data": {
      "text/plain": [
       "array([[    5,     9,    27],\n",
       "       [   16,    32,    64],\n",
       "       [  256,  3125, 46656]])"
      ]
     },
     "execution_count": 18,
     "metadata": {},
     "output_type": "execute_result"
    }
   ],
   "source": [
    "# mũ matrix lên cơ số n\n",
    "A = np.array([[1, 2, 3],[4, 5, 6],[4, 5, 6]])\n",
    "B = np.array([[5, 3, 3],[2, 2, 2],[4, 5, 6]])\n",
    "np.power(B,A)"
   ]
  },
  {
   "cell_type": "code",
   "execution_count": 20,
   "id": "6a2ac893-a99b-4d66-a8c3-c3fa5f4c5cca",
   "metadata": {
    "tags": []
   },
   "outputs": [
    {
     "data": {
      "text/plain": [
       "array([[ 1,  4,  9],\n",
       "       [16, 25, 36]])"
      ]
     },
     "execution_count": 20,
     "metadata": {},
     "output_type": "execute_result"
    }
   ],
   "source": [
    "# multiple matrix - thuc hien nhan cac phan tu ở vị trí giống nhau\n",
    "A = np.array([[1, 2, 3],[4, 5, 6]])\n",
    "A * A"
   ]
  },
  {
   "cell_type": "code",
   "execution_count": 21,
   "id": "b7c81a0f-99a1-4922-8302-3921d76b5710",
   "metadata": {
    "tags": []
   },
   "outputs": [
    {
     "data": {
      "text/plain": [
       "array([[11, 24, 39],\n",
       "       [44, 60, 78]])"
      ]
     },
     "execution_count": 21,
     "metadata": {},
     "output_type": "execute_result"
    }
   ],
   "source": [
    "A = np.array([[1, 2, 3],[4, 5, 6]])\n",
    "B = np.array([[11, 12,13]])\n",
    "A * B"
   ]
  },
  {
   "cell_type": "code",
   "execution_count": 22,
   "id": "8e0a86ef-0f47-4153-9df2-20da318e1dd7",
   "metadata": {
    "tags": []
   },
   "outputs": [
    {
     "data": {
      "text/plain": [
       "array([[ 74],\n",
       "       [182]])"
      ]
     },
     "execution_count": 22,
     "metadata": {},
     "output_type": "execute_result"
    }
   ],
   "source": [
    "# Nhan matrix - This will return dot product 2x3 * 3x1 = 2x1\n",
    "res = np.dot(A,B.T)\n",
    "res"
   ]
  },
  {
   "cell_type": "code",
   "execution_count": 23,
   "id": "8ccbb16a-cc79-4ba8-bb15-161ecabf41a1",
   "metadata": {
    "tags": []
   },
   "outputs": [
    {
     "data": {
      "text/plain": [
       "array([[ 74],\n",
       "       [182]])"
      ]
     },
     "execution_count": 23,
     "metadata": {},
     "output_type": "execute_result"
    }
   ],
   "source": [
    "# or\n",
    "A@B.T"
   ]
  },
  {
   "cell_type": "code",
   "execution_count": 25,
   "id": "2516560e-adf3-4f95-aabc-a375244c4819",
   "metadata": {
    "id": "2516560e-adf3-4f95-aabc-a375244c4819",
    "outputId": "5fc64836-a734-4494-ce2e-6afa7009ac05",
    "tags": []
   },
   "outputs": [
    {
     "data": {
      "text/plain": [
       "-270"
      ]
     },
     "execution_count": 25,
     "metadata": {},
     "output_type": "execute_result"
    }
   ],
   "source": [
    "# 2 vector\n",
    "C = np.array([2,40])\n",
    "D = np.array([5,-7])\n",
    "C@D"
   ]
  },
  {
   "cell_type": "code",
   "execution_count": 26,
   "id": "6880a238-aa33-4503-b66a-cf2056688f52",
   "metadata": {
    "id": "6880a238-aa33-4503-b66a-cf2056688f52",
    "outputId": "fbcda58d-a010-4103-ef68-0468dceadd1b",
    "tags": []
   },
   "outputs": [
    {
     "name": "stdout",
     "output_type": "stream",
     "text": [
      "-0.7836925573198097\n",
      "141.59991698191385\n",
      "344.52285845789686\n"
     ]
    }
   ],
   "source": [
    "# tinh cos goc 2 vector c, d\n",
    "norm_c = np.linalg.norm(C)\n",
    "norm_d = np.linalg.norm(D)\n",
    "cos_cd = C@D / (norm_c * norm_d)\n",
    "\n",
    "# tinh goc\n",
    "radians_cd = np.arccos(cos_cd)\n",
    "degree_cd = np.degrees(radians_cd)\n",
    "\n",
    "# độ lớn\n",
    "magnitude_cd = norm_c * norm_d\n",
    "\n",
    "\n",
    "print(cos_cd)\n",
    "print(degree_cd)\n",
    "print(magnitude_cd)"
   ]
  },
  {
   "cell_type": "code",
   "execution_count": 27,
   "id": "63ca3e45-57b4-43b5-89db-a3f48992ddc6",
   "metadata": {
    "id": "63ca3e45-57b4-43b5-89db-a3f48992ddc6",
    "outputId": "17785ae1-bc7f-42cd-ed38-c4becceee8c7",
    "tags": []
   },
   "outputs": [
    {
     "name": "stdout",
     "output_type": "stream",
     "text": [
      "10.0 20.0 30.0\n"
     ]
    }
   ],
   "source": [
    "# giai he phuong trinh\n",
    "# 3a + 4b + 10c = 410\n",
    "# 6a + 6b + 1c = 210\n",
    "# 2a + 7b + 15c = 610\n",
    "\n",
    "X = np.array([\n",
    "    [3,4,10],\n",
    "    [6,6,1],\n",
    "    [2,7,15],\n",
    "])\n",
    "Y = np.array([\n",
    "    [410],\n",
    "    [210],\n",
    "    [610],\n",
    "])\n",
    "\n",
    "X_inv = np.linalg.inv(X)\n",
    "nghiem = X_inv@Y\n",
    "a,b,c = (nghiem.T[0].round())\n",
    "print(a,b,c)"
   ]
  },
  {
   "cell_type": "code",
   "execution_count": 28,
   "id": "ad8ce17e-ee0a-426a-a392-2b64aa70c22d",
   "metadata": {
    "id": "ad8ce17e-ee0a-426a-a392-2b64aa70c22d",
    "outputId": "fcd96372-76f9-4927-b3fc-b5114f5e2957",
    "tags": []
   },
   "outputs": [
    {
     "data": {
      "text/plain": [
       "True"
      ]
     },
     "execution_count": 28,
     "metadata": {},
     "output_type": "execute_result"
    }
   ],
   "source": [
    "# check 2 matrix co giong nhau hay k ?\n",
    "np.allclose(np.eye(X.shape[0]),X@X_inv)"
   ]
  },
  {
   "cell_type": "markdown",
   "id": "8bc45ef0-e736-473c-84cc-a6ae319fe715",
   "metadata": {},
   "source": [
    "### inverse matrix"
   ]
  },
  {
   "cell_type": "code",
   "execution_count": 19,
   "id": "8a732635-da3a-41e4-974e-5060bbbf59ab",
   "metadata": {
    "tags": []
   },
   "outputs": [
    {
     "name": "stdout",
     "output_type": "stream",
     "text": [
      "[[ 0.33333333  0.33333333]\n",
      " [-0.33333333  0.66666667]]\n"
     ]
    }
   ],
   "source": [
    "A = np.array([[2,-1],[1,1]])\n",
    "B = np.linalg.inv(A)\n",
    "print(B)"
   ]
  },
  {
   "cell_type": "markdown",
   "id": "ae220d30-6118-4426-ba65-0b89846fce0e",
   "metadata": {
    "id": "f78b55d6-4184-4747-86b7-245a7c25baa5"
   },
   "source": [
    "## Eigenvalue - Eigenvector\n",
    "\n",
    "Khi ma trận hiệp phương sai A (thể hiện biến thiên của các biến với nhau) khi chiếu lên chiều mới là u (tức A𝛍) thì kết quả thu được chỉ là tỷ lệ của chiều đó (𝛌𝛍), tức các biến thiên ban đầu có ựu độc lập với nhau theo chiều u và có tỷ lệ độ dài trên chiều u –> thể hiện đầy đủ covariance A. Khi đó: 𝛌 eigen value, 𝛍 eigen vector của A"
   ]
  },
  {
   "cell_type": "code",
   "execution_count": 51,
   "id": "slbqJQZC9iHY",
   "metadata": {
    "id": "slbqJQZC9iHY"
   },
   "outputs": [],
   "source": [
    "import matplotlib.pyplot as plt"
   ]
  },
  {
   "cell_type": "code",
   "execution_count": 52,
   "id": "UVDYmI7z938P",
   "metadata": {
    "colab": {
     "base_uri": "https://localhost:8080/",
     "height": 300
    },
    "executionInfo": {
     "elapsed": 359,
     "status": "ok",
     "timestamp": 1662521016151,
     "user": {
      "displayName": "K55 Khong Tien Dat",
      "userId": "11107351412609001700"
     },
     "user_tz": -420
    },
    "id": "UVDYmI7z938P",
    "outputId": "4df7b72d-2aaf-4779-ff23-b39b2299e8d7"
   },
   "outputs": [
    {
     "data": {
      "image/png": "[encoded data removed]",
      "text/plain": [
       "<Figure size 432x288 with 1 Axes>"
      ]
     },
     "metadata": {
      "needs_background": "light"
     },
     "output_type": "display_data"
    }
   ],
   "source": [
    "arr = np.array([[1,-3,3],[3,-5,3],[6,-6,4]])\n",
    "e,v = np.linalg.eig(arr)\n",
    "\n",
    "for ie, iv in zip(e, v.T): # v.T do vector theo cột, cần T để lấy ra value (CHÚ Ý - VECTOR ở dạng cột)\n",
    "    plt.plot([0,ie * iv[0]], [0, ie * iv[1]], color = 'r', lw = 3)\n",
    "\n",
    "plt.show()"
   ]
  },
  {
   "cell_type": "code",
   "execution_count": 54,
   "id": "f6b7ecb8-4fd9-4806-aa88-6765264da39b",
   "metadata": {
    "id": "f6b7ecb8-4fd9-4806-aa88-6765264da39b",
    "outputId": "aab0516d-9d85-4155-cb0d-f2bbc817ee01"
   },
   "outputs": [
    {
     "data": {
      "image/png": "[encoded data removed]",
      "text/plain": [
       "<Figure size 432x288 with 1 Axes>"
      ]
     },
     "metadata": {
      "needs_background": "light"
     },
     "output_type": "display_data"
    }
   ],
   "source": [
    "CenterPoint = np.array([0,0])\n",
    "CovXY_random = np.array([[0.6, 0.25],[0.25,0.2]])\n",
    "n = 1000\n",
    "Points = np.random.multivariate_normal(CenterPoint, CovXY_random, n).T\n",
    "\n",
    "cov = np.cov(Points)\n",
    "\n",
    "plt.scatter(Points[0,:], Points[1,:], color = 'b', alpha = 0.2)\n",
    "\n",
    "\n",
    "# tim eigenvalue, eigenvector\n",
    "# ie là value của vector, iv là chiều vector\n",
    "e,v = np.linalg.eig(cov)\n",
    "for ie, iv in zip(e, v.T): # v.T do vector theo cột, cần T để lấy ra value (CHÚ Ý - VECTOR ở dạng cột)\n",
    "    plt.plot([0,ie * iv[0]], [0, ie * iv[1]], color = 'r', lw = 3)\n",
    "\n",
    "plt.show()"
   ]
  },
  {
   "cell_type": "markdown",
   "id": "7bfa89f9-052b-4ea8-8515-e595f5dd48b3",
   "metadata": {},
   "source": [
    "## Orthogonality and Orthonarmal Set\n",
    "(trực giao và trực chuẩn)\n",
    "\n",
    "- **1. Trực giao**: Bộ Vector trong không gian V mà từng vector đôi một có tích vô hướng = 0 (vuông góc với nhau)\n",
    "- **2. Trực chuẩn**: Là bộ vector trực giao và độ dài từng vector là vector đơn vị ( độ dài = 1)\n",
    "- **Gram-schmidt**: là proces tìm ra bộ vectỏ trực chuẩn/trực giao từ 1 hệ vector hữu hạn và độc lập tuyến tính\n",
    "    - Việc tìm maxtrix ttrực giao/ trực chuẩn giúp hình thành 1 space mới tốt hơn từ vector đã có\n",
    "    - Tích vô hướng của các vector sau khi xoay/chiếu sẽ không đổi"
   ]
  },
  {
   "cell_type": "code",
   "execution_count": 37,
   "id": "93c15192-7eb8-48b7-be7c-07b304198aae",
   "metadata": {
    "tags": []
   },
   "outputs": [
    {
     "data": {
      "text/plain": [
       "array([[ 0.89442719,  0.4472136 ],\n",
       "       [-0.4472136 ,  0.89442719]])"
      ]
     },
     "execution_count": 37,
     "metadata": {},
     "output_type": "execute_result"
    }
   ],
   "source": [
    "def gs(X, row_vecs=True, norm = True):\n",
    "    if not row_vecs:\n",
    "        X = X.T\n",
    "    Y = X[0:1,:].copy()\n",
    "    for i in range(1, X.shape[0]):\n",
    "        proj = np.diag((X[i,:].dot(Y.T)/np.linalg.norm(Y,axis=1)**2).flat).dot(Y)\n",
    "        Y = np.vstack((Y, X[i,:] - proj.sum(0)))\n",
    "    if norm:\n",
    "        Y = np.diag(1/np.linalg.norm(Y,axis=1)).dot(Y)\n",
    "    if row_vecs:\n",
    "        return Y\n",
    "    else:\n",
    "        return Y.T\n",
    "gs(np.array([[2,1],[3,2]]))"
   ]
  },
  {
   "cell_type": "markdown",
   "id": "ca82a016-cc40-4f71-b592-cbe45c567eab",
   "metadata": {},
   "source": [
    "## Hạng của matrix - low rank factorization\n",
    "\n",
    "- **Span**: Không gian sinh, trong không gian n chiều, span được tạo bởi m vector độc lập tuyến tính (1<=m<=n)\n",
    "- **Rank matrix**: là số vector independent trong matrix đôi một, túc là số vector độc lập tuyến tính biểu diễn được tất các các vector trong matrix\n",
    "    - rank(M) <= Số vector tạo ra matrix M\n",
    "    \n",
    "Với data matrix mxn có rank k, thể hiện k obs đặc trưng (k nhóm) và mỗi obs trong m obs là sự kết hợp tuyến tính của k obs đặc trưng"
   ]
  },
  {
   "cell_type": "code",
   "execution_count": 38,
   "id": "797ec7c8-f738-423b-9b24-08be367753c3",
   "metadata": {
    "tags": []
   },
   "outputs": [
    {
     "data": {
      "text/plain": [
       "3"
      ]
     },
     "execution_count": 38,
     "metadata": {},
     "output_type": "execute_result"
    }
   ],
   "source": [
    "matrixA = np.array([[1, 2, 3, 23],\n",
    "                   [4, 5, 6, 25],\n",
    "                   [7, 8, 9, 28],\n",
    "                   [10, 11, 12, 41]])\n",
    "np.linalg.matrix_rank(matrixA)"
   ]
  },
  {
   "cell_type": "markdown",
   "id": "94d52400-7beb-45af-a677-cc35cfc27efe",
   "metadata": {},
   "source": [
    "### low rank factorization\n",
    "\n",
    "Áp dụng cho bài toán xấp xỉ và gom nhóm, với số $k < rank(A_{m.n})$, ta phân rã $A_{m.n} \\approx W_{m.k} x H_{k.n}$, khi đó tích của 2 matrix mới sẽ  có rank = k, tức k nhóm được gom lại"
   ]
  },
  {
   "cell_type": "markdown",
   "id": "f051b8a8-76bc-4b70-b1cc-826dd9da5dda",
   "metadata": {},
   "source": [
    "# Các loại khoảng cách\n",
    "\n",
    "![](https://miro.medium.com/v2/resize:fit:1200/1*FTVRr_Wqz-3_k6Mk6G4kew.png)\n",
    "\n",
    "**1. Euclidean**\n",
    "- Khoảng cách này ko quan tâm độ dài từng trục mà chỉ quan tâm tới khoảng cách đường chéo\n",
    "\n",
    "**2. Manhattan**\n",
    "- Quan tâm tới sụ sai khác trên từng trục\n",
    "\n",
    "VD: bài toán gom nhóm KH theo `tuổi` và `order`. Nếu sử dụng euclidean thì KH tuổi nhỏ và order lớn có thể cùng nhóm với KH tuổi lớn  và order nhỏ.\n",
    "Nếu sử dụng manhattan thì quan tâm tới distance trên từng feature.\n",
    "\n",
    "Nếu ko rõ được pp xác định k/c phù hợp thì nên sử dụng feature scaling trước.\n",
    "\n",
    "**3. Minkowski**\n",
    "Khoảng cách nhỏ nhất theo 1 hướng nào đó\n",
    "\n",
    "**4. Chebychev**\n",
    "Khoảng cách hình chiếu\n",
    "\n",
    "**5. Cosine**\n",
    "Khoảng cách góc, phù hợp cho các bài toán recommendation system\n",
    "\n",
    "**6. Hamming**\n",
    "Khoảng cách theo mức độ tương đồng, phù hợp với các bài toán NLP"
   ]
  },
  {
   "cell_type": "markdown",
   "id": "f8c30ca3-b6c3-4470-839e-dac65833fd04",
   "metadata": {},
   "source": [
    "# Correlation"
   ]
  },
  {
   "cell_type": "markdown",
   "id": "af784355-cf33-4366-9795-00f2825b2650",
   "metadata": {},
   "source": [
    "## Correlation"
   ]
  },
  {
   "cell_type": "markdown",
   "id": "c1c8bc64-3f5c-4c62-8d90-d19ca37f99dd",
   "metadata": {},
   "source": [
    "### Pearson\n",
    "\n",
    "Tính correlation áp dụng cho dữ liệu linear\n",
    "\n",
    "![](https://editor.analyticsvidhya.com/uploads/39170Formula.JPG)"
   ]
  },
  {
   "cell_type": "code",
   "execution_count": 31,
   "id": "025db9bd-26c8-4ec7-a35a-f7f73701c8be",
   "metadata": {
    "tags": []
   },
   "outputs": [
    {
     "data": {
      "text/plain": [
       "array([39793])"
      ]
     },
     "execution_count": 31,
     "metadata": {},
     "output_type": "execute_result"
    }
   ],
   "source": [
    "# correlation of 2 arrays\n",
    "np.correlate(A, B)"
   ]
  },
  {
   "cell_type": "code",
   "execution_count": 33,
   "id": "fc0f48a5-8f50-45d1-a70d-2fe1e3a3d59d",
   "metadata": {
    "tags": []
   },
   "outputs": [
    {
     "data": {
      "text/plain": [
       "array([[ 1.        ,  0.29815244, -0.19037969],\n",
       "       [ 0.29815244,  1.        , -0.13043545],\n",
       "       [-0.19037969, -0.13043545,  1.        ]])"
      ]
     },
     "execution_count": 33,
     "metadata": {},
     "output_type": "execute_result"
    }
   ],
   "source": [
    "# correlation matrix\n",
    "np.corrcoef(data)"
   ]
  },
  {
   "cell_type": "markdown",
   "id": "95deba2e-dac9-4106-8e9c-5ea99d3323aa",
   "metadata": {},
   "source": [
    "### Spearman\n",
    "\n",
    "Tính correlation theo rank ( tính rank của X trong sample rồi tính corr của các giá trị rank)\n",
    "- Spearman áp dụng trong TH dữ liệu non-linear, hoặc nghi ngờ tính chính xác của dữ liệu (dữ liệu ở dạng xấp xỉ hoặc là output của 1 model khác)"
   ]
  },
  {
   "cell_type": "markdown",
   "id": "a3e460db-e979-4cef-a47d-a96d6c0a0a2d",
   "metadata": {},
   "source": [
    "## Covariance\n",
    "\n",
    "![](https://cdn.educba.com/academy/wp-content/uploads/2019/05/Covariance-Formula.jpg)\n",
    "\n",
    "Covariance thể hiện tương quan của 2 biến, mà không bị giới hạn trong [-1,1] như correlation"
   ]
  },
  {
   "cell_type": "code",
   "execution_count": 30,
   "id": "f8ddeed0-96a6-4023-a0a4-37957d98a1b0",
   "metadata": {
    "tags": []
   },
   "outputs": [
    {
     "name": "stdout",
     "output_type": "stream",
     "text": [
      "[[ 530.21264368  157.74712644 -107.91954023]\n",
      " [ 157.74712644  527.95402299  -73.7816092 ]\n",
      " [-107.91954023  -73.7816092   606.05057471]]\n"
     ]
    },
    {
     "data": {
      "text/plain": [
       "<AxesSubplot: >"
      ]
     },
     "execution_count": 30,
     "metadata": {},
     "output_type": "execute_result"
    },
    {
     "data": {
      "image/png": "[encoded data removed]",
      "text/plain": [
       "<Figure size 640x480 with 2 Axes>"
      ]
     },
     "metadata": {},
     "output_type": "display_data"
    }
   ],
   "source": [
    "import seaborn as sn\n",
    "A = [45,37,42,35,39,1,5,55,7,4,7,54,21,12,45,7,8,85,52,42,45,55,12,47,22,23,75,1,45,7]\n",
    "B = [38,31,26,28,33,11,37,32,41,42,73,85,37,12,32,12,77,78,63,47,25,21,2,66,55,45,45,32,1,3]\n",
    "C = [10,15,17,21,12,44,23,3,35,34,63,36,52,25,75,57,41,42,43,36,26,52,86,68,69,72,27,17,82,93]\n",
    "\n",
    "data = np.array([A,B,C])\n",
    "covMatrix1 = np.cov(data,bias=False)\n",
    "\n",
    "print(covMatrix1)\n",
    "sn.heatmap(covMatrix1, annot=True, fmt='g')\n",
    "# plt.show()"
   ]
  }
 ],
 "metadata": {
  "kernelspec": {
   "display_name": "Python 3 (ipykernel)",
   "language": "python",
   "name": "python3"
  },
  "language_info": {
   "codemirror_mode": {
    "name": "ipython",
    "version": 3
   },
   "file_extension": ".py",
   "mimetype": "text/x-python",
   "name": "python",
   "nbconvert_exporter": "python",
   "pygments_lexer": "ipython3",
   "version": "3.10.6"
  }
 },
 "nbformat": 4,
 "nbformat_minor": 5
}
