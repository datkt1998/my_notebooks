{
 "cells": [
  {
   "cell_type": "markdown",
   "id": "b710bc67-a019-4298-a4bb-5593892239c4",
   "metadata": {},
   "source": [
    "# Graph theory"
   ]
  },
  {
   "cell_type": "code",
   "execution_count": null,
   "id": "a3f8051a-ff04-4bc4-933b-6f9ec83248c5",
   "metadata": {},
   "outputs": [],
   "source": []
  }
 ],
 "metadata": {
  "kernelspec": {
   "display_name": "Python 3 (ipykernel)",
   "language": "python",
   "name": "python3"
  },
  "language_info": {
   "codemirror_mode": {
    "name": "ipython",
    "version": 3
   },
   "file_extension": ".py",
   "mimetype": "text/x-python",
   "name": "python",
   "nbconvert_exporter": "python",
   "pygments_lexer": "ipython3",
   "version": "3.10.6"
  }
 },
 "nbformat": 4,
 "nbformat_minor": 5
}
