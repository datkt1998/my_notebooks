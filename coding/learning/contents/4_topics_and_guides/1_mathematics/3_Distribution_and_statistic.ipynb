{
 "cells": [
  {
   "cell_type": "markdown",
   "id": "cecad078-52ba-403a-910f-bdde33eb89a1",
   "metadata": {},
   "source": [
    "# Distribution and statistics\n",
    "\n",
    "EDA là quá trình phân tích dữ liệu để hình dung được dữ liệu, hiểu được các khía cạnh khác nhau của dữ liệu, từ đó đưa ra được các giải pháp và hướng triển khai phù hợp\n",
    "\n",
    "**1. Thống kê mô tả**\n",
    "- Tính toán các estimator của sample: mean, median, mode, variance, std, range, min, max, missing ratiom, unique ratio, skewness, kurtois, distribution, correlation,...\n",
    "\n",
    "**2. Thống kê suy luận**\n",
    "- Sử dụng các kiểm định giả thuyết để kiểm tra tính đại diện của sample, hoặc so sánh giữa các sample"
   ]
  },
  {
   "cell_type": "markdown",
   "id": "8233adc3-f2af-4a9c-8d49-bc5195404015",
   "metadata": {},
   "source": [
    "# Description statistics "
   ]
  },
  {
   "cell_type": "code",
   "execution_count": null,
   "id": "9e1f5786-0a84-447a-9fba-584de4b50e1a",
   "metadata": {},
   "outputs": [],
   "source": []
  }
 ],
 "metadata": {
  "kernelspec": {
   "display_name": "Python 3 (ipykernel)",
   "language": "python",
   "name": "python3"
  },
  "language_info": {
   "codemirror_mode": {
    "name": "ipython",
    "version": 3
   },
   "file_extension": ".py",
   "mimetype": "text/x-python",
   "name": "python",
   "nbconvert_exporter": "python",
   "pygments_lexer": "ipython3",
   "version": "3.10.6"
  }
 },
 "nbformat": 4,
 "nbformat_minor": 5
}
