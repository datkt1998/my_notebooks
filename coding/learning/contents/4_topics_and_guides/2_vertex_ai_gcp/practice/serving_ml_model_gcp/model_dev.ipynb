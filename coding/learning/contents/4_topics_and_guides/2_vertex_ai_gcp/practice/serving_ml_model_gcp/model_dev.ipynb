{
 "cells": [
  {
   "cell_type": "markdown",
   "metadata": {},
   "source": [
    "# Serve model deploy to vertex AI"
   ]
  },
  {
   "cell_type": "code",
   "execution_count": 1,
   "metadata": {},
   "outputs": [
    {
     "name": "stdout",
     "output_type": "stream",
     "text": [
      "Đã xóa toàn bộ cache trong: C:\\Users\\datkt/.cache/huggingface/hub\n"
     ]
    }
   ],
   "source": [
    "import os\n",
    "import shutil\n",
    "\n",
    "# Lấy đường dẫn tới thư mục cache của Hugging Face\n",
    "cache_dir = os.path.expanduser(\"~/.cache/huggingface/hub\")\n",
    "\n",
    "# Xóa toàn bộ cache mô hình đã tải\n",
    "if os.path.exists(cache_dir):\n",
    "    shutil.rmtree(cache_dir)\n",
    "    print(f\"Đã xóa toàn bộ cache trong: {cache_dir}\")\n",
    "else:\n",
    "    print(f\"Thư mục cache không tồn tại: {cache_dir}\")\n"
   ]
  },
  {
   "cell_type": "markdown",
   "metadata": {},
   "source": [
    "**Setup environment**"
   ]
  },
  {
   "cell_type": "code",
   "execution_count": null,
   "metadata": {},
   "outputs": [],
   "source": [
    "%%writefile requirements.txt\n",
    "\n",
    "uvicorn[standard]==0.20.0\n",
    "gunicorn==23.0.0\n",
    "fastapi[all]==0.88.0\n",
    "pydantic==1.10.18"
   ]
  },
  {
   "cell_type": "code",
   "execution_count": 3,
   "metadata": {},
   "outputs": [
    {
     "name": "stderr",
     "output_type": "stream",
     "text": [
      "'.venv' is not recognized as an internal or external command,\n",
      "operable program or batch file.\n"
     ]
    },
    {
     "name": "stdout",
     "output_type": "stream",
     "text": [
      "Requirement already satisfied: pip in c:\\users\\datkt\\appdata\\local\\miniconda3\\lib\\site-packages (24.2)\n",
      "Collecting uvicorn==0.20.0 (from uvicorn[standard]==0.20.0->-r ./requirements.txt (line 1))"
     ]
    },
    {
     "name": "stderr",
     "output_type": "stream",
     "text": [
      "ERROR: pip's dependency resolver does not currently take into account all the packages that are installed. This behaviour is the source of the following dependency conflicts.\n",
      "pandantic 0.3.0 requires pydantic<3.0.0,>=2.0.0, but you have pydantic 1.10.18 which is incompatible.\n"
     ]
    },
    {
     "name": "stdout",
     "output_type": "stream",
     "text": [
      "\n",
      "  Downloading uvicorn-0.20.0-py3-none-any.whl.metadata (6.2 kB)\n",
      "Collecting gunicorn==23.0.0 (from -r ./requirements.txt (line 2))\n",
      "  Downloading gunicorn-23.0.0-py3-none-any.whl.metadata (4.4 kB)\n",
      "Collecting fastapi==0.88.0 (from fastapi[all]==0.88.0->-r ./requirements.txt (line 3))\n",
      "  Downloading fastapi-0.88.0-py3-none-any.whl.metadata (24 kB)\n",
      "Requirement already satisfied: pydantic in c:\\users\\datkt\\appdata\\local\\miniconda3\\lib\\site-packages (from -r ./requirements.txt (line 4)) (2.7.4)\n",
      "Requirement already satisfied: click>=7.0 in c:\\users\\datkt\\appdata\\local\\miniconda3\\lib\\site-packages (from uvicorn==0.20.0->uvicorn[standard]==0.20.0->-r ./requirements.txt (line 1)) (8.1.7)\n",
      "Requirement already satisfied: h11>=0.8 in c:\\users\\datkt\\appdata\\local\\miniconda3\\lib\\site-packages (from uvicorn==0.20.0->uvicorn[standard]==0.20.0->-r ./requirements.txt (line 1)) (0.14.0)\n",
      "Requirement already satisfied: packaging in c:\\users\\datkt\\appdata\\local\\miniconda3\\lib\\site-packages (from gunicorn==23.0.0->-r ./requirements.txt (line 2)) (23.2)\n",
      "Collecting pydantic (from -r ./requirements.txt (line 4))\n",
      "  Downloading pydantic-1.10.18-cp311-cp311-win_amd64.whl.metadata (153 kB)\n",
      "Collecting starlette==0.22.0 (from fastapi==0.88.0->fastapi[all]==0.88.0->-r ./requirements.txt (line 3))\n",
      "  Downloading starlette-0.22.0-py3-none-any.whl.metadata (5.8 kB)\n",
      "Requirement already satisfied: email-validator>=1.1.1 in c:\\users\\datkt\\appdata\\local\\miniconda3\\lib\\site-packages (from fastapi[all]==0.88.0->-r ./requirements.txt (line 3)) (2.2.0)\n",
      "Requirement already satisfied: httpx>=0.23.0 in c:\\users\\datkt\\appdata\\local\\miniconda3\\lib\\site-packages (from fastapi[all]==0.88.0->-r ./requirements.txt (line 3)) (0.27.0)\n",
      "Requirement already satisfied: itsdangerous>=1.1.0 in c:\\users\\datkt\\appdata\\local\\miniconda3\\lib\\site-packages (from fastapi[all]==0.88.0->-r ./requirements.txt (line 3)) (2.2.0)\n",
      "Requirement already satisfied: jinja2>=2.11.2 in c:\\users\\datkt\\appdata\\local\\miniconda3\\lib\\site-packages (from fastapi[all]==0.88.0->-r ./requirements.txt (line 3)) (3.1.4)\n",
      "Collecting orjson>=3.2.1 (from fastapi[all]==0.88.0->-r ./requirements.txt (line 3))\n",
      "  Downloading orjson-3.10.7-cp311-none-win_amd64.whl.metadata (51 kB)\n",
      "Requirement already satisfied: python-multipart>=0.0.5 in c:\\users\\datkt\\appdata\\local\\miniconda3\\lib\\site-packages (from fastapi[all]==0.88.0->-r ./requirements.txt (line 3)) (0.0.12)\n",
      "Requirement already satisfied: pyyaml>=5.3.1 in c:\\users\\datkt\\appdata\\local\\miniconda3\\lib\\site-packages (from fastapi[all]==0.88.0->-r ./requirements.txt (line 3)) (6.0.1)\n",
      "Collecting ujson!=4.0.2,!=4.1.0,!=4.2.0,!=4.3.0,!=5.0.0,!=5.1.0,>=4.0.1 (from fastapi[all]==0.88.0->-r ./requirements.txt (line 3))\n",
      "  Downloading ujson-5.10.0-cp311-cp311-win_amd64.whl.metadata (9.5 kB)\n",
      "Requirement already satisfied: colorama>=0.4 in c:\\users\\datkt\\appdata\\local\\miniconda3\\lib\\site-packages (from uvicorn[standard]==0.20.0->-r ./requirements.txt (line 1)) (0.4.6)\n",
      "Requirement already satisfied: httptools>=0.5.0 in c:\\users\\datkt\\appdata\\local\\miniconda3\\lib\\site-packages (from uvicorn[standard]==0.20.0->-r ./requirements.txt (line 1)) (0.6.1)\n",
      "Requirement already satisfied: python-dotenv>=0.13 in c:\\users\\datkt\\appdata\\local\\miniconda3\\lib\\site-packages (from uvicorn[standard]==0.20.0->-r ./requirements.txt (line 1)) (1.0.1)\n",
      "Requirement already satisfied: watchfiles>=0.13 in c:\\users\\datkt\\appdata\\local\\miniconda3\\lib\\site-packages (from uvicorn[standard]==0.20.0->-r ./requirements.txt (line 1)) (0.24.0)\n",
      "Requirement already satisfied: websockets>=10.4 in c:\\users\\datkt\\appdata\\local\\miniconda3\\lib\\site-packages (from uvicorn[standard]==0.20.0->-r ./requirements.txt (line 1)) (13.1)\n",
      "Requirement already satisfied: anyio<5,>=3.4.0 in c:\\users\\datkt\\appdata\\local\\miniconda3\\lib\\site-packages (from starlette==0.22.0->fastapi==0.88.0->fastapi[all]==0.88.0->-r ./requirements.txt (line 3)) (4.4.0)\n",
      "Requirement already satisfied: typing-extensions>=4.2.0 in c:\\users\\datkt\\appdata\\local\\miniconda3\\lib\\site-packages (from pydantic->-r ./requirements.txt (line 4)) (4.12.2)\n",
      "Requirement already satisfied: dnspython>=2.0.0 in c:\\users\\datkt\\appdata\\local\\miniconda3\\lib\\site-packages (from email-validator>=1.1.1->fastapi[all]==0.88.0->-r ./requirements.txt (line 3)) (2.6.1)\n",
      "Requirement already satisfied: idna>=2.0.0 in c:\\users\\datkt\\appdata\\local\\miniconda3\\lib\\site-packages (from email-validator>=1.1.1->fastapi[all]==0.88.0->-r ./requirements.txt (line 3)) (3.7)\n",
      "Requirement already satisfied: certifi in c:\\users\\datkt\\appdata\\local\\miniconda3\\lib\\site-packages (from httpx>=0.23.0->fastapi[all]==0.88.0->-r ./requirements.txt (line 3)) (2024.6.2)\n",
      "Requirement already satisfied: httpcore==1.* in c:\\users\\datkt\\appdata\\local\\miniconda3\\lib\\site-packages (from httpx>=0.23.0->fastapi[all]==0.88.0->-r ./requirements.txt (line 3)) (1.0.5)\n",
      "Requirement already satisfied: sniffio in c:\\users\\datkt\\appdata\\local\\miniconda3\\lib\\site-packages (from httpx>=0.23.0->fastapi[all]==0.88.0->-r ./requirements.txt (line 3)) (1.3.1)\n",
      "Requirement already satisfied: MarkupSafe>=2.0 in c:\\users\\datkt\\appdata\\local\\miniconda3\\lib\\site-packages (from jinja2>=2.11.2->fastapi[all]==0.88.0->-r ./requirements.txt (line 3)) (2.1.5)\n",
      "Downloading uvicorn-0.20.0-py3-none-any.whl (56 kB)\n",
      "Downloading gunicorn-23.0.0-py3-none-any.whl (85 kB)\n",
      "Downloading fastapi-0.88.0-py3-none-any.whl (55 kB)\n",
      "Downloading starlette-0.22.0-py3-none-any.whl (64 kB)\n",
      "Downloading pydantic-1.10.18-cp311-cp311-win_amd64.whl (2.1 MB)\n",
      "   ---------------------------------------- 0.0/2.1 MB ? eta -:--:--\n",
      "   ---------------------------------------- 2.1/2.1 MB 19.7 MB/s eta 0:00:00\n",
      "Downloading orjson-3.10.7-cp311-none-win_amd64.whl (137 kB)\n",
      "Downloading ujson-5.10.0-cp311-cp311-win_amd64.whl (42 kB)\n",
      "Installing collected packages: ujson, pydantic, orjson, gunicorn, uvicorn, starlette, fastapi\n",
      "  Attempting uninstall: pydantic\n",
      "    Found existing installation: pydantic 2.7.4\n",
      "    Uninstalling pydantic-2.7.4:\n",
      "      Successfully uninstalled pydantic-2.7.4\n",
      "  Attempting uninstall: uvicorn\n",
      "    Found existing installation: uvicorn 0.30.6\n",
      "    Uninstalling uvicorn-0.30.6:\n",
      "      Successfully uninstalled uvicorn-0.30.6\n",
      "  Attempting uninstall: starlette\n",
      "    Found existing installation: starlette 0.38.5\n",
      "    Uninstalling starlette-0.38.5:\n",
      "      Successfully uninstalled starlette-0.38.5\n",
      "  Attempting uninstall: fastapi\n",
      "    Found existing installation: fastapi 0.115.0\n",
      "    Uninstalling fastapi-0.115.0:\n",
      "      Successfully uninstalled fastapi-0.115.0\n",
      "Successfully installed fastapi-0.88.0 gunicorn-23.0.0 orjson-3.10.7 pydantic-1.10.18 starlette-0.22.0 ujson-5.10.0 uvicorn-0.20.0\n"
     ]
    }
   ],
   "source": [
    "!python -m venv .venv\n",
    "!.venv\\Scripts\\activate\n",
    "!conda deactivate\n",
    "!python -m pip install --upgrade pip\n",
    "!pip install --no-cache-dir -r ./requirements.txtm"
   ]
  },
  {
   "cell_type": "markdown",
   "metadata": {},
   "source": [
    "**Build example model with FastAPI**"
   ]
  },
  {
   "cell_type": "code",
   "execution_count": 1,
   "metadata": {},
   "outputs": [
    {
     "name": "stdout",
     "output_type": "stream",
     "text": [
      "Overwriting main.py\n"
     ]
    }
   ],
   "source": [
    "%%writefile main.py\n",
    "\n",
    "import random\n",
    "from typing import List, Optional\n",
    "\n",
    "import uvicorn  # noqa: F401\n",
    "from fastapi import FastAPI, Request\n",
    "from pydantic import BaseModel\n",
    "\n",
    "# Initialize FastAPI app\n",
    "app = FastAPI(title=\"Sentiment Analysis API\")\n",
    "\n",
    "\n",
    "# Pydantic models for prediction results\n",
    "class Prediction(BaseModel):\n",
    "    sentiment: str\n",
    "    confidence: Optional[float]\n",
    "\n",
    "\n",
    "class Predictions(BaseModel):\n",
    "    predictions: List[Prediction]\n",
    "\n",
    "\n",
    "def get_prediction(instances):\n",
    "    res = []\n",
    "    for text in instances:\n",
    "        if len(text) > 30:\n",
    "            res.append(\n",
    "                Prediction(\n",
    "                    sentiment=\"Tích cực\",\n",
    "                    confidence=random.randrange(80, 100, step=2) / 10,\n",
    "                )\n",
    "            )\n",
    "        elif len(text) > 10:\n",
    "            res.append(\n",
    "                Prediction(\n",
    "                    sentiment=\"Tiêu cực\",\n",
    "                    confidence=random.randrange(80, 100, step=2) / 10,\n",
    "                )\n",
    "            )\n",
    "        else:\n",
    "            res.append(\n",
    "                Prediction(\n",
    "                    sentiment=\"Trung lập\",\n",
    "                    confidence=random.randrange(80, 100, step=2) / 10,\n",
    "                )\n",
    "            )\n",
    "    return Predictions(predictions=res)\n",
    "\n",
    "\n",
    "# Health check route\n",
    "@app.get(\"/health\", status_code=200)\n",
    "async def health():\n",
    "    return {\"health\": \"ok\"}\n",
    "\n",
    "\n",
    "# Prediction route to handle batch requests\n",
    "@app.post(\n",
    "    \"/predict\",\n",
    "    response_model=Predictions,\n",
    "    response_model_exclude_unset=True,\n",
    ")\n",
    "async def predict(request: Request):\n",
    "    # Extract the JSON body from the request\n",
    "    body = await request.json()\n",
    "\n",
    "    # Extract the instances (texts) from the request\n",
    "    instances = [x[\"text\"] for x in body[\"instances\"]]\n",
    "\n",
    "    output = get_prediction(instances)\n",
    "    # Return the predictions\n",
    "    return output\n",
    "\n",
    "\n",
    "# Main function to run the FastAPI app\n",
    "if __name__ == \"__main__\":\n",
    "    uvicorn.run(\"main:app\", host=\"0.0.0.0\", port=8080)\n"
   ]
  },
  {
   "cell_type": "markdown",
   "metadata": {},
   "source": [
    "**Write dockerfile**"
   ]
  },
  {
   "cell_type": "code",
   "execution_count": 4,
   "metadata": {},
   "outputs": [
    {
     "name": "stdout",
     "output_type": "stream",
     "text": [
      "Overwriting Dockerfile\n"
     ]
    }
   ],
   "source": [
    "%%writefile Dockerfile\n",
    "\n",
    "FROM tiangolo/uvicorn-gunicorn:python3.11-slim\n",
    "\n",
    "WORKDIR /app\n",
    "\n",
    "COPY main.py ./main.py\n",
    "COPY requirements.txt ./requirements.txt\n",
    "\n",
    "RUN pip install --upgrade pip\n",
    "RUN pip install --no-cache-dir -r ./requirements.txt\n",
    "\n",
    "EXPOSE 8080\n",
    "CMD [\"python\", \"main.py\"]"
   ]
  },
  {
   "cell_type": "markdown",
   "metadata": {},
   "source": [
    "**Build docker image**"
   ]
  },
  {
   "cell_type": "code",
   "execution_count": null,
   "metadata": {},
   "outputs": [],
   "source": [
    "!docker build -t asia-southeast1-docker.pkg.dev/ext-pinetree-dw/dev-aiml-model/sentiment-fast-api ."
   ]
  },
  {
   "cell_type": "code",
   "execution_count": null,
   "metadata": {},
   "outputs": [],
   "source": [
    "!gcloud ai models upload \\\n",
    "  --container-ports=80 \\\n",
    "  --container-predict-route=\"/predict\" \\\n",
    "  --container-health-route=\"/health\" \\\n",
    "  --region=asia-southeast1 \\\n",
    "  --display-name=sentiment-fast-api \\\n",
    "  --container-image-uri=gcr.io/sascha-playground-doit/sentiment-fast-api"
   ]
  },
  {
   "cell_type": "code",
   "execution_count": null,
   "metadata": {},
   "outputs": [],
   "source": [
    "!gcloud ai endpoints create \\\n",
    "  --project=ext-pinetree-dw \\\n",
    "  --region=us-central1 \\\n",
    "  --display-name=sentiment-fast-api-test"
   ]
  },
  {
   "cell_type": "code",
   "execution_count": null,
   "metadata": {},
   "outputs": [],
   "source": []
  },
  {
   "cell_type": "code",
   "execution_count": 5,
   "metadata": {},
   "outputs": [],
   "source": [
    "from google.cloud import aiplatform\n",
    "\n",
    "project = 'ext-pinetree-dw'\n",
    "location = 'asia-southeast1'\n",
    "\n",
    "aiplatform.init(project=project,\n",
    "                location=location)"
   ]
  },
  {
   "cell_type": "code",
   "execution_count": 8,
   "metadata": {},
   "outputs": [
    {
     "name": "stdout",
     "output_type": "stream",
     "text": [
      "Prediction(predictions=[{'sentiment': 'Tiêu cực', 'confidence': 8.0}, {'sentiment': 'Tích cực', 'confidence': 8.6}], deployed_model_id='8408136941417005056', metadata=None, model_version_id='1', model_resource_name='projects/723874410918/locations/asia-southeast1/models/sentiment-fast-api-test', explanations=None)\n"
     ]
    }
   ],
   "source": [
    "instances = [\n",
    "      {\n",
    "         \"text\":\"DoiT is a great company.\"\n",
    "      },\n",
    "      {\n",
    "         \"text\":\"The beach was nice but overall the hotel was very bad.\"\n",
    "      }\n",
    "   ]\n",
    "\n",
    "\n",
    "endpoint = aiplatform.Endpoint(\"projects/723874410918/locations/asia-southeast1/endpoints/4126673847229349888\")\n",
    "\n",
    "prediction = endpoint.predict(instances=instances)\n",
    "print(prediction)"
   ]
  },
  {
   "cell_type": "code",
   "execution_count": null,
   "metadata": {},
   "outputs": [],
   "source": []
  },
  {
   "cell_type": "code",
   "execution_count": 24,
   "metadata": {},
   "outputs": [
    {
     "name": "stdout",
     "output_type": "stream",
     "text": [
      "Overwriting cloudbuild.yaml\n"
     ]
    }
   ],
   "source": [
    "%%writefile cloudbuild.yaml\n",
    "steps:\n",
    "# Download the model to embed it into the image\n",
    "# - name: 'gcr.io/cloud-builders/gsutil'\n",
    "#   args: ['cp', '-r', 'gs://dev-joyas-recommendation/models/sentiment', '.']\n",
    "#   id: 'download-model'\n",
    "\n",
    "# Build the container image\n",
    "- name: 'gcr.io/cloud-builders/docker'\n",
    "  args: ['build', '-t', 'asia-southeast1-docker.pkg.dev/joyas-vietnam/dev-aiml-model/sentiment-fast-api', '.']\n",
    "  # waitFor: ['download-model']\n",
    "\n",
    "# Push the container image to Artifact Registry\n",
    "- name: 'gcr.io/cloud-builders/docker'\n",
    "  args: ['push', 'asia-southeast1-docker.pkg.dev/joyas-vietnam/dev-aiml-model/sentiment-fast-api']\n",
    "\n",
    "images:\n",
    "- asia-southeast1-docker.pkg.dev/joyas-vietnam/dev-aiml-model/sentiment-fast-api"
   ]
  },
  {
   "cell_type": "code",
   "execution_count": 19,
   "metadata": {},
   "outputs": [
    {
     "name": "stderr",
     "output_type": "stream",
     "text": [
      "Create request issued for: [dev-aiml-model]\n",
      "Waiting for operation [projects/joyas-vietnam/locations/asia-southeast1/operations/c10a00b3-2f8b-45bf-b923-45e42675f358] to complete...\n",
      ".................done.\n",
      "Created repository [dev-aiml-model].\n"
     ]
    }
   ],
   "source": [
    "!gcloud artifacts repositories create dev-aiml-model \\\n",
    "  --repository-format=docker \\\n",
    "  --location=asia-southeast1 \\\n",
    "  --description=\"My Docker repository\""
   ]
  },
  {
   "cell_type": "code",
   "execution_count": 25,
   "metadata": {},
   "outputs": [
    {
     "name": "stdout",
     "output_type": "stream",
     "text": [
      "^C\n"
     ]
    }
   ],
   "source": [
    "!gcloud builds submit --config cloudbuild.yaml ."
   ]
  },
  {
   "cell_type": "code",
   "execution_count": 26,
   "metadata": {},
   "outputs": [
    {
     "name": "stderr",
     "output_type": "stream",
     "text": [
      "#0 building with \"desktop-linux\" instance using docker driver\n",
      "\n",
      "#1 [internal] load build definition from Dockerfile\n",
      "#1 transferring dockerfile: 278B 0.0s done\n",
      "#1 DONE 0.0s\n",
      "\n",
      "#2 [internal] load metadata for docker.io/tiangolo/uvicorn-gunicorn-fastapi:python3.8-slim\n",
      "#2 ...\n",
      "\n",
      "#3 [auth] tiangolo/uvicorn-gunicorn-fastapi:pull token for registry-1.docker.io\n",
      "#3 DONE 0.0s\n",
      "\n",
      "#2 [internal] load metadata for docker.io/tiangolo/uvicorn-gunicorn-fastapi:python3.8-slim\n",
      "#2 DONE 2.2s\n",
      "\n",
      "#4 [internal] load .dockerignore\n",
      "#4 transferring context: 2B done\n",
      "#4 DONE 0.0s\n",
      "\n",
      "#5 [1/5] FROM docker.io/tiangolo/uvicorn-gunicorn-fastapi:python3.8-slim@sha256:cce370ade672f3bfcac80d0c80314fc6b6530d3c623dab384af12da76cd2db6b\n",
      "#5 DONE 0.0s\n",
      "\n",
      "#6 [internal] load build context\n",
      "#6 transferring context: 574B done\n",
      "#6 DONE 0.0s\n",
      "\n",
      "#7 [2/5] COPY main.py ./main.py\n",
      "#7 CACHED\n",
      "\n",
      "#8 [3/5] COPY requirements.txt ./requirements.txt\n",
      "#8 CACHED\n",
      "\n",
      "#9 [4/5] COPY models ./models\n",
      "#9 DONE 5.7s\n",
      "\n",
      "#10 [5/5] RUN pip install --no-cache-dir -r ./requirements.txt\n",
      "#10 4.266 Collecting fastapi==0.115.0\n",
      "#10 4.405   Downloading fastapi-0.115.0-py3-none-any.whl (94 kB)\n",
      "#10 4.444      ━━━━━━━━━━━━━━━━━━━━━━━━━━━━━━━━━━━━━━━━ 94.6/94.6 kB 2.5 MB/s eta 0:00:00\n",
      "#10 5.004 ERROR: Ignored the following versions that require a different python version: 1.25.0 Requires-Python >=3.9; 1.25.1 Requires-Python >=3.9; 1.25.2 Requires-Python >=3.9; 1.26.0 Requires-Python <3.13,>=3.9; 1.26.1 Requires-Python <3.13,>=3.9; 1.26.2 Requires-Python >=3.9; 1.26.3 Requires-Python >=3.9; 1.26.4 Requires-Python >=3.9; 2.0.0 Requires-Python >=3.9; 2.0.1 Requires-Python >=3.9; 2.0.2 Requires-Python >=3.9; 2.1.0 Requires-Python >=3.10; 2.1.0rc1 Requires-Python >=3.10; 2.1.1 Requires-Python >=3.10\n",
      "#10 5.005 ERROR: Could not find a version that satisfies the requirement numpy==1.26.4 (from versions: 1.3.0, 1.4.1, 1.5.0, 1.5.1, 1.6.0, 1.6.1, 1.6.2, 1.7.0, 1.7.1, 1.7.2, 1.8.0, 1.8.1, 1.8.2, 1.9.0, 1.9.1, 1.9.2, 1.9.3, 1.10.0.post2, 1.10.1, 1.10.2, 1.10.4, 1.11.0, 1.11.1, 1.11.2, 1.11.3, 1.12.0, 1.12.1, 1.13.0, 1.13.1, 1.13.3, 1.14.0, 1.14.1, 1.14.2, 1.14.3, 1.14.4, 1.14.5, 1.14.6, 1.15.0, 1.15.1, 1.15.2, 1.15.3, 1.15.4, 1.16.0, 1.16.1, 1.16.2, 1.16.3, 1.16.4, 1.16.5, 1.16.6, 1.17.0, 1.17.1, 1.17.2, 1.17.3, 1.17.4, 1.17.5, 1.18.0, 1.18.1, 1.18.2, 1.18.3, 1.18.4, 1.18.5, 1.19.0, 1.19.1, 1.19.2, 1.19.3, 1.19.4, 1.19.5, 1.20.0, 1.20.1, 1.20.2, 1.20.3, 1.21.0, 1.21.1, 1.21.2, 1.21.3, 1.21.4, 1.21.5, 1.21.6, 1.22.0, 1.22.1, 1.22.2, 1.22.3, 1.22.4, 1.23.0, 1.23.1, 1.23.2, 1.23.3, 1.23.4, 1.23.5, 1.24.0, 1.24.1, 1.24.2, 1.24.3, 1.24.4)\n",
      "#10 5.006 ERROR: No matching distribution found for numpy==1.26.4\n",
      "#10 5.313 \n",
      "#10 5.313 [notice] A new release of pip is available: 23.0.1 -> 24.2\n",
      "#10 5.313 [notice] To update, run: pip install --upgrade pip\n",
      "#10 ERROR: process \"/bin/sh -c pip install --no-cache-dir -r ./requirements.txt\" did not complete successfully: exit code: 1\n",
      "------\n",
      " > [5/5] RUN pip install --no-cache-dir -r ./requirements.txt:\n",
      "4.266 Collecting fastapi==0.115.0\n",
      "4.405   Downloading fastapi-0.115.0-py3-none-any.whl (94 kB)\n",
      "4.444      ━━━━━━━━━━━━━━━━━━━━━━━━━━━━━━━━━━━━━━━━ 94.6/94.6 kB 2.5 MB/s eta 0:00:00\n",
      "5.004 ERROR: Ignored the following versions that require a different python version: 1.25.0 Requires-Python >=3.9; 1.25.1 Requires-Python >=3.9; 1.25.2 Requires-Python >=3.9; 1.26.0 Requires-Python <3.13,>=3.9; 1.26.1 Requires-Python <3.13,>=3.9; 1.26.2 Requires-Python >=3.9; 1.26.3 Requires-Python >=3.9; 1.26.4 Requires-Python >=3.9; 2.0.0 Requires-Python >=3.9; 2.0.1 Requires-Python >=3.9; 2.0.2 Requires-Python >=3.9; 2.1.0 Requires-Python >=3.10; 2.1.0rc1 Requires-Python >=3.10; 2.1.1 Requires-Python >=3.10\n",
      "5.005 ERROR: Could not find a version that satisfies the requirement numpy==1.26.4 (from versions: 1.3.0, 1.4.1, 1.5.0, 1.5.1, 1.6.0, 1.6.1, 1.6.2, 1.7.0, 1.7.1, 1.7.2, 1.8.0, 1.8.1, 1.8.2, 1.9.0, 1.9.1, 1.9.2, 1.9.3, 1.10.0.post2, 1.10.1, 1.10.2, 1.10.4, 1.11.0, 1.11.1, 1.11.2, 1.11.3, 1.12.0, 1.12.1, 1.13.0, 1.13.1, 1.13.3, 1.14.0, 1.14.1, 1.14.2, 1.14.3, 1.14.4, 1.14.5, 1.14.6, 1.15.0, 1.15.1, 1.15.2, 1.15.3, 1.15.4, 1.16.0, 1.16.1, 1.16.2, 1.16.3, 1.16.4, 1.16.5, 1.16.6, 1.17.0, 1.17.1, 1.17.2, 1.17.3, 1.17.4, 1.17.5, 1.18.0, 1.18.1, 1.18.2, 1.18.3, 1.18.4, 1.18.5, 1.19.0, 1.19.1, 1.19.2, 1.19.3, 1.19.4, 1.19.5, 1.20.0, 1.20.1, 1.20.2, 1.20.3, 1.21.0, 1.21.1, 1.21.2, 1.21.3, 1.21.4, 1.21.5, 1.21.6, 1.22.0, 1.22.1, 1.22.2, 1.22.3, 1.22.4, 1.23.0, 1.23.1, 1.23.2, 1.23.3, 1.23.4, 1.23.5, 1.24.0, 1.24.1, 1.24.2, 1.24.3, 1.24.4)\n",
      "5.006 ERROR: No matching distribution found for numpy==1.26.4\n",
      "5.313 \n",
      "5.313 [notice] A new release of pip is available: 23.0.1 -> 24.2\n",
      "5.313 [notice] To update, run: pip install --upgrade pip\n",
      "------\n",
      "Dockerfile:6\n",
      "--------------------\n",
      "   4 |     COPY requirements.txt ./requirements.txt\n",
      "   5 |     COPY models ./models\n",
      "   6 | >>> RUN pip install --no-cache-dir -r ./requirements.txt\n",
      "   7 |     \n",
      "   8 |     EXPOSE 8080\n",
      "--------------------\n",
      "ERROR: failed to solve: process \"/bin/sh -c pip install --no-cache-dir -r ./requirements.txt\" did not complete successfully: exit code: 1\n",
      "\n",
      "View build details: docker-desktop://dashboard/build/desktop-linux/desktop-linux/wwaxbjtwht1okupgtdbzci9l3\n"
     ]
    }
   ],
   "source": [
    "!docker build -t asia-southeast1-docker.pkg.dev/joyas-vietnam/dev-aiml-model/sentiment-fast-api ."
   ]
  }
 ],
 "metadata": {
  "kernelspec": {
   "display_name": "base",
   "language": "python",
   "name": "python3"
  },
  "language_info": {
   "codemirror_mode": {
    "name": "ipython",
    "version": 3
   },
   "file_extension": ".py",
   "mimetype": "text/x-python",
   "name": "python",
   "nbconvert_exporter": "python",
   "pygments_lexer": "ipython3",
   "version": "3.11.9"
  }
 },
 "nbformat": 4,
 "nbformat_minor": 2
}
