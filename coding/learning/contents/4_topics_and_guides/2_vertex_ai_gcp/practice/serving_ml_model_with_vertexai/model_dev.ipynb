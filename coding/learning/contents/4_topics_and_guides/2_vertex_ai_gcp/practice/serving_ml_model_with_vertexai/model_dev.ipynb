{
 "cells": [
  {
   "cell_type": "code",
   "execution_count": 14,
   "metadata": {},
   "outputs": [
    {
     "name": "stdout",
     "output_type": "stream",
     "text": [
      "Đã xóa toàn bộ cache trong: /Users/datkhong/.cache/huggingface/hub\n"
     ]
    }
   ],
   "source": [
    "import os\n",
    "import shutil\n",
    "\n",
    "# Lấy đường dẫn tới thư mục cache của Hugging Face\n",
    "cache_dir = os.path.expanduser(\"~/.cache/huggingface/hub\")\n",
    "\n",
    "# Xóa toàn bộ cache mô hình đã tải\n",
    "if os.path.exists(cache_dir):\n",
    "    shutil.rmtree(cache_dir)\n",
    "    print(f\"Đã xóa toàn bộ cache trong: {cache_dir}\")\n",
    "else:\n",
    "    print(f\"Thư mục cache không tồn tại: {cache_dir}\")\n"
   ]
  },
  {
   "cell_type": "code",
   "execution_count": 15,
   "metadata": {},
   "outputs": [],
   "source": [
    "import os\n",
    "from enum import Enum\n",
    "from typing import List, Optional\n",
    "\n",
    "import numpy as np\n",
    "import tensorflow as tf\n",
    "import uvicorn\n",
    "from fastapi import FastAPI, Request\n",
    "from pydantic import BaseModel\n",
    "from transformers import (\n",
    "    DistilBertTokenizerFast,\n",
    "    TFDistilBertForSequenceClassification,\n",
    ")"
   ]
  },
  {
   "cell_type": "code",
   "execution_count": 31,
   "metadata": {},
   "outputs": [
    {
     "data": {
      "application/vnd.jupyter.widget-view+json": {
       "model_id": "d86c7a73522a4f76b6a3a47197a9c790",
       "version_major": 2,
       "version_minor": 0
      },
      "text/plain": [
       "config.json:   0%|          | 0.00/557 [00:00<?, ?B/s]"
      ]
     },
     "metadata": {},
     "output_type": "display_data"
    },
    {
     "data": {
      "application/vnd.jupyter.widget-view+json": {
       "model_id": "43f4611af7e8409f87e9d3981b6af662",
       "version_major": 2,
       "version_minor": 0
      },
      "text/plain": [
       "vocab.txt:   0%|          | 0.00/895k [00:00<?, ?B/s]"
      ]
     },
     "metadata": {},
     "output_type": "display_data"
    },
    {
     "data": {
      "application/vnd.jupyter.widget-view+json": {
       "model_id": "86e6856d87b24a0bbcb5c577af1b1a60",
       "version_major": 2,
       "version_minor": 0
      },
      "text/plain": [
       "bpe.codes:   0%|          | 0.00/1.14M [00:00<?, ?B/s]"
      ]
     },
     "metadata": {},
     "output_type": "display_data"
    },
    {
     "data": {
      "application/vnd.jupyter.widget-view+json": {
       "model_id": "5939c95b15f94c648d2e60c593f4ea5d",
       "version_major": 2,
       "version_minor": 0
      },
      "text/plain": [
       "tokenizer.json:   0%|          | 0.00/3.13M [00:00<?, ?B/s]"
      ]
     },
     "metadata": {},
     "output_type": "display_data"
    },
    {
     "name": "stderr",
     "output_type": "stream",
     "text": [
      "/Users/datkhong/miniconda3/lib/python3.11/site-packages/transformers/tokenization_utils_base.py:1601: FutureWarning: `clean_up_tokenization_spaces` was not set. It will be set to `True` by default. This behavior will be depracted in transformers v4.45, and will be then set to `False` by default. For more details check this issue: https://github.com/huggingface/transformers/issues/31884\n",
      "  warnings.warn(\n"
     ]
    },
    {
     "data": {
      "application/vnd.jupyter.widget-view+json": {
       "model_id": "0ae58a1e3c8e4d5a8693581a72e1e552",
       "version_major": 2,
       "version_minor": 0
      },
      "text/plain": [
       "config.json:   0%|          | 0.00/551 [00:00<?, ?B/s]"
      ]
     },
     "metadata": {},
     "output_type": "display_data"
    },
    {
     "data": {
      "application/vnd.jupyter.widget-view+json": {
       "model_id": "c6306a610c2743fc820085054aedecfb",
       "version_major": 2,
       "version_minor": 0
      },
      "text/plain": [
       "model.safetensors:   0%|          | 0.00/537M [00:00<?, ?B/s]"
      ]
     },
     "metadata": {},
     "output_type": "display_data"
    },
    {
     "name": "stderr",
     "output_type": "stream",
     "text": [
      "Some weights of IBertForSequenceClassification were not initialized from the model checkpoint at NlpHUST/vibert4news-base-cased and are newly initialized: ['classifier.dense.bias', 'classifier.dense.weight', 'classifier.out_proj.bias', 'classifier.out_proj.weight', 'embeddings.LayerNorm.activation.act_scaling_factor', 'embeddings.LayerNorm.activation.x_max', 'embeddings.LayerNorm.activation.x_min', 'embeddings.LayerNorm.bias', 'embeddings.LayerNorm.shift', 'embeddings.LayerNorm.weight', 'embeddings.embeddings_act1.act_scaling_factor', 'embeddings.embeddings_act1.x_max', 'embeddings.embeddings_act1.x_min', 'embeddings.embeddings_act2.act_scaling_factor', 'embeddings.embeddings_act2.x_max', 'embeddings.embeddings_act2.x_min', 'embeddings.output_activation.act_scaling_factor', 'embeddings.output_activation.x_max', 'embeddings.output_activation.x_min', 'embeddings.position_embeddings.weight', 'embeddings.position_embeddings.weight_integer', 'embeddings.position_embeddings.weight_scaling_factor', 'embeddings.token_type_embeddings.weight', 'embeddings.token_type_embeddings.weight_integer', 'embeddings.token_type_embeddings.weight_scaling_factor', 'embeddings.word_embeddings.weight', 'embeddings.word_embeddings.weight_integer', 'embeddings.word_embeddings.weight_scaling_factor', 'encoder.layer.0.attention.output.LayerNorm.activation.act_scaling_factor', 'encoder.layer.0.attention.output.LayerNorm.activation.x_max', 'encoder.layer.0.attention.output.LayerNorm.activation.x_min', 'encoder.layer.0.attention.output.LayerNorm.bias', 'encoder.layer.0.attention.output.LayerNorm.shift', 'encoder.layer.0.attention.output.LayerNorm.weight', 'encoder.layer.0.attention.output.dense.bias', 'encoder.layer.0.attention.output.dense.bias_integer', 'encoder.layer.0.attention.output.dense.fc_scaling_factor', 'encoder.layer.0.attention.output.dense.weight', 'encoder.layer.0.attention.output.dense.weight_integer', 'encoder.layer.0.attention.output.ln_input_act.act_scaling_factor', 'encoder.layer.0.attention.output.ln_input_act.x_max', 'encoder.layer.0.attention.output.ln_input_act.x_min', 'encoder.layer.0.attention.output.output_activation.act_scaling_factor', 'encoder.layer.0.attention.output.output_activation.x_max', 'encoder.layer.0.attention.output.output_activation.x_min', 'encoder.layer.0.attention.self.key.bias', 'encoder.layer.0.attention.self.key.bias_integer', 'encoder.layer.0.attention.self.key.fc_scaling_factor', 'encoder.layer.0.attention.self.key.weight', 'encoder.layer.0.attention.self.key.weight_integer', 'encoder.layer.0.attention.self.key_activation.act_scaling_factor', 'encoder.layer.0.attention.self.key_activation.x_max', 'encoder.layer.0.attention.self.key_activation.x_min', 'encoder.layer.0.attention.self.output_activation.act_scaling_factor', 'encoder.layer.0.attention.self.output_activation.x_max', 'encoder.layer.0.attention.self.output_activation.x_min', 'encoder.layer.0.attention.self.query.bias', 'encoder.layer.0.attention.self.query.bias_integer', 'encoder.layer.0.attention.self.query.fc_scaling_factor', 'encoder.layer.0.attention.self.query.weight', 'encoder.layer.0.attention.self.query.weight_integer', 'encoder.layer.0.attention.self.query_activation.act_scaling_factor', 'encoder.layer.0.attention.self.query_activation.x_max', 'encoder.layer.0.attention.self.query_activation.x_min', 'encoder.layer.0.attention.self.softmax.act.act_scaling_factor', 'encoder.layer.0.attention.self.softmax.act.x_max', 'encoder.layer.0.attention.self.softmax.act.x_min', 'encoder.layer.0.attention.self.value.bias', 'encoder.layer.0.attention.self.value.bias_integer', 'encoder.layer.0.attention.self.value.fc_scaling_factor', 'encoder.layer.0.attention.self.value.weight', 'encoder.layer.0.attention.self.value.weight_integer', 'encoder.layer.0.attention.self.value_activation.act_scaling_factor', 'encoder.layer.0.attention.self.value_activation.x_max', 'encoder.layer.0.attention.self.value_activation.x_min', 'encoder.layer.0.intermediate.dense.bias', 'encoder.layer.0.intermediate.dense.bias_integer', 'encoder.layer.0.intermediate.dense.fc_scaling_factor', 'encoder.layer.0.intermediate.dense.weight', 'encoder.layer.0.intermediate.dense.weight_integer', 'encoder.layer.0.intermediate.output_activation.act_scaling_factor', 'encoder.layer.0.intermediate.output_activation.x_max', 'encoder.layer.0.intermediate.output_activation.x_min', 'encoder.layer.0.output.LayerNorm.activation.act_scaling_factor', 'encoder.layer.0.output.LayerNorm.activation.x_max', 'encoder.layer.0.output.LayerNorm.activation.x_min', 'encoder.layer.0.output.LayerNorm.bias', 'encoder.layer.0.output.LayerNorm.shift', 'encoder.layer.0.output.LayerNorm.weight', 'encoder.layer.0.output.dense.bias', 'encoder.layer.0.output.dense.bias_integer', 'encoder.layer.0.output.dense.fc_scaling_factor', 'encoder.layer.0.output.dense.weight', 'encoder.layer.0.output.dense.weight_integer', 'encoder.layer.0.output.ln_input_act.act_scaling_factor', 'encoder.layer.0.output.ln_input_act.x_max', 'encoder.layer.0.output.ln_input_act.x_min', 'encoder.layer.0.output.output_activation.act_scaling_factor', 'encoder.layer.0.output.output_activation.x_max', 'encoder.layer.0.output.output_activation.x_min', 'encoder.layer.0.pre_intermediate_act.act_scaling_factor', 'encoder.layer.0.pre_intermediate_act.x_max', 'encoder.layer.0.pre_intermediate_act.x_min', 'encoder.layer.0.pre_output_act.act_scaling_factor', 'encoder.layer.0.pre_output_act.x_max', 'encoder.layer.0.pre_output_act.x_min', 'encoder.layer.1.attention.output.LayerNorm.activation.act_scaling_factor', 'encoder.layer.1.attention.output.LayerNorm.activation.x_max', 'encoder.layer.1.attention.output.LayerNorm.activation.x_min', 'encoder.layer.1.attention.output.LayerNorm.bias', 'encoder.layer.1.attention.output.LayerNorm.shift', 'encoder.layer.1.attention.output.LayerNorm.weight', 'encoder.layer.1.attention.output.dense.bias', 'encoder.layer.1.attention.output.dense.bias_integer', 'encoder.layer.1.attention.output.dense.fc_scaling_factor', 'encoder.layer.1.attention.output.dense.weight', 'encoder.layer.1.attention.output.dense.weight_integer', 'encoder.layer.1.attention.output.ln_input_act.act_scaling_factor', 'encoder.layer.1.attention.output.ln_input_act.x_max', 'encoder.layer.1.attention.output.ln_input_act.x_min', 'encoder.layer.1.attention.output.output_activation.act_scaling_factor', 'encoder.layer.1.attention.output.output_activation.x_max', 'encoder.layer.1.attention.output.output_activation.x_min', 'encoder.layer.1.attention.self.key.bias', 'encoder.layer.1.attention.self.key.bias_integer', 'encoder.layer.1.attention.self.key.fc_scaling_factor', 'encoder.layer.1.attention.self.key.weight', 'encoder.layer.1.attention.self.key.weight_integer', 'encoder.layer.1.attention.self.key_activation.act_scaling_factor', 'encoder.layer.1.attention.self.key_activation.x_max', 'encoder.layer.1.attention.self.key_activation.x_min', 'encoder.layer.1.attention.self.output_activation.act_scaling_factor', 'encoder.layer.1.attention.self.output_activation.x_max', 'encoder.layer.1.attention.self.output_activation.x_min', 'encoder.layer.1.attention.self.query.bias', 'encoder.layer.1.attention.self.query.bias_integer', 'encoder.layer.1.attention.self.query.fc_scaling_factor', 'encoder.layer.1.attention.self.query.weight', 'encoder.layer.1.attention.self.query.weight_integer', 'encoder.layer.1.attention.self.query_activation.act_scaling_factor', 'encoder.layer.1.attention.self.query_activation.x_max', 'encoder.layer.1.attention.self.query_activation.x_min', 'encoder.layer.1.attention.self.softmax.act.act_scaling_factor', 'encoder.layer.1.attention.self.softmax.act.x_max', 'encoder.layer.1.attention.self.softmax.act.x_min', 'encoder.layer.1.attention.self.value.bias', 'encoder.layer.1.attention.self.value.bias_integer', 'encoder.layer.1.attention.self.value.fc_scaling_factor', 'encoder.layer.1.attention.self.value.weight', 'encoder.layer.1.attention.self.value.weight_integer', 'encoder.layer.1.attention.self.value_activation.act_scaling_factor', 'encoder.layer.1.attention.self.value_activation.x_max', 'encoder.layer.1.attention.self.value_activation.x_min', 'encoder.layer.1.intermediate.dense.bias', 'encoder.layer.1.intermediate.dense.bias_integer', 'encoder.layer.1.intermediate.dense.fc_scaling_factor', 'encoder.layer.1.intermediate.dense.weight', 'encoder.layer.1.intermediate.dense.weight_integer', 'encoder.layer.1.intermediate.output_activation.act_scaling_factor', 'encoder.layer.1.intermediate.output_activation.x_max', 'encoder.layer.1.intermediate.output_activation.x_min', 'encoder.layer.1.output.LayerNorm.activation.act_scaling_factor', 'encoder.layer.1.output.LayerNorm.activation.x_max', 'encoder.layer.1.output.LayerNorm.activation.x_min', 'encoder.layer.1.output.LayerNorm.bias', 'encoder.layer.1.output.LayerNorm.shift', 'encoder.layer.1.output.LayerNorm.weight', 'encoder.layer.1.output.dense.bias', 'encoder.layer.1.output.dense.bias_integer', 'encoder.layer.1.output.dense.fc_scaling_factor', 'encoder.layer.1.output.dense.weight', 'encoder.layer.1.output.dense.weight_integer', 'encoder.layer.1.output.ln_input_act.act_scaling_factor', 'encoder.layer.1.output.ln_input_act.x_max', 'encoder.layer.1.output.ln_input_act.x_min', 'encoder.layer.1.output.output_activation.act_scaling_factor', 'encoder.layer.1.output.output_activation.x_max', 'encoder.layer.1.output.output_activation.x_min', 'encoder.layer.1.pre_intermediate_act.act_scaling_factor', 'encoder.layer.1.pre_intermediate_act.x_max', 'encoder.layer.1.pre_intermediate_act.x_min', 'encoder.layer.1.pre_output_act.act_scaling_factor', 'encoder.layer.1.pre_output_act.x_max', 'encoder.layer.1.pre_output_act.x_min', 'encoder.layer.10.attention.output.LayerNorm.activation.act_scaling_factor', 'encoder.layer.10.attention.output.LayerNorm.activation.x_max', 'encoder.layer.10.attention.output.LayerNorm.activation.x_min', 'encoder.layer.10.attention.output.LayerNorm.bias', 'encoder.layer.10.attention.output.LayerNorm.shift', 'encoder.layer.10.attention.output.LayerNorm.weight', 'encoder.layer.10.attention.output.dense.bias', 'encoder.layer.10.attention.output.dense.bias_integer', 'encoder.layer.10.attention.output.dense.fc_scaling_factor', 'encoder.layer.10.attention.output.dense.weight', 'encoder.layer.10.attention.output.dense.weight_integer', 'encoder.layer.10.attention.output.ln_input_act.act_scaling_factor', 'encoder.layer.10.attention.output.ln_input_act.x_max', 'encoder.layer.10.attention.output.ln_input_act.x_min', 'encoder.layer.10.attention.output.output_activation.act_scaling_factor', 'encoder.layer.10.attention.output.output_activation.x_max', 'encoder.layer.10.attention.output.output_activation.x_min', 'encoder.layer.10.attention.self.key.bias', 'encoder.layer.10.attention.self.key.bias_integer', 'encoder.layer.10.attention.self.key.fc_scaling_factor', 'encoder.layer.10.attention.self.key.weight', 'encoder.layer.10.attention.self.key.weight_integer', 'encoder.layer.10.attention.self.key_activation.act_scaling_factor', 'encoder.layer.10.attention.self.key_activation.x_max', 'encoder.layer.10.attention.self.key_activation.x_min', 'encoder.layer.10.attention.self.output_activation.act_scaling_factor', 'encoder.layer.10.attention.self.output_activation.x_max', 'encoder.layer.10.attention.self.output_activation.x_min', 'encoder.layer.10.attention.self.query.bias', 'encoder.layer.10.attention.self.query.bias_integer', 'encoder.layer.10.attention.self.query.fc_scaling_factor', 'encoder.layer.10.attention.self.query.weight', 'encoder.layer.10.attention.self.query.weight_integer', 'encoder.layer.10.attention.self.query_activation.act_scaling_factor', 'encoder.layer.10.attention.self.query_activation.x_max', 'encoder.layer.10.attention.self.query_activation.x_min', 'encoder.layer.10.attention.self.softmax.act.act_scaling_factor', 'encoder.layer.10.attention.self.softmax.act.x_max', 'encoder.layer.10.attention.self.softmax.act.x_min', 'encoder.layer.10.attention.self.value.bias', 'encoder.layer.10.attention.self.value.bias_integer', 'encoder.layer.10.attention.self.value.fc_scaling_factor', 'encoder.layer.10.attention.self.value.weight', 'encoder.layer.10.attention.self.value.weight_integer', 'encoder.layer.10.attention.self.value_activation.act_scaling_factor', 'encoder.layer.10.attention.self.value_activation.x_max', 'encoder.layer.10.attention.self.value_activation.x_min', 'encoder.layer.10.intermediate.dense.bias', 'encoder.layer.10.intermediate.dense.bias_integer', 'encoder.layer.10.intermediate.dense.fc_scaling_factor', 'encoder.layer.10.intermediate.dense.weight', 'encoder.layer.10.intermediate.dense.weight_integer', 'encoder.layer.10.intermediate.output_activation.act_scaling_factor', 'encoder.layer.10.intermediate.output_activation.x_max', 'encoder.layer.10.intermediate.output_activation.x_min', 'encoder.layer.10.output.LayerNorm.activation.act_scaling_factor', 'encoder.layer.10.output.LayerNorm.activation.x_max', 'encoder.layer.10.output.LayerNorm.activation.x_min', 'encoder.layer.10.output.LayerNorm.bias', 'encoder.layer.10.output.LayerNorm.shift', 'encoder.layer.10.output.LayerNorm.weight', 'encoder.layer.10.output.dense.bias', 'encoder.layer.10.output.dense.bias_integer', 'encoder.layer.10.output.dense.fc_scaling_factor', 'encoder.layer.10.output.dense.weight', 'encoder.layer.10.output.dense.weight_integer', 'encoder.layer.10.output.ln_input_act.act_scaling_factor', 'encoder.layer.10.output.ln_input_act.x_max', 'encoder.layer.10.output.ln_input_act.x_min', 'encoder.layer.10.output.output_activation.act_scaling_factor', 'encoder.layer.10.output.output_activation.x_max', 'encoder.layer.10.output.output_activation.x_min', 'encoder.layer.10.pre_intermediate_act.act_scaling_factor', 'encoder.layer.10.pre_intermediate_act.x_max', 'encoder.layer.10.pre_intermediate_act.x_min', 'encoder.layer.10.pre_output_act.act_scaling_factor', 'encoder.layer.10.pre_output_act.x_max', 'encoder.layer.10.pre_output_act.x_min', 'encoder.layer.11.attention.output.LayerNorm.activation.act_scaling_factor', 'encoder.layer.11.attention.output.LayerNorm.activation.x_max', 'encoder.layer.11.attention.output.LayerNorm.activation.x_min', 'encoder.layer.11.attention.output.LayerNorm.bias', 'encoder.layer.11.attention.output.LayerNorm.shift', 'encoder.layer.11.attention.output.LayerNorm.weight', 'encoder.layer.11.attention.output.dense.bias', 'encoder.layer.11.attention.output.dense.bias_integer', 'encoder.layer.11.attention.output.dense.fc_scaling_factor', 'encoder.layer.11.attention.output.dense.weight', 'encoder.layer.11.attention.output.dense.weight_integer', 'encoder.layer.11.attention.output.ln_input_act.act_scaling_factor', 'encoder.layer.11.attention.output.ln_input_act.x_max', 'encoder.layer.11.attention.output.ln_input_act.x_min', 'encoder.layer.11.attention.output.output_activation.act_scaling_factor', 'encoder.layer.11.attention.output.output_activation.x_max', 'encoder.layer.11.attention.output.output_activation.x_min', 'encoder.layer.11.attention.self.key.bias', 'encoder.layer.11.attention.self.key.bias_integer', 'encoder.layer.11.attention.self.key.fc_scaling_factor', 'encoder.layer.11.attention.self.key.weight', 'encoder.layer.11.attention.self.key.weight_integer', 'encoder.layer.11.attention.self.key_activation.act_scaling_factor', 'encoder.layer.11.attention.self.key_activation.x_max', 'encoder.layer.11.attention.self.key_activation.x_min', 'encoder.layer.11.attention.self.output_activation.act_scaling_factor', 'encoder.layer.11.attention.self.output_activation.x_max', 'encoder.layer.11.attention.self.output_activation.x_min', 'encoder.layer.11.attention.self.query.bias', 'encoder.layer.11.attention.self.query.bias_integer', 'encoder.layer.11.attention.self.query.fc_scaling_factor', 'encoder.layer.11.attention.self.query.weight', 'encoder.layer.11.attention.self.query.weight_integer', 'encoder.layer.11.attention.self.query_activation.act_scaling_factor', 'encoder.layer.11.attention.self.query_activation.x_max', 'encoder.layer.11.attention.self.query_activation.x_min', 'encoder.layer.11.attention.self.softmax.act.act_scaling_factor', 'encoder.layer.11.attention.self.softmax.act.x_max', 'encoder.layer.11.attention.self.softmax.act.x_min', 'encoder.layer.11.attention.self.value.bias', 'encoder.layer.11.attention.self.value.bias_integer', 'encoder.layer.11.attention.self.value.fc_scaling_factor', 'encoder.layer.11.attention.self.value.weight', 'encoder.layer.11.attention.self.value.weight_integer', 'encoder.layer.11.attention.self.value_activation.act_scaling_factor', 'encoder.layer.11.attention.self.value_activation.x_max', 'encoder.layer.11.attention.self.value_activation.x_min', 'encoder.layer.11.intermediate.dense.bias', 'encoder.layer.11.intermediate.dense.bias_integer', 'encoder.layer.11.intermediate.dense.fc_scaling_factor', 'encoder.layer.11.intermediate.dense.weight', 'encoder.layer.11.intermediate.dense.weight_integer', 'encoder.layer.11.intermediate.output_activation.act_scaling_factor', 'encoder.layer.11.intermediate.output_activation.x_max', 'encoder.layer.11.intermediate.output_activation.x_min', 'encoder.layer.11.output.LayerNorm.activation.act_scaling_factor', 'encoder.layer.11.output.LayerNorm.activation.x_max', 'encoder.layer.11.output.LayerNorm.activation.x_min', 'encoder.layer.11.output.LayerNorm.bias', 'encoder.layer.11.output.LayerNorm.shift', 'encoder.layer.11.output.LayerNorm.weight', 'encoder.layer.11.output.dense.bias', 'encoder.layer.11.output.dense.bias_integer', 'encoder.layer.11.output.dense.fc_scaling_factor', 'encoder.layer.11.output.dense.weight', 'encoder.layer.11.output.dense.weight_integer', 'encoder.layer.11.output.ln_input_act.act_scaling_factor', 'encoder.layer.11.output.ln_input_act.x_max', 'encoder.layer.11.output.ln_input_act.x_min', 'encoder.layer.11.output.output_activation.act_scaling_factor', 'encoder.layer.11.output.output_activation.x_max', 'encoder.layer.11.output.output_activation.x_min', 'encoder.layer.11.pre_intermediate_act.act_scaling_factor', 'encoder.layer.11.pre_intermediate_act.x_max', 'encoder.layer.11.pre_intermediate_act.x_min', 'encoder.layer.11.pre_output_act.act_scaling_factor', 'encoder.layer.11.pre_output_act.x_max', 'encoder.layer.11.pre_output_act.x_min', 'encoder.layer.2.attention.output.LayerNorm.activation.act_scaling_factor', 'encoder.layer.2.attention.output.LayerNorm.activation.x_max', 'encoder.layer.2.attention.output.LayerNorm.activation.x_min', 'encoder.layer.2.attention.output.LayerNorm.bias', 'encoder.layer.2.attention.output.LayerNorm.shift', 'encoder.layer.2.attention.output.LayerNorm.weight', 'encoder.layer.2.attention.output.dense.bias', 'encoder.layer.2.attention.output.dense.bias_integer', 'encoder.layer.2.attention.output.dense.fc_scaling_factor', 'encoder.layer.2.attention.output.dense.weight', 'encoder.layer.2.attention.output.dense.weight_integer', 'encoder.layer.2.attention.output.ln_input_act.act_scaling_factor', 'encoder.layer.2.attention.output.ln_input_act.x_max', 'encoder.layer.2.attention.output.ln_input_act.x_min', 'encoder.layer.2.attention.output.output_activation.act_scaling_factor', 'encoder.layer.2.attention.output.output_activation.x_max', 'encoder.layer.2.attention.output.output_activation.x_min', 'encoder.layer.2.attention.self.key.bias', 'encoder.layer.2.attention.self.key.bias_integer', 'encoder.layer.2.attention.self.key.fc_scaling_factor', 'encoder.layer.2.attention.self.key.weight', 'encoder.layer.2.attention.self.key.weight_integer', 'encoder.layer.2.attention.self.key_activation.act_scaling_factor', 'encoder.layer.2.attention.self.key_activation.x_max', 'encoder.layer.2.attention.self.key_activation.x_min', 'encoder.layer.2.attention.self.output_activation.act_scaling_factor', 'encoder.layer.2.attention.self.output_activation.x_max', 'encoder.layer.2.attention.self.output_activation.x_min', 'encoder.layer.2.attention.self.query.bias', 'encoder.layer.2.attention.self.query.bias_integer', 'encoder.layer.2.attention.self.query.fc_scaling_factor', 'encoder.layer.2.attention.self.query.weight', 'encoder.layer.2.attention.self.query.weight_integer', 'encoder.layer.2.attention.self.query_activation.act_scaling_factor', 'encoder.layer.2.attention.self.query_activation.x_max', 'encoder.layer.2.attention.self.query_activation.x_min', 'encoder.layer.2.attention.self.softmax.act.act_scaling_factor', 'encoder.layer.2.attention.self.softmax.act.x_max', 'encoder.layer.2.attention.self.softmax.act.x_min', 'encoder.layer.2.attention.self.value.bias', 'encoder.layer.2.attention.self.value.bias_integer', 'encoder.layer.2.attention.self.value.fc_scaling_factor', 'encoder.layer.2.attention.self.value.weight', 'encoder.layer.2.attention.self.value.weight_integer', 'encoder.layer.2.attention.self.value_activation.act_scaling_factor', 'encoder.layer.2.attention.self.value_activation.x_max', 'encoder.layer.2.attention.self.value_activation.x_min', 'encoder.layer.2.intermediate.dense.bias', 'encoder.layer.2.intermediate.dense.bias_integer', 'encoder.layer.2.intermediate.dense.fc_scaling_factor', 'encoder.layer.2.intermediate.dense.weight', 'encoder.layer.2.intermediate.dense.weight_integer', 'encoder.layer.2.intermediate.output_activation.act_scaling_factor', 'encoder.layer.2.intermediate.output_activation.x_max', 'encoder.layer.2.intermediate.output_activation.x_min', 'encoder.layer.2.output.LayerNorm.activation.act_scaling_factor', 'encoder.layer.2.output.LayerNorm.activation.x_max', 'encoder.layer.2.output.LayerNorm.activation.x_min', 'encoder.layer.2.output.LayerNorm.bias', 'encoder.layer.2.output.LayerNorm.shift', 'encoder.layer.2.output.LayerNorm.weight', 'encoder.layer.2.output.dense.bias', 'encoder.layer.2.output.dense.bias_integer', 'encoder.layer.2.output.dense.fc_scaling_factor', 'encoder.layer.2.output.dense.weight', 'encoder.layer.2.output.dense.weight_integer', 'encoder.layer.2.output.ln_input_act.act_scaling_factor', 'encoder.layer.2.output.ln_input_act.x_max', 'encoder.layer.2.output.ln_input_act.x_min', 'encoder.layer.2.output.output_activation.act_scaling_factor', 'encoder.layer.2.output.output_activation.x_max', 'encoder.layer.2.output.output_activation.x_min', 'encoder.layer.2.pre_intermediate_act.act_scaling_factor', 'encoder.layer.2.pre_intermediate_act.x_max', 'encoder.layer.2.pre_intermediate_act.x_min', 'encoder.layer.2.pre_output_act.act_scaling_factor', 'encoder.layer.2.pre_output_act.x_max', 'encoder.layer.2.pre_output_act.x_min', 'encoder.layer.3.attention.output.LayerNorm.activation.act_scaling_factor', 'encoder.layer.3.attention.output.LayerNorm.activation.x_max', 'encoder.layer.3.attention.output.LayerNorm.activation.x_min', 'encoder.layer.3.attention.output.LayerNorm.bias', 'encoder.layer.3.attention.output.LayerNorm.shift', 'encoder.layer.3.attention.output.LayerNorm.weight', 'encoder.layer.3.attention.output.dense.bias', 'encoder.layer.3.attention.output.dense.bias_integer', 'encoder.layer.3.attention.output.dense.fc_scaling_factor', 'encoder.layer.3.attention.output.dense.weight', 'encoder.layer.3.attention.output.dense.weight_integer', 'encoder.layer.3.attention.output.ln_input_act.act_scaling_factor', 'encoder.layer.3.attention.output.ln_input_act.x_max', 'encoder.layer.3.attention.output.ln_input_act.x_min', 'encoder.layer.3.attention.output.output_activation.act_scaling_factor', 'encoder.layer.3.attention.output.output_activation.x_max', 'encoder.layer.3.attention.output.output_activation.x_min', 'encoder.layer.3.attention.self.key.bias', 'encoder.layer.3.attention.self.key.bias_integer', 'encoder.layer.3.attention.self.key.fc_scaling_factor', 'encoder.layer.3.attention.self.key.weight', 'encoder.layer.3.attention.self.key.weight_integer', 'encoder.layer.3.attention.self.key_activation.act_scaling_factor', 'encoder.layer.3.attention.self.key_activation.x_max', 'encoder.layer.3.attention.self.key_activation.x_min', 'encoder.layer.3.attention.self.output_activation.act_scaling_factor', 'encoder.layer.3.attention.self.output_activation.x_max', 'encoder.layer.3.attention.self.output_activation.x_min', 'encoder.layer.3.attention.self.query.bias', 'encoder.layer.3.attention.self.query.bias_integer', 'encoder.layer.3.attention.self.query.fc_scaling_factor', 'encoder.layer.3.attention.self.query.weight', 'encoder.layer.3.attention.self.query.weight_integer', 'encoder.layer.3.attention.self.query_activation.act_scaling_factor', 'encoder.layer.3.attention.self.query_activation.x_max', 'encoder.layer.3.attention.self.query_activation.x_min', 'encoder.layer.3.attention.self.softmax.act.act_scaling_factor', 'encoder.layer.3.attention.self.softmax.act.x_max', 'encoder.layer.3.attention.self.softmax.act.x_min', 'encoder.layer.3.attention.self.value.bias', 'encoder.layer.3.attention.self.value.bias_integer', 'encoder.layer.3.attention.self.value.fc_scaling_factor', 'encoder.layer.3.attention.self.value.weight', 'encoder.layer.3.attention.self.value.weight_integer', 'encoder.layer.3.attention.self.value_activation.act_scaling_factor', 'encoder.layer.3.attention.self.value_activation.x_max', 'encoder.layer.3.attention.self.value_activation.x_min', 'encoder.layer.3.intermediate.dense.bias', 'encoder.layer.3.intermediate.dense.bias_integer', 'encoder.layer.3.intermediate.dense.fc_scaling_factor', 'encoder.layer.3.intermediate.dense.weight', 'encoder.layer.3.intermediate.dense.weight_integer', 'encoder.layer.3.intermediate.output_activation.act_scaling_factor', 'encoder.layer.3.intermediate.output_activation.x_max', 'encoder.layer.3.intermediate.output_activation.x_min', 'encoder.layer.3.output.LayerNorm.activation.act_scaling_factor', 'encoder.layer.3.output.LayerNorm.activation.x_max', 'encoder.layer.3.output.LayerNorm.activation.x_min', 'encoder.layer.3.output.LayerNorm.bias', 'encoder.layer.3.output.LayerNorm.shift', 'encoder.layer.3.output.LayerNorm.weight', 'encoder.layer.3.output.dense.bias', 'encoder.layer.3.output.dense.bias_integer', 'encoder.layer.3.output.dense.fc_scaling_factor', 'encoder.layer.3.output.dense.weight', 'encoder.layer.3.output.dense.weight_integer', 'encoder.layer.3.output.ln_input_act.act_scaling_factor', 'encoder.layer.3.output.ln_input_act.x_max', 'encoder.layer.3.output.ln_input_act.x_min', 'encoder.layer.3.output.output_activation.act_scaling_factor', 'encoder.layer.3.output.output_activation.x_max', 'encoder.layer.3.output.output_activation.x_min', 'encoder.layer.3.pre_intermediate_act.act_scaling_factor', 'encoder.layer.3.pre_intermediate_act.x_max', 'encoder.layer.3.pre_intermediate_act.x_min', 'encoder.layer.3.pre_output_act.act_scaling_factor', 'encoder.layer.3.pre_output_act.x_max', 'encoder.layer.3.pre_output_act.x_min', 'encoder.layer.4.attention.output.LayerNorm.activation.act_scaling_factor', 'encoder.layer.4.attention.output.LayerNorm.activation.x_max', 'encoder.layer.4.attention.output.LayerNorm.activation.x_min', 'encoder.layer.4.attention.output.LayerNorm.bias', 'encoder.layer.4.attention.output.LayerNorm.shift', 'encoder.layer.4.attention.output.LayerNorm.weight', 'encoder.layer.4.attention.output.dense.bias', 'encoder.layer.4.attention.output.dense.bias_integer', 'encoder.layer.4.attention.output.dense.fc_scaling_factor', 'encoder.layer.4.attention.output.dense.weight', 'encoder.layer.4.attention.output.dense.weight_integer', 'encoder.layer.4.attention.output.ln_input_act.act_scaling_factor', 'encoder.layer.4.attention.output.ln_input_act.x_max', 'encoder.layer.4.attention.output.ln_input_act.x_min', 'encoder.layer.4.attention.output.output_activation.act_scaling_factor', 'encoder.layer.4.attention.output.output_activation.x_max', 'encoder.layer.4.attention.output.output_activation.x_min', 'encoder.layer.4.attention.self.key.bias', 'encoder.layer.4.attention.self.key.bias_integer', 'encoder.layer.4.attention.self.key.fc_scaling_factor', 'encoder.layer.4.attention.self.key.weight', 'encoder.layer.4.attention.self.key.weight_integer', 'encoder.layer.4.attention.self.key_activation.act_scaling_factor', 'encoder.layer.4.attention.self.key_activation.x_max', 'encoder.layer.4.attention.self.key_activation.x_min', 'encoder.layer.4.attention.self.output_activation.act_scaling_factor', 'encoder.layer.4.attention.self.output_activation.x_max', 'encoder.layer.4.attention.self.output_activation.x_min', 'encoder.layer.4.attention.self.query.bias', 'encoder.layer.4.attention.self.query.bias_integer', 'encoder.layer.4.attention.self.query.fc_scaling_factor', 'encoder.layer.4.attention.self.query.weight', 'encoder.layer.4.attention.self.query.weight_integer', 'encoder.layer.4.attention.self.query_activation.act_scaling_factor', 'encoder.layer.4.attention.self.query_activation.x_max', 'encoder.layer.4.attention.self.query_activation.x_min', 'encoder.layer.4.attention.self.softmax.act.act_scaling_factor', 'encoder.layer.4.attention.self.softmax.act.x_max', 'encoder.layer.4.attention.self.softmax.act.x_min', 'encoder.layer.4.attention.self.value.bias', 'encoder.layer.4.attention.self.value.bias_integer', 'encoder.layer.4.attention.self.value.fc_scaling_factor', 'encoder.layer.4.attention.self.value.weight', 'encoder.layer.4.attention.self.value.weight_integer', 'encoder.layer.4.attention.self.value_activation.act_scaling_factor', 'encoder.layer.4.attention.self.value_activation.x_max', 'encoder.layer.4.attention.self.value_activation.x_min', 'encoder.layer.4.intermediate.dense.bias', 'encoder.layer.4.intermediate.dense.bias_integer', 'encoder.layer.4.intermediate.dense.fc_scaling_factor', 'encoder.layer.4.intermediate.dense.weight', 'encoder.layer.4.intermediate.dense.weight_integer', 'encoder.layer.4.intermediate.output_activation.act_scaling_factor', 'encoder.layer.4.intermediate.output_activation.x_max', 'encoder.layer.4.intermediate.output_activation.x_min', 'encoder.layer.4.output.LayerNorm.activation.act_scaling_factor', 'encoder.layer.4.output.LayerNorm.activation.x_max', 'encoder.layer.4.output.LayerNorm.activation.x_min', 'encoder.layer.4.output.LayerNorm.bias', 'encoder.layer.4.output.LayerNorm.shift', 'encoder.layer.4.output.LayerNorm.weight', 'encoder.layer.4.output.dense.bias', 'encoder.layer.4.output.dense.bias_integer', 'encoder.layer.4.output.dense.fc_scaling_factor', 'encoder.layer.4.output.dense.weight', 'encoder.layer.4.output.dense.weight_integer', 'encoder.layer.4.output.ln_input_act.act_scaling_factor', 'encoder.layer.4.output.ln_input_act.x_max', 'encoder.layer.4.output.ln_input_act.x_min', 'encoder.layer.4.output.output_activation.act_scaling_factor', 'encoder.layer.4.output.output_activation.x_max', 'encoder.layer.4.output.output_activation.x_min', 'encoder.layer.4.pre_intermediate_act.act_scaling_factor', 'encoder.layer.4.pre_intermediate_act.x_max', 'encoder.layer.4.pre_intermediate_act.x_min', 'encoder.layer.4.pre_output_act.act_scaling_factor', 'encoder.layer.4.pre_output_act.x_max', 'encoder.layer.4.pre_output_act.x_min', 'encoder.layer.5.attention.output.LayerNorm.activation.act_scaling_factor', 'encoder.layer.5.attention.output.LayerNorm.activation.x_max', 'encoder.layer.5.attention.output.LayerNorm.activation.x_min', 'encoder.layer.5.attention.output.LayerNorm.bias', 'encoder.layer.5.attention.output.LayerNorm.shift', 'encoder.layer.5.attention.output.LayerNorm.weight', 'encoder.layer.5.attention.output.dense.bias', 'encoder.layer.5.attention.output.dense.bias_integer', 'encoder.layer.5.attention.output.dense.fc_scaling_factor', 'encoder.layer.5.attention.output.dense.weight', 'encoder.layer.5.attention.output.dense.weight_integer', 'encoder.layer.5.attention.output.ln_input_act.act_scaling_factor', 'encoder.layer.5.attention.output.ln_input_act.x_max', 'encoder.layer.5.attention.output.ln_input_act.x_min', 'encoder.layer.5.attention.output.output_activation.act_scaling_factor', 'encoder.layer.5.attention.output.output_activation.x_max', 'encoder.layer.5.attention.output.output_activation.x_min', 'encoder.layer.5.attention.self.key.bias', 'encoder.layer.5.attention.self.key.bias_integer', 'encoder.layer.5.attention.self.key.fc_scaling_factor', 'encoder.layer.5.attention.self.key.weight', 'encoder.layer.5.attention.self.key.weight_integer', 'encoder.layer.5.attention.self.key_activation.act_scaling_factor', 'encoder.layer.5.attention.self.key_activation.x_max', 'encoder.layer.5.attention.self.key_activation.x_min', 'encoder.layer.5.attention.self.output_activation.act_scaling_factor', 'encoder.layer.5.attention.self.output_activation.x_max', 'encoder.layer.5.attention.self.output_activation.x_min', 'encoder.layer.5.attention.self.query.bias', 'encoder.layer.5.attention.self.query.bias_integer', 'encoder.layer.5.attention.self.query.fc_scaling_factor', 'encoder.layer.5.attention.self.query.weight', 'encoder.layer.5.attention.self.query.weight_integer', 'encoder.layer.5.attention.self.query_activation.act_scaling_factor', 'encoder.layer.5.attention.self.query_activation.x_max', 'encoder.layer.5.attention.self.query_activation.x_min', 'encoder.layer.5.attention.self.softmax.act.act_scaling_factor', 'encoder.layer.5.attention.self.softmax.act.x_max', 'encoder.layer.5.attention.self.softmax.act.x_min', 'encoder.layer.5.attention.self.value.bias', 'encoder.layer.5.attention.self.value.bias_integer', 'encoder.layer.5.attention.self.value.fc_scaling_factor', 'encoder.layer.5.attention.self.value.weight', 'encoder.layer.5.attention.self.value.weight_integer', 'encoder.layer.5.attention.self.value_activation.act_scaling_factor', 'encoder.layer.5.attention.self.value_activation.x_max', 'encoder.layer.5.attention.self.value_activation.x_min', 'encoder.layer.5.intermediate.dense.bias', 'encoder.layer.5.intermediate.dense.bias_integer', 'encoder.layer.5.intermediate.dense.fc_scaling_factor', 'encoder.layer.5.intermediate.dense.weight', 'encoder.layer.5.intermediate.dense.weight_integer', 'encoder.layer.5.intermediate.output_activation.act_scaling_factor', 'encoder.layer.5.intermediate.output_activation.x_max', 'encoder.layer.5.intermediate.output_activation.x_min', 'encoder.layer.5.output.LayerNorm.activation.act_scaling_factor', 'encoder.layer.5.output.LayerNorm.activation.x_max', 'encoder.layer.5.output.LayerNorm.activation.x_min', 'encoder.layer.5.output.LayerNorm.bias', 'encoder.layer.5.output.LayerNorm.shift', 'encoder.layer.5.output.LayerNorm.weight', 'encoder.layer.5.output.dense.bias', 'encoder.layer.5.output.dense.bias_integer', 'encoder.layer.5.output.dense.fc_scaling_factor', 'encoder.layer.5.output.dense.weight', 'encoder.layer.5.output.dense.weight_integer', 'encoder.layer.5.output.ln_input_act.act_scaling_factor', 'encoder.layer.5.output.ln_input_act.x_max', 'encoder.layer.5.output.ln_input_act.x_min', 'encoder.layer.5.output.output_activation.act_scaling_factor', 'encoder.layer.5.output.output_activation.x_max', 'encoder.layer.5.output.output_activation.x_min', 'encoder.layer.5.pre_intermediate_act.act_scaling_factor', 'encoder.layer.5.pre_intermediate_act.x_max', 'encoder.layer.5.pre_intermediate_act.x_min', 'encoder.layer.5.pre_output_act.act_scaling_factor', 'encoder.layer.5.pre_output_act.x_max', 'encoder.layer.5.pre_output_act.x_min', 'encoder.layer.6.attention.output.LayerNorm.activation.act_scaling_factor', 'encoder.layer.6.attention.output.LayerNorm.activation.x_max', 'encoder.layer.6.attention.output.LayerNorm.activation.x_min', 'encoder.layer.6.attention.output.LayerNorm.bias', 'encoder.layer.6.attention.output.LayerNorm.shift', 'encoder.layer.6.attention.output.LayerNorm.weight', 'encoder.layer.6.attention.output.dense.bias', 'encoder.layer.6.attention.output.dense.bias_integer', 'encoder.layer.6.attention.output.dense.fc_scaling_factor', 'encoder.layer.6.attention.output.dense.weight', 'encoder.layer.6.attention.output.dense.weight_integer', 'encoder.layer.6.attention.output.ln_input_act.act_scaling_factor', 'encoder.layer.6.attention.output.ln_input_act.x_max', 'encoder.layer.6.attention.output.ln_input_act.x_min', 'encoder.layer.6.attention.output.output_activation.act_scaling_factor', 'encoder.layer.6.attention.output.output_activation.x_max', 'encoder.layer.6.attention.output.output_activation.x_min', 'encoder.layer.6.attention.self.key.bias', 'encoder.layer.6.attention.self.key.bias_integer', 'encoder.layer.6.attention.self.key.fc_scaling_factor', 'encoder.layer.6.attention.self.key.weight', 'encoder.layer.6.attention.self.key.weight_integer', 'encoder.layer.6.attention.self.key_activation.act_scaling_factor', 'encoder.layer.6.attention.self.key_activation.x_max', 'encoder.layer.6.attention.self.key_activation.x_min', 'encoder.layer.6.attention.self.output_activation.act_scaling_factor', 'encoder.layer.6.attention.self.output_activation.x_max', 'encoder.layer.6.attention.self.output_activation.x_min', 'encoder.layer.6.attention.self.query.bias', 'encoder.layer.6.attention.self.query.bias_integer', 'encoder.layer.6.attention.self.query.fc_scaling_factor', 'encoder.layer.6.attention.self.query.weight', 'encoder.layer.6.attention.self.query.weight_integer', 'encoder.layer.6.attention.self.query_activation.act_scaling_factor', 'encoder.layer.6.attention.self.query_activation.x_max', 'encoder.layer.6.attention.self.query_activation.x_min', 'encoder.layer.6.attention.self.softmax.act.act_scaling_factor', 'encoder.layer.6.attention.self.softmax.act.x_max', 'encoder.layer.6.attention.self.softmax.act.x_min', 'encoder.layer.6.attention.self.value.bias', 'encoder.layer.6.attention.self.value.bias_integer', 'encoder.layer.6.attention.self.value.fc_scaling_factor', 'encoder.layer.6.attention.self.value.weight', 'encoder.layer.6.attention.self.value.weight_integer', 'encoder.layer.6.attention.self.value_activation.act_scaling_factor', 'encoder.layer.6.attention.self.value_activation.x_max', 'encoder.layer.6.attention.self.value_activation.x_min', 'encoder.layer.6.intermediate.dense.bias', 'encoder.layer.6.intermediate.dense.bias_integer', 'encoder.layer.6.intermediate.dense.fc_scaling_factor', 'encoder.layer.6.intermediate.dense.weight', 'encoder.layer.6.intermediate.dense.weight_integer', 'encoder.layer.6.intermediate.output_activation.act_scaling_factor', 'encoder.layer.6.intermediate.output_activation.x_max', 'encoder.layer.6.intermediate.output_activation.x_min', 'encoder.layer.6.output.LayerNorm.activation.act_scaling_factor', 'encoder.layer.6.output.LayerNorm.activation.x_max', 'encoder.layer.6.output.LayerNorm.activation.x_min', 'encoder.layer.6.output.LayerNorm.bias', 'encoder.layer.6.output.LayerNorm.shift', 'encoder.layer.6.output.LayerNorm.weight', 'encoder.layer.6.output.dense.bias', 'encoder.layer.6.output.dense.bias_integer', 'encoder.layer.6.output.dense.fc_scaling_factor', 'encoder.layer.6.output.dense.weight', 'encoder.layer.6.output.dense.weight_integer', 'encoder.layer.6.output.ln_input_act.act_scaling_factor', 'encoder.layer.6.output.ln_input_act.x_max', 'encoder.layer.6.output.ln_input_act.x_min', 'encoder.layer.6.output.output_activation.act_scaling_factor', 'encoder.layer.6.output.output_activation.x_max', 'encoder.layer.6.output.output_activation.x_min', 'encoder.layer.6.pre_intermediate_act.act_scaling_factor', 'encoder.layer.6.pre_intermediate_act.x_max', 'encoder.layer.6.pre_intermediate_act.x_min', 'encoder.layer.6.pre_output_act.act_scaling_factor', 'encoder.layer.6.pre_output_act.x_max', 'encoder.layer.6.pre_output_act.x_min', 'encoder.layer.7.attention.output.LayerNorm.activation.act_scaling_factor', 'encoder.layer.7.attention.output.LayerNorm.activation.x_max', 'encoder.layer.7.attention.output.LayerNorm.activation.x_min', 'encoder.layer.7.attention.output.LayerNorm.bias', 'encoder.layer.7.attention.output.LayerNorm.shift', 'encoder.layer.7.attention.output.LayerNorm.weight', 'encoder.layer.7.attention.output.dense.bias', 'encoder.layer.7.attention.output.dense.bias_integer', 'encoder.layer.7.attention.output.dense.fc_scaling_factor', 'encoder.layer.7.attention.output.dense.weight', 'encoder.layer.7.attention.output.dense.weight_integer', 'encoder.layer.7.attention.output.ln_input_act.act_scaling_factor', 'encoder.layer.7.attention.output.ln_input_act.x_max', 'encoder.layer.7.attention.output.ln_input_act.x_min', 'encoder.layer.7.attention.output.output_activation.act_scaling_factor', 'encoder.layer.7.attention.output.output_activation.x_max', 'encoder.layer.7.attention.output.output_activation.x_min', 'encoder.layer.7.attention.self.key.bias', 'encoder.layer.7.attention.self.key.bias_integer', 'encoder.layer.7.attention.self.key.fc_scaling_factor', 'encoder.layer.7.attention.self.key.weight', 'encoder.layer.7.attention.self.key.weight_integer', 'encoder.layer.7.attention.self.key_activation.act_scaling_factor', 'encoder.layer.7.attention.self.key_activation.x_max', 'encoder.layer.7.attention.self.key_activation.x_min', 'encoder.layer.7.attention.self.output_activation.act_scaling_factor', 'encoder.layer.7.attention.self.output_activation.x_max', 'encoder.layer.7.attention.self.output_activation.x_min', 'encoder.layer.7.attention.self.query.bias', 'encoder.layer.7.attention.self.query.bias_integer', 'encoder.layer.7.attention.self.query.fc_scaling_factor', 'encoder.layer.7.attention.self.query.weight', 'encoder.layer.7.attention.self.query.weight_integer', 'encoder.layer.7.attention.self.query_activation.act_scaling_factor', 'encoder.layer.7.attention.self.query_activation.x_max', 'encoder.layer.7.attention.self.query_activation.x_min', 'encoder.layer.7.attention.self.softmax.act.act_scaling_factor', 'encoder.layer.7.attention.self.softmax.act.x_max', 'encoder.layer.7.attention.self.softmax.act.x_min', 'encoder.layer.7.attention.self.value.bias', 'encoder.layer.7.attention.self.value.bias_integer', 'encoder.layer.7.attention.self.value.fc_scaling_factor', 'encoder.layer.7.attention.self.value.weight', 'encoder.layer.7.attention.self.value.weight_integer', 'encoder.layer.7.attention.self.value_activation.act_scaling_factor', 'encoder.layer.7.attention.self.value_activation.x_max', 'encoder.layer.7.attention.self.value_activation.x_min', 'encoder.layer.7.intermediate.dense.bias', 'encoder.layer.7.intermediate.dense.bias_integer', 'encoder.layer.7.intermediate.dense.fc_scaling_factor', 'encoder.layer.7.intermediate.dense.weight', 'encoder.layer.7.intermediate.dense.weight_integer', 'encoder.layer.7.intermediate.output_activation.act_scaling_factor', 'encoder.layer.7.intermediate.output_activation.x_max', 'encoder.layer.7.intermediate.output_activation.x_min', 'encoder.layer.7.output.LayerNorm.activation.act_scaling_factor', 'encoder.layer.7.output.LayerNorm.activation.x_max', 'encoder.layer.7.output.LayerNorm.activation.x_min', 'encoder.layer.7.output.LayerNorm.bias', 'encoder.layer.7.output.LayerNorm.shift', 'encoder.layer.7.output.LayerNorm.weight', 'encoder.layer.7.output.dense.bias', 'encoder.layer.7.output.dense.bias_integer', 'encoder.layer.7.output.dense.fc_scaling_factor', 'encoder.layer.7.output.dense.weight', 'encoder.layer.7.output.dense.weight_integer', 'encoder.layer.7.output.ln_input_act.act_scaling_factor', 'encoder.layer.7.output.ln_input_act.x_max', 'encoder.layer.7.output.ln_input_act.x_min', 'encoder.layer.7.output.output_activation.act_scaling_factor', 'encoder.layer.7.output.output_activation.x_max', 'encoder.layer.7.output.output_activation.x_min', 'encoder.layer.7.pre_intermediate_act.act_scaling_factor', 'encoder.layer.7.pre_intermediate_act.x_max', 'encoder.layer.7.pre_intermediate_act.x_min', 'encoder.layer.7.pre_output_act.act_scaling_factor', 'encoder.layer.7.pre_output_act.x_max', 'encoder.layer.7.pre_output_act.x_min', 'encoder.layer.8.attention.output.LayerNorm.activation.act_scaling_factor', 'encoder.layer.8.attention.output.LayerNorm.activation.x_max', 'encoder.layer.8.attention.output.LayerNorm.activation.x_min', 'encoder.layer.8.attention.output.LayerNorm.bias', 'encoder.layer.8.attention.output.LayerNorm.shift', 'encoder.layer.8.attention.output.LayerNorm.weight', 'encoder.layer.8.attention.output.dense.bias', 'encoder.layer.8.attention.output.dense.bias_integer', 'encoder.layer.8.attention.output.dense.fc_scaling_factor', 'encoder.layer.8.attention.output.dense.weight', 'encoder.layer.8.attention.output.dense.weight_integer', 'encoder.layer.8.attention.output.ln_input_act.act_scaling_factor', 'encoder.layer.8.attention.output.ln_input_act.x_max', 'encoder.layer.8.attention.output.ln_input_act.x_min', 'encoder.layer.8.attention.output.output_activation.act_scaling_factor', 'encoder.layer.8.attention.output.output_activation.x_max', 'encoder.layer.8.attention.output.output_activation.x_min', 'encoder.layer.8.attention.self.key.bias', 'encoder.layer.8.attention.self.key.bias_integer', 'encoder.layer.8.attention.self.key.fc_scaling_factor', 'encoder.layer.8.attention.self.key.weight', 'encoder.layer.8.attention.self.key.weight_integer', 'encoder.layer.8.attention.self.key_activation.act_scaling_factor', 'encoder.layer.8.attention.self.key_activation.x_max', 'encoder.layer.8.attention.self.key_activation.x_min', 'encoder.layer.8.attention.self.output_activation.act_scaling_factor', 'encoder.layer.8.attention.self.output_activation.x_max', 'encoder.layer.8.attention.self.output_activation.x_min', 'encoder.layer.8.attention.self.query.bias', 'encoder.layer.8.attention.self.query.bias_integer', 'encoder.layer.8.attention.self.query.fc_scaling_factor', 'encoder.layer.8.attention.self.query.weight', 'encoder.layer.8.attention.self.query.weight_integer', 'encoder.layer.8.attention.self.query_activation.act_scaling_factor', 'encoder.layer.8.attention.self.query_activation.x_max', 'encoder.layer.8.attention.self.query_activation.x_min', 'encoder.layer.8.attention.self.softmax.act.act_scaling_factor', 'encoder.layer.8.attention.self.softmax.act.x_max', 'encoder.layer.8.attention.self.softmax.act.x_min', 'encoder.layer.8.attention.self.value.bias', 'encoder.layer.8.attention.self.value.bias_integer', 'encoder.layer.8.attention.self.value.fc_scaling_factor', 'encoder.layer.8.attention.self.value.weight', 'encoder.layer.8.attention.self.value.weight_integer', 'encoder.layer.8.attention.self.value_activation.act_scaling_factor', 'encoder.layer.8.attention.self.value_activation.x_max', 'encoder.layer.8.attention.self.value_activation.x_min', 'encoder.layer.8.intermediate.dense.bias', 'encoder.layer.8.intermediate.dense.bias_integer', 'encoder.layer.8.intermediate.dense.fc_scaling_factor', 'encoder.layer.8.intermediate.dense.weight', 'encoder.layer.8.intermediate.dense.weight_integer', 'encoder.layer.8.intermediate.output_activation.act_scaling_factor', 'encoder.layer.8.intermediate.output_activation.x_max', 'encoder.layer.8.intermediate.output_activation.x_min', 'encoder.layer.8.output.LayerNorm.activation.act_scaling_factor', 'encoder.layer.8.output.LayerNorm.activation.x_max', 'encoder.layer.8.output.LayerNorm.activation.x_min', 'encoder.layer.8.output.LayerNorm.bias', 'encoder.layer.8.output.LayerNorm.shift', 'encoder.layer.8.output.LayerNorm.weight', 'encoder.layer.8.output.dense.bias', 'encoder.layer.8.output.dense.bias_integer', 'encoder.layer.8.output.dense.fc_scaling_factor', 'encoder.layer.8.output.dense.weight', 'encoder.layer.8.output.dense.weight_integer', 'encoder.layer.8.output.ln_input_act.act_scaling_factor', 'encoder.layer.8.output.ln_input_act.x_max', 'encoder.layer.8.output.ln_input_act.x_min', 'encoder.layer.8.output.output_activation.act_scaling_factor', 'encoder.layer.8.output.output_activation.x_max', 'encoder.layer.8.output.output_activation.x_min', 'encoder.layer.8.pre_intermediate_act.act_scaling_factor', 'encoder.layer.8.pre_intermediate_act.x_max', 'encoder.layer.8.pre_intermediate_act.x_min', 'encoder.layer.8.pre_output_act.act_scaling_factor', 'encoder.layer.8.pre_output_act.x_max', 'encoder.layer.8.pre_output_act.x_min', 'encoder.layer.9.attention.output.LayerNorm.activation.act_scaling_factor', 'encoder.layer.9.attention.output.LayerNorm.activation.x_max', 'encoder.layer.9.attention.output.LayerNorm.activation.x_min', 'encoder.layer.9.attention.output.LayerNorm.bias', 'encoder.layer.9.attention.output.LayerNorm.shift', 'encoder.layer.9.attention.output.LayerNorm.weight', 'encoder.layer.9.attention.output.dense.bias', 'encoder.layer.9.attention.output.dense.bias_integer', 'encoder.layer.9.attention.output.dense.fc_scaling_factor', 'encoder.layer.9.attention.output.dense.weight', 'encoder.layer.9.attention.output.dense.weight_integer', 'encoder.layer.9.attention.output.ln_input_act.act_scaling_factor', 'encoder.layer.9.attention.output.ln_input_act.x_max', 'encoder.layer.9.attention.output.ln_input_act.x_min', 'encoder.layer.9.attention.output.output_activation.act_scaling_factor', 'encoder.layer.9.attention.output.output_activation.x_max', 'encoder.layer.9.attention.output.output_activation.x_min', 'encoder.layer.9.attention.self.key.bias', 'encoder.layer.9.attention.self.key.bias_integer', 'encoder.layer.9.attention.self.key.fc_scaling_factor', 'encoder.layer.9.attention.self.key.weight', 'encoder.layer.9.attention.self.key.weight_integer', 'encoder.layer.9.attention.self.key_activation.act_scaling_factor', 'encoder.layer.9.attention.self.key_activation.x_max', 'encoder.layer.9.attention.self.key_activation.x_min', 'encoder.layer.9.attention.self.output_activation.act_scaling_factor', 'encoder.layer.9.attention.self.output_activation.x_max', 'encoder.layer.9.attention.self.output_activation.x_min', 'encoder.layer.9.attention.self.query.bias', 'encoder.layer.9.attention.self.query.bias_integer', 'encoder.layer.9.attention.self.query.fc_scaling_factor', 'encoder.layer.9.attention.self.query.weight', 'encoder.layer.9.attention.self.query.weight_integer', 'encoder.layer.9.attention.self.query_activation.act_scaling_factor', 'encoder.layer.9.attention.self.query_activation.x_max', 'encoder.layer.9.attention.self.query_activation.x_min', 'encoder.layer.9.attention.self.softmax.act.act_scaling_factor', 'encoder.layer.9.attention.self.softmax.act.x_max', 'encoder.layer.9.attention.self.softmax.act.x_min', 'encoder.layer.9.attention.self.value.bias', 'encoder.layer.9.attention.self.value.bias_integer', 'encoder.layer.9.attention.self.value.fc_scaling_factor', 'encoder.layer.9.attention.self.value.weight', 'encoder.layer.9.attention.self.value.weight_integer', 'encoder.layer.9.attention.self.value_activation.act_scaling_factor', 'encoder.layer.9.attention.self.value_activation.x_max', 'encoder.layer.9.attention.self.value_activation.x_min', 'encoder.layer.9.intermediate.dense.bias', 'encoder.layer.9.intermediate.dense.bias_integer', 'encoder.layer.9.intermediate.dense.fc_scaling_factor', 'encoder.layer.9.intermediate.dense.weight', 'encoder.layer.9.intermediate.dense.weight_integer', 'encoder.layer.9.intermediate.output_activation.act_scaling_factor', 'encoder.layer.9.intermediate.output_activation.x_max', 'encoder.layer.9.intermediate.output_activation.x_min', 'encoder.layer.9.output.LayerNorm.activation.act_scaling_factor', 'encoder.layer.9.output.LayerNorm.activation.x_max', 'encoder.layer.9.output.LayerNorm.activation.x_min', 'encoder.layer.9.output.LayerNorm.bias', 'encoder.layer.9.output.LayerNorm.shift', 'encoder.layer.9.output.LayerNorm.weight', 'encoder.layer.9.output.dense.bias', 'encoder.layer.9.output.dense.bias_integer', 'encoder.layer.9.output.dense.fc_scaling_factor', 'encoder.layer.9.output.dense.weight', 'encoder.layer.9.output.dense.weight_integer', 'encoder.layer.9.output.ln_input_act.act_scaling_factor', 'encoder.layer.9.output.ln_input_act.x_max', 'encoder.layer.9.output.ln_input_act.x_min', 'encoder.layer.9.output.output_activation.act_scaling_factor', 'encoder.layer.9.output.output_activation.x_max', 'encoder.layer.9.output.output_activation.x_min', 'encoder.layer.9.pre_intermediate_act.act_scaling_factor', 'encoder.layer.9.pre_intermediate_act.x_max', 'encoder.layer.9.pre_intermediate_act.x_min', 'encoder.layer.9.pre_output_act.act_scaling_factor', 'encoder.layer.9.pre_output_act.x_max', 'encoder.layer.9.pre_output_act.x_min']\n",
      "You should probably TRAIN this model on a down-stream task to be able to use it for predictions and inference.\n"
     ]
    }
   ],
   "source": [
    "from transformers import AutoTokenizer, AutoModelForSequenceClassification\n",
    "\n",
    "\n",
    "# Load tokenizer và model PhoBERT từ Hugging Face\n",
    "tokenizer = AutoTokenizer.from_pretrained(\"vinai/phobert-base\")\n",
    "model = AutoModelForSequenceClassification.from_pretrained(\n",
    "    \"NlpHUST/vibert4news-base-cased\", num_labels=3\n",
    ")\n"
   ]
  },
  {
   "cell_type": "code",
   "execution_count": 36,
   "metadata": {},
   "outputs": [
    {
     "data": {
      "application/vnd.jupyter.widget-view+json": {
       "model_id": "90070629787241d08003ffea9efb7044",
       "version_major": 2,
       "version_minor": 0
      },
      "text/plain": [
       "tokenizer_config.json:   0%|          | 0.00/308 [00:00<?, ?B/s]"
      ]
     },
     "metadata": {},
     "output_type": "display_data"
    },
    {
     "data": {
      "application/vnd.jupyter.widget-view+json": {
       "model_id": "2eb650829065432fa3e846b95b9b6ec9",
       "version_major": 2,
       "version_minor": 0
      },
      "text/plain": [
       "vocab.txt:   0%|          | 0.00/895k [00:00<?, ?B/s]"
      ]
     },
     "metadata": {},
     "output_type": "display_data"
    },
    {
     "data": {
      "application/vnd.jupyter.widget-view+json": {
       "model_id": "877553198b8d4adcbbfad8ac114e8754",
       "version_major": 2,
       "version_minor": 0
      },
      "text/plain": [
       "bpe.codes:   0%|          | 0.00/1.14M [00:00<?, ?B/s]"
      ]
     },
     "metadata": {},
     "output_type": "display_data"
    },
    {
     "data": {
      "application/vnd.jupyter.widget-view+json": {
       "model_id": "4a75398a25e24fef8dc49586f8552462",
       "version_major": 2,
       "version_minor": 0
      },
      "text/plain": [
       "added_tokens.json:   0%|          | 0.00/22.0 [00:00<?, ?B/s]"
      ]
     },
     "metadata": {},
     "output_type": "display_data"
    },
    {
     "data": {
      "application/vnd.jupyter.widget-view+json": {
       "model_id": "8fb5ca21338f41228c2ae9ae91279758",
       "version_major": 2,
       "version_minor": 0
      },
      "text/plain": [
       "special_tokens_map.json:   0%|          | 0.00/167 [00:00<?, ?B/s]"
      ]
     },
     "metadata": {},
     "output_type": "display_data"
    },
    {
     "name": "stderr",
     "output_type": "stream",
     "text": [
      "/Users/datkhong/miniconda3/lib/python3.11/site-packages/transformers/tokenization_utils_base.py:1601: FutureWarning: `clean_up_tokenization_spaces` was not set. It will be set to `True` by default. This behavior will be depracted in transformers v4.45, and will be then set to `False` by default. For more details check this issue: https://github.com/huggingface/transformers/issues/31884\n",
      "  warnings.warn(\n"
     ]
    },
    {
     "data": {
      "application/vnd.jupyter.widget-view+json": {
       "model_id": "ee6e50632e3443afa7ff542702d530e9",
       "version_major": 2,
       "version_minor": 0
      },
      "text/plain": [
       "config.json:   0%|          | 0.00/993 [00:00<?, ?B/s]"
      ]
     },
     "metadata": {},
     "output_type": "display_data"
    },
    {
     "data": {
      "application/vnd.jupyter.widget-view+json": {
       "model_id": "4dbf0fa6a3164f62b9f97fe2f4b76537",
       "version_major": 2,
       "version_minor": 0
      },
      "text/plain": [
       "model.safetensors:   0%|          | 0.00/540M [00:00<?, ?B/s]"
      ]
     },
     "metadata": {},
     "output_type": "display_data"
    }
   ],
   "source": [
    "checkpoint = \"mr4/phobert-base-vi-sentiment-analysis\"\n",
    "tokenizer = AutoTokenizer.from_pretrained(checkpoint)\n",
    "model = AutoModelForSequenceClassification.from_pretrained(checkpoint)"
   ]
  },
  {
   "cell_type": "code",
   "execution_count": 48,
   "metadata": {},
   "outputs": [
    {
     "name": "stdout",
     "output_type": "stream",
     "text": [
      "predictions=[Prediction(sentiment='Tích cực', confidence=0.9927434921264648), Prediction(sentiment='Tiêu cực', confidence=0.9855937361717224), Prediction(sentiment='Tiêu cực', confidence=0.9625341296195984), Prediction(sentiment='Trung tính', confidence=0.8012838959693909)]\n"
     ]
    }
   ],
   "source": [
    "from enum import Enum\n",
    "from pydantic import BaseModel\n",
    "from typing import List, Optional\n",
    "import torch\n",
    "import numpy as np\n",
    "from transformers import AutoTokenizer, AutoModelForSequenceClassification\n",
    "\n",
    "\n",
    "# Mô hình Pydantic cho kết quả dự đoán\n",
    "class Prediction(BaseModel):\n",
    "    sentiment: str\n",
    "    confidence: Optional[float]\n",
    "\n",
    "class Predictions(BaseModel):\n",
    "    predictions: List[Prediction]\n",
    "\n",
    "# # Load tokenizer và model\n",
    "checkpoint = \"mr4/phobert-base-vi-sentiment-analysis\"\n",
    "tokenizer = AutoTokenizer.from_pretrained(checkpoint, clean_up_tokenization_spaces = True)\n",
    "model = AutoModelForSequenceClassification.from_pretrained(checkpoint)\n",
    "\n",
    "\n",
    "# Dữ liệu đầu vào\n",
    "body = {\n",
    "    \"instances\": [\n",
    "        {\"text\": \"Tôi rất hài lòng với sản phẩm này\"},\n",
    "        {\"text\": \"Món này tệ quá\"},\n",
    "        {\"text\": \"Tôi đã đi ra khỏi nhà\"},\n",
    "        {\"text\": \"Bạn đi làm chưa ?\"},\n",
    "    ]\n",
    "}\n",
    "\n",
    "# Lấy danh sách văn bản cần phân tích\n",
    "instances = [x[\"text\"] for x in body[\"instances\"]]\n",
    "\n",
    "# Tokenize văn bản cho mô hình\n",
    "tf_batch = tokenizer(\n",
    "    instances,\n",
    "    # max_length=128,\n",
    "    padding=True,\n",
    "    truncation=True,\n",
    "    return_tensors=\"pt\",  # Chuyển thành tensor Pytorch\n",
    ")\n",
    "\n",
    "# Lấy kết quả dự đoán từ mô hình\n",
    "with torch.no_grad():\n",
    "    outputs = model(**tf_batch)\n",
    "\n",
    "# Áp dụng hàm softmax để lấy xác suất (điểm tự tin)\n",
    "softmax = torch.nn.functional.softmax(outputs.logits, dim=-1).numpy()\n",
    "\n",
    "# Tìm chỉ số của xác suất cao nhất (dự đoán cảm xúc)\n",
    "indices = np.argmax(softmax, axis=-1)\n",
    "\n",
    "# Lấy giá trị confidence cao nhất cho mỗi dự đoán\n",
    "confidences = np.max(softmax, axis=-1)\n",
    "\n",
    "# Chuẩn bị kết quả đầu ra\n",
    "outputs_label = []\n",
    "for index, confidence in zip(indices, confidences):\n",
    "    sentiment = model.config.id2label[index]\n",
    "    outputs_label.append(\n",
    "        Prediction(sentiment=sentiment, confidence=float(confidence))\n",
    "    )\n",
    "\n",
    "# Kết quả predictions\n",
    "predictions = Predictions(predictions=outputs_label)\n",
    "\n",
    "# In ra kết quả\n",
    "print(predictions)\n"
   ]
  },
  {
   "cell_type": "code",
   "execution_count": 49,
   "metadata": {},
   "outputs": [
    {
     "data": {
      "text/plain": [
       "SequenceClassifierOutput(loss=None, logits=tensor([[-2.5477,  3.8552, -1.3204],\n",
       "        [ 3.2292, -1.7391, -1.6422],\n",
       "        [ 2.7987, -2.1551, -0.6474],\n",
       "        [-1.8487,  0.2781,  1.7851]]), hidden_states=None, attentions=None)"
      ]
     },
     "execution_count": 49,
     "metadata": {},
     "output_type": "execute_result"
    }
   ],
   "source": [
    "outputs"
   ]
  },
  {
   "cell_type": "code",
   "execution_count": 50,
   "metadata": {},
   "outputs": [
    {
     "data": {
      "text/plain": [
       "tensor([[0.0016, 0.9927, 0.0056],\n",
       "        [0.9856, 0.0069, 0.0076],\n",
       "        [0.9625, 0.0068, 0.0307],\n",
       "        [0.0212, 0.1775, 0.8013]])"
      ]
     },
     "execution_count": 50,
     "metadata": {},
     "output_type": "execute_result"
    }
   ],
   "source": [
    "torch.nn.functional.softmax(outputs.logits, dim=-1)"
   ]
  },
  {
   "cell_type": "code",
   "execution_count": 39,
   "metadata": {},
   "outputs": [
    {
     "data": {
      "text/plain": [
       "SequenceClassifierOutput(loss=None, logits=tensor([[-2.5477,  3.8552, -1.3204],\n",
       "        [ 3.2292, -1.7391, -1.6422],\n",
       "        [ 2.7987, -2.1551, -0.6474]]), hidden_states=None, attentions=None)"
      ]
     },
     "execution_count": 39,
     "metadata": {},
     "output_type": "execute_result"
    }
   ],
   "source": [
    "torch.nn.functional.softmax(outputs.logits, dim=-1).numpy()"
   ]
  },
  {
   "cell_type": "code",
   "execution_count": 40,
   "metadata": {},
   "outputs": [
    {
     "data": {
      "text/plain": [
       "array([[0.00164475, 0.9927436 , 0.0056117 ],\n",
       "       [0.98559374, 0.00685452, 0.00755181],\n",
       "       [0.962534  , 0.00679164, 0.03067433]], dtype=float32)"
      ]
     },
     "execution_count": 40,
     "metadata": {},
     "output_type": "execute_result"
    }
   ],
   "source": [
    "torch.nn.functional.softmax(outputs.logits, dim=-1).numpy()"
   ]
  }
 ],
 "metadata": {
  "kernelspec": {
   "display_name": "base",
   "language": "python",
   "name": "python3"
  },
  "language_info": {
   "codemirror_mode": {
    "name": "ipython",
    "version": 3
   },
   "file_extension": ".py",
   "mimetype": "text/x-python",
   "name": "python",
   "nbconvert_exporter": "python",
   "pygments_lexer": "ipython3",
   "version": "3.11.5"
  }
 },
 "nbformat": 4,
 "nbformat_minor": 2
}
