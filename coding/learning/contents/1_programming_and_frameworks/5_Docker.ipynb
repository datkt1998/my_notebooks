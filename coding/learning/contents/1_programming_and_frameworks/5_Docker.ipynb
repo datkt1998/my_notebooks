{
 "cells": [
  {
   "cell_type": "markdown",
   "metadata": {},
   "source": [
    "# Docker"
   ]
  },
  {
   "cell_type": "markdown",
   "metadata": {
    "id": "f8c94823-3f1e-47dc-9f9f-ebef50fe24ee"
   },
   "source": [
    "## Khái niệm cơ bản\n",
    "[Tìm hiểu về docker và các khái niệm](https://viblo.asia/p/tim-hieu-ve-docker-va-mot-so-khai-niem-co-ban-GrLZD3OOKk0)"
   ]
  },
  {
   "cell_type": "markdown",
   "metadata": {
    "id": "73bd2966-9484-49f5-bc8e-010f34dc22ee"
   },
   "source": [
    "## Các câu lệnh cơ bản"
   ]
  },
  {
   "cell_type": "markdown",
   "metadata": {
    "id": "ab4a5070-98e5-442d-81ee-300fdbc2d6a2"
   },
   "source": [
    "### docker search\n",
    "search thông tin các image theo keyword có trên docker hub"
   ]
  },
  {
   "cell_type": "code",
   "execution_count": null,
   "metadata": {
    "id": "3f33b4ed-37c6-4d37-b1c7-d7a47205a737",
    "outputId": "593f7cab-d5c0-4421-c690-cee496e7f8b7"
   },
   "outputs": [
    {
     "name": "stdout",
     "output_type": "stream",
     "text": [
      "NAME                            DESCRIPTION                                     STARS     OFFICIAL   AUTOMATED\n",
      "mysql                           MySQL is a widely used, open-source relation…   13970     [OK]       \n",
      "mariadb                         MariaDB Server is a high performing open sou…   5325      [OK]       \n",
      "phpmyadmin                      phpMyAdmin - A web interface for MySQL and M…   766       [OK]       \n",
      "percona                         Percona Server is a fork of the MySQL relati…   602       [OK]       \n",
      "databack/mysql-backup           Back up mysql databases to... anywhere!         82                   \n",
      "bitnami/mysql                   Bitnami MySQL Docker Image                      80                   [OK]\n",
      "linuxserver/mysql-workbench                                                     48                   \n",
      "ubuntu/mysql                    MySQL open source fast, stable, multi-thread…   43                   \n",
      "linuxserver/mysql               A Mysql container, brought to you by LinuxSe…   38                   \n",
      "circleci/mysql                  MySQL is a widely used, open-source relation…   29                   \n",
      "google/mysql                    MySQL server for Google Compute Engine          23                   [OK]\n",
      "rapidfort/mysql                 RapidFort optimized, hardened image for MySQL   14                   \n",
      "bitnami/mysqld-exporter                                                         4                    \n",
      "ibmcom/mysql-s390x              Docker image for mysql-s390x                    2                    \n",
      "vitess/mysqlctld                vitess/mysqlctld                                1                    [OK]\n",
      "newrelic/mysql-plugin           New Relic Plugin for monitoring MySQL databa…   1                    [OK]\n",
      "rapidfort/mysql8-ib             RapidFort optimized, hardened image for MySQ…   0                    \n",
      "rapidfort/mysql-official        RapidFort optimized, hardened image for MySQ…   0                    \n",
      "mirantis/mysql                                                                  0                    \n",
      "docksal/mysql                   MySQL service images for Docksal - https://d…   0                    \n",
      "hashicorp/mysql-portworx-demo                                                   0                    \n",
      "cimg/mysql                                                                      0                    \n",
      "bitnamicharts/mysql                                                             0                    \n",
      "eclipse/mysql                   Mysql 5.7, curl, rsync                          0                    [OK]\n",
      "drud/mysql                                                                      0                    \n"
     ]
    }
   ],
   "source": [
    "!docker search mysql"
   ]
  },
  {
   "cell_type": "markdown",
   "metadata": {
    "id": "968e9a31-2cde-4d7d-a15f-e2d16a53c559"
   },
   "source": [
    "### docker pull\n",
    "Lệnh này dùng để tải các image trên docker hub về."
   ]
  },
  {
   "cell_type": "code",
   "execution_count": null,
   "metadata": {
    "id": "86c28266-71ed-4fe8-a2f3-8602e0b8b8c1",
    "outputId": "e5d6fdb2-3fb3-43fd-c116-258fb8220d65"
   },
   "outputs": [
    {
     "name": "stdout",
     "output_type": "stream",
     "text": [
      "3: Pulling from library/python\n",
      "\n",
      "\u001b[1Bb074731d: Pulling fs layer \n",
      "\u001b[1B239fe1d6: Pulling fs layer \n",
      "\u001b[1B61b53509: Pulling fs layer \n",
      "\u001b[1B880ecc1c: Pulling fs layer \n",
      "\u001b[1B945a1f9b: Pulling fs layer \n",
      "\u001b[1Bfe9e3053: Pulling fs layer \n",
      "\u001b[1B4c97de70: Pulling fs layer \n",
      "\u001b[1B09cadfd3: Pulling fs layer \n",
      "\u001b[1BDigest: sha256:5329e75033c4446dc92d702cf8ebbeb63e549d9b83076a776f6753e10817fc3c[8A\u001b[2K\u001b[7A\u001b[2K\u001b[8A\u001b[2K\u001b[7A\u001b[2K\u001b[8A\u001b[2K\u001b[7A\u001b[2K\u001b[9A\u001b[2K\u001b[8A\u001b[2K\u001b[7A\u001b[2K\u001b[8A\u001b[2K\u001b[8A\u001b[2K\u001b[7A\u001b[2K\u001b[8A\u001b[2K\u001b[7A\u001b[2K\u001b[8A\u001b[2K\u001b[8A\u001b[2K\u001b[7A\u001b[2K\u001b[8A\u001b[2K\u001b[9A\u001b[2K\u001b[8A\u001b[2K\u001b[8A\u001b[2K\u001b[7A\u001b[2K\u001b[8A\u001b[2K\u001b[8A\u001b[2K\u001b[7A\u001b[2K\u001b[8A\u001b[2K\u001b[8A\u001b[2K\u001b[8A\u001b[2K\u001b[7A\u001b[2K\u001b[8A\u001b[2K\u001b[9A\u001b[2K\u001b[8A\u001b[2K\u001b[7A\u001b[2K\u001b[8A\u001b[2K\u001b[8A\u001b[2K\u001b[8A\u001b[2K\u001b[7A\u001b[2K\u001b[8A\u001b[2K\u001b[8A\u001b[2K\u001b[7A\u001b[2K\u001b[8A\u001b[2K\u001b[8A\u001b[2K\u001b[7A\u001b[2K\u001b[8A\u001b[2K\u001b[9A\u001b[2K\u001b[7A\u001b[2K\u001b[8A\u001b[2K\u001b[7A\u001b[2K\u001b[8A\u001b[2K\u001b[7A\u001b[2K\u001b[8A\u001b[2K\u001b[7A\u001b[2K\u001b[8A\u001b[2K\u001b[8A\u001b[2K\u001b[7A\u001b[2K\u001b[8A\u001b[2K\u001b[8A\u001b[2K\u001b[7A\u001b[2K\u001b[8A\u001b[2K\u001b[8A\u001b[2K\u001b[7A\u001b[2K\u001b[8A\u001b[2K\u001b[8A\u001b[2K\u001b[8A\u001b[2K\u001b[7A\u001b[2K\u001b[8A\u001b[2K\u001b[7A\u001b[2K\u001b[8A\u001b[2K\u001b[8A\u001b[2K\u001b[7A\u001b[2K\u001b[9A\u001b[2K\u001b[8A\u001b[2K\u001b[8A\u001b[2K\u001b[7A\u001b[2K\u001b[8A\u001b[2K\u001b[7A\u001b[2K\u001b[8A\u001b[2K\u001b[8A\u001b[2K\u001b[7A\u001b[2K\u001b[8A\u001b[2K\u001b[7A\u001b[2K\u001b[9A\u001b[2K\u001b[8A\u001b[2K\u001b[7A\u001b[2K\u001b[8A\u001b[2K\u001b[8A\u001b[2K\u001b[7A\u001b[2K\u001b[8A\u001b[2K\u001b[7A\u001b[2K\u001b[8A\u001b[2K\u001b[8A\u001b[2K\u001b[7A\u001b[2K\u001b[8A\u001b[2K\u001b[8A\u001b[2K\u001b[7A\u001b[2K\u001b[8A\u001b[2K\u001b[7A\u001b[2K\u001b[8A\u001b[2K\u001b[7A\u001b[2K\u001b[8A\u001b[2K\u001b[8A\u001b[2K\u001b[7A\u001b[2K\u001b[8A\u001b[2K\u001b[8A\u001b[2K\u001b[8A\u001b[2K\u001b[7A\u001b[2K\u001b[9A\u001b[2K\u001b[8A\u001b[2K\u001b[7A\u001b[2K\u001b[8A\u001b[2K\u001b[7A\u001b[2K\u001b[7A\u001b[2K\u001b[7A\u001b[2K\u001b[9A\u001b[2K\u001b[7A\u001b[2K\u001b[7A\u001b[2K\u001b[7A\u001b[2K\u001b[7A\u001b[2K\u001b[6A\u001b[2K\u001b[9A\u001b[2K\u001b[7A\u001b[2K\u001b[7A\u001b[2K\u001b[6A\u001b[2K\u001b[7A\u001b[2K\u001b[7A\u001b[2K\u001b[6A\u001b[2K\u001b[9A\u001b[2K\u001b[7A\u001b[2K\u001b[7A\u001b[2K\u001b[6A\u001b[2K\u001b[7A\u001b[2K\u001b[7A\u001b[2K\u001b[6A\u001b[2K\u001b[7A\u001b[2K\u001b[9A\u001b[2K\u001b[7A\u001b[2K\u001b[6A\u001b[2K\u001b[7A\u001b[2K\u001b[7A\u001b[2K\u001b[6A\u001b[2K\u001b[7A\u001b[2K\u001b[7A\u001b[2K\u001b[9A\u001b[2K\u001b[7A\u001b[2K\u001b[6A\u001b[2K\u001b[7A\u001b[2K\u001b[7A\u001b[2K\u001b[6A\u001b[2K\u001b[7A\u001b[2K\u001b[7A\u001b[2K\u001b[9A\u001b[2K\u001b[7A\u001b[2K\u001b[7A\u001b[2K\u001b[7A\u001b[2K\u001b[6A\u001b[2K\u001b[7A\u001b[2K\u001b[7A\u001b[2K\u001b[9A\u001b[2K\u001b[7A\u001b[2K\u001b[6A\u001b[2K\u001b[7A\u001b[2K\u001b[7A\u001b[2K\u001b[7A\u001b[2KDownloading  9.427MB/10.87MB\u001b[9A\u001b[2K\u001b[7A\u001b[2K\u001b[6A\u001b[2K\u001b[7A\u001b[2K\u001b[7A\u001b[2K\u001b[7A\u001b[2K\u001b[6A\u001b[2K\u001b[7A\u001b[2K\u001b[7A\u001b[2K\u001b[7A\u001b[2K\u001b[7A\u001b[2K\u001b[6A\u001b[2K\u001b[9A\u001b[2K\u001b[7A\u001b[2K\u001b[7A\u001b[2K\u001b[7A\u001b[2K\u001b[7A\u001b[2K\u001b[7A\u001b[2K\u001b[9A\u001b[2K\u001b[6A\u001b[2K\u001b[9A\u001b[2K\u001b[5A\u001b[2K\u001b[5A\u001b[2K\u001b[6A\u001b[2K\u001b[5A\u001b[2K\u001b[9A\u001b[2K\u001b[5A\u001b[2K\u001b[6A\u001b[2K\u001b[5A\u001b[2K\u001b[9A\u001b[2K\u001b[5A\u001b[2K\u001b[9A\u001b[2K\u001b[5A\u001b[2K\u001b[6A\u001b[2K\u001b[5A\u001b[2K\u001b[9A\u001b[2K\u001b[6A\u001b[2K\u001b[5A\u001b[2K\u001b[9A\u001b[2K\u001b[5A\u001b[2K\u001b[6A\u001b[2K\u001b[9A\u001b[2K\u001b[6A\u001b[2K\u001b[5A\u001b[2K\u001b[9A\u001b[2K\u001b[6A\u001b[2K\u001b[5A\u001b[2K\u001b[9A\u001b[2K\u001b[6A\u001b[2KDownloading  13.99MB/54.68MB\u001b[5A\u001b[2K\u001b[9A\u001b[2K\u001b[6A\u001b[2K\u001b[5A\u001b[2K\u001b[9A\u001b[2K\u001b[6A\u001b[2K\u001b[5A\u001b[2K\u001b[9A\u001b[2K\u001b[6A\u001b[2K\u001b[5A\u001b[2K\u001b[5A\u001b[2K\u001b[9A\u001b[2K\u001b[5A\u001b[2K\u001b[6A\u001b[2K\u001b[9A\u001b[2K\u001b[5A\u001b[2K\u001b[6A\u001b[2K\u001b[9A\u001b[2K\u001b[5A\u001b[2K\u001b[6A\u001b[2K\u001b[9A\u001b[2K\u001b[5A\u001b[2K\u001b[6A\u001b[2K\u001b[9A\u001b[2K\u001b[6A\u001b[2K\u001b[9A\u001b[2K\u001b[6A\u001b[2K\u001b[5A\u001b[2K\u001b[9A\u001b[2K\u001b[5A\u001b[2K\u001b[6A\u001b[2K\u001b[9A\u001b[2K\u001b[5A\u001b[2K\u001b[6A\u001b[2K\u001b[9A\u001b[2K\u001b[5A\u001b[2K\u001b[6A\u001b[2K\u001b[9A\u001b[2K\u001b[5A\u001b[2K\u001b[6A\u001b[2K\u001b[9A\u001b[2K\u001b[5A\u001b[2K\u001b[6A\u001b[2K\u001b[9A\u001b[2K\u001b[5A\u001b[2K\u001b[6A\u001b[2K\u001b[9A\u001b[2K\u001b[5A\u001b[2K\u001b[6A\u001b[2K\u001b[9A\u001b[2K\u001b[5A\u001b[2K\u001b[6A\u001b[2K\u001b[9A\u001b[2K\u001b[5A\u001b[2K\u001b[6A\u001b[2K\u001b[9A\u001b[2K\u001b[5A\u001b[2K\u001b[6A\u001b[2K\u001b[5A\u001b[2K\u001b[9A\u001b[2K\u001b[6A\u001b[2K\u001b[5A\u001b[2K\u001b[6A\u001b[2K\u001b[9A\u001b[2K\u001b[5A\u001b[2K\u001b[6A\u001b[2K\u001b[9A\u001b[2K\u001b[5A\u001b[2K\u001b[6A\u001b[2K\u001b[9A\u001b[2K\u001b[5A\u001b[2K\u001b[6A\u001b[2K\u001b[5A\u001b[2K\u001b[9A\u001b[2K\u001b[6A\u001b[2K\u001b[9A\u001b[2K\u001b[6A\u001b[2K\u001b[9A\u001b[2K\u001b[6A\u001b[2K\u001b[5A\u001b[2K\u001b[9A\u001b[2K\u001b[6A\u001b[2K\u001b[5A\u001b[2K\u001b[9A\u001b[2K\u001b[6A\u001b[2K\u001b[5A\u001b[2K\u001b[9A\u001b[2K\u001b[6A\u001b[2K\u001b[5A\u001b[2K\u001b[9A\u001b[2K\u001b[6A\u001b[2K\u001b[5A\u001b[2K\u001b[9A\u001b[2K\u001b[6A\u001b[2K\u001b[5A\u001b[2K\u001b[6A\u001b[2K\u001b[9A\u001b[2KDownloading  33.32MB/53.7MB\u001b[6A\u001b[2K\u001b[5A\u001b[2K\u001b[9A\u001b[2K\u001b[6A\u001b[2K\u001b[5A\u001b[2K\u001b[9A\u001b[2K\u001b[6A\u001b[2K\u001b[5A\u001b[2K\u001b[6A\u001b[2K\u001b[9A\u001b[2K\u001b[6A\u001b[2K\u001b[5A\u001b[2K\u001b[9A\u001b[2K\u001b[6A\u001b[2K\u001b[5A\u001b[2K\u001b[9A\u001b[2K\u001b[6A\u001b[2K\u001b[5A\u001b[2K\u001b[6A\u001b[2K\u001b[9A\u001b[2K\u001b[5A\u001b[2K\u001b[6A\u001b[2K\u001b[9A\u001b[2K\u001b[6A\u001b[2K\u001b[5A\u001b[2K\u001b[9A\u001b[2K\u001b[6A\u001b[2K\u001b[5A\u001b[2K\u001b[6A\u001b[2K\u001b[9A\u001b[2K\u001b[5A\u001b[2K\u001b[6A\u001b[2K\u001b[9A\u001b[2K\u001b[6A\u001b[2K\u001b[5A\u001b[2K\u001b[9A\u001b[2K\u001b[6A\u001b[2K\u001b[5A\u001b[2K\u001b[6A\u001b[2K\u001b[9A\u001b[2K\u001b[5A\u001b[2K\u001b[6A\u001b[2K\u001b[5A\u001b[2K\u001b[9A\u001b[2K\u001b[6A\u001b[2K\u001b[5A\u001b[2K\u001b[9A\u001b[2K\u001b[6A\u001b[2K\u001b[5A\u001b[2K\u001b[9A\u001b[2K\u001b[6A\u001b[2K\u001b[5A\u001b[2K\u001b[9A\u001b[2K\u001b[5A\u001b[2K\u001b[9A\u001b[2K\u001b[5A\u001b[2K\u001b[6A\u001b[2K\u001b[5A\u001b[2K\u001b[9A\u001b[2K\u001b[6A\u001b[2K\u001b[5A\u001b[2K\u001b[6A\u001b[2K\u001b[9A\u001b[2K\u001b[6A\u001b[2K\u001b[5A\u001b[2K\u001b[9A\u001b[2K\u001b[6A\u001b[2K\u001b[5A\u001b[2K\u001b[9A\u001b[2K\u001b[6A\u001b[2K\u001b[5A\u001b[2K\u001b[9A\u001b[2K\u001b[6A\u001b[2K\u001b[5A\u001b[2K\u001b[9A\u001b[2K\u001b[6A\u001b[2K\u001b[5A\u001b[2K\u001b[9A\u001b[2K\u001b[6A\u001b[2K\u001b[5A\u001b[2K\u001b[9A\u001b[2K\u001b[6A\u001b[2K\u001b[5A\u001b[2K\u001b[6A\u001b[2K\u001b[5A\u001b[2K\u001b[6A\u001b[2K\u001b[9A\u001b[2K\u001b[5A\u001b[2K\u001b[6A\u001b[2K\u001b[9A\u001b[2K\u001b[5A\u001b[2K\u001b[6A\u001b[2K\u001b[9A\u001b[2K\u001b[5A\u001b[2K\u001b[6A\u001b[2K\u001b[9A\u001b[2K\u001b[5A\u001b[2K\u001b[6A\u001b[2K\u001b[9A\u001b[2K\u001b[5A\u001b[2K\u001b[6A\u001b[2K\u001b[5A\u001b[2K\u001b[6A\u001b[2K\u001b[5A\u001b[2K\u001b[6A\u001b[2K\u001b[9A\u001b[2K\u001b[5A\u001b[2K\u001b[6A\u001b[2K\u001b[9A\u001b[2K\u001b[6A\u001b[2K\u001b[5A\u001b[2K\u001b[9A\u001b[2K\u001b[5A\u001b[2K\u001b[9A\u001b[2K\u001b[4A\u001b[2K\u001b[4A\u001b[2K\u001b[4A\u001b[2K\u001b[4A\u001b[2K\u001b[5A\u001b[2K\u001b[4A\u001b[2K\u001b[9A\u001b[2K\u001b[4A\u001b[2K\u001b[4A\u001b[2K\u001b[4A\u001b[2K\u001b[4A\u001b[2K\u001b[4A\u001b[2K\u001b[4A\u001b[2K\u001b[4A\u001b[2K\u001b[4A\u001b[2K\u001b[4A\u001b[2K\u001b[9A\u001b[2K\u001b[4A\u001b[2K\u001b[4A\u001b[2K\u001b[9A\u001b[2K\u001b[4A\u001b[2K\u001b[9A\u001b[2K\u001b[9A\u001b[2K\u001b[4A\u001b[2K\u001b[9A\u001b[2K\u001b[9A\u001b[2K\u001b[4A\u001b[2K\u001b[9A\u001b[2K\u001b[9A\u001b[2K\u001b[9A\u001b[2K\u001b[9A\u001b[2K\u001b[8A\u001b[2K\u001b[8A\u001b[2K\u001b[5A\u001b[2K\u001b[7A\u001b[2K\u001b[7A\u001b[2K\u001b[6A\u001b[2K\u001b[6A\u001b[2K\u001b[3A\u001b[2K\u001b[6A\u001b[2K\u001b[4A\u001b[2K\u001b[6A\u001b[2K\u001b[6A\u001b[2K\u001b[6A\u001b[2K\u001b[4A\u001b[2K\u001b[6A\u001b[2K\u001b[6A\u001b[2K\u001b[3A\u001b[2K\u001b[6A\u001b[2K\u001b[6A\u001b[2K\u001b[6A\u001b[2K\u001b[4A\u001b[2K\u001b[3A\u001b[2K\u001b[4A\u001b[2K\u001b[3A\u001b[2K\u001b[4A\u001b[2K\u001b[4A\u001b[2K\u001b[5A\u001b[2K\u001b[4A\u001b[2K\u001b[4A\u001b[2K\u001b[4A\u001b[2K\u001b[3A\u001b[2K\u001b[4A\u001b[2K\u001b[3A\u001b[2K\u001b[4A\u001b[2K\u001b[4A\u001b[2K\u001b[3A\u001b[2K\u001b[4A\u001b[2K\u001b[3A\u001b[2K\u001b[4A\u001b[2K\u001b[5A\u001b[2K\u001b[4A\u001b[2K\u001b[4A\u001b[2K\u001b[4A\u001b[2K\u001b[3A\u001b[2K\u001b[4A\u001b[2K\u001b[4A\u001b[2K\u001b[3A\u001b[2K\u001b[4A\u001b[2K\u001b[4A\u001b[2K\u001b[3A\u001b[2K\u001b[4A\u001b[2K\u001b[4A\u001b[2K\u001b[3A\u001b[2K\u001b[4A\u001b[2K\u001b[4A\u001b[2K\u001b[3A\u001b[2K\u001b[4A\u001b[2K\u001b[4A\u001b[2K\u001b[3A\u001b[2K\u001b[4A\u001b[2K\u001b[4A\u001b[2K\u001b[3A\u001b[2K\u001b[4A\u001b[2K\u001b[4A\u001b[2K\u001b[3A\u001b[2K\u001b[4A\u001b[2K\u001b[4A\u001b[2K\u001b[4A\u001b[2K\u001b[4A\u001b[2K\u001b[5A\u001b[2K\u001b[4A\u001b[2K\u001b[4A\u001b[2K\u001b[3A\u001b[2K\u001b[4A\u001b[2K\u001b[4A\u001b[2K\u001b[3A\u001b[2K\u001b[4A\u001b[2K\u001b[5A\u001b[2K\u001b[4A\u001b[2K\u001b[4A\u001b[2K\u001b[3A\u001b[2K\u001b[4A\u001b[2K\u001b[3A\u001b[2K\u001b[4A\u001b[2K\u001b[4A\u001b[2K\u001b[3A\u001b[2K\u001b[4A\u001b[2K\u001b[4A\u001b[2K\u001b[4A\u001b[2K\u001b[3A\u001b[2KDownloading  6.134MB/19.93MB\u001b[4A\u001b[2K\u001b[4A\u001b[2K\u001b[4A\u001b[2K\u001b[3A\u001b[2K\u001b[4A\u001b[2K\u001b[4A\u001b[2K\u001b[4A\u001b[2K\u001b[4A\u001b[2K\u001b[4A\u001b[2K\u001b[3A\u001b[2K\u001b[4A\u001b[2K\u001b[4A\u001b[2K\u001b[5A\u001b[2K\u001b[4A\u001b[2K\u001b[3A\u001b[2K\u001b[3A\u001b[2K\u001b[5A\u001b[2K\u001b[3A\u001b[2K\u001b[2A\u001b[2K\u001b[3A\u001b[2K\u001b[5A\u001b[2K\u001b[3A\u001b[2K\u001b[3A\u001b[2K\u001b[5A\u001b[2K\u001b[1A\u001b[2K\u001b[1A\u001b[2K\u001b[3A\u001b[2K\u001b[1A\u001b[2K\u001b[1A\u001b[2K\u001b[1A\u001b[2K\u001b[1A\u001b[2K\u001b[3A\u001b[2K\u001b[1A\u001b[2K\u001b[1A\u001b[2K\u001b[1A\u001b[2K\u001b[3A\u001b[2K\u001b[1A\u001b[2K\u001b[5A\u001b[2K\u001b[1A\u001b[2K\u001b[1A\u001b[2K\u001b[1A\u001b[2K\u001b[1A\u001b[2K\u001b[3A\u001b[2K\u001b[1A\u001b[2K\u001b[1A\u001b[2K\u001b[1A\u001b[2K\u001b[1A\u001b[2K\u001b[1A\u001b[2K\u001b[1A\u001b[2K\u001b[3A\u001b[2K\u001b[1A\u001b[2K\u001b[1A\u001b[2K\u001b[1A\u001b[2K\u001b[1A\u001b[2K\u001b[1A\u001b[2K\u001b[1A\u001b[2K\u001b[1A\u001b[2K\u001b[3A\u001b[2K\u001b[1A\u001b[2K\u001b[1A\u001b[2K\u001b[1A\u001b[2K\u001b[1A\u001b[2K\u001b[1A\u001b[2K\u001b[3A\u001b[2K\u001b[1A\u001b[2K\u001b[1A\u001b[2K\u001b[1A\u001b[2K\u001b[1A\u001b[2K\u001b[3A\u001b[2K\u001b[5A\u001b[2K\u001b[3A\u001b[2K\u001b[3A\u001b[2K\u001b[3A\u001b[2K\u001b[5A\u001b[2K\u001b[3A\u001b[2K\u001b[3A\u001b[2K\u001b[3A\u001b[2K\u001b[5A\u001b[2K\u001b[3A\u001b[2K\u001b[3A\u001b[2K\u001b[3A\u001b[2K\u001b[5A\u001b[2K\u001b[3A\u001b[2K\u001b[3A\u001b[2K\u001b[3A\u001b[2K\u001b[5A\u001b[2K\u001b[3A\u001b[2K\u001b[3A\u001b[2K\u001b[3A\u001b[2K\u001b[5A\u001b[2K\u001b[3A\u001b[2K\u001b[3A\u001b[2K\u001b[3A\u001b[2KDownloading  13.33MB/19.93MB\u001b[5A\u001b[2K\u001b[3A\u001b[2K\u001b[3A\u001b[2K\u001b[5A\u001b[2K\u001b[3A\u001b[2K\u001b[3A\u001b[2K\u001b[3A\u001b[2K\u001b[5A\u001b[2K\u001b[3A\u001b[2K\u001b[3A\u001b[2K\u001b[3A\u001b[2K\u001b[5A\u001b[2K\u001b[3A\u001b[2K\u001b[3A\u001b[2K\u001b[5A\u001b[2K\u001b[3A\u001b[2K\u001b[3A\u001b[2K\u001b[3A\u001b[2K\u001b[5A\u001b[2K\u001b[3A\u001b[2K\u001b[3A\u001b[2K\u001b[5A\u001b[2K\u001b[3A\u001b[2K\u001b[3A\u001b[2K\u001b[5A\u001b[2K\u001b[3A\u001b[2K\u001b[3A\u001b[2K\u001b[3A\u001b[2K\u001b[5A\u001b[2K\u001b[3A\u001b[2K\u001b[3A\u001b[2K\u001b[5A\u001b[2K\u001b[3A\u001b[2K\u001b[3A\u001b[2K\u001b[5A\u001b[2K\u001b[3A\u001b[2K\u001b[3A\u001b[2K\u001b[3A\u001b[2K\u001b[5A\u001b[2KDownloading  64.96MB/189.7MB\u001b[3A\u001b[2K\u001b[3A\u001b[2K\u001b[5A\u001b[2K\u001b[3A\u001b[2K\u001b[3A\u001b[2K\u001b[3A\u001b[2K\u001b[5A\u001b[2K\u001b[5A\u001b[2K\u001b[5A\u001b[2K\u001b[5A\u001b[2K\u001b[5A\u001b[2K\u001b[5A\u001b[2K\u001b[5A\u001b[2K\u001b[5A\u001b[2K\u001b[5A\u001b[2K\u001b[5A\u001b[2K\u001b[5A\u001b[2K\u001b[5A\u001b[2K\u001b[5A\u001b[2K\u001b[5A\u001b[2K\u001b[5A\u001b[2K\u001b[5A\u001b[2K\u001b[5A\u001b[2K\u001b[5A\u001b[2KDownloading  75.18MB/189.7MB\u001b[5A\u001b[2K\u001b[5A\u001b[2K\u001b[5A\u001b[2K\u001b[5A\u001b[2K\u001b[5A\u001b[2K\u001b[5A\u001b[2K\u001b[5A\u001b[2K\u001b[5A\u001b[2K\u001b[5A\u001b[2K\u001b[5A\u001b[2K\u001b[5A\u001b[2K\u001b[5A\u001b[2KDownloading  81.64MB/189.7MB\u001b[5A\u001b[2K\u001b[5A\u001b[2K\u001b[5A\u001b[2K\u001b[5A\u001b[2K\u001b[5A\u001b[2K\u001b[5A\u001b[2K\u001b[5A\u001b[2K\u001b[5A\u001b[2K\u001b[5A\u001b[2K\u001b[5A\u001b[2K\u001b[5A\u001b[2K\u001b[5A\u001b[2K\u001b[5A\u001b[2K\u001b[5A\u001b[2K\u001b[5A\u001b[2K\u001b[5A\u001b[2K\u001b[5A\u001b[2K\u001b[5A\u001b[2K\u001b[5A\u001b[2K\u001b[5A\u001b[2K\u001b[5A\u001b[2K\u001b[5A\u001b[2K\u001b[5A\u001b[2K\u001b[5A\u001b[2K\u001b[5A\u001b[2K\u001b[5A\u001b[2K\u001b[5A\u001b[2K\u001b[5A\u001b[2K\u001b[5A\u001b[2K\u001b[5A\u001b[2K\u001b[5A\u001b[2K\u001b[5A\u001b[2K\u001b[5A\u001b[2K\u001b[5A\u001b[2K\u001b[5A\u001b[2K\u001b[5A\u001b[2K\u001b[5A\u001b[2K\u001b[5A\u001b[2K\u001b[5A\u001b[2K\u001b[5A\u001b[2K\u001b[5A\u001b[2K\u001b[5A\u001b[2K\u001b[5A\u001b[2K\u001b[5A\u001b[2K\u001b[5A\u001b[2K\u001b[5A\u001b[2K\u001b[5A\u001b[2K\u001b[5A\u001b[2K\u001b[5A\u001b[2K\u001b[5A\u001b[2K\u001b[5A\u001b[2K\u001b[5A\u001b[2K\u001b[5A\u001b[2K\u001b[5A\u001b[2K\u001b[5A\u001b[2K\u001b[5A\u001b[2K\u001b[5A\u001b[2K\u001b[5A\u001b[2K\u001b[5A\u001b[2K\u001b[5A\u001b[2K\u001b[5A\u001b[2K\u001b[5A\u001b[2K\u001b[5A\u001b[2K\u001b[5A\u001b[2K\u001b[5A\u001b[2K\u001b[5A\u001b[2K\u001b[5A\u001b[2K\u001b[5A\u001b[2K\u001b[5A\u001b[2K\u001b[5A\u001b[2K\u001b[5A\u001b[2K\u001b[5A\u001b[2K\u001b[5A\u001b[2K\u001b[5A\u001b[2K\u001b[5A\u001b[2K\u001b[5A\u001b[2K\u001b[5A\u001b[2K\u001b[5A\u001b[2K\u001b[5A\u001b[2K\u001b[5A\u001b[2K\u001b[5A\u001b[2K\u001b[5A\u001b[2K\u001b[5A\u001b[2K\u001b[5A\u001b[2K\u001b[5A\u001b[2K\u001b[5A\u001b[2K\u001b[5A\u001b[2K\u001b[5A\u001b[2K\u001b[5A\u001b[2K\u001b[5A\u001b[2K\u001b[5A\u001b[2K\u001b[5A\u001b[2K\u001b[5A\u001b[2K\u001b[5A\u001b[2K\u001b[5A\u001b[2K\u001b[5A\u001b[2K\u001b[5A\u001b[2K\u001b[5A\u001b[2K\u001b[5A\u001b[2K\u001b[5A\u001b[2K\u001b[5A\u001b[2K\u001b[5A\u001b[2K\u001b[5A\u001b[2K\u001b[5A\u001b[2K\u001b[5A\u001b[2K\u001b[5A\u001b[2K\u001b[5A\u001b[2K\u001b[5A\u001b[2K\u001b[5A\u001b[2K\u001b[5A\u001b[2K\u001b[5A\u001b[2K\u001b[5A\u001b[2K\u001b[5A\u001b[2K\u001b[5A\u001b[2K\u001b[5A\u001b[2KDownloading  143.6MB/189.7MB\u001b[5A\u001b[2K\u001b[5A\u001b[2K\u001b[5A\u001b[2K\u001b[5A\u001b[2K\u001b[5A\u001b[2K\u001b[5A\u001b[2K\u001b[5A\u001b[2K\u001b[5A\u001b[2K\u001b[5A\u001b[2K\u001b[5A\u001b[2K\u001b[5A\u001b[2K\u001b[5A\u001b[2K\u001b[5A\u001b[2K\u001b[5A\u001b[2K\u001b[5A\u001b[2K\u001b[5A\u001b[2K\u001b[5A\u001b[2K\u001b[5A\u001b[2K\u001b[5A\u001b[2K\u001b[5A\u001b[2K\u001b[5A\u001b[2K\u001b[5A\u001b[2K\u001b[5A\u001b[2K\u001b[5A\u001b[2K\u001b[5A\u001b[2K\u001b[5A\u001b[2K\u001b[5A\u001b[2K\u001b[5A\u001b[2K\u001b[5A\u001b[2K\u001b[5A\u001b[2K\u001b[5A\u001b[2K\u001b[5A\u001b[2K\u001b[5A\u001b[2K\u001b[5A\u001b[2K\u001b[5A\u001b[2K\u001b[5A\u001b[2K\u001b[5A\u001b[2K\u001b[5A\u001b[2K\u001b[5A\u001b[2K\u001b[5A\u001b[2K\u001b[5A\u001b[2K\u001b[5A\u001b[2K\u001b[5A\u001b[2K\u001b[5A\u001b[2K\u001b[5A\u001b[2K\u001b[5A\u001b[2K\u001b[5A\u001b[2K\u001b[5A\u001b[2K\u001b[5A\u001b[2K\u001b[5A\u001b[2K\u001b[5A\u001b[2K\u001b[5A\u001b[2K\u001b[5A\u001b[2K\u001b[5A\u001b[2K\u001b[5A\u001b[2K\u001b[5A\u001b[2K\u001b[5A\u001b[2K\u001b[5A\u001b[2K\u001b[5A\u001b[2K\u001b[5A\u001b[2K\u001b[5A\u001b[2K\u001b[5A\u001b[2K\u001b[5A\u001b[2K\u001b[5A\u001b[2K\u001b[5A\u001b[2K\u001b[5A\u001b[2K\u001b[5A\u001b[2K\u001b[5A\u001b[2K\u001b[5A\u001b[2K\u001b[5A\u001b[2K\u001b[5A\u001b[2K\u001b[5A\u001b[2K\u001b[5A\u001b[2K\u001b[5A\u001b[2K\u001b[5A\u001b[2K\u001b[5A\u001b[2K\u001b[5A\u001b[2K\u001b[5A\u001b[2K\u001b[5A\u001b[2K\u001b[5A\u001b[2K\u001b[5A\u001b[2K\u001b[5A\u001b[2K\u001b[5A\u001b[2K\u001b[5A\u001b[2K\u001b[5A\u001b[2K\u001b[5A\u001b[2K\u001b[5A\u001b[2K\u001b[5A\u001b[2K\u001b[5A\u001b[2K\u001b[5A\u001b[2K\u001b[5A\u001b[2K\u001b[5A\u001b[2K\u001b[5A\u001b[2K\u001b[5A\u001b[2K\u001b[5A\u001b[2K\u001b[5A\u001b[2K\u001b[5A\u001b[2K\u001b[5A\u001b[2K\u001b[5A\u001b[2K\u001b[5A\u001b[2K\u001b[5A\u001b[2K\u001b[5A\u001b[2K\u001b[5A\u001b[2K\u001b[5A\u001b[2K\u001b[5A\u001b[2K\u001b[5A\u001b[2K\u001b[5A\u001b[2K\u001b[5A\u001b[2K\u001b[5A\u001b[2K\u001b[5A\u001b[2K\u001b[5A\u001b[2K\u001b[5A\u001b[2K\u001b[5A\u001b[2K\u001b[5A\u001b[2K\u001b[5A\u001b[2K\u001b[4A\u001b[2K\u001b[4A\u001b[2K\u001b[3A\u001b[2K\u001b[3A\u001b[2K\u001b[3A\u001b[2K\u001b[3A\u001b[2K\u001b[3A\u001b[2K\u001b[2A\u001b[2K\u001b[1A\u001b[2K\n",
      "Status: Downloaded newer image for python:3\n",
      "docker.io/library/python:3\n"
     ]
    }
   ],
   "source": [
    "!docker pull python:3"
   ]
  },
  {
   "cell_type": "markdown",
   "metadata": {
    "id": "b589e839-c5da-464b-9ee4-662e96008781"
   },
   "source": [
    "### docker build\n",
    "Lệnh này dùng để build một image từ Dockerfile và context. Context ở đây là một tập file được xác đinh bởi đường dẫn hoặc url cụ thể. Ta có thể sử dụng thêm tham số `-t` để gắn nhãn cho image.\n",
    "\n",
    "`docker build -t your_name_container`"
   ]
  },
  {
   "cell_type": "code",
   "execution_count": null,
   "metadata": {
    "collapsed": true,
    "id": "b3bb9b65-6f63-467d-892e-02967ea26474",
    "jupyter": {
     "outputs_hidden": true
    },
    "outputId": "00f0775e-6ec1-433d-8389-96dbae86f82b",
    "tags": []
   },
   "outputs": [
    {
     "name": "stdout",
     "output_type": "stream",
     "text": [
      "\u001b[1A\u001b[1B\u001b[0G\u001b[?25l[+] Building 0.0s (0/1)                                                         \n",
      "\u001b[?25h\u001b[1A\u001b[0G\u001b[?25l[+] Building 0.1s (7/8)                                                         \n",
      "\u001b[34m => [internal] load build definition from Dockerfile                       0.0s\n",
      "\u001b[0m\u001b[34m => => transferring dockerfile: 152B                                       0.0s\n",
      "\u001b[0m\u001b[34m => [internal] load .dockerignore                                          0.0s\n",
      "\u001b[0m\u001b[34m => => transferring context: 2B                                            0.0s\n",
      "\u001b[0m\u001b[34m => [internal] load metadata for docker.io/library/python:3                0.0s\n",
      "\u001b[0m\u001b[34m => [1/4] FROM docker.io/library/python:3                                  0.0s\n",
      "\u001b[0m\u001b[34m => [internal] load build context                                          0.0s\n",
      "\u001b[0m\u001b[34m => => transferring context: 202.93kB                                      0.0s\n",
      "\u001b[0m\u001b[34m => CACHED [2/4] WORKDIR /Users/khongdat/Library/CloudStorage/GoogleDrive  0.0s\n",
      "\u001b[0m\u001b[34m => [3/4] COPY . .                                                         0.0s\n",
      "\u001b[0m\u001b[?25h\u001b[1A\u001b[1A\u001b[1A\u001b[1A\u001b[1A\u001b[1A\u001b[1A\u001b[1A\u001b[1A\u001b[1A\u001b[1A\u001b[0G\u001b[?25l[+] Building 0.3s (7/8)                                                         \n",
      "\u001b[34m => [internal] load build definition from Dockerfile                       0.0s\n",
      "\u001b[0m\u001b[34m => => transferring dockerfile: 152B                                       0.0s\n",
      "\u001b[0m\u001b[34m => [internal] load .dockerignore                                          0.0s\n",
      "\u001b[0m\u001b[34m => => transferring context: 2B                                            0.0s\n",
      "\u001b[0m\u001b[34m => [internal] load metadata for docker.io/library/python:3                0.0s\n",
      "\u001b[0m\u001b[34m => [1/4] FROM docker.io/library/python:3                                  0.0s\n",
      "\u001b[0m\u001b[34m => [internal] load build context                                          0.0s\n",
      "\u001b[0m\u001b[34m => => transferring context: 202.93kB                                      0.0s\n",
      "\u001b[0m\u001b[34m => CACHED [2/4] WORKDIR /Users/khongdat/Library/CloudStorage/GoogleDrive  0.0s\n",
      "\u001b[0m\u001b[34m => [3/4] COPY . .                                                         0.0s\n",
      "\u001b[0m => [4/4] RUN pip install flask                                            0.2s\n",
      "\u001b[?25h\u001b[1A\u001b[1A\u001b[1A\u001b[1A\u001b[1A\u001b[1A\u001b[1A\u001b[1A\u001b[1A\u001b[1A\u001b[1A\u001b[1A\u001b[0G\u001b[?25l[+] Building 0.4s (7/8)                                                         \n",
      "\u001b[34m => [internal] load build definition from Dockerfile                       0.0s\n",
      "\u001b[0m\u001b[34m => => transferring dockerfile: 152B                                       0.0s\n",
      "\u001b[0m\u001b[34m => [internal] load .dockerignore                                          0.0s\n",
      "\u001b[0m\u001b[34m => => transferring context: 2B                                            0.0s\n",
      "\u001b[0m\u001b[34m => [internal] load metadata for docker.io/library/python:3                0.0s\n",
      "\u001b[0m\u001b[34m => [1/4] FROM docker.io/library/python:3                                  0.0s\n",
      "\u001b[0m\u001b[34m => [internal] load build context                                          0.0s\n",
      "\u001b[0m\u001b[34m => => transferring context: 202.93kB                                      0.0s\n",
      "\u001b[0m\u001b[34m => CACHED [2/4] WORKDIR /Users/khongdat/Library/CloudStorage/GoogleDrive  0.0s\n",
      "\u001b[0m\u001b[34m => [3/4] COPY . .                                                         0.0s\n",
      "\u001b[0m => [4/4] RUN pip install flask                                            0.3s\n",
      "\u001b[?25h\u001b[1A\u001b[1A\u001b[1A\u001b[1A\u001b[1A\u001b[1A\u001b[1A\u001b[1A\u001b[1A\u001b[1A\u001b[1A\u001b[1A\u001b[0G\u001b[?25l[+] Building 0.6s (7/8)                                                         \n",
      "\u001b[34m => [internal] load build definition from Dockerfile                       0.0s\n",
      "\u001b[0m\u001b[34m => => transferring dockerfile: 152B                                       0.0s\n",
      "\u001b[0m\u001b[34m => [internal] load .dockerignore                                          0.0s\n",
      "\u001b[0m\u001b[34m => => transferring context: 2B                                            0.0s\n",
      "\u001b[0m\u001b[34m => [internal] load metadata for docker.io/library/python:3                0.0s\n",
      "\u001b[0m\u001b[34m => [1/4] FROM docker.io/library/python:3                                  0.0s\n",
      "\u001b[0m\u001b[34m => [internal] load build context                                          0.0s\n",
      "\u001b[0m\u001b[34m => => transferring context: 202.93kB                                      0.0s\n",
      "\u001b[0m\u001b[34m => CACHED [2/4] WORKDIR /Users/khongdat/Library/CloudStorage/GoogleDrive  0.0s\n",
      "\u001b[0m\u001b[34m => [3/4] COPY . .                                                         0.0s\n",
      "\u001b[0m => [4/4] RUN pip install flask                                            0.5s\n",
      "\u001b[?25h\u001b[1A\u001b[1A\u001b[1A\u001b[1A\u001b[1A\u001b[1A\u001b[1A\u001b[1A\u001b[1A\u001b[1A\u001b[1A\u001b[1A\u001b[0G\u001b[?25l[+] Building 0.7s (7/8)                                                         \n",
      "\u001b[34m => [internal] load build definition from Dockerfile                       0.0s\n",
      "\u001b[0m\u001b[34m => => transferring dockerfile: 152B                                       0.0s\n",
      "\u001b[0m\u001b[34m => [internal] load .dockerignore                                          0.0s\n",
      "\u001b[0m\u001b[34m => => transferring context: 2B                                            0.0s\n",
      "\u001b[0m\u001b[34m => [internal] load metadata for docker.io/library/python:3                0.0s\n",
      "\u001b[0m\u001b[34m => [1/4] FROM docker.io/library/python:3                                  0.0s\n",
      "\u001b[0m\u001b[34m => [internal] load build context                                          0.0s\n",
      "\u001b[0m\u001b[34m => => transferring context: 202.93kB                                      0.0s\n",
      "\u001b[0m\u001b[34m => CACHED [2/4] WORKDIR /Users/khongdat/Library/CloudStorage/GoogleDrive  0.0s\n",
      "\u001b[0m\u001b[34m => [3/4] COPY . .                                                         0.0s\n",
      "\u001b[0m => [4/4] RUN pip install flask                                            0.6s\n",
      "\u001b[?25h\u001b[1A\u001b[1A\u001b[1A\u001b[1A\u001b[1A\u001b[1A\u001b[1A\u001b[1A\u001b[1A\u001b[1A\u001b[1A\u001b[1A\u001b[0G\u001b[?25l[+] Building 0.9s (7/8)                                                         \n",
      "\u001b[34m => [internal] load build definition from Dockerfile                       0.0s\n",
      "\u001b[0m\u001b[34m => => transferring dockerfile: 152B                                       0.0s\n",
      "\u001b[0m\u001b[34m => [internal] load .dockerignore                                          0.0s\n",
      "\u001b[0m\u001b[34m => => transferring context: 2B                                            0.0s\n",
      "\u001b[0m\u001b[34m => [internal] load metadata for docker.io/library/python:3                0.0s\n",
      "\u001b[0m\u001b[34m => [1/4] FROM docker.io/library/python:3                                  0.0s\n",
      "\u001b[0m\u001b[34m => [internal] load build context                                          0.0s\n",
      "\u001b[0m\u001b[34m => => transferring context: 202.93kB                                      0.0s\n",
      "\u001b[0m\u001b[34m => CACHED [2/4] WORKDIR /Users/khongdat/Library/CloudStorage/GoogleDrive  0.0s\n",
      "\u001b[0m\u001b[34m => [3/4] COPY . .                                                         0.0s\n",
      "\u001b[0m => [4/4] RUN pip install flask                                            0.8s\n",
      "\u001b[?25h\u001b[1A\u001b[1A\u001b[1A\u001b[1A\u001b[1A\u001b[1A\u001b[1A\u001b[1A\u001b[1A\u001b[1A\u001b[1A\u001b[1A\u001b[0G\u001b[?25l[+] Building 1.0s (7/8)                                                         \n",
      "\u001b[34m => [internal] load build definition from Dockerfile                       0.0s\n",
      "\u001b[0m\u001b[34m => => transferring dockerfile: 152B                                       0.0s\n",
      "\u001b[0m\u001b[34m => [internal] load .dockerignore                                          0.0s\n",
      "\u001b[0m\u001b[34m => => transferring context: 2B                                            0.0s\n",
      "\u001b[0m\u001b[34m => [internal] load metadata for docker.io/library/python:3                0.0s\n",
      "\u001b[0m\u001b[34m => [1/4] FROM docker.io/library/python:3                                  0.0s\n",
      "\u001b[0m\u001b[34m => [internal] load build context                                          0.0s\n",
      "\u001b[0m\u001b[34m => => transferring context: 202.93kB                                      0.0s\n",
      "\u001b[0m\u001b[34m => CACHED [2/4] WORKDIR /Users/khongdat/Library/CloudStorage/GoogleDrive  0.0s\n",
      "\u001b[0m\u001b[34m => [3/4] COPY . .                                                         0.0s\n",
      "\u001b[0m => [4/4] RUN pip install flask                                            0.9s\n",
      "\u001b[?25h\u001b[1A\u001b[1A\u001b[1A\u001b[1A\u001b[1A\u001b[1A\u001b[1A\u001b[1A\u001b[1A\u001b[1A\u001b[1A\u001b[1A\u001b[0G\u001b[?25l[+] Building 1.2s (7/8)                                                         \n",
      "\u001b[34m => [internal] load build definition from Dockerfile                       0.0s\n",
      "\u001b[0m\u001b[34m => => transferring dockerfile: 152B                                       0.0s\n",
      "\u001b[0m\u001b[34m => [internal] load .dockerignore                                          0.0s\n",
      "\u001b[0m\u001b[34m => => transferring context: 2B                                            0.0s\n",
      "\u001b[0m\u001b[34m => [internal] load metadata for docker.io/library/python:3                0.0s\n",
      "\u001b[0m\u001b[34m => [1/4] FROM docker.io/library/python:3                                  0.0s\n",
      "\u001b[0m\u001b[34m => [internal] load build context                                          0.0s\n",
      "\u001b[0m\u001b[34m => => transferring context: 202.93kB                                      0.0s\n",
      "\u001b[0m\u001b[34m => CACHED [2/4] WORKDIR /Users/khongdat/Library/CloudStorage/GoogleDrive  0.0s\n",
      "\u001b[0m\u001b[34m => [3/4] COPY . .                                                         0.0s\n",
      "\u001b[0m => [4/4] RUN pip install flask                                            1.1s\n",
      "\u001b[?25h\u001b[1A\u001b[1A\u001b[1A\u001b[1A\u001b[1A\u001b[1A\u001b[1A\u001b[1A\u001b[1A\u001b[1A\u001b[1A\u001b[1A\u001b[0G\u001b[?25l[+] Building 1.3s (7/8)                                                         \n",
      "\u001b[34m => [internal] load build definition from Dockerfile                       0.0s\n",
      "\u001b[0m\u001b[34m => => transferring dockerfile: 152B                                       0.0s\n",
      "\u001b[0m\u001b[34m => [internal] load .dockerignore                                          0.0s\n",
      "\u001b[0m\u001b[34m => => transferring context: 2B                                            0.0s\n",
      "\u001b[0m\u001b[34m => [internal] load metadata for docker.io/library/python:3                0.0s\n",
      "\u001b[0m\u001b[34m => [1/4] FROM docker.io/library/python:3                                  0.0s\n",
      "\u001b[0m\u001b[34m => [internal] load build context                                          0.0s\n",
      "\u001b[0m\u001b[34m => => transferring context: 202.93kB                                      0.0s\n",
      "\u001b[0m\u001b[34m => CACHED [2/4] WORKDIR /Users/khongdat/Library/CloudStorage/GoogleDrive  0.0s\n",
      "\u001b[0m\u001b[34m => [3/4] COPY . .                                                         0.0s\n",
      "\u001b[0m => [4/4] RUN pip install flask                                            1.2s\n",
      "\u001b[?25h\u001b[1A\u001b[1A\u001b[1A\u001b[1A\u001b[1A\u001b[1A\u001b[1A\u001b[1A\u001b[1A\u001b[1A\u001b[1A\u001b[1A\u001b[0G\u001b[?25l[+] Building 1.5s (7/8)                                                         \n",
      "\u001b[34m => [internal] load build definition from Dockerfile                       0.0s\n",
      "\u001b[0m\u001b[34m => => transferring dockerfile: 152B                                       0.0s\n",
      "\u001b[0m\u001b[34m => [internal] load .dockerignore                                          0.0s\n",
      "\u001b[0m\u001b[34m => => transferring context: 2B                                            0.0s\n",
      "\u001b[0m\u001b[34m => [internal] load metadata for docker.io/library/python:3                0.0s\n",
      "\u001b[0m\u001b[34m => [1/4] FROM docker.io/library/python:3                                  0.0s\n",
      "\u001b[0m\u001b[34m => [internal] load build context                                          0.0s\n",
      "\u001b[0m\u001b[34m => => transferring context: 202.93kB                                      0.0s\n",
      "\u001b[0m\u001b[34m => CACHED [2/4] WORKDIR /Users/khongdat/Library/CloudStorage/GoogleDrive  0.0s\n",
      "\u001b[0m\u001b[34m => [3/4] COPY . .                                                         0.0s\n",
      "\u001b[0m => [4/4] RUN pip install flask                                            1.4s\n",
      "\u001b[?25h\u001b[1A\u001b[1A\u001b[1A\u001b[1A\u001b[1A\u001b[1A\u001b[1A\u001b[1A\u001b[1A\u001b[1A\u001b[1A\u001b[1A\u001b[0G\u001b[?25l[+] Building 1.6s (7/8)                                                         \n",
      "\u001b[34m => [internal] load build definition from Dockerfile                       0.0s\n",
      "\u001b[0m\u001b[34m => => transferring dockerfile: 152B                                       0.0s\n",
      "\u001b[0m\u001b[34m => [internal] load .dockerignore                                          0.0s\n",
      "\u001b[0m\u001b[34m => => transferring context: 2B                                            0.0s\n",
      "\u001b[0m\u001b[34m => [internal] load metadata for docker.io/library/python:3                0.0s\n",
      "\u001b[0m\u001b[34m => [1/4] FROM docker.io/library/python:3                                  0.0s\n",
      "\u001b[0m\u001b[34m => [internal] load build context                                          0.0s\n",
      "\u001b[0m\u001b[34m => => transferring context: 202.93kB                                      0.0s\n",
      "\u001b[0m\u001b[34m => CACHED [2/4] WORKDIR /Users/khongdat/Library/CloudStorage/GoogleDrive  0.0s\n",
      "\u001b[0m\u001b[34m => [3/4] COPY . .                                                         0.0s\n",
      "\u001b[0m => [4/4] RUN pip install flask                                            1.5s\n",
      "\u001b[2m => => # Collecting flask                                                      \n",
      "\u001b[0m\u001b[?25h\u001b[1A\u001b[1A\u001b[1A\u001b[1A\u001b[1A\u001b[1A\u001b[1A\u001b[1A\u001b[1A\u001b[1A\u001b[1A\u001b[1A\u001b[1A\u001b[0G\u001b[?25l[+] Building 1.8s (7/8)                                                         \n",
      "\u001b[34m => [internal] load build definition from Dockerfile                       0.0s\n",
      "\u001b[0m\u001b[34m => => transferring dockerfile: 152B                                       0.0s\n",
      "\u001b[0m\u001b[34m => [internal] load .dockerignore                                          0.0s\n",
      "\u001b[0m\u001b[34m => => transferring context: 2B                                            0.0s\n",
      "\u001b[0m\u001b[34m => [internal] load metadata for docker.io/library/python:3                0.0s\n",
      "\u001b[0m\u001b[34m => [1/4] FROM docker.io/library/python:3                                  0.0s\n",
      "\u001b[0m\u001b[34m => [internal] load build context                                          0.0s\n",
      "\u001b[0m\u001b[34m => => transferring context: 202.93kB                                      0.0s\n",
      "\u001b[0m\u001b[34m => CACHED [2/4] WORKDIR /Users/khongdat/Library/CloudStorage/GoogleDrive  0.0s\n",
      "\u001b[0m\u001b[34m => [3/4] COPY . .                                                         0.0s\n",
      "\u001b[0m => [4/4] RUN pip install flask                                            1.7s\n",
      "\u001b[2m => => # Collecting flask                                                      \n",
      "\u001b[0m\u001b[?25h\u001b[1A\u001b[1A\u001b[1A\u001b[1A\u001b[1A\u001b[1A\u001b[1A\u001b[1A\u001b[1A\u001b[1A\u001b[1A\u001b[1A\u001b[1A\u001b[0G\u001b[?25l[+] Building 1.9s (7/8)                                                         \n",
      "\u001b[34m => [internal] load build definition from Dockerfile                       0.0s\n",
      "\u001b[0m\u001b[34m => => transferring dockerfile: 152B                                       0.0s\n",
      "\u001b[0m\u001b[34m => [internal] load .dockerignore                                          0.0s\n",
      "\u001b[0m\u001b[34m => => transferring context: 2B                                            0.0s\n",
      "\u001b[0m\u001b[34m => [internal] load metadata for docker.io/library/python:3                0.0s\n",
      "\u001b[0m\u001b[34m => [1/4] FROM docker.io/library/python:3                                  0.0s\n",
      "\u001b[0m\u001b[34m => [internal] load build context                                          0.0s\n",
      "\u001b[0m\u001b[34m => => transferring context: 202.93kB                                      0.0s\n",
      "\u001b[0m\u001b[34m => CACHED [2/4] WORKDIR /Users/khongdat/Library/CloudStorage/GoogleDrive  0.0s\n",
      "\u001b[0m\u001b[34m => [3/4] COPY . .                                                         0.0s\n",
      "\u001b[0m => [4/4] RUN pip install flask                                            1.8s\n",
      "\u001b[2m => => # Collecting flask                                                      \n",
      "\u001b[0m\u001b[?25h\u001b[1A\u001b[1A\u001b[1A\u001b[1A\u001b[1A\u001b[1A\u001b[1A\u001b[1A\u001b[1A\u001b[1A\u001b[1A\u001b[1A\u001b[1A\u001b[0G\u001b[?25l[+] Building 2.1s (7/8)                                                         \n",
      "\u001b[34m => [internal] load build definition from Dockerfile                       0.0s\n",
      "\u001b[0m\u001b[34m => => transferring dockerfile: 152B                                       0.0s\n",
      "\u001b[0m\u001b[34m => [internal] load .dockerignore                                          0.0s\n",
      "\u001b[0m\u001b[34m => => transferring context: 2B                                            0.0s\n",
      "\u001b[0m\u001b[34m => [internal] load metadata for docker.io/library/python:3                0.0s\n",
      "\u001b[0m\u001b[34m => [1/4] FROM docker.io/library/python:3                                  0.0s\n",
      "\u001b[0m\u001b[34m => [internal] load build context                                          0.0s\n",
      "\u001b[0m\u001b[34m => => transferring context: 202.93kB                                      0.0s\n",
      "\u001b[0m\u001b[34m => CACHED [2/4] WORKDIR /Users/khongdat/Library/CloudStorage/GoogleDrive  0.0s\n",
      "\u001b[0m\u001b[34m => [3/4] COPY . .                                                         0.0s\n",
      "\u001b[0m => [4/4] RUN pip install flask                                            2.0s\n",
      "\u001b[2m => => # Collecting flask                                                      \n",
      "\u001b[0m\u001b[2m => => #   Downloading Flask-2.2.3-py3-none-any.whl (101 kB)                   \n",
      "\u001b[0m\u001b[?25h\u001b[1A\u001b[1A\u001b[1A\u001b[1A\u001b[1A\u001b[1A\u001b[1A\u001b[1A\u001b[1A\u001b[1A\u001b[1A\u001b[1A\u001b[1A\u001b[1A\u001b[0G\u001b[?25l[+] Building 2.2s (7/8)                                                         \n",
      "\u001b[34m => [internal] load build definition from Dockerfile                       0.0s\n",
      "\u001b[0m\u001b[34m => => transferring dockerfile: 152B                                       0.0s\n",
      "\u001b[0m\u001b[34m => [internal] load .dockerignore                                          0.0s\n",
      "\u001b[0m\u001b[34m => => transferring context: 2B                                            0.0s\n",
      "\u001b[0m\u001b[34m => [internal] load metadata for docker.io/library/python:3                0.0s\n",
      "\u001b[0m\u001b[34m => [1/4] FROM docker.io/library/python:3                                  0.0s\n",
      "\u001b[0m\u001b[34m => [internal] load build context                                          0.0s\n",
      "\u001b[0m\u001b[34m => => transferring context: 202.93kB                                      0.0s\n",
      "\u001b[0m\u001b[34m => CACHED [2/4] WORKDIR /Users/khongdat/Library/CloudStorage/GoogleDrive  0.0s\n",
      "\u001b[0m\u001b[34m => [3/4] COPY . .                                                         0.0s\n",
      "\u001b[0m => [4/4] RUN pip install flask                                            2.1s\n",
      "\u001b[2m => => # Collecting flask                                                      \n",
      "\u001b[0m\u001b[2m => => #   Downloading Flask-2.2.3-py3-none-any.whl (101 kB)                   \n",
      "\u001b[0m\u001b[2m => => #      ━━━━━━━━━━━━━━━━━━━━━━━━━━━━━━━━━━━━━ 101.8/101.8 kB 878.6 kB/s e\n",
      "\u001b[0m\u001b[2m => => # ta 0:00:00                                                            \n",
      "\u001b[0m\u001b[2m => => # Collecting Werkzeug>=2.2.2                                            \n",
      "\u001b[0m\u001b[?25h\u001b[1A\u001b[1A\u001b[1A\u001b[1A\u001b[1A\u001b[1A\u001b[1A\u001b[1A\u001b[1A\u001b[1A\u001b[1A\u001b[1A\u001b[1A\u001b[1A\u001b[1A\u001b[1A\u001b[1A\u001b[0G\u001b[?25l[+] Building 2.4s (7/8)                                                         \n",
      "\u001b[34m => [internal] load build definition from Dockerfile                       0.0s\n",
      "\u001b[0m\u001b[34m => => transferring dockerfile: 152B                                       0.0s\n",
      "\u001b[0m\u001b[34m => [internal] load .dockerignore                                          0.0s\n",
      "\u001b[0m\u001b[34m => => transferring context: 2B                                            0.0s\n",
      "\u001b[0m\u001b[34m => [internal] load metadata for docker.io/library/python:3                0.0s\n",
      "\u001b[0m\u001b[34m => [1/4] FROM docker.io/library/python:3                                  0.0s\n",
      "\u001b[0m\u001b[34m => [internal] load build context                                          0.0s\n",
      "\u001b[0m\u001b[34m => => transferring context: 202.93kB                                      0.0s\n",
      "\u001b[0m\u001b[34m => CACHED [2/4] WORKDIR /Users/khongdat/Library/CloudStorage/GoogleDrive  0.0s\n",
      "\u001b[0m\u001b[34m => [3/4] COPY . .                                                         0.0s\n",
      "\u001b[0m => [4/4] RUN pip install flask                                            2.3s\n",
      "\u001b[2m => => # Collecting flask                                                      \n",
      "\u001b[0m\u001b[2m => => #   Downloading Flask-2.2.3-py3-none-any.whl (101 kB)                   \n",
      "\u001b[0m\u001b[2m => => #      ━━━━━━━━━━━━━━━━━━━━━━━━━━━━━━━━━━━━━ 101.8/101.8 kB 878.6 kB/s e\n",
      "\u001b[0m\u001b[2m => => # ta 0:00:00                                                            \n",
      "\u001b[0m\u001b[2m => => # Collecting Werkzeug>=2.2.2                                            \n",
      "\u001b[0m\u001b[2m => => #   Downloading Werkzeug-2.2.3-py3-none-any.whl (233 kB)                \n",
      "\u001b[0m\u001b[?25h\u001b[1A\u001b[1A\u001b[1A\u001b[1A\u001b[1A\u001b[1A\u001b[1A\u001b[1A\u001b[1A\u001b[1A\u001b[1A\u001b[1A\u001b[1A\u001b[1A\u001b[1A\u001b[1A\u001b[1A\u001b[1A\u001b[0G\u001b[?25l[+] Building 2.5s (7/8)                                                         \n",
      "\u001b[34m => [internal] load build definition from Dockerfile                       0.0s\n",
      "\u001b[0m\u001b[34m => => transferring dockerfile: 152B                                       0.0s\n",
      "\u001b[0m\u001b[34m => [internal] load .dockerignore                                          0.0s\n",
      "\u001b[0m\u001b[34m => => transferring context: 2B                                            0.0s\n",
      "\u001b[0m\u001b[34m => [internal] load metadata for docker.io/library/python:3                0.0s\n",
      "\u001b[0m\u001b[34m => [1/4] FROM docker.io/library/python:3                                  0.0s\n",
      "\u001b[0m\u001b[34m => [internal] load build context                                          0.0s\n",
      "\u001b[0m\u001b[34m => => transferring context: 202.93kB                                      0.0s\n",
      "\u001b[0m\u001b[34m => CACHED [2/4] WORKDIR /Users/khongdat/Library/CloudStorage/GoogleDrive  0.0s\n",
      "\u001b[0m\u001b[34m => [3/4] COPY . .                                                         0.0s\n",
      "\u001b[0m => [4/4] RUN pip install flask                                            2.4s\n",
      "\u001b[2m => => #      ━━━━━━━━━━━━━━━━━━━━━━━━━━━━━━━━━━━━━ 101.8/101.8 kB 878.6 kB/s e\n",
      "\u001b[0m\u001b[2m => => # ta 0:00:00                                                            \n",
      "\u001b[0m\u001b[2m => => # Collecting Werkzeug>=2.2.2                                            \n",
      "\u001b[0m\u001b[2m => => #   Downloading Werkzeug-2.2.3-py3-none-any.whl (233 kB)                \n",
      "\u001b[0m\u001b[2m => => #      ━━━━━━━━━━━━━━━━━━━━━━━━━━━━━━━━━━━━━━━ 233.6/233.6 kB 1.2 MB/s e\n",
      "\u001b[0m\u001b[2m => => # ta 0:00:00                                                            \n",
      "\u001b[0m\u001b[?25h\u001b[1A\u001b[1A\u001b[1A\u001b[1A\u001b[1A\u001b[1A\u001b[1A\u001b[1A\u001b[1A\u001b[1A\u001b[1A\u001b[1A\u001b[1A\u001b[1A\u001b[1A\u001b[1A\u001b[1A\u001b[1A\u001b[0G\u001b[?25l[+] Building 2.6s (7/8)                                                         \n",
      "\u001b[34m => [internal] load build definition from Dockerfile                       0.0s\n",
      "\u001b[0m\u001b[34m => => transferring dockerfile: 152B                                       0.0s\n",
      "\u001b[0m\u001b[34m => [internal] load .dockerignore                                          0.0s\n",
      "\u001b[0m\u001b[34m => => transferring context: 2B                                            0.0s\n",
      "\u001b[0m\u001b[34m => [internal] load metadata for docker.io/library/python:3                0.0s\n",
      "\u001b[0m\u001b[34m => [1/4] FROM docker.io/library/python:3                                  0.0s\n",
      "\u001b[0m\u001b[34m => [internal] load build context                                          0.0s\n",
      "\u001b[0m\u001b[34m => => transferring context: 202.93kB                                      0.0s\n",
      "\u001b[0m\u001b[34m => CACHED [2/4] WORKDIR /Users/khongdat/Library/CloudStorage/GoogleDrive  0.0s\n",
      "\u001b[0m\u001b[34m => [3/4] COPY . .                                                         0.0s\n",
      "\u001b[0m => [4/4] RUN pip install flask                                            2.5s\n",
      "\u001b[2m => => # ta 0:00:00                                                            \n",
      "\u001b[0m\u001b[2m => => # Collecting Werkzeug>=2.2.2                                            \n",
      "\u001b[0m\u001b[2m => => #   Downloading Werkzeug-2.2.3-py3-none-any.whl (233 kB)                \n",
      "\u001b[0m\u001b[2m => => #      ━━━━━━━━━━━━━━━━━━━━━━━━━━━━━━━━━━━━━━━ 233.6/233.6 kB 1.2 MB/s e\n",
      "\u001b[0m\u001b[2m => => # ta 0:00:00                                                            \n",
      "\u001b[0m\u001b[2m => => # Collecting Jinja2>=3.0                                                \n",
      "\u001b[0m\u001b[?25h\u001b[1A\u001b[1A\u001b[1A\u001b[1A\u001b[1A\u001b[1A\u001b[1A\u001b[1A\u001b[1A\u001b[1A\u001b[1A\u001b[1A\u001b[1A\u001b[1A\u001b[1A\u001b[1A\u001b[1A\u001b[1A\u001b[0G\u001b[?25l[+] Building 2.7s (7/8)                                                         \n",
      "\u001b[34m => [internal] load build definition from Dockerfile                       0.0s\n",
      "\u001b[0m\u001b[34m => => transferring dockerfile: 152B                                       0.0s\n",
      "\u001b[0m\u001b[34m => [internal] load .dockerignore                                          0.0s\n",
      "\u001b[0m\u001b[34m => => transferring context: 2B                                            0.0s\n",
      "\u001b[0m\u001b[34m => [internal] load metadata for docker.io/library/python:3                0.0s\n",
      "\u001b[0m\u001b[34m => [1/4] FROM docker.io/library/python:3                                  0.0s\n",
      "\u001b[0m\u001b[34m => [internal] load build context                                          0.0s\n",
      "\u001b[0m\u001b[34m => => transferring context: 202.93kB                                      0.0s\n",
      "\u001b[0m\u001b[34m => CACHED [2/4] WORKDIR /Users/khongdat/Library/CloudStorage/GoogleDrive  0.0s\n",
      "\u001b[0m\u001b[34m => [3/4] COPY . .                                                         0.0s\n",
      "\u001b[0m => [4/4] RUN pip install flask                                            2.6s\n",
      "\u001b[2m => => # Collecting Werkzeug>=2.2.2                                            \n",
      "\u001b[0m\u001b[2m => => #   Downloading Werkzeug-2.2.3-py3-none-any.whl (233 kB)                \n",
      "\u001b[0m\u001b[2m => => #      ━━━━━━━━━━━━━━━━━━━━━━━━━━━━━━━━━━━━━━━ 233.6/233.6 kB 1.2 MB/s e\n",
      "\u001b[0m\u001b[2m => => # ta 0:00:00                                                            \n",
      "\u001b[0m\u001b[2m => => # Collecting Jinja2>=3.0                                                \n",
      "\u001b[0m\u001b[2m => => #   Downloading Jinja2-3.1.2-py3-none-any.whl (133 kB)                  \n",
      "\u001b[0m\u001b[?25h\u001b[1A\u001b[1A\u001b[1A\u001b[1A\u001b[1A\u001b[1A\u001b[1A\u001b[1A\u001b[1A\u001b[1A\u001b[1A\u001b[1A\u001b[1A\u001b[1A\u001b[1A\u001b[1A\u001b[1A\u001b[1A\u001b[0G\u001b[?25l[+] Building 2.8s (7/8)                                                         \n",
      "\u001b[34m => [internal] load build definition from Dockerfile                       0.0s\n",
      "\u001b[0m\u001b[34m => => transferring dockerfile: 152B                                       0.0s\n",
      "\u001b[0m\u001b[34m => [internal] load .dockerignore                                          0.0s\n",
      "\u001b[0m\u001b[34m => => transferring context: 2B                                            0.0s\n",
      "\u001b[0m\u001b[34m => [internal] load metadata for docker.io/library/python:3                0.0s\n",
      "\u001b[0m\u001b[34m => [1/4] FROM docker.io/library/python:3                                  0.0s\n",
      "\u001b[0m\u001b[34m => [internal] load build context                                          0.0s\n",
      "\u001b[0m\u001b[34m => => transferring context: 202.93kB                                      0.0s\n",
      "\u001b[0m\u001b[34m => CACHED [2/4] WORKDIR /Users/khongdat/Library/CloudStorage/GoogleDrive  0.0s\n",
      "\u001b[0m\u001b[34m => [3/4] COPY . .                                                         0.0s\n",
      "\u001b[0m => [4/4] RUN pip install flask                                            2.7s\n",
      "\u001b[2m => => # ta 0:00:00                                                            \n",
      "\u001b[0m\u001b[2m => => # Collecting Jinja2>=3.0                                                \n",
      "\u001b[0m\u001b[2m => => #   Downloading Jinja2-3.1.2-py3-none-any.whl (133 kB)                  \n",
      "\u001b[0m\u001b[2m => => #      ━━━━━━━━━━━━━━━━━━━━━━━━━━━━━━━━━━━━━━━ 133.1/133.1 kB 1.1 MB/s e\n",
      "\u001b[0m\u001b[2m => => # ta 0:00:00                                                            \n",
      "\u001b[0m\u001b[2m => => # Collecting itsdangerous>=2.0                                          \n",
      "\u001b[0m\u001b[?25h\u001b[1A\u001b[1A\u001b[1A\u001b[1A\u001b[1A\u001b[1A\u001b[1A\u001b[1A\u001b[1A\u001b[1A\u001b[1A\u001b[1A\u001b[1A\u001b[1A\u001b[1A\u001b[1A\u001b[1A\u001b[1A\u001b[0G\u001b[?25l[+] Building 3.0s (7/8)                                                         \n",
      "\u001b[34m => [internal] load build definition from Dockerfile                       0.0s\n",
      "\u001b[0m\u001b[34m => => transferring dockerfile: 152B                                       0.0s\n",
      "\u001b[0m\u001b[34m => [internal] load .dockerignore                                          0.0s\n",
      "\u001b[0m\u001b[34m => => transferring context: 2B                                            0.0s\n",
      "\u001b[0m\u001b[34m => [internal] load metadata for docker.io/library/python:3                0.0s\n",
      "\u001b[0m\u001b[34m => [1/4] FROM docker.io/library/python:3                                  0.0s\n",
      "\u001b[0m\u001b[34m => [internal] load build context                                          0.0s\n",
      "\u001b[0m\u001b[34m => => transferring context: 202.93kB                                      0.0s\n",
      "\u001b[0m\u001b[34m => CACHED [2/4] WORKDIR /Users/khongdat/Library/CloudStorage/GoogleDrive  0.0s\n",
      "\u001b[0m\u001b[34m => [3/4] COPY . .                                                         0.0s\n",
      "\u001b[0m => [4/4] RUN pip install flask                                            2.9s\n",
      "\u001b[2m => => # Collecting Jinja2>=3.0                                                \n",
      "\u001b[0m\u001b[2m => => #   Downloading Jinja2-3.1.2-py3-none-any.whl (133 kB)                  \n",
      "\u001b[0m\u001b[2m => => #      ━━━━━━━━━━━━━━━━━━━━━━━━━━━━━━━━━━━━━━━ 133.1/133.1 kB 1.1 MB/s e\n",
      "\u001b[0m\u001b[2m => => # ta 0:00:00                                                            \n",
      "\u001b[0m\u001b[2m => => # Collecting itsdangerous>=2.0                                          \n",
      "\u001b[0m\u001b[2m => => #   Downloading itsdangerous-2.1.2-py3-none-any.whl (15 kB)             \n",
      "\u001b[0m\u001b[?25h\u001b[1A\u001b[1A\u001b[1A\u001b[1A\u001b[1A\u001b[1A\u001b[1A\u001b[1A\u001b[1A\u001b[1A\u001b[1A\u001b[1A\u001b[1A\u001b[1A\u001b[1A\u001b[1A\u001b[1A\u001b[1A\u001b[0G\u001b[?25l[+] Building 3.1s (7/8)                                                         \n",
      "\u001b[34m => [internal] load build definition from Dockerfile                       0.0s\n",
      "\u001b[0m\u001b[34m => => transferring dockerfile: 152B                                       0.0s\n",
      "\u001b[0m\u001b[34m => [internal] load .dockerignore                                          0.0s\n",
      "\u001b[0m\u001b[34m => => transferring context: 2B                                            0.0s\n",
      "\u001b[0m\u001b[34m => [internal] load metadata for docker.io/library/python:3                0.0s\n",
      "\u001b[0m\u001b[34m => [1/4] FROM docker.io/library/python:3                                  0.0s\n",
      "\u001b[0m\u001b[34m => [internal] load build context                                          0.0s\n",
      "\u001b[0m\u001b[34m => => transferring context: 202.93kB                                      0.0s\n",
      "\u001b[0m\u001b[34m => CACHED [2/4] WORKDIR /Users/khongdat/Library/CloudStorage/GoogleDrive  0.0s\n",
      "\u001b[0m\u001b[34m => [3/4] COPY . .                                                         0.0s\n",
      "\u001b[0m => [4/4] RUN pip install flask                                            3.0s\n",
      "\u001b[2m => => #      ━━━━━━━━━━━━━━━━━━━━━━━━━━━━━━━━━━━━━━━ 133.1/133.1 kB 1.1 MB/s e\n",
      "\u001b[0m\u001b[2m => => # ta 0:00:00                                                            \n",
      "\u001b[0m\u001b[2m => => # Collecting itsdangerous>=2.0                                          \n",
      "\u001b[0m\u001b[2m => => #   Downloading itsdangerous-2.1.2-py3-none-any.whl (15 kB)             \n",
      "\u001b[0m\u001b[2m => => # Collecting click>=8.0                                                 \n",
      "\u001b[0m\u001b[2m => => #   Downloading click-8.1.3-py3-none-any.whl (96 kB)                    \n",
      "\u001b[0m\u001b[?25h\u001b[1A\u001b[1A\u001b[1A\u001b[1A\u001b[1A\u001b[1A\u001b[1A\u001b[1A\u001b[1A\u001b[1A\u001b[1A\u001b[1A\u001b[1A\u001b[1A\u001b[1A\u001b[1A\u001b[1A\u001b[1A\u001b[0G\u001b[?25l[+] Building 3.3s (7/8)                                                         \n",
      "\u001b[34m => [internal] load build definition from Dockerfile                       0.0s\n",
      "\u001b[0m\u001b[34m => => transferring dockerfile: 152B                                       0.0s\n",
      "\u001b[0m\u001b[34m => [internal] load .dockerignore                                          0.0s\n",
      "\u001b[0m\u001b[34m => => transferring context: 2B                                            0.0s\n",
      "\u001b[0m\u001b[34m => [internal] load metadata for docker.io/library/python:3                0.0s\n",
      "\u001b[0m\u001b[34m => [1/4] FROM docker.io/library/python:3                                  0.0s\n",
      "\u001b[0m\u001b[34m => [internal] load build context                                          0.0s\n",
      "\u001b[0m\u001b[34m => => transferring context: 202.93kB                                      0.0s\n",
      "\u001b[0m\u001b[34m => CACHED [2/4] WORKDIR /Users/khongdat/Library/CloudStorage/GoogleDrive  0.0s\n",
      "\u001b[0m\u001b[34m => [3/4] COPY . .                                                         0.0s\n",
      "\u001b[0m => [4/4] RUN pip install flask                                            3.2s\n",
      "\u001b[2m => => # Collecting itsdangerous>=2.0                                          \n",
      "\u001b[0m\u001b[2m => => #   Downloading itsdangerous-2.1.2-py3-none-any.whl (15 kB)             \n",
      "\u001b[0m\u001b[2m => => # Collecting click>=8.0                                                 \n",
      "\u001b[0m\u001b[2m => => #   Downloading click-8.1.3-py3-none-any.whl (96 kB)                    \n",
      "\u001b[0m\u001b[2m => => #      ━━━━━━━━━━━━━━━━━━━━━━━━━━━━━━━━━━━━━━━━ 96.6/96.6 kB 1.2 MB/s et\n",
      "\u001b[0m\u001b[2m => => # a 0:00:00                                                             \n",
      "\u001b[0m\u001b[?25h\u001b[1A\u001b[1A\u001b[1A\u001b[1A\u001b[1A\u001b[1A\u001b[1A\u001b[1A\u001b[1A\u001b[1A\u001b[1A\u001b[1A\u001b[1A\u001b[1A\u001b[1A\u001b[1A\u001b[1A\u001b[1A\u001b[0G\u001b[?25l[+] Building 3.4s (7/8)                                                         \n",
      "\u001b[34m => [internal] load build definition from Dockerfile                       0.0s\n",
      "\u001b[0m\u001b[34m => => transferring dockerfile: 152B                                       0.0s\n",
      "\u001b[0m\u001b[34m => [internal] load .dockerignore                                          0.0s\n",
      "\u001b[0m\u001b[34m => => transferring context: 2B                                            0.0s\n",
      "\u001b[0m\u001b[34m => [internal] load metadata for docker.io/library/python:3                0.0s\n",
      "\u001b[0m\u001b[34m => [1/4] FROM docker.io/library/python:3                                  0.0s\n",
      "\u001b[0m\u001b[34m => [internal] load build context                                          0.0s\n",
      "\u001b[0m\u001b[34m => => transferring context: 202.93kB                                      0.0s\n",
      "\u001b[0m\u001b[34m => CACHED [2/4] WORKDIR /Users/khongdat/Library/CloudStorage/GoogleDrive  0.0s\n",
      "\u001b[0m\u001b[34m => [3/4] COPY . .                                                         0.0s\n",
      "\u001b[0m => [4/4] RUN pip install flask                                            3.3s\n",
      "\u001b[2m => => #   Downloading itsdangerous-2.1.2-py3-none-any.whl (15 kB)             \n",
      "\u001b[0m\u001b[2m => => # Collecting click>=8.0                                                 \n",
      "\u001b[0m\u001b[2m => => #   Downloading click-8.1.3-py3-none-any.whl (96 kB)                    \n",
      "\u001b[0m\u001b[2m => => #      ━━━━━━━━━━━━━━━━━━━━━━━━━━━━━━━━━━━━━━━━ 96.6/96.6 kB 1.2 MB/s et\n",
      "\u001b[0m\u001b[2m => => # a 0:00:00                                                             \n",
      "\u001b[0m\u001b[2m => => # Collecting MarkupSafe>=2.0                                            \n",
      "\u001b[0m\u001b[?25h\u001b[1A\u001b[1A\u001b[1A\u001b[1A\u001b[1A\u001b[1A\u001b[1A\u001b[1A\u001b[1A\u001b[1A\u001b[1A\u001b[1A\u001b[1A\u001b[1A\u001b[1A\u001b[1A\u001b[1A\u001b[1A\u001b[0G\u001b[?25l[+] Building 3.5s (7/8)                                                         \n",
      "\u001b[34m => [internal] load build definition from Dockerfile                       0.0s\n",
      "\u001b[0m\u001b[34m => => transferring dockerfile: 152B                                       0.0s\n",
      "\u001b[0m\u001b[34m => [internal] load .dockerignore                                          0.0s\n",
      "\u001b[0m\u001b[34m => => transferring context: 2B                                            0.0s\n",
      "\u001b[0m\u001b[34m => [internal] load metadata for docker.io/library/python:3                0.0s\n",
      "\u001b[0m\u001b[34m => [1/4] FROM docker.io/library/python:3                                  0.0s\n",
      "\u001b[0m\u001b[34m => [internal] load build context                                          0.0s\n",
      "\u001b[0m\u001b[34m => => transferring context: 202.93kB                                      0.0s\n",
      "\u001b[0m\u001b[34m => CACHED [2/4] WORKDIR /Users/khongdat/Library/CloudStorage/GoogleDrive  0.0s\n",
      "\u001b[0m\u001b[34m => [3/4] COPY . .                                                         0.0s\n",
      "\u001b[0m => [4/4] RUN pip install flask                                            3.4s\n",
      "\u001b[2m => => # a 0:00:00                                                             \n",
      "\u001b[0m\u001b[2m => => # Collecting MarkupSafe>=2.0                                            \n",
      "\u001b[0m\u001b[2m => => #   Downloading MarkupSafe-2.1.2-cp311-cp311-manylinux_2_17_aarch64.many\n",
      "\u001b[0m\u001b[2m => => # linux2014_aarch64.whl (28 kB)                                         \n",
      "\u001b[0m\u001b[2m => => # Installing collected packages: MarkupSafe, itsdangerous, click, Werkze\n",
      "\u001b[0m\u001b[2m => => # ug, Jinja2, flask                                                     \n",
      "\u001b[0m\u001b[?25h\u001b[1A\u001b[1A\u001b[1A\u001b[1A\u001b[1A\u001b[1A\u001b[1A\u001b[1A\u001b[1A\u001b[1A\u001b[1A\u001b[1A\u001b[1A\u001b[1A\u001b[1A\u001b[1A\u001b[1A\u001b[1A\u001b[0G\u001b[?25l[+] Building 3.7s (7/8)                                                         \n",
      "\u001b[34m => [internal] load build definition from Dockerfile                       0.0s\n",
      "\u001b[0m\u001b[34m => => transferring dockerfile: 152B                                       0.0s\n",
      "\u001b[0m\u001b[34m => [internal] load .dockerignore                                          0.0s\n",
      "\u001b[0m\u001b[34m => => transferring context: 2B                                            0.0s\n",
      "\u001b[0m\u001b[34m => [internal] load metadata for docker.io/library/python:3                0.0s\n",
      "\u001b[0m\u001b[34m => [1/4] FROM docker.io/library/python:3                                  0.0s\n",
      "\u001b[0m\u001b[34m => [internal] load build context                                          0.0s\n",
      "\u001b[0m\u001b[34m => => transferring context: 202.93kB                                      0.0s\n",
      "\u001b[0m\u001b[34m => CACHED [2/4] WORKDIR /Users/khongdat/Library/CloudStorage/GoogleDrive  0.0s\n",
      "\u001b[0m\u001b[34m => [3/4] COPY . .                                                         0.0s\n",
      "\u001b[0m => [4/4] RUN pip install flask                                            3.6s\n",
      "\u001b[2m => => # a 0:00:00                                                             \n",
      "\u001b[0m\u001b[2m => => # Collecting MarkupSafe>=2.0                                            \n",
      "\u001b[0m\u001b[2m => => #   Downloading MarkupSafe-2.1.2-cp311-cp311-manylinux_2_17_aarch64.many\n",
      "\u001b[0m\u001b[2m => => # linux2014_aarch64.whl (28 kB)                                         \n",
      "\u001b[0m\u001b[2m => => # Installing collected packages: MarkupSafe, itsdangerous, click, Werkze\n",
      "\u001b[0m\u001b[2m => => # ug, Jinja2, flask                                                     \n",
      "\u001b[0m\u001b[?25h\u001b[1A\u001b[1A\u001b[1A\u001b[1A\u001b[1A\u001b[1A\u001b[1A\u001b[1A\u001b[1A\u001b[1A\u001b[1A\u001b[1A\u001b[1A\u001b[1A\u001b[1A\u001b[1A\u001b[1A\u001b[1A\u001b[0G\u001b[?25l[+] Building 3.8s (7/8)                                                         \n",
      "\u001b[34m => [internal] load build definition from Dockerfile                       0.0s\n",
      "\u001b[0m\u001b[34m => => transferring dockerfile: 152B                                       0.0s\n",
      "\u001b[0m\u001b[34m => [internal] load .dockerignore                                          0.0s\n",
      "\u001b[0m\u001b[34m => => transferring context: 2B                                            0.0s\n",
      "\u001b[0m\u001b[34m => [internal] load metadata for docker.io/library/python:3                0.0s\n",
      "\u001b[0m\u001b[34m => [1/4] FROM docker.io/library/python:3                                  0.0s\n",
      "\u001b[0m\u001b[34m => [internal] load build context                                          0.0s\n",
      "\u001b[0m\u001b[34m => => transferring context: 202.93kB                                      0.0s\n",
      "\u001b[0m\u001b[34m => CACHED [2/4] WORKDIR /Users/khongdat/Library/CloudStorage/GoogleDrive  0.0s\n",
      "\u001b[0m\u001b[34m => [3/4] COPY . .                                                         0.0s\n",
      "\u001b[0m => [4/4] RUN pip install flask                                            3.7s\n",
      "\u001b[2m => => # Successfully installed Jinja2-3.1.2 MarkupSafe-2.1.2 Werkzeug-2.2.3 cl\n",
      "\u001b[0m\u001b[2m => => # ick-8.1.3 flask-2.2.3 itsdangerous-2.1.2                              \n",
      "\u001b[0m\u001b[2m => => # WARNING: Running pip as the 'root' user can result in broken permissio\n",
      "\u001b[0m\u001b[2m => => # ns and conflicting behaviour with the system package manager. It is re\n",
      "\u001b[0m\u001b[2m => => # commended to use a virtual environment instead: https://pip.pypa.io/wa\n",
      "\u001b[0m\u001b[2m => => # rnings/venv                                                           \n",
      "\u001b[0m\u001b[?25h\u001b[1A\u001b[1A\u001b[1A\u001b[1A\u001b[1A\u001b[1A\u001b[1A\u001b[1A\u001b[1A\u001b[1A\u001b[1A\u001b[1A\u001b[1A\u001b[1A\u001b[1A\u001b[1A\u001b[1A\u001b[1A\u001b[0G\u001b[?25l[+] Building 4.0s (7/8)                                                         \n",
      "\u001b[34m => [internal] load build definition from Dockerfile                       0.0s\n",
      "\u001b[0m\u001b[34m => => transferring dockerfile: 152B                                       0.0s\n",
      "\u001b[0m\u001b[34m => [internal] load .dockerignore                                          0.0s\n",
      "\u001b[0m\u001b[34m => => transferring context: 2B                                            0.0s\n",
      "\u001b[0m\u001b[34m => [internal] load metadata for docker.io/library/python:3                0.0s\n",
      "\u001b[0m\u001b[34m => [1/4] FROM docker.io/library/python:3                                  0.0s\n",
      "\u001b[0m\u001b[34m => [internal] load build context                                          0.0s\n",
      "\u001b[0m\u001b[34m => => transferring context: 202.93kB                                      0.0s\n",
      "\u001b[0m\u001b[34m => CACHED [2/4] WORKDIR /Users/khongdat/Library/CloudStorage/GoogleDrive  0.0s\n",
      "\u001b[0m\u001b[34m => [3/4] COPY . .                                                         0.0s\n",
      "\u001b[0m => [4/4] RUN pip install flask                                            3.9s\n",
      "\u001b[2m => => # Successfully installed Jinja2-3.1.2 MarkupSafe-2.1.2 Werkzeug-2.2.3 cl\n",
      "\u001b[0m\u001b[2m => => # ick-8.1.3 flask-2.2.3 itsdangerous-2.1.2                              \n",
      "\u001b[0m\u001b[2m => => # WARNING: Running pip as the 'root' user can result in broken permissio\n",
      "\u001b[0m\u001b[2m => => # ns and conflicting behaviour with the system package manager. It is re\n",
      "\u001b[0m\u001b[2m => => # commended to use a virtual environment instead: https://pip.pypa.io/wa\n",
      "\u001b[0m\u001b[2m => => # rnings/venv                                                           \n",
      "\u001b[0m\u001b[?25h\u001b[1A\u001b[1A\u001b[1A\u001b[1A\u001b[1A\u001b[1A\u001b[1A\u001b[1A\u001b[1A\u001b[1A\u001b[1A\u001b[1A\u001b[1A\u001b[1A\u001b[1A\u001b[1A\u001b[1A\u001b[1A\u001b[0G\u001b[?25l[+] Building 4.1s (8/8)                                                         \n",
      "\u001b[34m => [internal] load build definition from Dockerfile                       0.0s\n",
      "\u001b[0m\u001b[34m => => transferring dockerfile: 152B                                       0.0s\n",
      "\u001b[0m\u001b[34m => [internal] load .dockerignore                                          0.0s\n",
      "\u001b[0m\u001b[34m => => transferring context: 2B                                            0.0s\n",
      "\u001b[0m\u001b[34m => [internal] load metadata for docker.io/library/python:3                0.0s\n",
      "\u001b[0m\u001b[34m => [1/4] FROM docker.io/library/python:3                                  0.0s\n",
      "\u001b[0m\u001b[34m => [internal] load build context                                          0.0s\n",
      "\u001b[0m\u001b[34m => => transferring context: 202.93kB                                      0.0s\n",
      "\u001b[0m\u001b[34m => CACHED [2/4] WORKDIR /Users/khongdat/Library/CloudStorage/GoogleDrive  0.0s\n",
      "\u001b[0m\u001b[34m => [3/4] COPY . .                                                         0.0s\n",
      "\u001b[0m\u001b[34m => [4/4] RUN pip install flask                                            4.0s\n",
      "\u001b[0m                                                                                \n",
      "                                                                                \n",
      "                                                                                \n",
      "                                                                                \n",
      "                                                                                \n",
      "                                                                                \n",
      "\u001b[6A\u001b[0G\u001b[?25h\u001b[1A\u001b[1A\u001b[1A\u001b[1A\u001b[1A\u001b[1A\u001b[1A\u001b[1A\u001b[1A\u001b[1A\u001b[1A\u001b[1A\u001b[0G\u001b[?25l[+] Building 4.2s (9/9) FINISHED                                                \n",
      "\u001b[34m => [internal] load build definition from Dockerfile                       0.0s\n",
      "\u001b[0m\u001b[34m => => transferring dockerfile: 152B                                       0.0s\n",
      "\u001b[0m\u001b[34m => [internal] load .dockerignore                                          0.0s\n",
      "\u001b[0m\u001b[34m => => transferring context: 2B                                            0.0s\n",
      "\u001b[0m\u001b[34m => [internal] load metadata for docker.io/library/python:3                0.0s\n",
      "\u001b[0m\u001b[34m => [1/4] FROM docker.io/library/python:3                                  0.0s\n",
      "\u001b[0m\u001b[34m => [internal] load build context                                          0.0s\n",
      "\u001b[0m\u001b[34m => => transferring context: 202.93kB                                      0.0s\n",
      "\u001b[0m\u001b[34m => CACHED [2/4] WORKDIR /Users/khongdat/Library/CloudStorage/GoogleDrive  0.0s\n",
      "\u001b[0m\u001b[34m => [3/4] COPY . .                                                         0.0s\n",
      "\u001b[0m\u001b[34m => [4/4] RUN pip install flask                                            4.0s\n",
      "\u001b[0m\u001b[34m => exporting to image                                                     0.1s\n",
      "\u001b[0m\u001b[34m => => exporting layers                                                    0.1s\n",
      "\u001b[0m\u001b[34m => => writing image sha256:324475812f6b1277af40fd0c5c762be2c40a0d29e70c7  0.0s\n",
      "\u001b[0m\u001b[34m => => naming to docker.io/datkt98/exam02                                  0.0s\n",
      "\u001b[0m\u001b[?25h"
     ]
    }
   ],
   "source": [
    "!docker build -t datkt98/exam02 ."
   ]
  },
  {
   "cell_type": "markdown",
   "metadata": {
    "id": "d97df897-194c-4fa4-b0d6-3f373d658dfa"
   },
   "source": [
    "### docker images\n",
    "Lệnh này dùng để liệt kê các image có trên máy tính"
   ]
  },
  {
   "cell_type": "code",
   "execution_count": null,
   "metadata": {
    "id": "b5c8c8ef-d873-4526-82ea-40b4b0b179b0",
    "outputId": "46d0090b-52d3-45f0-fa7e-1f4f0caae604"
   },
   "outputs": [
    {
     "name": "stdout",
     "output_type": "stream",
     "text": [
      "REPOSITORY       TAG       IMAGE ID       CREATED          SIZE\n",
      "datkt98/exam02   latest    324475812f6b   4 seconds ago    887MB\n",
      "datkt98/exam01   latest    1b3ec0e42e26   21 minutes ago   887MB\n",
      "python           3         74707af2d4ec   2 days ago       871MB\n"
     ]
    }
   ],
   "source": [
    "!docker images"
   ]
  },
  {
   "cell_type": "markdown",
   "metadata": {
    "id": "d372ccf6-f52f-488f-b123-4e2d2b2fbd83"
   },
   "source": [
    "### docker run\n",
    "Lệnh này dùng để tạo 1 container với images của bạn, ví dụ để tạo 1 container với image ubuntu đã tải về trước đó, bạn dùng lệnh\n",
    "`docker run -it ubuntu`\n",
    "\n",
    "**Các option thường dùng với `docker run`**\n",
    "Trong các lệnh trên có lẽ docker run là lệnh hữu ích nhất và ta sẽ thường sử dụng nhất. Nó sử dụng để tạo container dựa vào một image cụ thể. Có nhiều option có thể sử dụng với docker run.\n",
    "\n",
    "- `--detach`, `-d`\n",
    "Mặc định docker container chạy thì mọi input, output, lỗi được hiện thị trực tiếp trên màn hình terminal. Tuy nhiên với tùy chọn --detach/-d, container sẽ được chạy ngầm vì vậy mọi output, lỗi sẽ không hiển thị.\n",
    "\n",
    "- `--entrypoint`\n",
    "Thiết lập hoặc ghi đè các lệnh mặc định khi chạy images. Entrypoint là một tập các lệnh và tham số sẽ chạy đầu tiên khi container được chạy từ image. Bất kỳ câu lệnh và tham số được truyền vào sau docker run sẽ được nối vào entrypoint.\n",
    "\n",
    "- `--env`, `-e`\n",
    "Thiết lập biến môi trường sử dụng cặp (key=value). Nếu ta có biến môi trường trong file ta có thể truền nó vào file bằng tùy chọn --env-file.\n",
    "\n",
    "- `--ip`\n",
    "Khai báo địa chỉ IP cho container\n",
    "\n",
    "- `--name`\n",
    "Gắn tên cho container\n",
    "\n",
    "- `--publish`, `-p` | `--publish-all`, `-P`\n",
    "Do các container của docker được gộp và chạy trong một network riêng nên nó sẽ độc lập với máy chủ mà docker chạy trên đó. Để mở các cổng của network các container và ánh xạ nó với cổng của máy host ta sử dụng tùy chọn --publish, -p. Hoặc sử dụng --publish-all, -P sẽ mở tất cả các cổng của container.\n",
    "\n",
    "    `docker run --publish 80:80 <image_name> bash`\n",
    "\n",
    "- `--rm`\n",
    "Tự động xóa container khi nó thoát.\n",
    "\n",
    "- `--tty`, `-t`\n",
    "Cấp một terminal ảo cho container. Tùy chọn này thường được sử dụng với --interactive, -i giúp cho STDIN mở ngay cả khi container chạy ở dạng ngầm.\n",
    "\n",
    "- `--volume`, `-v`\n",
    "Gắn một volume vào một container, cho phép chúng ta thao tác ở container nhưng dữ liệu vẫn được lưu trữ ở máy chủ.\n",
    "\n",
    "    `docker run --volume /volume_name <image_name> bash`\n",
    "\n",
    "- `--workdir`, `-w`\n",
    "Chỉ định thư mục sẽ làm việc bên trong container. Giả sử ta sẽ làm việc với thư mục app trong docker\n",
    "\n",
    "    `docker run --workdir /app <image_name> bash`\n",
    "\n"
   ]
  },
  {
   "cell_type": "code",
   "execution_count": null,
   "metadata": {
    "id": "52df940f-d257-46b0-b602-17be51385a21",
    "outputId": "3cb7b897-5393-4237-9633-828726235495"
   },
   "outputs": [
    {
     "name": "stdout",
     "output_type": "stream",
     "text": [
      "hello world !\n"
     ]
    }
   ],
   "source": [
    "!docker run --name con_exam01 datkt98/exam01"
   ]
  },
  {
   "cell_type": "code",
   "execution_count": null,
   "metadata": {
    "id": "5c4012c7-f1af-47d9-a93c-9951f24621e7",
    "outputId": "8f5a803f-770e-4f2a-f8d1-3bd75046c76b"
   },
   "outputs": [
    {
     "name": "stdout",
     "output_type": "stream",
     "text": [
      " * Serving Flask app 'run_flask'\n",
      " * Debug mode: on\n",
      "\u001b[31m\u001b[1mWARNING: This is a development server. Do not use it in a production deployment. Use a production WSGI server instead.\u001b[0m\n",
      " * Running on all addresses (0.0.0.0)\n",
      " * Running on http://127.0.0.1:5000\n",
      " * Running on http://172.17.0.2:5000\n",
      "\u001b[33mPress CTRL+C to quit\u001b[0m\n",
      "172.17.0.1 - - [25/Mar/2023 18:53:14] \"GET / HTTP/1.1\" 200 -\n",
      "172.17.0.1 - - [25/Mar/2023 18:53:14] \"\u001b[33mGET /favicon.ico HTTP/1.1\u001b[0m\" 404 -\n",
      "^C\n"
     ]
    }
   ],
   "source": [
    "# neu code app su dung port 5000 va tuong duong voi port 5000 tren container, anh xa sang cong 5555 tren host\n",
    "!docker run --name con_exam02 -p 5555:5000 datkt98/exam02"
   ]
  },
  {
   "cell_type": "markdown",
   "metadata": {
    "id": "27603673-a3df-4b2f-b6a8-40636c54529a"
   },
   "source": [
    "--> ta se truy cap __http://172.17.0.2:5555__ tren host"
   ]
  },
  {
   "cell_type": "code",
   "execution_count": null,
   "metadata": {
    "id": "3032671e"
   },
   "outputs": [],
   "source": [
    "# entry tới thư mục trong container\n",
    "!docker run --rm -it --entrypoint bash myimage01"
   ]
  },
  {
   "cell_type": "markdown",
   "metadata": {
    "id": "266deb86-0327-49c1-a92a-89ca29accd45"
   },
   "source": [
    "### docker ps\n",
    "Lệnh này để liệt kê các container đang chạy\n",
    "\n",
    "Khi sử dụng với các tham số\n",
    "\n",
    "- `-a`/`-all`: Liệt kê tất cả các container, kể cả đang chạy hay đã kể thúc\n",
    "- `-q`/`-quiet`: chỉ liệt kê ra id của các container.\n",
    "\n",
    "Để liệt kệ các container đã tạo trước đó bạn dùng lệnh\n",
    "`docker ps -a`"
   ]
  },
  {
   "cell_type": "code",
   "execution_count": null,
   "metadata": {
    "id": "72d06efe-8f2b-4250-b8fe-3acfcf2abaa1",
    "outputId": "2ccfc076-d1b8-42dd-c0c8-3aeb56f52337"
   },
   "outputs": [
    {
     "name": "stdout",
     "output_type": "stream",
     "text": [
      "CONTAINER ID   IMAGE            COMMAND                  CREATED          STATUS                      PORTS     NAMES\n",
      "9978bf498c50   b4d961f671a2     \"python ./run_flask.…\"   2 minutes ago    Exited (0) 30 seconds ago             con_exam02\n",
      "794e689cc8b9   datkt98/exam01   \"python ./run.py\"        20 minutes ago   Exited (0) 20 minutes ago             con_exam01\n"
     ]
    }
   ],
   "source": [
    "!docker ps -a"
   ]
  },
  {
   "cell_type": "markdown",
   "metadata": {
    "id": "8bd26204-7d76-4487-a164-199a2dde1799"
   },
   "source": [
    "### docker stop\n",
    "Lệnh này dùng để dừng 1 container đang chạy. Ví dụ như hình bên dưới bạn có container đang chạy với ID là 03a1db578cc3, bạn dùng lệnh `docker stop 03a1`"
   ]
  },
  {
   "cell_type": "code",
   "execution_count": null,
   "metadata": {
    "id": "24e18574-7f1b-4276-818a-ed4321395a3a",
    "outputId": "aaabd67b-63de-4679-d7ec-c8b8201f300c"
   },
   "outputs": [
    {
     "name": "stdout",
     "output_type": "stream",
     "text": [
      "a6e267c\n"
     ]
    }
   ],
   "source": [
    "!docker stop a6e267c"
   ]
  },
  {
   "cell_type": "markdown",
   "metadata": {
    "id": "9cdd9ae3-2ac5-46fe-b336-3ff192ab2029"
   },
   "source": [
    "### docker start\n",
    "Để start lại container đã dừng trước đó, bạn dùng lệnh docker start, ví dụ bạn start lại container đã stop phía trên dùng lệnh\n",
    "`docker start 03a1`"
   ]
  },
  {
   "cell_type": "code",
   "execution_count": null,
   "metadata": {
    "id": "110b4b8a-5324-4e95-9eaf-054ef46661c2"
   },
   "outputs": [],
   "source": []
  },
  {
   "cell_type": "markdown",
   "metadata": {
    "id": "5efd285c-56a5-4ba3-87af-2c46770de041"
   },
   "source": [
    "### docker rm\n",
    "Lệnh này dùng để xóa 1 or nhiều container đã tạo trước đó, nếu container đang chạy, bạn cần thêm tham số `-f`"
   ]
  },
  {
   "cell_type": "code",
   "execution_count": null,
   "metadata": {
    "id": "2dcd58a2-9528-4b61-bcd6-899f50963357",
    "outputId": "07130dda-a3ec-4ed6-81c9-5bc8621e9114"
   },
   "outputs": [
    {
     "name": "stdout",
     "output_type": "stream",
     "text": [
      "9978bf498c50\n"
     ]
    }
   ],
   "source": [
    "!docker rm -f 9978bf498c50"
   ]
  },
  {
   "cell_type": "markdown",
   "metadata": {
    "id": "60f79330-76f4-411d-832a-b0f59111d6c1"
   },
   "source": [
    "### docker rmi\n",
    "Lệnh này dùng để xóa một hoặc nhiều images.\n",
    "\n",
    "`docker rmi <list_image_id>`"
   ]
  },
  {
   "cell_type": "code",
   "execution_count": null,
   "metadata": {
    "id": "79c6c80b-a2e0-4ec9-bad4-d40a6b43f727",
    "outputId": "0169abb3-60ae-4505-8dfd-49e88429bdc7"
   },
   "outputs": [
    {
     "name": "stdout",
     "output_type": "stream",
     "text": [
      "Untagged: datkt98/exam02:latest\n",
      "Deleted: sha256:b4d961f671a28ce02bbb75ec7990c4a6207741d8bb68e2bbd079901929a34fb3\n"
     ]
    }
   ],
   "source": [
    "!docker rmi -f b4d961f671a2"
   ]
  },
  {
   "cell_type": "markdown",
   "metadata": {
    "id": "5122e372-3a40-4fc2-bccf-42b09667fec4"
   },
   "source": [
    "### docker exec\n",
    "Lệnh này dùng để chạy 1 lệnh trong container, ví dụ bên dưới là liệt kê các tệp tin, thư mục trong folder root của container\n",
    "`docker exec 03a1 ls -la /root`"
   ]
  },
  {
   "cell_type": "code",
   "execution_count": null,
   "metadata": {
    "id": "349061ec-e39a-4822-84c9-41fe21139b78"
   },
   "outputs": [],
   "source": []
  },
  {
   "cell_type": "markdown",
   "metadata": {
    "id": "c27daa2d-1546-4b6b-9a56-086c6c487d24"
   },
   "source": [
    "### docker logs\n",
    "Lệnh này được sử dụng để hiển thị logs của một container, ta cần phải chỉ rõ container để hiển thị logs thông qua tên của nó. Ngoài cũng có thể sử dụng thêm một số flag như `--follow` để giữ việc theo dõi logs.\n",
    "\n",
    "`docker logs --follow your_name_container`"
   ]
  },
  {
   "cell_type": "code",
   "execution_count": null,
   "metadata": {
    "id": "7ff34a04-0345-4a13-aee7-29984262c0bf"
   },
   "outputs": [],
   "source": []
  },
  {
   "cell_type": "markdown",
   "metadata": {
    "id": "632f2cd0-4101-429a-b690-fff344110ec7"
   },
   "source": [
    "### docker volume ls\n",
    "Lệnh này dùng để liệt kê ra các volumn mà các container sử dụng, volume là một cơ chế dùng để lưu trữ dữ liệu sinh ra và sử dụng bởi Docker."
   ]
  },
  {
   "cell_type": "code",
   "execution_count": null,
   "metadata": {
    "id": "7cc5ed4b-1acb-4355-9681-1359a030cd82"
   },
   "outputs": [],
   "source": []
  },
  {
   "cell_type": "markdown",
   "metadata": {
    "id": "84f17b73-f44d-4661-80ae-89478e7b405d"
   },
   "source": [
    "### docker network ls\n",
    "liệt kê tất cả các network có sẵn"
   ]
  },
  {
   "cell_type": "code",
   "execution_count": null,
   "metadata": {
    "id": "9b2a2de3-e4ba-4ada-8c85-d1e884694783"
   },
   "outputs": [],
   "source": []
  },
  {
   "cell_type": "markdown",
   "metadata": {
    "id": "515f2606-dccf-4c59-acfc-1fdeb4f0b896"
   },
   "source": [
    "### docker network\n",
    "tao connect vào một network mới. Nó giúp container giao tiếp được với một container khác qua tên thay vì mở cổng IP để giao tiếp trên host."
   ]
  },
  {
   "cell_type": "code",
   "execution_count": null,
   "metadata": {
    "id": "94eaaf44-88a8-4f5c-a704-3de9fc1e63a8"
   },
   "outputs": [],
   "source": []
  },
  {
   "cell_type": "markdown",
   "metadata": {
    "id": "e8aebe24"
   },
   "source": [
    "### docker save\n",
    "save docker image to a tar archive\n",
    "\n",
    "`docker save [OPTIONS] IMAGE [IMAGE...]`"
   ]
  },
  {
   "cell_type": "code",
   "execution_count": null,
   "metadata": {
    "id": "745863b3"
   },
   "outputs": [],
   "source": [
    "!docker save image_name01 > image_name01.tar # using STDOUT\n",
    "!docker save -o image_name01.tar > image_name01 # using Write to a file, instead of STDOUT (want to specific output path)\n",
    "!docker save image_name01:latest | gzip > image_name01.tar.gz #gzip to smaller file"
   ]
  },
  {
   "cell_type": "markdown",
   "metadata": {
    "id": "16ea90b3"
   },
   "source": [
    "### docker load\n",
    "load docker image from a tar archive or STDIN\n",
    "\n",
    "`docker load [OPTIONS]`"
   ]
  },
  {
   "cell_type": "code",
   "execution_count": null,
   "metadata": {
    "id": "213f41f5"
   },
   "outputs": [],
   "source": [
    "!docker load < image_name01.tar.gz # using STDIN\n",
    "!docker load --input image_name01.tar # Read from tar archive file (want to specific input path), instead of STDIN"
   ]
  },
  {
   "cell_type": "markdown",
   "metadata": {
    "id": "1977c4de-caeb-49cf-b07d-5cc134ae4115"
   },
   "source": [
    "## Dockerfile\n",
    "__Dockerfile__ là một file dạng text không có phần đuôi mở rộng, chứa các đặc tả về một trường thực thi phần mềm, cấu trúc cho Docker Image. Từ những câu lệnh đó, Docker sẽ build ra Docker image (thường có dung lượng nhỏ từ vài MB đến lớn vài GB).\n",
    "\n",
    "__Cú pháp của một Dockerfile__\n",
    "```\n",
    "INSTRUCTION arguments\n",
    "```\n",
    "\n",
    "trong đó:\n",
    "- __INSTRUCTION__ là tên các chỉ thị có trong Dockerfile, mỗi chỉ thị thực hiện một nhiệm vụ nhất định, được Docker quy định. Khi khai báo các chỉ thị này phải được viết bằng chữ IN HOA.\n",
    "- `aguments` là phần nội dung của các chỉ thị, quyết định chỉ thị sẽ làm gì.\n",
    "\n",
    "Ví dụ:\n",
    "\n",
    "```\n",
    "FROM alpine:3.4\n",
    "\n",
    "RUN apk update && \\\n",
    "    apk add curl && \\\n",
    "    apk add git && \\\n",
    "    apk add vim\n",
    "\n",
    "```\n",
    "\n",
    "[Các chỉ thị trong Dockerfile](https://docs.docker.com/engine/reference/builder/)"
   ]
  },
  {
   "cell_type": "markdown",
   "metadata": {
    "id": "8d1bd9da"
   },
   "source": [
    "1. `FROM`\n",
    "\n",
    "Chỉ định rằng image nào sẽ được dùng làm image cơ sở để quá trình build image thực thiện các câu lệnh tiếp theo. Các image base này sẽ được tải về từ Public Repository hoặc Private Repository riêng của mỗi người tùy theo setup.\n",
    "\n",
    "Chỉ thị `FROM` là bắt buộc và phải được để lên phía trên cùng của Dockerfile.\n",
    "\n",
    "__Cú pháp__\n",
    "```\n",
    "FROM <image> [AS <name>]\n",
    "FROM <image>[:<tag>] [AS <name>]\n",
    "FROM <image>[@<digest>] [AS <name>]\n",
    "```\n",
    "\n",
    "__Ví dụ__\n",
    "\n",
    "```FROM ubuntu```\n",
    "hoặc ```FROM ubuntu:latest```"
   ]
  },
  {
   "cell_type": "markdown",
   "metadata": {
    "id": "72cffcb6"
   },
   "source": [
    "2. `LABEL`\n",
    "\n",
    "được dùng để thêm các thông tin `meta` vào Docker Image khi chúng được build. Chúng tồn tại dưới dạng các cặp `key` - `value`, được lưu trữ dưới dạng chuỗi. Có thể chỉ định nhiều label cho một Docker Image, và tất nhiên mỗi cặp `key` - `value` phải là duy nhất. Nếu cùng một key mà được khai báo nhiều giá trị (`value`) thì giá trị được khai báo gần đây nhất sẽ ghi đè lên giá trị trước đó.\n",
    "\n",
    "__Cú pháp__\n",
    "```\n",
    "LABEL <key>=<value> <key>=<value> <key>=<value> ... <key>=<value>\n",
    "```\n",
    "\n",
    "__Ví dụ__\n",
    "\n",
    "```\n",
    "LABEL com.example.some-label=\"lorem\"\n",
    "LABEL version=\"2.0\" description=\"Lorem ipsum dolor sit amet, consectetur adipiscing elit.\"\n",
    "```\n",
    "\n",
    "Để xem thông tin meta của một Docker Image, ta sử dụng dòng lệnh:\n",
    "`docker inspect <image id>`"
   ]
  },
  {
   "cell_type": "markdown",
   "metadata": {
    "id": "07e247ba"
   },
   "source": [
    "3. `RUN`\n",
    "\n",
    "dùng để chạy một lệnh nào đó trong quá trình build image và thường là các câu lệnh Linux. Tùy vào image gốc được khai báo trong phần `FROM` thì sẽ có các câu lệnh tương ứng. Ví dụ, để chạy câu lệnh update đối với __Ubuntu__ sẽ là `RUN apt-get update -y` còn đối với __CentOS__ thì sẽ là `Run yum update -y`. Kết quả của câu lệnh sẽ được commit lại, kết quả commit đó sẽ được sử dụng trong bước tiếp theo của Dockerfile.\n",
    "\n",
    "__Cú pháp__\n",
    "```\n",
    "RUN <command>\n",
    "RUN [\"executable\", \"param1\", \"param2\"]\n",
    "```\n",
    "\n",
    "__Ví dụ__\n",
    "\n",
    "```\n",
    "RUN /bin/bash -c 'source $HOME/.bashrc; echo $HOME'\n",
    "```\n",
    "```\n",
    "RUN [\"/bin/bash\", \"-c\", \"echo hello\"]\n",
    "```\n",
    "```\n",
    "RUN apt-get update; \\\n",
    "    apt-get install curl -y\n",
    "```"
   ]
  },
  {
   "cell_type": "markdown",
   "metadata": {
    "id": "f9b71979"
   },
   "source": [
    "4. `ADD`\n",
    "\n",
    "Chỉ thị `ADD` sẽ thực hiện sao chép các tập, thư mục từ máy đang build hoặc remote file URLs từ `src` và thêm chúng vào filesystem của image `dest`.\n",
    "\n",
    "__Cú pháp__\n",
    "```\n",
    "ADD [--chown=<user>:<group>] <src>... <dest>\n",
    "ADD [--chown=<user>:<group>] [\"<src>\",... \"<dest>\"]\n",
    "```\n",
    "Trong đó:\n",
    "\n",
    "- `src` có thể khai báo nhiều file, thư mục, ...\n",
    "- `dest` phải là đường dẫn tuyệt đối hoặc có quan hệ chỉ thị đối với WORKDIR.\n",
    "\n",
    "__Ví dụ__\n",
    "\n",
    "```\n",
    "ADD hom* /mydir/\n",
    "ADD hom?.txt /mydir/\n",
    "ADD test.txt relativeDir/\n",
    "```\n"
   ]
  },
  {
   "cell_type": "markdown",
   "metadata": {
    "id": "9c314ff1"
   },
   "source": [
    "5. `COPY`\n",
    "\n",
    "Chỉ thị `COPY` cũng giống với `ADD` là copy file, thư mục từ `<src>` và thêm chúng vào `<dest>` của container. Khác với `ADD`, nó không hỗ trợ thêm các file remote file URLs từ các nguồn trên mạng.\n",
    "\n",
    "__Cú pháp__\n",
    "```\n",
    "COPY [--chown=<user>:<group>] <src>... <dest>\n",
    "COPY [--chown=<user>:<group>] [\"<src>\",... \"<dest>\"]\n",
    "```\n",
    "\n",
    "__Ví dụ__\n",
    "\n",
    "```\n",
    "COPY hom* /mydir/\n",
    "COPY hom?.txt /mydir/\n",
    "COPY . .\n",
    "```\n"
   ]
  },
  {
   "cell_type": "markdown",
   "metadata": {
    "id": "5a4f0fee"
   },
   "source": [
    "6. `ENV`\n",
    "\n",
    "Chỉ thị `ENV` dùng để khai báo các biến môi trường. Các biến này được khai báo dưới dạng `key` - `value` bằng các chuỗi. Giá trị của các biến này sẽ có hiện hữu cho các chỉ thị tiếp theo của __Dockerfile__.\n",
    "\n",
    "__Cú pháp__\n",
    "```\n",
    "ENV <key>=<value> ...\n",
    "```\n",
    "__Ví dụ__\n",
    "\n",
    "```\n",
    "ENV DOMAIN=\"viblo.asia\"\n",
    "ENV PORT=80\n",
    "ENV USERNAME=\"namdh\" PASSWORD=\"secret\"\n",
    "```\n",
    "\n",
    "Ngoài ra cũng có thể thay đổi giá trị của biến môi trường bằng câu lệnh khởi động container:\n",
    "`docker run --env <key>=<value>`\n"
   ]
  },
  {
   "cell_type": "markdown",
   "metadata": {
    "id": "d4356eda"
   },
   "source": [
    "7. `CMD`\n",
    "\n",
    "Chỉ thị `CMD` định nghĩa các câu lệnh sẽ được chạy sau khi container được khởi động từ image đã build. Có thể khai báo được nhiều nhưng chỉ có duy nhất `CMD` cuối cùng được chạy.\n",
    "\n",
    "__Cú pháp__\n",
    "```\n",
    "CMD [\"executable\",\"param1\",\"param2\"]\n",
    "CMD [\"param1\",\"param2\"]\n",
    "CMD command param1 param2\n",
    "```\n",
    "__Ví dụ__\n",
    "\n",
    "```\n",
    "CMD [\"python\", \"main.py\"]\n",
    "```\n"
   ]
  },
  {
   "cell_type": "markdown",
   "metadata": {
    "id": "9677e6f3"
   },
   "source": [
    "8. `EXPOSE`\n",
    "\n",
    "Chỉ thị `EXPOSE` cho phép container mở publish port chỉ định sau khi run từ image.\n",
    "\n",
    "__Cú pháp__\n",
    "```\n",
    "EXPOSE <port> [<port>/<protocol>...]\n",
    "```\n",
    "__Ví dụ__\n",
    "\n",
    "```\n",
    "EXPOSE 8080\n",
    "```\n"
   ]
  },
  {
   "cell_type": "markdown",
   "metadata": {
    "id": "2738f2c3"
   },
   "source": [
    "9. `VOLUME`\n",
    "\n",
    "Tạo 1 volume bên ngoài từ host hoặc 1 container khác mà container có thể giao tiếp được.\n",
    "\n",
    "__Ví dụ__\n",
    "\n",
    "```\n",
    "VOLUME [\"/data\"]\n",
    "```\n"
   ]
  },
  {
   "cell_type": "markdown",
   "metadata": {
    "id": "522e92af"
   },
   "source": [
    "10. `WORKDIR`\n",
    "\n",
    "sets the working directory for any `RUN`, `CMD`, `ENTRYPOINT`, `COPY` and `ADD` __instructions__ that follow it in the Dockerfile. If the `WORKDIR` doesn’t exist, it will be created even if it’s not used in any subsequent Dockerfile instruction. Set `WORKDIR` trước khi thực hiện các __instructions__ trên.\n",
    "\n",
    "__Cú pháp__\n",
    "```\n",
    "WORKDIR /path/to/workdir\n",
    "```\n",
    "\n",
    "__Ví dụ__\n",
    "\n",
    "```\n",
    "WORKDIR /Users/khongdat/Library/CloudStorage/GoogleDrive-k55.1613310017@ftu.edu.vn/My Drive/GitCode/My_learning/6. Docker\n",
    "RUN pwd\n",
    "```\n"
   ]
  },
  {
   "cell_type": "markdown",
   "metadata": {
    "id": "3a564678"
   },
   "source": []
  }
 ],
 "metadata": {
  "kernelspec": {
   "display_name": "Python 3 (ipykernel)",
   "language": "python",
   "name": "python3"
  },
  "language_info": {
   "codemirror_mode": {
    "name": "ipython",
    "version": 3
   },
   "file_extension": ".py",
   "mimetype": "text/x-python",
   "name": "python",
   "nbconvert_exporter": "python",
   "pygments_lexer": "ipython3",
   "version": "3.10.10"
  }
 },
 "nbformat": 4,
 "nbformat_minor": 4
}
