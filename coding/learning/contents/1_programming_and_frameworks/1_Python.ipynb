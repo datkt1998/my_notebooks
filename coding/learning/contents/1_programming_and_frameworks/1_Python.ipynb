{
 "cells": [
  {
   "cell_type": "markdown",
   "id": "16a013f4-9ba1-4baa-843e-25f0e231a6c1",
   "metadata": {},
   "source": [
    "# Python"
   ]
  },
  {
   "cell_type": "markdown",
   "id": "bbe454b2-3948-48e2-a675-081a645f1cdd",
   "metadata": {},
   "source": [
    "## Variable name"
   ]
  },
  {
   "cell_type": "code",
   "execution_count": 1,
   "id": "3a3aefd0-0e47-4d20-9eaa-7be2b5399515",
   "metadata": {
    "ExecuteTime": {
     "end_time": "2023-07-26T13:59:14.163237Z",
     "start_time": "2023-07-26T13:59:14.157688Z"
    }
   },
   "outputs": [
    {
     "data": {
      "text/plain": [
       "['and',\n",
       " 'as',\n",
       " 'assert',\n",
       " 'break',\n",
       " 'class',\n",
       " 'countinue',\n",
       " 'def',\n",
       " 'del',\n",
       " 'elif',\n",
       " 'else',\n",
       " 'except',\n",
       " 'exec',\n",
       " 'finally',\n",
       " 'for',\n",
       " 'from',\n",
       " 'global',\n",
       " 'if',\n",
       " 'import',\n",
       " 'in',\n",
       " 'is',\n",
       " 'lambda',\n",
       " 'not',\n",
       " 'or',\n",
       " 'pass',\n",
       " 'print',\n",
       " 'raise',\n",
       " 'return',\n",
       " 'try',\n",
       " 'while',\n",
       " 'with',\n",
       " 'with',\n",
       " 'yield']"
      ]
     },
     "execution_count": 1,
     "metadata": {},
     "output_type": "execute_result"
    }
   ],
   "source": [
    "# Variable không được bắng đầu bằng số\n",
    "# ko chứa dấu '-', được chứa dấu'_'\n",
    "# có phân biệt UPCASE\n",
    "# không được sử dụng keyword của python gồm \n",
    "# Dấu \"\\\" ở cuối dòng thể hiện dòng code sẽ nối tiếp dòng phía dưới\n",
    "['and','as','assert','break','class','countinue','def','del',\n",
    " 'elif','else','except','exec','finally','for','from','global',\n",
    " 'if','import','in','is','lambda','not','or','pass','print','raise',\n",
    " 'return','try','while','with','with','yield']"
   ]
  },
  {
   "cell_type": "markdown",
   "id": "3471db5d-4016-4d33-be7e-db4ea1430442",
   "metadata": {},
   "source": [
    "## Python Types "
   ]
  },
  {
   "cell_type": "markdown",
   "id": "d7654a5e-e859-462e-86cc-7273b2a451c4",
   "metadata": {},
   "source": [
    "### Numbers\n",
    "\n",
    "Numbers is `int` and `float`"
   ]
  },
  {
   "cell_type": "code",
   "execution_count": 2,
   "id": "01b21460-9639-43e6-8a7a-f8b9fd454540",
   "metadata": {
    "tags": []
   },
   "outputs": [
    {
     "data": {
      "text/plain": [
       "float"
      ]
     },
     "execution_count": 2,
     "metadata": {},
     "output_type": "execute_result"
    }
   ],
   "source": [
    "type(1)   # int \n",
    "type(-10) # int\n",
    "type(0)   # int\n",
    "type(0.0) # float\n",
    "type(2.2) # float\n",
    "type(4E2) # float - 4*10 to the power of 2"
   ]
  },
  {
   "cell_type": "code",
   "execution_count": 3,
   "id": "86c86170-a36a-4aa8-bdd4-201b2dea1aaa",
   "metadata": {},
   "outputs": [
    {
     "data": {
      "text/plain": [
       "1"
      ]
     },
     "execution_count": 3,
     "metadata": {},
     "output_type": "execute_result"
    }
   ],
   "source": [
    "# Arithmetic\n",
    "10 + 3  # 13\n",
    "10 - 3  # 7\n",
    "10 * 3  # 30\n",
    "10 ** 3 # 1000\n",
    "10 / 3  # 3.3333333333333335\n",
    "10 // 3 # 3 --> floor division - no decimals and returns an int\n",
    "10 % 3  # 1 --> modulo operator - return the reminder. Good for deciding if number is even or odd"
   ]
  },
  {
   "cell_type": "code",
   "execution_count": 4,
   "id": "a63a4e10-e8ed-4873-a16f-06a194f96bd4",
   "metadata": {},
   "outputs": [
    {
     "data": {
      "text/plain": [
       "True"
      ]
     },
     "execution_count": 4,
     "metadata": {},
     "output_type": "execute_result"
    }
   ],
   "source": [
    "# relationship\n",
    "3<4\n",
    "4>3\n",
    "3<=4\n",
    "4<=3\n",
    "3!=4\n",
    "3==3"
   ]
  },
  {
   "cell_type": "code",
   "execution_count": 5,
   "id": "b1bb053e-4e10-4ef3-a462-5d880ce75c9a",
   "metadata": {},
   "outputs": [
    {
     "data": {
      "text/plain": [
       "'0x200'"
      ]
     },
     "execution_count": 5,
     "metadata": {},
     "output_type": "execute_result"
    }
   ],
   "source": [
    "# Basic Functions\n",
    "pow(5, 2)      # 25 --> like doing 5**2\n",
    "abs(-50)       # 50\n",
    "round(5.46)    # 5\n",
    "round(5.468, 2)# 5.47 --> round to nth digit\n",
    "bin(512)       # '0b1000000000' -->  binary format\n",
    "hex(512)       # '0x200' --> hexadecimal format"
   ]
  },
  {
   "cell_type": "code",
   "execution_count": 6,
   "id": "e1e9f8bb-77a8-4cd3-a210-4b7aea25e3b1",
   "metadata": {},
   "outputs": [],
   "source": [
    "# Converting Strings to Numbers\n",
    "age = input(\"How old are you?\")\n",
    "age = int(age)\n",
    "pi = input(\"What is the value of pi?\")\n",
    "pi = float(pi)"
   ]
  },
  {
   "cell_type": "code",
   "execution_count": 7,
   "id": "df2028be-dbbf-4d39-a687-8517ebabb2ce",
   "metadata": {
    "tags": []
   },
   "outputs": [
    {
     "name": "stdout",
     "output_type": "stream",
     "text": [
      "123.456\n",
      "  123.456\n",
      "00123.456\n",
      "0123.4560\n",
      "123.456\n",
      "123\n"
     ]
    }
   ],
   "source": [
    "# format\n",
    "print('{:3}'.format(123.456))\n",
    "print('{:9}'.format(123.456))\n",
    "print('{:09}'.format(123.456))\n",
    "print('{:09.4f}'.format(123.456))\n",
    "a='{:09.4f}'.format(123.456) #type a = str\n",
    "print(float(a))\n",
    "print(int(float(a)))"
   ]
  },
  {
   "cell_type": "code",
   "execution_count": 8,
   "id": "8dbfc4df-891d-4502-b205-ef8b2deca060",
   "metadata": {
    "tags": []
   },
   "outputs": [
    {
     "name": "stdout",
     "output_type": "stream",
     "text": [
      "<class 'fractions.Fraction'>\n",
      "1/2\n",
      "23/38\n"
     ]
    }
   ],
   "source": [
    "# fraction\n",
    "from fractions import*\n",
    "frac=Fraction(7,14)\n",
    "\n",
    "print(type(frac))\n",
    "\n",
    "frac1=Fraction(2,19)\n",
    "frac2=frac+frac1\n",
    "\n",
    "print(frac)\n",
    "print(frac2)"
   ]
  },
  {
   "cell_type": "markdown",
   "id": "de0e13fd-5285-4035-8076-a254f361aeba",
   "metadata": {},
   "source": [
    "### String"
   ]
  },
  {
   "cell_type": "code",
   "execution_count": 9,
   "id": "7250b428-e0b3-4d31-8d47-541b2dabe1b5",
   "metadata": {},
   "outputs": [
    {
     "data": {
      "text/plain": [
       "'**********'"
      ]
     },
     "execution_count": 9,
     "metadata": {},
     "output_type": "execute_result"
    }
   ],
   "source": [
    "type('Hellloooooo') # str\n",
    "\n",
    "'I\\'m thirsty'\n",
    "\"I'm thirsty\"\n",
    "\"\\n\" # new line\n",
    "\"\\t\" # adds a tab\n",
    "\n",
    "'Hey you!'[4] # y\n",
    "name = 'Andrei Neagoie'\n",
    "name[4]     # e\n",
    "name[:]     # Andrei Neagoie\n",
    "name[1:]    # ndrei Neagoie\n",
    "name[:1]    # A\n",
    "name[-1]    # e\n",
    "name[::1]   # Andrei Neagoie\n",
    "name[::-1]  # eiogaeN ierdnA\n",
    "name[0:10:2]# Ade e\n",
    "# : is called slicing and has the format [ start : end : step ]\n",
    "\n",
    "'Hi there ' + 'Timmy' # 'Hi there Timmy' --> This is called string concatenation\n",
    "'*'*10 # **********"
   ]
  },
  {
   "cell_type": "code",
   "execution_count": 10,
   "id": "f4b07de0-3f27-48fe-b098-625a00739e78",
   "metadata": {},
   "outputs": [
    {
     "data": {
      "text/plain": [
       "2"
      ]
     },
     "execution_count": 10,
     "metadata": {},
     "output_type": "execute_result"
    }
   ],
   "source": [
    "# Basic Functions\n",
    "len('turtle') # 6\n",
    "\n",
    "# Basic Methods\n",
    "'  I am alone '.strip()               # 'I am alone' --> Strips all whitespace characters from both ends.\n",
    "'On an island'.strip('d')             # 'On an islan' --> # Strips all passed characters from both ends.\n",
    "'but life is good!'.split()           # ['but', 'life', 'is', 'good!']\n",
    "'Help me'.replace('me', 'you')        # 'Help you' --> Replaces first with second param\n",
    "'Need to make fire'.startswith('Need')# True\n",
    "'and cook rice'.endswith('rice')      # True\n",
    "'bye bye'.index('e')                  # 2\n",
    "'still there?'.upper()                # STILL THERE?\n",
    "'HELLO?!'.lower()                     # hello?!\n",
    "'ok, I am done.'.capitalize()         # 'Ok, I am done.'\n",
    "'oh hi there'.find('i')               # 4 --> returns the starting index position of the first occurrence\n",
    "'oh hi there'.count('e')              # 2"
   ]
  },
  {
   "cell_type": "code",
   "execution_count": 11,
   "id": "ee2ed175-5406-491c-872c-e50a9341dc2a",
   "metadata": {},
   "outputs": [
    {
     "name": "stdout",
     "output_type": "stream",
     "text": [
      "Hello there Andrei and Sunny\n",
      "Hello there Andrei and Sunny\n"
     ]
    }
   ],
   "source": [
    "# String Formatting\n",
    "name1 = 'Andrei'\n",
    "name2 = 'Sunny'\n",
    "print(f'Hello there {name1} and {name2}')       # Hello there Andrei and Sunny\n",
    "print('Hello there {} and {}'.format(name1, name2)) # Hello there Andrei and Sunny"
   ]
  },
  {
   "cell_type": "markdown",
   "id": "b8a34789-2896-42ed-8785-141f62ef1714",
   "metadata": {},
   "source": [
    "### Boolean\n",
    "`True` or `False`. Used in a lot of comparison and logical operations in Python"
   ]
  },
  {
   "cell_type": "code",
   "execution_count": 12,
   "id": "81fe53ee-b45b-4011-9098-1e6dd25478d5",
   "metadata": {
    "tags": []
   },
   "outputs": [
    {
     "name": "stdout",
     "output_type": "stream",
     "text": [
      "1 False\n",
      "2 False\n",
      "3 False\n",
      "4 False\n",
      "5 False\n",
      "6 False\n",
      "7 False\n",
      "8 False\n",
      "9 False\n",
      "10 False\n"
     ]
    }
   ],
   "source": [
    "bool(True)\n",
    "bool(False)\n",
    "\n",
    "# all of the below evaluate to False. Everything else will evaluate to True in Python.\n",
    "print('1', bool(None))\n",
    "print('2', bool(False))\n",
    "print('3', bool(0))\n",
    "print('4', bool(0.0))\n",
    "print('5', bool([]))\n",
    "print('6', bool({}))\n",
    "print('7', bool(()))\n",
    "print('8', bool(''))\n",
    "print('9', bool(range(0)))\n",
    "print('10', bool(set()))\n",
    "\n",
    "# See Logical Operators and Comparison Operators section for more on booleans."
   ]
  },
  {
   "cell_type": "markdown",
   "id": "accfd8dd-f606-4f8d-952e-bfe8c129e030",
   "metadata": {},
   "source": [
    "### Lists"
   ]
  },
  {
   "cell_type": "code",
   "execution_count": 13,
   "id": "f6446c3b-509c-4512-8f25-f078b0078383",
   "metadata": {
    "tags": []
   },
   "outputs": [
    {
     "data": {
      "text/plain": [
       "[1, '3']"
      ]
     },
     "execution_count": 13,
     "metadata": {},
     "output_type": "execute_result"
    }
   ],
   "source": [
    "my_list = [1, 2, '3', True]# We assume this list won't mutate for each example below\n",
    "len(my_list)               # 4\n",
    "my_list.index('3')         # 2\n",
    "my_list.count(2)           # 1 --> count how many times 2 appears\n",
    "\n",
    "my_list[3]                 # True\n",
    "my_list[1:]                # [2, '3', True]\n",
    "my_list[:1]                # [1]\n",
    "my_list[-1]                # True\n",
    "my_list[::1]               # [1, 2, '3', True]\n",
    "my_list[::-1]              # [True, '3', 2, 1]\n",
    "my_list[0:3:2]             # [1, '3']\n",
    "\n",
    "# : is called slicing and has the format [ start : end : step ]"
   ]
  },
  {
   "cell_type": "code",
   "execution_count": 14,
   "id": "a85196d0-0e30-4235-865d-6830c61e7d34",
   "metadata": {},
   "outputs": [
    {
     "data": {
      "text/plain": [
       "'Hello There'"
      ]
     },
     "execution_count": 14,
     "metadata": {},
     "output_type": "execute_result"
    }
   ],
   "source": [
    "# Add to List\n",
    "my_list * 2                # [1, 2, '3', True, 1, 2, '3', True]\n",
    "my_list + [100]            # [1, 2, '3', True, 100] --> doesn't mutate original list, creates new one\n",
    "my_list.append(100)        # None --> Mutates original list to [1, 2, '3', True, 100]          # Or: <list> += [<el>]\n",
    "my_list.extend([100, 200]) # None --> Mutates original list to [1, 2, '3', True, 100, 200]\n",
    "my_list.insert(2, '!!!')   # None -->  [1, 2, '!!!', '3', True] - Inserts item at index and moves the rest to the right.\n",
    "\n",
    "' '.join(['Hello','There'])# 'Hello There' --> Joins elements using string as separator."
   ]
  },
  {
   "cell_type": "code",
   "execution_count": 15,
   "id": "727f99a0-f33b-4b78-822e-41c2c24b4ba2",
   "metadata": {},
   "outputs": [],
   "source": [
    "# Copy a List\n",
    "basket = ['apples', 'pears', 'oranges']\n",
    "new_basket = basket.copy()\n",
    "new_basket2 = basket[:]"
   ]
  },
  {
   "cell_type": "code",
   "execution_count": 16,
   "id": "da1918ea-19ba-469d-a086-af8cb353d1f1",
   "metadata": {},
   "outputs": [],
   "source": [
    "# Remove from List\n",
    "[1,2,3].pop()    # 3 --> mutates original list, default index in the pop method is -1 (the last item)\n",
    "[1,2,3].pop(1)   # 2 --> mutates original list\n",
    "[1,2,3].remove(2)# None --> [1,3] Removes first occurrence of item or raises ValueError.\n",
    "[1,2,3].clear()  # None --> mutates original list and removes all items: []\n",
    "del [1,2,3][0] # "
   ]
  },
  {
   "cell_type": "code",
   "execution_count": 17,
   "id": "95a177c1-3455-4a52-99ef-3c2627572688",
   "metadata": {},
   "outputs": [],
   "source": [
    "# Ordering\n",
    "[1,2,5,3].sort()         # None --> Mutates list to [1, 2, 3, 5]\n",
    "[1,2,5,3].sort(reverse=True) # None --> Mutates list to [5, 3, 2, 1]\n",
    "[1,2,5,3].reverse()      # None --> Mutates list to [3, 5, 2, 1]\n",
    "newls = sorted([1,2,5,3])          # [1, 2, 3, 5] --> new list created\n",
    "newls = list(reversed([1,2,5,3]))  # [3, 5, 2, 1] --> reversed() returns an iterator"
   ]
  },
  {
   "cell_type": "code",
   "execution_count": 18,
   "id": "7932f0a6-1f9f-41fa-be6a-7cbf3e724ef6",
   "metadata": {},
   "outputs": [],
   "source": [
    "# Advanced Ordering\n",
    "\n",
    "sorted_by_second = sorted(['hi','you','man'], key=lambda el: el[1]) # ['man', 'hi', 'you']\n",
    "sorted_by_key = sorted([\n",
    "                       {'name': 'Bina', 'age': 30},\n",
    "                       {'name':'Andy', 'age': 18},\n",
    "                       {'name': 'Zoey', 'age': 55}\n",
    "                        ],\n",
    "                       key=lambda el: (el['name']))# [{'name': 'Andy', 'age': 18}, {'name': 'Bina', 'age': 30}, {'name': 'Zoey', 'age': 55}]"
   ]
  },
  {
   "cell_type": "code",
   "execution_count": 19,
   "id": "7585486b-fbf0-4662-8c66-0db8a7b8a43f",
   "metadata": {},
   "outputs": [
    {
     "data": {
      "text/plain": [
       "15"
      ]
     },
     "execution_count": 19,
     "metadata": {},
     "output_type": "execute_result"
    }
   ],
   "source": [
    "# Useful operations\n",
    "1 in [1,2,5,3]  # True\n",
    "min([1,2,3,4,5])# 1\n",
    "max([1,2,3,4,5])# 5\n",
    "sum([1,2,3,4,5])# 15"
   ]
  },
  {
   "cell_type": "code",
   "execution_count": 20,
   "id": "c19c66b6-d46d-437e-b47f-5faeaea762bb",
   "metadata": {},
   "outputs": [
    {
     "name": "stdout",
     "output_type": "stream",
     "text": [
      "63\n",
      "10\n"
     ]
    }
   ],
   "source": [
    "# Get First and Last element of a list\n",
    "mList = [63, 21, 30, 14, 35, 26, 77, 18, 49, 10]\n",
    "first, *x, last = mList\n",
    "print(first) #63\n",
    "print(last) #10"
   ]
  },
  {
   "cell_type": "code",
   "execution_count": 21,
   "id": "a58a0343-71fd-47b7-9ba1-e7e65fa70384",
   "metadata": {},
   "outputs": [],
   "source": [
    "# List Comprehensions\n",
    "# new_list[<action> for <item> in <iterator> if <some condition>]\n",
    "a = [i for i in 'hello']                  # ['h', 'e', 'l', 'l', '0']\n",
    "b = [i*2 for i in [1,2,3]]                # [2, 4, 6]\n",
    "c = [i for i in range(0,10) if i % 2 == 0]# [0, 2, 4, 6, 8]"
   ]
  },
  {
   "cell_type": "code",
   "execution_count": 22,
   "id": "720a18ea-93b8-4c86-9731-3f055f8b0155",
   "metadata": {},
   "outputs": [],
   "source": [
    "# Advanced Functions\n",
    "list_of_chars = list('Helloooo')                                   # ['H', 'e', 'l', 'l', 'o', 'o', 'o', 'o']\n",
    "sum_of_elements = sum([1,2,3,4,5])                                 # 15\n",
    "element_sum = [sum(pair) for pair in zip([1,2,3],[4,5,6])]         # [5, 7, 9]"
   ]
  },
  {
   "cell_type": "code",
   "execution_count": null,
   "id": "6625c0e9-4133-4f9c-94c0-b7b5c9468268",
   "metadata": {},
   "outputs": [],
   "source": [
    "# Read line of a file into a list\n",
    "with open(\"myfile.txt\") as f:\n",
    "    lines = [line.strip() for line in f]"
   ]
  },
  {
   "cell_type": "markdown",
   "id": "dfa9a1a3-4cbb-48e2-9642-da9494dd9c0b",
   "metadata": {},
   "source": [
    "### Dictionaries"
   ]
  },
  {
   "cell_type": "code",
   "execution_count": 24,
   "id": "21bf85c0-ff0f-4ad3-a517-ec0120227405",
   "metadata": {},
   "outputs": [
    {
     "data": {
      "text/plain": [
       "0"
      ]
     },
     "execution_count": 24,
     "metadata": {},
     "output_type": "execute_result"
    }
   ],
   "source": [
    "my_dict = {'name': 'Andrei Neagoie', 'age': 30, 'magic_power': False}\n",
    "my_dict['name']                      # Andrei Neagoie\n",
    "len(my_dict)                         # 3\n",
    "list(my_dict.keys())                 # ['name', 'age', 'magic_power']\n",
    "list(my_dict.values())               # ['Andrei Neagoie', 30, False]\n",
    "list(my_dict.items())                # [('name', 'Andrei Neagoie'), ('age', 30), ('magic_power', False)]\n",
    "my_dict['favourite_snack'] = 'Grapes'# {'name': 'Andrei Neagoie', 'age': 30, 'magic_power': False, 'favourite_snack': 'Grapes'}\n",
    "my_dict.get('age')                   # 30 --> Returns None if key does not exist.\n",
    "my_dict.get('ages', 0 )              # 0 --> Returns default (2nd param) if key is not found"
   ]
  },
  {
   "cell_type": "code",
   "execution_count": 25,
   "id": "0ab8e21b-bae7-4930-8161-3b02776fedfb",
   "metadata": {},
   "outputs": [],
   "source": [
    "#Remove key\n",
    "del my_dict['name']\n",
    "my_dict.pop('age')\n",
    "new_dict = my_dict.pop('name', None)"
   ]
  },
  {
   "cell_type": "code",
   "execution_count": 26,
   "id": "52827d41-cefb-444a-9706-209d175ac1aa",
   "metadata": {},
   "outputs": [
    {
     "data": {
      "text/plain": [
       "{'magic_power': False, 'favourite_snack': 'Grapes', 'cool': True}"
      ]
     },
     "execution_count": 26,
     "metadata": {},
     "output_type": "execute_result"
    }
   ],
   "source": [
    "# update\n",
    "my_dict.update({'cool': True})                                         # {'name': 'Andrei Neagoie', 'age': 30, 'magic_power': False, 'favourite_snack': 'Grapes', 'cool': True}\n",
    "{**my_dict, **{'cool': True} }                                         # {'name': 'Andrei Neagoie', 'age': 30, 'magic_power': False, 'favourite_snack': 'Grapes', 'cool': True}"
   ]
  },
  {
   "cell_type": "code",
   "execution_count": 27,
   "id": "90ebc470-6451-486a-90e3-8426e979ec70",
   "metadata": {},
   "outputs": [],
   "source": [
    "# create dict\n",
    "new_dict = dict([['name','Andrei'],['age',32],['magic_power',False]])  # Creates a dict from collection of key-value pairs.\n",
    "new_dict = dict(zip(['name','age','magic_power'],['Andrei',32, False]))# Creates a dict from two collections."
   ]
  },
  {
   "cell_type": "code",
   "execution_count": 28,
   "id": "16537aa2-4e6d-4607-8ed5-f20939e35c51",
   "metadata": {},
   "outputs": [
    {
     "data": {
      "text/plain": [
       "{'name': 'Andrei', 'age': 32}"
      ]
     },
     "execution_count": 28,
     "metadata": {},
     "output_type": "execute_result"
    }
   ],
   "source": [
    "# Dictionary Comprehension\n",
    "{key: value for key, value in new_dict.items() if key == 'age' or key == 'name'} # {'name': 'Andrei', 'age': 32} --> Filter dict by keys"
   ]
  },
  {
   "cell_type": "markdown",
   "id": "54efd9ab-e716-4dc1-bb20-17ea4be6711c",
   "metadata": {},
   "source": [
    "### Tuples\n",
    "Like lists, but they are used for immutable things (that don't change)"
   ]
  },
  {
   "cell_type": "code",
   "execution_count": 29,
   "id": "50f5ffa0-9d52-445b-baeb-b17d02b3a1cc",
   "metadata": {},
   "outputs": [
    {
     "data": {
      "text/plain": [
       "'grapes'"
      ]
     },
     "execution_count": 29,
     "metadata": {},
     "output_type": "execute_result"
    }
   ],
   "source": [
    "my_tuple = ('apple','grapes','mango', 'grapes')\n",
    "apple, grapes, mango, grapes = my_tuple# Tuple unpacking\n",
    "len(my_tuple)                          # 4\n",
    "my_tuple[2]                            # mango\n",
    "my_tuple[-1]                           # 'grapes'"
   ]
  },
  {
   "cell_type": "code",
   "execution_count": null,
   "id": "22fa57f0-daf8-4bf9-8ec2-08d5395f92d3",
   "metadata": {},
   "outputs": [],
   "source": [
    "# Immutability\n",
    "my_tuple[1] = 'donuts'  # TypeError\n",
    "my_tuple.append('candy')# AttributeError"
   ]
  },
  {
   "cell_type": "code",
   "execution_count": 31,
   "id": "1c263340-5e9c-4828-a973-ab13d426fb53",
   "metadata": {},
   "outputs": [
    {
     "data": {
      "text/plain": [
       "2"
      ]
     },
     "execution_count": 31,
     "metadata": {},
     "output_type": "execute_result"
    }
   ],
   "source": [
    "# Methods\n",
    "my_tuple.index('grapes') # 1\n",
    "my_tuple.count('grapes') # 2"
   ]
  },
  {
   "cell_type": "code",
   "execution_count": 32,
   "id": "bc5b6d19-2765-44e6-80fc-a2efcf56294d",
   "metadata": {},
   "outputs": [
    {
     "data": {
      "text/plain": [
       "[(1, 3, 5, 7), (2, 4, 6, 8)]"
      ]
     },
     "execution_count": 32,
     "metadata": {},
     "output_type": "execute_result"
    }
   ],
   "source": [
    "# Zip\n",
    "list(zip([1,2,3], [4,5,6])) # [(1, 4), (2, 5), (3, 6)]\n",
    "\n",
    "# unzip\n",
    "z = [(1, 2), (3, 4), (5, 6), (7, 8)] # Some output of zip() function\n",
    "unzip = lambda z: list(zip(*z))\n",
    "unzip(z)"
   ]
  },
  {
   "cell_type": "markdown",
   "id": "58cba890-abcb-47d6-b4b7-09d895d618fa",
   "metadata": {},
   "source": [
    "### Sets\n",
    "\n",
    "Unordered collection of unique elements."
   ]
  },
  {
   "cell_type": "code",
   "execution_count": 33,
   "id": "338e4d08-0119-469a-a432-1cfd5a0edded",
   "metadata": {},
   "outputs": [],
   "source": [
    "my_set = set()\n",
    "my_set.add(1)  # {1}\n",
    "my_set.add(100)# {1, 100}\n",
    "my_set.add(100)# {1, 100} --> no duplicates!"
   ]
  },
  {
   "cell_type": "code",
   "execution_count": 34,
   "id": "eaac9ea1-bbba-4485-bbcd-0f2a966fd912",
   "metadata": {},
   "outputs": [],
   "source": [
    "new_list = [1,2,3,3,3,4,4,5,6,1]\n",
    "set(new_list)           # {1, 2, 3, 4, 5, 6}\n",
    "\n",
    "my_set.remove(100)      # {1} --> Raises KeyError if element not found\n",
    "my_set.discard(100)     # {1} --> Doesn't raise an error if element not found\n",
    "my_set.clear()          # {}\n",
    "new_set = {1,2,3}.copy()# {1,2,3}"
   ]
  },
  {
   "cell_type": "code",
   "execution_count": 35,
   "id": "d6a688af-c687-42d2-b0de-8bdd8e74308d",
   "metadata": {},
   "outputs": [
    {
     "data": {
      "text/plain": [
       "False"
      ]
     },
     "execution_count": 35,
     "metadata": {},
     "output_type": "execute_result"
    }
   ],
   "source": [
    "set1 = {1,2,3}\n",
    "set2 = {3,4,5}\n",
    "set3 = set1.union(set2)               # {1,2,3,4,5}\n",
    "set4 = set1.intersection(set2)        # {3}\n",
    "set5 = set1.difference(set2)          # {1, 2}\n",
    "set6 = set1.symmetric_difference(set2)# {1, 2, 4, 5}\n",
    "set1.issubset(set2)                   # False\n",
    "set1.issuperset(set2)                 # False\n",
    "set1.isdisjoint(set2)                 # False --> return True if two sets have a null intersection."
   ]
  },
  {
   "cell_type": "markdown",
   "id": "6e908cb4-6dd9-4f84-a788-49b1fc6370b8",
   "metadata": {},
   "source": [
    "## Functions"
   ]
  },
  {
   "cell_type": "markdown",
   "id": "7182cdb9-801d-4be7-8a78-3eba184285d8",
   "metadata": {},
   "source": [
    "### def"
   ]
  },
  {
   "cell_type": "markdown",
   "id": "a655084e-3690-443d-b3ea-4b02b54c9efa",
   "metadata": {},
   "source": [
    "`*args` and `**kwargs`"
   ]
  },
  {
   "cell_type": "code",
   "execution_count": 38,
   "id": "f4d9a42f-810e-4b2d-b400-bb74646d0a34",
   "metadata": {},
   "outputs": [],
   "source": [
    "def some_func(*args, **kwargs):\n",
    "    pass\n",
    "\n",
    "args   = (1, 2)\n",
    "kwargs = {'x': 3, 'y': 4, 'z': 5}\n",
    "some_func(*args, **kwargs) # same as some_func(1, 2, x=3, y=4, z=5)"
   ]
  },
  {
   "cell_type": "code",
   "execution_count": null,
   "id": "479e0e24-4899-45d2-8766-697ed270279d",
   "metadata": {},
   "outputs": [],
   "source": [
    "def f(*args):\n",
    "    # f(1, 2, 3)\n",
    "    pass\n",
    "\n",
    "def f(x, *args):               \n",
    "    # f(1, 2, 3)\n",
    "    pass\n",
    "\n",
    "def f(*args, z):               \n",
    "    # f(1, 2, z=3)\n",
    "    pass\n",
    "\n",
    "def f(x, *args, z):            \n",
    "    # f(1, 2, z=3)\n",
    "    pass\n",
    "\n",
    "def f(**kwargs):               \n",
    "    # f(x=1, y=2, z=3)\n",
    "    pass\n",
    "\n",
    "def f(x, **kwargs):            \n",
    "    # f(x=1, y=2, z=3) | f(1, y=2, z=3)\n",
    "    pass\n",
    "\n",
    "def f(*args, **kwargs):        \n",
    "    # f(x=1, y=2, z=3) | f(1, y=2, z=3) | f(1, 2, z=3) | f(1, 2, 3)\n",
    "    pass\n",
    "\n",
    "def f(x, *args, **kwargs):     \n",
    "    # f(x=1, y=2, z=3) | f(1, y=2, z=3) | f(1, 2, z=3) | f(1, 2, 3)\n",
    "    pass\n",
    "\n",
    "def f(*args, y, **kwargs):     \n",
    "    # f(x=1, y=2, z=3) | f(1, y=2, z=3)\n",
    "    pass\n",
    "\n",
    "def f(x, *args, z, **kwargs):  \n",
    "    # f(x=1, y=2, z=3) | f(1, y=2, z=3) | f(1, 2, z=3)\n",
    "    pass"
   ]
  },
  {
   "cell_type": "code",
   "execution_count": 39,
   "id": "2e37413d-3605-45e4-830a-9acb93fbce03",
   "metadata": {},
   "outputs": [
    {
     "data": {
      "text/plain": [
       "6"
      ]
     },
     "execution_count": 39,
     "metadata": {},
     "output_type": "execute_result"
    }
   ],
   "source": [
    "def add(*a):\n",
    "    return sum(a)\n",
    "\n",
    "add(1, 2, 3) # 6"
   ]
  },
  {
   "cell_type": "markdown",
   "id": "f1d02fb0-67b3-4e28-b8ae-9a8247a685c3",
   "metadata": {},
   "source": [
    "Other Uses of `*`"
   ]
  },
  {
   "cell_type": "code",
   "execution_count": 40,
   "id": "877bf4ca-4957-4618-97ca-432028035941",
   "metadata": {},
   "outputs": [
    {
     "data": {
      "text/plain": [
       "{'a': 1, 'b': 2, 'c': 3}"
      ]
     },
     "execution_count": 40,
     "metadata": {},
     "output_type": "execute_result"
    }
   ],
   "source": [
    "[*[1,2,3], *[4]]                # [1, 2, 3, 4]\n",
    "{*[1,2,3], *[4]}                # {1, 2, 3, 4}\n",
    "(*[1,2,3], *[4])                # (1, 2, 3, 4)\n",
    "{**{'a': 1, 'b': 2}, **{'c': 3}}# {'a': 1, 'b': 2, 'c': 3}"
   ]
  },
  {
   "cell_type": "markdown",
   "id": "564a56bb-6de0-4580-8d0f-8e1a254d9953",
   "metadata": {},
   "source": [
    "### lambda"
   ]
  },
  {
   "cell_type": "code",
   "execution_count": 41,
   "id": "1f8d8d96-7247-4474-a7fb-2a1e3ed5c155",
   "metadata": {},
   "outputs": [],
   "source": [
    "# lambda: <return_value>\n",
    "# lambda <argument1>, <argument2>: <return_value>"
   ]
  },
  {
   "cell_type": "code",
   "execution_count": 42,
   "id": "25bc79e1-2173-4c3d-8ce3-921caa06a726",
   "metadata": {},
   "outputs": [
    {
     "name": "stdout",
     "output_type": "stream",
     "text": [
      "6\n"
     ]
    }
   ],
   "source": [
    "# Factorial\n",
    "from functools import reduce\n",
    "n = 3\n",
    "factorial = reduce(lambda x, y: x*y, range(1, n+1))\n",
    "print(factorial) #6"
   ]
  },
  {
   "cell_type": "code",
   "execution_count": 43,
   "id": "60ffec07-4328-49b9-b540-69c71e761437",
   "metadata": {},
   "outputs": [
    {
     "name": "stdout",
     "output_type": "stream",
     "text": [
      "55\n"
     ]
    }
   ],
   "source": [
    "# Fibonacci\n",
    "fib = lambda n : n if n <= 1 else fib(n-1) + fib(n-2)\n",
    "result = fib(10)\n",
    "print(result) #55"
   ]
  },
  {
   "cell_type": "markdown",
   "id": "7a99505a-7a5c-4e42-be65-e17dddfdff1d",
   "metadata": {},
   "source": [
    "## Advanced Python"
   ]
  },
  {
   "cell_type": "markdown",
   "id": "0abeb625-22a9-49ca-ad0c-9e9e4e1a704e",
   "metadata": {},
   "source": [
    "### Comprehensions"
   ]
  },
  {
   "cell_type": "code",
   "execution_count": 44,
   "id": "167a1699-3389-4da8-9004-46cbc9a8bafe",
   "metadata": {},
   "outputs": [],
   "source": [
    "_list = [i+1 for i in range(10)]         # [1, 2, ..., 10]\n",
    "_set  = {i for i in range(10) if i > 5}  # {6, 7, 8, 9}\n",
    "_iter = (i+5 for i in range(10))         # (5, 6, ..., 14)\n",
    "_dict = {i: i*2 for i in range(10)}      # {0: 0, 1: 2, ..., 9: 18}"
   ]
  },
  {
   "cell_type": "code",
   "execution_count": 45,
   "id": "9e90a940-67ba-47d5-9e6e-4ab80e975e9b",
   "metadata": {
    "tags": []
   },
   "outputs": [
    {
     "data": {
      "text/plain": [
       "['zero', 1, 'zero', 3]"
      ]
     },
     "execution_count": 45,
     "metadata": {},
     "output_type": "execute_result"
    }
   ],
   "source": [
    "[a if a else 'zero' for a in [0, 1, 0, 3]] # ['zero', 1, 'zero', 3]"
   ]
  },
  {
   "cell_type": "code",
   "execution_count": 46,
   "id": "3a5c8cee-41a8-45d5-9bbf-e69d469dcfa6",
   "metadata": {},
   "outputs": [],
   "source": [
    "output = [i+j for i in range(3) for j in range(3)] # [0, 1, 2, 1, 2, 3, 2, 3, 4]\n",
    "\n",
    "# Is the same as:\n",
    "output = []\n",
    "for i in range(3):\n",
    "    for j in range(3):\n",
    "        output.append(i+j)"
   ]
  },
  {
   "cell_type": "markdown",
   "id": "ce841a63-e6a2-4019-a9bf-a7679a1861ec",
   "metadata": {},
   "source": [
    "### Map Filter Reduce"
   ]
  },
  {
   "cell_type": "code",
   "execution_count": 47,
   "id": "a23b1699-1c80-434e-bc24-a62133854d00",
   "metadata": {},
   "outputs": [
    {
     "data": {
      "text/plain": [
       "45"
      ]
     },
     "execution_count": 47,
     "metadata": {},
     "output_type": "execute_result"
    }
   ],
   "source": [
    "from functools import reduce\n",
    "list(map(lambda x: x + 1, range(10)))            # [1, 2, 3, 4, 5, 6, 7, 8, 9,10]\n",
    "list(filter(lambda x: x > 5, range(10)))         # (6, 7, 8, 9)\n",
    "reduce(lambda acc, x: acc + x, range(10))        # 45"
   ]
  },
  {
   "cell_type": "markdown",
   "id": "6fd0f5ba-46c2-4bf7-960b-2bca3a176b87",
   "metadata": {},
   "source": [
    "### Any All"
   ]
  },
  {
   "cell_type": "code",
   "execution_count": 48,
   "id": "ff6a53e7-0b8b-4c53-afaf-e396adce4d26",
   "metadata": {},
   "outputs": [
    {
     "data": {
      "text/plain": [
       "True"
      ]
     },
     "execution_count": 48,
     "metadata": {},
     "output_type": "execute_result"
    }
   ],
   "source": [
    "any([False, True, False])# True if at least one item in collection is truthy, False if empty.\n",
    "all([True,1,3,True])     # True if all items in collection are true"
   ]
  },
  {
   "cell_type": "markdown",
   "id": "ae12b828-c35f-4e87-a14d-ffa0d28b969d",
   "metadata": {},
   "source": [
    "### Generators"
   ]
  },
  {
   "cell_type": "code",
   "execution_count": 49,
   "id": "2bbb15eb-a496-4ed4-9222-e9d544f55de7",
   "metadata": {},
   "outputs": [],
   "source": [
    "def count(start, step):\n",
    "    while True:\n",
    "        yield start\n",
    "        start += step"
   ]
  },
  {
   "cell_type": "markdown",
   "id": "060ceaad-bbf1-427a-9bda-a5b27709b3c4",
   "metadata": {},
   "source": [
    "### Exceptions"
   ]
  },
  {
   "cell_type": "code",
   "execution_count": 50,
   "id": "a269fc44-e55f-4973-888c-262a6827027c",
   "metadata": {},
   "outputs": [
    {
     "name": "stdout",
     "output_type": "stream",
     "text": [
      "No division by zero!\n"
     ]
    }
   ],
   "source": [
    "try:\n",
    "    5/0\n",
    "except ZeroDivisionError:\n",
    "    print(\"No division by zero!\")"
   ]
  },
  {
   "cell_type": "code",
   "execution_count": 51,
   "id": "151b2bc9-5c11-4756-8e83-8dbbb91e7469",
   "metadata": {},
   "outputs": [
    {
     "name": "stdout",
     "output_type": "stream",
     "text": [
      "Carry on!\n"
     ]
    }
   ],
   "source": [
    "while True:\n",
    "    try:\n",
    "        x = int(input('Enter your age: '))\n",
    "    except ValueError:\n",
    "        print('Oops!  That was no valid number.  Try again...')\n",
    "    else: # code that depends on the try block running successfully should be placed in the else block.\n",
    "        print('Carry on!')\n",
    "        break"
   ]
  },
  {
   "cell_type": "markdown",
   "id": "de95a240-e013-4781-bb10-75a08f77516c",
   "metadata": {},
   "source": [
    "### File IO\n",
    "\n",
    "- 'r' - Read (default).\n",
    "- 'w' - Write (truncate).\n",
    "- 'x' - Write or fail if the file already exists.\n",
    "- 'a' - Append.\n",
    "- 'w+' - Read and write (truncate).\n",
    "- 'r+' - Read and write from the start.\n",
    "- 'a+' - Read and write from the end.\n",
    "- 't' - Text mode (default).\n",
    "- 'b' - Binary mode."
   ]
  },
  {
   "cell_type": "markdown",
   "id": "70e65091-1fae-4558-be3a-7dbc46154296",
   "metadata": {},
   "source": [
    "### Regex"
   ]
  },
  {
   "cell_type": "markdown",
   "id": "4bd407f4-ec1d-4bfd-9a16-918deabd1a90",
   "metadata": {},
   "source": [
    "```python\n",
    "import re\n",
    "<str>   = re.sub(<regex>, new, text, count=0)  # Substitutes all occurrences.\n",
    "<list>  = re.findall(<regex>, text)            # Returns all occurrences.\n",
    "<list>  = re.split(<regex>, text, maxsplit=0)  # Use brackets in regex to keep the matches.\n",
    "<Match> = re.search(<regex>, text)             # Searches for first occurrence of pattern.\n",
    "<Match> = re.match(<regex>, text)              # Searches only at the beginning of the text.\n",
    "```"
   ]
  },
  {
   "cell_type": "markdown",
   "id": "b77a15d5-f7a0-4738-994c-d35aab6465a8",
   "metadata": {},
   "source": [
    "## Multi-threading"
   ]
  },
  {
   "cell_type": "code",
   "execution_count": null,
   "id": "754f0ef3-0a77-4134-9c61-e604b638c002",
   "metadata": {},
   "outputs": [],
   "source": [
    "# -*- coding: utf-8 -*-\n",
    "import random\n",
    "\n",
    "\n",
    "def run_operation(\n",
    "    num_op, matrix_size=128, kernel_size=3, float_from=-1.0, float_to=1.0\n",
    "):\n",
    "    for _ in range(num_op):\n",
    "        op = Operation(matrix_size, kernel_size, float_from, float_to)\n",
    "        op()\n",
    "    pass\n",
    "\n",
    "\n",
    "class Operation(object):\n",
    "    def __init__(self, matrix_size=128, kernel_size=3, float_from=-1.0, float_to=1.0):\n",
    "        self.matrix_size = matrix_size\n",
    "        self.kernel_size = kernel_size\n",
    "        self.float_from = float_from\n",
    "        self.float_to = float_to\n",
    "\n",
    "        assert self.matrix_size >= 3\n",
    "        assert self.kernel_size >= 3\n",
    "        assert self.matrix_size >= self.kernel_size\n",
    "        pass\n",
    "\n",
    "    def _init_matrix(self, size):\n",
    "        matrix = []\n",
    "        for r in range(size):\n",
    "            one_row = []\n",
    "            for c in range(size):\n",
    "                one_row.append(random.uniform(self.float_from, self.float_to))\n",
    "            matrix.append(one_row)\n",
    "        return matrix\n",
    "\n",
    "    def __call__(self):\n",
    "        self.matrix = self._init_matrix(size=self.matrix_size)\n",
    "        self.kernel = self._init_matrix(size=self.kernel_size)\n",
    "\n",
    "        nloop = self.matrix_size - self.kernel_size + 1\n",
    "        self.result = self._init_matrix(size=nloop)\n",
    "        for my in range(nloop):\n",
    "            for mx in range(nloop):\n",
    "                for ky in range(self.kernel_size):\n",
    "                    for kx in range(self.kernel_size):\n",
    "                        kernel_val = self.kernel[ky][kx]\n",
    "                        matrix_val = self.matrix[my + ky][mx + kx]\n",
    "                        self.result[my][mx] = matrix_val * kernel_val\n",
    "        return True"
   ]
  },
  {
   "cell_type": "code",
   "execution_count": null,
   "id": "7c54df6a-e79a-4b46-9c0c-3b7b01e13787",
   "metadata": {},
   "outputs": [
    {
     "name": "stdout",
     "output_type": "stream",
     "text": [
      "Time for running 4 threads (10 ops) is 2.42 seconds\n"
     ]
    }
   ],
   "source": [
    "# Threading\n",
    "import time\n",
    "import threading\n",
    "\n",
    "\n",
    "class MultiThread(object):\n",
    "    def __init__(self, num_thread=4, num_op=100):\n",
    "        self.num_thread = num_thread\n",
    "        self.num_op = num_op\n",
    "        assert self.num_thread > 0\n",
    "        assert self.num_op > 0\n",
    "        pass\n",
    "\n",
    "    def __call__(self):\n",
    "        thread_list = []\n",
    "        for _ in range(self.num_thread):\n",
    "            t = threading.Thread(target=run_operation, args=(self.num_op,))\n",
    "            t.start()\n",
    "            thread_list.append(t)\n",
    "\n",
    "        for _ in range(len(thread_list)):\n",
    "            t = thread_list[_]\n",
    "            t.join()\n",
    "\n",
    "        pass\n",
    "    \n",
    "def main_threading(num_cpus=4, num_ops=10):\n",
    "    tstart = time.time()\n",
    "    multi = MultiThread(num_thread=num_cpus, num_op=num_ops)\n",
    "    multi()\n",
    "    tend = time.time()\n",
    "    print(\"Time for running %d threads (%d ops) is %.2f seconds\" % (num_cpus, num_ops, tend-tstart))\n",
    "    \n",
    "main_threading()"
   ]
  },
  {
   "cell_type": "code",
   "execution_count": null,
   "id": "cd3df224-2350-41ef-b854-fb5eb017aa6b",
   "metadata": {},
   "outputs": [
    {
     "data": {
      "text/plain": [
       "6"
      ]
     },
     "execution_count": 7,
     "metadata": {},
     "output_type": "execute_result"
    }
   ],
   "source": [
    "threading.active_count()"
   ]
  },
  {
   "cell_type": "code",
   "execution_count": null,
   "id": "093f12bb-f85d-4554-a696-3bded84fe11e",
   "metadata": {},
   "outputs": [
    {
     "name": "stdout",
     "output_type": "stream",
     "text": [
      "Time for running 4 processes (10 ops) is 0.07 seconds\n"
     ]
    }
   ],
   "source": [
    "# processing\n",
    "import time\n",
    "from multiprocessing import Process\n",
    "\n",
    "\n",
    "class MultiProcess(object):\n",
    "    def __init__(self, num_process=4, num_op=100):\n",
    "        self.num_process = num_process\n",
    "        self.num_op = num_op\n",
    "        assert self.num_process > 0\n",
    "        assert self.num_op > 0\n",
    "        pass\n",
    "\n",
    "    def __call__(self):\n",
    "        process_list = []\n",
    "        for _ in range(self.num_process):\n",
    "            p = Process(target=run_operation, args=(self.num_op,))\n",
    "            p.start()\n",
    "            process_list.append(p)\n",
    "\n",
    "        for _ in range(len(process_list)):\n",
    "            p = process_list[_]\n",
    "            p.join()\n",
    "\n",
    "        pass\n",
    "    \n",
    "def main_processing(num_cpus=4, num_ops=10):\n",
    "    tstart = time.time()\n",
    "    multi = MultiProcess(num_process=num_cpus, num_op=num_ops)\n",
    "    multi()\n",
    "    tend = time.time()\n",
    "    print(\"Time for running %d processes (%d ops) is %.2f seconds\" % (num_cpus, num_ops, tend-tstart))\n",
    "    \n",
    "main_processing()"
   ]
  },
  {
   "cell_type": "markdown",
   "id": "d8f50ce3-ffa9-47c7-ac1a-75e1bf076320",
   "metadata": {},
   "source": [
    "https://codelearn.io/sharing/lap-trinh-da-tien-trinh\n",
    "\n",
    "- Nên chạy threading khi các luồng cần dùng chung tham số, còn processing khi các tiến trình chạy độc lập với nhau"
   ]
  },
  {
   "cell_type": "code",
   "execution_count": null,
   "id": "bcf5f285-c663-4900-b5b1-3b419ec79f5a",
   "metadata": {},
   "outputs": [
    {
     "name": "stdout",
     "output_type": "stream",
     "text": [
      "Số lượng cpu :  16\n"
     ]
    }
   ],
   "source": [
    "import multiprocessing\n",
    "print(\"Số lượng cpu : \", multiprocessing.cpu_count())"
   ]
  },
  {
   "cell_type": "markdown",
   "id": "2b9daf62-11af-4daf-8898-2f4409e9a280",
   "metadata": {},
   "source": [
    "### MultiThreading"
   ]
  },
  {
   "cell_type": "markdown",
   "id": "58c025d9-7928-4610-9b1e-07b556d09c46",
   "metadata": {},
   "source": [
    "#### Kế thừa class Thread\n",
    "- các threads là bất đồng bộ (asynchronous). Hai threads chạy độc lập với nhau mà không theo thứ tự."
   ]
  },
  {
   "cell_type": "code",
   "execution_count": null,
   "id": "71e3c728-3ed9-475c-be2b-44c3314e7ddc",
   "metadata": {},
   "outputs": [
    {
     "name": "stdout",
     "output_type": "stream",
     "text": [
      "Start thread khanh thread!\n",
      "Start thread ai thread!\n",
      "khanh thread : 5\n",
      "ai thread : 5\n",
      "khanh thread : 4\n",
      "ai thread : 4\n",
      "khanh thread : 3\n",
      "ai thread : 3\n",
      "khanh thread : 2\n",
      "ai thread : 2\n",
      "khanh thread : 1\n",
      "End thread khanh thread\n",
      "ai thread : 1\n",
      "End thread ai thread\n"
     ]
    }
   ],
   "source": [
    "import threading\n",
    "import time\n",
    "\n",
    "class FirstThread(threading.Thread):\n",
    "    def __init__(self, thread_id, thread_name, counter):\n",
    "        threading.Thread.__init__(self)\n",
    "        self.thread_id = thread_id\n",
    "        self.thread_name = thread_name\n",
    "        self.counter = counter\n",
    "\n",
    "    # sửa lại hàm run để chạy operator\n",
    "    def run(self):\n",
    "        print(\"Start thread {}!\".format(self.thread_name))\n",
    "        while (self.counter):\n",
    "            time.sleep(0.01)\n",
    "            print(\"{} : {}\".format(self.thread_name, self.counter))\n",
    "            self.counter -= 1\n",
    "        print(\"End thread {}\".format(self.thread_name))\n",
    "\n",
    "thread1 = FirstThread(1, \"khanh thread\", 5)\n",
    "thread2 = FirstThread(2, \"ai thread\", 5)\n",
    "\n",
    "thread1.start()\n",
    "thread2.start()"
   ]
  },
  {
   "cell_type": "markdown",
   "id": "cb754009-f56e-40da-b9d2-e24184a6429c",
   "metadata": {},
   "source": [
    "#### Cơ chế Thread Lock\n",
    "- Chúng ta có thể đồng bộ (synchronous) các thread. Tức là cho phép một thread chạy xong thì thread khác mới được phép chạy bằng cách sử dụng `Thread Lock` trong python.\n",
    "- Trong hàm `run()` của thread thì chỉ cần thêm hàm `thread.acquire()` và `thread.release()` vào đầu và cuối hàm thì luồng sẽ được locking cho đến khi thread chạy xong thì thread khác mới được xử lý tiếp"
   ]
  },
  {
   "cell_type": "code",
   "execution_count": null,
   "id": "e0aae5d7-cf97-4b79-8a73-42951b0d8be3",
   "metadata": {},
   "outputs": [
    {
     "name": "stdout",
     "output_type": "stream",
     "text": [
      "Start thread khanh thread!\n",
      "khanh thread : 5\n",
      "khanh thread : 4\n",
      "khanh thread : 3\n",
      "khanh thread : 2\n",
      "khanh thread : 1\n",
      "End thread khanh thread\n",
      "Start thread ai thread!\n",
      "ai thread : 5\n",
      "ai thread : 4\n",
      "ai thread : 3\n",
      "ai thread : 2\n",
      "ai thread : 1\n",
      "End thread ai thread\n"
     ]
    }
   ],
   "source": [
    "import threading\n",
    "import time\n",
    "\n",
    "class FirstThread(threading.Thread):\n",
    "    def __init__(self, thread_id, thread_name, counter):\n",
    "        threading.Thread.__init__(self)\n",
    "        self.thread_id = thread_id\n",
    "        self.thread_name = thread_name\n",
    "        self.counter = counter\n",
    "\n",
    "    # sửa lại hàm run để chạy operator\n",
    "    def run(self):\n",
    "        threadLock.acquire() # mở luồng lock thread - ko còn chạy multithreading nữa\n",
    "        print(\"Start thread {}!\".format(self.thread_name))\n",
    "        while (self.counter):\n",
    "            time.sleep(0.01)\n",
    "            print(\"{} : {}\".format(self.thread_name, self.counter))\n",
    "            self.counter -= 1\n",
    "        print(\"End thread {}\".format(self.thread_name))\n",
    "        threadLock.release() # đóng lại luồng lock thread\n",
    "\n",
    "threadLock = threading.Lock()\n",
    "thread1 = FirstThread(1, \"khanh thread\", 5)\n",
    "thread2 = FirstThread(2, \"ai thread\", 5)\n",
    "\n",
    "thread1.start()\n",
    "thread2.start()\n",
    "\n",
    "threads = [thread1, thread2]\n",
    "\n",
    "for t in threads:\n",
    "    t.join()"
   ]
  },
  {
   "cell_type": "markdown",
   "id": "868aad36-1ea7-47c4-8ca0-591421e82025",
   "metadata": {},
   "source": [
    "### Processing"
   ]
  },
  {
   "cell_type": "markdown",
   "id": "b491bdc5-14c3-4cf9-af55-89bf5c44853b",
   "metadata": {},
   "source": [
    "#### Khởi tạo"
   ]
  },
  {
   "cell_type": "code",
   "execution_count": null,
   "id": "c2f17686-4512-4319-ac27-eec64a14a07b",
   "metadata": {},
   "outputs": [],
   "source": [
    "from multiprocessing import Process\n",
    "import time\n",
    "\n",
    "def _counter(counter, process_name):\n",
    "    while (counter):\n",
    "        time.sleep(0.01)\n",
    "        print(\"{}: {}\".format(process_name, counter))\n",
    "        counter -= 1\n",
    "        \n",
    "def operator():\n",
    "    counter = 5\n",
    "\n",
    "    exec1 = Process(target=_counter, args=(counter, \"khanh thread\")) # pass counter and thread_name into method _counter\n",
    "    exec2 = Process(target=_counter, args=(counter, \"ai thread\"))\n",
    "\n",
    "    exec1.start()\n",
    "    exec2.start()\n",
    "    execs =  [exec1,exec2]\n",
    "    for exec in execs:\n",
    "        # lệnh join() để đảm bảo main process hoàn thành sau cùng sau khi các child process khác kết thúc.\n",
    "        exec.join()\n",
    "        \n",
    "operator()"
   ]
  },
  {
   "cell_type": "markdown",
   "id": "bb408c52-efdc-448c-bf96-1efbf0a856bc",
   "metadata": {},
   "source": [
    "#### process lock"
   ]
  },
  {
   "cell_type": "code",
   "execution_count": null,
   "id": "b4c9ed38-5995-4136-88dc-4fbfbdc98b75",
   "metadata": {},
   "outputs": [],
   "source": [
    "# Sử dụng lock để chạy đồng bộ, tức là process chạy không song song mà chạy lần lượt\n",
    "\n",
    "from multiprocessing import Process, Lock\n",
    "import time\n",
    "\n",
    "def _counter_lock(counter, process_name, lock):\n",
    "    lock.acquire()\n",
    "    while (counter):\n",
    "        time.sleep(0.01)\n",
    "        print(\"{}: {}\".format(process_name, counter))\n",
    "        counter -= 1\n",
    "    lock.release()\n",
    "\n",
    "counter = 5\n",
    "\n",
    "lock = Lock()\n",
    "exec1 = Process(target=_counter_lock, args=(counter, \"khanh thread\", lock)) # pass counter and thread_name into method _counter\n",
    "exec2 = Process(target=_counter_lock, args=(counter, \"ai thread\", lock))\n",
    "execs = [exec1, exec2]\n",
    "\n",
    "for exec in execs:\n",
    "    exec.start()\n",
    "    \n",
    "execs =  [exec1,exec2]\n",
    "for exec in execs:\n",
    "    # lệnh join() để đảm bảo main process hoàn thành sau cùng sau khi các child process khác kết thúc.\n",
    "    exec.join()"
   ]
  },
  {
   "cell_type": "markdown",
   "id": "9a87d2d6-d14f-4114-bf54-4ead52ef0752",
   "metadata": {},
   "source": [
    "#### Share memory\n",
    "- Cung cấp bộ nhớ chung như value , array giữa 2 process"
   ]
  },
  {
   "cell_type": "code",
   "execution_count": null,
   "id": "1b57f16b-efdd-4167-b2bb-9ab4833d895d",
   "metadata": {},
   "outputs": [],
   "source": [
    "# NẾU CHẠY THẾ NÀY THÌ ARRAY ko được dùng chung\n",
    "from multiprocessing import Process, Lock\n",
    "import time\n",
    "\n",
    "# hàm đổi dấu phần tử\n",
    "def _counter_arr(arrs, process_name,lock):\n",
    "    lock.acquire()\n",
    "    for i, el in enumerate(arrs):\n",
    "        time.sleep(0.01)\n",
    "        arrs[i] = -arrs[i] \n",
    "        print(\"{}: {}\".format(process_name, arrs[i]))\n",
    "    lock.release()\n",
    "\n",
    "if __name__ ==\"__main__\":\n",
    "\tarrs = [1, 2, 3, 4]\n",
    "\tlock = Lock()\n",
    "\texec1 = Process(target=_counter_arr, args=(arrs, \"khanh process\",lock)) # pass counter and thread_name into method _counter\n",
    "\texec2 = Process(target=_counter_arr, args=(arrs, \"ai process\",lock))\n",
    "\texecs = [exec1, exec2]\n",
    "\n",
    "\texec1.start()\n",
    "\texec2.start()\n",
    "\n",
    "\tfor exec in execs:\n",
    "\t\texec.join()"
   ]
  },
  {
   "cell_type": "markdown",
   "id": "f53efaff-ed42-4db0-80ec-12ef9d3e6cd9",
   "metadata": {},
   "source": [
    "<img src=\"_images/python/3149f022-e9d6-4523-a263-1df03e2d0dff.png\">"
   ]
  },
  {
   "cell_type": "code",
   "execution_count": null,
   "id": "b5766697-802e-444f-b1ad-c7751fc2d2b2",
   "metadata": {},
   "outputs": [],
   "source": [
    "from multiprocessing import Process, Value, Array, Lock\n",
    "import time\n",
    "\n",
    "def _counter_arr(arrs, process_name):\n",
    "    lock.acquire()\n",
    "    for i, el in enumerate(arrs):\n",
    "        time.sleep(0.01)\n",
    "        arrs[i] = -arrs[i]\n",
    "        print(\"{}: {}\".format(process_name, arrs[i]))\n",
    "    lock.release()\n",
    "    \n",
    "if __name__ ==\"__main__\":\n",
    "    arrs = Array('i', range(1, 5, 1))\n",
    "    lock = Lock()\n",
    "    exec1 = Process(target=_counter_arr, args=(arrs, \"khanh process\")) # pass counter and thread_name into method _counter\n",
    "    exec2 = Process(target=_counter_arr, args=(arrs, \"ai process\"))\n",
    "    execs = [exec1, exec2]\n",
    "\n",
    "    exec1.start()\n",
    "    exec2.start()\n",
    "\n",
    "    for exec in execs:\n",
    "        exec.join()"
   ]
  },
  {
   "cell_type": "markdown",
   "id": "087f3ecc-1f9f-4c18-bf29-15863806019c",
   "metadata": {},
   "source": [
    "<img src=\"_images/python/ea184e05-69ec-4a3e-b5ec-112742247b73.png\">\n",
    "\n",
    "- Giả định bạn đang có một pipeline biến đổi dữ liệu gồm nhiều step khác nhau, mỗi một process sẽ phụ trách một step trong pipeline. Khi đó dữ liệu cần được shared chung giữa các process."
   ]
  },
  {
   "cell_type": "markdown",
   "id": "3b9779cf-9edc-4234-8036-e2c2c6c46f41",
   "metadata": {},
   "source": [
    "#### Share object\n",
    "- Queue là một định dạng stack an toàn khi làm việc với multi thread và process. Chúng ta có thể tạo ra một queue và cho phép các thread, process truy cập dữ liệu mà không bị hiện tượng concurrency vì dữ liệu được truy suất và sử dụng một lần bởi một thread hoặc process"
   ]
  },
  {
   "cell_type": "code",
   "execution_count": null,
   "id": "c499bb0d-e512-4181-8e55-4cb1d7fb2c8f",
   "metadata": {},
   "outputs": [],
   "source": [
    "from multiprocessing import Process, Queue\n",
    "import time\n",
    "\n",
    "def _counter_queue(queue, process_name, max_count):\n",
    "    # lock.acquire()\n",
    "    while max_count:\n",
    "        time.sleep(0.01)\n",
    "        value = queue.get()\n",
    "        print(\"{}: {}\".format(process_name, value))\n",
    "        max_count -= 1\n",
    "    # lock.release()\n",
    "if __name__ ==\"__main__\":\n",
    "# dữ liệu q được xử dụng lần lượt lên ko data nào được sử dụng chung giữa 2 processes nên tránh được concurrency\n",
    "    starttime = time.datetime()\n",
    "    q = Queue()\n",
    "    for i in range(10):\n",
    "        q.put(i)\n",
    "\n",
    "    max_count = 5\n",
    "    # lock = Lock()\n",
    "    exec1 = Process(target=_counter_queue, args=(q, \"khanh process\", max_count)) # pass counter and thread_name into method _counter\n",
    "    exec2 = Process(target=_counter_queue, args=(q, \"ai process\", max_count))\n",
    "    execs = [exec1, exec2]\n",
    "\n",
    "    exec1.start()\n",
    "    exec2.start()\n",
    "\n",
    "    for exec in execs:\n",
    "        exec.join()\n",
    "    print(time.datetime()-starttime)"
   ]
  },
  {
   "cell_type": "code",
   "execution_count": null,
   "id": "f245dfe5-97b0-4904-9dfc-5b734d89eec7",
   "metadata": {},
   "outputs": [],
   "source": [
    "from multiprocessing import Process, Queue\n",
    "import time\n",
    "from datetime import datetime\n",
    "\n",
    "def _counter_queue(queue, process_name, max_count):\n",
    "    # lock.acquire()\n",
    "    while max_count:\n",
    "        time.sleep(0.01)\n",
    "        value = queue.get()\n",
    "        # print(\"{}: {}\".format(process_name, value))\n",
    "        max_count -= 1\n",
    "    # lock.release()\n",
    "if __name__ ==\"__main__\":\n",
    "# dữ liệu q được xử dụng lần lượt lên ko data nào được sử dụng chung giữa 2 processes nên tránh được concurrency\n",
    "\tstarttime = datetime.now()\n",
    "\tq = Queue()\n",
    "\tfor i in range(1000):\n",
    "\t\tq.put(i)\n",
    "\n",
    "\tmax_count = 200\n",
    "    # lock = Lock()\n",
    "\texecs = []\n",
    "\tfor i in range(5):\n",
    "\t\texe = Process(target=_counter_queue, args=(q, f\"{i} process\", max_count)) # pass counter and thread_name into method _counter\n",
    "\t\texecs.append(exe)\n",
    "\t\t\n",
    "\tfor exe in execs:\n",
    "\t\texe.start()\n",
    "\t\t\n",
    "\tfor exe in execs:\n",
    "\t\texe.join()\n",
    "\t\t\n",
    "\t# for value in range(1000):\n",
    "\t# \ttime.sleep(0.01)\n",
    "\t# \t# value = queue.get()\n",
    "\t# print(\"{}: {}\".format('process_name', value))\n",
    "\n",
    "\tprint(datetime.now()-starttime)"
   ]
  },
  {
   "cell_type": "markdown",
   "id": "6b0c3739-33bc-4f08-8884-d014b3fbea4d",
   "metadata": {},
   "source": [
    "### Pool trong multiprocessing\n",
    "\n",
    "Trong python chúng ta có thể sử dụng pool để tận dụng được các tính toán song song trên nhiều process một lúc. Cơ chế của pool đã loại bỏ hạn chế của GIL trong python, cho phép nhiều luồng hoạt động đồng thời và giúp đẩy nhanh quá trình tính toán.\n",
    "\n",
    "Trong Pool chúng ta có thể khai báo nhiều workers cùng thực hiện chương trình. Các chương trình có thể thực hiện một cách bất đồng bộ thông qua hàm `apply_async()`. Tức là cho phép thực hiện song song nhiều method trên các workers. Đồng thời `apply_async()` cũng cho phép đưa vào các hàm `callback` để xử lý giữa liệu sau cùng."
   ]
  },
  {
   "cell_type": "code",
   "execution_count": null,
   "id": "c7ce673a-6552-4c1d-bfee-7c7563c49363",
   "metadata": {},
   "outputs": [],
   "source": [
    "# sử dụng 5 workers để tính toán bất đồng bộ bình phương của các số trong phạm vi 20. Kết quả sau khi tính sẽ được lưu vào một list\n",
    "import multiprocessing as mp\n",
    "import time\n",
    "\n",
    "def _square(x):\n",
    "    return x*x\n",
    "\n",
    "def log_result(result):\n",
    "  # Hàm được gọi bất kỳ khi nào _square(i) trả ra kết quả.\n",
    "  # result_list được thực hiện trên main process, khong phải pool workers.\n",
    "    result_list.append(result)\n",
    "\n",
    "def apply_async_with_callback():\n",
    "    pool = mp.Pool(processes=5)\n",
    "    for i in range(20):\n",
    "        pool.apply_async(_square, args = (i, ), callback = log_result)\n",
    "    pool.close()\n",
    "    pool.join()\n",
    "    print(result_list)\n",
    "\n",
    "if __name__ == '__main__':\n",
    "    result_list = []\n",
    "    apply_async_with_callback()"
   ]
  },
  {
   "cell_type": "markdown",
   "id": "b1012d21-9ee4-495e-8762-a83ec09457b3",
   "metadata": {},
   "source": [
    "### Process Pool với concurrent.futures"
   ]
  },
  {
   "cell_type": "code",
   "execution_count": null,
   "id": "fa504d0d-0fbb-4cb5-894e-8f083ef9f5fc",
   "metadata": {},
   "outputs": [],
   "source": [
    "from concurrent.futures import ProcessPoolExecutor\n",
    "from time import sleep\n",
    "import timeit\n",
    "\n",
    "def _counter(counter, task_name):\n",
    "    print(\"Start process {}!\".format(task_name))\n",
    "    while (counter):\n",
    "        print(\"{} : {}\".format(task_name, counter))\n",
    "        counter -= 1\n",
    "    print(\"End process {}!\".format(task_name))\n",
    "    return \"Completed {}!\".format(task_name)\n",
    "\n",
    "def _submit_process():\n",
    "    executor = ProcessPoolExecutor(max_workers=5)\n",
    "    future = executor.submit(_counter, 10, \"task1\") # Tham số truyền vào là tên hàm và các đối số của hàm\n",
    "    print('State of future: ', future.done())  # để kiểm tra trạng thái của task, task chưa hoàn thành nên  future.done() == False\n",
    "    print('futre result: ', future.result()) # thường được dùng để kiểm tra kết quả sau khi task cuối cùng trong process pool đã thực thi xong\n",
    "    print('State of future: ', future.done()) # task đã hoàn thành nên  future.done() == True\n",
    "\n",
    "if __name__ ==\"__main__\":\n",
    "    _submit_process()"
   ]
  },
  {
   "cell_type": "code",
   "execution_count": null,
   "id": "d63daa48-276d-4acd-a779-7d13e11f18f9",
   "metadata": {},
   "outputs": [],
   "source": [
    "# sử dụng hàm map để truyền theo từng phần tử của list\n",
    "\n",
    "from concurrent.futures import ProcessPoolExecutor\n",
    "from concurrent.futures import as_completed\n",
    "x1s = [5, 10, 20, 35]\n",
    "x2s = [15, 20, 30, 55]\n",
    "y1s = [5, 10, 10, 15]\n",
    "y2s = [15, 20, 20, 35]\n",
    "\n",
    "def _bbox(x1, x2, y1, y2):\n",
    "    w = x2-x1\n",
    "    h = y2-y1\n",
    "    area = w*h\n",
    "    return area\n",
    "\n",
    "if __name__ ==\"__main__\":\n",
    "    \n",
    "    with ProcessPoolExecutor(max_workers = 5) as executor:\n",
    "        results = executor.map(_bbox, x1s, x2s, y1s, y2s)\n",
    "\n",
    "    for result in results:\n",
    "        print(result)"
   ]
  },
  {
   "cell_type": "markdown",
   "id": "1aa1850f-47fa-4915-8d08-286891798269",
   "metadata": {},
   "source": [
    "### Thread Pool"
   ]
  },
  {
   "cell_type": "code",
   "execution_count": null,
   "id": "99a0e385-93a0-4137-939c-9e8738e8f0df",
   "metadata": {},
   "outputs": [],
   "source": [
    "from concurrent.futures import ThreadPoolExecutor\n",
    "from time import sleep\n",
    "\n",
    "def _counter(counter, task_name):\n",
    "    print(\"Start process {}!\".format(task_name))\n",
    "    while (counter):\n",
    "        print(\"{} : {}\".format(task_name, counter))\n",
    "        counter -= 1\n",
    "    print(\"End process {}!\".format(task_name))\n",
    "    return \"Completed {}!\".format(task_name)\n",
    "\n",
    "def _submit_thread():\n",
    "    executor = ThreadPoolExecutor(max_workers=5)\n",
    "    future = executor.submit(_counter, 10, \"task1\")\n",
    "    print('State of future: ', future.done())\n",
    "    print('futre result: ', future.result())\n",
    "    print('State of future: ', future.done())\n",
    "    \n",
    "if __name__ ==\"__main__\":\n",
    "    _submit_thread()"
   ]
  },
  {
   "cell_type": "markdown",
   "id": "c1a8b48d-a62a-44e5-a906-87f9d2f1c39f",
   "metadata": {},
   "source": [
    "### so sánh process pool và thread pool \n",
    "Chúng ta đã biết rằng khi sử dụng threads thì sẽ có lợi về I/O vì các threads có thể chia sẻ data qua lại lẫn nhau. Còn giữa các processes thì data được sử dụng hoàn toàn độc lập nên không có lợi về I/O. Tuy nhiên khi sử dụng process thì chúng ta sẽ được allocate về CPU, Memomory,… nên lời khuyên là nếu task của bạn gặp phải giới hạn về I/O bound thì nên sử dụng thread pool và giới hạn về CPUs bound thì nên sử dụng process pool.\n",
    "\n",
    "- `CPU Bound` là những chương trình bị giới hạn chủ yếu bởi tốc độ của CPU: việc tính toán small set of number,...--> `Nên dùng CPU pool`\n",
    "- `I/O Bound` means the rate at which a process progresses is limited by the speed of the I/O subsystem. A task that processes data from disk, for example, counting the number of lines in a file is likely to be I/O bound. --> `Nên dùng thread pool`\n",
    "- `Memory bound` means the rate at which a process progresses is limited by the amount memory available and the speed of that memory access. A task that processes large amounts of in memory data, for example : nhân matrix lớn\n",
    "- `Cache bound` means the rate at which a process progress is limited by the amount and speed of the cache available. A task that simply processes more data than fits in the cache will be cache bound."
   ]
  },
  {
   "cell_type": "markdown",
   "id": "ae4d6993-5211-44bc-840c-8d0bd141bff1",
   "metadata": {},
   "source": [
    "- Nên dùng `process pool` khi tính toán\n",
    "- Nên dùng `thread pool` khi đọc ghi"
   ]
  },
  {
   "cell_type": "markdown",
   "id": "8d5c4884-6c2f-41b9-8030-6aed811a7d9e",
   "metadata": {},
   "source": [
    "### Queue\n",
    "- Khi chạy một `process` trên `multiple-threads`, queue thường được sử dụng để làm nơi lưu trữ dữ liệu chung giữa các `threads` với nhau.\n",
    "- `Queue` tuong tự như `list` nhưng có tốc độ truy xuất nhanh hơn, phù hợp với dữ liệu có lượng phần tử lớn\n",
    "-`FIFO`: phần tử `put` đầu tiên sẽ `get` đầu tiên (First in first out) \n",
    "-`LIFO`: phần tử `put` cuối cùng sẽ `get` đầu tiên (last in first out) "
   ]
  },
  {
   "cell_type": "code",
   "execution_count": null,
   "id": "8609f8c8-b05f-42ba-a569-1d0f0f0d19e5",
   "metadata": {},
   "outputs": [
    {
     "name": "stdout",
     "output_type": "stream",
     "text": [
      "size queue 9\n",
      "fifo_q_sizelist queue is full:  True\n",
      "queue is empty:  False\n",
      "The 1st item in queue:  14\n",
      "Size or queue after get 1 item:  8\n",
      "the next item is 20\n",
      "the next item is 34\n",
      "the next item is 24\n",
      "the next item is 15\n",
      "the next item is 16\n",
      "the next item is 27\n",
      "the next item is 38\n",
      "the next item is 19\n"
     ]
    }
   ],
   "source": [
    "list = [14,20,34,24,15,16,27,38,19]\n",
    "\n",
    "import queue\n",
    "# create fifo queue\n",
    "fifo_q = queue.Queue()\n",
    "fifo_q_sizelist = queue.Queue(len(list)) # set max size = len(list)\n",
    "\n",
    "\n",
    "# put element to queue:\n",
    "for item in list:\n",
    "    fifo_q.put(item)\n",
    "    fifo_q_sizelist.put(item)\n",
    "    \n",
    "# return size queue\n",
    "print('size queue', fifo_q.qsize())\n",
    "\n",
    "# check queue is full or đã get phần tử\n",
    "print('fifo_q_sizelist queue is full: ', fifo_q_sizelist.full())\n",
    "\n",
    "# check queue is empty or not\n",
    "print('queue is empty: ', fifo_q.empty())\n",
    "\n",
    "# get phần tử trong queue đồng thời xóa phần tử đó\n",
    "print('The 1st item in queue: ',fifo_q.get())\n",
    "print('Size or queue after get 1 item: ',fifo_q.qsize())\n",
    "\n",
    "# loop for queue:\n",
    "while not fifo_q.empty():\n",
    "    print('the next item is',fifo_q.get())"
   ]
  },
  {
   "cell_type": "code",
   "execution_count": null,
   "id": "060d3efb-036e-4a6f-b23f-b3c4055dfc8c",
   "metadata": {},
   "outputs": [],
   "source": [
    "lifo_q = queue.LifoQueue()"
   ]
  },
  {
   "cell_type": "code",
   "execution_count": null,
   "id": "bcfcb783-aec6-472a-9b9a-d46d46eef232",
   "metadata": {},
   "outputs": [],
   "source": []
  },
  {
   "cell_type": "code",
   "execution_count": null,
   "id": "dd8e0430-8eab-451c-be56-910f793d76ce",
   "metadata": {},
   "outputs": [
    {
     "name": "stdout",
     "output_type": "stream",
     "text": [
      "Start ThreadPoolExecutor!\n",
      "Submit task!\n",
      "Task one running\n",
      "Task one running\n",
      "Task one running\n",
      "Task one running\n",
      "Task one total: 32\n",
      "32\n",
      "Task two nothing to do\n",
      "None\n"
     ]
    }
   ],
   "source": [
    "from concurrent.futures import ThreadPoolExecutor\n",
    "import queue\n",
    "\n",
    "\n",
    "def _sum_queue(name, work_queue):\n",
    "    sum = 0\n",
    "    while not work_queue.empty():\n",
    "        print(f\"Task {name} running\")\n",
    "        count = work_queue.get()\n",
    "        sum += count\n",
    "    print(f\"Task {name} total: {sum}\")\n",
    "    return sum\n",
    "\n",
    "def task(name, work_queue):\n",
    "    if work_queue.empty():\n",
    "        print(f\"Task {name} nothing to do\")\n",
    "    else:\n",
    "        print(\"Start ThreadPoolExecutor!\")\n",
    "        with ThreadPoolExecutor(max_workers = 5) as executor:\n",
    "            print(\"Submit task!\")  \n",
    "            future = executor.submit(_sum_queue, name, work_queue)\n",
    "            sum = future.result()\n",
    "        return sum\n",
    "    \n",
    "# Create the queue of work\n",
    "work_queue = queue.Queue()\n",
    "\n",
    "# Put some work in the queue\n",
    "for work in [15, 10, 5, 2]:\n",
    "    work_queue.put(work)\n",
    "\n",
    "# Create some synchronous tasks\n",
    "tasks = [(\"one\", work_queue), (\"two\", work_queue)]\n",
    "\n",
    "# Run the tasks\n",
    "for n, q in tasks:\n",
    "    print(task(n, q))"
   ]
  },
  {
   "cell_type": "markdown",
   "id": "bd83ab0c-0747-4a00-9b02-4bc2f03f0f73",
   "metadata": {},
   "source": [
    "Trong ví dụ trên giải sử chúng ta có hai threads hoạt động một cách synchronous là one và two. Hai threads này sử dụng chung một nguồn dữ liệu là work_queue. Khi thread one chạy xong thì toàn bộ các phần tử của queue đã được trích xuất xong nên ở thread two chúng ta không có gì để chạy tiếp."
   ]
  },
  {
   "cell_type": "code",
   "execution_count": null,
   "id": "fae1a5c6-c0aa-4162-ad95-c448912d9f0e",
   "metadata": {},
   "outputs": [
    {
     "name": "stdout",
     "output_type": "stream",
     "text": [
      "Running with multi-threads:\n",
      "https://en.wikipedia.org/wiki/24 - exists\n",
      "Threaded time: 3.638731002807617\n",
      "Running without threads:\n",
      "https://en.wikipedia.org/wiki/24 - exists\n",
      "Without threads time: 6.373312711715698\n"
     ]
    }
   ],
   "source": [
    "import time\n",
    "import requests\n",
    "import concurrent.futures\n",
    "\n",
    "def get_wiki_page_existence(wiki_page_url, timeout=10):\n",
    "    response = requests.get(url=wiki_page_url, timeout=timeout)\n",
    "\n",
    "    page_status = \"unknown\"\n",
    "    if response.status_code == 200:\n",
    "        page_status = \"exists\"\n",
    "    elif response.status_code == 404:\n",
    "        page_status = \"does not exist\"\n",
    "\n",
    "    return wiki_page_url + \" - \" + page_status\n",
    "\n",
    "def func_with_multithread():\n",
    "\tprint(\"Running with multi-threads:\")\n",
    "\tthreaded_start = time.time()\n",
    "\twiki_page_urls = [\"https://en.wikipedia.org/wiki/\" + str(i) for i in range(25)]\n",
    "\twith concurrent.futures.ThreadPoolExecutor(2) as executor:\n",
    "\t\tfutures = []\n",
    "\t\tfor url in wiki_page_urls:\n",
    "\t\t\tfutures.append(\n",
    "\t\t\t\texecutor.submit(\n",
    "\t\t\t\t\tget_wiki_page_existence, wiki_page_url=url, timeout=10\n",
    "\t\t\t\t)\n",
    "\t\t\t)\n",
    "\t\tfor future in concurrent.futures.as_completed(futures):\n",
    "\t\t\ttry:\n",
    "\t\t\t\tprint(future.result(),end= \"\\r\")\n",
    "\t\t\texcept requests.ConnectTimeout:\n",
    "\t\t\t\tprint(\"ConnectTimeout.\")\n",
    "\tprint(\"\\nThreaded time:\", time.time() - threaded_start)\n",
    "\t\t\t\t\n",
    "def func_without_multithread():\n",
    "\twiki_page_urls = [\"https://en.wikipedia.org/wiki/\" + str(i) for i in range(25)]\n",
    "\tprint(\"Running without threads:\")\n",
    "\twithout_threads_start = time.time()\n",
    "\tfor url in wiki_page_urls:\n",
    "\t\tprint(get_wiki_page_existence(wiki_page_url=url),end= \"\\r\")\n",
    "\tprint(\"\\nWithout threads time:\", time.time() - without_threads_start)\n",
    "\n",
    "if __name__ == \"__main__\":\n",
    "\tfunc_with_multithread()\n",
    "\tfunc_without_multithread()"
   ]
  },
  {
   "cell_type": "code",
   "execution_count": null,
   "id": "c398377c-a15b-4a2e-8ba9-965c3e696ee1",
   "metadata": {},
   "outputs": [],
   "source": []
  },
  {
   "cell_type": "code",
   "execution_count": null,
   "id": "6efaec31-f834-4df7-9969-88236b1b49a2",
   "metadata": {},
   "outputs": [],
   "source": [
    "import os \n",
    "import time\n",
    "import pandas_read_xml as pdx\n",
    "import pandas as pd\n",
    "import numpy as np\n",
    "from tqdm import tqdm\n",
    "from json import loads, dumps\n",
    "import concurrent.futures as cf\n",
    "import queue\n",
    "from multiprocessing import Process\n",
    "\n",
    "def write_log(filename,output_path = os.path.join(os.getcwd(),'log.txt')):\n",
    "    with open(output_path, \"a\", encoding='utf8') as myfile:\n",
    "        myfile.write(\"\\n\"+\"Loi doc file: \" + filename)\n",
    "\n",
    "def operation(list_files,output_folder):\n",
    "    df = pd.DataFrame()\n",
    "    keys = ['maTKhai', 'pbanTKhaiXML', 'loaiTKhai']\n",
    "    output_path = os.path.join(output_folder,'doc.csv')\n",
    "    for path in tqdm(list_files):\n",
    "        \n",
    "        try:\n",
    "            data = loads(dumps(pdx.read_xml(path, encoding='utf8').to_dict()))[\n",
    "                'HSoThueDTu']['0']['HSoKhaiThue']\n",
    "            res = {key: data['TTinChung']['TTinTKhaiThue']\n",
    "                    ['TKhaiThue'][key] for key in keys}\n",
    "            list_pluc = list(data['PLuc'].keys())\n",
    "            list_pluc.sort()\n",
    "            res['PLUC'] = str(list_pluc)\n",
    "            res['filename'] = path\n",
    "            try:\n",
    "                res['MST'] = data['TTinChung']['TTinTKhaiThue']['NNT']['mst']\n",
    "            except:\n",
    "                res[\"MST\"] = np.nan\n",
    "\n",
    "            df = df.append(pd.DataFrame(res, index=[0]))\n",
    "\n",
    "            # df.to_csv(output_path,sep=\"|\", mode='a', header=not os.path.exists(output_path))\n",
    "        except:\n",
    "            write_log(path)\n",
    "\n",
    "    df.to_csv(output_path,sep=\"|\", mode='a', header=not os.path.exists(output_path))\n",
    "\n",
    "\n",
    "def without_thread(folder,output_folder):\n",
    "    files =   [os.path.join(folder,i)  for i in os.listdir(folder)]\n",
    "    operation(files,output_folder)\n",
    "\n",
    "\n",
    "def getlink(folder):\n",
    "    workqueue = queue.Queue()\n",
    "    workqueue.queue = queue.deque([\n",
    "        os.path.join(folder,i) for i in os.listdir(folder)])\n",
    "    return workqueue\n",
    "\n",
    "\n",
    "def multiprocessing_run(folder,numBot):\n",
    "\n",
    "    work_queue = [os.path.join(folder,i) for i in os.listdir(folder)]\n",
    "    mofile = [[]]*numBot\n",
    "    while len(work_queue)>0 :\n",
    "        for i in range(numBot):\n",
    "            if len(work_queue)>0:\n",
    "                mofile[i] = mofile[i] + [work_queue.pop()]\n",
    "\n",
    "    # return mofile\n",
    "    jobs = []\n",
    "    for file in mofile:\n",
    "        p = Process(target=operation, args=([file]))\n",
    "        jobs.append(p)\n",
    "        p.start()\n",
    "\n",
    "    for proc in jobs:\n",
    "        proc.join()\n",
    "\n",
    "\n",
    "\n",
    "def _submit_thread(folder,num_cpus):\n",
    "\n",
    "    work_queue = [os.path.join(folder,i) for i in os.listdir(folder)]\n",
    "    mofile = [[]]*num_cpus\n",
    "    while len(work_queue)>0 :\n",
    "        for i in range(num_cpus):\n",
    "            if len(work_queue)>0:\n",
    "                mofile[i] = mofile[i] + [work_queue.pop()]\n",
    "    output_folder = r'D:\\DATA SUPERLAKE\\0. RAW DATA\\TAX\\TAX 2021\\tax_code'\n",
    "    with cf.ProcessPoolExecutor(max_workers=num_cpus) as executor:\n",
    "        # futures = pd.DataFrame()\n",
    "        for i in mofile:\n",
    "            executor.submit( operation, i,output_folder)\n",
    "        # for future in cf.as_completed(futures):\n",
    "        #     print(future.result(),end='\\r')#.to_csv(output_path,sep=\"|\", mode='a', header=not os.path.exists(output_path))\n",
    "\n",
    "\n",
    "def main():\n",
    "    tstart = time.time()\n",
    "    num_cpus = 10\n",
    "    folder = r'D:\\DATA SUPERLAKE\\0. RAW DATA\\TAX\\TAX 2021\\tax_code\\Phan tich 27052022\\sample2 - Copy'\n",
    "    # without_thread(folder,output_path)\n",
    "    # multiprocessing_run(folder,num_cpus)\n",
    "    _submit_thread(folder,num_cpus)\n",
    "    print(\"Time for running is %.2f seconds\" %(time.time()-tstart))"
   ]
  },
  {
   "cell_type": "code",
   "execution_count": null,
   "id": "9785abbe-8061-4205-90f8-590a9118900d",
   "metadata": {},
   "outputs": [],
   "source": [
    "if __name__ == \"__main__\":\n",
    "    main()\n",
    "\n"
   ]
  },
  {
   "cell_type": "code",
   "execution_count": null,
   "metadata": {
    "collapsed": false
   },
   "outputs": [],
   "source": []
  },
  {
   "cell_type": "code",
   "execution_count": null,
   "metadata": {
    "collapsed": false
   },
   "outputs": [],
   "source": [
    "import os\n",
    "from sqlite3 import Time \n",
    "import time\n",
    "import pandas_read_xml as pdx\n",
    "import pandas as pd\n",
    "import numpy as np\n",
    "from tqdm import tqdm\n",
    "from json import loads, dumps\n",
    "import concurrent.futures as cf\n",
    "import queue\n",
    "from multiprocessing import Process\n",
    "\n",
    "def write_log(filename,output_path = os.path.join(os.getcwd(),'log.txt')):\n",
    "    with open(output_path, \"a\", encoding='utf8') as myfile:\n",
    "        myfile.write(\"\\n\"+\"Loi doc file: \" + filename)\n",
    "\n",
    "def operation(list_files,output_folder):\n",
    "    df = pd.DataFrame()\n",
    "    keys = ['maTKhai', 'pbanTKhaiXML', 'loaiTKhai']\n",
    "    output_path = os.path.join(output_folder,'doc.csv')\n",
    "    # for path in tqdm(list_files):\n",
    "    # for path in list_files: \n",
    "    path = list_files\n",
    "    try:\n",
    "        data = loads(dumps(pdx.read_xml(path, encoding='utf8').to_dict()))[\n",
    "            'HSoThueDTu']['0']['HSoKhaiThue']\n",
    "        res = {key: data['TTinChung']['TTinTKhaiThue']\n",
    "                ['TKhaiThue'][key] for key in keys}\n",
    "        list_pluc = list(data['PLuc'].keys())\n",
    "        list_pluc.sort()\n",
    "        res['PLUC'] = str(list_pluc)\n",
    "        res['filename'] = path\n",
    "        try:\n",
    "            res['MST'] = data['TTinChung']['TTinTKhaiThue']['NNT']['mst']\n",
    "        except:\n",
    "            res[\"MST\"] = np.nan\n",
    "\n",
    "        df = df.append(pd.DataFrame(res, index=[0]))\n",
    "\n",
    "        # df.to_csv(output_path,sep=\"|\", mode='a', header=not os.path.exists(output_path))\n",
    "    except:\n",
    "        write_log(path)\n",
    "\n",
    "    df.to_csv(output_path,sep=\"|\", mode='a', header=not os.path.exists(output_path))\n",
    "\n",
    "\n",
    "def without_thread(folder,output_folder):\n",
    "    files =   [os.path.join(folder,i)  for i in os.listdir(folder)]\n",
    "    operation(files,output_folder)\n",
    "\n",
    "\n",
    "def getlink(folder):\n",
    "    workqueue = queue.Queue()\n",
    "    workqueue.queue = queue.deque([\n",
    "        os.path.join(folder,i) for i in os.listdir(folder)])\n",
    "    return workqueue\n",
    "\n",
    "\n",
    "def multiprocessing_run(folder,numBot):\n",
    "\n",
    "    work_queue = [os.path.join(folder,i) for i in os.listdir(folder)]\n",
    "    mofile = [[]]*numBot\n",
    "    while len(work_queue)>0 :\n",
    "        for i in range(numBot):\n",
    "            if len(work_queue)>0:\n",
    "                mofile[i] = mofile[i] + [work_queue.pop()]\n",
    "\n",
    "    # return mofile\n",
    "    jobs = []\n",
    "    for file in mofile:\n",
    "        p = Process(target=operation, args=([file]))\n",
    "        jobs.append(p)\n",
    "        p.start()\n",
    "\n",
    "    for proc in jobs:\n",
    "        proc.join()\n",
    "\n",
    "\n",
    "\n",
    "def _submit_thread(folder,num_cpus):\n",
    "\n",
    "    # work_queue = [os.path.join(folder,i) for i in os.listdir(folder)]\n",
    "    # mofile = [[]]*num_cpus\n",
    "    # while len(work_queue)>0 :\n",
    "    #     for i in range(num_cpus):\n",
    "    #         if len(work_queue)>0:\n",
    "    #             mofile[i] = mofile[i] + [work_queue.pop()]\n",
    "\n",
    "    work_queue = getlink(folder)\n",
    "    output_folder = r'D:\\DATA SUPERLAKE\\0. RAW DATA\\TAX\\TAX 2021\\tax_code'\n",
    "    with cf.ProcessPoolExecutor(max_workers=num_cpus) as executor:\n",
    "        # futures = pd.DataFrame()\n",
    "        # pbar = tqdm(total=work_queue.qsize())\n",
    "        size = work_queue.qsize()\n",
    "        def generator():\n",
    "            while not work_queue.empty():\n",
    "            # for i in mofile:\n",
    "                yield work_queue.get()\n",
    "        \n",
    "        for i in tqdm(generator(),total = size):\n",
    "            executor.submit(operation, i ,output_folder)\n",
    "            # pbar.update()\n",
    "        # pbar.close()\n",
    "        # for future in cf.as_completed(futures):\n",
    "        #     print(future.result(),end='\\r')#.to_csv(output_path,sep=\"|\", mode='a', header=not os.path.exists(output_path))\n",
    "\n",
    "\n",
    "def main():\n",
    "    tstart = time.time()\n",
    "    num_cpus = 10\n",
    "    folder = r'D:\\DATA SUPERLAKE\\0. RAW DATA\\TAX\\TAX 2021\\tax_code\\Phan tich 27052022\\sample2 - Copy'\n",
    "    # without_thread(folder,output_path)\n",
    "    # multiprocessing_run(folder,num_cpus)\n",
    "    _submit_thread(folder,num_cpus)\n",
    "    print(\"Time for running is %.2f seconds\" %(time.time()-tstart))"
   ]
  },
  {
   "cell_type": "code",
   "execution_count": null,
   "id": "357ec8c1-f536-43fb-bc1a-8668081ddefc",
   "metadata": {},
   "outputs": [],
   "source": [
    "if __name__ == \"__main__\":\n",
    "    main()\n",
    "\n"
   ]
  },
  {
   "cell_type": "code",
   "execution_count": null,
   "metadata": {
    "collapsed": false
   },
   "outputs": [],
   "source": []
  },
  {
   "cell_type": "markdown",
   "metadata": {
    "collapsed": false
   },
   "source": [
    "## Decorators"
   ]
  },
  {
   "cell_type": "markdown",
   "metadata": {
    "collapsed": false
   },
   "source": [
    "- Mở rộng chức năng của hàm khác\n",
    "- Nhận hàm dưới decorator làm hàm tham số, mở rộng chức năm của hàm tham số mà không cần chỉnh sửa hàm tham số\n",
    "- áp dụng cho ghi log, khởi tạo tài nguyên trước khi chạy function, hoặc dọn dẹp sau khi chạy, đo time,..."
   ]
  },
  {
   "cell_type": "code",
   "execution_count": null,
   "metadata": {
    "collapsed": false
   },
   "outputs": [],
   "source": [
    "from functools import wraps\n",
    "\n",
    "def debug(func):\n",
    "    @wraps(func)\n",
    "    def out(*args, **kwargs):\n",
    "        print(func.__name__)\n",
    "        return func(*args, **kwargs)\n",
    "    return out\n",
    "\n",
    "@debug\n",
    "def add(x, y):\n",
    "    return x + y"
   ]
  },
  {
   "cell_type": "markdown",
   "metadata": {
    "collapsed": false
   },
   "source": [
    "### Cơ bản hàm decorator"
   ]
  },
  {
   "cell_type": "code",
   "execution_count": null,
   "id": "87bb7b41-e90f-424e-84e7-bf5b34da84ef",
   "metadata": {},
   "outputs": [],
   "source": [
    "def display_decorator(func):\n",
    "    \n",
    "    def wrapper(str): # closure\n",
    "        # logic trước khi chạy hàm func\n",
    "        print(f'Log: The function {func.__name__} is executing ...')\n",
    "        func(str)\n",
    "        # logic sau khi chạy hàm func\n",
    "        print('Log: Execution completed.\\n')\n",
    "    return wrapper\n",
    "\n",
    "#bản chất\n",
    "def display(str):\n",
    "    print(str)\n",
    "\n",
    "display = display_decorator(display)\n",
    "display('Hello world')\n",
    "\n",
    "# tương đương\n",
    "# truyền hàm say_hello làm tham số cho hàm display_decorator\n",
    "@display_decorator\n",
    "def say_hello(str):\n",
    "    print(str)\n",
    "\n",
    "say_hello('Hello, Donald')"
   ]
  },
  {
   "cell_type": "code",
   "execution_count": null,
   "id": "4ebe7718-ac70-4878-82fd-11ec1c78ed82",
   "metadata": {},
   "outputs": [],
   "source": [
    "def makebold(f):\n",
    "    return lambda: \"<b>\" + f() + \"</b>\"\n",
    "\n",
    "def makeitalic(f):\n",
    "    return lambda: \"<i>\" + f() + \"</i>\"\n",
    "\n",
    "@makebold\n",
    "@makeitalic\n",
    "def say():\n",
    "    return \"Hello\"\n",
    "\n",
    "print(say()) #// kết quả là <b><i>Hello</i></b>"
   ]
  },
  {
   "cell_type": "markdown",
   "metadata": {
    "collapsed": false
   },
   "source": [
    "### Lớp decorator\n",
    "Xử lý cho hàm deco phức tạp"
   ]
  },
  {
   "cell_type": "code",
   "execution_count": null,
   "id": "229b189c-08cf-4aa8-bb00-0f47e1195ddb",
   "metadata": {},
   "outputs": [
    {
     "name": "stdout",
     "output_type": "stream",
     "text": [
      "Inside decorator\n",
      "Inside inner function\n",
      "I like cafedevn\n",
      "Inside actual function\n"
     ]
    }
   ],
   "source": [
    "class decoclass(object):\n",
    "    def __init__(self, f):\n",
    "        self.f = f\n",
    "    def __call__(self, *args, **kwargs):\n",
    "        # logic trước khi gọi hàm f\n",
    "        print('decorator initialised')\n",
    "        self.f(*args, **kwargs)\n",
    "        print('decorator terminated')\n",
    "        # logic sau khi gọi hàm f\n",
    "\n",
    "@decoclass\n",
    "def hello(name,name2):\n",
    "    print(f'Hello, {name}. Welcome to {name2} heaven!')\n",
    "\n",
    "hello('XXX','YYY')"
   ]
  },
  {
   "cell_type": "code",
   "execution_count": null,
   "id": "b65be536-0bbb-4a85-9c1a-2e12e35f91d7",
   "metadata": {},
   "outputs": [
    {
     "name": "stdout",
     "output_type": "stream",
     "text": [
      "return  0\n",
      "return  1\n",
      "return  2\n",
      "runtime =  0:00:03.016835\n"
     ]
    }
   ],
   "source": [
    "# tạo hàm decorator tính time\n",
    "from datetime import datetime\n",
    "from time import sleep"
   ]
  },
  {
   "cell_type": "code",
   "execution_count": null,
   "id": "54a39c80-69d8-42ad-a7a8-095fada5231d",
   "metadata": {},
   "outputs": [
    {
     "name": "stdout",
     "output_type": "stream",
     "text": [
      "return  0\n",
      "return  1\n",
      "return  2\n",
      "runtime hello =  0:00:03.025241\n"
     ]
    }
   ],
   "source": [
    "# tạo hàm decorator tính time\n",
    "from datetime import datetime\n",
    "from time import sleep\n",
    "\n",
    "class decoclass(object):\n",
    "    def __init__(self, f):\n",
    "        self.f = f\n",
    "    def __call__(self, *args, **kwargs):\n",
    "        # logic trước khi gọi hàm f\n",
    "        print('decorator initialised')\n",
    "        self.f(*args, **kwargs)\n",
    "        print('decorator terminated')\n",
    "        # logic sau khi gọi hàm f\n",
    "        \n",
    "    def runtime(self,*arg):\n",
    "        start = datetime.now()\n",
    "        decoclass(self.f(*args))\n",
    "        print(\"runtime = \",datetime.now()-start)\n",
    "        \n",
    "@decoclass.runtime\n",
    "def print_second1():\n",
    "    for i in range(3):\n",
    "        print('return ', i)\n",
    "        sleep(1)\n",
    "        \n",
    "print_second1()"
   ]
  },
  {
   "cell_type": "code",
   "execution_count": null,
   "id": "b3e89909-5d4f-4302-9967-812c9fcbe5b2",
   "metadata": {},
   "outputs": [
    {
     "name": "stdout",
     "output_type": "stream",
     "text": [
      "I like Geeksforgeeks\n",
      "Summation of values - 27\n",
      "Geeks\n",
      "for\n",
      "Geeks\n"
     ]
    }
   ],
   "source": [
    "import math\n",
    "import timeit\n",
    "\n",
    "# class runtime(object):\n",
    "#     def __init__(self, f):\n",
    "#         self.f = f\n",
    "#     def __call__(self, *args, **kwargs):\n",
    "#         start = timeit.default_timer()\n",
    "#         res = self.f(*args, **kwargs)\n",
    "#         stop = timeit.default_timer()\n",
    "#         print(stop - start, \" (seconds)\")\n",
    "#         return res\n",
    "\n",
    "def runtime(func):\n",
    "    def func_wrapper(x):\n",
    "        start = timeit.default_timer()\n",
    "        res = func(x)\n",
    "        stop = timeit.default_timer()\n",
    "        print(stop - start, \"(seconds)\")\n",
    "        return res\n",
    "    return func_wrapper\n",
    "\n",
    "def is_prime(number):\n",
    "    if number == 2:\n",
    "        return True\n",
    "    if number <= 1 or not number % 2:\n",
    "        return False\n",
    "    max_range = int(math.sqrt(number)) + 1\n",
    "    for div in range(3, max_range, 2):\n",
    "        if not number % div:\n",
    "            return False\n",
    "    return True\n",
    "\n",
    "    \n",
    "@runtime\n",
    "def run_program(max_number):\n",
    "    for number in range(max_number):\n",
    "        is_prime(number)\n",
    "\n",
    "run_program(1000000)"
   ]
  },
  {
   "cell_type": "code",
   "execution_count": null,
   "metadata": {
    "collapsed": false
   },
   "outputs": [],
   "source": [
    "def decorator(*args, **kwargs): \n",
    "    print(\"Inside decorator\") \n",
    "      \n",
    "    def inner(func): \n",
    "          \n",
    "        # code functionality here \n",
    "        print(\"Inside inner function\") \n",
    "        print(\"I like\", kwargs['like'])  \n",
    "          \n",
    "        func() \n",
    "          \n",
    "    # reurning inner function     \n",
    "    return inner \n",
    "  \n",
    "@decorator(like = \"cafedevn\") \n",
    "def my_func(): \n",
    "    print(\"Inside actual function\") "
   ]
  },
  {
   "cell_type": "code",
   "execution_count": null,
   "id": "eb8bced7-bdc7-44a7-b081-c4208c9d9301",
   "metadata": {},
   "outputs": [],
   "source": [
    "def runtime(f, *args, **kwargs):\n",
    "    start = datetime.now()\n",
    "    f()\n",
    "    print(\"runtime = \",datetime.now()-start)\n",
    "    \n",
    "@runtime\n",
    "def print_second():\n",
    "    for i in range(3):\n",
    "        print('return ', i)\n",
    "        sleep(1)\n",
    "        \n",
    "print_second"
   ]
  },
  {
   "cell_type": "code",
   "execution_count": null,
   "id": "74ee7d37-5189-4dad-a635-4e91f58c03af",
   "metadata": {},
   "outputs": [
    {
     "name": "stdout",
     "output_type": "stream",
     "text": [
      "Khong\n",
      "Dat\n",
      "Khong-Dat@team.com\n",
      "Khong Dat\n"
     ]
    }
   ],
   "source": [
    "from time import sleep\n",
    "from datetime import datetime\n",
    "import functools\n",
    "\n",
    "def runtime(string):\n",
    "    def decorator_log(func):\n",
    "        @functools.wraps(func)\n",
    "        def wrapper(*args, **kwargs):\n",
    "            start = datetime.now()\n",
    "            result = func(*args, **kwargs)\n",
    "            print(f\"runtime {string} = \",datetime.now()-start)\n",
    "            return result\n",
    "        return wrapper\n",
    "    return decorator_log\n",
    "    \n",
    "@runtime (string = \"hello\")\n",
    "def print_second():\n",
    "    for i in range(3):\n",
    "        print('return ', i)\n",
    "        sleep(1)\n",
    "        \n",
    "print_second()"
   ]
  },
  {
   "cell_type": "code",
   "execution_count": null,
   "id": "ef26ad85-fc5b-42ca-8239-80e6d7f6c1a2",
   "metadata": {},
   "outputs": [
    {
     "name": "stdout",
     "output_type": "stream",
     "text": [
      "An\n",
      "Viet\n",
      "Khong-Dat@team.com\n",
      "An Viet\n"
     ]
    }
   ],
   "source": [
    "# Python code to illustrate\n",
    "# Decorators with parameters in Python\n",
    "\n",
    "def decorator_func(x, y):\n",
    "\n",
    "\tdef Inner(func):\n",
    "\n",
    "\t\tdef wrapper(*args, **kwargs):\n",
    "\t\t\tprint(\"I like Geeksforgeeks\")\n",
    "\t\t\tprint(\"Summation of values - {}\".format(x+y) )\n",
    "\n",
    "\t\t\tfunc(*args, **kwargs)\n",
    "\t\t\t\n",
    "\t\treturn wrapper\n",
    "\treturn Inner\n",
    "\n",
    "\n",
    "# Not using decorator\n",
    "def my_fun(*args):\n",
    "\tfor ele in args:\n",
    "\t\tprint(ele)\n",
    "\n",
    "# another way of using decorators\n",
    "decorator_func(12, 15)(my_fun)('Geeks', 'for', 'Geeks')\n"
   ]
  },
  {
   "cell_type": "markdown",
   "metadata": {
    "collapsed": false
   },
   "source": [
    "### Special decorator\n",
    "```python\n",
    "    @property : biến method thành attribute\n",
    "    @\"method\".setter : gán value cho method(có property), có thể sửa các attribute ban đầu có liên quan\n",
    "    @\"method\".deleter : xóa value cho method(có property), có thể xóa các attribute ban đầu có liên quan\n",
    "```"
   ]
  },
  {
   "cell_type": "code",
   "execution_count": null,
   "id": "2eea62e5-3256-4d24-8831-5b5fdba43ed4",
   "metadata": {},
   "outputs": [
    {
     "data": {
      "text/plain": [
       "'Khanh'"
      ]
     },
     "execution_count": 41,
     "metadata": {},
     "output_type": "execute_result"
    }
   ],
   "source": [
    "class Teamm:\n",
    "    def __init__(self, ho, ten):\n",
    "        self.ho = ho\n",
    "        self.ten = ten\n",
    "        self.email = ho + \"-\" + ten + \"@team.com\"\n",
    "\n",
    "    def ho_va_ten(self):  # regular method\n",
    "        return \"{} {}\".format(self.ho, self.ten)\n",
    "\n",
    "\n",
    "ktd = Teamm(\"Khong\", \"Dat\")"
   ]
  },
  {
   "cell_type": "code",
   "execution_count": null,
   "id": "188a0944-d819-40ca-812d-3006f6170a01",
   "metadata": {},
   "outputs": [
    {
     "name": "stdout",
     "output_type": "stream",
     "text": [
      "None\n"
     ]
    }
   ],
   "source": [
    "print(ktd.ho)\n",
    "print(ktd.ten)\n",
    "print(ktd.email)\n",
    "print(ktd.ho_va_ten())"
   ]
  },
  {
   "cell_type": "code",
   "execution_count": null,
   "id": "6f0eb1c0-33b5-474e-b606-ab38d772f64c",
   "metadata": {},
   "outputs": [],
   "source": [
    "# thử modify attribute\n",
    "ktd.ho = \"An\"\n",
    "ktd.ten = \"Viet\"\n",
    "\n",
    "print(ktd.ho)\n",
    "print(ktd.ten)\n",
    "print(ktd.email)  # email ko bị đổi theo\n",
    "print(ktd.ho_va_ten())"
   ]
  },
  {
   "cell_type": "code",
   "execution_count": null,
   "metadata": {
    "collapsed": false
   },
   "outputs": [],
   "source": [
    "class Teamm:\n",
    "    def __init__(self, ho, ten):\n",
    "        self.ho = ho\n",
    "        self.ten = ten\n",
    "\n",
    "    @property  # bien method thanh attribute\n",
    "    def email(self):  # regular method\n",
    "        return self.ho + \"_\" + self.ten + \"@team.com\"\n",
    "\n",
    "    @property  # bien method thanh attribute\n",
    "    def ho_va_ten(self):  # regular method\n",
    "        return \"{} {}\".format(self.ho, self.ten)\n",
    "\n",
    "    @ho_va_ten.setter  # method ho_va_ten có thể gán giá trị và sửa giá trị attribute ho, ten\n",
    "    def ho_va_ten(self, ten_moi):\n",
    "        ho_moi, ten_moi = ten_moi.split(\" \")\n",
    "        self.ho = ho_moi\n",
    "        self.ten = ten_moi\n",
    "\n",
    "    @ho_va_ten.deleter  # method ho_va_ten có thể gán giá trị và sửa giá trị attribute ho, ten\n",
    "    def ho_va_ten(self):\n",
    "        self.ho = None\n",
    "        self.ten = None\n",
    "\n",
    "\n",
    "ktd = Teamm(\"Khong\", \"Dat\")"
   ]
  },
  {
   "cell_type": "code",
   "execution_count": null,
   "id": "26d71376-334f-43b5-ab5c-52bbe4cdc5c5",
   "metadata": {},
   "outputs": [
    {
     "name": "stdout",
     "output_type": "stream",
     "text": [
      "93326215443944152681699238856266700490715968264381621468592963895217599993229915608941463976156518286253697920827223758251185210916864000000000000000000000000\n",
      "Wall time: 0 ns\n"
     ]
    }
   ],
   "source": [
    "ktd.ho_va_ten = \"An Khanh\"\n",
    "ktd.ten"
   ]
  },
  {
   "cell_type": "code",
   "execution_count": null,
   "id": "4f324346-8cda-4696-b550-5bd3b4d2fc15",
   "metadata": {},
   "outputs": [
    {
     "name": "stdout",
     "output_type": "stream",
     "text": [
      "120\n"
     ]
    }
   ],
   "source": [
    "del ktd.ho_va_ten\n",
    "print(ktd.ten)"
   ]
  },
  {
   "cell_type": "code",
   "execution_count": null,
   "metadata": {
    "collapsed": false
   },
   "outputs": [],
   "source": []
  },
  {
   "cell_type": "markdown",
   "metadata": {
    "collapsed": false
   },
   "source": [
    "### Decorator memorization\n",
    "- Ghi nhớ là một kỹ thuật ghi lại các kết quả trung gian để chúng có thể được sử dụng nhằm tránh tính toán lặp lại và tăng tốc độ cho chương trình. Ghi nhớ có thể được sử dụng để tối ưu hóa các chương trình sử dụng đệ quy. Trong Python, ghi nhớ có thể được thực hiện với sự trợ giúp của Decorator"
   ]
  },
  {
   "cell_type": "code",
   "execution_count": null,
   "metadata": {
    "collapsed": false
   },
   "outputs": [],
   "source": [
    "%%time\n",
    "# Bai toan tinh giai thua\n",
    "# Simple recursive program to find factorial\n",
    "\n",
    "def facto(num):\n",
    "    if num == 1:\n",
    "        return 1\n",
    "    else:\n",
    "        return num * facto(num-1)\n",
    "print(facto(100))"
   ]
  },
  {
   "cell_type": "code",
   "execution_count": null,
   "id": "4add19a4-b2c4-4b70-83e5-2a67f2f90323",
   "metadata": {},
   "outputs": [],
   "source": [
    "# Chương trình như trên có thể sử dụng Decorator để giải quyết như sau:\n",
    "# Factorial program with memoization using \n",
    "# decorators. \n",
    "# A decorator function for function 'f' passed \n",
    "# as parameter \n",
    "\n",
    "\"\"\"\n",
    "Có thể giải thích ví dụ trên như sau:\n",
    "\n",
    "1. Một hàm có tên memoize_factoria l đã được định nghĩa. Mục đích chính của nó là lưu trữ các kết quả trung gian trong biến được gọi là bộ nhớ.\n",
    "\n",
    "2. Chức năng thứ hai được gọi là facto là chức năng để tính toán giai thừa. Nó đã được chú thích bởi một decorator (hàm memoize_factorial). \n",
    "Facto có quyền truy cập vào biến bộ nhớ. \n",
    "\n",
    "3. Khi facto (5) được gọi, các phép toán đệ quy diễn ra ngoài việc lưu trữ các kết quả trung gian. \n",
    "Mỗi khi một phép tính cần được thực hiện, nó sẽ được kiểm tra xem kết quả có sẵn trong bộ nhớ hay không . \n",
    "Nếu có, thì nó được sử dụng, ngược lại, giá trị được tính toán và được lưu trữ trong bộ nhớ .\n",
    "\"\"\"\n",
    "\n",
    "def memoize_factorial(f): \n",
    "    memory = {} \n",
    "    # This inner function has access to memory \n",
    "    # and 'f' \n",
    "    def inner(num): \n",
    "        if num not in memory:  \n",
    "            memory[num] = f(num) \n",
    "        return memory[num] \n",
    "    return inner \n",
    "\n",
    "@memoize_factorial\n",
    "def facto(num): \n",
    "    if num == 1: \n",
    "        return 1\n",
    "    else:  \n",
    "        return num * facto(num-1) \n",
    "print(facto(5)) "
   ]
  },
  {
   "cell_type": "markdown",
   "id": "ac6bb445-dfc7-41a7-b015-8e8c78bca1bd",
   "metadata": {},
   "source": [
    "### Gỡ lỗi bằng decorator"
   ]
  },
  {
   "cell_type": "code",
   "execution_count": null,
   "id": "e2ff4303-3580-4b64-a2ab-9ebd69690c27",
   "metadata": {},
   "outputs": [],
   "source": [
    "# Bạn có thể sử dụng trình Decorator trong Python để gỡ lỗi bằng cách dùng functools.wraps() trong thư viện tiêu chuẩn của Python. \n",
    "# Ví dụ như sau:\n",
    "\n",
    "# importing the module \n",
    "import functools \n",
    "\n",
    "# decorator \n",
    "def make_geek_happy(func): \n",
    "\n",
    "    @functools.wraps(func) \n",
    "    def wrapper(): \n",
    "        neutral_message = func() \n",
    "        happy_message = neutral_message + \" You are happy!\"\n",
    "        return happy_message \n",
    "    return wrapper \n",
    "\n",
    "def speak(): \n",
    "    \"\"\"Returns a neutral message\"\"\"\n",
    "    return \"Hi!\"\n",
    "\n",
    "positive_message = make_geek_happy(speak) \n",
    "\n",
    "print(positive_message()) # Hi! You are happy!\n",
    "\n",
    "print(speak.__name__) \n",
    "\n",
    "print(speak.__doc__) \n",
    "\n",
    "print(positive_message.__name__) \n",
    "\n",
    "print(positive_message.__doc__)"
   ]
  },
  {
   "cell_type": "markdown",
   "metadata": {
    "collapsed": false
   },
   "source": [
    "## Class"
   ]
  },
  {
   "cell_type": "code",
   "execution_count": null,
   "metadata": {
    "collapsed": false
   },
   "outputs": [],
   "source": [
    "class Name:\n",
    "    age = 80 # Class Object Attribute\n",
    "    def __init__(self, a):\n",
    "        self.a = a # Object Attribute\n",
    "\n",
    "    @classmethod\n",
    "    def get_class_name(cls):\n",
    "        return cls.__name__\n",
    "### Khoi tao class"
   ]
  },
  {
   "cell_type": "code",
   "execution_count": null,
   "id": "39c3dee8-9232-4d06-ada3-30d15d104068",
   "metadata": {},
   "outputs": [
    {
     "data": {
      "text/plain": [
       "'Cong ty Hoa Phat'"
      ]
     },
     "execution_count": 4,
     "metadata": {},
     "output_type": "execute_result"
    }
   ],
   "source": [
    "# khoi tao class\n",
    "class Company:\n",
    "    pass\n",
    "\n",
    "\n",
    "# khai bao object\n",
    "hoaphat = Company()\n",
    "\n",
    "# add attribute\n",
    "hoaphat.ten = \"Hoa Phat\"\n",
    "hoaphat.sector = \"Xay Dung\"\n",
    "hoaphat.industry = \"San xuat thep\""
   ]
  },
  {
   "cell_type": "code",
   "execution_count": null,
   "id": "62ed7528-89af-4e31-a36c-aea132ffa2dd",
   "metadata": {},
   "outputs": [],
   "source": [
    "hoaphat.ten"
   ]
  },
  {
   "cell_type": "markdown",
   "metadata": {
    "collapsed": false
   },
   "source": [
    "### Hàm constructor (initialize method)"
   ]
  },
  {
   "cell_type": "code",
   "execution_count": null,
   "id": "8fb7bd76-962c-43f9-b5d6-6d8d67249c69",
   "metadata": {},
   "outputs": [
    {
     "data": {
      "text/plain": [
       "'VietNam'"
      ]
     },
     "execution_count": 7,
     "metadata": {},
     "output_type": "execute_result"
    }
   ],
   "source": [
    "# từ khóa self sẽ nhận giá trị chính là đối tượng đã  gọi hàm đó\n",
    "# contructor mo dau va ket thuc bang \"__\"\n",
    "class Company:\n",
    "    country = \"VietNam\"  # attribute dac trung cua ca class\n",
    "\n",
    "    def __init__(self, name_para, sector_para, industry_para):  # contructor\n",
    "        self.name = \"Cong ty \" + name_para  # attribute dac trung cua mỗi object\n",
    "        self.sector = sector_para\n",
    "        self.industry = industry_para"
   ]
  },
  {
   "cell_type": "code",
   "execution_count": null,
   "metadata": {
    "collapsed": false
   },
   "outputs": [],
   "source": [
    "# truyen cac argument theo thu tu\n",
    "hoaphat = Company(\"Hoa Phat\", \"Xay Dung\", \"San xuat thep\")\n",
    "\n",
    "hoaphat.name"
   ]
  },
  {
   "cell_type": "code",
   "execution_count": null,
   "id": "46c90269-e78d-4bb6-9da5-2b9c754eb4ce",
   "metadata": {},
   "outputs": [],
   "source": [
    "tcb = Company(\"Techcombank\", \"Tai Chinh\", \"Ngan hang\")"
   ]
  },
  {
   "cell_type": "code",
   "execution_count": null,
   "id": "7e3de634-4d37-4785-81a0-74af02807919",
   "metadata": {},
   "outputs": [],
   "source": [
    "Company.country"
   ]
  },
  {
   "cell_type": "code",
   "execution_count": null,
   "id": "fb419aca-db82-4fb7-adae-205ab83aa8ea",
   "metadata": {},
   "outputs": [
    {
     "data": {
      "text/plain": [
       "{'name': 'Hoa Phat',\n",
       " 'sector': 'Xay Dung',\n",
       " 'industry': 'San xuat thep',\n",
       " 'stt': 1}"
      ]
     },
     "execution_count": 17,
     "metadata": {},
     "output_type": "execute_result"
    }
   ],
   "source": [
    "tcb.country  # su dung chung attribute cua class"
   ]
  },
  {
   "cell_type": "markdown",
   "metadata": {
    "collapsed": false
   },
   "source": [
    "### Attribute"
   ]
  },
  {
   "cell_type": "code",
   "execution_count": null,
   "id": "2727ba38-0cf4-4cd9-986b-fe3252b15f4f",
   "metadata": {},
   "outputs": [
    {
     "data": {
      "text/plain": [
       "'Cong ty Hoa Phat lam nganh San xuat thep, linh vuc Xay Dung, dat nuoc VietNam'"
      ]
     },
     "execution_count": 10,
     "metadata": {},
     "output_type": "execute_result"
    }
   ],
   "source": [
    "# ham xu dung trong class la method\n",
    "class Company:\n",
    "    # Attribute dac trung cua class\n",
    "    country = \"VietNam\"\n",
    "    number_of_company = 0\n",
    "\n",
    "    def __init__(self, name_para, sector_para, industry_para):\n",
    "        self.name = name_para\n",
    "        self.sector = sector_para\n",
    "        self.industry = industry_para\n",
    "        self.stt = Company.number_of_company + 1\n",
    "        Company.number_of_company += 1\n",
    "\n",
    "    def thongtin(self):\n",
    "        return \"Cong ty {} lam nganh {}, linh vuc {}\".format(\n",
    "            self.name, self.industry, self.sector\n",
    "        )\n",
    "\n",
    "    def thongtinchitiet(self):\n",
    "        return \"Cong ty {} lam nganh {}, linh vuc {}, dat nuoc {}\".format(\n",
    "            self.name, self.industry, self.sector, Company.country\n",
    "        )"
   ]
  },
  {
   "cell_type": "code",
   "execution_count": null,
   "id": "bad89b90-fec8-41ba-b10b-000c9a2b221f",
   "metadata": {},
   "outputs": [
    {
     "name": "stdout",
     "output_type": "stream",
     "text": [
      "1\n",
      "VN\n",
      "VietNam\n"
     ]
    }
   ],
   "source": [
    "hpg = Company(\"Hoa Phat\", \"Xay Dung\", \"San xuat thep\")\n",
    "tcb = Company(\"Techcombank\", \"Tai Chinh\", \"Ngan hang\")"
   ]
  },
  {
   "cell_type": "code",
   "execution_count": null,
   "id": "cda4d04e-6efd-4c58-931c-523c39d6ab90",
   "metadata": {},
   "outputs": [
    {
     "data": {
      "text/plain": [
       "2"
      ]
     },
     "execution_count": 12,
     "metadata": {},
     "output_type": "execute_result"
    }
   ],
   "source": [
    "# dict attribute\n",
    "vars(hpg)"
   ]
  },
  {
   "cell_type": "code",
   "execution_count": null,
   "id": "e808ab53-c41c-4eca-86a2-8ed0978e2ad1",
   "metadata": {},
   "outputs": [
    {
     "name": "stdout",
     "output_type": "stream",
     "text": [
      "VietNam\n"
     ]
    },
    {
     "data": {
      "text/plain": [
       "'VN'"
      ]
     },
     "execution_count": 13,
     "metadata": {},
     "output_type": "execute_result"
    }
   ],
   "source": [
    "# list attribute name , include lớp cha\n",
    "dir(hpg)"
   ]
  },
  {
   "cell_type": "code",
   "execution_count": null,
   "metadata": {
    "collapsed": false
   },
   "outputs": [],
   "source": [
    "Company.thongtinchitiet(hpg)"
   ]
  },
  {
   "cell_type": "code",
   "execution_count": null,
   "id": "c61657cb-68f3-4788-b0a2-74f72988c390",
   "metadata": {},
   "outputs": [],
   "source": [
    "print(hpg.stt)\n",
    "\n",
    "hpg.country = \"VN\"  # sua thuoc tinh cuar object nhung khong lam thay doi thuoc tinh cua class\n",
    "\n",
    "print(hpg.country)\n",
    "print(Company.country)"
   ]
  },
  {
   "cell_type": "code",
   "execution_count": null,
   "id": "82b8e13b-fec2-4760-88a0-7ce6989549dc",
   "metadata": {},
   "outputs": [],
   "source": [
    "Company.number_of_company"
   ]
  },
  {
   "cell_type": "code",
   "execution_count": null,
   "metadata": {
    "collapsed": false
   },
   "outputs": [],
   "source": [
    "print(Company.country)\n",
    "\n",
    "Company.country = \"VN\"  # sua thuoc tinh cua Class\n",
    "tcb.country  # thuoc tinh cua object cung bi thay doi theo class"
   ]
  },
  {
   "cell_type": "markdown",
   "metadata": {
    "collapsed": false
   },
   "source": [
    "### Method\n",
    "- Nếu bạn dựng một phương thức cần sử dụng đối tượng đó thì dùng regular method\n",
    "- Nếu bạn cần dùng class thì dùng class method\n",
    "- Trường hợp còn lại (tức là không dùng gì) thì dùng static method"
   ]
  },
  {
   "cell_type": "code",
   "execution_count": null,
   "metadata": {
    "collapsed": false
   },
   "outputs": [],
   "source": [
    "# ham xu dung trong class la method\n",
    "class Company:\n",
    "    # Attribute dac trung cua class\n",
    "    country = \"VietNam\"\n",
    "    number_of_company = 0\n",
    "\n",
    "    def __init__(self, name_para, sector_para, industry_para):\n",
    "        self.name = name_para\n",
    "        self.sector = sector_para\n",
    "        self.industry = industry_para\n",
    "        self.stt = Company.number_of_company + 1\n",
    "        Company.number_of_company += 1\n",
    "\n",
    "    # REGULAR METHOD - hướng đến seft là đối tượng\n",
    "    # regular method luon co it nhat 1 argument self la chinh object\n",
    "    def thongtin(self):\n",
    "        return \"Cong ty {} lam nganh {}, linh vuc {}\".format(\n",
    "            self.name, self.industry, self.sector\n",
    "        )\n",
    "\n",
    "    def thongtinchitiet(self):\n",
    "        return \"Cong ty {} lam nganh {}, linh vuc {}, dat nuoc {}\".format(\n",
    "            self.name,\n",
    "            self.industry,\n",
    "            self.sector,\n",
    "            Company.country,  # có thể chứa cả attribute đặc trưng của class\n",
    "        )\n",
    "\n",
    "    # CLASS METHOD - hướng đến class\n",
    "    @classmethod\n",
    "    def update_country(cls, country_para):  # thay đổi attribute của class\n",
    "        cls.country = country_para\n",
    "\n",
    "    @classmethod\n",
    "    def from_list(cls, lis):  # method get object thường bắt đầu bới from\n",
    "        name_para, industry_para, sector_para = lis\n",
    "        return cls(name_para, industry_para, sector_para)\n",
    "\n",
    "    # STATIC METHOD - hàm bình thường mà không động gì đến class hay object\n",
    "    def get_info_class():\n",
    "        print(\"Đây là Class Company tạo bới KTĐ\")"
   ]
  },
  {
   "cell_type": "code",
   "execution_count": null,
   "id": "658465b3-8a2f-4327-8cda-b2749757dc78",
   "metadata": {},
   "outputs": [
    {
     "name": "stdout",
     "output_type": "stream",
     "text": [
      "VietNam\n",
      "VNam\n",
      "VNam_2\n"
     ]
    }
   ],
   "source": [
    "hpg = Company(\"Hoa Phat\", \"Xay Dung\", \"San xuat thep\")\n",
    "tcb = Company(\"Techcombank\", \"Tai Chinh\", \"Ngan hang\")"
   ]
  },
  {
   "cell_type": "markdown",
   "metadata": {
    "collapsed": false
   },
   "source": [
    "#### regular method"
   ]
  },
  {
   "cell_type": "code",
   "execution_count": null,
   "id": "51c6db26-cc4d-47e4-b851-99a094aa8b5e",
   "metadata": {},
   "outputs": [],
   "source": [
    "hpg.thongtin()"
   ]
  },
  {
   "cell_type": "markdown",
   "metadata": {
    "collapsed": false
   },
   "source": [
    "#### Class method"
   ]
  },
  {
   "cell_type": "code",
   "execution_count": null,
   "metadata": {
    "collapsed": false
   },
   "outputs": [],
   "source": [
    "# Dùng để update attribute của class\n",
    "print(Company.country)\n",
    "\n",
    "# update bang class\n",
    "Company.update_country(\"VNam\")\n",
    "print(Company.country)\n",
    "\n",
    "# update bang object\n",
    "hpg.update_country(\"VNam_2\")\n",
    "print(Company.country)"
   ]
  },
  {
   "cell_type": "code",
   "execution_count": null,
   "id": "2a1591ca-8c75-4750-b0ed-4fa4c322e6ac",
   "metadata": {},
   "outputs": [
    {
     "name": "stdout",
     "output_type": "stream",
     "text": [
      "Đây là Class Company tạo bới KTĐ\n"
     ]
    }
   ],
   "source": [
    "# nhập object cho class\n",
    "input_obj = [\"FPTS\", \"Ban le\", \"Cong nghe\"]\n",
    "fpts = Company.from_list(input_obj)\n",
    "fpts.thongtin()"
   ]
  },
  {
   "cell_type": "code",
   "execution_count": null,
   "id": "09e698de-a92f-4172-af87-6a3d225d3f69",
   "metadata": {},
   "outputs": [
    {
     "name": "stdout",
     "output_type": "stream",
     "text": [
      "21\n",
      "26\n",
      "True\n"
     ]
    }
   ],
   "source": []
  },
  {
   "cell_type": "code",
   "execution_count": null,
   "metadata": {
    "collapsed": false
   },
   "outputs": [],
   "source": [
    "fpts.__dict__"
   ]
  },
  {
   "cell_type": "markdown",
   "metadata": {
    "collapsed": false
   },
   "source": [
    "#### Static method"
   ]
  },
  {
   "cell_type": "code",
   "execution_count": null,
   "id": "fca18eec-7334-415a-8ad2-f40067908edb",
   "metadata": {},
   "outputs": [
    {
     "data": {
      "text/plain": [
       "Cong ty Techcombank lam nganh Ngan hang, linh vuc Tai Chinh, dat nuoc VietNam"
      ]
     },
     "execution_count": 4,
     "metadata": {},
     "output_type": "execute_result"
    }
   ],
   "source": [
    "Company.get_info_class()"
   ]
  },
  {
   "cell_type": "code",
   "execution_count": null,
   "id": "b46270b0-354a-4340-ae81-b5b47ba39249",
   "metadata": {},
   "outputs": [
    {
     "name": "stdout",
     "output_type": "stream",
     "text": [
      "Day la Techcombank, nganh Tai Chinh\n"
     ]
    }
   ],
   "source": [
    "from datetime import date \n",
    "\n",
    "class Person: \n",
    "    def __init__(self, name, age): \n",
    "        self.name = name \n",
    "        self.age = age \n",
    "\n",
    "    # a class method to create a Person object by birth year. \n",
    "    # class method để tạo ra các factory methods. Các factory methods sẽ trả về đối tượng của lớp (tương tự như một hàm constructor) cho các trường hợp sử dụng khác nhau.\n",
    "    @classmethod\n",
    "    def fromBirthYear(cls, name, year): \n",
    "        return cls(name, date.today().year - year) \n",
    "\n",
    "    # a static method to check if a Person is adult or not. \n",
    "    # static methods để tạo ra các hàm tiện ích (utility functions).\n",
    "    @staticmethod\n",
    "    def isAdult(age): \n",
    "        return age > 18\n",
    "    \n",
    "person1 = Person('mayank', 21) \n",
    "person2 = Person.fromBirthYear('mayank', 1996) \n",
    "\n",
    "print( person1.age) \n",
    "print( person2.age )\n",
    "\n",
    "# print the result \n",
    "print( Person.isAdult(22)) "
   ]
  },
  {
   "cell_type": "markdown",
   "metadata": {
    "collapsed": false
   },
   "source": [
    "#### Special Method"
   ]
  },
  {
   "cell_type": "code",
   "execution_count": null,
   "id": "4c7b8135-2ade-485a-b822-04e2dee9e663",
   "metadata": {},
   "outputs": [
    {
     "data": {
      "text/plain": [
       "'Hoa Phat_Techcombank'"
      ]
     },
     "execution_count": 19,
     "metadata": {},
     "output_type": "execute_result"
    }
   ],
   "source": [
    "class Company:\n",
    "    # Attribute dac trung cua class\n",
    "    country = \"VietNam\"\n",
    "    number_of_company = 0\n",
    "\n",
    "    # khai bao thuoc tinh\n",
    "    def __init__(self, name_para, sector_para, industry_para):\n",
    "        self.name = name_para\n",
    "        self.sector = sector_para\n",
    "        self.industry = industry_para\n",
    "        self.stt = Company.number_of_company + 1\n",
    "        Company.number_of_company += 1\n",
    "    \n",
    "    \n",
    "    # method khi print object\n",
    "    # Nếu  không có phương thức __str__ nào được định nghĩa, thì hàm print t (hoặc print str(t)) sẽ sử dụng __repr__\n",
    "    def __str__(self):\n",
    "        return \"Day la {}, nganh {}\".format(self.name, self.sector)\n",
    "\n",
    "    # method khi goi object (output)\n",
    "    # Nếu không có phương thức __repr__ nào được định nghĩa, thì phương thức mặc định sẽ được sử dụng.\n",
    "    def __repr__(self):\n",
    "        return \"Cong ty {} lam nganh {}, linh vuc {}, dat nuoc {}\".format(\n",
    "            self.name,\n",
    "            self.industry,\n",
    "            self.sector,\n",
    "            Company.country,  # có thể chứa cả attribute đặc trưng của class\n",
    "        )\n",
    "\n",
    "    def __call__(self): # chạy object như hàm khi call ()\n",
    "        print(\"chạy như hàm...\")\n",
    "    \n",
    "    def __len__(self):\n",
    "        # print(\"chạy trên method __len__\", len(self.name))\n",
    "        return len(self.name)\n",
    "\n",
    "    def __add__(self, other):\n",
    "        return self.name + \"_\" + other.name\n",
    "\n",
    "\n",
    "hpg = Company(\"Hoa Phat\", \"Xay Dung\", \"San xuat thep\")\n",
    "tcb = Company(\"Techcombank\", \"Tai Chinh\", \"Ngan hang\")"
   ]
  },
  {
   "cell_type": "code",
   "execution_count": null,
   "id": "40c43077-0dc0-40f6-89e6-4d0d6e577eaa",
   "metadata": {},
   "outputs": [
    {
     "data": {
      "text/plain": [
       "'Hoa Phat_Techcombank'"
      ]
     },
     "execution_count": 20,
     "metadata": {},
     "output_type": "execute_result"
    }
   ],
   "source": [
    "tcb # call __str__"
   ]
  },
  {
   "cell_type": "code",
   "execution_count": null,
   "id": "9c35e4fa-9ac5-47a9-b2c6-541c9da63233",
   "metadata": {},
   "outputs": [
    {
     "data": {
      "text/plain": [
       "8"
      ]
     },
     "execution_count": 30,
     "metadata": {},
     "output_type": "execute_result"
    }
   ],
   "source": [
    "print(tcb) # call __repr__"
   ]
  },
  {
   "cell_type": "code",
   "execution_count": null,
   "id": "b7c7b859-6cea-4533-b010-7bd8461571a2",
   "metadata": {},
   "outputs": [
    {
     "name": "stdout",
     "output_type": "stream",
     "text": [
      "Day la Hoa Phat, nganh Xay Dung\n"
     ]
    }
   ],
   "source": [
    "tcb() # method __call__"
   ]
  },
  {
   "cell_type": "code",
   "execution_count": null,
   "metadata": {
    "collapsed": false
   },
   "outputs": [],
   "source": [
    "Company.__add__(hpg, tcb)"
   ]
  },
  {
   "cell_type": "code",
   "execution_count": null,
   "id": "5552a6c9-26fd-43ae-9d83-1ad64b5bed9d",
   "metadata": {},
   "outputs": [],
   "source": [
    "hpg + tcb # method __add__"
   ]
  },
  {
   "cell_type": "code",
   "execution_count": null,
   "id": "01d8cdbd-41f0-49b7-8dbf-a670e89ad87c",
   "metadata": {},
   "outputs": [],
   "source": [
    "len(hpg)"
   ]
  },
  {
   "cell_type": "code",
   "execution_count": null,
   "id": "a1de1cd9-c6c8-4094-b0ee-28a38794f12d",
   "metadata": {},
   "outputs": [
    {
     "name": "stdout",
     "output_type": "stream",
     "text": [
      "3\n",
      "Cong ty Vinhomes lam nganh Ban le, linh vuc Nha dat\n"
     ]
    }
   ],
   "source": [
    "print(hpg)"
   ]
  },
  {
   "cell_type": "markdown",
   "metadata": {
    "collapsed": false
   },
   "source": [
    "### Kế thừa\n",
    "- tạo một class mới kế thừa các thuộc tính và phương thức của class khác"
   ]
  },
  {
   "cell_type": "code",
   "execution_count": null,
   "id": "55f2acee-7d4c-40e2-803f-85369d19cf23",
   "metadata": {},
   "outputs": [
    {
     "name": "stdout",
     "output_type": "stream",
     "text": [
      "Base1\n",
      "Base2\n",
      "Derived\n",
      "Cafedev1 Cafedev2\n"
     ]
    }
   ],
   "source": [
    "class Stock(Company):  # kế thừa thuộc tính của Company, có thể kế thừa nhiều class khác bằng cách Stock(X1,X2,...)\n",
    "\n",
    "    country = \"VNNNNN\"  # sửa lại attribute, không dùng cái của class cũ\n",
    "    exchange = \"HOSE\"\n",
    "\n",
    "    def __init__(\n",
    "        self, name_para, sector_para, industry_para, stock_price_para, volumn_stock_para\n",
    "    ):\n",
    "        super().__init__(\n",
    "            name_para, sector_para, industry_para\n",
    "        )  # Viết lại nhanh attribute trong init constructor của class cũ\n",
    "        # or cach khac\n",
    "        Company.__init__(self,name_para, sector_para, industry_para)\n",
    "        self.stock_price = stock_price_para  # thêm các attribute của class mới\n",
    "        self.volumn_stock = volumn_stock_para\n",
    "\n",
    "    # tạo method mới\n",
    "    def trading_values(self):\n",
    "        return (self.stock_price) * (self.volumn_stock)\n",
    "\n",
    "    # sua lai method cua class ke thua\n",
    "    @classmethod\n",
    "    def from_list(cls, lis):  # method get object thường bắt đầu bới from\n",
    "        name_para, industry_para, sector_para, stock_price_para, volumn_stock_para = lis\n",
    "        return cls(\n",
    "            name_para, industry_para, sector_para, stock_price_para, volumn_stock_para\n",
    "        )"
   ]
  },
  {
   "cell_type": "code",
   "execution_count": null,
   "metadata": {
    "collapsed": false
   },
   "outputs": [],
   "source": [
    "vhm = Stock.from_list([\"Vinhomes\", \"Nha dat\", \"Ban le\", 120000, 1500000])"
   ]
  },
  {
   "cell_type": "code",
   "execution_count": null,
   "id": "8702a2e0-76a4-4159-9c0f-15841a414209",
   "metadata": {},
   "outputs": [
    {
     "name": "stdout",
     "output_type": "stream",
     "text": [
      "13\n",
      "12\n",
      "11\n"
     ]
    }
   ],
   "source": [
    "# su dung attrubute va method cua class cu\n",
    "print(vhm.number_of_company)\n",
    "print(vhm.thongtin())"
   ]
  },
  {
   "cell_type": "code",
   "execution_count": null,
   "id": "142d1c15-974a-4083-af6d-dcbd2dc47740",
   "metadata": {},
   "outputs": [
    {
     "name": "stdout",
     "output_type": "stream",
     "text": [
      "day la 1\n",
      "day la 2\n"
     ]
    }
   ],
   "source": [
    "# use attribute va method rieng\n",
    "print(vhm.country)\n",
    "print(vhm.trading_values())"
   ]
  },
  {
   "cell_type": "code",
   "execution_count": null,
   "metadata": {
    "collapsed": false
   },
   "outputs": [],
   "source": [
    "# đa kế thừa: kế thừa nhiều class cùng 1 lúc\n",
    "# Python example to show working of multiple  \n",
    "# inheritance \n",
    "class Base1(object): \n",
    "    def __init__(self): \n",
    "        self.str1 = \"Cafedev1\"\n",
    "        print(\"Base1\")\n",
    "\n",
    "class Base2(object): \n",
    "    def __init__(self): \n",
    "        self.str2 = \"Cafedev2\"        \n",
    "        print(\"Base2\")\n",
    "\n",
    "class Derived(Base1, Base2): \n",
    "    def __init__(self): \n",
    "\n",
    "        # Calling constructors of Base1 \n",
    "        # and Base2 classes \n",
    "        Base1.__init__(self) \n",
    "        Base2.__init__(self) \n",
    "        print(\"Derived\")\n",
    "\n",
    "    def printStrs(self): \n",
    "        print(self.str1, self.str2) \n",
    "\n",
    "\n",
    "ob = Derived() \n",
    "ob.printStrs()"
   ]
  },
  {
   "cell_type": "markdown",
   "metadata": {
    "collapsed": false
   },
   "source": [
    "### Iterators and Generators\n",
    "\n",
    "Iterators là các đối tượng mà chúng ta có thể thực hiện các phép lặp/duyệt trên chúng.\n",
    "\n",
    "– Python sử dụng phương thức `__iter__()` để trả về một đối tượng iterator của class\n",
    "\n",
    "– Đối tượng `iterator` sau đó sẽ sử dụng phương thức `__next__()` để lấy được next item – phần tử tiếp theo.\n",
    "\n",
    "– Vòng lặp for sẽ dừng lại khi ngoại lệ `StopIteration Exception` được kích hoạt."
   ]
  },
  {
   "cell_type": "code",
   "execution_count": null,
   "id": "6413f338-aea0-4752-ac7c-1d6d1735c06d",
   "metadata": {},
   "outputs": [
    {
     "name": "stdout",
     "output_type": "stream",
     "text": [
      "India 1111\n",
      "India 2222\n",
      "India 3333\n",
      "USA 1111\n",
      "USA 2222\n",
      "USA 3333\n"
     ]
    }
   ],
   "source": [
    "class PrintList:\n",
    "    def __init__(self, data): \n",
    "        self.data = data \n",
    "        self.index = len(data)         \n",
    "  \n",
    "    def __iter__(self): \n",
    "        return self\n",
    "      \n",
    "    def __next__(self): \n",
    "        if self.index == 0: \n",
    "            raise StopIteration     \n",
    "        self.index-= 1\n",
    "        return self.data[self.index] + 10\n",
    "    \n",
    "for i in PrintList([1,2,3]):\n",
    "    print(i)"
   ]
  },
  {
   "cell_type": "code",
   "execution_count": null,
   "metadata": {
    "collapsed": false
   },
   "outputs": [],
   "source": [
    "# Sử dụng generator là một cách khác để tạo ra các iterators\n",
    "\n",
    "class cophieu():\n",
    "    def __init__(self, data): \n",
    "        self.data = data \n",
    "        self.index = len(data)\n",
    "        \n",
    "    def inLanLuot(self):\n",
    "        for i in self.data:\n",
    "            yield 'day la ' + str(i)\n",
    "            \n",
    "for i in cophieu([1,2]).inLanLuot():\n",
    "    print(i)"
   ]
  },
  {
   "cell_type": "markdown",
   "metadata": {
    "collapsed": false
   },
   "source": [
    "### Đa hình"
   ]
  },
  {
   "cell_type": "code",
   "execution_count": null,
   "id": "65b74216-6ee7-474e-b0f9-d341ee9541bf",
   "metadata": {},
   "outputs": [],
   "source": [
    "# ghi đè phương thức\n",
    "class Bird: \n",
    "  def intro(self): \n",
    "    print(\"There are many types of birds.\") \n",
    "      \n",
    "  def flight(self): \n",
    "    print(\"Most of the birds can fly but some cannot.\") \n",
    "    \n",
    "class sparrow(Bird): \n",
    "  def flight(self): \n",
    "    print(\"Sparrows can fly.\") \n",
    "      \n",
    "class ostrich(Bird): \n",
    "  def flight(self): \n",
    "    print(\"Ostriches cannot fly.\") \n",
    "      \n",
    "obj_bird = Bird() \n",
    "obj_spr = sparrow() \n",
    "obj_ost = ostrich() \n",
    "  \n",
    "obj_bird.intro() \n",
    "obj_bird.flight() \n",
    "  \n",
    "obj_spr.intro() \n",
    "obj_spr.flight() \n",
    "  \n",
    "obj_ost.intro() \n",
    "obj_ost.flight() "
   ]
  },
  {
   "cell_type": "code",
   "execution_count": null,
   "id": "14a346c4-ac2a-45cc-9e25-8df0d465b508",
   "metadata": {},
   "outputs": [],
   "source": [
    "class India(): \n",
    "    def capital(self): \n",
    "        print(\"India 1111\") \n",
    "\n",
    "    def language(self): \n",
    "        print(\"India 2222\") \n",
    "\n",
    "    def type(self): \n",
    "        print(\"India 3333\") \n",
    "\n",
    "class USA(): \n",
    "    def capital(self): \n",
    "        print(\"USA 1111\") \n",
    "\n",
    "    def language(self): \n",
    "        print(\"USA 2222\") \n",
    "\n",
    "    def type(self): \n",
    "        print(\"USA 3333\") \n",
    "\n",
    "def func(obj): \n",
    "    obj.capital() \n",
    "    obj.language() \n",
    "    obj.type() \n",
    "\n",
    "obj_ind = India() \n",
    "obj_usa = USA() \n",
    "\n",
    "func(obj_ind) \n",
    "func(obj_usa) "
   ]
  },
  {
   "cell_type": "markdown",
   "metadata": {
    "collapsed": false
   },
   "source": [
    "### Lớp decorator\n",
    "Xử lý cho hàm deco phức tạp"
   ]
  },
  {
   "cell_type": "code",
   "execution_count": null,
   "id": "5dec7ef6-f351-402a-ad9d-97c4a80bc09c",
   "metadata": {},
   "outputs": [
    {
     "name": "stdout",
     "output_type": "stream",
     "text": [
      "return  0\n",
      "return  1\n",
      "return  2\n",
      "runtime =  0:00:03.016835\n"
     ]
    }
   ],
   "source": [
    "class decoclass(object):\n",
    "    def __init__(self, f):\n",
    "        self.f = f\n",
    "    def __call__(self, *args, **kwargs):\n",
    "        # logic trước khi gọi hàm f\n",
    "        print('decorator initialised')\n",
    "        self.f(*args, **kwargs)\n",
    "        print('decorator terminated')\n",
    "        # logic sau khi gọi hàm f\n",
    "\n",
    "@decoclass\n",
    "def hello(name,name2):\n",
    "    print(f'Hello, {name}. Welcome to {name2} heaven!')\n",
    "\n",
    "hello('XXX','YYY')"
   ]
  },
  {
   "cell_type": "code",
   "execution_count": null,
   "metadata": {
    "collapsed": false
   },
   "outputs": [],
   "source": [
    "# tạo hàm decorator tính time\n",
    "from datetime import datetime\n",
    "from time import sleep"
   ]
  },
  {
   "cell_type": "code",
   "execution_count": null,
   "id": "c8a76812-c1ce-4317-a08a-14c27d7a853f",
   "metadata": {},
   "outputs": [],
   "source": [
    "# tạo hàm decorator tính time\n",
    "from datetime import datetime\n",
    "from time import sleep\n",
    "\n",
    "class decoclass(object):\n",
    "    def __init__(self, f):\n",
    "        self.f = f\n",
    "    def __call__(self, *args, **kwargs):\n",
    "        # logic trước khi gọi hàm f\n",
    "        print('decorator initialised')\n",
    "        self.f(*args, **kwargs)\n",
    "        print('decorator terminated')\n",
    "        # logic sau khi gọi hàm f\n",
    "        \n",
    "    def runtime(self,*arg):\n",
    "        start = datetime.now()\n",
    "        decoclass(self.f(*args))\n",
    "        print(\"runtime = \",datetime.now()-start)\n",
    "        \n",
    "@decoclass.runtime\n",
    "def print_second1():\n",
    "    for i in range(3):\n",
    "        print('return ', i)\n",
    "        sleep(1)\n",
    "        \n",
    "print_second1()"
   ]
  },
  {
   "cell_type": "code",
   "execution_count": null,
   "id": "f67fbf71-3e38-4c0d-bf1a-a89374f980d0",
   "metadata": {},
   "outputs": [
    {
     "name": "stdout",
     "output_type": "stream",
     "text": [
      "Khong\n",
      "Dat\n",
      "Khong-Dat@team.com\n",
      "Khong Dat\n"
     ]
    }
   ],
   "source": []
  },
  {
   "cell_type": "code",
   "execution_count": null,
   "id": "43ab8705-f927-4c81-8b9b-c27ce23ae19d",
   "metadata": {},
   "outputs": [
    {
     "name": "stdout",
     "output_type": "stream",
     "text": [
      "An\n",
      "Viet\n",
      "Khong-Dat@team.com\n",
      "An Viet\n"
     ]
    }
   ],
   "source": [
    "def runtime(f, *args, **kwargs):\n",
    "    start = datetime.now()\n",
    "    f()\n",
    "    print(\"runtime = \",datetime.now()-start)\n",
    "    \n",
    "@runtime\n",
    "def print_second():\n",
    "    for i in range(3):\n",
    "        print('return ', i)\n",
    "        sleep(1)\n",
    "        \n",
    "print_second"
   ]
  },
  {
   "cell_type": "markdown",
   "metadata": {
    "collapsed": false
   },
   "source": [
    "### Special decorator\n",
    "```python\n",
    "    @property : biến method thành attribute\n",
    "    @\"method\".setter : gán value cho method(có property), có thể sửa các attribute ban đầu có liên quan\n",
    "    @\"method\".deleter : xóa value cho method(có property), có thể xóa các attribute ban đầu có liên quan\n",
    "```"
   ]
  },
  {
   "cell_type": "code",
   "execution_count": null,
   "id": "91db9f9c-3710-4c96-9d7c-384c61f343fd",
   "metadata": {},
   "outputs": [
    {
     "data": {
      "text/plain": [
       "'Khanh'"
      ]
     },
     "execution_count": 41,
     "metadata": {},
     "output_type": "execute_result"
    }
   ],
   "source": [
    "class Teamm:\n",
    "    def __init__(self, ho, ten):\n",
    "        self.ho = ho\n",
    "        self.ten = ten\n",
    "        self.email = ho + \"-\" + ten + \"@team.com\"\n",
    "\n",
    "    def ho_va_ten(self):  # regular method\n",
    "        return \"{} {}\".format(self.ho, self.ten)\n",
    "\n",
    "\n",
    "ktd = Teamm(\"Khong\", \"Dat\")"
   ]
  },
  {
   "cell_type": "code",
   "execution_count": null,
   "id": "e7d41d24-9d46-4d71-80c1-94b0dabc46dc",
   "metadata": {},
   "outputs": [
    {
     "name": "stdout",
     "output_type": "stream",
     "text": [
      "None\n"
     ]
    }
   ],
   "source": [
    "print(ktd.ho)\n",
    "print(ktd.ten)\n",
    "print(ktd.email)\n",
    "print(ktd.ho_va_ten())"
   ]
  },
  {
   "cell_type": "code",
   "execution_count": null,
   "metadata": {
    "collapsed": false
   },
   "outputs": [],
   "source": [
    "# thử modify attribute\n",
    "ktd.ho = \"An\"\n",
    "ktd.ten = \"Viet\"\n",
    "\n",
    "print(ktd.ho)\n",
    "print(ktd.ten)\n",
    "print(ktd.email)  # email ko bị đổi theo\n",
    "print(ktd.ho_va_ten())"
   ]
  },
  {
   "cell_type": "code",
   "execution_count": null,
   "metadata": {
    "collapsed": false
   },
   "outputs": [],
   "source": [
    "class Teamm:\n",
    "    def __init__(self, ho, ten):\n",
    "        self.ho = ho\n",
    "        self.ten = ten\n",
    "\n",
    "    @property  # bien method thanh attribute\n",
    "    def email(self):  # regular method\n",
    "        return self.ho + \"_\" + self.ten + \"@team.com\"\n",
    "\n",
    "    @property  # bien method thanh attribute\n",
    "    def ho_va_ten(self):  # regular method\n",
    "        return \"{} {}\".format(self.ho, self.ten)\n",
    "\n",
    "    @ho_va_ten.setter  # method ho_va_ten có thể gán giá trị và sửa giá trị attribute ho, ten\n",
    "    def ho_va_ten(self, ten_moi):\n",
    "        ho_moi, ten_moi = ten_moi.split(\" \")\n",
    "        self.ho = ho_moi\n",
    "        self.ten = ten_moi\n",
    "\n",
    "    @ho_va_ten.deleter  # method ho_va_ten có thể gán giá trị và sửa giá trị attribute ho, ten\n",
    "    def ho_va_ten(self):\n",
    "        self.ho = None\n",
    "        self.ten = None\n",
    "\n",
    "\n",
    "ktd = Teamm(\"Khong\", \"Dat\")"
   ]
  },
  {
   "cell_type": "code",
   "execution_count": null,
   "metadata": {
    "collapsed": false
   },
   "outputs": [],
   "source": [
    "ktd.ho_va_ten = \"An Khanh\"\n",
    "ktd.ten"
   ]
  },
  {
   "cell_type": "code",
   "execution_count": null,
   "metadata": {
    "collapsed": false
   },
   "outputs": [],
   "source": [
    "del ktd.ho_va_ten\n",
    "print(ktd.ten)"
   ]
  },
  {
   "cell_type": "markdown",
   "metadata": {
    "collapsed": false
   },
   "source": [
    "### Metaclass\n",
    "\n",
    "Hầu hết thời gian chúng ta sẽ không sử dụng các metaclasses, chúng giống như là ma thuật đen vậy, và thường được coi là một thứ gì đó hết sức phức tạp, nhưng vẫn có một số trường hợp mà chúng ta sử dụng đến các metaclasses, đó là:\n",
    "\n",
    "– Như chúng ta đã thấy trong ví dụ trên, các metaclasses sẽ lan truyền từ trên xuống dưới trong hệ thống phân cấp thừa kế (inheritance hierachy). Do đó nó cũng sẽ ảnh hưởng đến tất cả các lớp con. Nếu gặp trường hợp như vậy, chúng ta nên sử dụng các metaclasses.\n",
    "\n",
    "– Khi chúng ta muốn thay đổi các classes một cách tự động, khi nó được tạo ra.\n",
    "\n",
    "– Nếu bạn là một API developer, bạn có thể sử dụng các metaclasses.\n",
    "\n",
    "Và có một trích dẫn của ông Tim Peters như sau:\n",
    "\n",
    "“Metaclasses là loại ma thuật sâu sắc mà 99% người dùng không bao giờ nên lo lắng về chúng. Nếu bạn phân vân liệu rằng mình có cần tới chúng hay không, điều đó có nghĩa là bạn không cần tới chúng đâu (người mà thật sự cần tới chúng sẽ biết chắc chắn rằng họ cần chúng, mà không cần phải tìm kiểm câu trả lời cho lý do vì sao”."
   ]
  }
 ],
 "metadata": {
  "kernelspec": {
   "display_name": "Python 3 (ipykernel)",
   "language": "python",
   "name": "python3"
  },
  "language_info": {
   "codemirror_mode": {
    "name": "ipython",
    "version": 3
   },
   "file_extension": ".py",
   "mimetype": "text/x-python",
   "name": "python",
   "nbconvert_exporter": "python",
   "pygments_lexer": "ipython3",
   "version": "3.11.9"
  },
  "toc-autonumbering": true
 },
 "nbformat": 4,
 "nbformat_minor": 5
}
