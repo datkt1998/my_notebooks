{
 "cells": [
  {
   "cell_type": "markdown",
   "metadata": {},
   "source": [
    "# SQL"
   ]
  },
  {
   "cell_type": "markdown",
   "metadata": {
    "toc-hr-collapsed": true
   },
   "source": [
    "## Definitions"
   ]
  },
  {
   "cell_type": "markdown",
   "metadata": {},
   "source": [
    "### SQL \n",
    "\n",
    "Structured Query Language: A language for querying and manipulating data."
   ]
  },
  {
   "cell_type": "markdown",
   "metadata": {},
   "source": [
    "### DDL \n",
    "\n",
    "Data Definition Language: Create and modify structures in the database (tables, views, indexes, etc.)"
   ]
  },
  {
   "cell_type": "markdown",
   "metadata": {},
   "source": [
    "### DML \n",
    "\n",
    "Data Manipulation Language: SELECT, INSERT, UPDATE, DELETE etc. Used to store, modify, retrieve, delete and update data in database."
   ]
  },
  {
   "cell_type": "markdown",
   "metadata": {},
   "source": [
    "### DCL \n",
    "\n",
    "Data Control Language: Rights, permissions and other controls of the database system.\n",
    "\n",
    "- Khi kết nối tới database sẽ bắt đầu 1 session, trong session bao gồm nhiều transaction\n",
    "- Các công lệnh DCL hoặc DDL sẽ end transaction\n",
    "- Câu lệnh DCL sẽ end session"
   ]
  },
  {
   "cell_type": "markdown",
   "metadata": {},
   "source": [
    "### Data \n",
    "\n",
    "The information that is stored in the database."
   ]
  },
  {
   "cell_type": "markdown",
   "metadata": {},
   "source": [
    "### Database \n",
    "\n",
    "A collection of data."
   ]
  },
  {
   "cell_type": "markdown",
   "metadata": {},
   "source": [
    "### Schema \n",
    "\n",
    "The structure of the database. The tables, views, indexes, etc."
   ]
  },
  {
   "cell_type": "markdown",
   "metadata": {},
   "source": [
    "### Table \n",
    "\n",
    "A collection of data organized in rows and columns."
   ]
  },
  {
   "cell_type": "markdown",
   "metadata": {},
   "source": [
    "### Row \n",
    "\n",
    "A single record in a table."
   ]
  },
  {
   "cell_type": "markdown",
   "metadata": {},
   "source": [
    "### Column \n",
    "\n",
    "A single field in a table."
   ]
  },
  {
   "cell_type": "markdown",
   "metadata": {},
   "source": [
    "### Primary Key \n",
    "\n",
    "A unique identifier for a row in a table."
   ]
  },
  {
   "cell_type": "markdown",
   "metadata": {},
   "source": [
    "### Foreign Key \n",
    "\n",
    "A field in a table that is a primary key in another table."
   ]
  },
  {
   "cell_type": "markdown",
   "metadata": {},
   "source": [
    "### View \n",
    "\n",
    "A virtual table that is the result of a query."
   ]
  },
  {
   "cell_type": "markdown",
   "metadata": {},
   "source": [
    "### Index \n",
    "\n",
    "A data structure that improves the speed of data retrieval."
   ]
  },
  {
   "cell_type": "markdown",
   "metadata": {},
   "source": [
    "### Query \n",
    "\n",
    "A request for data or information from a database table or combination of tables."
   ]
  },
  {
   "cell_type": "markdown",
   "metadata": {},
   "source": [
    "### Query Language \n",
    "\n",
    "A language for requesting information from a database."
   ]
  },
  {
   "cell_type": "markdown",
   "metadata": {},
   "source": [
    "### Postgres \n",
    "\n",
    "A relational database management system."
   ]
  },
  {
   "cell_type": "markdown",
   "metadata": {},
   "source": [
    "### Database Client \n",
    "\n",
    "A program that allows you to connect to a Postgres database and run queries."
   ]
  },
  {
   "cell_type": "markdown",
   "metadata": {},
   "source": [
    "### Database Server \n",
    "\n",
    "A program that runs on a computer and manages the database."
   ]
  },
  {
   "cell_type": "markdown",
   "metadata": {},
   "source": [
    "### Database Management System \n",
    "\n",
    "A program that manages the database."
   ]
  },
  {
   "cell_type": "markdown",
   "metadata": {},
   "source": [
    "### Database Administrator \n",
    "\n",
    "A person who manages the database."
   ]
  },
  {
   "cell_type": "markdown",
   "metadata": {},
   "source": [
    "### Database Developer \n",
    "\n",
    "A person who creates and maintains the database."
   ]
  },
  {
   "cell_type": "markdown",
   "metadata": {},
   "source": [
    "### Database User \n",
    "\n",
    "A person who uses the database."
   ]
  },
  {
   "cell_type": "markdown",
   "metadata": {
    "colab_type": "text",
    "id": "pFfQBb54Zl1Z"
   },
   "source": [
    "## Connection"
   ]
  },
  {
   "cell_type": "code",
   "execution_count": 11,
   "metadata": {},
   "outputs": [],
   "source": [
    "#chạy code ko cần pandas để hiển thị\n",
    "with cx_Oracle.connect('SYSTEM/21061998@localhost/db12c') as connection:\n",
    "    cursor = connection.cursor()\n",
    "    query=cursor.execute(\"select * from allstocktest\") # viết SQL query code\n",
    "    connection.commit() # chạy code query ở sql"
   ]
  },
  {
   "cell_type": "code",
   "execution_count": 17,
   "metadata": {},
   "outputs": [
    {
     "name": "stdout",
     "output_type": "stream",
     "text": [
      "5000\n"
     ]
    }
   ],
   "source": [
    "class Connection(cx_Oracle.Connection):\n",
    "    def cursor(self):\n",
    "        cursor = super(Connection, self).cursor()\n",
    "        return cursor\n",
    "\n",
    "conn = Connection(\"SYSTEM/21061998@localhost/db12c\")\n",
    "sql=\"select * from allstocktest\"\n",
    "df = pd.read_sql_query(sql, conn)"
   ]
  },
  {
   "cell_type": "code",
   "execution_count": 4,
   "metadata": {},
   "outputs": [],
   "source": [
    "import SQLcode as sql\n",
    "import pandas as pd\n",
    "import cx_Oracle\n",
    "conn = cx_Oracle.Connection('SYSTEM','21061998','192.168.0.100/db12c')\n",
    "curs = conn.cursor()"
   ]
  },
  {
   "cell_type": "markdown",
   "metadata": {},
   "source": [
    "- Câu SQL không phân biệt chữ HOA vs thường\n",
    "- Kết thúc câu SQL bằng `;`"
   ]
  },
  {
   "cell_type": "markdown",
   "metadata": {},
   "source": [
    "## Câu lệnh DDL"
   ]
  },
  {
   "cell_type": "markdown",
   "metadata": {},
   "source": [
    "- khi kết nối tới database sẽ bắt đầu 1 session, trong session bao gồm nhiều transaction\n",
    "- Các công lệnh DCL hoặc DDL sẽ end transaction\n",
    "- Câu lệnh DCL sẽ end session"
   ]
  },
  {
   "cell_type": "markdown",
   "metadata": {},
   "source": [
    "### Create table"
   ]
  },
  {
   "cell_type": "markdown",
   "metadata": {},
   "source": [
    "```sql\n",
    "CREATE TABLE table_name (\n",
    "    column1 datatype,\n",
    "    column2 datatype,\n",
    "    column3 datatype,\n",
    "   ....\n",
    ");\n",
    "```"
   ]
  },
  {
   "cell_type": "markdown",
   "metadata": {},
   "source": [
    "### Alter table\n",
    "\n",
    "The ALTER TABLE statement is used to add, delete, or modify columns in an existing table.\n",
    "\n",
    "```sql\n",
    "ALTER TABLE table_name\n",
    "ADD column_name datatype;\n",
    "\n",
    "ALTER TABLE table_name\n",
    "DROP COLUMN column_name;\n",
    "\n",
    "ALTER TABLE table_name\n",
    "ALTER COLUMN column_name datatype;\n",
    "```"
   ]
  },
  {
   "cell_type": "markdown",
   "metadata": {},
   "source": [
    "### Insert\n",
    "\n",
    "THÊM DỮ LIỆU VÀO TRONG TABLE\n",
    "\n",
    "**1.cú pháp insert từng row**\n",
    "```sql\n",
    "INSERT INTO table(col1,col2,...)\n",
    "VALUES (val1,val2,...)\n",
    "```\n",
    "\n",
    "**2.cú pháp insert nhiều row theo bảng có sẵn**\n",
    "```sql\n",
    "INSERT INTO table(col1,col2)\n",
    "SELECT to_col1, to_col2\n",
    "FROM TABLE1\n",
    "WHERE conditions\n",
    "```"
   ]
  },
  {
   "cell_type": "markdown",
   "metadata": {},
   "source": [
    "### Update\n",
    "SỬA ROW TRONG TABLE \n",
    "```sql\n",
    "UPDATE table\n",
    "SET col1=value2,col2=value2,...\n",
    "WHERE conditions \n",
    "```\n",
    "`WHERE` điệu kiện các row được update"
   ]
  },
  {
   "cell_type": "markdown",
   "metadata": {},
   "source": [
    "### Delete\n",
    "XÓA ROW TRONG TABLE\n",
    "```sql\n",
    "DELETE [FROM] table\n",
    "WHERE conditions\n",
    "```"
   ]
  },
  {
   "cell_type": "markdown",
   "metadata": {},
   "source": [
    "### Truncate\n",
    "XÓA TOÀN BỘ DATA TRONG TABLE\n",
    "TƯƠNG ĐƯƠNG với `DELETE` mà không có `WHERE`\n",
    "```sql\n",
    "TRUNCATE TABLE table\n",
    "```"
   ]
  },
  {
   "cell_type": "markdown",
   "metadata": {},
   "source": [
    "### Indexing\n",
    "\n",
    "**1. Create index**\n",
    "```sql\n",
    "CREATE INDEX index_name\n",
    "ON table_name (column1, column2, ...);\n",
    "```\n",
    "\n",
    "**2. Remove index**\n",
    "```sql\n",
    "DROP INDEX index_name ON table_name;\n",
    "```"
   ]
  },
  {
   "cell_type": "markdown",
   "metadata": {},
   "source": [
    "## Câu lệnh DCL\n",
    "- **Câu lệnh kết thúc transaction, đồng thời mở ra 1 transaction mới:** `COMMIT`\n",
    "\n",
    "- **Hủy bỏ thao tác transaction này, mở ra 1 transaction mới** `ROLLBACK` [TO savepoint_name]\n",
    "\n",
    "- **Tạo bookmark điểm `COMMIT` or `ROLLBACK`** `SAVEPOINT savepoint_name`"
   ]
  },
  {
   "cell_type": "markdown",
   "metadata": {},
   "source": [
    "```SQL\n",
    "INSERT INTO table(col1,col2)\n",
    "SELECT to_col1, to_col2\n",
    "FROM TABLE1\n",
    "WHERE conditions\n",
    "SAVEPOINT insert_done;\n",
    "\n",
    "DELETE [FROM] table\n",
    "WHERE conditions\n",
    "SAVEPOINT delete_done;\n",
    "\n",
    "ROLLBACK TO insert_done\n",
    "ROLLBACK\n",
    "COMMIT\n",
    "```"
   ]
  },
  {
   "cell_type": "markdown",
   "metadata": {},
   "source": [
    "## Join\n",
    "<img src=\"_images/sql/sql.png\">"
   ]
  },
  {
   "cell_type": "markdown",
   "metadata": {},
   "source": [
    "### Natural Join"
   ]
  },
  {
   "cell_type": "markdown",
   "metadata": {},
   "source": [
    "#### Natural Join\n",
    "**Join tự động 2 table với những column cùng tên với nhau**\n",
    "- Nếu 2 bảng có 2 tên giống nhau nhưng type data khác nhau thì báo `ERROR`\n",
    "- Chọn ROW cùng giá trị giữa các Key-column và ghép lại với nhau\n",
    "\n",
    "```sql\n",
    "SELECT STOCK, CLOSE_P, VOLUME_S\n",
    "FROM ALLSTOCKTEST\n",
    "NATURAL JOIN TABLE2\n",
    "```"
   ]
  },
  {
   "cell_type": "markdown",
   "metadata": {},
   "source": [
    "#### USING \n",
    "\n",
    "Chỉ định 1 or 1 vài columns cùng tên để match\n",
    "```sql\n",
    "SELECT a.STOCK,a.STOCK_ID, a.CLOSE_P, b.VOLUME_S\n",
    "FROM ALLSTOCKTEST a JOIN TABLE2 b\n",
    "USING (STOCK_ID)\n",
    "WHERE STOCK_ID LIKE 'AC%'\n",
    "```\n",
    "   **Chú ý:**\n",
    "- Trong `USING`, `WHERE` sử dụng tên chung chứ ko cần viết tên bảng đứng trước"
   ]
  },
  {
   "cell_type": "markdown",
   "metadata": {},
   "source": [
    "#### ON\n",
    "JOIN TRÊN 1 CONDITIONS NÀO ĐÓ\n",
    "```sql\n",
    "SELECT a.STOCK,a.STOCK_ID,b.STOCK_ID, b.VOLUME_S,c.volume_sp\n",
    "FROM ALLSTOCKTEST a \n",
    "JOIN TABLE2 b ON (a.STOCK_ID = b.STOCK_ID)\n",
    "```\n",
    "   **Join nhiều hơn 2 bảng**\n",
    "```sql\n",
    "SELECT a.STOCK,a.STOCK_ID,b.STOCK_ID, b.VOLUME_S\n",
    "FROM ALLSTOCKTEST a \n",
    "JOIN TABLE2 b ON (a.STOCK_ID = b.STOCK_ID)\n",
    "JOIN TABLE3 c on (b.volumn_s = c.volume_sp)\n",
    "```"
   ]
  },
  {
   "cell_type": "markdown",
   "metadata": {},
   "source": [
    "### Self-Join \n",
    "\n",
    "Join các dữ liệu trong cùng 1 bảng\n",
    "\n",
    "Bảng EMPLOYEES\n",
    "\n",
    "|employee_id|Name_employee|manager_id|\n",
    "|-------|-------|-------|\n",
    "|a1|dat|(null)|\n",
    "|d2|son|a1|\n",
    "|d3|minh|a1|\n",
    "|c4|linh|d2|\n",
    "|c5|TA|d2|\n",
    "|a6|Loan|d2|\n",
    "|a7|XUAN|d2|\n",
    "|a8|DUong|c4|\n",
    "|s9|Chang|c4|\n",
    "|d21|Huyen|a1|\n",
    "|c32|Thao|c4|\n",
    "\n",
    "- Muốn tìm tên của manager : join manager_id với employee_id\n",
    "```sql\n",
    "SELECT e.employee_id, e.Name_employee, m.manager_id, m.Name_employee Name_manager\n",
    "FROM EMPLOYEES e JOIN EMPLOYEES m \n",
    "ON (e.manager_id=m.employee_id)\n",
    "```"
   ]
  },
  {
   "cell_type": "markdown",
   "metadata": {},
   "source": [
    "### Nonequijoins\n",
    "|Rating|lowest_return|highest_return|\n",
    "|-------|-------|-------|\n",
    "|Excellent|0.1|999|\n",
    "|Good|0.05|0.1|\n",
    "|Normal|0.02|0.05|\n",
    "|Poor|-0.02|0.02|\n",
    "|Bad|-999|-0.02|\n",
    "\n",
    "- Dựa vào bản `RAKING_RETURN` để xếp hạng `STOCK` trong bảng `ALLSTOCKTEST`\n",
    "\n",
    "```sql\n",
    "SELECT a.STOCK, a.DAY_TRADING, a.RETURN_S, b.Rating\n",
    "FROM ALLSTOCKTEST a JOIN RAKING_RETURN b\n",
    "ON (a.RETURN_S BETWEEN b.lowest_return AND b.Highest_return)\n",
    "```"
   ]
  },
  {
   "cell_type": "markdown",
   "metadata": {},
   "source": [
    "### Outer Join\n",
    "\n",
    "Lấy Full 1 bên table, kể cả những row ko có data để ghép bên bảng kia\n",
    "\n",
    " `LEFT OUTER JOIN` / `RIGHT OUTER JOIN` / `FULL OUTER JOIN`\n",
    "```sql\n",
    "SELECT a.STOCK, a.DAY_TRADING, a.RETURN_S, b.Rating\n",
    "FROM ALLSTOCKTEST a LEFT OUTER JOIN RAKING_RETURN b\n",
    "ON (a.RETURN_S BETWEEN b.lowest_return AND b.Highest_return)\n",
    "```"
   ]
  },
  {
   "cell_type": "markdown",
   "metadata": {},
   "source": [
    "### Cross Join\n",
    "Join không cần điều kiện gì, mục đích để tạo table có nhiều dòng:\n",
    "`Table1(10rows) x Table2(15rows) = Table3(150rows)`\n",
    "```sql\n",
    "SELECT A.STOCK A.CLOSE_P B.SECTOR_S\n",
    "FROM ALLSTOCKTEST A CROSS JOIN TABLE2 B\n",
    "```"
   ]
  },
  {
   "cell_type": "markdown",
   "metadata": {},
   "source": [
    "## Querying Data"
   ]
  },
  {
   "cell_type": "markdown",
   "metadata": {},
   "source": [
    "### Describe"
   ]
  },
  {
   "cell_type": "markdown",
   "metadata": {},
   "source": [
    "**DESCRISE** table:\n",
    "```sql\n",
    "DESC ALLSTOCKTEST;\n",
    "```"
   ]
  },
  {
   "cell_type": "markdown",
   "metadata": {},
   "source": [
    "### Select table"
   ]
  },
  {
   "cell_type": "markdown",
   "metadata": {},
   "source": [
    "**chọn toàn bộ table**\n",
    "```sql\n",
    "SELECT * \n",
    "FROM TABLETEST;\n",
    "```"
   ]
  },
  {
   "cell_type": "markdown",
   "metadata": {},
   "source": [
    "**chọn 1 số columns table**\n",
    "```sql\n",
    "SELECT col1,col2 \n",
    "FROM TABLETEST;\n",
    "```"
   ]
  },
  {
   "cell_type": "code",
   "execution_count": 11,
   "metadata": {},
   "outputs": [
    {
     "data": {
      "text/html": [
       "<div>\n",
       "<style scoped>\n",
       "    .dataframe tbody tr th:only-of-type {\n",
       "        vertical-align: middle;\n",
       "    }\n",
       "\n",
       "    .dataframe tbody tr th {\n",
       "        vertical-align: top;\n",
       "    }\n",
       "\n",
       "    .dataframe thead th {\n",
       "        text-align: right;\n",
       "    }\n",
       "</style>\n",
       "<table border=\"1\" class=\"dataframe\">\n",
       "  <thead>\n",
       "    <tr style=\"text-align: right;\">\n",
       "      <th></th>\n",
       "      <th>STOCK</th>\n",
       "      <th>DAY_TRADING</th>\n",
       "    </tr>\n",
       "  </thead>\n",
       "  <tbody>\n",
       "    <tr>\n",
       "      <th>0</th>\n",
       "      <td>ACB</td>\n",
       "      <td>2020-01-20</td>\n",
       "    </tr>\n",
       "    <tr>\n",
       "      <th>1</th>\n",
       "      <td>ACB</td>\n",
       "      <td>2020-01-19</td>\n",
       "    </tr>\n",
       "    <tr>\n",
       "      <th>2</th>\n",
       "      <td>ACB</td>\n",
       "      <td>2020-01-18</td>\n",
       "    </tr>\n",
       "    <tr>\n",
       "      <th>3</th>\n",
       "      <td>ACB</td>\n",
       "      <td>2020-01-17</td>\n",
       "    </tr>\n",
       "    <tr>\n",
       "      <th>4</th>\n",
       "      <td>ACB</td>\n",
       "      <td>2020-01-16</td>\n",
       "    </tr>\n",
       "  </tbody>\n",
       "</table>\n",
       "</div>"
      ],
      "text/plain": [
       "  STOCK DAY_TRADING\n",
       "0   ACB  2020-01-20\n",
       "1   ACB  2020-01-19\n",
       "2   ACB  2020-01-18\n",
       "3   ACB  2020-01-17\n",
       "4   ACB  2020-01-16"
      ]
     },
     "execution_count": 11,
     "metadata": {},
     "output_type": "execute_result"
    }
   ],
   "source": [
    "ddl2='SELECT STOCK,DAY_TRADING FROM ALLSTOCKTEST'\n",
    "pd.read_sql_query(ddl2,conn).head()"
   ]
  },
  {
   "cell_type": "code",
   "execution_count": 14,
   "metadata": {},
   "outputs": [
    {
     "data": {
      "text/html": [
       "<div>\n",
       "<style scoped>\n",
       "    .dataframe tbody tr th:only-of-type {\n",
       "        vertical-align: middle;\n",
       "    }\n",
       "\n",
       "    .dataframe tbody tr th {\n",
       "        vertical-align: top;\n",
       "    }\n",
       "\n",
       "    .dataframe thead th {\n",
       "        text-align: right;\n",
       "    }\n",
       "</style>\n",
       "<table border=\"1\" class=\"dataframe\">\n",
       "  <thead>\n",
       "    <tr style=\"text-align: right;\">\n",
       "      <th></th>\n",
       "      <th>STOCK</th>\n",
       "      <th>CLOSE_P</th>\n",
       "      <th>VOLUME_S</th>\n",
       "      <th>CLOSE_P+4</th>\n",
       "      <th>CLOSE_P*VOLUME_S</th>\n",
       "    </tr>\n",
       "  </thead>\n",
       "  <tbody>\n",
       "    <tr>\n",
       "      <th>0</th>\n",
       "      <td>ACB</td>\n",
       "      <td>19</td>\n",
       "      <td>1300000</td>\n",
       "      <td>23</td>\n",
       "      <td>24700000</td>\n",
       "    </tr>\n",
       "    <tr>\n",
       "      <th>1</th>\n",
       "      <td>ACB</td>\n",
       "      <td>20</td>\n",
       "      <td>1257000</td>\n",
       "      <td>24</td>\n",
       "      <td>25140000</td>\n",
       "    </tr>\n",
       "    <tr>\n",
       "      <th>2</th>\n",
       "      <td>ACB</td>\n",
       "      <td>20</td>\n",
       "      <td>1214000</td>\n",
       "      <td>24</td>\n",
       "      <td>24280000</td>\n",
       "    </tr>\n",
       "    <tr>\n",
       "      <th>3</th>\n",
       "      <td>ACB</td>\n",
       "      <td>21</td>\n",
       "      <td>1171000</td>\n",
       "      <td>25</td>\n",
       "      <td>24591000</td>\n",
       "    </tr>\n",
       "    <tr>\n",
       "      <th>4</th>\n",
       "      <td>ACB</td>\n",
       "      <td>22</td>\n",
       "      <td>1128000</td>\n",
       "      <td>26</td>\n",
       "      <td>24816000</td>\n",
       "    </tr>\n",
       "  </tbody>\n",
       "</table>\n",
       "</div>"
      ],
      "text/plain": [
       "  STOCK  CLOSE_P  VOLUME_S  CLOSE_P+4  CLOSE_P*VOLUME_S\n",
       "0   ACB       19   1300000         23          24700000\n",
       "1   ACB       20   1257000         24          25140000\n",
       "2   ACB       20   1214000         24          24280000\n",
       "3   ACB       21   1171000         25          24591000\n",
       "4   ACB       22   1128000         26          24816000"
      ]
     },
     "execution_count": 14,
     "metadata": {},
     "output_type": "execute_result"
    }
   ],
   "source": [
    "ddl2='SELECT STOCK,CLOSE_P,volume_s,Close_p + 4,close_p*volume_s FROM ALLSTOCKTEST'\n",
    "pd.read_sql_query(ddl2,conn).head()"
   ]
  },
  {
   "cell_type": "markdown",
   "metadata": {},
   "source": [
    "**Column Alias** : ký hiệu tên column\n",
    "```sql\n",
    "SELECT col1 col1_alias,col2 as col2_alias, col3 \"col3 alias\",col4 \"Col4!#AliAS\" \n",
    "FROM TABLETEST;\n",
    "```\n",
    "- sử dụng dấu nháy kép `\"` để khi cần ký hiệu có `space `,` ký hiệu đặc biệt ` , hoặc ` phân biệt HOA thường `"
   ]
  },
  {
   "cell_type": "code",
   "execution_count": 29,
   "metadata": {},
   "outputs": [
    {
     "data": {
      "text/html": [
       "<div>\n",
       "<style scoped>\n",
       "    .dataframe tbody tr th:only-of-type {\n",
       "        vertical-align: middle;\n",
       "    }\n",
       "\n",
       "    .dataframe tbody tr th {\n",
       "        vertical-align: top;\n",
       "    }\n",
       "\n",
       "    .dataframe thead th {\n",
       "        text-align: right;\n",
       "    }\n",
       "</style>\n",
       "<table border=\"1\" class=\"dataframe\">\n",
       "  <thead>\n",
       "    <tr style=\"text-align: right;\">\n",
       "      <th></th>\n",
       "      <th>CP</th>\n",
       "      <th>PRICE</th>\n",
       "    </tr>\n",
       "  </thead>\n",
       "  <tbody>\n",
       "    <tr>\n",
       "      <th>0</th>\n",
       "      <td>ACB</td>\n",
       "      <td>19</td>\n",
       "    </tr>\n",
       "    <tr>\n",
       "      <th>1</th>\n",
       "      <td>ACB</td>\n",
       "      <td>20</td>\n",
       "    </tr>\n",
       "    <tr>\n",
       "      <th>2</th>\n",
       "      <td>ACB</td>\n",
       "      <td>20</td>\n",
       "    </tr>\n",
       "    <tr>\n",
       "      <th>3</th>\n",
       "      <td>ACB</td>\n",
       "      <td>21</td>\n",
       "    </tr>\n",
       "    <tr>\n",
       "      <th>4</th>\n",
       "      <td>ACB</td>\n",
       "      <td>22</td>\n",
       "    </tr>\n",
       "  </tbody>\n",
       "</table>\n",
       "</div>"
      ],
      "text/plain": [
       "    CP  PRICE\n",
       "0  ACB     19\n",
       "1  ACB     20\n",
       "2  ACB     20\n",
       "3  ACB     21\n",
       "4  ACB     22"
      ]
     },
     "execution_count": 29,
     "metadata": {},
     "output_type": "execute_result"
    }
   ],
   "source": [
    "ddl2='SELECT STOCK cp,CLOSE_P as price FROM ALLSTOCKTEST'\n",
    "pd.read_sql_query(ddl2,conn).head()"
   ]
  },
  {
   "cell_type": "markdown",
   "metadata": {},
   "source": [
    "**concat chuỗi** by `||` : nối chuỗi"
   ]
  },
  {
   "cell_type": "code",
   "execution_count": 30,
   "metadata": {},
   "outputs": [
    {
     "data": {
      "text/html": [
       "<div>\n",
       "<style scoped>\n",
       "    .dataframe tbody tr th:only-of-type {\n",
       "        vertical-align: middle;\n",
       "    }\n",
       "\n",
       "    .dataframe tbody tr th {\n",
       "        vertical-align: top;\n",
       "    }\n",
       "\n",
       "    .dataframe thead th {\n",
       "        text-align: right;\n",
       "    }\n",
       "</style>\n",
       "<table border=\"1\" class=\"dataframe\">\n",
       "  <thead>\n",
       "    <tr style=\"text-align: right;\">\n",
       "      <th></th>\n",
       "      <th>IDSTOCK</th>\n",
       "    </tr>\n",
       "  </thead>\n",
       "  <tbody>\n",
       "    <tr>\n",
       "      <th>0</th>\n",
       "      <td>ACB20-JAN-20</td>\n",
       "    </tr>\n",
       "    <tr>\n",
       "      <th>1</th>\n",
       "      <td>ACB19-JAN-20</td>\n",
       "    </tr>\n",
       "    <tr>\n",
       "      <th>2</th>\n",
       "      <td>ACB18-JAN-20</td>\n",
       "    </tr>\n",
       "    <tr>\n",
       "      <th>3</th>\n",
       "      <td>ACB17-JAN-20</td>\n",
       "    </tr>\n",
       "    <tr>\n",
       "      <th>4</th>\n",
       "      <td>ACB16-JAN-20</td>\n",
       "    </tr>\n",
       "  </tbody>\n",
       "</table>\n",
       "</div>"
      ],
      "text/plain": [
       "        IDSTOCK\n",
       "0  ACB20-JAN-20\n",
       "1  ACB19-JAN-20\n",
       "2  ACB18-JAN-20\n",
       "3  ACB17-JAN-20\n",
       "4  ACB16-JAN-20"
      ]
     },
     "execution_count": 30,
     "metadata": {},
     "output_type": "execute_result"
    }
   ],
   "source": [
    "ddl2='SELECT STOCK||DAY_TRADING as IDStock FROM ALLSTOCKTEST'\n",
    "pd.read_sql_query(ddl2,conn).head()"
   ]
  },
  {
   "cell_type": "markdown",
   "metadata": {},
   "source": [
    "nối giá trị với 'literal string'\n",
    "```sql\n",
    "SELECT 'giá của ' || STOCK || ' vào ngày' || DAY_TRADING || ' là '||close_p as StatusStock FROM ALLSTOCKTEST\n",
    "```\n",
    "or use q'[string has ' comma]'\n",
    "```sql\n",
    "SELECT 'The ' || STOCK || q'['s close price on ]' || DAY_TRADING || ' is '||close_p as StatusStock FROM ALLSTOCKTEST\n",
    "```\n",
    "or use 2 single quote `''`\n",
    "```sql\n",
    "SELECT 'The ' || STOCK || '''s close price on ' || DAY_TRADING || ' is '||close_p as StatusStock FROM ALLSTOCKTEST\n",
    "```"
   ]
  },
  {
   "cell_type": "markdown",
   "metadata": {},
   "source": [
    "### Distinct\n",
    "\n",
    "select loại bỏ trùng lặp"
   ]
  },
  {
   "cell_type": "markdown",
   "metadata": {},
   "source": [
    "**Select + loại bỏ giá trị trùng lặp**\n",
    "```sql\n",
    "SELECT distinct STOCK FROM ALLSTOCKTEST\n",
    "```"
   ]
  },
  {
   "cell_type": "code",
   "execution_count": 36,
   "metadata": {},
   "outputs": [
    {
     "data": {
      "text/html": [
       "<div>\n",
       "<style scoped>\n",
       "    .dataframe tbody tr th:only-of-type {\n",
       "        vertical-align: middle;\n",
       "    }\n",
       "\n",
       "    .dataframe tbody tr th {\n",
       "        vertical-align: top;\n",
       "    }\n",
       "\n",
       "    .dataframe thead th {\n",
       "        text-align: right;\n",
       "    }\n",
       "</style>\n",
       "<table border=\"1\" class=\"dataframe\">\n",
       "  <thead>\n",
       "    <tr style=\"text-align: right;\">\n",
       "      <th></th>\n",
       "      <th>STOCK</th>\n",
       "    </tr>\n",
       "  </thead>\n",
       "  <tbody>\n",
       "    <tr>\n",
       "      <th>0</th>\n",
       "      <td>ACC</td>\n",
       "    </tr>\n",
       "    <tr>\n",
       "      <th>1</th>\n",
       "      <td>ACB</td>\n",
       "    </tr>\n",
       "    <tr>\n",
       "      <th>2</th>\n",
       "      <td>AVM</td>\n",
       "    </tr>\n",
       "  </tbody>\n",
       "</table>\n",
       "</div>"
      ],
      "text/plain": [
       "  STOCK\n",
       "0   ACC\n",
       "1   ACB\n",
       "2   AVM"
      ]
     },
     "execution_count": 36,
     "metadata": {},
     "output_type": "execute_result"
    }
   ],
   "source": [
    "# loại bỏ trùng lặp\n",
    "ddl2='SELECT distinct STOCK FROM ALLSTOCKTEST'\n",
    "pd.read_sql_query(ddl2,conn)"
   ]
  },
  {
   "cell_type": "markdown",
   "metadata": {},
   "source": [
    "### Filter\n",
    "```sql\n",
    "SELECT col1,col2\n",
    "FROM tabletest\n",
    "WHERE conditions\n",
    "```\n",
    "|Toán tử|Miêu tả|\n",
    "|-------|-------|\n",
    "|=|bằng|\n",
    "|>=|lớn hơn hoặc bằng|\n",
    "|<=|bé hơn hoặc bằng|\n",
    "|>|lớn hơn|\n",
    "|<|bé hơn|\n",
    "|<>|khác|\n",
    "|BETWEEN a AND b |Giá trị nằm trong khoảng a <= x <= b|\n",
    "|IN {SET} |lấy x trong tập set|\n",
    "|LIKE 'a%' |lấy giá trị gần giống a: a123,abc,ax,...|\n",
    "|LIKE 'a_' |lấy giá trị gần giống a: a1,ab,ax,...|\n",
    "|IS NULL |so sánh giá trị null|\n",
    "|AND |và|\n",
    "|OR |hoặc|\n",
    "|NOT |ngược lại|"
   ]
  },
  {
   "cell_type": "code",
   "execution_count": 11,
   "metadata": {},
   "outputs": [
    {
     "data": {
      "text/html": [
       "<div>\n",
       "<style scoped>\n",
       "    .dataframe tbody tr th:only-of-type {\n",
       "        vertical-align: middle;\n",
       "    }\n",
       "\n",
       "    .dataframe tbody tr th {\n",
       "        vertical-align: top;\n",
       "    }\n",
       "\n",
       "    .dataframe thead th {\n",
       "        text-align: right;\n",
       "    }\n",
       "</style>\n",
       "<table border=\"1\" class=\"dataframe\">\n",
       "  <thead>\n",
       "    <tr style=\"text-align: right;\">\n",
       "      <th></th>\n",
       "      <th>STOCK</th>\n",
       "      <th>CLOSE_P</th>\n",
       "    </tr>\n",
       "  </thead>\n",
       "  <tbody>\n",
       "    <tr>\n",
       "      <th>0</th>\n",
       "      <td>ACB</td>\n",
       "      <td>17.00</td>\n",
       "    </tr>\n",
       "    <tr>\n",
       "      <th>1</th>\n",
       "      <td>AVM</td>\n",
       "      <td>22.00</td>\n",
       "    </tr>\n",
       "    <tr>\n",
       "      <th>2</th>\n",
       "      <td>AVM</td>\n",
       "      <td>23.40</td>\n",
       "    </tr>\n",
       "    <tr>\n",
       "      <th>3</th>\n",
       "      <td>AVM</td>\n",
       "      <td>24.44</td>\n",
       "    </tr>\n",
       "    <tr>\n",
       "      <th>4</th>\n",
       "      <td>AVM</td>\n",
       "      <td>23.00</td>\n",
       "    </tr>\n",
       "    <tr>\n",
       "      <th>5</th>\n",
       "      <td>AVM</td>\n",
       "      <td>25.00</td>\n",
       "    </tr>\n",
       "    <tr>\n",
       "      <th>6</th>\n",
       "      <td>AVM</td>\n",
       "      <td>26.00</td>\n",
       "    </tr>\n",
       "  </tbody>\n",
       "</table>\n",
       "</div>"
      ],
      "text/plain": [
       "  STOCK  CLOSE_P\n",
       "0   ACB    17.00\n",
       "1   AVM    22.00\n",
       "2   AVM    23.40\n",
       "3   AVM    24.44\n",
       "4   AVM    23.00\n",
       "5   AVM    25.00\n",
       "6   AVM    26.00"
      ]
     },
     "execution_count": 11,
     "metadata": {},
     "output_type": "execute_result"
    }
   ],
   "source": [
    "ddl2='SELECT STOCK, CLOSE_P FROM ALLSTOCKTEST WHERE Close_p BETWEEN 17 AND 27'\n",
    "pd.read_sql_query(ddl2,conn)"
   ]
  },
  {
   "cell_type": "code",
   "execution_count": 25,
   "metadata": {},
   "outputs": [
    {
     "data": {
      "text/html": [
       "<div>\n",
       "<style scoped>\n",
       "    .dataframe tbody tr th:only-of-type {\n",
       "        vertical-align: middle;\n",
       "    }\n",
       "\n",
       "    .dataframe tbody tr th {\n",
       "        vertical-align: top;\n",
       "    }\n",
       "\n",
       "    .dataframe thead th {\n",
       "        text-align: right;\n",
       "    }\n",
       "</style>\n",
       "<table border=\"1\" class=\"dataframe\">\n",
       "  <thead>\n",
       "    <tr style=\"text-align: right;\">\n",
       "      <th></th>\n",
       "      <th>STOCK</th>\n",
       "      <th>CLOSE_P</th>\n",
       "    </tr>\n",
       "  </thead>\n",
       "  <tbody>\n",
       "    <tr>\n",
       "      <th>0</th>\n",
       "      <td>ACB</td>\n",
       "      <td>12.20</td>\n",
       "    </tr>\n",
       "    <tr>\n",
       "      <th>1</th>\n",
       "      <td>ACB</td>\n",
       "      <td>12.23</td>\n",
       "    </tr>\n",
       "    <tr>\n",
       "      <th>2</th>\n",
       "      <td>ACB</td>\n",
       "      <td>12.44</td>\n",
       "    </tr>\n",
       "    <tr>\n",
       "      <th>3</th>\n",
       "      <td>ACB</td>\n",
       "      <td>12.50</td>\n",
       "    </tr>\n",
       "    <tr>\n",
       "      <th>4</th>\n",
       "      <td>ACB</td>\n",
       "      <td>14.89</td>\n",
       "    </tr>\n",
       "    <tr>\n",
       "      <th>5</th>\n",
       "      <td>ACB</td>\n",
       "      <td>17.00</td>\n",
       "    </tr>\n",
       "    <tr>\n",
       "      <th>6</th>\n",
       "      <td>ACB</td>\n",
       "      <td>14.00</td>\n",
       "    </tr>\n",
       "    <tr>\n",
       "      <th>7</th>\n",
       "      <td>ACC</td>\n",
       "      <td>28.00</td>\n",
       "    </tr>\n",
       "    <tr>\n",
       "      <th>8</th>\n",
       "      <td>ACC</td>\n",
       "      <td>29.00</td>\n",
       "    </tr>\n",
       "    <tr>\n",
       "      <th>9</th>\n",
       "      <td>ACC</td>\n",
       "      <td>30.00</td>\n",
       "    </tr>\n",
       "  </tbody>\n",
       "</table>\n",
       "</div>"
      ],
      "text/plain": [
       "  STOCK  CLOSE_P\n",
       "0   ACB    12.20\n",
       "1   ACB    12.23\n",
       "2   ACB    12.44\n",
       "3   ACB    12.50\n",
       "4   ACB    14.89\n",
       "5   ACB    17.00\n",
       "6   ACB    14.00\n",
       "7   ACC    28.00\n",
       "8   ACC    29.00\n",
       "9   ACC    30.00"
      ]
     },
     "execution_count": 25,
     "metadata": {},
     "output_type": "execute_result"
    }
   ],
   "source": [
    "# '%' là 0 hoặc nhiều characters\n",
    "ddl2='SELECT STOCK, CLOSE_P FROM ALLSTOCKTEST WHERE STOCK like \\'AC%\\''\n",
    "pd.read_sql_query(ddl2,conn)"
   ]
  },
  {
   "cell_type": "code",
   "execution_count": 22,
   "metadata": {},
   "outputs": [
    {
     "data": {
      "text/html": [
       "<div>\n",
       "<style scoped>\n",
       "    .dataframe tbody tr th:only-of-type {\n",
       "        vertical-align: middle;\n",
       "    }\n",
       "\n",
       "    .dataframe tbody tr th {\n",
       "        vertical-align: top;\n",
       "    }\n",
       "\n",
       "    .dataframe thead th {\n",
       "        text-align: right;\n",
       "    }\n",
       "</style>\n",
       "<table border=\"1\" class=\"dataframe\">\n",
       "  <thead>\n",
       "    <tr style=\"text-align: right;\">\n",
       "      <th></th>\n",
       "      <th>STOCK</th>\n",
       "      <th>CLOSE_P</th>\n",
       "    </tr>\n",
       "  </thead>\n",
       "  <tbody>\n",
       "    <tr>\n",
       "      <th>0</th>\n",
       "      <td>ACC</td>\n",
       "      <td>28.0</td>\n",
       "    </tr>\n",
       "    <tr>\n",
       "      <th>1</th>\n",
       "      <td>ACC</td>\n",
       "      <td>29.0</td>\n",
       "    </tr>\n",
       "    <tr>\n",
       "      <th>2</th>\n",
       "      <td>ACC</td>\n",
       "      <td>30.0</td>\n",
       "    </tr>\n",
       "  </tbody>\n",
       "</table>\n",
       "</div>"
      ],
      "text/plain": [
       "  STOCK  CLOSE_P\n",
       "0   ACC     28.0\n",
       "1   ACC     29.0\n",
       "2   ACC     30.0"
      ]
     },
     "execution_count": 22,
     "metadata": {},
     "output_type": "execute_result"
    }
   ],
   "source": [
    "# gạch dưới '_' là 1 character\n",
    "ddl2='SELECT STOCK, CLOSE_P FROM ALLSTOCKTEST WHERE STOCK like \\'A_C%\\''\n",
    "pd.read_sql_query(ddl2,conn)"
   ]
  },
  {
   "cell_type": "markdown",
   "metadata": {},
   "source": [
    "Sử dụng `escape` nếu muốn where-like pattern chứa ký tự thường là '%' hoặc '_'\n",
    "```sql\n",
    "SELECT col1,col2\n",
    "FROM tabletest\n",
    "WHERE last_name LIKE 'Khong\\_Tien%' ESCAPE '\\';\n",
    "```\n",
    "khi đó filter last_name = 'Khong_Tien...'"
   ]
  },
  {
   "cell_type": "code",
   "execution_count": 9,
   "metadata": {},
   "outputs": [
    {
     "data": {
      "text/html": [
       "<div>\n",
       "<style scoped>\n",
       "    .dataframe tbody tr th:only-of-type {\n",
       "        vertical-align: middle;\n",
       "    }\n",
       "\n",
       "    .dataframe tbody tr th {\n",
       "        vertical-align: top;\n",
       "    }\n",
       "\n",
       "    .dataframe thead th {\n",
       "        text-align: right;\n",
       "    }\n",
       "</style>\n",
       "<table border=\"1\" class=\"dataframe\">\n",
       "  <thead>\n",
       "    <tr style=\"text-align: right;\">\n",
       "      <th></th>\n",
       "      <th>STOCK</th>\n",
       "      <th>CLOSE_P</th>\n",
       "    </tr>\n",
       "  </thead>\n",
       "  <tbody>\n",
       "    <tr>\n",
       "      <th>0</th>\n",
       "      <td>ACB</td>\n",
       "      <td>12.44</td>\n",
       "    </tr>\n",
       "    <tr>\n",
       "      <th>1</th>\n",
       "      <td>AVM</td>\n",
       "      <td>24.44</td>\n",
       "    </tr>\n",
       "    <tr>\n",
       "      <th>2</th>\n",
       "      <td>ACC</td>\n",
       "      <td>30.00</td>\n",
       "    </tr>\n",
       "  </tbody>\n",
       "</table>\n",
       "</div>"
      ],
      "text/plain": [
       "  STOCK  CLOSE_P\n",
       "0   ACB    12.44\n",
       "1   AVM    24.44\n",
       "2   ACC    30.00"
      ]
     },
     "execution_count": 9,
     "metadata": {},
     "output_type": "execute_result"
    }
   ],
   "source": [
    "ddl2='SELECT STOCK, CLOSE_P FROM ALLSTOCKTEST WHERE DAY_TRADING=\\'18-JAN-20\\''\n",
    "pd.read_sql_query(ddl2,conn)"
   ]
  },
  {
   "cell_type": "code",
   "execution_count": 24,
   "metadata": {
    "scrolled": true
   },
   "outputs": [
    {
     "data": {
      "text/html": [
       "<div>\n",
       "<style scoped>\n",
       "    .dataframe tbody tr th:only-of-type {\n",
       "        vertical-align: middle;\n",
       "    }\n",
       "\n",
       "    .dataframe tbody tr th {\n",
       "        vertical-align: top;\n",
       "    }\n",
       "\n",
       "    .dataframe thead th {\n",
       "        text-align: right;\n",
       "    }\n",
       "</style>\n",
       "<table border=\"1\" class=\"dataframe\">\n",
       "  <thead>\n",
       "    <tr style=\"text-align: right;\">\n",
       "      <th></th>\n",
       "      <th>STOCK</th>\n",
       "      <th>CLOSE_P</th>\n",
       "    </tr>\n",
       "  </thead>\n",
       "  <tbody>\n",
       "    <tr>\n",
       "      <th>0</th>\n",
       "      <td>ACB</td>\n",
       "      <td>12.20</td>\n",
       "    </tr>\n",
       "    <tr>\n",
       "      <th>1</th>\n",
       "      <td>ACB</td>\n",
       "      <td>12.23</td>\n",
       "    </tr>\n",
       "    <tr>\n",
       "      <th>2</th>\n",
       "      <td>ACB</td>\n",
       "      <td>12.44</td>\n",
       "    </tr>\n",
       "    <tr>\n",
       "      <th>3</th>\n",
       "      <td>ACB</td>\n",
       "      <td>12.50</td>\n",
       "    </tr>\n",
       "    <tr>\n",
       "      <th>4</th>\n",
       "      <td>ACB</td>\n",
       "      <td>14.89</td>\n",
       "    </tr>\n",
       "    <tr>\n",
       "      <th>5</th>\n",
       "      <td>ACB</td>\n",
       "      <td>17.00</td>\n",
       "    </tr>\n",
       "    <tr>\n",
       "      <th>6</th>\n",
       "      <td>ACB</td>\n",
       "      <td>14.00</td>\n",
       "    </tr>\n",
       "    <tr>\n",
       "      <th>7</th>\n",
       "      <td>AVM</td>\n",
       "      <td>22.00</td>\n",
       "    </tr>\n",
       "    <tr>\n",
       "      <th>8</th>\n",
       "      <td>AVM</td>\n",
       "      <td>23.40</td>\n",
       "    </tr>\n",
       "    <tr>\n",
       "      <th>9</th>\n",
       "      <td>AVM</td>\n",
       "      <td>24.44</td>\n",
       "    </tr>\n",
       "    <tr>\n",
       "      <th>10</th>\n",
       "      <td>AVM</td>\n",
       "      <td>23.00</td>\n",
       "    </tr>\n",
       "    <tr>\n",
       "      <th>11</th>\n",
       "      <td>AVM</td>\n",
       "      <td>25.00</td>\n",
       "    </tr>\n",
       "    <tr>\n",
       "      <th>12</th>\n",
       "      <td>AVM</td>\n",
       "      <td>26.00</td>\n",
       "    </tr>\n",
       "    <tr>\n",
       "      <th>13</th>\n",
       "      <td>AVM</td>\n",
       "      <td>27.67</td>\n",
       "    </tr>\n",
       "  </tbody>\n",
       "</table>\n",
       "</div>"
      ],
      "text/plain": [
       "   STOCK  CLOSE_P\n",
       "0    ACB    12.20\n",
       "1    ACB    12.23\n",
       "2    ACB    12.44\n",
       "3    ACB    12.50\n",
       "4    ACB    14.89\n",
       "5    ACB    17.00\n",
       "6    ACB    14.00\n",
       "7    AVM    22.00\n",
       "8    AVM    23.40\n",
       "9    AVM    24.44\n",
       "10   AVM    23.00\n",
       "11   AVM    25.00\n",
       "12   AVM    26.00\n",
       "13   AVM    27.67"
      ]
     },
     "execution_count": 24,
     "metadata": {},
     "output_type": "execute_result"
    }
   ],
   "source": [
    "ddl2='SELECT STOCK, CLOSE_P FROM ALLSTOCKTEST WHERE STOCK in (\\'ACB\\',\\'AVM\\')'\n",
    "pd.read_sql_query(ddl2,conn)"
   ]
  },
  {
   "cell_type": "code",
   "execution_count": 27,
   "metadata": {},
   "outputs": [
    {
     "data": {
      "text/html": [
       "<div>\n",
       "<style scoped>\n",
       "    .dataframe tbody tr th:only-of-type {\n",
       "        vertical-align: middle;\n",
       "    }\n",
       "\n",
       "    .dataframe tbody tr th {\n",
       "        vertical-align: top;\n",
       "    }\n",
       "\n",
       "    .dataframe thead th {\n",
       "        text-align: right;\n",
       "    }\n",
       "</style>\n",
       "<table border=\"1\" class=\"dataframe\">\n",
       "  <thead>\n",
       "    <tr style=\"text-align: right;\">\n",
       "      <th></th>\n",
       "      <th>STOCK</th>\n",
       "      <th>CLOSE_P</th>\n",
       "    </tr>\n",
       "  </thead>\n",
       "  <tbody>\n",
       "    <tr>\n",
       "      <th>0</th>\n",
       "      <td>ACB</td>\n",
       "      <td>17.0</td>\n",
       "    </tr>\n",
       "    <tr>\n",
       "      <th>1</th>\n",
       "      <td>AVM</td>\n",
       "      <td>22.0</td>\n",
       "    </tr>\n",
       "    <tr>\n",
       "      <th>2</th>\n",
       "      <td>AVM</td>\n",
       "      <td>23.0</td>\n",
       "    </tr>\n",
       "  </tbody>\n",
       "</table>\n",
       "</div>"
      ],
      "text/plain": [
       "  STOCK  CLOSE_P\n",
       "0   ACB     17.0\n",
       "1   AVM     22.0\n",
       "2   AVM     23.0"
      ]
     },
     "execution_count": 27,
     "metadata": {},
     "output_type": "execute_result"
    }
   ],
   "source": [
    "ddl2='SELECT STOCK, CLOSE_P FROM ALLSTOCKTEST WHERE STOCK in (\\'ACB\\',\\'AVM\\') AND close_p between 15 and 23'\n",
    "pd.read_sql_query(ddl2,conn)"
   ]
  },
  {
   "cell_type": "markdown",
   "metadata": {},
   "source": [
    "### Sorted\n",
    "```sql\n",
    "SELECT col1,col2\n",
    "FROM tabletest\n",
    "[WHERE conditions]\n",
    "[ORDER BY Col1 [DESC],col2 [DESC],..]\n",
    "```\n",
    "- nếu không `DESC` thì mặc định là `ASC`\n",
    "- Có thể dùng column alias (ký hiệu) trong ORDER BY\n",
    "- Có thể dùng thứ tự column 1,2,3,..\n",
    "- `NULL` sẽ đóng vai trò là giá trị lớn nhất, nếu `DESC` thì `null` nằm đầu tiên"
   ]
  },
  {
   "cell_type": "code",
   "execution_count": 36,
   "metadata": {},
   "outputs": [
    {
     "data": {
      "text/html": [
       "<div>\n",
       "<style scoped>\n",
       "    .dataframe tbody tr th:only-of-type {\n",
       "        vertical-align: middle;\n",
       "    }\n",
       "\n",
       "    .dataframe tbody tr th {\n",
       "        vertical-align: top;\n",
       "    }\n",
       "\n",
       "    .dataframe thead th {\n",
       "        text-align: right;\n",
       "    }\n",
       "</style>\n",
       "<table border=\"1\" class=\"dataframe\">\n",
       "  <thead>\n",
       "    <tr style=\"text-align: right;\">\n",
       "      <th></th>\n",
       "      <th>STOCK</th>\n",
       "      <th>CLOSE_P</th>\n",
       "    </tr>\n",
       "  </thead>\n",
       "  <tbody>\n",
       "    <tr>\n",
       "      <th>0</th>\n",
       "      <td>AVM</td>\n",
       "      <td>22.00</td>\n",
       "    </tr>\n",
       "    <tr>\n",
       "      <th>1</th>\n",
       "      <td>AVM</td>\n",
       "      <td>23.00</td>\n",
       "    </tr>\n",
       "    <tr>\n",
       "      <th>2</th>\n",
       "      <td>AVM</td>\n",
       "      <td>23.40</td>\n",
       "    </tr>\n",
       "    <tr>\n",
       "      <th>3</th>\n",
       "      <td>AVM</td>\n",
       "      <td>24.44</td>\n",
       "    </tr>\n",
       "    <tr>\n",
       "      <th>4</th>\n",
       "      <td>AVM</td>\n",
       "      <td>25.00</td>\n",
       "    </tr>\n",
       "    <tr>\n",
       "      <th>5</th>\n",
       "      <td>AVM</td>\n",
       "      <td>26.00</td>\n",
       "    </tr>\n",
       "    <tr>\n",
       "      <th>6</th>\n",
       "      <td>AVM</td>\n",
       "      <td>27.67</td>\n",
       "    </tr>\n",
       "    <tr>\n",
       "      <th>7</th>\n",
       "      <td>ACC</td>\n",
       "      <td>28.00</td>\n",
       "    </tr>\n",
       "    <tr>\n",
       "      <th>8</th>\n",
       "      <td>ACC</td>\n",
       "      <td>29.00</td>\n",
       "    </tr>\n",
       "    <tr>\n",
       "      <th>9</th>\n",
       "      <td>ACC</td>\n",
       "      <td>30.00</td>\n",
       "    </tr>\n",
       "    <tr>\n",
       "      <th>10</th>\n",
       "      <td>ACB</td>\n",
       "      <td>12.20</td>\n",
       "    </tr>\n",
       "    <tr>\n",
       "      <th>11</th>\n",
       "      <td>ACB</td>\n",
       "      <td>12.23</td>\n",
       "    </tr>\n",
       "    <tr>\n",
       "      <th>12</th>\n",
       "      <td>ACB</td>\n",
       "      <td>12.44</td>\n",
       "    </tr>\n",
       "    <tr>\n",
       "      <th>13</th>\n",
       "      <td>ACB</td>\n",
       "      <td>12.50</td>\n",
       "    </tr>\n",
       "    <tr>\n",
       "      <th>14</th>\n",
       "      <td>ACB</td>\n",
       "      <td>14.00</td>\n",
       "    </tr>\n",
       "    <tr>\n",
       "      <th>15</th>\n",
       "      <td>ACB</td>\n",
       "      <td>14.89</td>\n",
       "    </tr>\n",
       "    <tr>\n",
       "      <th>16</th>\n",
       "      <td>ACB</td>\n",
       "      <td>17.00</td>\n",
       "    </tr>\n",
       "  </tbody>\n",
       "</table>\n",
       "</div>"
      ],
      "text/plain": [
       "   STOCK  CLOSE_P\n",
       "0    AVM    22.00\n",
       "1    AVM    23.00\n",
       "2    AVM    23.40\n",
       "3    AVM    24.44\n",
       "4    AVM    25.00\n",
       "5    AVM    26.00\n",
       "6    AVM    27.67\n",
       "7    ACC    28.00\n",
       "8    ACC    29.00\n",
       "9    ACC    30.00\n",
       "10   ACB    12.20\n",
       "11   ACB    12.23\n",
       "12   ACB    12.44\n",
       "13   ACB    12.50\n",
       "14   ACB    14.00\n",
       "15   ACB    14.89\n",
       "16   ACB    17.00"
      ]
     },
     "execution_count": 36,
     "metadata": {},
     "output_type": "execute_result"
    }
   ],
   "source": [
    "ddl2='SELECT STOCK, CLOSE_P FROM ALLSTOCKTEST ORDER BY STOCK DESC, CLOSE_P'\n",
    "pd.read_sql_query(ddl2,conn)"
   ]
  },
  {
   "cell_type": "code",
   "execution_count": 43,
   "metadata": {
    "scrolled": true
   },
   "outputs": [
    {
     "data": {
      "text/html": [
       "<div>\n",
       "<style scoped>\n",
       "    .dataframe tbody tr th:only-of-type {\n",
       "        vertical-align: middle;\n",
       "    }\n",
       "\n",
       "    .dataframe tbody tr th {\n",
       "        vertical-align: top;\n",
       "    }\n",
       "\n",
       "    .dataframe thead th {\n",
       "        text-align: right;\n",
       "    }\n",
       "</style>\n",
       "<table border=\"1\" class=\"dataframe\">\n",
       "  <thead>\n",
       "    <tr style=\"text-align: right;\">\n",
       "      <th></th>\n",
       "      <th>STOCK</th>\n",
       "      <th>GIA</th>\n",
       "      <th>VOLUME_S</th>\n",
       "    </tr>\n",
       "  </thead>\n",
       "  <tbody>\n",
       "    <tr>\n",
       "      <th>0</th>\n",
       "      <td>ACB</td>\n",
       "      <td>12.20</td>\n",
       "      <td>1300000</td>\n",
       "    </tr>\n",
       "    <tr>\n",
       "      <th>1</th>\n",
       "      <td>ACB</td>\n",
       "      <td>12.23</td>\n",
       "      <td>1257000</td>\n",
       "    </tr>\n",
       "    <tr>\n",
       "      <th>2</th>\n",
       "      <td>ACB</td>\n",
       "      <td>12.44</td>\n",
       "      <td>1214000</td>\n",
       "    </tr>\n",
       "    <tr>\n",
       "      <th>3</th>\n",
       "      <td>ACB</td>\n",
       "      <td>12.50</td>\n",
       "      <td>1171000</td>\n",
       "    </tr>\n",
       "    <tr>\n",
       "      <th>4</th>\n",
       "      <td>ACB</td>\n",
       "      <td>14.89</td>\n",
       "      <td>1128000</td>\n",
       "    </tr>\n",
       "    <tr>\n",
       "      <th>5</th>\n",
       "      <td>ACB</td>\n",
       "      <td>17.00</td>\n",
       "      <td>1085000</td>\n",
       "    </tr>\n",
       "    <tr>\n",
       "      <th>6</th>\n",
       "      <td>ACB</td>\n",
       "      <td>14.00</td>\n",
       "      <td>1042000</td>\n",
       "    </tr>\n",
       "    <tr>\n",
       "      <th>7</th>\n",
       "      <td>AVM</td>\n",
       "      <td>22.00</td>\n",
       "      <td>999000</td>\n",
       "    </tr>\n",
       "    <tr>\n",
       "      <th>8</th>\n",
       "      <td>AVM</td>\n",
       "      <td>23.40</td>\n",
       "      <td>956000</td>\n",
       "    </tr>\n",
       "    <tr>\n",
       "      <th>9</th>\n",
       "      <td>AVM</td>\n",
       "      <td>24.44</td>\n",
       "      <td>913000</td>\n",
       "    </tr>\n",
       "    <tr>\n",
       "      <th>10</th>\n",
       "      <td>AVM</td>\n",
       "      <td>23.00</td>\n",
       "      <td>870000</td>\n",
       "    </tr>\n",
       "    <tr>\n",
       "      <th>11</th>\n",
       "      <td>AVM</td>\n",
       "      <td>25.00</td>\n",
       "      <td>827000</td>\n",
       "    </tr>\n",
       "    <tr>\n",
       "      <th>12</th>\n",
       "      <td>AVM</td>\n",
       "      <td>26.00</td>\n",
       "      <td>784000</td>\n",
       "    </tr>\n",
       "    <tr>\n",
       "      <th>13</th>\n",
       "      <td>AVM</td>\n",
       "      <td>27.67</td>\n",
       "      <td>741000</td>\n",
       "    </tr>\n",
       "    <tr>\n",
       "      <th>14</th>\n",
       "      <td>ACC</td>\n",
       "      <td>28.00</td>\n",
       "      <td>698000</td>\n",
       "    </tr>\n",
       "    <tr>\n",
       "      <th>15</th>\n",
       "      <td>ACC</td>\n",
       "      <td>29.00</td>\n",
       "      <td>655000</td>\n",
       "    </tr>\n",
       "    <tr>\n",
       "      <th>16</th>\n",
       "      <td>ACC</td>\n",
       "      <td>30.00</td>\n",
       "      <td>612000</td>\n",
       "    </tr>\n",
       "  </tbody>\n",
       "</table>\n",
       "</div>"
      ],
      "text/plain": [
       "   STOCK    GIA  VOLUME_S\n",
       "0    ACB  12.20   1300000\n",
       "1    ACB  12.23   1257000\n",
       "2    ACB  12.44   1214000\n",
       "3    ACB  12.50   1171000\n",
       "4    ACB  14.89   1128000\n",
       "5    ACB  17.00   1085000\n",
       "6    ACB  14.00   1042000\n",
       "7    AVM  22.00    999000\n",
       "8    AVM  23.40    956000\n",
       "9    AVM  24.44    913000\n",
       "10   AVM  23.00    870000\n",
       "11   AVM  25.00    827000\n",
       "12   AVM  26.00    784000\n",
       "13   AVM  27.67    741000\n",
       "14   ACC  28.00    698000\n",
       "15   ACC  29.00    655000\n",
       "16   ACC  30.00    612000"
      ]
     },
     "execution_count": 43,
     "metadata": {},
     "output_type": "execute_result"
    }
   ],
   "source": [
    "# sử dụng column alias\n",
    "# 1 tương ứng với column 1 : là column STOCK\n",
    "ddl2='SELECT STOCK, CLOSE_P GIA,Volume_s FROM ALLSTOCKTEST ORDER BY 3 DESC, GIA'\n",
    "pd.read_sql_query(ddl2,conn)"
   ]
  },
  {
   "cell_type": "markdown",
   "metadata": {},
   "source": [
    "### Group by\n",
    "```sql\n",
    "SELECT col1,col2\n",
    "FROM tabletest\n",
    "[WHERE conditions]\n",
    "[GROUP BY expression]\n",
    "[ORDER BY Col1 [DESC],col2 [DESC],..]\n",
    "```\n"
   ]
  },
  {
   "cell_type": "code",
   "execution_count": 5,
   "metadata": {},
   "outputs": [
    {
     "data": {
      "text/html": [
       "<div>\n",
       "<style scoped>\n",
       "    .dataframe tbody tr th:only-of-type {\n",
       "        vertical-align: middle;\n",
       "    }\n",
       "\n",
       "    .dataframe tbody tr th {\n",
       "        vertical-align: top;\n",
       "    }\n",
       "\n",
       "    .dataframe thead th {\n",
       "        text-align: right;\n",
       "    }\n",
       "</style>\n",
       "<table border=\"1\" class=\"dataframe\">\n",
       "  <thead>\n",
       "    <tr style=\"text-align: right;\">\n",
       "      <th></th>\n",
       "      <th>STOCK</th>\n",
       "      <th>AVG(CLOSE_P)</th>\n",
       "    </tr>\n",
       "  </thead>\n",
       "  <tbody>\n",
       "    <tr>\n",
       "      <th>0</th>\n",
       "      <td>ACC</td>\n",
       "      <td>29.000000</td>\n",
       "    </tr>\n",
       "    <tr>\n",
       "      <th>1</th>\n",
       "      <td>ACB</td>\n",
       "      <td>13.608571</td>\n",
       "    </tr>\n",
       "    <tr>\n",
       "      <th>2</th>\n",
       "      <td>AVM</td>\n",
       "      <td>24.501429</td>\n",
       "    </tr>\n",
       "  </tbody>\n",
       "</table>\n",
       "</div>"
      ],
      "text/plain": [
       "  STOCK  AVG(CLOSE_P)\n",
       "0   ACC     29.000000\n",
       "1   ACB     13.608571\n",
       "2   AVM     24.501429"
      ]
     },
     "execution_count": 5,
     "metadata": {},
     "output_type": "execute_result"
    }
   ],
   "source": [
    "ddl2=\"\"\"SELECT STOCK,AVG(CLOSE_P)\n",
    "FROM ALLSTOCKTEST\n",
    "GROUP BY STOCK\n",
    "\"\"\"\n",
    "pd.read_sql_query(ddl2,conn)"
   ]
  },
  {
   "cell_type": "code",
   "execution_count": 6,
   "metadata": {},
   "outputs": [
    {
     "data": {
      "text/html": [
       "<div>\n",
       "<style scoped>\n",
       "    .dataframe tbody tr th:only-of-type {\n",
       "        vertical-align: middle;\n",
       "    }\n",
       "\n",
       "    .dataframe tbody tr th {\n",
       "        vertical-align: top;\n",
       "    }\n",
       "\n",
       "    .dataframe thead th {\n",
       "        text-align: right;\n",
       "    }\n",
       "</style>\n",
       "<table border=\"1\" class=\"dataframe\">\n",
       "  <thead>\n",
       "    <tr style=\"text-align: right;\">\n",
       "      <th></th>\n",
       "      <th>STOCK</th>\n",
       "      <th>AVG(CLOSE_P)</th>\n",
       "    </tr>\n",
       "  </thead>\n",
       "  <tbody>\n",
       "    <tr>\n",
       "      <th>0</th>\n",
       "      <td>ACB</td>\n",
       "      <td>14.00</td>\n",
       "    </tr>\n",
       "    <tr>\n",
       "      <th>1</th>\n",
       "      <td>ACB</td>\n",
       "      <td>17.00</td>\n",
       "    </tr>\n",
       "    <tr>\n",
       "      <th>2</th>\n",
       "      <td>ACB</td>\n",
       "      <td>14.89</td>\n",
       "    </tr>\n",
       "    <tr>\n",
       "      <th>3</th>\n",
       "      <td>ACB</td>\n",
       "      <td>12.50</td>\n",
       "    </tr>\n",
       "    <tr>\n",
       "      <th>4</th>\n",
       "      <td>ACB</td>\n",
       "      <td>12.44</td>\n",
       "    </tr>\n",
       "    <tr>\n",
       "      <th>5</th>\n",
       "      <td>ACB</td>\n",
       "      <td>12.23</td>\n",
       "    </tr>\n",
       "    <tr>\n",
       "      <th>6</th>\n",
       "      <td>ACB</td>\n",
       "      <td>12.20</td>\n",
       "    </tr>\n",
       "    <tr>\n",
       "      <th>7</th>\n",
       "      <td>ACC</td>\n",
       "      <td>30.00</td>\n",
       "    </tr>\n",
       "    <tr>\n",
       "      <th>8</th>\n",
       "      <td>ACC</td>\n",
       "      <td>29.00</td>\n",
       "    </tr>\n",
       "    <tr>\n",
       "      <th>9</th>\n",
       "      <td>ACC</td>\n",
       "      <td>28.00</td>\n",
       "    </tr>\n",
       "    <tr>\n",
       "      <th>10</th>\n",
       "      <td>AVM</td>\n",
       "      <td>27.67</td>\n",
       "    </tr>\n",
       "    <tr>\n",
       "      <th>11</th>\n",
       "      <td>AVM</td>\n",
       "      <td>26.00</td>\n",
       "    </tr>\n",
       "    <tr>\n",
       "      <th>12</th>\n",
       "      <td>AVM</td>\n",
       "      <td>25.00</td>\n",
       "    </tr>\n",
       "    <tr>\n",
       "      <th>13</th>\n",
       "      <td>AVM</td>\n",
       "      <td>23.00</td>\n",
       "    </tr>\n",
       "    <tr>\n",
       "      <th>14</th>\n",
       "      <td>AVM</td>\n",
       "      <td>24.44</td>\n",
       "    </tr>\n",
       "    <tr>\n",
       "      <th>15</th>\n",
       "      <td>AVM</td>\n",
       "      <td>23.40</td>\n",
       "    </tr>\n",
       "    <tr>\n",
       "      <th>16</th>\n",
       "      <td>AVM</td>\n",
       "      <td>22.00</td>\n",
       "    </tr>\n",
       "  </tbody>\n",
       "</table>\n",
       "</div>"
      ],
      "text/plain": [
       "   STOCK  AVG(CLOSE_P)\n",
       "0    ACB         14.00\n",
       "1    ACB         17.00\n",
       "2    ACB         14.89\n",
       "3    ACB         12.50\n",
       "4    ACB         12.44\n",
       "5    ACB         12.23\n",
       "6    ACB         12.20\n",
       "7    ACC         30.00\n",
       "8    ACC         29.00\n",
       "9    ACC         28.00\n",
       "10   AVM         27.67\n",
       "11   AVM         26.00\n",
       "12   AVM         25.00\n",
       "13   AVM         23.00\n",
       "14   AVM         24.44\n",
       "15   AVM         23.40\n",
       "16   AVM         22.00"
      ]
     },
     "execution_count": 6,
     "metadata": {},
     "output_type": "execute_result"
    }
   ],
   "source": [
    "#group_by nhỏ hơn\n",
    "ddl2=\"\"\"SELECT STOCK,AVG(CLOSE_P)\n",
    "FROM ALLSTOCKTEST\n",
    "GROUP BY STOCK,DAY_TRADING\n",
    "ORDER BY STOCK\n",
    "\"\"\"\n",
    "pd.read_sql_query(ddl2,conn)"
   ]
  },
  {
   "cell_type": "markdown",
   "metadata": {},
   "source": [
    "### Group by + having \n",
    "\n",
    "tạo bộ lọc sau khi đã chạy GROUP BY\n",
    "\n",
    "```sql\n",
    "SELECT col1,col2\n",
    "FROM tabletest\n",
    "[WHERE conditions]\n",
    "[GROUP BY expression]\n",
    "[HAVING conditions]\n",
    "[ORDER BY Col1 [DESC],col2 [DESC],..]\n",
    "```\n",
    "- `Having` giúp tạo bộ lọc sau khi đã chạy `group by` còn `WHERE` tạo bộ lọc trước khi chạy `GROUP BY`\n",
    "-  Sử dụng được multiple-function trong `Having` chứ ko sử dụng được trong `WHERE`"
   ]
  },
  {
   "cell_type": "code",
   "execution_count": 7,
   "metadata": {},
   "outputs": [
    {
     "data": {
      "text/html": [
       "<div>\n",
       "<style scoped>\n",
       "    .dataframe tbody tr th:only-of-type {\n",
       "        vertical-align: middle;\n",
       "    }\n",
       "\n",
       "    .dataframe tbody tr th {\n",
       "        vertical-align: top;\n",
       "    }\n",
       "\n",
       "    .dataframe thead th {\n",
       "        text-align: right;\n",
       "    }\n",
       "</style>\n",
       "<table border=\"1\" class=\"dataframe\">\n",
       "  <thead>\n",
       "    <tr style=\"text-align: right;\">\n",
       "      <th></th>\n",
       "      <th>STOCK</th>\n",
       "      <th>MAX(CLOSE_P)</th>\n",
       "    </tr>\n",
       "  </thead>\n",
       "  <tbody>\n",
       "    <tr>\n",
       "      <th>0</th>\n",
       "      <td>ACC</td>\n",
       "      <td>30.00</td>\n",
       "    </tr>\n",
       "    <tr>\n",
       "      <th>1</th>\n",
       "      <td>AVM</td>\n",
       "      <td>27.67</td>\n",
       "    </tr>\n",
       "  </tbody>\n",
       "</table>\n",
       "</div>"
      ],
      "text/plain": [
       "  STOCK  MAX(CLOSE_P)\n",
       "0   ACC         30.00\n",
       "1   AVM         27.67"
      ]
     },
     "execution_count": 7,
     "metadata": {},
     "output_type": "execute_result"
    }
   ],
   "source": [
    "ddl2=\"\"\"SELECT STOCK,MAX(CLOSE_P)\n",
    "FROM ALLSTOCKTEST\n",
    "GROUP BY STOCK\n",
    "HAVING MAX(CLOSE_P)>20\n",
    "\"\"\"\n",
    "pd.read_sql_query(ddl2,conn)"
   ]
  },
  {
   "cell_type": "code",
   "execution_count": 11,
   "metadata": {},
   "outputs": [
    {
     "data": {
      "text/html": [
       "<div>\n",
       "<style scoped>\n",
       "    .dataframe tbody tr th:only-of-type {\n",
       "        vertical-align: middle;\n",
       "    }\n",
       "\n",
       "    .dataframe tbody tr th {\n",
       "        vertical-align: top;\n",
       "    }\n",
       "\n",
       "    .dataframe thead th {\n",
       "        text-align: right;\n",
       "    }\n",
       "</style>\n",
       "<table border=\"1\" class=\"dataframe\">\n",
       "  <thead>\n",
       "    <tr style=\"text-align: right;\">\n",
       "      <th></th>\n",
       "      <th>STOCK</th>\n",
       "      <th>MAX(CLOSE_P)</th>\n",
       "      <th>MAX(VOLUME_S)</th>\n",
       "    </tr>\n",
       "  </thead>\n",
       "  <tbody>\n",
       "    <tr>\n",
       "      <th>0</th>\n",
       "      <td>ACC</td>\n",
       "      <td>30</td>\n",
       "      <td>698000</td>\n",
       "    </tr>\n",
       "  </tbody>\n",
       "</table>\n",
       "</div>"
      ],
      "text/plain": [
       "  STOCK  MAX(CLOSE_P)  MAX(VOLUME_S)\n",
       "0   ACC            30         698000"
      ]
     },
     "execution_count": 11,
     "metadata": {},
     "output_type": "execute_result"
    }
   ],
   "source": [
    "ddl2=\"\"\"\n",
    "SELECT STOCK,MAX(CLOSE_P),MAX(VOLUME_S)\n",
    "FROM ALLSTOCKTEST\n",
    "WHERE STOCK NOT LIKE 'AV_'\n",
    "GROUP BY STOCK\n",
    "HAVING MAX(CLOSE_P)>20\n",
    "ORDER BY MAX(CLOSE_P)\n",
    "\"\"\"\n",
    "pd.read_sql_query(ddl2,conn)"
   ]
  },
  {
   "cell_type": "markdown",
   "metadata": {},
   "source": [
    "### Union \n",
    "\n",
    "ghép bảng = thêm row theo cột\n",
    "\n",
    "- `UNION` : LẤY PHẦN TỬ IN A HOẶC B\n",
    "- `UNION ALL` : LẤY PHẦN TỬ IN A + PHẦN TỬ IN B (ko quan tâm tới duplicate)\n",
    "- `INTERSECT` : LẤY PHẦN TỬ IN A VÀ B \n",
    "- `MINUS` : LẤY PHẦN TỬ IN A TRỪ IN B\n",
    "\n",
    "**chú ý**\n",
    "\n",
    "- Số lượng column ở 2 câu query phải như nhau, data-type từng column tương ứng phải giống nhau\n",
    "- Tên column sẽ lấy tên column ở câu query thứ 1"
   ]
  },
  {
   "cell_type": "markdown",
   "metadata": {},
   "source": [
    "```sql\n",
    "SELECT STOCK,CLOSE_P\n",
    "FROM ALLSTOCKTEST\n",
    "UNION\n",
    "SELECT STOCK,CLOSE_P\n",
    "FROM ALLSTOCKS\n",
    "ORDER BY STOCK\n",
    "```"
   ]
  },
  {
   "cell_type": "markdown",
   "metadata": {},
   "source": [
    "```sql\n",
    "SELECT STOCK,RETURN_P, TO_CHAR(NULL) NOTE\n",
    "FROM ALLSTOCKTEST\n",
    "UNION ALL\n",
    "SELECT STOCK,TO_Number(NULL), NOTE_STOCK\n",
    "FROM ALLSTOCKS\n",
    "```\n",
    "\n",
    "- cột return_p(number) ở query1 nên phải `to_number` cột thứ 2 ở câu query 2"
   ]
  },
  {
   "cell_type": "markdown",
   "metadata": {},
   "source": [
    "### Subqueries\n",
    "\n",
    "```SQL\n",
    "SELECT STOCK,CLOSE_P\n",
    "FROM ALLSTOCKTEST\n",
    "WHERE CLOSE_P > (SELECT MAX(CLOSE_P) FROM ALLSTOCKTEST WHERE STOCK = 'ACB')\n",
    "```"
   ]
  },
  {
   "cell_type": "markdown",
   "metadata": {},
   "source": [
    "**Single-row Subquery** : câu subquery return ra 1 row \n",
    "khi đó ta sử dụng các toán tử so sánh 1 row"
   ]
  },
  {
   "cell_type": "markdown",
   "metadata": {},
   "source": [
    "**Multi-row Subquery** : câu subquery return ra nhiều rows, khi đó ta sử dụng:\n",
    "- các multi-row function để trả về 1 row\n",
    "- hoặc sử dụng `IN`, `ANY`, `ALL`\n",
    "```sql\n",
    "SELECT STOCK,CLOSE_P\n",
    "FROM ALLSTOCKTEST\n",
    "WHERE ( CLOSE_P > ALL(SELECT CLOSE_P FROM ALLSTOCKTEST WHERE STOCK = 'ACB')\n",
    "AND STOCK NOT IN (SELECT STOCK FROM ALLSTOCKTEST WHERE CLOSE_P > 20) )\n",
    "```"
   ]
  },
  {
   "cell_type": "markdown",
   "metadata": {},
   "source": [
    "## Single-row Function"
   ]
  },
  {
   "cell_type": "markdown",
   "metadata": {},
   "source": [
    "### Character Functions\n",
    "|Function|Description|\n",
    "|-------|-------|\n",
    "|**LOWER**(str)|viết thường str|\n",
    "|**UPPER**(str)|VIẾT HOA STR|\n",
    "|**INITCAP**(str)|Viết Hoa Chữ Đầu|\n",
    "|**CONCAT**(str1,str2,...)|Nối str|\n",
    "|**SUBSTR**(str, start, length)|trích từ str với đánh dấu từ 1,2,3,... hoặc ...-3,-2,-1|\n",
    "|**LENGTH**(str)|Độ dài str|\n",
    "|**INSTR**(str, substr, a, b)|Trả vị trí của ký tự substr lần thứ b[1] trong str bắt đầu từ vị trí a[1]|\n",
    "|**LPAD/RPAD**(str,full-length,'x')|lấp đầy bên L/R của str thành full-length bởi ký tự 'x'|\n",
    "|**TRIM**('x' **FROM** str|xóa toàn bộ 'x' hai bên của str|\n",
    "|**TRIM**( [LEADING/TRAILING]  'x'  **FROM** str|xóa toàn bộ 'x' bên trái(LEADING) hoặc bên phải(TRAILING) của str|\n",
    "|**REPLACE**(str,'x','y')|thay thế 'x' bằng 'y' trong str|"
   ]
  },
  {
   "cell_type": "code",
   "execution_count": 4,
   "metadata": {},
   "outputs": [
    {
     "data": {
      "text/html": [
       "<div>\n",
       "<style scoped>\n",
       "    .dataframe tbody tr th:only-of-type {\n",
       "        vertical-align: middle;\n",
       "    }\n",
       "\n",
       "    .dataframe tbody tr th {\n",
       "        vertical-align: top;\n",
       "    }\n",
       "\n",
       "    .dataframe thead th {\n",
       "        text-align: right;\n",
       "    }\n",
       "</style>\n",
       "<table border=\"1\" class=\"dataframe\">\n",
       "  <thead>\n",
       "    <tr style=\"text-align: right;\">\n",
       "      <th></th>\n",
       "      <th>TEST</th>\n",
       "    </tr>\n",
       "  </thead>\n",
       "  <tbody>\n",
       "    <tr>\n",
       "      <th>0</th>\n",
       "      <td>5</td>\n",
       "    </tr>\n",
       "  </tbody>\n",
       "</table>\n",
       "</div>"
      ],
      "text/plain": [
       "   TEST\n",
       "0     5"
      ]
     },
     "execution_count": 4,
     "metadata": {},
     "output_type": "execute_result"
    }
   ],
   "source": [
    "code='''\n",
    "SELECT instr('dssais ka m ais','is') \n",
    "test\n",
    "FROM dual\n",
    "'''\n",
    "pd.read_sql_query(code,conn)"
   ]
  },
  {
   "cell_type": "code",
   "execution_count": 10,
   "metadata": {},
   "outputs": [
    {
     "data": {
      "text/html": [
       "<div>\n",
       "<style scoped>\n",
       "    .dataframe tbody tr th:only-of-type {\n",
       "        vertical-align: middle;\n",
       "    }\n",
       "\n",
       "    .dataframe tbody tr th {\n",
       "        vertical-align: top;\n",
       "    }\n",
       "\n",
       "    .dataframe thead th {\n",
       "        text-align: right;\n",
       "    }\n",
       "</style>\n",
       "<table border=\"1\" class=\"dataframe\">\n",
       "  <thead>\n",
       "    <tr style=\"text-align: right;\">\n",
       "      <th></th>\n",
       "      <th>TEST</th>\n",
       "    </tr>\n",
       "  </thead>\n",
       "  <tbody>\n",
       "    <tr>\n",
       "      <th>0</th>\n",
       "      <td>ais</td>\n",
       "    </tr>\n",
       "  </tbody>\n",
       "</table>\n",
       "</div>"
      ],
      "text/plain": [
       "  TEST\n",
       "0  ais"
      ]
     },
     "execution_count": 10,
     "metadata": {},
     "output_type": "execute_result"
    }
   ],
   "source": [
    "code='''\n",
    "SELECT substr(\\'dssaims ka m ais\\',-3,3) \n",
    "test\n",
    "FROM dual\n",
    "'''\n",
    "pd.read_sql_query(code,conn)"
   ]
  },
  {
   "cell_type": "code",
   "execution_count": 14,
   "metadata": {},
   "outputs": [
    {
     "data": {
      "text/html": [
       "<div>\n",
       "<style scoped>\n",
       "    .dataframe tbody tr th:only-of-type {\n",
       "        vertical-align: middle;\n",
       "    }\n",
       "\n",
       "    .dataframe tbody tr th {\n",
       "        vertical-align: top;\n",
       "    }\n",
       "\n",
       "    .dataframe thead th {\n",
       "        text-align: right;\n",
       "    }\n",
       "</style>\n",
       "<table border=\"1\" class=\"dataframe\">\n",
       "  <thead>\n",
       "    <tr style=\"text-align: right;\">\n",
       "      <th></th>\n",
       "      <th>TEST</th>\n",
       "    </tr>\n",
       "  </thead>\n",
       "  <tbody>\n",
       "    <tr>\n",
       "      <th>0</th>\n",
       "      <td>ABt</td>\n",
       "    </tr>\n",
       "  </tbody>\n",
       "</table>\n",
       "</div>"
      ],
      "text/plain": [
       "  TEST\n",
       "0  ABt"
      ]
     },
     "execution_count": 14,
     "metadata": {},
     "output_type": "execute_result"
    }
   ],
   "source": [
    "code='''\n",
    "SELECT concat('AB','t') \n",
    "test\n",
    "FROM dual\n",
    "'''\n",
    "pd.read_sql_query(code,conn)"
   ]
  },
  {
   "cell_type": "markdown",
   "metadata": {},
   "source": [
    "### Number Functions\n",
    "|Function|Description|\n",
    "|-------|-------|\n",
    "|**ROUND**(num,a)|làm tròn num ở vị trí a sau dấu thập phân|\n",
    "|**TRUNC**(num,a)|cắt num ở vị trí a sau dấu thập phân|\n",
    "|**MOD**(num,a)|số dư của num chia cho a|\n",
    "|**ABS**||\n",
    "|**FLOOR**||\n",
    "|**CEIL**||"
   ]
  },
  {
   "cell_type": "code",
   "execution_count": 17,
   "metadata": {},
   "outputs": [
    {
     "data": {
      "text/html": [
       "<div>\n",
       "<style scoped>\n",
       "    .dataframe tbody tr th:only-of-type {\n",
       "        vertical-align: middle;\n",
       "    }\n",
       "\n",
       "    .dataframe tbody tr th {\n",
       "        vertical-align: top;\n",
       "    }\n",
       "\n",
       "    .dataframe thead th {\n",
       "        text-align: right;\n",
       "    }\n",
       "</style>\n",
       "<table border=\"1\" class=\"dataframe\">\n",
       "  <thead>\n",
       "    <tr style=\"text-align: right;\">\n",
       "      <th></th>\n",
       "      <th>TEST1</th>\n",
       "      <th>TEST2</th>\n",
       "      <th>TEST3</th>\n",
       "      <th>TEST4</th>\n",
       "    </tr>\n",
       "  </thead>\n",
       "  <tbody>\n",
       "    <tr>\n",
       "      <th>0</th>\n",
       "      <td>123.46</td>\n",
       "      <td>120</td>\n",
       "      <td>100</td>\n",
       "      <td>456</td>\n",
       "    </tr>\n",
       "  </tbody>\n",
       "</table>\n",
       "</div>"
      ],
      "text/plain": [
       "    TEST1  TEST2  TEST3  TEST4\n",
       "0  123.46    120    100    456"
      ]
     },
     "execution_count": 17,
     "metadata": {},
     "output_type": "execute_result"
    }
   ],
   "source": [
    "code='''\n",
    "SELECT ROUND(123.456,2) test1, ROUND(123.456,-1) test2, TRUNC(123.456,-2) test3, MOD(123456,1000) test4\n",
    "FROM dual\n",
    "'''\n",
    "pd.read_sql_query(code,conn)"
   ]
  },
  {
   "cell_type": "markdown",
   "metadata": {},
   "source": [
    "### Date Functions"
   ]
  },
  {
   "cell_type": "code",
   "execution_count": 11,
   "metadata": {},
   "outputs": [
    {
     "data": {
      "text/html": [
       "<div>\n",
       "<style scoped>\n",
       "    .dataframe tbody tr th:only-of-type {\n",
       "        vertical-align: middle;\n",
       "    }\n",
       "\n",
       "    .dataframe tbody tr th {\n",
       "        vertical-align: top;\n",
       "    }\n",
       "\n",
       "    .dataframe thead th {\n",
       "        text-align: right;\n",
       "    }\n",
       "</style>\n",
       "<table border=\"1\" class=\"dataframe\">\n",
       "  <thead>\n",
       "    <tr style=\"text-align: right;\">\n",
       "      <th></th>\n",
       "      <th>SYSDATE</th>\n",
       "      <th>SYSDATE+1</th>\n",
       "      <th>SYSDATE+1/24</th>\n",
       "    </tr>\n",
       "  </thead>\n",
       "  <tbody>\n",
       "    <tr>\n",
       "      <th>0</th>\n",
       "      <td>2020-02-02 15:59:06</td>\n",
       "      <td>2020-02-03 15:59:06</td>\n",
       "      <td>2020-02-02 16:59:06</td>\n",
       "    </tr>\n",
       "  </tbody>\n",
       "</table>\n",
       "</div>"
      ],
      "text/plain": [
       "              SYSDATE           SYSDATE+1        SYSDATE+1/24\n",
       "0 2020-02-02 15:59:06 2020-02-03 15:59:06 2020-02-02 16:59:06"
      ]
     },
     "execution_count": 11,
     "metadata": {},
     "output_type": "execute_result"
    }
   ],
   "source": [
    "# trả về thời điểm hiện tại\n",
    "code='''\n",
    "SELECT SYSDATE,SYSDATE + 1, SYSDATE + 1/24\n",
    "FROM dual\n",
    "'''\n",
    "pd.read_sql_query(code,conn)"
   ]
  },
  {
   "cell_type": "markdown",
   "metadata": {},
   "source": [
    "|Function|Description|\n",
    "|-------|-------|\n",
    "|**MONTHS_BETWEEN**(date1,date2)|Tính số tháng giữa date1 vs date2|\n",
    "|**ADD_MONTHS**(date1,num_mon)|cộng thêm num_mon tháng vào date1|\n",
    "|**NEXT_DAY**(date,weekday)|trả về ngày tiếp theo là weekday từ ngày date|\n",
    "|**LAST_DAY**(date)|trả ngày cuối cùng của tháng date|\n",
    "|**ROUND**(date, 'month/year')|làm tròn date theo tháng hoặc năm|\n",
    "|**TRUNC**(date, 'month/year')|cắt date theo tháng hoặc năm|"
   ]
  },
  {
   "cell_type": "code",
   "execution_count": 21,
   "metadata": {},
   "outputs": [
    {
     "data": {
      "text/html": [
       "<div>\n",
       "<style scoped>\n",
       "    .dataframe tbody tr th:only-of-type {\n",
       "        vertical-align: middle;\n",
       "    }\n",
       "\n",
       "    .dataframe tbody tr th {\n",
       "        vertical-align: top;\n",
       "    }\n",
       "\n",
       "    .dataframe thead th {\n",
       "        text-align: right;\n",
       "    }\n",
       "</style>\n",
       "<table border=\"1\" class=\"dataframe\">\n",
       "  <thead>\n",
       "    <tr style=\"text-align: right;\">\n",
       "      <th></th>\n",
       "      <th>SYSDATE</th>\n",
       "      <th>MONTHS_BETWEEN(SYSDATE,'01-JAN-20')</th>\n",
       "      <th>ADD_MONTHS('31-JAN-96',1)</th>\n",
       "      <th>NEXT_DAY(SYSDATE,'FRIDAY')</th>\n",
       "      <th>LAST_DAY(SYSDATE)</th>\n",
       "    </tr>\n",
       "  </thead>\n",
       "  <tbody>\n",
       "    <tr>\n",
       "      <th>0</th>\n",
       "      <td>2020-02-02 16:18:30</td>\n",
       "      <td>1.054178</td>\n",
       "      <td>1996-02-29</td>\n",
       "      <td>2020-02-07 16:18:30</td>\n",
       "      <td>2020-02-29 16:18:30</td>\n",
       "    </tr>\n",
       "  </tbody>\n",
       "</table>\n",
       "</div>"
      ],
      "text/plain": [
       "              SYSDATE  MONTHS_BETWEEN(SYSDATE,'01-JAN-20')  \\\n",
       "0 2020-02-02 16:18:30                             1.054178   \n",
       "\n",
       "  ADD_MONTHS('31-JAN-96',1) NEXT_DAY(SYSDATE,'FRIDAY')   LAST_DAY(SYSDATE)  \n",
       "0                1996-02-29        2020-02-07 16:18:30 2020-02-29 16:18:30  "
      ]
     },
     "execution_count": 21,
     "metadata": {},
     "output_type": "execute_result"
    }
   ],
   "source": [
    "code='''\n",
    "SELECT SYSDATE,MONTHS_BETWEEN(SYSDATE,'01-JAN-20'), ADD_MONTHS('31-JAN-96',1), NEXT_DAY(SYSDATE,'FRIDAY'), LAST_DAY(SYSDATE)\n",
    "FROM dual\n",
    "'''\n",
    "pd.read_sql_query(code,conn)"
   ]
  },
  {
   "cell_type": "code",
   "execution_count": 24,
   "metadata": {},
   "outputs": [
    {
     "data": {
      "text/html": [
       "<div>\n",
       "<style scoped>\n",
       "    .dataframe tbody tr th:only-of-type {\n",
       "        vertical-align: middle;\n",
       "    }\n",
       "\n",
       "    .dataframe tbody tr th {\n",
       "        vertical-align: top;\n",
       "    }\n",
       "\n",
       "    .dataframe thead th {\n",
       "        text-align: right;\n",
       "    }\n",
       "</style>\n",
       "<table border=\"1\" class=\"dataframe\">\n",
       "  <thead>\n",
       "    <tr style=\"text-align: right;\">\n",
       "      <th></th>\n",
       "      <th>SYSDATE</th>\n",
       "      <th>ROUND(SYSDATE,'MONTH')</th>\n",
       "      <th>ROUND(SYSDATE,'YEAR')</th>\n",
       "      <th>TRUNC(SYSDATE,'MONTH')</th>\n",
       "      <th>TRUNC(SYSDATE,'YEAR')</th>\n",
       "    </tr>\n",
       "  </thead>\n",
       "  <tbody>\n",
       "    <tr>\n",
       "      <th>0</th>\n",
       "      <td>2020-02-02 16:45:56</td>\n",
       "      <td>2020-02-01</td>\n",
       "      <td>2020-01-01</td>\n",
       "      <td>2020-02-01</td>\n",
       "      <td>2020-01-01</td>\n",
       "    </tr>\n",
       "  </tbody>\n",
       "</table>\n",
       "</div>"
      ],
      "text/plain": [
       "              SYSDATE ROUND(SYSDATE,'MONTH') ROUND(SYSDATE,'YEAR')  \\\n",
       "0 2020-02-02 16:45:56             2020-02-01            2020-01-01   \n",
       "\n",
       "  TRUNC(SYSDATE,'MONTH') TRUNC(SYSDATE,'YEAR')  \n",
       "0             2020-02-01            2020-01-01  "
      ]
     },
     "execution_count": 24,
     "metadata": {},
     "output_type": "execute_result"
    }
   ],
   "source": [
    "#ngày từ 1-15 làm tròn xuống, tháng từ 1-6 làm tròn xuống\n",
    "code='''\n",
    "SELECT SYSDATE,ROUND(SYSDATE,'month'), ROUND(SYSDATE,'year'), TRUNC(SYSDATE,'month'), TRUNC(SYSDATE,'year')\n",
    "FROM dual\n",
    "'''\n",
    "pd.read_sql_query(code,conn)"
   ]
  },
  {
   "cell_type": "markdown",
   "metadata": {},
   "source": [
    "### Conversion Functions\n",
    "|Function|Description|\n",
    "|-------|-------|\n",
    "|**TO_DATE**(char,'format')|Convert char thành DATE với khai báo char đang follow theo format cho trước|\n",
    "|**TO_NUMBER**||\n",
    "|**TO_CHAR**(CHARACTER)||\n",
    "|**TO_CHAR**(NUMBER,format)||\n",
    "|**TO_CHAR**(date,'format-date')|convert date thành character với date theo format mong muốn|\n",
    "\n",
    "- implicit data type conversion : oracle tự động converse được sang kiểu phù hợp. ví dụ: '123'+3 thì oracle converse được '123' thành kiểu number 123\n",
    "- explicit data type conversion : ta phải tự viết hàm converse data, data không ở dạng mà oracle có thể tự động converse được."
   ]
  },
  {
   "cell_type": "markdown",
   "metadata": {},
   "source": [
    "**ký hiệu cho date**\n",
    "\n",
    "|Function|Description|\n",
    "|-------|-------|\n",
    "|**YYYY**|hiển thị năm 2017|\n",
    "|**YEAR**|Hiển thị năm viết chữ|\n",
    "|**MONTH**|Hiển thị tháng January|\n",
    "|**MON**|Hiển thị tháng JAN|\n",
    "|**MM**|Hiển thị tháng 01|\n",
    "|**DY**|Hiển thị ngày trong tuần FRI|\n",
    "|**DAY**|Hiển thị ngày trong tuần full-name MONDAY|\n",
    "|**DD**|Hiển thị ngày trong tháng 01,02,...|\n",
    "|**HH24:MI:SS AM**|14:05:34 PM|\n",
    "|**'DD \"of\" MONTH'**|12 of JUNE|\n",
    "|**DDspth**|ngày 14 là 'fourteenth', 'sp' ký hiệu của spelling|\n"
   ]
  },
  {
   "cell_type": "markdown",
   "metadata": {},
   "source": [
    "#### to_char \n",
    "\n",
    "thường dùng cho out-put data\n",
    "\n",
    "```sql\n",
    "SELECT TO_CHAR(SYSDATE,'hh24:mi:ss DD/Month/YYYY') AS DAYY\n",
    "FROM dual\n",
    "\n",
    "SELECT TO_CHAR(CLOSE_P,'$99,999.00') AS GIA \n",
    "FROM dual\n",
    "```\n",
    "#đưa giá về dạng format, `9` đại diện cho số, `0` đại diện cho không phải số nhưng ép số, `$`/`L` đại diện cho tiền tệ"
   ]
  },
  {
   "cell_type": "markdown",
   "metadata": {},
   "source": [
    "#### to_num / to_date\n",
    "\n",
    "thường dùng cho in-put data\n",
    "\n",
    "```sql\n",
    "SELECT STOCK,CLOSE_P AS GIA\n",
    "FROM ALLSTOCKTEST\n",
    "WHERE DAY_TRADING < TO_DATE('21/06/18','DD/MM/RR')\n",
    "```\n",
    "\n",
    "`'DD/MM/RR'` giúp format `'21/06/18'` cho oracle hiểu được"
   ]
  },
  {
   "cell_type": "markdown",
   "metadata": {},
   "source": [
    "### Null Functions\n",
    "chủ yếu là hàm xử lý `null`\n",
    "input parameter có thể là char, num , date, tuy nhiên các kiểu giữ liệu trong cùng 1 hàm phải giống nhau\n",
    "\n",
    "|Function|Description|\n",
    "|-------|-------|\n",
    "|**NVL**(a,c)|=a nếu a `notnull` else =c nếu a=`null`|\n",
    "|**NVL2**(a,b,c)|=b nếu a `notnull` else =c nếu a=`null`|\n",
    "|**NULLIF**(a,b)|=`null` if a=b else =a|\n",
    "|**COALESCE**(a1,a2,...,an)| trả về giá trị đầu tiên `notnull` trong chuỗi từ a1,a2,... else trả `null`|\n"
   ]
  },
  {
   "cell_type": "markdown",
   "metadata": {},
   "source": [
    "```sql\n",
    "SELECT *, COALESCE(TO_char(close_p),to_char(stock),'stock ko có data') as checkdata\n",
    "FROM ALLSTOCKTEST\n",
    "\n",
    "SELECT *, COALESCE(TO_char(close_p),to_char(stock),'stock ko có data') as checkdata\n",
    "FROM ALLSTOCKTEST\n",
    "```"
   ]
  },
  {
   "cell_type": "markdown",
   "metadata": {},
   "source": [
    "### Condition\n",
    "\n",
    "|Function|Description|\n",
    "|-------|-------|\n",
    "|**CASE** a WHEN b THEN c ELSE d END| so sánh nếu `a=b` thì return `c` , nếu ko thì return `d`|\n",
    "|**DECODE**(a,b1,c1,b2,c2,d)| nếu `a=b1` return `c1` else nếu `a=b2` return `c2` else `d`|"
   ]
  },
  {
   "cell_type": "markdown",
   "metadata": {},
   "source": [
    "```sql\n",
    "SELECT STOCK, CLOSE_P,\n",
    "CASE STOCK \n",
    "    WHEN tb.stock='ACB' THEN CLOSE_P*1.1\n",
    "    WHEN tb.stock>'ACC' THEN CLOSE_P*1.2\n",
    "    WHEN 'AVM' THEN CLOSE_P*1.3\n",
    "    ELSE CLOSE_P END AS NEW_P\n",
    "FROM ALLSTOCKTEST tb;\n",
    "```"
   ]
  },
  {
   "cell_type": "markdown",
   "metadata": {},
   "source": [
    "```sql\n",
    "SELECT STOCK, CLOSE_P,\n",
    "DECODE(STOCK,'ACB', CLOSE_P*1.1,\n",
    "             'ACC', CLOSE_P*1.2,\n",
    "             'AVM', CLOSE_P*1.3,\n",
    "        CLOSE_P) AS NEW_P\n",
    "FROM ALLSTOCKTEST\n",
    "```"
   ]
  },
  {
   "cell_type": "markdown",
   "metadata": {},
   "source": [
    "## Aggregate Function\n",
    "\n",
    "Multiple-rows Function\n",
    "\n",
    "`AVG`,`MIN`,`MAX`,`COUNT`,`SUM`,`STDDEV`,`MEDIAN`,`VARIANCE`,...\n",
    "\n",
    "```SQL\n",
    "\n",
    "```\n",
    "- CÁC HÀM BỎ QUA `null`\n",
    "\n",
    "- `COUNT(*)` đếm cả giá trị `null`\n",
    "- `COUNT(col)` ko đếm giá trị `null`"
   ]
  },
  {
   "cell_type": "code",
   "execution_count": 7,
   "metadata": {},
   "outputs": [
    {
     "data": {
      "text/html": [
       "<div>\n",
       "<style scoped>\n",
       "    .dataframe tbody tr th:only-of-type {\n",
       "        vertical-align: middle;\n",
       "    }\n",
       "\n",
       "    .dataframe tbody tr th {\n",
       "        vertical-align: top;\n",
       "    }\n",
       "\n",
       "    .dataframe thead th {\n",
       "        text-align: right;\n",
       "    }\n",
       "</style>\n",
       "<table border=\"1\" class=\"dataframe\">\n",
       "  <thead>\n",
       "    <tr style=\"text-align: right;\">\n",
       "      <th></th>\n",
       "      <th>AVG(CLOSE_P)</th>\n",
       "    </tr>\n",
       "  </thead>\n",
       "  <tbody>\n",
       "    <tr>\n",
       "      <th>0</th>\n",
       "      <td>20.81</td>\n",
       "    </tr>\n",
       "  </tbody>\n",
       "</table>\n",
       "</div>"
      ],
      "text/plain": [
       "   AVG(CLOSE_P)\n",
       "0         20.81"
      ]
     },
     "execution_count": 7,
     "metadata": {},
     "output_type": "execute_result"
    }
   ],
   "source": [
    "code='''\n",
    "SELECT AVG(CLOSE_P)\n",
    "FROM ALLSTOCKTEST\n",
    "'''\n",
    "pd.read_sql_query(code,conn)"
   ]
  }
 ],
 "metadata": {
  "colab": {
   "authorship_tag": "ABX9TyOgdCA6BPyjr7d6crGI+9Ti",
   "collapsed_sections": [],
   "name": "Connect Oracle database test.ipynb",
   "provenance": []
  },
  "kernelspec": {
   "display_name": "Python 3 (ipykernel)",
   "language": "python",
   "name": "python3"
  },
  "language_info": {
   "codemirror_mode": {
    "name": "ipython",
    "version": 3
   },
   "file_extension": ".py",
   "mimetype": "text/x-python",
   "name": "python",
   "nbconvert_exporter": "python",
   "pygments_lexer": "ipython3",
   "version": "3.10.10"
  },
  "toc-autonumbering": true,
  "toc-showmarkdowntxt": false
 },
 "nbformat": 4,
 "nbformat_minor": 4
}
