{
 "cells": [
  {
   "cell_type": "markdown",
   "id": "89c9ebaa",
   "metadata": {},
   "source": [
    "# Multi-modal"
   ]
  }
 ],
 "metadata": {
  "language_info": {
   "name": "python"
  }
 },
 "nbformat": 4,
 "nbformat_minor": 5
}
