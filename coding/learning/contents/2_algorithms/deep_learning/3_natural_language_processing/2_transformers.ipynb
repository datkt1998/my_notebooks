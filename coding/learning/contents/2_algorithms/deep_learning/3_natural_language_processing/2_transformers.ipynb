{
 "cells": [
  {
   "cell_type": "markdown",
   "id": "1dbc0420",
   "metadata": {},
   "source": [
    "# Transformers"
   ]
  }
 ],
 "metadata": {
  "language_info": {
   "name": "python"
  }
 },
 "nbformat": 4,
 "nbformat_minor": 5
}
