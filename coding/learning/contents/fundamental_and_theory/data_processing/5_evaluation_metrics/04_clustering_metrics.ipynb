{
 "cells": [
  {
   "attachments": {},
   "cell_type": "markdown",
   "id": "15ae7496-cc98-4a45-94b1-2aa674a5928d",
   "metadata": {},
   "source": [
    "# Clustering metrics"
   ]
  },
  {
   "cell_type": "code",
   "execution_count": null,
   "id": "61e3b15a-4370-4433-aaed-23b6ea736021",
   "metadata": {},
   "outputs": [],
   "source": [
    "# updating"
   ]
  }
 ],
 "metadata": {
  "kernelspec": {
   "display_name": "Python 3 (ipykernel)",
   "language": "python",
   "name": "python3"
  },
  "language_info": {
   "codemirror_mode": {
    "name": "ipython",
    "version": 3
   },
   "file_extension": ".py",
   "mimetype": "text/x-python",
   "name": "python",
   "nbconvert_exporter": "python",
   "pygments_lexer": "ipython3",
   "version": "3.10.6"
  }
 },
 "nbformat": 4,
 "nbformat_minor": 5
}
