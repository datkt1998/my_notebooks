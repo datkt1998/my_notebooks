{
 "cells": [
  {
   "cell_type": "markdown",
   "metadata": {},
   "source": [
    "# Rating Metrics\n",
    "\n",
    "| Metric                              | Use Cases                                                                                                                                                                                                                                 | Sử Dụng                                                                                                                                                                                                                                          |\n",
    "|-------------------------------------|-------------------------------------------------------------------------------------------------------------------------------------------------------------------------------------------------------------------------------------------|---------------------------------------------------------------------------------------------------------------------------------------------------------------------------------------------------------------------------------------------------|\n",
    "| **Root Mean Squared Error (RMSE)**   | Use Root Mean Squared Error (RMSE) to measure the magnitude of prediction errors, giving more weight to larger errors, which is ideal for scenarios where large deviations from actual values are particularly undesirable.                    | Sử dụng RMSE để đo độ lớn của lỗi dự đoán, với trọng số lớn hơn cho các lỗi lớn, phù hợp cho các tình huống mà sai số lớn từ giá trị thực tế là không mong muốn.                                                                                    |\n",
    "| **Mean Absolute Error (MAE)**        | Use Mean Absolute Error (MAE) to measure the average magnitude of errors in predictions, prioritizing equal weighting to all deviations regardless of direction, useful for scenarios where all errors are equally important.                  | Sử dụng MAE để đo độ lớn trung bình của lỗi trong dự đoán, ưu tiên trọng số đồng đều cho tất cả các sai lệch không phân biệt hướng, hữu ích trong các tình huống mà tất cả lỗi đều quan trọng như nhau.                                              |\n",
    "| **Mean Squared Error (MSE)**         | Use Mean Squared Error (MSE) when evaluating a recommendation system’s predictive accuracy for continuous output, as it penalizes larger errors more severely, ensuring the model’s robustness by emphasizing the minimization of large errors. | Sử dụng MSE khi đánh giá độ chính xác dự đoán của hệ thống gợi ý với đầu ra liên tục, vì nó phạt nặng các lỗi lớn, đảm bảo tính ổn định của mô hình bằng cách nhấn mạnh vào việc giảm thiểu các lỗi lớn.                                        |\n",
    "| **Mean Absolute Percentage Error (MAPE)** | Use Mean Absolute Percentage Error (MAPE) to measure forecast accuracy as a percentage, which is useful when you need to understand error magnitude relative to actual values, particularly in inventory or capacity planning.              | Sử dụng MAPE để đo độ chính xác của dự báo dưới dạng phần trăm, hữu ích khi bạn cần hiểu độ lớn của lỗi so với giá trị thực tế, đặc biệt trong việc lập kế hoạch tồn kho hoặc năng lực.                                                           |\n",
    "| **R² (Coefficient of Determination)**| Use R² (coefficient of determination) in evaluating recommendation systems when assessing the proportion of variance in the observed outcomes (e.g., ratings) that can be predicted from the input variables.                               | Sử dụng R² (hệ số xác định) trong việc đánh giá hệ thống gợi ý khi đánh giá tỷ lệ biến động trong các kết quả quan sát (ví dụ: xếp hạng) có thể được dự đoán từ các biến đầu vào.                                                                |\n",
    "| **Explained Variance**               | Use Explained Variance in evaluating recommendation systems when you aim to measure the proportion of user preference or rating variance that the model successfully captures, indicating the system’s effectiveness in predicting behavior.  | Sử dụng độ biến thiên giải thích trong việc đánh giá hệ thống gợi ý khi bạn muốn đo tỷ lệ biến động của sự ưu tiên hoặc xếp hạng của người dùng mà mô hình thành công trong việc nắm bắt, chỉ ra tính hiệu quả của hệ thống trong việc dự đoán hành vi. |\n"
   ]
  },
  {
   "cell_type": "markdown",
   "metadata": {},
   "source": []
  }
 ],
 "metadata": {
  "language_info": {
   "name": "python"
  }
 },
 "nbformat": 4,
 "nbformat_minor": 2
}
