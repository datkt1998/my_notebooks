{
 "cells": [
  {
   "attachments": {},
   "cell_type": "markdown",
   "id": "d3d1fe59-e99d-4abf-9141-4b6d5a3a54ba",
   "metadata": {},
   "source": [
    "# Inferential statistic"
   ]
  },
  {
   "cell_type": "code",
   "execution_count": 27,
   "id": "480efba7-2067-4bbd-adb3-e459c06cf84d",
   "metadata": {},
   "outputs": [],
   "source": [
    "# import libraries\n",
    "import math\n",
    "import numpy as np\n",
    "import scipy.stats"
   ]
  },
  {
   "attachments": {},
   "cell_type": "markdown",
   "id": "5f089aa5-83fc-43fa-a77f-90fd80d8898d",
   "metadata": {},
   "source": [
    "## Sai số chuẩn (Standard error)\n",
    "- Ước lượng sai số dựa vào tỉ lệ (for proportion), thể hiện mức độ variance của sample với population\n",
    "$$\\sigma_{\\hat{p}} = \\sqrt{\\frac{p(1-p)}{n}}$$"
   ]
  },
  {
   "attachments": {},
   "cell_type": "markdown",
   "id": "f762103b-a9a1-41bf-ae32-0c2f71b89495",
   "metadata": {},
   "source": [
    "## Cách tính khoảng tin cậy\n",
    "$$proportionCI = \\hat{p} \\pm Zscore_{\\alpha/2} * \\frac{\\sigma}{\\sqrt{n}}$$\n",
    "$$meanCI = \\bar{x} \\pm Zscore_{\\alpha/2} * \\frac{\\sigma}{\\sqrt{n}}$$\n",
    "$$uperLimit = sampleParam + Zscore_{\\alpha/2} * standardError$$\n",
    "$$lowerLimit = sampleParam - Zscore_{\\alpha/2} * standardError$$\n",
    "\n",
    "**Bài toán: dự đoán khả năng trúng cử của ứng viên A so với ứng viên B với độ tin cậy là 95%**"
   ]
  },
  {
   "cell_type": "code",
   "execution_count": 50,
   "id": "ea2ae817-f764-4017-aa24-5749b513bf8d",
   "metadata": {},
   "outputs": [
    {
     "name": "stdout",
     "output_type": "stream",
     "text": [
      "Z-score: 1.959963984540054\n",
      "Độ lỗi chuẩn cho tỉ lệ ủng hộ ứng viên A: 0.049749371855330994\n",
      "Độ lỗi chuẩn cho tỉ lệ thu thập được: 0.0049749371855331\n",
      "Tỉ lệ ủng hộ chặn trên: 0.559750697708994\n",
      "Tỉ lệ ủng hộ chặn dưới: 0.5402493022910061\n"
     ]
    }
   ],
   "source": [
    "# lấy mẫu 100 người\n",
    "n = 100\n",
    "\n",
    "# ủng hộ ứng viên A là 55%\n",
    "candidate_A_prop = 0.55\n",
    "\n",
    "# ủng hộ ứng viên B là 45%\n",
    "candidate_B_prop = 0.45\n",
    "\n",
    "# tính Zscore cho ứng viên A với độ tin cậy là 95%\n",
    "qnorm = scipy.stats.norm.ppf(0.975)\n",
    "print( \"Z-score:\", qnorm)\n",
    "\n",
    "# calculate p hat\n",
    "p = candidate_A_prop\n",
    "std_err_prop = math.sqrt(p * (1 - p) / n)\n",
    "print(\"Độ lỗi chuẩn cho tỉ lệ ủng hộ ứng viên A:\", std_err_prop)\n",
    "\n",
    "# calculate standard error of mean\n",
    "std_of_means = std_err_prop / math.sqrt(n)\n",
    "print(\"Độ lỗi chuẩn cho tỉ lệ thu thập được:\", std_of_means)\n",
    "\n",
    "# calculate interval\n",
    "upper_limit = candidate_A_prop + qnorm * std_of_means\n",
    "lower_limit = candidate_A_prop - qnorm * std_of_means\n",
    "print( \"Tỉ lệ ủng hộ chặn trên:\", upper_limit)\n",
    "print(\"Tỉ lệ ủng hộ chặn dưới:\", lower_limit)"
   ]
  },
  {
   "attachments": {},
   "cell_type": "markdown",
   "id": "4d62ac2f-d950-4bf1-b5cb-5bae59617da0",
   "metadata": {},
   "source": [
    "**Bài toán: ước lượng thời gian trung bình (phút) một người chạy trong vòng 1km với độ tin cậy là 95%**"
   ]
  },
  {
   "cell_type": "code",
   "execution_count": 52,
   "id": "993daae8-b830-4a73-8432-e02e85aff9ba",
   "metadata": {},
   "outputs": [
    {
     "name": "stdout",
     "output_type": "stream",
     "text": [
      "Total runners: 9\n",
      "Sample mean: 8.955555555555556\n",
      "Sample standard deviation: 1.28332130826497\n",
      "Standard/Sampling error: 0.4277737694216566\n",
      "Z-score: 1.959963984540054\n",
      "Thời gian trung bình chặn trên: 9.793976737152944\n",
      "Thời gian trung bình chặn dưới: 8.117134373958168\n"
     ]
    }
   ],
   "source": [
    "# thống kê thời gian các lượt chạy\n",
    "list_run_time = np.asarray([11.3, 10.3, 9.6, 9.1, 8.9, 8.9, 8.1, 7.5, 6.9])\n",
    "sample_size = list_run_time.size\n",
    "sample_mean = list_run_time.mean()\n",
    "sample_std = list_run_time.std()\n",
    "standard_err = sample_std / math.sqrt(sample_size)\n",
    "\n",
    "print( \"Total runners:\", sample_size)\n",
    "print( \"Sample mean:\", sample_mean)\n",
    "print( \"Sample standard deviation:\", sample_std)\n",
    "print( \"Standard/Sampling error:\", standard_err)\n",
    "\n",
    "# calculate interval\n",
    "qnorm = scipy.stats.norm.ppf(0.975)\n",
    "print( \"Z-score:\", qnorm)\n",
    "upper_limit = sample_mean + qnorm * standard_err\n",
    "lower_limit = sample_mean - qnorm * standard_err\n",
    "print( \"Thời gian trung bình chặn trên:\", upper_limit)\n",
    "print( \"Thời gian trung bình chặn dưới:\", lower_limit)"
   ]
  }
 ],
 "metadata": {
  "kernelspec": {
   "display_name": "Python 3 (ipykernel)",
   "language": "python",
   "name": "python3"
  },
  "language_info": {
   "codemirror_mode": {
    "name": "ipython",
    "version": 3
   },
   "file_extension": ".py",
   "mimetype": "text/x-python",
   "name": "python",
   "nbconvert_exporter": "python",
   "pygments_lexer": "ipython3",
   "version": "3.10.6"
  },
  "toc-autonumbering": true
 },
 "nbformat": 4,
 "nbformat_minor": 5
}
