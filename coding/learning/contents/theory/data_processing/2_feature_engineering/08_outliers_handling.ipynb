{
 "cells": [
  {
   "attachments": {},
   "cell_type": "markdown",
   "id": "4cfa8cfb-922e-4652-9943-4599ff6fef98",
   "metadata": {},
   "source": [
    "# Outliers\n",
    "So we should first divide our data set into train and tests, and remove outliers in the train set, but keep those in the test set, and measure how well our model is doing.\n",
    "\n",
    "**Outlier detection:** The training data contains outliers which are defined as observations that are far from the others. Outlier detection estimators thus try to fit the regions where the training data is the most concentrated, ignoring the deviant observations.\n",
    "\n",
    "**Novelty detection:** The training data is not polluted by outliers and we are interested in detecting whether a new observation is an outlier. In this context an outlier is also called a novelty."
   ]
  },
  {
   "attachments": {},
   "cell_type": "markdown",
   "id": "b96ac4fc-2bb7-46e3-b284-bfe992c84aba",
   "metadata": {},
   "source": [
    "## Outlier detection methods\n",
    "<img src = \"_images/08outliers_out1.png\">\n",
    "\n",
    "- **Z-score** For normal distribution\n",
    "- **Interquartile Range** for skewed distribution\n",
    "- **Quantile**: `outliers` is out of range [5% - 95%] quantile\n",
    "- **Arbitrary**: `outliers` is out of specific range of values\n",
    "- **Local Outlier Factor (LOF)**\n",
    "- **Isolation Forest** / **Extended Isolation Forest**\n",
    "- **Minimum Covariance Determinant**.\n",
    "- **One-Class SVM**"
   ]
  },
  {
   "cell_type": "code",
   "execution_count": 3,
   "id": "46775d45-c000-4f07-bbc1-bdeca459e7a9",
   "metadata": {},
   "outputs": [],
   "source": [
    "import plotly.express as px\n",
    "\n",
    "def multivar_boxsplot(listvar, df_raw, df_outliers_handled=None, cols = 4, renderer = 'jpeg'):\n",
    "    cols = min(cols, len(listvar))\n",
    "    rows = (len(listvar) // cols) + 1 if ((len(listvar) % cols) != 0) else (len(listvar) // cols)\n",
    "    fig = make_subplots(rows = rows, cols = cols , subplot_titles=listvar)\n",
    "    for i, var in enumerate(listvar):\n",
    "        fig.add_trace(go.Box(y = df_raw[var], name= 'before', boxmean='sd')\n",
    "                      , row=i//cols + 1, col=i%cols + 1 )\n",
    "        if df_outliers_handled is not None: \n",
    "            fig.add_trace(go.Box(y = df_outliers_handled[var], name= 'after', boxmean='sd')\n",
    "                          , row=i//cols + 1, col=i%cols + 1 )\n",
    "    fig.update_layout(autosize = True,height=rows*400, showlegend=False)\n",
    "    fig.show(renderer=renderer)\n",
    "\n",
    "def hist_boxsplot(var, df_raw, df_outliers_handled=None):\n",
    "    df = df_raw[[var]].copy()\n",
    "    df['name_df'] = 'df_raw'\n",
    "    if df_outliers_handled is not None:\n",
    "        df1 = df_outliers_handled[[var]].copy()\n",
    "        df1['name_df'] = 'df_outliers_handled'\n",
    "        df = pd.concat([df,df1])\n",
    "    \n",
    "    fig = px.histogram(df, x=var, color=\"name_df\", marginal=\"box\",  hover_data=df.columns)\n",
    "    fig.update_layout(barmode='overlay')\n",
    "    fig.update_traces(opacity=0.75)\n",
    "    fig.update_xaxes(categoryorder='category ascending')\n",
    "    fig.show(renderer=\"jpeg\")\n",
    "\n",
    "def assign_inliers(sr, method = 'iqr', params = (1.5), retbin_inlier = False):\n",
    "    \"\"\"\n",
    "    method is in ('std', 'iqr', 'quantile','arbitrary')\n",
    "    params is parameter for each method:\n",
    "    - for 'std' method: params = (multiple of std for inliers)\n",
    "    - for 'iqr' method: params = (multiple of iqr for inliers)\n",
    "    - for 'quantile' method: params = (lower quantile for inliers , upper quantile for inliers )\n",
    "    - for 'arbitrary' method: params = (lowest value for inliers , largest value for inliers )\n",
    "    retbin_inlier = True if return interval of inliers\n",
    "    \"\"\"\n",
    "    if type(params) is not tuple:\n",
    "        params = (params,)\n",
    "        \n",
    "    if method == 'std':\n",
    "        interval = (sr.mean() - params[0]*sr.std(), sr.mean() + params[0]*sr.std())\n",
    "    elif method == 'iqr':\n",
    "        iqr = sr.quantile(0.75) - sr.quantile(0.25)\n",
    "        interval = (sr.quantile(0.25) - params[0]*iqr, sr.quantile(0.75) + params[0]*iqr)\n",
    "    elif method == 'quantile':\n",
    "        interval = (sr.quantile(params[0]) , sr.quantile(params[1]))\n",
    "    elif method == 'arbitrary':\n",
    "        interval = (params[0] , params[1])\n",
    "    res = (sr >= interval[0]) & (sr <= interval[1])\n",
    "    \n",
    "    if retbin_inlier:\n",
    "        res = (res, interval)\n",
    "    return res"
   ]
  },
  {
   "cell_type": "code",
   "execution_count": 10,
   "id": "baf5d83e-ca51-4491-8b5b-a74a3497f3f6",
   "metadata": {},
   "outputs": [
    {
     "data": {
      "text/plain": [
       "((731, 2), (314, 2))"
      ]
     },
     "execution_count": 10,
     "metadata": {},
     "output_type": "execute_result"
    }
   ],
   "source": [
    "data = pd.read_csv('Datasets/titanic.csv',usecols = ['age', 'fare', 'survived']).dropna()\n",
    "\n",
    "X_train, X_test, y_train, y_test = train_test_split(\n",
    "    data[['age', 'fare']],\n",
    "    data['survived'],\n",
    "    test_size=0.3,\n",
    "    random_state=0)\n",
    "\n",
    "X_train.shape, X_test.shape"
   ]
  },
  {
   "cell_type": "code",
   "execution_count": 184,
   "id": "ddd4f5e0-0b2f-46e9-9241-75b78f650f92",
   "metadata": {},
   "outputs": [
    {
     "data": {
      "image/jpeg": "[encoded data removed]"
     },
     "metadata": {},
     "output_type": "display_data"
    }
   ],
   "source": [
    "hist_boxsplot('age', X_train)"
   ]
  },
  {
   "attachments": {},
   "cell_type": "markdown",
   "id": "6dbc0a8a-70f4-45ab-a372-d2af746917c2",
   "metadata": {},
   "source": [
    "### Z-score\n",
    "- `Outlier` = {`x` | (`x`> `mean` + `3sdt`) or (`x`< `mean` - `3std`) }"
   ]
  },
  {
   "cell_type": "code",
   "execution_count": null,
   "id": "c80198d7-b231-43d2-a82a-f8a621729b21",
   "metadata": {},
   "outputs": [],
   "source": []
  },
  {
   "attachments": {},
   "cell_type": "markdown",
   "id": "fa7590ba-a904-4852-a436-1498b4f1a70b",
   "metadata": {},
   "source": [
    "### Interquartile Range\n",
    "- IQR = the 75th percentile - the 25th percentile\n",
    "- outliers out of upper/lower boundary\n",
    "    - `Upper boundary` = `75th quantile` + (`IQR` * 1.5)\n",
    "    - `Lower boundary` = `25th quantile` - (`IQR` * 1.5)\n",
    "- extreme case\n",
    "    - `Upper boundary` = `75th quantile` + (`IQR` * 3)\n",
    "    - `Lower boundary` = `25th quantile` - (`IQR` * 3)"
   ]
  },
  {
   "cell_type": "code",
   "execution_count": null,
   "id": "cb2427ae-8220-413a-b8c3-49f803ab4ad9",
   "metadata": {},
   "outputs": [],
   "source": []
  },
  {
   "attachments": {},
   "cell_type": "markdown",
   "id": "f03e6543-3cec-4e7b-a907-bf7039e60645",
   "metadata": {},
   "source": [
    "### Local Outlier Factor (LOF)\n",
    "\n",
    "**Terms**\n",
    "- **`K-distance`** : của 1 điểm là khoảng cách từ điểm đó tới điểm thứ k gần nhất\n",
    "\n",
    "- **`K-neighbors`** Nₖ(A): của 1 điểm A là tập hợp các điểm có khoảng cách nhỏ hơn hoặc bằng K-distance của A. (trong vùng K-neighbors có ít nhất K điểm). ||Nₖ(A)|| là số điểm trong K-neighbors.\n",
    "\n",
    "- **`reachability density (RD)`** : khoảng cách của 1 điểm so với điểm đó, với k-distance của điểm đó\n",
    "\n",
    "    $$RD(A,X) = max( K-distance(X), distance(A,X) )$$\n",
    "\n",
    "- **`Local reachability density (LRD)`** :\n",
    "\n",
    "    $$LRD_{k}(A)=\\frac{1}{\\sum_{X_j \\in N_{k}(A)}\\frac{\\mathrm{RD}(A,X j)}{||N_{k}(A)||}}$$\n",
    "\n",
    "    - thể hiện 1 điểm cách cụm gần nhất xa hay không, low LRD thể hiệm điểm đó càng cách xa cụm gần nhất.\n",
    "\n",
    "- **`local outlier factor (LOF)`**: so sánh LRD trung bình của các điểm thuộc k-neighbors của điểm A với LRD(A)\n",
    "\n",
    "    $$LOF_{k}(A)=\\frac{\\sum_{X j\\,\\,\\in N_{k}(A)}\\,LRD_{k}(X j)}{||N_{k}(A)||}\\times\\frac{1}{LRD_{k}(A)}$$\n",
    "\n",
    "    - LOF <= 1 thường không phải là outlier, LOF lớn có thể là outliers.\n",
    "\n",
    "    \n",
    "**Advantages**\n",
    "- Khá nhạy cảm với điểm nằm gần cụm có mật độ dày nhưng vẫn có thể track là outlier\n",
    "\n",
    "**Disadvantages**\n",
    "- Không có boundary inlier, nên không có method để predict dữ liệu mới liệu có phải outlier hay không ?\n",
    "- Không áp dụng được khi có dữ liệu mới\n",
    "- LOF là phương pháp xác định ngoại lai cho 1 cụm local nào đó thay vì global, lựa chọn K phụ thuộc vào người dùng. "
   ]
  },
  {
   "cell_type": "code",
   "execution_count": 13,
   "id": "c203ab9b-1325-4b6b-90b2-7d4cfa0f95d8",
   "metadata": {},
   "outputs": [
    {
     "name": "stdout",
     "output_type": "stream",
     "text": [
      "(731, 2) (731,)\n",
      "(701, 2) (701,)\n"
     ]
    }
   ],
   "source": [
    "from sklearn.neighbors import LocalOutlierFactor\n",
    "\n",
    "# identify outliers in the training dataset\n",
    "lof = LocalOutlierFactor()\n",
    "x_inliers_hat = lof.fit_predict(X_train)\n",
    "\n",
    "# select all rows that are not outliers\n",
    "mask = (x_inliers_hat != -1)\n",
    "X_train_inliers, y_train_inliers = X_train.loc[mask, :], y_train.loc[mask]\n",
    "\n",
    "# summarize the shape of the updated training dataset\n",
    "print(X_train.shape, y_train.shape)\n",
    "print(X_train_inliers.shape, y_train_inliers.shape)"
   ]
  },
  {
   "attachments": {},
   "cell_type": "markdown",
   "id": "c892e2c7-59b2-4029-b0c0-9f36eda7653b",
   "metadata": {},
   "source": [
    "### Isolation Forest\n",
    "- Sử dụng phân tách cây quyết định nhị phân để tách thành tối đa các leaf, với feature selection và threshold ngẫu nhiên. mức độ score được do bởi độ sâu của lá so với root.\n",
    "\n",
    "**Disadvantages:**\n",
    "- Mô hình phụ thuộc vào hệ số `Contamination` là tỷ lệ outlier trong sample\n",
    "- Mô hình có khả năng bị bias do phương pháp binary cut, ví dụ:\n",
    "( khắc phụ bằng model `Extended Isolation Forest` - thay đổi intercept và slope ngẫu nhiên đường brand cut)\n",
    "\n",
    "<img src = \"_images/08outliers_out2.png\">\n",
    "\n",
    "**--> `Isolation Forest` tạo ra các vùng có khả năng không là outlier nhưng thực tế nếu có point tại đó thì là outlier**\n",
    "\n",
    "<img src = \"_images/08outliers_out3.png\">\n",
    "\n",
    "\n",
    "**So sánh `Isolation Forest` và biến thể**\n"
   ]
  },
  {
   "cell_type": "code",
   "execution_count": 14,
   "id": "86ffd3d9-aa78-4239-8535-b24da66f9a62",
   "metadata": {},
   "outputs": [
    {
     "name": "stdout",
     "output_type": "stream",
     "text": [
      "before remove outliers: (731, 2) (731,)\n",
      "after remove outliers:  (658, 2) (658,)\n"
     ]
    },
    {
     "name": "stderr",
     "output_type": "stream",
     "text": [
      "/Users/khongdat/miniforge3/lib/python3.10/site-packages/sklearn/base.py:409: UserWarning: X does not have valid feature names, but IsolationForest was fitted with feature names\n",
      "  warnings.warn(\n"
     ]
    }
   ],
   "source": [
    "# Vanilla Isolation Forest\n",
    "from sklearn.ensemble import IsolationForest\n",
    "\n",
    "# identify outliers in the training dataset\n",
    "IF = IsolationForest(contamination = 0.1) # Contamination là tỷ lệ outlier\n",
    "x_inliers_hat = IF.fit_predict(X_train)\n",
    "\n",
    "# select all rows that are not outliers\n",
    "mask = (x_inliers_hat != -1)\n",
    "X_train_inliers, y_train_inliers = X_train.loc[mask, :], y_train.loc[mask]\n",
    "\n",
    "# summarize the shape of the updated training dataset\n",
    "print('before remove outliers:',X_train.shape, y_train.shape)\n",
    "print('after remove outliers: ',X_train_inliers.shape, y_train_inliers.shape)"
   ]
  },
  {
   "cell_type": "code",
   "execution_count": null,
   "id": "8fed1ae2-805d-46aa-8973-dade644373ab",
   "metadata": {},
   "outputs": [],
   "source": [
    "# Extended Isolation Forest\n",
    "import eif as iso\n",
    "\n",
    "# change the ExtensionLevel (default = 0 at Vanilla IF), change to (n_dimensions - 1)\n",
    "eif = iso.iForest(X_train.values, \n",
    "                  ntrees = 100, \n",
    "                  sample_size = 256, \n",
    "                  ExtensionLevel = X_train.shape[1] - 1)\n",
    "\n",
    "anomaly_scores = eif.compute_paths(X_in = X_train.values)\n",
    "anomaly_scores_sorted = np.argsort(anomaly_scores)\n",
    "indices_with_preds = anomaly_scores_sorted[-int(np.ceil(anomalies_ratio * X_train.shape[0])):]\n",
    "y_pred = np.zeros_like(y_train)\n",
    "y_pred[indices_with_preds] = 1"
   ]
  },
  {
   "attachments": {},
   "cell_type": "markdown",
   "id": "60a3dcbd-66f4-4cf9-b934-5adaac445e46",
   "metadata": {},
   "source": [
    "### Elliptic Envelope\n",
    "- Áp dụng cho dữ liệu phân bố ellip gaussian\n",
    "\n",
    "**Procedure**\n",
    "\n",
    "- lấy các subset từ samples với size cố định và chọn ra subset có covariance nhỏ nhất. \n",
    "- Tính parameter từ subsample được chọn và outlier là những point có khoảng cách lớn nhất với cụm sample."
   ]
  },
  {
   "cell_type": "code",
   "execution_count": 15,
   "id": "99289c08-dce5-4a43-abfd-462302176c93",
   "metadata": {},
   "outputs": [
    {
     "name": "stdout",
     "output_type": "stream",
     "text": [
      "before remove outliers: (731, 2) (731,)\n",
      "after remove outliers:  (658, 2) (658,)\n"
     ]
    }
   ],
   "source": [
    "from sklearn.covariance import EllipticEnvelope\n",
    "\n",
    "# identify outliers in the training dataset\n",
    "ee = EllipticEnvelope(contamination = 0.1) # Contamination là tỷ lệ outlier\n",
    "x_inliers_hat = ee.fit_predict(X_train)\n",
    "\n",
    "# select all rows that are not outliers\n",
    "mask = (x_inliers_hat != -1)\n",
    "X_train_inliers, y_train_inliers = X_train.loc[mask, :], y_train.loc[mask]\n",
    "\n",
    "# summarize the shape of the updated training dataset\n",
    "print('before remove outliers:',X_train.shape, y_train.shape)\n",
    "print('after remove outliers: ',X_train_inliers.shape, y_train_inliers.shape)"
   ]
  },
  {
   "attachments": {},
   "cell_type": "markdown",
   "id": "519f8fc9-1559-496a-80bc-6d4be77cdd18",
   "metadata": {
    "tags": []
   },
   "source": [
    "### One-Class SVM\n",
    "\n",
    "- `One-class SVM` là 1 biến thể của `Standard-SVM`.\n",
    "    - Với thuật toán **Standard-SVM**, sẽ tìm 1 **hyperplane** (siêu mặt phẳng) để phân tách 2 classes với margin lớn nhất có thể (cách đều 2 điểm `positive` và `negative` gần nhất)\n",
    "    - Với **One-class SVM** sẽ tương tự, nhưng thay vào đó sẽ tìm 1 **hyperphere** (siêu cầu) đều bao gọn các điểm `normal` bên trong, các điểm bên ngoài **hypersphere** sẽ là `outliers`\n",
    "    \n",
    "- **Challenge**:\n",
    "    - Requires fine-tuning of its hyperparameter `nu` to handle outliers and prevent overfitting\n",
    "\n",
    "- `SGDOneClassSVM` : is An online linear version of the **One-Class SVM**. This implementation scales linearly with the number of samples and can be used with a kernel approximation to approximate the solution of a kernelized svm.OneClassSVM whose complexity is at best quadratic in the number of samples, uses a Gaussian kernel by default"
   ]
  },
  {
   "cell_type": "code",
   "execution_count": 16,
   "id": "101f21b6-1e67-4d9e-8ddc-7d07eb1ab90f",
   "metadata": {},
   "outputs": [
    {
     "name": "stdout",
     "output_type": "stream",
     "text": [
      "before remove outliers: (731, 2) (731,)\n",
      "after remove outliers:  (726, 2) (726,)\n"
     ]
    }
   ],
   "source": [
    "from sklearn.svm import OneClassSVM\n",
    "\n",
    "oc = OneClassSVM(nu=0.01) # nu: % outliers in sample\n",
    "x_inliers_hat = oc.fit_predict(X_train)\n",
    "\n",
    "# select all rows that are not outliers\n",
    "mask = x_inliers_hat != -1\n",
    "X_train_inliers, y_train_inliers = X_train.loc[mask, :], y_train.loc[mask]\n",
    "\n",
    "# summarize the shape of the updated training dataset\n",
    "print('before remove outliers:',X_train.shape, y_train.shape)\n",
    "print('after remove outliers: ',X_train_inliers.shape, y_train_inliers.shape)"
   ]
  },
  {
   "attachments": {},
   "cell_type": "markdown",
   "id": "c18d8c5c-25b8-4616-9e22-d7a9730f01a5",
   "metadata": {},
   "source": [
    "## Outlier handling\n",
    "- `Trimming`: remove the outliers from our dataset\n",
    "    - Pros: Quick\n",
    "    - Cons: Outliers could be contained useful information in other variables, and may be remove a big chunk of dataset\n",
    "- `Treat`: outliers would be assign as missing data, and proceed with any `missing data imputation technique`\n",
    "    - Pros: does not remove data\n",
    "    - Cons: distorts the distributions of the variables and relationship among variables\n",
    "- `Discrestisation`: outliers are placed in border bins together with higher or lower values of the distribution\n",
    "- `Censoring` (winsorization/capping/top-bottom coding): capping the variable distribution at a max and / or minimum value, than any value out of cap range would be replace by cap value.\n",
    "    - Pros: does not remove data\n",
    "    - Cons: distorts the distributions of the variables and relationship among variables"
   ]
  },
  {
   "cell_type": "code",
   "execution_count": 211,
   "id": "1431ca78-8c7d-4299-a54d-ff1711d58796",
   "metadata": {},
   "outputs": [],
   "source": [
    "def outlier_action(var, df, action_method = 'trim', assign_params = ('iqr',1.5)):\n",
    "    \"\"\"\n",
    "    action_method is in ('trim', 'cap', 'treat')\n",
    "        - trim: drop outliers obs\n",
    "        - treat: assign outliers value into missing (np.nan)\n",
    "        - cap: assign outliers by the nearest boundary of inliers range\n",
    "    assign_params are method's name and its parameter to assign inlier in `assign_inliers` function:\n",
    "    \"\"\"\n",
    "    df_c = df.copy()\n",
    "    mask, interval = assign_inliers(df_c[var], method = assign_params[0], params = assign_params[1:], retbin_inlier = True)\n",
    "    if action_method == 'trim':\n",
    "        return df_c[mask]\n",
    "    elif action_method == 'treat':\n",
    "        df_c.loc[~mask, var] = np.nan\n",
    "        return df_c\n",
    "    elif action_method == 'cap':\n",
    "        df_c.loc[sr_c < interval[0], var] = interval[0]\n",
    "        df_c.loc[sr_c > interval[1], var] = interval[1]\n",
    "        return df_c"
   ]
  },
  {
   "attachments": {},
   "cell_type": "markdown",
   "id": "ba16701b-325b-4d43-b2d7-e333cc19e0b5",
   "metadata": {},
   "source": [
    "### Trimming"
   ]
  },
  {
   "cell_type": "code",
   "execution_count": 212,
   "id": "bfe3544a-9758-41fb-9d4a-4436777cd0b4",
   "metadata": {},
   "outputs": [
    {
     "data": {
      "image/jpeg": "[encoded data removed]"
     },
     "metadata": {},
     "output_type": "display_data"
    }
   ],
   "source": [
    "X_train_trim = outlier_action('age', X_train, 'trim')\n",
    "hist_boxsplot('age', X_train_trim)"
   ]
  },
  {
   "cell_type": "code",
   "execution_count": 219,
   "id": "0e51f867-5733-4c63-9db9-70660f6c7df3",
   "metadata": {},
   "outputs": [],
   "source": [
    "from feature_engine.outliers import OutlierTrimmer\n",
    "\n",
    "# set up the capper\n",
    "capper = OutlierTrimmer(capping_method='iqr', tail='right', fold=1.5, variables=['age', 'fare'])\n",
    "\n",
    "# fit the capper\n",
    "capper.fit(X_train)\n",
    "\n",
    "# transform the data\n",
    "train_t= capper.transform(X_train)\n",
    "test_t= capper.transform(X_test)"
   ]
  },
  {
   "attachments": {},
   "cell_type": "markdown",
   "id": "3a01eaa5-784b-433b-90d5-01d6b72cac14",
   "metadata": {},
   "source": [
    "### Treat"
   ]
  },
  {
   "cell_type": "code",
   "execution_count": 213,
   "id": "c8ba8018-8295-4169-92eb-562754eb6ec1",
   "metadata": {},
   "outputs": [
    {
     "data": {
      "image/jpeg": "[encoded data removed]"
     },
     "metadata": {},
     "output_type": "display_data"
    }
   ],
   "source": [
    "X_train_treat = outlier_action('age', X_train, 'treat')\n",
    "hist_boxsplot('age', X_train_treat)"
   ]
  },
  {
   "attachments": {},
   "cell_type": "markdown",
   "id": "f184fd4a-def0-4133-99b6-685acbe1a45f",
   "metadata": {},
   "source": [
    "### Cap"
   ]
  },
  {
   "cell_type": "code",
   "execution_count": 214,
   "id": "d179b67b-18c6-4e5d-951e-975e962797b5",
   "metadata": {},
   "outputs": [],
   "source": [
    "# cap by iqr, gaussian, quantiles\n",
    "\n",
    "from feature_engine.outliers import Winsorizer\n",
    "\n",
    "cap = Winsorizer(\n",
    "    capping_method = 'iqr', # gaussian, quantiles\n",
    "    tail = 'both',\n",
    "    fold = 1.5,\n",
    "    add_indicators= False,\n",
    "    variables = ['age'],\n",
    "    missing_values= 'ignore',\n",
    ")\n",
    "\n",
    "cap.fit(X_train)\n",
    "\n",
    "train_t = cap.transform(X_train)\n",
    "test_t = cap.transform(X_test)"
   ]
  },
  {
   "cell_type": "code",
   "execution_count": 217,
   "id": "916b130f-a0a9-4058-9587-43c2a25da6fb",
   "metadata": {},
   "outputs": [],
   "source": [
    "# cap by arbitracy value\n",
    "from feature_engine.outliers import ArbitraryOutlierCapper\n",
    "\n",
    "cap  = ArbitraryOutlierCapper(\n",
    "    max_capping_dict={'age': 50, 'fare': 200},\n",
    "    min_capping_dict={'age': 10, 'fare': 100}\n",
    "        )\n",
    "\n",
    "cap.fit(X_train)\n",
    "\n",
    "train_t = cap.transform(X_train)\n",
    "test_t = cap.transform(X_test)"
   ]
  }
 ],
 "metadata": {
  "kernelspec": {
   "display_name": "Python 3 (ipykernel)",
   "language": "python",
   "name": "python3"
  },
  "language_info": {
   "codemirror_mode": {
    "name": "ipython",
    "version": 3
   },
   "file_extension": ".py",
   "mimetype": "text/x-python",
   "name": "python",
   "nbconvert_exporter": "python",
   "pygments_lexer": "ipython3",
   "version": "3.10.6"
  },
  "toc-autonumbering": true,
  "toc-showcode": false,
  "toc-showmarkdowntxt": false
 },
 "nbformat": 4,
 "nbformat_minor": 5
}
