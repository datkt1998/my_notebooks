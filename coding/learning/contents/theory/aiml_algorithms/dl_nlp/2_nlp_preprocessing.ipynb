{
 "cells": [
  {
   "cell_type": "markdown",
   "metadata": {},
   "source": [
    "# Preprocessing in NLP\n",
    "\n",
    "Mục tiêu của toàn bộ quá trình này là giúp mô hình học máy (Machine Learning) hoặc mô hình học sâu (Deep Learning) nhận được đầu vào “sạch” và “chuẩn hoá”, từ đó đạt hiệu quả cao hơn trong phân tích và dự đoán.\n",
    "\n",
    "NLP Python packages:\n",
    "\n",
    "\n",
    "\n",
    "|NLP Library|\tDescription|\n",
    "|---|---|\n",
    "|NLTK\t|This is one of the most usable and mother of all NLP libraries.|\n",
    "|spaCy\t|This is a completely optimized and highly accurate library widely used in deep learning|\n",
    "|Stanford CoreNLP| Python\tFor client-server-based architecture, this is a good library in NLTK. This is written in JAVA, but it provides modularity to use it in Python.|\n",
    "|TextBlob\t|This is an NLP library which works in Pyhton2 and python3. This is used for processing textual data and provide mainly all type of operation in the form of API.|\n",
    "|Gensim\t|Genism is a robust open source NLP library support in Python. This library is highly efficient and scalable.|\n",
    "|Pattern\t|It is a light-weighted NLP module. This is generally used in Web-mining, crawling or such type of spidering task|\n",
    "|Polyglot\t|For massive multilingual applications, Polyglot is best suitable NLP library. Feature extraction in the way on Identity and Entity.|\n",
    "|PyNLPl\t|PyNLPI also was known as ‘Pineapple’ and supports Python. It provides a parser for many data formats like FoLiA/Giza/Moses/ARPA/Timbl/CQL.|\n",
    "|Vocabulary\t|This library is best to get Semantic type information from the given text.|"
   ]
  },
  {
   "cell_type": "markdown",
   "metadata": {},
   "source": [
    "## General Cleaning (Làm sạch dữ liệu thô ban đầu)"
   ]
  },
  {
   "cell_type": "markdown",
   "metadata": {},
   "source": [
    "- **Chuyển đổi chữ hoa/thường (Case Normalization)**:\n",
    "    - Thường chuyển tất cả về chữ thường (lowercase) để giảm độ phức tạp khi so sánh từ.\n",
    "    - However, do remember that **lowercasing can change the meaning of some text** e.g \"US\" vs \"us\".\n",
    "\n",
    "- **Loại bỏ ký tự hoặc biểu tượng không mong muốn**:\n",
    "    - Ví dụ: ký tự đặc biệt, emoji, đường dẫn (URL), email, ký tự HTML, thẻ HTML, v.v.\n",
    "    - Mục đích: giảm bớt những thành phần không có giá trị ngữ nghĩa hoặc gây nhiễu.\n",
    "\n",
    "- **Loại bỏ khoảng trắng, xuống dòng thừa**:\n",
    "    - Giúp dữ liệu gọn gàng, nhất quán.\n",
    "\n",
    "- **Sửa lỗi chính tả (nếu cần)**: Trong một số bài toán phân tích ngôn ngữ, việc chính tả chính xác có ý nghĩa quan trọng."
   ]
  },
  {
   "cell_type": "markdown",
   "metadata": {},
   "source": [
    "## Removing Noise from the Dataset (Loại bỏ nhiễu)\n",
    "\n",
    "- **Loại bỏ hoặc thay thế token vô nghĩa (Stopwords, từ vô nghĩa trong ngữ cảnh)**:\n",
    "    - Stopwords (như \"và\", \"hoặc\", \"của\" trong tiếng Việt; \"the\", \"is\", \"at\" trong tiếng Anh, v.v.) thường ít mang thông tin ngữ nghĩa và có thể gây nhiễu cho mô hình.\n",
    "    - Tùy bài toán mà quyết định giữ hay bỏ, vì đôi khi stopwords cũng quan trọng trong một số ngữ cảnh.\n",
    "- **Xử lý các từ viết tắt, từ lóng**:\n",
    "    - Ví dụ: “ko” -> “không”, “k” -> “không” (trong tiếng Việt), hoặc “u” -> “you” (tiếng Anh).\n",
    "    - Việc nhất quán hoá các biến thể từ vựng giúp mô hình hiểu rõ hơn.\n",
    "- **Loại bỏ những phần tử không liên quan**:\n",
    "    - Ví dụ: trong các đoạn văn bản có chèn các code snippet, bảng biểu, metadata… không cần thiết cho phân tích.\n"
   ]
  },
  {
   "cell_type": "code",
   "execution_count": 20,
   "metadata": {},
   "outputs": [],
   "source": [
    "import nltk\n",
    "import re"
   ]
  },
  {
   "cell_type": "code",
   "execution_count": null,
   "metadata": {},
   "outputs": [
    {
     "name": "stdout",
     "output_type": "stream",
     "text": [
      "You can read more about AI at \n"
     ]
    }
   ],
   "source": [
    "url_example = \"You can read more about AI at https://viblo.asia/\"\n",
    "url_pattern = re.compile(r\"http\\S+\")\n",
    "print(url_pattern.sub(r\"\", url_example))"
   ]
  },
  {
   "cell_type": "code",
   "execution_count": null,
   "metadata": {},
   "outputs": [
    {
     "name": "stdout",
     "output_type": "stream",
     "text": [
      "   Without you by my side,   I am not complete. You have given me the best of love,  and I want to be by your side forever. Thank you for giving my life that direction it needed.  Thank you for loving me unconditional. \n"
     ]
    }
   ],
   "source": [
    "emoji_pattern = re.compile(\n",
    "    \"[\"\n",
    "    \"\\U0001f600-\\U0001f64f\"  # emoticons\n",
    "    \"\\U0001f300-\\U0001f5ff\"  # symbols & pictographs\n",
    "    \"\\U0001f680-\\U0001f6ff\"  # transport & map symbols\n",
    "    \"\\U0001f1e0-\\U0001f1ff\"  # flags (iOS)\n",
    "    \"\\U00002500-\\U00002bef\"  # chinese char\n",
    "    \"\\U00002702-\\U000027b0\"\n",
    "    \"\\U00002702-\\U000027b0\"\n",
    "    \"\\U000024c2-\\U0001f251\"\n",
    "    \"\\U0001f926-\\U0001f937\"\n",
    "    \"\\U00010000-\\U0010ffff\"\n",
    "    \"\\u2640-\\u2642\"\n",
    "    \"\\u2600-\\u2b55\"\n",
    "    \"\\u200d\"\n",
    "    \"\\u23cf\"\n",
    "    \"\\u23e9\"\n",
    "    \"\\u231a\"\n",
    "    \"\\ufe0f\"  # dingbats\n",
    "    \"\\u3030\"\n",
    "    \"]+\",\n",
    "    flags=re.UNICODE,\n",
    ")\n",
    "emoji_example = \"😅 👠 😆 Without you by my side, 💓 😉 I am not complete. You have given me the best of love, 🎈 and I want to be by your side forever. Thank you for giving my life that direction it needed. 💋‍ Thank you for loving me unconditional. 💏\"\n",
    "print(emoji_pattern.sub(r\"\", emoji_example))\n"
   ]
  },
  {
   "cell_type": "code",
   "execution_count": 28,
   "metadata": {},
   "outputs": [
    {
     "name": "stdout",
     "output_type": "stream",
     "text": [
      "Punctuations: !\"#$%&'()*+,-./:;<=>?@[\\]^_`{|}~\n",
      "\n"
     ]
    },
    {
     "data": {
      "text/plain": [
       "'Her cats name is Luna Her dogs name is max'"
      ]
     },
     "execution_count": 28,
     "metadata": {},
     "output_type": "execute_result"
    }
   ],
   "source": [
    "# Punctuation removal\n",
    "\n",
    "import string\n",
    "\n",
    "print(\"Punctuations: \" + string.punctuation + \"\\n\")\n",
    "\n",
    "sentences = \"Her cat's name is #Luna. Her dog's name is max\"\n",
    "\n",
    "sentences.translate(str.maketrans(\"\", \"\", string.punctuation))\n"
   ]
  },
  {
   "cell_type": "markdown",
   "metadata": {},
   "source": [
    "### Stopwords\n",
    "\n",
    "We remove these words because it removes a lot of complexity from the data. These words don't add much meaning to text so by removing them we are left with a smaller, cleaner dataset. Smaller, cleaner datasets often lead to increased accuracy in machine learning and will also speed up processing times."
   ]
  },
  {
   "cell_type": "code",
   "execution_count": null,
   "metadata": {},
   "outputs": [],
   "source": [
    "%pip install nltk"
   ]
  },
  {
   "cell_type": "code",
   "execution_count": 2,
   "metadata": {},
   "outputs": [
    {
     "name": "stderr",
     "output_type": "stream",
     "text": [
      "[nltk_data] Downloading package stopwords to\n",
      "[nltk_data]     C:\\Users\\datkt\\AppData\\Roaming\\nltk_data...\n",
      "[nltk_data]   Unzipping corpora\\stopwords.zip.\n"
     ]
    }
   ],
   "source": [
    "# import packages\n",
    "import nltk\n",
    "\n",
    "nltk.download(\"stopwords\")\n",
    "from nltk.corpus import stopwords"
   ]
  },
  {
   "cell_type": "code",
   "execution_count": 3,
   "metadata": {},
   "outputs": [
    {
     "name": "stdout",
     "output_type": "stream",
     "text": [
      "['a', 'about', 'above', 'after', 'again', 'against', 'ain', 'all', 'am', 'an', 'and', 'any', 'are', 'aren', \"aren't\", 'as', 'at', 'be', 'because', 'been', 'before', 'being', 'below', 'between', 'both', 'but', 'by', 'can', 'couldn', \"couldn't\", 'd', 'did', 'didn', \"didn't\", 'do', 'does', 'doesn', \"doesn't\", 'doing', 'don', \"don't\", 'down', 'during', 'each', 'few', 'for', 'from', 'further', 'had', 'hadn', \"hadn't\", 'has', 'hasn', \"hasn't\", 'have', 'haven', \"haven't\", 'having', 'he', \"he'd\", \"he'll\", 'her', 'here', 'hers', 'herself', \"he's\", 'him', 'himself', 'his', 'how', 'i', \"i'd\", 'if', \"i'll\", \"i'm\", 'in', 'into', 'is', 'isn', \"isn't\", 'it', \"it'd\", \"it'll\", \"it's\", 'its', 'itself', \"i've\", 'just', 'll', 'm', 'ma', 'me', 'mightn', \"mightn't\", 'more', 'most', 'mustn', \"mustn't\", 'my', 'myself', 'needn', \"needn't\", 'no', 'nor', 'not', 'now', 'o', 'of', 'off', 'on', 'once', 'only', 'or', 'other', 'our', 'ours', 'ourselves', 'out', 'over', 'own', 're', 's', 'same', 'shan', \"shan't\", 'she', \"she'd\", \"she'll\", \"she's\", 'should', 'shouldn', \"shouldn't\", \"should've\", 'so', 'some', 'such', 't', 'than', 'that', \"that'll\", 'the', 'their', 'theirs', 'them', 'themselves', 'then', 'there', 'these', 'they', \"they'd\", \"they'll\", \"they're\", \"they've\", 'this', 'those', 'through', 'to', 'too', 'under', 'until', 'up', 've', 'very', 'was', 'wasn', \"wasn't\", 'we', \"we'd\", \"we'll\", \"we're\", 'were', 'weren', \"weren't\", \"we've\", 'what', 'when', 'where', 'which', 'while', 'who', 'whom', 'why', 'will', 'with', 'won', \"won't\", 'wouldn', \"wouldn't\", 'y', 'you', \"you'd\", \"you'll\", 'your', \"you're\", 'yours', 'yourself', 'yourselves', \"you've\"]\n"
     ]
    }
   ],
   "source": [
    "# assign our stop words to a variable\n",
    "en_stopwords = stopwords.words(\"english\")\n",
    "print(en_stopwords)"
   ]
  },
  {
   "cell_type": "markdown",
   "metadata": {},
   "source": [
    "### Regular expressions\n",
    "\n",
    "Check more detail in package `re` and `regex`"
   ]
  },
  {
   "cell_type": "code",
   "execution_count": 5,
   "metadata": {},
   "outputs": [],
   "source": [
    "import re"
   ]
  },
  {
   "cell_type": "markdown",
   "metadata": {},
   "source": [
    "`re.search`: check if a certain pattern is in a string"
   ]
  },
  {
   "cell_type": "code",
   "execution_count": 6,
   "metadata": {},
   "outputs": [
    {
     "name": "stdout",
     "output_type": "stream",
     "text": [
      "<re.Match object; span=(22, 29), match='pattern'>\n"
     ]
    }
   ],
   "source": [
    "result_search = re.search(\"pattern\", r\"string containing the pattern\")\n",
    "print(result_search)"
   ]
  },
  {
   "cell_type": "code",
   "execution_count": 7,
   "metadata": {},
   "outputs": [
    {
     "data": {
      "text/plain": [
       "'pattern'"
      ]
     },
     "execution_count": 7,
     "metadata": {},
     "output_type": "execute_result"
    }
   ],
   "source": [
    "result_search.group()"
   ]
  },
  {
   "cell_type": "markdown",
   "metadata": {},
   "source": [
    "`re.sub`: find certain text and replace it"
   ]
  },
  {
   "cell_type": "code",
   "execution_count": 10,
   "metadata": {},
   "outputs": [
    {
     "name": "stdout",
     "output_type": "stream",
     "text": [
      "NEW_SARAH was able to help me\n"
     ]
    }
   ],
   "source": [
    "new_string = re.sub(r\"sara\", r\"NEW_SARAH\", r\"sara was able to help me\")\n",
    "print(new_string)"
   ]
  },
  {
   "cell_type": "markdown",
   "metadata": {},
   "source": [
    "\n",
    "## Convert to right-format for the ML Algorithm\n",
    "\n",
    "(Chuẩn hoá dữ liệu để đưa vào mô hình)\n",
    "\n",
    "- **Tokenization (Tách từ)**:\n",
    "    - Tách câu thành các đơn vị từ hoặc subword.\n",
    "    - Trong tiếng Anh thường dễ dàng hơn (tách theo dấu cách và ký tự đặc biệt), còn tiếng Việt cần sử dụng mô hình hoặc thư viện tách từ chuyên dụng (như VnCoreNLP, PyVi, v.v.).\n",
    "\n",
    "- **Stemming / Lemmatization (Giảm biến thể từ vựng)**:\n",
    "    - **Stemming**: cắt bỏ phần “đuôi” của từ để đưa về “gốc” (có thể không phải là từ đúng trong từ điển).\n",
    "    - **Lemmatization**: đưa từ về dạng “gốc từ điển” (chính tắc) dựa vào từ loại, ngữ cảnh. **Lemmatization** về cơ bản là giống với **stemming** khi nó loại bỏ phần đuôi của từ để thu được gốc từ, tuy nhiên các gốc từ ở đây đều thực sự tốn tại chứ không như **stemming** (như ví dụ trên thì từ `moved` sau khi lemmatize sẽ thu được `move`). Trong thư viện NLTK sẽ sử dụng từ điển **Wordnet** để map theo các quy tắc (theo tính chất của từ, từ là danh từ, động từ, trạng từ hay tính từ). Sử dụng part-of-speech tagging (nltk.pos_tag) để thu được các tính chất của từ.\n",
    "  \n",
    "    -> Hai kỹ thuật này giúp giảm sự trùng lặp khi cùng một từ xuất hiện ở các dạng biến thể khác nhau.\n",
    "\n",
    "- **Chuyển dữ liệu sang định dạng mô hình yêu cầu**:\n",
    "    - Bag-of-Words (đếm tần suất từ)\n",
    "    - TF-IDF (xem xét tần suất và mức độ phân biệt của từ)\n",
    "    - Word Embeddings (word2vec, GloVe)\n",
    "    - Mã hoá subword (BPE, SentencePiece)\n",
    "\n",
    "    ->    Tuỳ thuật toán và mô hình mà chọn cách biểu diễn phù hợp.\n",
    "\n",
    "- **Xử lý nhãn (nếu là bài toán giám sát)**:\n",
    "    - Kiểm tra và chuẩn hoá dữ liệu nhãn (label).\n",
    "Ví dụ: chuyển từ “positive” / “negative” / “neutral” sang 0 / 1 / 2 hoặc tương tự."
   ]
  },
  {
   "cell_type": "code",
   "execution_count": null,
   "metadata": {},
   "outputs": [],
   "source": []
  },
  {
   "cell_type": "markdown",
   "metadata": {},
   "source": [
    "### Tokenization"
   ]
  },
  {
   "cell_type": "code",
   "execution_count": 11,
   "metadata": {},
   "outputs": [
    {
     "name": "stderr",
     "output_type": "stream",
     "text": [
      "[nltk_data] Downloading package punkt_tab to\n",
      "[nltk_data]     C:\\Users\\datkt\\AppData\\Roaming\\nltk_data...\n",
      "[nltk_data]   Unzipping tokenizers\\punkt_tab.zip.\n"
     ]
    }
   ],
   "source": [
    "import nltk\n",
    "\n",
    "nltk.download(\"punkt_tab\")\n",
    "from nltk.tokenize import word_tokenize, sent_tokenize"
   ]
  },
  {
   "cell_type": "code",
   "execution_count": 12,
   "metadata": {},
   "outputs": [
    {
     "data": {
      "text/plain": [
       "[\"Her cat's name is Luna.\", \"Her dog's name is max\"]"
      ]
     },
     "execution_count": 12,
     "metadata": {},
     "output_type": "execute_result"
    }
   ],
   "source": [
    "sentences = \"Her cat's name is Luna. Her dog's name is max\"\n",
    "sent_tokenize(sentences)"
   ]
  },
  {
   "cell_type": "code",
   "execution_count": 13,
   "metadata": {},
   "outputs": [
    {
     "data": {
      "text/plain": [
       "['Her',\n",
       " 'cat',\n",
       " \"'s\",\n",
       " 'name',\n",
       " 'is',\n",
       " 'Luna',\n",
       " '.',\n",
       " 'Her',\n",
       " 'dog',\n",
       " \"'s\",\n",
       " 'name',\n",
       " 'is',\n",
       " 'max']"
      ]
     },
     "execution_count": 13,
     "metadata": {},
     "output_type": "execute_result"
    }
   ],
   "source": [
    "word_tokenize(sentences)"
   ]
  },
  {
   "cell_type": "markdown",
   "metadata": {},
   "source": [
    "### Stemming"
   ]
  },
  {
   "cell_type": "code",
   "execution_count": 14,
   "metadata": {},
   "outputs": [],
   "source": [
    "from nltk.stem import PorterStemmer\n",
    "\n",
    "# create stemmer\n",
    "ps = PorterStemmer()"
   ]
  },
  {
   "cell_type": "code",
   "execution_count": 15,
   "metadata": {},
   "outputs": [
    {
     "name": "stdout",
     "output_type": "stream",
     "text": [
      "connecting  -->  connect\n",
      "connected  -->  connect\n",
      "connectivity  -->  connect\n",
      "connect  -->  connect\n",
      "connects  -->  connect\n"
     ]
    }
   ],
   "source": [
    "connect_tokens = [\n",
    "    \"connecting\",\n",
    "    \"connected\",\n",
    "    \"connectivity\",\n",
    "    \"connect\",\n",
    "    \"connects\",\n",
    "]\n",
    "\n",
    "for t in connect_tokens:\n",
    "    print(t, \" --> \", ps.stem(t))"
   ]
  },
  {
   "cell_type": "code",
   "execution_count": null,
   "metadata": {},
   "outputs": [
    {
     "name": "stdout",
     "output_type": "stream",
     "text": [
      "likes  -->  like\n",
      "better  -->  better\n",
      "worse  -->  wors\n",
      "worst  -->  worst\n"
     ]
    }
   ],
   "source": [
    "likes_tokens = [\"likes\", \"better\", \"worse\", \"worst\"]\n",
    "\n",
    "for t in likes_tokens:\n",
    "    print(t, \" --> \", ps.stem(t))"
   ]
  },
  {
   "cell_type": "markdown",
   "metadata": {},
   "source": [
    "### Lemmatization\n",
    "\n",
    "đưa từ về dạng “gốc từ điển” (chính tắc) dựa vào từ loại, ngữ cảnh.\n",
    "\n"
   ]
  },
  {
   "cell_type": "code",
   "execution_count": 29,
   "metadata": {},
   "outputs": [
    {
     "name": "stderr",
     "output_type": "stream",
     "text": [
      "[nltk_data] Downloading package wordnet to\n",
      "[nltk_data]     C:\\Users\\datkt\\AppData\\Roaming\\nltk_data...\n"
     ]
    }
   ],
   "source": [
    "import nltk\n",
    "\n",
    "nltk.download(\"wordnet\")\n",
    "from nltk.stem import WordNetLemmatizer\n",
    "\n",
    "# create lemmatizer\n",
    "lemmatizer = WordNetLemmatizer()"
   ]
  },
  {
   "cell_type": "code",
   "execution_count": 31,
   "metadata": {},
   "outputs": [
    {
     "name": "stdout",
     "output_type": "stream",
     "text": [
      "connecting  :  connecting\n",
      "connected  :  connected\n",
      "connectivity  :  connectivity\n",
      "connect  :  connect\n",
      "connects  :  connects\n"
     ]
    }
   ],
   "source": [
    "for t in connect_tokens:\n",
    "    print(t, \" : \", lemmatizer.lemmatize(t))"
   ]
  },
  {
   "cell_type": "code",
   "execution_count": 30,
   "metadata": {},
   "outputs": [
    {
     "name": "stdout",
     "output_type": "stream",
     "text": [
      "likes  :  like\n",
      "better  :  better\n",
      "worse  :  worse\n",
      "worst  :  worst\n"
     ]
    }
   ],
   "source": [
    "for t in likes_tokens:\n",
    "    print(t, \" : \", lemmatizer.lemmatize(t))"
   ]
  },
  {
   "cell_type": "markdown",
   "metadata": {},
   "source": [
    "## N-grams\n",
    "\n",
    "An n-gram is simply a sequence of neighbouring n words (or tokens), where n can be any number."
   ]
  },
  {
   "cell_type": "code",
   "execution_count": 37,
   "metadata": {},
   "outputs": [
    {
     "name": "stdout",
     "output_type": "stream",
     "text": [
      "(to,)       7\n",
      "(of,)       6\n",
      "(the,)      4\n",
      "(in,)       4\n",
      "(and,)      3\n",
      "           ..\n",
      "(only,)     1\n",
      "(set,)      1\n",
      "(grow,)     1\n",
      "(years,)    1\n",
      "(come,)     1\n",
      "Name: count, Length: 79, dtype: int64\n"
     ]
    }
   ],
   "source": [
    "import pandas as pd\n",
    "\n",
    "tokens = [\n",
    "    \"the\",\n",
    "    \"rise\",\n",
    "    \"of\",\n",
    "    \"artificial\",\n",
    "    \"intelligence\",\n",
    "    \"has\",\n",
    "    \"led\",\n",
    "    \"to\",\n",
    "    \"significant\",\n",
    "    \"advancements\",\n",
    "    \"in\",\n",
    "    \"natural\",\n",
    "    \"language\",\n",
    "    \"processing\",\n",
    "    \"computer\",\n",
    "    \"vision\",\n",
    "    \"and\",\n",
    "    \"other\",\n",
    "    \"fields\",\n",
    "    \"machine\",\n",
    "    \"learning\",\n",
    "    \"algorithms\",\n",
    "    \"are\",\n",
    "    \"becoming\",\n",
    "    \"more\",\n",
    "    \"sophisticated\",\n",
    "    \"enabling\",\n",
    "    \"computers\",\n",
    "    \"to\",\n",
    "    \"perform\",\n",
    "    \"complex\",\n",
    "    \"tasks\",\n",
    "    \"that\",\n",
    "    \"were\",\n",
    "    \"once\",\n",
    "    \"thought\",\n",
    "    \"to\",\n",
    "    \"be\",\n",
    "    \"the\",\n",
    "    \"exclusive\",\n",
    "    \"domain\",\n",
    "    \"of\",\n",
    "    \"humans\",\n",
    "    \"with\",\n",
    "    \"the\",\n",
    "    \"advent\",\n",
    "    \"of\",\n",
    "    \"deep\",\n",
    "    \"learning\",\n",
    "    \"neural\",\n",
    "    \"networks\",\n",
    "    \"have\",\n",
    "    \"become\",\n",
    "    \"even\",\n",
    "    \"more\",\n",
    "    \"powerful\",\n",
    "    \"capable\",\n",
    "    \"of\",\n",
    "    \"processing\",\n",
    "    \"vast\",\n",
    "    \"amounts\",\n",
    "    \"of\",\n",
    "    \"data\",\n",
    "    \"and\",\n",
    "    \"learning\",\n",
    "    \"from\",\n",
    "    \"it\",\n",
    "    \"in\",\n",
    "    \"ways\",\n",
    "    \"that\",\n",
    "    \"were\",\n",
    "    \"not\",\n",
    "    \"possible\",\n",
    "    \"before\",\n",
    "    \"as\",\n",
    "    \"a\",\n",
    "    \"result\",\n",
    "    \"ai\",\n",
    "    \"is\",\n",
    "    \"increasingly\",\n",
    "    \"being\",\n",
    "    \"used\",\n",
    "    \"in\",\n",
    "    \"a\",\n",
    "    \"wide\",\n",
    "    \"range\",\n",
    "    \"of\",\n",
    "    \"industries\",\n",
    "    \"from\",\n",
    "    \"healthcare\",\n",
    "    \"to\",\n",
    "    \"finance\",\n",
    "    \"to\",\n",
    "    \"transportation\",\n",
    "    \"and\",\n",
    "    \"its\",\n",
    "    \"impact\",\n",
    "    \"is\",\n",
    "    \"only\",\n",
    "    \"set\",\n",
    "    \"to\",\n",
    "    \"grow\",\n",
    "    \"in\",\n",
    "    \"the\",\n",
    "    \"years\",\n",
    "    \"to\",\n",
    "    \"come\",\n",
    "]\n",
    "\n",
    "# unigrams: n=1\n",
    "unigrams = pd.Series(nltk.ngrams(tokens, 1)).value_counts()\n",
    "print(unigrams)"
   ]
  },
  {
   "cell_type": "code",
   "execution_count": 38,
   "metadata": {},
   "outputs": [
    {
     "name": "stdout",
     "output_type": "stream",
     "text": [
      "(that, were)                  2\n",
      "(rise, of)                    1\n",
      "(of, artificial)              1\n",
      "(artificial, intelligence)    1\n",
      "(intelligence, has)           1\n",
      "                             ..\n",
      "(grow, in)                    1\n",
      "(in, the)                     1\n",
      "(the, years)                  1\n",
      "(years, to)                   1\n",
      "(to, come)                    1\n",
      "Name: count, Length: 105, dtype: int64\n"
     ]
    }
   ],
   "source": [
    "# unigrams: n=1\n",
    "unigrams = pd.Series(nltk.ngrams(tokens, 2)).value_counts()\n",
    "print(unigrams)"
   ]
  }
 ],
 "metadata": {
  "kernelspec": {
   "display_name": ".venv (3.11.9)",
   "language": "python",
   "name": "python3"
  },
  "language_info": {
   "codemirror_mode": {
    "name": "ipython",
    "version": 3
   },
   "file_extension": ".py",
   "mimetype": "text/x-python",
   "name": "python",
   "nbconvert_exporter": "python",
   "pygments_lexer": "ipython3",
   "version": "3.11.9"
  }
 },
 "nbformat": 4,
 "nbformat_minor": 4
}
