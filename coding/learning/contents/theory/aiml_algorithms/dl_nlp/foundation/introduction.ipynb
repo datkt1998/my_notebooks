{
 "cells": [
  {
   "cell_type": "markdown",
   "id": "2f787a73-8b81-4e0a-af3b-19ff1f93d85c",
   "metadata": {
    "tags": []
   },
   "source": [
    "# Introduction to NLP"
   ]
  },
  {
   "cell_type": "markdown",
   "id": "a0bd8560-5fb6-447b-8eb7-a8c24ad9f3e1",
   "metadata": {},
   "source": [
    "## Introduction\n",
    "\n",
    "**NLP role**:\n",
    "- **Facilitates Communication**: NLP enables seamless interaction between humans and computers: `powering chatbots`, `virtual assistants`, and `machine translation systems`.\n",
    "- **Extracts Meaningful Information**: NLP helps extract insights from unstructured text data: `sentiment analysis`, `named entity recognition`, and `text summarization`.\n",
    "- **Derives Insights**: NLP algorithms analyze textual data to derive patterns and insights, valuable for tasks like `market research`, `social media analysis`, and `customer feedback analysis`.\n",
    "- **Automates Tasks**: NLP automates language-related tasks such as `answering queries`, `categorizing documents`, and `generating reports`, enhancing efficiency and accuracy.\n",
    "- **Personalizes Experiences**: NLP enables `personalized recommendations`, content filtering, and `targeted advertising` by understanding user preferences and behaviors from their language usage.\n",
    "\n",
    "**Important tasks of NLP**:\n",
    "- Text Classification\n",
    "- Text Matching / Similarity:\n",
    "    - `Levenshtein Distance`\n",
    "    - `Phonetic Matching`\n",
    "    - `Flexible String Matching`\n",
    "    - `Cosine Similarity`\n",
    "- Coreference Resolution\n",
    "- Text Summarization\n",
    "- Machine Translation\n",
    "- Natural Language Generation and Understanding\n",
    "    - Chatbot\n",
    "- Optical Character Recognition\n",
    "- Document to Information\n",
    "    - Survey Analysis\n",
    "\n",
    "**Important Libraries for NLP (python)**\n",
    "- **Scikit-learn**: Machine learning in Python\n",
    "- **Natural Language Toolkit (NLTK)**: The complete toolkit for all NLP techniques.\n",
    "- **Pattern** – A web mining module for the with tools for NLP and machine learning.\n",
    "- **TextBlob** – Easy to use nlp tools API, built on top of NLTK and Pattern.\n",
    "- **spaCy** – Industrial strength NLP with Python and Cython.\n",
    "- **Gensim** – Topic Modelling for Humans\n",
    "- **Stanford Core NLP** – NLP services and packages by Stanford NLP Group."
   ]
  }
 ],
 "metadata": {
  "kernelspec": {
   "display_name": "Python 3 (ipykernel)",
   "language": "python",
   "name": "python3"
  },
  "language_info": {
   "codemirror_mode": {
    "name": "ipython",
    "version": 3
   },
   "file_extension": ".py",
   "mimetype": "text/x-python",
   "name": "python",
   "nbconvert_exporter": "python",
   "pygments_lexer": "ipython3",
   "version": "3.11.9"
  },
  "widgets": {
   "application/vnd.jupyter.widget-state+json": {
    "state": {},
    "version_major": 2,
    "version_minor": 0
   }
  }
 },
 "nbformat": 4,
 "nbformat_minor": 5
}
