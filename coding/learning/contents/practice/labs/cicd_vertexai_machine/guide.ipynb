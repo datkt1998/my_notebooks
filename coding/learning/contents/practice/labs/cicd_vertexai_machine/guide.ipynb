{
 "cells": [
  {
   "cell_type": "markdown",
   "metadata": {},
   "source": [
    "# Implement CI/CD for vertexAI machine"
   ]
  }
 ],
 "metadata": {
  "language_info": {
   "name": "python"
  }
 },
 "nbformat": 4,
 "nbformat_minor": 2
}
