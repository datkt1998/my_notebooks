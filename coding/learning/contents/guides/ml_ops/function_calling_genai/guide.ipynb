{
 "cells": [
  {
   "cell_type": "markdown",
   "metadata": {},
   "source": [
    "# Vertex AI Function Calling\n",
    "\n",
    "refs:\n",
    "- https://medium.com/google-cloud/vertex-ai-function-calling-63c6d0e6e095"
   ]
  }
 ],
 "metadata": {
  "language_info": {
   "name": "python"
  }
 },
 "nbformat": 4,
 "nbformat_minor": 2
}
