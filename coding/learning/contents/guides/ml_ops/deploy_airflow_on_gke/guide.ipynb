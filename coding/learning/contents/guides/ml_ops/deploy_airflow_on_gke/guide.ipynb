{
 "cells": [
  {
   "cell_type": "markdown",
   "metadata": {},
   "source": [
    "# Xây dựng quy trình làm việc MLOps bằng Airflow 2 trên GKE\n",
    "\n",
    "Lab: https://codelabs.developers.google.com/codelabs/cloud-mlops-airflow-gke?hl=vi#0"
   ]
  },
  {
   "cell_type": "markdown",
   "metadata": {},
   "source": [
    "## GCP Setup and Authen"
   ]
  },
  {
   "cell_type": "code",
   "execution_count": null,
   "metadata": {},
   "outputs": [],
   "source": [
    "# authen\n",
    "!gcloud auth list"
   ]
  },
  {
   "cell_type": "code",
   "execution_count": 3,
   "metadata": {},
   "outputs": [
    {
     "name": "stdout",
     "output_type": "stream",
     "text": [
      "[core]\n",
      "project = ext-pinetree-dw\n"
     ]
    },
    {
     "name": "stderr",
     "output_type": "stream",
     "text": [
      "\n",
      "Your active configuration is: [default]\n"
     ]
    }
   ],
   "source": [
    "# confirm project\n",
    "!gcloud config list project"
   ]
  },
  {
   "cell_type": "code",
   "execution_count": 5,
   "metadata": {},
   "outputs": [
    {
     "name": "stderr",
     "output_type": "stream",
     "text": [
      "WARNING: Your active project does not match the quota project in your local Application Default Credentials file. This might result in unexpected quota issues.\n",
      "\n",
      "To update your Application Default Credentials quota project, use the `gcloud auth application-default set-quota-project` command.\n",
      "ERROR: (gcloud.config.set) There was a problem refreshing your current auth tokens: Reauthentication failed. cannot prompt during non-interactive execution.\n",
      "Please run:\n",
      "\n",
      "  $ gcloud auth login\n",
      "\n",
      "to obtain new credentials.\n",
      "\n",
      "If you have already logged in with a different account, run:\n",
      "\n",
      "  $ gcloud config set account ACCOUNT\n",
      "\n",
      "to select an already authenticated account to use.\n"
     ]
    }
   ],
   "source": [
    "# set project\n",
    "!gcloud config set project datkt98-test01"
   ]
  },
  {
   "cell_type": "code",
   "execution_count": 1,
   "metadata": {},
   "outputs": [
    {
     "name": "stdout",
     "output_type": "stream",
     "text": [
      "NAME: datkt-pinetree\n",
      "IS_ACTIVE: False\n",
      "ACCOUNT: datkt@pinetree.vn\n",
      "PROJECT: ext-pinetree-dw\n",
      "COMPUTE_DEFAULT_ZONE: asia-southeast1-a\n",
      "COMPUTE_DEFAULT_REGION: asia-southeast1\n",
      "\n",
      "NAME: datkt98-test01\n",
      "IS_ACTIVE: False\n",
      "ACCOUNT: datkt98.test01@gmail.com\n",
      "PROJECT: datkt98-test01\n",
      "COMPUTE_DEFAULT_ZONE: asia-southeast1-a\n",
      "COMPUTE_DEFAULT_REGION: asia-southeast1\n",
      "\n",
      "NAME: default\n",
      "IS_ACTIVE: True\n",
      "ACCOUNT: datkt98.test01@gmail.com\n",
      "PROJECT: ext-pinetree-dw\n",
      "COMPUTE_DEFAULT_ZONE: asia-southeast1-a\n",
      "COMPUTE_DEFAULT_REGION: asia-southeast1\n",
      "\n",
      "NAME: joyas-test\n",
      "IS_ACTIVE: False\n",
      "ACCOUNT: datkt.joyas@gmail.com\n",
      "PROJECT: joyas-vietnam\n",
      "COMPUTE_DEFAULT_ZONE: asia-southeast1-a\n",
      "COMPUTE_DEFAULT_REGION: asia-southeast1\n"
     ]
    }
   ],
   "source": [
    "!gcloud config configurations list"
   ]
  },
  {
   "cell_type": "code",
   "execution_count": 2,
   "metadata": {},
   "outputs": [
    {
     "name": "stderr",
     "output_type": "stream",
     "text": [
      "Activated [datkt98-test01].\n",
      "WARNING: Your active project does not match the quota project in your local Application Default Credentials file. This might result in unexpected quota issues.\n",
      "\n",
      "To update your Application Default Credentials quota project, use the `gcloud auth application-default set-quota-project` command.\n"
     ]
    }
   ],
   "source": [
    "!gcloud config configurations activate datkt98-test01"
   ]
  },
  {
   "cell_type": "code",
   "execution_count": 3,
   "metadata": {},
   "outputs": [
    {
     "name": "stderr",
     "output_type": "stream",
     "text": [
      "Your browser has been opened to visit:\n",
      "\n",
      "    https://accounts.google.com/o/oauth2/auth?response_type=code&client_id=32555940559.apps.googleusercontent.com&redirect_uri=http%3A%2F%2Flocalhost%3A8085%2F&scope=openid+https%3A%2F%2Fwww.googleapis.com%2Fauth%2Fuserinfo.email+https%3A%2F%2Fwww.googleapis.com%2Fauth%2Fcloud-platform+https%3A%2F%2Fwww.googleapis.com%2Fauth%2Fappengine.admin+https%3A%2F%2Fwww.googleapis.com%2Fauth%2Fsqlservice.login+https%3A%2F%2Fwww.googleapis.com%2Fauth%2Fcompute+https%3A%2F%2Fwww.googleapis.com%2Fauth%2Faccounts.reauth&state=SmTunA3yeOXBlk8mZjA6jHBtxjoy7f&access_type=offline&code_challenge=lfeQzcj-6_RxMtoDRMsaOMEddLR6SGCk-25TVNdaSh4&code_challenge_method=S256\n",
      "\n",
      "\n",
      "You are now logged in as [datkt98.test01@gmail.com].\n",
      "Your current project is [datkt98-test01].  You can change this setting by running:\n",
      "  $ gcloud config set project PROJECT_ID\n"
     ]
    }
   ],
   "source": [
    "!gcloud auth login"
   ]
  },
  {
   "cell_type": "markdown",
   "metadata": {},
   "source": [
    "## Initial Instance"
   ]
  },
  {
   "cell_type": "code",
   "execution_count": null,
   "metadata": {},
   "outputs": [],
   "source": [
    "%%bash\n",
    "\n",
    "# Set environment variables\n",
    "export CODELAB_PREFIX=mlops-airflow\n",
    "export PROJECT_NUMBER=$(gcloud projects list --filter=\"${DEVSHELL_PROJECT_ID}\" --format=\"value(PROJECT_NUMBER)\")\n",
    "\n",
    "SUFFIX=$(echo $RANDOM | md5sum | head -c 4; echo;)\n",
    "export CLUSTER_NAME=${CODELAB_PREFIX}\n",
    "export CLUSTER_SA=sa-${CODELAB_PREFIX}\n",
    "export BUCKET_LOGS_NAME=${CODELAB_PREFIX}-logs-${SUFFIX}\n",
    "export BUCKET_DAGS_NAME=${CODELAB_PREFIX}-dags-${SUFFIX}\n",
    "export BUCKET_DATA_NAME=${CODELAB_PREFIX}-data-${SUFFIX}\n",
    "export REPO_NAME=${CODELAB_PREFIX}-repo\n",
    "export REGION=asia-southeast1\n",
    "\n",
    "# Enable Google API's\n",
    "export PROJECT_ID=${DEVSHELL_PROJECT_ID}\n",
    "gcloud config set project ${PROJECT_ID}\n",
    "gcloud services enable \\\n",
    "container.googleapis.com \\\n",
    "cloudbuild.googleapis.com \\\n",
    "artifactregistry.googleapis.com \\\n",
    "storage.googleapis.com"
   ]
  },
  {
   "cell_type": "code",
   "execution_count": null,
   "metadata": {},
   "outputs": [],
   "source": [
    "%%bash\n",
    "\n",
    "# Create a VPC for the GKE cluster\n",
    "gcloud compute networks create mlops --subnet-mode=auto\n",
    "\n",
    "# Create IAM and the needed infrastructure (GKE, Bucket, Artifact Registry)\n",
    "# Create an IAM Service Account\n",
    "gcloud iam service-accounts create ${CLUSTER_SA} --display-name=\"SA for ${CLUSTER_NAME}\"\n",
    "gcloud projects add-iam-policy-binding ${DEVSHELL_PROJECT_ID} --member \"serviceAccount:${CLUSTER_SA}@${DEVSHELL_PROJECT_ID}.iam.gserviceaccount.com\" --role roles/container.defaultNodeServiceAccount\n",
    "\n",
    "# Create a GKE cluster\n",
    "gcloud container clusters create ${CLUSTER_NAME} --zone ${REGION}-a --num-nodes=2 --network=mlops --create-subnetwork name=mlops-subnet --enable-ip-alias --addons GcsFuseCsiDriver --workload-pool=${DEVSHELL_PROJECT_ID}.svc.id.goog --no-enable-insecure-kubelet-readonly-port --service-account=${CLUSTER_SA}@${DEVSHELL_PROJECT_ID}.iam.gserviceaccount.com\n",
    "\n",
    "# Create 1 x node pool for our cluster 1 x node with 1 x L4 GPU for model finetuning\n",
    "gcloud container node-pools create training \\\n",
    "  --accelerator type=nvidia-l4,count=1,gpu-driver-version=latest \\\n",
    "  --project=${PROJECT_ID} \\\n",
    "  --location=${REGION}-a \\\n",
    "  --node-locations=${REGION}-a \\\n",
    "  --cluster=${CLUSTER_NAME} \\\n",
    "  --machine-type=g2-standard-12 \\\n",
    "  --num-nodes=1\n",
    "\n",
    "# Create 1 x node pool for our cluster 1 x node with 2 x L4 GPUs for inference\n",
    "gcloud container node-pools create inference\\\n",
    "  --accelerator type=nvidia-l4,count=2,gpu-driver-version=latest \\\n",
    "  --project=${PROJECT_ID} \\\n",
    "  --location=${REGION}-a \\\n",
    "  --node-locations=${REGION}-a \\\n",
    "  --cluster=${CLUSTER_NAME} \\\n",
    "  --machine-type=g2-standard-24 \\\n",
    "  --num-nodes=1\n",
    "\n",
    "# Download K8s credentials\n",
    "gcloud container clusters get-credentials ${CLUSTER_NAME} --location ${REGION}-a\n",
    "\n",
    "# Create Artifact Registry\n",
    "gcloud artifacts repositories create ${REPO_NAME} --repository-format=docker --location=${REGION}\n",
    "gcloud artifacts repositories add-iam-policy-binding ${REPO_NAME} --member=serviceAccount:${CLUSTER_SA}@${DEVSHELL_PROJECT_ID}.iam.gserviceaccount.com --role=roles/artifactregistry.reader --location=${REGION}"
   ]
  }
 ],
 "metadata": {
  "kernelspec": {
   "display_name": "base",
   "language": "python",
   "name": "python3"
  },
  "language_info": {
   "codemirror_mode": {
    "name": "ipython",
    "version": 3
   },
   "file_extension": ".py",
   "mimetype": "text/x-python",
   "name": "python",
   "nbconvert_exporter": "python",
   "pygments_lexer": "ipython3",
   "version": "3.11.9"
  }
 },
 "nbformat": 4,
 "nbformat_minor": 2
}
