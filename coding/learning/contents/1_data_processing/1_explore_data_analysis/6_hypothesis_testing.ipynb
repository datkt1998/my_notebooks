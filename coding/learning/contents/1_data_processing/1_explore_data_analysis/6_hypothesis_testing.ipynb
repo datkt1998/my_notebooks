{
 "cells": [
  {
   "attachments": {},
   "cell_type": "markdown",
   "id": "cdcc6577-6c7b-4391-8299-21aa919adbeb",
   "metadata": {},
   "source": [
    "# Kiểm định giả thuyết (Hypothesis testing)\n",
    "Thực hiện 4 bước\n",
    "1. Thiệt lập giả thuyết $H_0, H_a$ và chọn mức ý nghĩa/ngưỡng chấp nhận/độ không chắc chắn/độ tin cậy $\\alpha$\n",
    "2. Xác định dạng kiểm định (binomial-test, z-test, t-test, chi-square-test, f-test)\n",
    "3. Tính p-value\n",
    "4. Đối chiếu p-value với mức ý nghĩa đã chọn"
   ]
  },
  {
   "attachments": {},
   "cell_type": "markdown",
   "id": "57c02bd7-159e-4607-a6c6-c26a61253263",
   "metadata": {},
   "source": [
    "## Kiểm định giá trị thống kê"
   ]
  },
  {
   "attachments": {},
   "cell_type": "markdown",
   "id": "1ebfd4d3-becd-4b6e-9a83-b55c1dbe2b4c",
   "metadata": {},
   "source": [
    "**Bài toán 1 (binomial-test): nữ sinh bị gọi lên bảng trả bài nhiều hơn nam đúng hay sai?**\n",
    "\n",
    "- gọi tên 50 người thì thấy tỉ lệ nam/nữ như sau: `n_boys` = 14, `n_girls` = 36\n",
    "\n",
    "1. Thiết lập giả thuyết\n",
    "    - $H_0$ cho rằng nữ bị gọi là do tình cờ (happend by chance) nghĩa là xác suất bị gọi $p \\le 0.5$\n",
    "    - $H_a$ cho rằng nữ bị gọi là do thiên vị (not by chance) nghĩa là xác suất bị gọi $p > 0.5$\n",
    "    - Chọn mức ý nghĩa $\\alpha = 5\\%$. Nếu tỉ lệ nữ bị gọi nhiều hơn 36 có xác suất nhỏ hơn 5% thì ta sẽ loại bỏ $H_0$.\n",
    "2. Xác định dạng kiểm định:\n",
    "    - Đây là binomial-test với $p = 0.5$\n",
    "3. Tính p-value (chính là Zscore)  "
   ]
  },
  {
   "cell_type": "code",
   "execution_count": 53,
   "id": "6ad8bc20-ee27-4358-b500-aab49119ddeb",
   "metadata": {},
   "outputs": [
    {
     "name": "stdout",
     "output_type": "stream",
     "text": [
      "p_value =  0.0012805685488382526\n",
      "Reject H0 => nữ bị gọi là do thiên vị\n"
     ]
    }
   ],
   "source": [
    "n_boys, n_girls = 14, 36\n",
    "n = n_boys + n_girls\n",
    "alpha = 0.05\n",
    "p = 0.51\n",
    "p_value = scipy.stats.binom.pmf(n_girls, n, p)\n",
    "print('p_value = ', p_value)\n",
    "\n",
    "# reject H0 or not\n",
    "if p_value < alpha:\n",
    "    print( \"Reject H0 => nữ bị gọi là do thiên vị\")\n",
    "else:\n",
    "    print( \"Accept H0 => nữ bị gọi là do tình cờ\")"
   ]
  },
  {
   "attachments": {},
   "cell_type": "markdown",
   "id": "6a56ad48-1953-4f0f-ada6-b84d177b6e78",
   "metadata": {},
   "source": [
    "**Bài toán 2 (z-test): test khả năng thắng cử của ứng cử viên**\n",
    "\n",
    "1. Thiết lập giả thuyết\n",
    "    - $H_0: p \\le 0.5$ - ứng viên thua cử\n",
    "    - $H_a: p > 0.5$ - ứng viên thắng cử\n",
    "    - Chọn mức ý nghĩa $\\alpha = 5\\%$.\n",
    "2. Xác định dạng kiểm định:\n",
    "    - Đây là z-test với $z_p = \\frac{\\hat{p} - p_0}{\\sqrt{\\frac{p_0(1 - p_0)}{n}}}$\n",
    "3. Tính p-value (chính là Zscore) "
   ]
  },
  {
   "cell_type": "code",
   "execution_count": 54,
   "id": "66127d2a-5a15-467d-a8ec-002fdb5eb138",
   "metadata": {},
   "outputs": [
    {
     "name": "stdout",
     "output_type": "stream",
     "text": [
      "p_value =  0.03681913506015122\n",
      "Reject H0 => ứng viên thắng cử\n"
     ]
    }
   ],
   "source": [
    "# sample\n",
    "n = 500\n",
    "p_hat = yes = 0.54\n",
    "p_0 = 0.5\n",
    "z_p = (p_hat - p_0)/(math.sqrt(p_0 * (1 - p_0) / n))\n",
    "\n",
    "# one_tail test\n",
    "z_cdf = scipy.stats.norm.cdf(z_p)\n",
    "p_value = 1 - z_cdf\n",
    "\n",
    "print('p_value = ', p_value)\n",
    "\n",
    "# reject H0 or not\n",
    "if p_value < alpha:\n",
    "    print( \"Reject H0 => ứng viên thắng cử\")\n",
    "else:\n",
    "    print( \"Accept H0 => ứng viên thua cử\")"
   ]
  },
  {
   "attachments": {},
   "cell_type": "markdown",
   "id": "7e2a4372-e043-41fb-aacd-272ef84e2201",
   "metadata": {},
   "source": [
    "**Bài toán 3 (z-test): khách hàng không thích sản phẩm nhỏ hơn 20kg, trước khi ship nhà sản xuất cần phải test điều này**\n",
    "1. Thiết lập giả thuyết\n",
    "    - $H_0: \\mu \\ge 20.15 \\ kg$\n",
    "    - $H_a: \\mu < 20.15 \\ kg$\n",
    "    - Chọn mức ý nghĩa $\\alpha = 5\\%$.\n",
    "2. Xác định dạng kiểm định:\n",
    "    - Đây là z-test với $z = \\frac{\\bar{x} - \\mu}{\\frac{\\sigma}{\\sqrt{n}}}$\n",
    "3. Tính p-value (chính là Zscore)       "
   ]
  },
  {
   "cell_type": "code",
   "execution_count": 63,
   "id": "f1eb13ba-ea06-471b-9a57-81ae243bc7ad",
   "metadata": {},
   "outputs": [
    {
     "name": "stdout",
     "output_type": "stream",
     "text": [
      "p_value =  5.999322044891979e-05\n",
      "Reject H0 => không ship hàng\n"
     ]
    }
   ],
   "source": [
    "n = 100\n",
    "mu = 20.15\n",
    "avg_weight = 20.05\n",
    "std_weight = 0.26\n",
    "z = (avg_weight - mu)/(std_weight/math.sqrt(n))\n",
    "\n",
    "#one-tail test\n",
    "p_value = scipy.stats.norm.cdf(z)\n",
    "print('p_value = ', p_value)\n",
    "\n",
    "# reject H0 or not\n",
    "if p_value < alpha:\n",
    "    print( \"Reject H0 => không ship hàng\")\n",
    "else:\n",
    "    print( \"Accept H0 => ship hàng\")"
   ]
  },
  {
   "attachments": {},
   "cell_type": "markdown",
   "id": "6b991fc5-8b20-45dd-b63d-44d9c7c58002",
   "metadata": {},
   "source": [
    "## T_test/Z_test"
   ]
  },
  {
   "attachments": {},
   "cell_type": "markdown",
   "id": "350efd79-57d6-4e15-b9e4-3b1871c03405",
   "metadata": {},
   "source": [
    "### Kiểm định khoảng tin cậy\n",
    "\n",
    "Áp dụng t-statistics khi kích thước mẫu n < 30, ngược lại ta dùng z-score. Khi kích thước mẫu càng lớn thì t-score xấp xỉ z-score.\n",
    "- z-test: so sánh mẫu thu thập với quần thể (sample vs population)\n",
    "- t-test: so sánh 2 mẫu thu thập độc lập (sample_1 vs sample_2, curve_1 vs curve_2)\n"
   ]
  },
  {
   "cell_type": "code",
   "execution_count": 68,
   "id": "37093ce5-b5cf-4112-8e39-1d1398ccf485",
   "metadata": {},
   "outputs": [],
   "source": [
    "# import libraries\n",
    "from scipy import stats\n",
    "import math\n",
    "import numpy as np\n",
    "import matplotlib.pyplot as plt\n",
    "import seaborn as sns"
   ]
  },
  {
   "cell_type": "code",
   "execution_count": 70,
   "id": "5cfc8812-7f1c-4ea7-bcd1-376380606782",
   "metadata": {},
   "outputs": [
    {
     "name": "stdout",
     "output_type": "stream",
     "text": [
      "n = 3: 4.302652729911275\n",
      "n = 10: 2.262157162740991\n",
      "n = 10: 2.093024054408263\n",
      "\n",
      "n = 100: 1.9842169515086827\n",
      "\n",
      "n = 1000: 1.9842169515086827\n",
      "z-score: 1.959963984540054\n"
     ]
    }
   ],
   "source": [
    "# t_test cho từng giá trị n tăng dần, với độ tin cậy 5% (2-tail)\n",
    "print( \"n = 3:\", stats.t.ppf(0.975, 2))\n",
    "print( \"n = 10:\", stats.t.ppf(0.975, 9))\n",
    "print( \"n = 10:\", stats.t.ppf(0.975, 19))\n",
    "print( \"\\nn = 100:\", stats.t.ppf(0.975, 99))\n",
    "print( \"\\nn = 1000:\", stats.t.ppf(0.975, 99))\n",
    "print( \"z-score:\", stats.norm.ppf(0.975))"
   ]
  },
  {
   "attachments": {},
   "cell_type": "markdown",
   "id": "e683391d-4d52-4074-8fb8-9db8b7211ac0",
   "metadata": {},
   "source": [
    "\n",
    "**Bài toán: tính khoảng tin cậy cho điểm số học sinh**\n",
    "$$SE_{\\bar{X}} = \\frac{s}{\\sqrt{n}} \\ (SE: standard \\ error)$$\n",
    "$$UCL = \\bar{x} + tScore * SE_{\\bar{X}}$$\n",
    "$$LCL = \\bar{x} - tScore * SE_{\\bar{X}}$$"
   ]
  },
  {
   "cell_type": "code",
   "execution_count": 77,
   "id": "85bdb66e-b15f-45f9-9508-6f31402aaa57",
   "metadata": {},
   "outputs": [
    {
     "name": "stdout",
     "output_type": "stream",
     "text": [
      "sample mean =  8.025\n",
      "Khoang tin cay 7.770695599535218 - 8.279304400464783\n"
     ]
    }
   ],
   "source": [
    "scores = np.array([10, 9, 8, 8.5, 6, 6.5, 7.25, 9.5, 7.25, 8.25])\n",
    "n_size = len(scores)\n",
    "dof = n-1\n",
    "CI = 0.98 # confidence interval\n",
    "\n",
    "sample_mean = scores.mean()\n",
    "t_score = stats.t.ppf(CI, dof)\n",
    "standard_err = scores.std() / math.sqrt(n)\n",
    "ucl = sample_mean + t_score * standard_err\n",
    "lcl = sample_mean - t_score * standard_err\n",
    "\n",
    "print('sample mean = ', sample_mean)\n",
    "print(f'Khoang tin cay {lcl} - {ucl}')"
   ]
  },
  {
   "attachments": {},
   "cell_type": "markdown",
   "id": "34a4a609-df4a-4e65-b604-43af37b99ac0",
   "metadata": {},
   "source": [
    "### So sánh hai quần thể\n",
    "**Case study**\n",
    "- Sử dụng **aspirin** có giảm tình trạng đau tim hay không?\n",
    "- **Nam giới** khi lái xe thường gây ra tai nạn nhiều hơn **nữ giới** phải không?\n",
    "- Tình trạng an ninh ở **Hồ Chí Minh** có tốt hơn ở **Hà Nội**?\n",
    "- **Nam giới** thường có mức lương cao hơn **nữ giới** đúng không?\n",
    "- **Ăn kiêng** và không tập luyện hay **tập luyện 2h/ngày** nhưng được ăn đủ thứ thì cái nào giúp giảm béo tốt hơn?\n",
    "- Sử dụng **multi-vitamin** có giúp học sinh tiếp thu môn toán tốt hơn không?\n",
    "- Học **online** hay học qua **sách giáo khoa** cái nào tốt hơn?\n",
    "\n",
    "**Steps**\n",
    "1. Chia quần thể thành experiment và control group\n",
    "2. Chuẩn bị các thông số\n",
    "    - Tính standard error\n",
    "    - Tính khoảng tin cậy\n",
    "3. Thực hiện kiểm định giả thuyết\n"
   ]
  },
  {
   "attachments": {},
   "cell_type": "markdown",
   "id": "b7b0d348-ed79-4ee4-9909-974f591bab76",
   "metadata": {},
   "source": [
    "#### Theo tỷ lệ - proportion\n",
    "$$SE = \\sqrt{\\frac{\\hat{p}_1(1 - \\hat{p_1})}{n_1} + \\frac{\\hat{p}_2(1 - \\hat{p_2})}{n_2}}$$\n",
    "$$UCL = (\\hat{p}_2 - \\hat{p}_1) + (Zscore * SE)$$\n",
    "$$LCL = (\\hat{p}_2 - \\hat{p}_1) - (Zscore * SE)$$\n"
   ]
  },
  {
   "attachments": {},
   "cell_type": "markdown",
   "id": "21bf67de-7ec1-4f97-bf1f-ce9f1053f350",
   "metadata": {},
   "source": [
    "**Sử dụng aspirin có giảm tình trạng đau tim hay không?**"
   ]
  },
  {
   "cell_type": "code",
   "execution_count": 82,
   "id": "db80ae96-f1b5-4e77-a9e5-7442e194c264",
   "metadata": {},
   "outputs": [
    {
     "name": "stdout",
     "output_type": "stream",
     "text": [
      "Tỉ lệ phần trăm bị đau tim khi sử dụng aspirin: 0.011716989634970707\n",
      "Tỉ lệ phần trăm bị đau tim khi không sử dụng aspirin: 0.022604422604422605\n",
      "Standard error giữa hai nhóm lấy mẫu: 0.004009385358305656\n",
      "Differences from samples: 0.010887432969451898\n",
      "UCL: 0.018745683871873205\n",
      "LCL: 0.003029182067030593\n"
     ]
    }
   ],
   "source": [
    "# 1. Chia quần thể thành experiment và control group\n",
    "group_aspirin = 2219\n",
    "group_control = 2035\n",
    "aspirin_heart_attacks = 26\n",
    "control_heart_attacks = 46\n",
    "\n",
    "# 2. Tính các thông số\n",
    "p_aspirin_attacks = aspirin_heart_attacks/group_aspirin\n",
    "p_control_attacks = control_heart_attacks/group_control\n",
    "SE = math.sqrt(abs(p_aspirin_attacks * (1-p_aspirin_attacks)/group_aspirin + p_control_attacks * (1-p_control_attacks)/group_control))\n",
    "\n",
    "    # tính khoảng tin cậy\n",
    "diff_from_sample = abs(p_aspirin_attacks - p_control_attacks)\n",
    "critical_value = stats.norm.ppf(0.975)\n",
    "ucl = diff_from_sample + critical_value * SE\n",
    "lcl = diff_from_sample - critical_value * SE\n",
    "\n",
    "print( \"Tỉ lệ phần trăm bị đau tim khi sử dụng aspirin:\", p_aspirin_attacks )\n",
    "print( \"Tỉ lệ phần trăm bị đau tim khi không sử dụng aspirin:\", p_control_attacks )\n",
    "print( \"Standard error giữa hai nhóm lấy mẫu:\", SE)\n",
    "print( \"Differences from samples:\", diff_from_sample)\n",
    "print( \"UCL:\", ucl)\n",
    "print( \"LCL:\", lcl)"
   ]
  },
  {
   "cell_type": "code",
   "execution_count": 83,
   "id": "40668a2a-195a-4156-a189-ec9f6c231b69",
   "metadata": {},
   "outputs": [],
   "source": [
    "# 3. Thực hiện kiểm định giả thuyết\n",
    "# H0: cho rằng tỉ lệ mắc bệnh tim không thay đỗi. Nghĩa là p1 - p0 = 0\n",
    "# H1: cho rằng tỉ lệ mắc bệnh tim sẽ giảm. Nghĩa là p1 - p0 != 0\n",
    "# Chọn significant level (alpha, mức ý nghĩa) = 5%\n",
    "# Ở đây là population nên ta sẽ chọn Z-statistic để test"
   ]
  },
  {
   "attachments": {},
   "cell_type": "markdown",
   "id": "23042599-1c3c-4405-aa2c-c78bc82cc978",
   "metadata": {},
   "source": [
    "$$z = \\frac{(\\hat{p}_1 - \\hat{p}_2) - (p_1 - p_2)}{SE} = \\frac{\\hat{p}_1 - \\hat{p}_2}{SE} \\ (assuming \\ no \\ differences: p_1 = p_2)$$\n"
   ]
  },
  {
   "cell_type": "code",
   "execution_count": 86,
   "id": "a57a3ec4-a9a3-43c0-bd33-4b0b29d981c8",
   "metadata": {},
   "outputs": [
    {
     "name": "stdout",
     "output_type": "stream",
     "text": [
      "Z-score: 2.715486788242492\n",
      "Critical value: 1.959963984540054\n",
      "Reject H0 => Sử dụng aspirin làm giảm nguy cơ bị đau tim\n"
     ]
    }
   ],
   "source": [
    "z = diff_from_sample / SE\n",
    "print( \"Z-score:\", z)\n",
    "print( \"Critical value:\", critical_value)\n",
    "\n",
    "if z > critical_value:\n",
    "    print( \"Reject H0 => Sử dụng aspirin làm giảm nguy cơ bị đau tim\")\n",
    "else:\n",
    "    print( \"Reject Ha => Sử dụng aspirin không làm giảm nguy cơ bị đau tim\")"
   ]
  },
  {
   "attachments": {},
   "cell_type": "markdown",
   "id": "187d7e0f-0449-43bd-afd9-43d917686064",
   "metadata": {},
   "source": [
    "#### Theo mean\n",
    "$$SE = \\sqrt{\\frac{\\sigma_1^2}{n_1} + \\frac{\\sigma_2^2}{n_2}}$$\n",
    "$$UCL = (\\hat{\\mu}_1 - \\hat{\\mu}_1) + (Zscore * SE)$$\n",
    "$$LCL = (\\hat{\\mu}_1 - \\hat{\\mu}_1) - (Zscore * SE)$$"
   ]
  },
  {
   "attachments": {},
   "cell_type": "markdown",
   "id": "fce1b77c-ef4f-432a-b28c-7bfbdaedaa48",
   "metadata": {},
   "source": [
    "Học **online** hay học qua **sách giáo khoa** cái nào tốt hơn?\n",
    "- Chọn ngẫu nhiên 100 học sinh để học online\n",
    "- Chọn ngẫu nhiên 100 học sinh để học qua sách giáo khoa\n",
    "- Cho 2 nhóm này học cùng một kiến thức toán nhưng từ hai nguồn khác nhau (online, sách giáo khoa)\n",
    "- Làm bài kiểm tra toán trắc nghiệm để đánh giá 2 nhóm này."
   ]
  },
  {
   "cell_type": "code",
   "execution_count": 87,
   "id": "ac7a6fd9-5c06-4c5c-a1ca-2a9fb3be4b07",
   "metadata": {
    "scrolled": true
   },
   "outputs": [
    {
     "data": {
      "image/png": "[encoded data removed]",
      "text/plain": [
       "<Figure size 640x480 with 1 Axes>"
      ]
     },
     "metadata": {},
     "output_type": "display_data"
    }
   ],
   "source": [
    "# Kết quả làm kiểm tra toán từ 2 nhóm\n",
    "# A: học online\n",
    "# B: học sách giáo khoa\n",
    "# 30 câu trắc nghiệm, mỗi câu 1 điểm\n",
    "\n",
    "def do_the_test():\n",
    "    n = 100\n",
    "    \n",
    "    # cho từng nhóm làm kiểm tra\n",
    "    group_A_scores = np.asarray([np.random.randint(1, 30) for p in range(0, n)])\n",
    "    group_B_scores = np.asarray([np.random.randint(1, 30) for p in range(0, n)])\n",
    "\n",
    "    # tính số điểm median của hai nhóm\n",
    "    group_A_median_scores = np.median(group_A_scores)\n",
    "    group_B_median_scores = np.median(group_B_scores)\n",
    "    \n",
    "    # so sánh sự khác biệt điểm số\n",
    "    diff_AB = group_A_median_scores - group_B_median_scores\n",
    "    return diff_AB\n",
    "\n",
    "# Thực hiện kiểm tra nhiều lần\n",
    "median_diffs = []\n",
    "for i in range(0, 1000):\n",
    "    median_diffs.append(do_the_test())\n",
    "\n",
    "# biểu diễn bằng histogram    \n",
    "plt.hist(median_diffs)\n",
    "plt.xlabel(\"Med diff\")\n",
    "plt.ylabel(\"Frequency\")\n",
    "plt.show()"
   ]
  },
  {
   "cell_type": "code",
   "execution_count": 89,
   "id": "c2097422-c680-4b9d-9d6f-32582522e6b3",
   "metadata": {},
   "outputs": [
    {
     "name": "stdout",
     "output_type": "stream",
     "text": [
      "Difference mean scores: 1.3000000000000007\n"
     ]
    }
   ],
   "source": [
    "# 1. Chia quần thể thành digital và text group\n",
    "n_digital_group = 130\n",
    "n_text_group = 80\n",
    "\n",
    "digital_mean = 15.8\n",
    "text_mean = 14.5\n",
    "\n",
    "digital_std = 2.8\n",
    "text_std = 2.6\n",
    "\n",
    "diff_of_mean = digital_mean - text_mean\n",
    "print( \"Difference mean scores:\", diff_of_mean)"
   ]
  },
  {
   "cell_type": "code",
   "execution_count": 90,
   "id": "927ccec5-8632-4b8f-8a93-9f5e2e4df407",
   "metadata": {},
   "outputs": [
    {
     "name": "stdout",
     "output_type": "stream",
     "text": [
      "Standard error giữa hai nhóm lấy mẫu: 0.3805360591424843\n",
      "UCL: 2.045836970738074\n",
      "LCL: 0.5541630292619275\n"
     ]
    }
   ],
   "source": [
    "# 2. Chuẩn bị các thông số\n",
    "\n",
    "# tính standard error\n",
    "SE = math.sqrt(digital_std**2 / n_digital_group + text_std**2 / n_text_group)\n",
    "print( \"Standard error giữa hai nhóm lấy mẫu:\", SE)\n",
    "\n",
    "# tính khoảng tin cậy\n",
    "critical_value = stats.norm.ppf(0.975)\n",
    "ucl = diff_of_mean + critical_value * SE\n",
    "lcl = diff_of_mean - critical_value * SE\n",
    "print( \"UCL:\", ucl)\n",
    "print( \"LCL:\", lcl)"
   ]
  },
  {
   "cell_type": "code",
   "execution_count": 91,
   "id": "e7bab4a3-b8dd-401d-ac2c-f182f71cb366",
   "metadata": {
    "tags": []
   },
   "outputs": [],
   "source": [
    "# 3. Thực hiện kiểm định giả thuyết\n",
    "# H0: cho rằng học online không có gì khác học sách giáo khoa. Nghĩa là mean1 - mean2 = 0\n",
    "# H1: cho rằng học online tốt hơn học sách giáo khoa. Nghĩa là mean1 - mean2 > 0\n",
    "# Chọn significant level (alpha, mức ý nghĩa) = 1%\n",
    "# Ở đây là population nên ta sẽ chọn Z-statistic để test"
   ]
  },
  {
   "attachments": {},
   "cell_type": "markdown",
   "id": "3a3fdd31-c6bb-461f-aa14-274665c2ea56",
   "metadata": {},
   "source": [
    "$$z = \\frac{(\\bar{x_1} - \\bar{x_2}) - (\\mu_1 - \\mu_2)}{SE} = \\frac{\\bar{x_1} - \\bar{x_2}}{SE} \\ (assuming \\ no \\ differences: \\mu_1 = \\mu_2)$$"
   ]
  },
  {
   "cell_type": "code",
   "execution_count": 92,
   "id": "33cb2c0b-e745-4e1e-a6df-4a3940486a48",
   "metadata": {},
   "outputs": [
    {
     "name": "stdout",
     "output_type": "stream",
     "text": [
      "Z-score: 3.4162334127532477\n",
      "Critical value: 2.3263478740408408\n",
      "Reject H0 => học online tốt hơn học sách giáo khoa\n"
     ]
    }
   ],
   "source": [
    "z = diff_of_mean / SE\n",
    "print( \"Z-score:\", z)\n",
    "\n",
    "critical_value = stats.norm.ppf(0.99)\n",
    "print( \"Critical value:\", critical_value)\n",
    "\n",
    "if z > critical_value:\n",
    "    print( \"Reject H0 => học online tốt hơn học sách giáo khoa\")\n",
    "else:\n",
    "    print( \"Reject Ha => học online không có gì khác học sách giáo khoa\")"
   ]
  },
  {
   "attachments": {},
   "cell_type": "markdown",
   "id": "b3d234d0-483c-41e4-bd20-68e9745ee5a6",
   "metadata": {
    "tags": []
   },
   "source": [
    "### Chi-Square\n",
    "Còn gọi là goodness-of-fit test: dùng để test các thống kê có phân hoạch theo chu kỳ hay nhóm\n",
    "$$X^2 = \\sum \\frac{(observed - expected)^2}{expected}$$\n",
    "**Bài toán: báo cáo lượt view trong tuần từ phía Facebook có khác Google không?**\n",
    "- H0: hai báo cáo là như nhau\n",
    "- Ha: hai báo cáo là khác nhau"
   ]
  },
  {
   "cell_type": "code",
   "execution_count": 95,
   "id": "9f7bea79-ad06-464a-8264-d3223a0e45aa",
   "metadata": {},
   "outputs": [
    {
     "name": "stdout",
     "output_type": "stream",
     "text": [
      "Chi-square: 9.063333333333334\n",
      "Critical value: 7.814727903251179\n",
      "Reject H0 => hai báo cáo là khác nhau\n"
     ]
    }
   ],
   "source": [
    "# số lượt view trong tuần phía Facebook\n",
    "facebook_page_view_report = np.asarray([30, 50, 60, 60])\n",
    "\n",
    "# số lượt view trong tuần phía Google\n",
    "google_page_view_report = np.asarray([45, 48, 55, 52])\n",
    "\n",
    "# calculate Chi-square\n",
    "diff_observed = (google_page_view_report - facebook_page_view_report)**2\n",
    "facebook_inverse = 1.0 / facebook_page_view_report\n",
    "X2 = np.inner(diff_observed, facebook_inverse)\n",
    "print( \"Chi-square:\", X2)\n",
    "\n",
    "# compare with critical value\n",
    "k = facebook_page_view_report.size\n",
    "dof = k - 1\n",
    "critical_value = stats.chi2.ppf(0.95, dof)\n",
    "print( \"Critical value:\", critical_value)\n",
    "\n",
    "if X2 > critical_value:\n",
    "    print( \"Reject H0 => hai báo cáo là khác nhau\")\n",
    "else:\n",
    "    print( \"Reject Ha => hai báo cáo là như nhau\")"
   ]
  }
 ],
 "metadata": {
  "kernelspec": {
   "display_name": "Python 3 (ipykernel)",
   "language": "python",
   "name": "python3"
  },
  "language_info": {
   "codemirror_mode": {
    "name": "ipython",
    "version": 3
   },
   "file_extension": ".py",
   "mimetype": "text/x-python",
   "name": "python",
   "nbconvert_exporter": "python",
   "pygments_lexer": "ipython3",
   "version": "3.10.6"
  },
  "toc-autonumbering": true
 },
 "nbformat": 4,
 "nbformat_minor": 5
}
