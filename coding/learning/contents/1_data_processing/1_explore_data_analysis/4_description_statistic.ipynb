{
 "cells": [
  {
   "attachments": {},
   "cell_type": "markdown",
   "id": "bb65f303-38e5-4988-96c9-f05a2372f200",
   "metadata": {},
   "source": [
    "# Description statistic\n",
    "\n",
    "    - Nomial : categorical without order\n",
    "    - Numbers\n",
    "    - Odinal: categorical with order\n",
    "    - Ratio"
   ]
  },
  {
   "cell_type": "code",
   "execution_count": 11,
   "id": "777fe989-a4e1-469a-9081-57a7a1553b32",
   "metadata": {},
   "outputs": [
    {
     "name": "stdout",
     "output_type": "stream",
     "text": [
      "         Style NeckLine Material Pattern Type\n",
      "count      500      497      372          391\n",
      "unique      13       16       23           14\n",
      "top     Casual   o-neck   cotton        solid\n",
      "freq       232      271      152          203\n"
     ]
    },
    {
     "data": {
      "text/html": [
       "<div>\n",
       "<style scoped>\n",
       "    .dataframe tbody tr th:only-of-type {\n",
       "        vertical-align: middle;\n",
       "    }\n",
       "\n",
       "    .dataframe tbody tr th {\n",
       "        vertical-align: top;\n",
       "    }\n",
       "\n",
       "    .dataframe thead th {\n",
       "        text-align: right;\n",
       "    }\n",
       "</style>\n",
       "<table border=\"1\" class=\"dataframe\">\n",
       "  <thead>\n",
       "    <tr style=\"text-align: right;\">\n",
       "      <th></th>\n",
       "      <th>Style</th>\n",
       "      <th>NeckLine</th>\n",
       "      <th>Material</th>\n",
       "      <th>Pattern Type</th>\n",
       "    </tr>\n",
       "  </thead>\n",
       "  <tbody>\n",
       "    <tr>\n",
       "      <th>0</th>\n",
       "      <td>Sexy</td>\n",
       "      <td>o-neck</td>\n",
       "      <td>NaN</td>\n",
       "      <td>animal</td>\n",
       "    </tr>\n",
       "    <tr>\n",
       "      <th>1</th>\n",
       "      <td>Casual</td>\n",
       "      <td>o-neck</td>\n",
       "      <td>microfiber</td>\n",
       "      <td>animal</td>\n",
       "    </tr>\n",
       "    <tr>\n",
       "      <th>2</th>\n",
       "      <td>vintage</td>\n",
       "      <td>o-neck</td>\n",
       "      <td>polyster</td>\n",
       "      <td>print</td>\n",
       "    </tr>\n",
       "    <tr>\n",
       "      <th>3</th>\n",
       "      <td>Brief</td>\n",
       "      <td>o-neck</td>\n",
       "      <td>silk</td>\n",
       "      <td>print</td>\n",
       "    </tr>\n",
       "    <tr>\n",
       "      <th>4</th>\n",
       "      <td>cute</td>\n",
       "      <td>o-neck</td>\n",
       "      <td>chiffonfabric</td>\n",
       "      <td>dot</td>\n",
       "    </tr>\n",
       "  </tbody>\n",
       "</table>\n",
       "</div>"
      ],
      "text/plain": [
       "     Style NeckLine       Material Pattern Type\n",
       "0     Sexy   o-neck            NaN       animal\n",
       "1   Casual   o-neck     microfiber       animal\n",
       "2  vintage   o-neck       polyster        print\n",
       "3    Brief   o-neck           silk        print\n",
       "4     cute   o-neck  chiffonfabric          dot"
      ]
     },
     "execution_count": 11,
     "metadata": {},
     "output_type": "execute_result"
    }
   ],
   "source": [
    "# Nomial\n",
    "df_nomial = df[[\"Style\", \"NeckLine\", \"Material\", \"Pattern Type\"]]\n",
    "print(df_nomial.describe())\n",
    "df_nomial.head(5)"
   ]
  },
  {
   "cell_type": "code",
   "execution_count": 34,
   "id": "b140e282-5b92-46b1-bef9-fc6589fac9bd",
   "metadata": {},
   "outputs": [
    {
     "name": "stderr",
     "output_type": "stream",
     "text": [
      "[Stage 2:>                                                          (0 + 1) / 1]\r"
     ]
    },
    {
     "name": "stdout",
     "output_type": "stream",
     "text": [
      "+-------+-----+--------+--------+------------+\n",
      "|summary|Style|NeckLine|Material|Pattern Type|\n",
      "+-------+-----+--------+--------+------------+\n",
      "|  count|  500|     497|     372|         391|\n",
      "|   mean| null|    null|    null|        null|\n",
      "| stddev| null|    null|    null|        null|\n",
      "|    min|Brief|   Scoop| acrylic|      animal|\n",
      "|    max| work|  v-neck|    wool|     striped|\n",
      "+-------+-----+--------+--------+------------+\n",
      "\n"
     ]
    },
    {
     "name": "stderr",
     "output_type": "stream",
     "text": [
      "                                                                                \r"
     ]
    }
   ],
   "source": [
    "df_spark[[\"Style\", \"NeckLine\", \"Material\", \"Pattern Type\"]].describe().show()"
   ]
  },
  {
   "cell_type": "code",
   "execution_count": 12,
   "id": "fb4a58d4-f9cb-4d72-83a6-6044074e9b68",
   "metadata": {},
   "outputs": [
    {
     "name": "stdout",
     "output_type": "stream",
     "text": [
      "           Dress_ID\n",
      "count  5.000000e+02\n",
      "mean   9.055417e+08\n",
      "std    1.736190e+08\n",
      "min    4.442820e+08\n",
      "25%    7.673164e+08\n",
      "50%    9.083296e+08\n",
      "75%    1.039534e+09\n",
      "max    1.253973e+09\n"
     ]
    },
    {
     "data": {
      "text/html": [
       "<div>\n",
       "<style scoped>\n",
       "    .dataframe tbody tr th:only-of-type {\n",
       "        vertical-align: middle;\n",
       "    }\n",
       "\n",
       "    .dataframe tbody tr th {\n",
       "        vertical-align: top;\n",
       "    }\n",
       "\n",
       "    .dataframe thead th {\n",
       "        text-align: right;\n",
       "    }\n",
       "</style>\n",
       "<table border=\"1\" class=\"dataframe\">\n",
       "  <thead>\n",
       "    <tr style=\"text-align: right;\">\n",
       "      <th></th>\n",
       "      <th>Dress_ID</th>\n",
       "    </tr>\n",
       "  </thead>\n",
       "  <tbody>\n",
       "    <tr>\n",
       "      <th>0</th>\n",
       "      <td>1006032852</td>\n",
       "    </tr>\n",
       "    <tr>\n",
       "      <th>1</th>\n",
       "      <td>1212192089</td>\n",
       "    </tr>\n",
       "    <tr>\n",
       "      <th>2</th>\n",
       "      <td>1190380701</td>\n",
       "    </tr>\n",
       "    <tr>\n",
       "      <th>3</th>\n",
       "      <td>966005983</td>\n",
       "    </tr>\n",
       "    <tr>\n",
       "      <th>4</th>\n",
       "      <td>876339541</td>\n",
       "    </tr>\n",
       "  </tbody>\n",
       "</table>\n",
       "</div>"
      ],
      "text/plain": [
       "     Dress_ID\n",
       "0  1006032852\n",
       "1  1212192089\n",
       "2  1190380701\n",
       "3   966005983\n",
       "4   876339541"
      ]
     },
     "execution_count": 12,
     "metadata": {},
     "output_type": "execute_result"
    }
   ],
   "source": [
    "# Numbers\n",
    "df_numbers = df[[\"Dress_ID\"]]\n",
    "print(df_numbers.describe())\n",
    "df_numbers.head(5)"
   ]
  },
  {
   "cell_type": "code",
   "execution_count": 13,
   "id": "ecdafd6f-c46a-40bd-b905-e3f83fe71c8a",
   "metadata": {},
   "outputs": [
    {
     "name": "stdout",
     "output_type": "stream",
     "text": [
      "       Size    Price\n",
      "count   500      498\n",
      "unique    7        7\n",
      "top       M  Average\n",
      "freq    177      252\n"
     ]
    },
    {
     "data": {
      "text/html": [
       "<div>\n",
       "<style scoped>\n",
       "    .dataframe tbody tr th:only-of-type {\n",
       "        vertical-align: middle;\n",
       "    }\n",
       "\n",
       "    .dataframe tbody tr th {\n",
       "        vertical-align: top;\n",
       "    }\n",
       "\n",
       "    .dataframe thead th {\n",
       "        text-align: right;\n",
       "    }\n",
       "</style>\n",
       "<table border=\"1\" class=\"dataframe\">\n",
       "  <thead>\n",
       "    <tr style=\"text-align: right;\">\n",
       "      <th></th>\n",
       "      <th>Size</th>\n",
       "      <th>Price</th>\n",
       "    </tr>\n",
       "  </thead>\n",
       "  <tbody>\n",
       "    <tr>\n",
       "      <th>0</th>\n",
       "      <td>M</td>\n",
       "      <td>Low</td>\n",
       "    </tr>\n",
       "    <tr>\n",
       "      <th>1</th>\n",
       "      <td>L</td>\n",
       "      <td>Low</td>\n",
       "    </tr>\n",
       "    <tr>\n",
       "      <th>2</th>\n",
       "      <td>L</td>\n",
       "      <td>High</td>\n",
       "    </tr>\n",
       "    <tr>\n",
       "      <th>3</th>\n",
       "      <td>L</td>\n",
       "      <td>Average</td>\n",
       "    </tr>\n",
       "    <tr>\n",
       "      <th>4</th>\n",
       "      <td>M</td>\n",
       "      <td>Low</td>\n",
       "    </tr>\n",
       "  </tbody>\n",
       "</table>\n",
       "</div>"
      ],
      "text/plain": [
       "  Size    Price\n",
       "0    M      Low\n",
       "1    L      Low\n",
       "2    L     High\n",
       "3    L  Average\n",
       "4    M      Low"
      ]
     },
     "execution_count": 13,
     "metadata": {},
     "output_type": "execute_result"
    }
   ],
   "source": [
    "# Ordinal\n",
    "df_ordinal = df[[\"Size\",'Price']]\n",
    "print(df_ordinal.describe())\n",
    "df_ordinal.head(5)"
   ]
  },
  {
   "cell_type": "code",
   "execution_count": 14,
   "id": "56379ffa-72fd-4605-a33d-b25de9cb7c49",
   "metadata": {},
   "outputs": [
    {
     "name": "stdout",
     "output_type": "stream",
     "text": [
      "           Rating\n",
      "count  500.000000\n",
      "mean     3.528600\n",
      "std      2.005364\n",
      "min      0.000000\n",
      "25%      3.700000\n",
      "50%      4.600000\n",
      "75%      4.800000\n",
      "max      5.000000\n"
     ]
    },
    {
     "data": {
      "text/html": [
       "<div>\n",
       "<style scoped>\n",
       "    .dataframe tbody tr th:only-of-type {\n",
       "        vertical-align: middle;\n",
       "    }\n",
       "\n",
       "    .dataframe tbody tr th {\n",
       "        vertical-align: top;\n",
       "    }\n",
       "\n",
       "    .dataframe thead th {\n",
       "        text-align: right;\n",
       "    }\n",
       "</style>\n",
       "<table border=\"1\" class=\"dataframe\">\n",
       "  <thead>\n",
       "    <tr style=\"text-align: right;\">\n",
       "      <th></th>\n",
       "      <th>Rating</th>\n",
       "    </tr>\n",
       "  </thead>\n",
       "  <tbody>\n",
       "    <tr>\n",
       "      <th>0</th>\n",
       "      <td>4.6</td>\n",
       "    </tr>\n",
       "    <tr>\n",
       "      <th>1</th>\n",
       "      <td>0.0</td>\n",
       "    </tr>\n",
       "    <tr>\n",
       "      <th>2</th>\n",
       "      <td>0.0</td>\n",
       "    </tr>\n",
       "    <tr>\n",
       "      <th>3</th>\n",
       "      <td>4.6</td>\n",
       "    </tr>\n",
       "    <tr>\n",
       "      <th>4</th>\n",
       "      <td>4.5</td>\n",
       "    </tr>\n",
       "  </tbody>\n",
       "</table>\n",
       "</div>"
      ],
      "text/plain": [
       "   Rating\n",
       "0     4.6\n",
       "1     0.0\n",
       "2     0.0\n",
       "3     4.6\n",
       "4     4.5"
      ]
     },
     "execution_count": 14,
     "metadata": {},
     "output_type": "execute_result"
    }
   ],
   "source": [
    "# ratio\n",
    "df_ratio = df[[\"Rating\"]]\n",
    "print(df_ratio.describe())\n",
    "df_ratio.head(5)"
   ]
  },
  {
   "cell_type": "code",
   "execution_count": 16,
   "id": "39dd339b-e035-401e-8198-1bd6c8f5be72",
   "metadata": {},
   "outputs": [
    {
     "name": "stdout",
     "output_type": "stream",
     "text": [
      "Mean rating: 3.5286\n",
      "Median rating: 4.6\n",
      "Mode rating: 0.0\n"
     ]
    }
   ],
   "source": [
    "mean_rating = df_ratio[\"Rating\"].mean()\n",
    "median_rating = df_ratio[\"Rating\"].median()\n",
    "mode_rating = df_ratio[\"Rating\"].mode().get(0)\n",
    "print(\"Mean rating:\", mean_rating)\n",
    "print(\"Median rating:\", median_rating)\n",
    "print(\"Mode rating:\", mode_rating)"
   ]
  },
  {
   "cell_type": "code",
   "execution_count": 48,
   "id": "4a2496e4-efbb-42c3-a5c3-950faa5595f7",
   "metadata": {},
   "outputs": [
    {
     "name": "stdout",
     "output_type": "stream",
     "text": [
      "Mean rating: 3.5285999937057495\n",
      "Median rating: 4.599999904632568\n"
     ]
    }
   ],
   "source": [
    "# mean\n",
    "mean_rating = df_spark.agg(F.mean(df_spark.Rating)).first()[0]\n",
    "\n",
    "# median\n",
    "df_spark.createOrReplaceTempView(\"df_spark\")\n",
    "median_rating = spark.sql(\"\"\"\n",
    "    SELECT percentile(Rating, 0.5) AS median_rating \n",
    "    FROM df_spark\n",
    "\"\"\").first()[\"median_rating\"]\n",
    "\n",
    "print( \"Mean rating:\", mean_rating)\n",
    "print( \"Median rating:\", median_rating)"
   ]
  },
  {
   "cell_type": "code",
   "execution_count": 17,
   "id": "14d9bf67-f71c-4c6d-a55a-785f6ae9cb33",
   "metadata": {},
   "outputs": [
    {
     "name": "stdout",
     "output_type": "stream",
     "text": [
      "Min rating: 0.0\n",
      "Max rating: 5.0\n",
      "Rating range: 5.0\n"
     ]
    }
   ],
   "source": [
    "# range of rating\n",
    "min_rating = df_ratio[\"Rating\"].min()\n",
    "max_rating = df_ratio[\"Rating\"].max()\n",
    "range_rating = max_rating - min_rating\n",
    "print( \"Min rating:\", min_rating)\n",
    "print( \"Max rating:\", max_rating)\n",
    "print( \"Rating range:\", range_rating)"
   ]
  },
  {
   "cell_type": "code",
   "execution_count": 20,
   "id": "f9f996bb-4585-426b-9439-b4cc9baa150c",
   "metadata": {},
   "outputs": [
    {
     "name": "stdout",
     "output_type": "stream",
     "text": [
      "Rating variance: 4.02148501002004\n"
     ]
    }
   ],
   "source": [
    "# variance of rating\n",
    "var_rating = df_ratio[\"Rating\"].var()\n",
    "print( \"Rating variance:\", var_rating)"
   ]
  },
  {
   "cell_type": "code",
   "execution_count": 22,
   "id": "94b22fc0-9559-4b5f-9386-17b73e2256a8",
   "metadata": {},
   "outputs": [
    {
     "name": "stdout",
     "output_type": "stream",
     "text": [
      "Rating standard deviation: 2.0053640592221753\n"
     ]
    }
   ],
   "source": [
    "# standard deviation of rating\n",
    "std_rating = df_ratio[\"Rating\"].std()\n",
    "print( \"Rating standard deviation:\", std_rating)"
   ]
  }
 ],
 "metadata": {
  "kernelspec": {
   "display_name": "Python 3 (ipykernel)",
   "language": "python",
   "name": "python3"
  },
  "language_info": {
   "codemirror_mode": {
    "name": "ipython",
    "version": 3
   },
   "file_extension": ".py",
   "mimetype": "text/x-python",
   "name": "python",
   "nbconvert_exporter": "python",
   "pygments_lexer": "ipython3",
   "version": "3.10.6"
  },
  "toc-autonumbering": true
 },
 "nbformat": 4,
 "nbformat_minor": 5
}
