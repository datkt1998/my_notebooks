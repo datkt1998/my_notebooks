{
 "cells": [
  {
   "attachments": {},
   "cell_type": "markdown",
   "id": "6f97568d-7dfd-4f02-89b6-f85269252143",
   "metadata": {
    "tags": []
   },
   "source": [
    "# ANOVA\n",
    "Giả định của ANOVA\n",
    "- Normal distribution\n",
    "- Independent observations\n",
    "- Equivalent variance\n",
    "\n",
    "SST: Total sum of squares\n",
    "$$SST = \\sum_{i=1}^n (y_i - \\bar{y})^2$$\n",
    "\n",
    "SSW: Sum of squares within\n",
    "$$SSW = \\sum_{i=1}^k \\sum_{j=1}^{n_i} (x_{ij} - \\bar{x}_i)^2$$\n",
    "\n",
    "SSB: Sum of squares between\n",
    "$$SSB = n \\sum_{i=1}^k \\sum_{j=1}^n (\\bar{x}_i - \\bar{x})^2$$\n",
    "\n",
    "f-statistics\n",
    "$$SST = SSW + SSB$$\n",
    "$$F-stat = \\frac{\\frac{SSB}{m - 1}}{\\frac{SSW}{n_t - m}}$$\n",
    "\n",
    "**Đánh giá các bộ phim có giống nhau?**\n",
    "- H0: đánh giá các bộ phim là như nhau\n",
    "- Ha: đánh giá các bộ phim là khác nhau"
   ]
  },
  {
   "cell_type": "code",
   "execution_count": 97,
   "id": "8c6073d5-74f5-460c-932c-e3662438f792",
   "metadata": {},
   "outputs": [
    {
     "name": "stdout",
     "output_type": "stream",
     "text": [
      "Grand mean: 5.0\n",
      "Total sum of squares: 52.0\n"
     ]
    }
   ],
   "source": [
    "film_A = np.asarray([5, 3, 5, 3])\n",
    "film_B = np.asarray([8, 3, 4, 5])\n",
    "film_C = np.asarray([5, 6, 5, 8])\n",
    "film_D = np.asarray([4, 6, 8, 2])\n",
    "\n",
    "# SST: Total sum of squares\n",
    "mean_A = film_A.mean()\n",
    "mean_B = film_B.mean()\n",
    "mean_C = film_C.mean()\n",
    "mean_D = film_D.mean()\n",
    "\n",
    "mean_collect = np.asarray([mean_A, mean_B, mean_C, mean_D])\n",
    "grand_mean = mean_collect.mean()\n",
    "print( \"Grand mean:\", grand_mean)\n",
    "\n",
    "ss_A = np.inner(film_A - grand_mean, film_A - grand_mean)\n",
    "ss_B = np.inner(film_B - grand_mean, film_B - grand_mean)\n",
    "ss_C = np.inner(film_C - grand_mean, film_C - grand_mean)\n",
    "ss_D = np.inner(film_D - grand_mean, film_D - grand_mean)\n",
    "SST = ss_A + ss_B + ss_C + ss_D\n",
    "print( \"Total sum of squares:\", SST)"
   ]
  },
  {
   "cell_type": "code",
   "execution_count": 98,
   "id": "c2a242f1-9580-4e1a-9b18-37fcb3d9d0a8",
   "metadata": {
    "scrolled": true
   },
   "outputs": [
    {
     "name": "stdout",
     "output_type": "stream",
     "text": [
      "Sum of squares within: 44.0\n"
     ]
    }
   ],
   "source": [
    "# SSW: Sum of squares within\n",
    "sw_A = np.inner(film_A - mean_A, film_A - mean_A)\n",
    "sw_B = np.inner(film_B - mean_B, film_B - mean_B)\n",
    "sw_C = np.inner(film_C - mean_C, film_C - mean_C)\n",
    "sw_D = np.inner(film_D - mean_D, film_D - mean_D)\n",
    "SSW = sw_A + sw_B + sw_C + sw_D\n",
    "print( \"Sum of squares within:\", SSW)"
   ]
  },
  {
   "cell_type": "code",
   "execution_count": 99,
   "id": "48105977-0e26-45fa-9ca8-5cec8c8b9aa8",
   "metadata": {},
   "outputs": [
    {
     "name": "stdout",
     "output_type": "stream",
     "text": [
      "Sum of squares between: 8.0\n"
     ]
    }
   ],
   "source": [
    "# SSB: Sum of squares between\n",
    "n = film_A.size\n",
    "SSB = n * np.inner(mean_collect - grand_mean, mean_collect - grand_mean)\n",
    "print( \"Sum of squares between:\", SSB)"
   ]
  },
  {
   "cell_type": "code",
   "execution_count": 100,
   "id": "5a2b9288-bcff-44d3-9814-c5fddd7c17f4",
   "metadata": {
    "scrolled": true
   },
   "outputs": [
    {
     "name": "stdout",
     "output_type": "stream",
     "text": [
      "F statistics: 0.7272727272727273\n",
      "Critical value: 3.490294819497605\n",
      "Reject Ha => đánh giá các bộ phim là như nhau\n"
     ]
    }
   ],
   "source": [
    "n = film_A.size + film_B.size + film_C.size + film_D.size\n",
    "m = mean_collect.size\n",
    "f_stat = (SSB / (m - 1)) / (SSW / (n - m))\n",
    "print( \"F statistics:\", f_stat)\n",
    "\n",
    "# get critical value\n",
    "dfn = m - 1\n",
    "dfd = n - m\n",
    "critical_value = stats.f.ppf(0.95, dfn, dfd)\n",
    "print( \"Critical value:\", critical_value)\n",
    "\n",
    "if f_stat > critical_value:\n",
    "    print(\"Reject H0 => đánh giá các bộ phim là khác nhau\")\n",
    "else:\n",
    "    print(\"Reject Ha => đánh giá các bộ phim là như nhau\")"
   ]
  }
 ],
 "metadata": {
  "kernelspec": {
   "display_name": "Python 3 (ipykernel)",
   "language": "python",
   "name": "python3"
  },
  "language_info": {
   "codemirror_mode": {
    "name": "ipython",
    "version": 3
   },
   "file_extension": ".py",
   "mimetype": "text/x-python",
   "name": "python",
   "nbconvert_exporter": "python",
   "pygments_lexer": "ipython3",
   "version": "3.10.6"
  },
  "toc-autonumbering": true
 },
 "nbformat": 4,
 "nbformat_minor": 5
}
