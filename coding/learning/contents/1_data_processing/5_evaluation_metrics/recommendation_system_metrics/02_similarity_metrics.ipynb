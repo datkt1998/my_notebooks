{
 "cells": [
  {
   "cell_type": "markdown",
   "metadata": {},
   "source": [
    "# Similirity Metrics\n",
    "\n",
    "| Metric                                 | Use Cases                                                                                                                                                                                                                                            | Các trường hợp sử dụng                                                                                                                                                                                                                                    |\n",
    "|----------------------------------------|-----------------------------------------------------------------------------------------------------------------------------------------------------------------------------------------------------------------------------------------------------|-----------------------------------------------------------------------------------------------------------------------------------------------------------------------------------------------------------------------------------------------------------|\n",
    "| **Cosine Similarity**                      | Use cosine similarity when evaluating the orientation, not magnitude, of user or item vectors in recommendation systems, making it ideal for text-based or attribute-rich data where the pattern of interest, rather than the absolute value, is indicative of user preferences.               | Sử dụng độ tương đồng cosine khi đánh giá hướng, không phải độ lớn của các vector người dùng hoặc mục trong hệ thống gợi ý, làm cho nó lý tưởng cho dữ liệu dựa trên văn bản hoặc giàu thuộc tính, nơi mô hình quan tâm, thay vì giá trị tuyệt đối, phản ánh sở thích của người dùng.               |\n",
    "| **Euclidean Distance**                    | Use Euclidean Distance in evaluating recommendation systems when comparing profiles in a feature space with numerical attributes to gauge similarity based on the ‘straight-line’ distance between points (user-item pairs).                                                              | Sử dụng khoảng cách Euclid để đánh giá hệ thống gợi ý khi so sánh hồ sơ trong không gian thuộc tính với các thuộc tính số để đánh giá sự tương đồng dựa trên khoảng cách “đường thẳng” giữa các điểm (cặp người dùng - mục).                                            |\n",
    "| **Jaccard Index**                          | Use the Jaccard Index when evaluating the similarity between users’ or items’ sets of preferences or choices, particularly when the data is binary and the size of the intersection relative to the union of datasets is of interest.                 | Sử dụng chỉ số Jaccard khi đánh giá sự tương đồng giữa các bộ sở thích hoặc lựa chọn của người dùng hoặc mục, đặc biệt khi dữ liệu là nhị phân và kích thước của phần giao cắt tương đối so với phần hợp của tập dữ liệu là mối quan tâm.                                        |\n",
    "| **Hamming Distance**                       | Use Hamming Distance in evaluating recommendation systems when comparing binary vectors of user preferences or item attributes, typically for assessing similarity or diversity in content-based filtering or collaborative filtering with binary datasets.                               | Sử dụng khoảng cách Hamming để đánh giá hệ thống gợi ý khi so sánh các vector nhị phân về sở thích người dùng hoặc thuộc tính mục, thường để đánh giá sự tương đồng hoặc đa dạng trong bộ lọc dựa trên nội dung hoặc bộ lọc cộng tác với tập dữ liệu nhị phân.                            |\n",
    "| **Manhattan Distance**                     | Use Manhattan Distance in recommendation systems when dealing with high-dimensional, sparse datasets, as it can be more robust to outliers than Euclidean distance and better at capturing differences when multiple dimensions contribute to the dissimilarity.                        | Sử dụng khoảng cách Manhattan trong hệ thống gợi ý khi làm việc với các tập dữ liệu thưa thớt, đa chiều, vì nó có thể bền bỉ hơn với các giá trị ngoại lệ so với khoảng cách Euclid và tốt hơn trong việc nắm bắt sự khác biệt khi nhiều chiều đóng góp vào sự không giống nhau.           |\n",
    "| **Chebyshev Distance**                     | Use Chebyshev Distance in recommendation systems when capturing the maximum disparity across dimensions is crucial, especially in high-dimensional spaces where the most significant difference between items is the most informative for recommendations.                             | Sử dụng khoảng cách Chebyshev trong hệ thống gợi ý khi việc nắm bắt sự khác biệt tối đa giữa các chiều là rất quan trọng, đặc biệt trong không gian đa chiều, nơi sự khác biệt quan trọng nhất giữa các mục là thông tin quan trọng nhất cho các gợi ý.                                      |\n",
    "| **Adjusted Cosine Similarity**             | Use Adjusted Cosine Similarity when evaluating item-based collaborative filtering systems to account for varying user ratings and reduce bias by subtracting the user’s average rating from each of their ratings before computing similarity.                                            | Sử dụng độ tương đồng cosine điều chỉnh khi đánh giá hệ thống lọc cộng tác dựa trên mục để tính đến các đánh giá khác nhau của người dùng và giảm thiểu sự thiên lệch bằng cách trừ đi xếp hạng trung bình của người dùng khỏi từng đánh giá của họ trước khi tính toán sự tương đồng.    |\n",
    "| **Pearson Correlation Coefficient**        | Use Pearson Correlation in evaluating recommendation systems when assessing the linear relationship between users’ ratings, especially when the scale of ratings is important and you assume a normal distribution of the underlying data.                                                 | Sử dụng hệ số tương quan Pearson để đánh giá hệ thống gợi ý khi đánh giá mối quan hệ tuyến tính giữa các đánh giá của người dùng, đặc biệt khi thang đánh giá là quan trọng và bạn giả định sự phân phối chuẩn của dữ liệu cơ bản.                                        |\n",
    "| **Spearman Rank Order Correlation Coefficient** | Use Spearman Rank Order Correlation Coefficient in recommendation systems when assessing the strength and direction of a monotonic relationship between ranked variables, particularly useful in scenarios with non-parametric, ordinal data or when evaluating the ranking quality of recommendations. | Sử dụng hệ số tương quan thứ hạng Spearman trong hệ thống gợi ý khi đánh giá độ mạnh và hướng của một mối quan hệ đơn điệu giữa các biến được xếp hạng, đặc biệt hữu ích trong các tình huống có dữ liệu không tham số, dữ liệu thứ tự hoặc khi đánh giá chất lượng xếp hạng của các gợi ý. |\n"
   ]
  },
  {
   "cell_type": "markdown",
   "metadata": {},
   "source": [
    "## Cosine similarity"
   ]
  },
  {
   "cell_type": "code",
   "execution_count": null,
   "metadata": {},
   "outputs": [],
   "source": [
    "# Cosine Similarity\n",
    "from torch.nn.functional import cosine_similarity"
   ]
  },
  {
   "cell_type": "markdown",
   "metadata": {},
   "source": [
    "## Adjust cosine similarity"
   ]
  },
  {
   "cell_type": "code",
   "execution_count": null,
   "metadata": {},
   "outputs": [],
   "source": [
    "import torch.nn as nn\n",
    "\n",
    "class AdjustedCosineSimilarity(nn.Module):\n",
    "    def __init__(self):\n",
    "        super(AdjustedCosineSimilarity, self).__init__()\n",
    "\n",
    "    def forward(self, x1, x2):\n",
    "        # Mean-centering the vectors\n",
    "        x1_mean_centered = x1 - x1.mean(dim=1, keepdim=True)\n",
    "        x2_mean_centered = x2 - x2.mean(dim=1, keepdim=True)\n",
    "\n",
    "        # Compute cosine similarity\n",
    "        similarity = F.cosine_similarity(x1_mean_centered, x2_mean_centered, dim=1)\n",
    "        return similarity"
   ]
  },
  {
   "cell_type": "markdown",
   "metadata": {},
   "source": [
    "## Euclidean Distance"
   ]
  },
  {
   "cell_type": "code",
   "execution_count": null,
   "metadata": {},
   "outputs": [],
   "source": [
    "import torch.nn as nn\n",
    "\n",
    "class EuclideanDistance(nn.Module):\n",
    "    def __init__(self):\n",
    "        super(EuclideanDistance, self).__init__()\n",
    "\n",
    "    def forward(self, x1, x2):\n",
    "        return torch.sqrt(torch.sum((x1 - x2) ** 2, dim=1))"
   ]
  },
  {
   "cell_type": "markdown",
   "metadata": {},
   "source": [
    "## Jaccard Index"
   ]
  },
  {
   "cell_type": "code",
   "execution_count": null,
   "metadata": {},
   "outputs": [],
   "source": [
    "import torch.nn as nn\n",
    "\n",
    "class JaccardIndex(nn.Module):\n",
    "    def __init__(self):\n",
    "        super(JaccardIndex, self).__init__()\n",
    "\n",
    "    def forward(self, x1, x2):\n",
    "        # Ensure the vectors are binary\n",
    "        x1 = torch.round(torch.sigmoid(x1))\n",
    "        x2 = torch.round(torch.sigmoid(x2))\n",
    "\n",
    "        intersection = torch.sum(torch.min(x1, x2), dim=1)\n",
    "        union = torch.sum(torch.max(x1, x2), dim=1)\n",
    "\n",
    "        # Calculate the Jaccard Index\n",
    "        jaccard_index = intersection / (union + 1e-7)  # Adding a small constant to avoid division by zero\n",
    "        return jaccard_index"
   ]
  },
  {
   "cell_type": "markdown",
   "metadata": {},
   "source": [
    "## Hamming Distance"
   ]
  },
  {
   "cell_type": "code",
   "execution_count": null,
   "metadata": {},
   "outputs": [],
   "source": [
    "import torch.nn as nn\n",
    "\n",
    "class HammingDistance(nn.Module):\n",
    "    def __init__(self):\n",
    "        super(HammingDistance, self).__init__()\n",
    "\n",
    "    def forward(self, x1, x2):\n",
    "        # Assuming x1 and x2 are binary tensors\n",
    "        return torch.sum(torch.abs(x1 - x2), dim=1)"
   ]
  },
  {
   "cell_type": "markdown",
   "metadata": {},
   "source": [
    "## Manhattan Distance"
   ]
  },
  {
   "cell_type": "code",
   "execution_count": null,
   "metadata": {},
   "outputs": [],
   "source": [
    "class ManhattanDistance(nn.Module):\n",
    "    def __init__(self):\n",
    "        super(ManhattanDistance, self).__init__()\n",
    "\n",
    "    def forward(self, x1, x2):\n",
    "        return torch.sum(torch.abs(x1 - x2), dim=1)"
   ]
  },
  {
   "cell_type": "markdown",
   "metadata": {},
   "source": [
    "## Chebyshev Distance"
   ]
  },
  {
   "cell_type": "code",
   "execution_count": null,
   "metadata": {},
   "outputs": [],
   "source": [
    "class ChebyshevDistance(nn.Module):\n",
    "    def __init__(self):\n",
    "        super(ChebyshevDistance, self).__init__()\n",
    "\n",
    "    def forward(self, x1, x2):\n",
    "        return torch.max(torch.abs(x1 - x2), dim=1).values"
   ]
  },
  {
   "cell_type": "markdown",
   "metadata": {},
   "source": [
    "## Pearson Correlation Coefficient"
   ]
  },
  {
   "cell_type": "code",
   "execution_count": null,
   "metadata": {},
   "outputs": [],
   "source": [
    "from torch.nn.functional import cosine_similarity\n",
    "\n",
    "product1_emb_normalized = product1_emb - product1_emb.mean()\n",
    "product2_emb_normalized = product2_emb - product2_emb.mean()\n",
    "pearson_corr = cosine_similarity(product1_emb_normalized, product2_emb_normalized)"
   ]
  },
  {
   "cell_type": "markdown",
   "metadata": {},
   "source": [
    "## Spearman Rank Order Correlation Coefficient"
   ]
  },
  {
   "cell_type": "code",
   "execution_count": null,
   "metadata": {},
   "outputs": [],
   "source": [
    "from scipy.stats import spearmanr\n",
    "\n",
    "product1_emb = skipgram.get_center_emb(torch.LongTensor(product1_id).to(device))\n",
    "product2_emb = skipgram.get_center_emb(torch.LongTensor(product2_id).to(device))\n",
    "\n",
    "# Compute Euclidean Distance\n",
    "euclidean_distance = EuclideanDistance()\n",
    "euclidean_distances = euclidean_distance(product1_emb, product2_emb).detach().cpu().numpy()\n",
    "\n",
    "# Compute Spearman rank-order correlation coefficient\n",
    "spearman_corr, _ = spearmanr(euclidean_distances, val_samp['edge'])"
   ]
  }
 ],
 "metadata": {
  "language_info": {
   "name": "python"
  }
 },
 "nbformat": 4,
 "nbformat_minor": 2
}
