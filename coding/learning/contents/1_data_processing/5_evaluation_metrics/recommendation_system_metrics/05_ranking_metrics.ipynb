{
 "cells": [
  {
   "cell_type": "markdown",
   "metadata": {},
   "source": [
    "# Ranking Metrics\n",
    "\n",
    "| Metric                              | Use Cases                                                                                                                                                                                                                           | Sử Dụng                                                                                                                                                                                                                                       |\n",
    "|-------------------------------------|-------------------------------------------------------------------------------------------------------------------------------------------------------------------------------------------------------------------------------------|----------------------------------------------------------------------------------------------------------------------------------------------------------------------------------------------------------------------------------------------|\n",
    "| **Mean Reciprocal Rank (MRR)**       | Use Mean Reciprocal Rank (MRR) when evaluating the effectiveness of a recommendation system at returning the first relevant item in a ranked list of results, emphasizing the importance of the top-most recommendation.              | Sử dụng MRR khi đánh giá hiệu quả của hệ thống gợi ý trong việc trả về mục phù hợp đầu tiên trong danh sách xếp hạng kết quả, nhấn mạnh tầm quan trọng của khuyến nghị hàng đầu.                                                                |\n",
    "| **ARHR@k (Average Reciprocal Hit Rank at k)** | Use ARHR@k (Average Reciprocal Hit Rank at k) to measure the average quality of recommendations by considering the reciprocal of the rank at which relevant items are found in the top k positions. Useful when ranking accuracy matters. | Sử dụng ARHR@k để đo lường chất lượng trung bình của các gợi ý bằng cách xem xét thứ hạng đảo ngược của các mục phù hợp được tìm thấy trong top k vị trí. Hữu ích trong các tình huống mà độ chính xác của xếp hạng là yếu tố quan trọng. |\n",
    "| **Normalized Discounted Cumulative Gain (nDCG)** | Use nDCG when ranking relevance matters, and you need to evaluate the quality of recommendations considering the position of highly relevant items.                                                                                    | Sử dụng nDCG khi xếp hạng mức độ liên quan là quan trọng, và bạn cần đánh giá chất lượng của các khuyến nghị dựa trên vị trí của các mục có mức độ liên quan cao.                                                                                  |\n",
    "| **Precision@k**                      | Use Precision@k in recommendation systems when evaluating the proportion of relevant items among the top-k recommendations, particularly when the cost of false positives is high.                                                    | Sử dụng Precision@k trong các hệ thống gợi ý để đánh giá tỷ lệ các mục phù hợp trong top k khuyến nghị, đặc biệt khi chi phí cho các dự đoán sai là cao.                                                                                       |\n",
    "| **Recall@k**                         | Use Recall@k in recommendation systems when prioritizing the model’s ability to capture all relevant items in the top-k suggestions is more important than avoiding irrelevant ones.                                                   | Sử dụng Recall@k trong các hệ thống gợi ý khi ưu tiên khả năng của mô hình trong việc thu thập tất cả các mục phù hợp trong top k đề xuất là quan trọng hơn việc tránh các mục không liên quan.                                                 |\n",
    "| **F1@K**                             | Use F1@K (F1 score at K) for scenarios where the focus is on the precision of the top K recommendations, such as content curation or ranking tasks.                                                                                  | Sử dụng F1@K cho các tình huống mà trọng tâm là độ chính xác của các khuyến nghị trong top K, chẳng hạn như trong công việc biên tập nội dung hoặc xếp hạng.                                                                                    |\n",
    "| **Average Recall@K**                 | Use Average Recall@K when you need to assess the proportion of relevant items that a recommendation system successfully retrieves within the top K recommendations.                                                                    | Sử dụng Average Recall@K khi bạn cần đánh giá tỷ lệ các mục phù hợp mà hệ thống gợi ý đã lấy được thành công trong top K khuyến nghị.                                                                                                         |\n",
    "| **Average Precision@K**              | Use Average Precision@k when evaluating the effectiveness of a recommendation system for scenarios where the order of recommended items matters.                                                                                     | Sử dụng Average Precision@k khi đánh giá hiệu quả của hệ thống gợi ý trong các tình huống mà thứ tự các mục được khuyến nghị là quan trọng.                                                                                                   |\n",
    "| **Mean Average Precision (MAP)**     | Use Mean Average Precision (MAP) when evaluating the quality of a ranked list of items in recommendation systems, emphasizing the importance of higher-ranked items.                                                                  | Sử dụng MAP khi đánh giá chất lượng của danh sách xếp hạng các mục trong hệ thống gợi ý, nhấn mạnh tầm quan trọng của các mục được xếp hạng cao hơn.                                                                                           |\n"
   ]
  },
  {
   "cell_type": "markdown",
   "metadata": {},
   "source": []
  }
 ],
 "metadata": {
  "language_info": {
   "name": "python"
  }
 },
 "nbformat": 4,
 "nbformat_minor": 2
}
