{
 "cells": [
  {
   "attachments": {},
   "cell_type": "markdown",
   "id": "c49a3c57-9444-4095-83d4-fb68085adb07",
   "metadata": {
    "tags": []
   },
   "source": [
    "# Cost sensitive approaches\n",
    "**Methods will modifies the learning function**\n",
    "\n",
    "**1. Cost of misclassifying obs**\n",
    "- __Cost of misclassifying__ of specific class is the prediction errors of this class\n",
    "- Thông thường các thuật toán sẽ không phân biệt error rate của từng class mà sẽ là chung của tất cả các class, với asumption là all misclassification errors có chi phí bằng nhau ở các class. Khi áp dụng cost of misclassification, tức quan tâm tới sự khác biệt về `error-rate` của từng class. Ví dụ: Chi phí của phân loại khách hàng __BAD__ thành __GOOD__ cao hơn cost phân loại sai khách hành __GOOD__ thành __BAD__\n",
    "- **Cost sensitive learning (CSL)** là 1 dạng learning mà sẽ đo lường __Cost of misclassifying__, với mục tiêu là minimize the total cost (cost in each class is differently)\n",
    "- So sánh **Cost sensitive** với **Cost insensitive learning**\n",
    "\n",
    "|Cost insensitive|Cost sensitive|\n",
    "|-----|-----|\n",
    "|Minimize error-rate|Minimize cost|\n",
    "|Same cost to all misclassification|Different misclassification cost|\n",
    "\n",
    "**2. Cost Matrix**\n",
    "\n",
    "<img src=\"_images/02cs_costsen.png\">\n",
    "\n",
    "**3. Obtaining the Cost**\n",
    "\n",
    "There are 2 ways of estimating the cost:\n",
    "\n",
    "- `Domain Expert` provides the cost (depend on knowledge/business)\n",
    "- `Balance Ratio`: set **class_weight** or **sample_weight** parameter to indicate that the loss function should be modified to accommodate the class imbalance and the cost attributed to each misclassification, find cost as hyper-parameter"
   ]
  },
  {
   "attachments": {},
   "cell_type": "markdown",
   "id": "61a5ee90-68fe-453e-9471-47ddf7bbf740",
   "metadata": {},
   "source": [
    "## BasicCost"
   ]
  },
  {
   "attachments": {},
   "cell_type": "markdown",
   "id": "d526f0e9-bcb5-4c67-b7c6-cbdd7aa3b160",
   "metadata": {},
   "source": [
    "- **class_weight**: can take 'balanced' as argument, in which case it will use the balance ratio as weight. Alternatively, it can take a dictionary with {class: penalty}, pairs. In this case, it penalizes mistakes in samples of class[i] with class_weight[i]. For instances, class_weight = {0:1, and 1:10}, misclassification of observations of class 1 are penalized 10 times more than misclassification of observations of class 0.\n",
    "- **sample_weight** is a vector of the same length as y, containing the weight or penalty for each individual observation. In principle, it is more flexible, because it allows us to set weights to the observations and not to the class as a whole. So in this case, for example we could set up higher penalties for fraudulent applications that are more costly (money-wise)than to those fraudulent applications that are of little money."
   ]
  },
  {
   "cell_type": "code",
   "execution_count": 34,
   "id": "405e275d-0f06-4d34-89e8-30e22c76da28",
   "metadata": {},
   "outputs": [],
   "source": [
    "from sklearn.linear_model import LogisticRegression\n",
    "\n",
    "# weights introduced here\n",
    "logit = LogisticRegression(\n",
    "        penalty='l2',\n",
    "        solver='newton-cg',\n",
    "        random_state=0,\n",
    "        max_iter=10,\n",
    "        n_jobs=4,\n",
    "        class_weight={0:1, 1:10} # weights / cost\n",
    "    )"
   ]
  },
  {
   "attachments": {},
   "cell_type": "markdown",
   "id": "9870b437-4c02-4599-99f9-be55f7c7c660",
   "metadata": {},
   "source": [
    "## MetaCost\n",
    "\n",
    "**1. Conditional Risk - Expected Cost**\n",
    "EC của quan sát x theo class i được định nghĩa là giá trị average có weight của tất cả các cost được assign của x theo all classes thành class i.\n",
    "$$R(i|x)=\\sum_{j=1}^{M}P(j|x)\\cdot C(i,j)$$\n",
    "in which:\n",
    "- $R(i|x)$ is the expected cose of classifying an observation x into class i\n",
    "- $P(j|x)$ is the probability of x of being of class j\n",
    "- $C(i,j)$ is the cost of assigning an observation x of class j to class i\n",
    "\n",
    "__Conclusion__: For observation x, x will classify belong to class 1 if and only if `R(1|x) <= R(0|x)` or $\\frac{C(1,0)}{C(1,0) + C(0,1)}$ <= P(1|x)\n",
    "\n",
    "Bởi vì almost các thuật toán sklearn sử dụng __insensitive cost__, nên nếu muốn chuyển đổi sang __sensitive cost__ (__MetaCost__), sử dụng `predict_prob` để lấy xác suất __P(1|x)__, kết hợp với cost đã assign giúp xác định observation nào sẽ được phân loại theo class 1 theo __Conclusion__ ở trên.\n",
    "\n",
    "**2. MetaCost**\n",
    "\n",
    "__MetaCost__ change the original label to the new, then get new dataset to use for any algorithms, i.e. use `bagging multi-classifiers` to get probabilities of each class, combine these with `Cost`, then re-labels the target `Y` to the  new class that has a minimises the `conditional risk (EC)`, and finally we have a new dataset (new label) to train the ML that we want.\n",
    "__MetaCost__ is a procedure to make cost insenstitve algorithm, cost sensitive, which applied to any algorithm whether it returns probabilities or classes\n",
    "\n",
    "- __Parameter__ for `Metacost`:\n",
    "    - `S` : training set\n",
    "    - `L` : Classsification learning algorithm\n",
    "    - `C` : cost matrix\n",
    "    - `m` : the number of resamples to generate\n",
    "    - `n` : the number of examples in each resample\n",
    "    - `p` : is True if L produces class pprobabilities\n",
    "    - `q` : is True if all resamples are to be used for each example\n",
    "   \n",
    "<img src=\"_images/02cs_meta_cost.png\">"
   ]
  },
  {
   "cell_type": "code",
   "execution_count": 35,
   "id": "5fe6ae4f-fd19-4cd8-9ff4-85010e4d360d",
   "metadata": {},
   "outputs": [],
   "source": [
    "import numpy as np\n",
    "import pandas as pd\n",
    "\n",
    "from sklearn.base import clone\n",
    "\n",
    "\n",
    "class MetaCost:\n",
    "    \"\"\"A procedure for making error-based classifiers cost-sensitive\n",
    "\n",
    "    Adapted from https://github.com/Treers/MetaCost/blob/master/MetaCost.py\n",
    "\n",
    "    .. note:: The form of the cost matrix C must be as follows:\n",
    "    +---------------+----------+----------+----------+\n",
    "    |  actual class |          |          |          |\n",
    "    +               |          |          |          |\n",
    "    |   +           | y(x)=j_1 | y(x)=j_2 | y(x)=j_3 |\n",
    "    |       +       |          |          |          |\n",
    "    |           +   |          |          |          |\n",
    "    |predicted class|          |          |          |\n",
    "    +---------------+----------+----------+----------+\n",
    "    |   h(x)=j_1    |    0     |    a     |     b    |\n",
    "    |   h(x)=j_2    |    c     |    0     |     d    |\n",
    "    |   h(x)=j_3    |    e     |    f     |     0    |\n",
    "    +---------------+----------+----------+----------+\n",
    "    | C = np.array([[0, a, b],[c, 0 , d],[e, f, 0]]) |\n",
    "    +------------------------------------------------+\n",
    "    \"\"\"\n",
    "\n",
    "    def __init__(self, estimator, cost_matrix, n_estimators=50, n_samples=None, p=True, q=True):\n",
    "        \"\"\"\n",
    "        Parameters\n",
    "        ----------\n",
    "        estimator :\n",
    "            An sklearn classifier\n",
    "        cost_matrix :\n",
    "            The cost matrix\n",
    "        n_estimators :\n",
    "            The number of estimators in the ensemble\n",
    "        n_samples :\n",
    "            The number of samples to train each estimator\n",
    "        p :\n",
    "            Is True if the estimator produces class probabilities. False otherwise\n",
    "        q :\n",
    "            True if all samples are to be used for each example\n",
    "        \"\"\"\n",
    "\n",
    "        self.estimator = estimator\n",
    "        self.cost_matrix = cost_matrix\n",
    "        self.n_estimators = n_estimators\n",
    "        self. n_samples = n_samples\n",
    "        self.p = p\n",
    "        self.q = q\n",
    "\n",
    "    def fit(self, X, y):\n",
    "        \"\"\"\n",
    "        Parameters\n",
    "        ----------\n",
    "        X :\n",
    "            Training set\n",
    "        y :\n",
    "            Target\n",
    "        \"\"\"\n",
    "\n",
    "        if not isinstance(X, pd.DataFrame):\n",
    "            raise ValueError('S must be a DataFrame object')\n",
    "\n",
    "        X = X.copy()\n",
    "\n",
    "        # reset index, helps with resampling\n",
    "        X.reset_index(inplace=True, drop=True)\n",
    "        y.index = X.index\n",
    "\n",
    "        variables = list(X.columns)\n",
    "\n",
    "        # concatenate\n",
    "        S = pd.concat([X,y], axis=1)\n",
    "        S.columns = variables + ['target']\n",
    "\n",
    "        num_class = y.nunique()\n",
    "\n",
    "        if not self.n_samples:\n",
    "            self.n_samples = len(X)\n",
    "\n",
    "        S_ = {} # list of subdatasets\n",
    "        M = []  # list of models\n",
    "\n",
    "        print('resampling data and training ensemble')\n",
    "        for i in range(self.n_estimators):\n",
    "\n",
    "            # Let S_[i] be a resample of S with self.n examples\n",
    "            S_[i] = S.sample(n=self.n_samples, replace=True)\n",
    "\n",
    "            X = S_[i][variables].values\n",
    "            y = S_[i]['target'].values\n",
    "\n",
    "            # Let M[i] = model produced by applying L to S_[i]\n",
    "            model = clone(self.estimator)\n",
    "            M.append(model.fit(X, y))\n",
    "\n",
    "        print('Finished training ensemble')\n",
    "\n",
    "        label = []\n",
    "        S_array = S[variables].values\n",
    "        # for each observation\n",
    "        print('evaluating optimal class per observation')\n",
    "        for i in range(len(S)):\n",
    "            if self.q:\n",
    "                # consider the predictions of all models\n",
    "                M_ = M\n",
    "            else:\n",
    "                # consider the predictions of models which were not train on\n",
    "                # this particular observation\n",
    "                k_th = [k for k, v in S_.items() if i not in v.index]\n",
    "                M_ = list(np.array(M)[k_th])\n",
    "\n",
    "            if self.p:\n",
    "                P_j = [model.predict_proba(S_array[[i]]) for model in M_]\n",
    "            else:\n",
    "                P_j = []\n",
    "                vector = [0] * num_class\n",
    "                for model in M_:\n",
    "                    vector[model.predict(S_array[[i]])] = 1\n",
    "                    P_j.append(vector)\n",
    "\n",
    "            # Calculate P(j|x)\n",
    "            # the average probability of each class, when combining all models\n",
    "            P = np.array(np.mean(P_j, 0)).T\n",
    "\n",
    "            # Relabel:\n",
    "            label.append(np.argmin(self.cost_matrix.dot(P)))\n",
    "        print('Finished re-assigning labels')\n",
    "\n",
    "        # Model produced by applying L to S with relabeled y\n",
    "        print('Training model on new data')\n",
    "        X_train = S[variables].values\n",
    "        y_train = np.array(label)\n",
    "        self.estimator.fit(X_train, y_train)\n",
    "        print('Finished training model on data with new labels')\n",
    "        self.y_ = pd.Series(label)\n",
    "\n",
    "    def predict(self, X):\n",
    "        return self.estimator.predict(X)\n",
    "\n",
    "    def predict_proba(self, X):\n",
    "        try:\n",
    "            probs = self.estimator.predict_proba(X)\n",
    "        except:\n",
    "            probs = None\n",
    "            print('this estimator does not support predict_proba')\n",
    "        return probs"
   ]
  },
  {
   "cell_type": "code",
   "execution_count": 36,
   "id": "d4a73446-cb75-4fcc-b6d3-db9e0b4a2b1f",
   "metadata": {},
   "outputs": [
    {
     "data": {
      "text/plain": [
       "<AxesSubplot: ylabel='target'>"
      ]
     },
     "execution_count": 36,
     "metadata": {},
     "output_type": "execute_result"
    },
    {
     "data": {
      "image/png": "[encoded data removed]",
      "text/plain": [
       "<Figure size 640x480 with 1 Axes>"
      ]
     },
     "metadata": {},
     "output_type": "display_data"
    }
   ],
   "source": [
    "# load data\n",
    "# only a few observations to speed the computaton\n",
    "data = pd.read_csv('Datasets/kdd2004.csv').sample(10000)\n",
    "\n",
    "# imbalanced target\n",
    "data.target.value_counts().plot(kind = 'pie')"
   ]
  },
  {
   "cell_type": "code",
   "execution_count": 39,
   "id": "70cdee28-96c4-4cd8-9a9f-ceac022c24e4",
   "metadata": {},
   "outputs": [],
   "source": [
    "from sklearn.linear_model import LogisticRegression\n",
    "from sklearn.metrics import roc_auc_score, confusion_matrix\n",
    "from sklearn.model_selection import train_test_split\n",
    "\n",
    "# separate dataset into train and test\n",
    "X_train, X_test, y_train, y_test = train_test_split(\n",
    "    data.drop(labels=['target'], axis=1),  # drop the target\n",
    "    data['target'],  # just the target\n",
    "    test_size=0.3,\n",
    "    random_state=0)\n",
    "\n",
    "# set up the estimator we would like to ensemble\n",
    "logit = LogisticRegression(\n",
    "    penalty='l2',\n",
    "    solver='newton-cg',\n",
    "    random_state=0,\n",
    "    max_iter=20,\n",
    ")"
   ]
  },
  {
   "cell_type": "code",
   "execution_count": 40,
   "id": "f0991012-45d9-4e62-8194-cb8e6fee9d9c",
   "metadata": {},
   "outputs": [
    {
     "name": "stdout",
     "output_type": "stream",
     "text": [
      "resampling data and training ensemble\n",
      "Finished training ensemble\n",
      "evaluating optimal class per observation\n",
      "Finished re-assigning labels\n",
      "Training model on new data\n",
      "Finished training model on data with new labels\n",
      "Train set, MetaCost roc-auc: 0.9490451674621461\n",
      "Train set, MetaCost roc-auc: 0.8632507381246028\n"
     ]
    },
    {
     "data": {
      "text/plain": [
       "array([[2973,    0],\n",
       "       [  11,   16]])"
      ]
     },
     "execution_count": 40,
     "metadata": {},
     "output_type": "execute_result"
    }
   ],
   "source": [
    "# no cost (similar normal with no metacost)\n",
    "\n",
    "metacost_nocost = MetaCost(estimator=logit,\n",
    "                     cost_matrix=np.array([[0, 1], [1, 0]]),\n",
    "                     n_estimators=50,\n",
    "                     n_samples=None,\n",
    "                     p=True,\n",
    "                     q=True)\n",
    "metacost_nocost.fit(X_train, y_train)\n",
    "# metacost_.predict_proba(X_train)\n",
    "\n",
    "\n",
    "print('Train set, MetaCost roc-auc: {}'.format(roc_auc_score(y_train, metacost_nocost.predict_proba(X_train)[:, 1])))\n",
    "print('Train set, MetaCost roc-auc: {}'.format(roc_auc_score(y_test, metacost_nocost.predict_proba(X_test)[:, 1])))\n",
    "confusion_matrix(y_test, metacost_nocost.predict(X_test))"
   ]
  },
  {
   "cell_type": "code",
   "execution_count": 41,
   "id": "31961b78-5996-4346-a18f-a44e46ebba75",
   "metadata": {},
   "outputs": [
    {
     "name": "stdout",
     "output_type": "stream",
     "text": [
      "resampling data and training ensemble\n",
      "Finished training ensemble\n",
      "evaluating optimal class per observation\n",
      "Finished re-assigning labels\n",
      "Training model on new data\n",
      "Finished training model on data with new labels\n",
      "Train set, MetaCost roc-auc: 0.9924060854180382\n",
      "Train set, MetaCost roc-auc: 0.9241942918364042\n"
     ]
    },
    {
     "data": {
      "text/plain": [
       "array([[2797,  176],\n",
       "       [   7,   20]])"
      ]
     },
     "execution_count": 41,
     "metadata": {},
     "output_type": "execute_result"
    }
   ],
   "source": [
    "# Metacost\n",
    "\"\"\"\n",
    "TN | FN\n",
    "FP | TP\n",
    "\n",
    "cost\n",
    "0 | 100\n",
    "1 | 0\n",
    "\"\"\"\n",
    "metacost_ = MetaCost(estimator=logit,\n",
    "                     cost_matrix=np.array([[0, 100], [1, 0]]),\n",
    "                     n_estimators=50,\n",
    "                     n_samples=None,\n",
    "                     p=True,\n",
    "                     q=True)\n",
    "metacost_.fit(X_train, y_train)\n",
    "# metacost_.predict_proba(X_train)\n",
    "\n",
    "\n",
    "print('Train set, MetaCost roc-auc: {}'.format(roc_auc_score(y_train, metacost_.predict_proba(X_train)[:, 1])))\n",
    "print('Train set, MetaCost roc-auc: {}'.format(roc_auc_score(y_test, metacost_.predict_proba(X_test)[:, 1])))\n",
    "confusion_matrix(y_test, metacost_.predict(X_test))"
   ]
  },
  {
   "cell_type": "code",
   "execution_count": 42,
   "id": "cc0844e3-2f34-4314-a353-3c49e3da8c26",
   "metadata": {},
   "outputs": [
    {
     "name": "stdout",
     "output_type": "stream",
     "text": [
      "Train set, MetaCost roc-auc: 0.9941046226958525\n",
      "Train set, MetaCost roc-auc: 0.9232101256991939\n"
     ]
    },
    {
     "name": "stderr",
     "output_type": "stream",
     "text": [
      "/Users/khongdat/miniforge3/lib/python3.10/site-packages/sklearn/utils/optimize.py:210: ConvergenceWarning: newton-cg failed to converge. Increase the number of iterations.\n",
      "  warnings.warn(\n"
     ]
    },
    {
     "data": {
      "text/plain": [
       "array([[2841,  132],\n",
       "       [   8,   19]])"
      ]
     },
     "execution_count": 42,
     "metadata": {},
     "output_type": "execute_result"
    }
   ],
   "source": [
    "# compare with basicCost by parameter class_weight\n",
    "logit_cost = LogisticRegression(\n",
    "    penalty='l2',\n",
    "    solver='newton-cg',\n",
    "    random_state=0,\n",
    "    max_iter=10,\n",
    "    n_jobs=4,\n",
    "    class_weight = {0:1, 1:100},\n",
    ")\n",
    "\n",
    "logit_cost.fit(X_train, y_train)\n",
    "\n",
    "print('Train set, MetaCost roc-auc: {}'.format(roc_auc_score(y_train, logit_cost.predict_proba(X_train)[:, 1])))\n",
    "print('Train set, MetaCost roc-auc: {}'.format(roc_auc_score(y_test, logit_cost.predict_proba(X_test)[:, 1])))\n",
    "confusion_matrix(y_test, logit_cost.predict(X_test))"
   ]
  },
  {
   "attachments": {},
   "cell_type": "markdown",
   "id": "fb980c4b-08e3-4c59-ac36-edbe5e1a6187",
   "metadata": {},
   "source": [
    "lowest FN"
   ]
  },
  {
   "cell_type": "code",
   "execution_count": 43,
   "id": "8f9819ca-c1b2-4927-aef5-663f3fd965c5",
   "metadata": {},
   "outputs": [
    {
     "name": "stdout",
     "output_type": "stream",
     "text": [
      "Train set, MetaCost roc-auc: 0.9914314516129032\n",
      "Train set, MetaCost roc-auc: 0.9283801123693488\n"
     ]
    },
    {
     "data": {
      "text/plain": [
       "array([[2971,    2],\n",
       "       [  14,   13]])"
      ]
     },
     "execution_count": 43,
     "metadata": {},
     "output_type": "execute_result"
    }
   ],
   "source": [
    "# compare with logistic normal\n",
    "logit.fit(X_train, y_train)\n",
    "print('Train set, MetaCost roc-auc: {}'.format(roc_auc_score(y_train, logit.predict_proba(X_train)[:, 1])))\n",
    "print('Train set, MetaCost roc-auc: {}'.format(roc_auc_score(y_test, logit.predict_proba(X_test)[:, 1])))\n",
    "confusion_matrix(y_test, logit.predict(X_test))"
   ]
  }
 ],
 "metadata": {
  "kernelspec": {
   "display_name": "Python 3 (ipykernel)",
   "language": "python",
   "name": "python3"
  },
  "language_info": {
   "codemirror_mode": {
    "name": "ipython",
    "version": 3
   },
   "file_extension": ".py",
   "mimetype": "text/x-python",
   "name": "python",
   "nbconvert_exporter": "python",
   "pygments_lexer": "ipython3",
   "version": "3.10.6"
  },
  "toc-autonumbering": true
 },
 "nbformat": 4,
 "nbformat_minor": 5
}
