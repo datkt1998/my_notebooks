{
 "cells": [
  {
   "attachments": {},
   "cell_type": "markdown",
   "id": "f0a799ee-7ec8-4298-9216-b59896c2d8ff",
   "metadata": {},
   "source": [
    "# Categorical Encoding\n",
    "- How to transform/replace the category strings by a numerical representation, for the goal:\n",
    "     - Produce variables that can be used to train model\n",
    "     - To build predictive features form categories\n",
    "\n",
    "**1. Categorical Encoding Techniques**\n",
    "- Traditional technniques:\n",
    "     - One-hot encoding \n",
    "     - Count/frequency encoding\n",
    "     - Ordinal/Label encoding\n",
    "- Monotonic relationship (categorical variable and target are monotonic relationship - dong bien):\n",
    "     - Ordered label encoding\n",
    "     - Mean encoding\n",
    "     - Weight of evidence\n",
    " \n",
    "*(Using monotonic can be improve the performance of linear models, or tree-base model, or if want to monotonic relationship between variable and target in model)*\n",
    "\n",
    "- Rare labels:\n",
    "     - One-hot encoding of frequent categories\n",
    "     - Group rare label encoding\n",
    "- Alternative techniques:\n",
    "     - Binary encoding\n",
    "     - Feature hasing\n",
    "     - Others\n",
    " \n",
    "**2. Techniques comparation**\n",
    "- For `tree-base`, `one-hot` encoding has a bad performance because it has a big feature space\n",
    "- For `logistic`, the `woe` encoding get the best performance.\n",
    "\n",
    "|Index| Encoding Method | Description | Advantages | Disadvantages | Observations |\n",
    "|----| ---- | ---- | ---- | ---- | ---- |\n",
    "|1| One Hot Encoding | One hot encoding, consists in encoding each categorical variable with different boolean variables (also called dummy variables) which take values 0 or 1, indicating if a category is present in an observation.<br>Encoding into K or K-1 binary variable | • Straightforward to implement<br>• Makes no assumption about the distribution or categories of the categorical variable<br>• Keeps all the information of the categorical variable<br>• Suitable for linear models<br> | • Expands the feature space<br>• Does not add extra information while encoding<br>• Many dummy variables may be identical, introducing redundant information<br> | Most machine learning algorithms, consider the entire data set while being fit. Therefore, encoding categorical variables into k - 1 binary variables, is better, as it avoids introducing redundant information.<br><br>Exception: One hot encoding into k dummy variables<br><br>• when building tree based algorithms<br>• when doing feature selection by recursive algorithms<br>• when interested in determine the importance of each single category |\n",
    "|2| One Hot Encoding of Frequent/Top Categories | Performing one hot encoding, only considering the most frequent categories | • Straightforward to implement<br>• Does not require hrs of variable exploration<br>• Does not expand massively the feature space<br>• Suitable for linear models | • Does not add any information that may make the variable more predictive<br>• Does not keep the information of the ignored labels | The number of top variables is set arbitrarily. It could be 15, 10 or 5 as well. This number can be chosen arbitrarily or derived from data exploration. |\n",
    "|3| Integer Encoding | Integer encoding consist in replacing the categories by digits from 1 to n (or 0 to n-1, depending the implementation), where n is the number of distinct categories of the variable. | • Straightforward to implement<br>• Does not expand the feature space<br> | • Does not capture any information about the categories labels<br>• Not suitable for linear models. | • The numbers are assigned arbitrarily.<br>• This encoding method allows for quick benchmarking of machine learning models.<br> |\n",
    "|4| Count or frequency encoding | • Categories are replaced by the count or percentage of observations that show that category in the dataset.<br>• Captures the representation of each label in a dataset<br>• Very popular encoding method in Kaggle competitions<br>• Assumption: the number observations shown by each category is predictive of the target. | • Straightforward to implement<br>• Does not expand the feature space<br>• Can work well enough with tree based algorithms | • Not suitable for linear models<br>• Does not handle new categories in test set automatically<br>• If 2 different categories appear the same amount of times in the dataset, that is, they appear in the same number of observations, they will be replaced by the same number: may lose valuable information. | |\n",
    "|5| Target guided encodings - Ordered ordinal encoding | Categories are replaced by integers from 1 to k, where k is the number of distinct categories in the variable, but this numbering is informed by the mean of the target for each category. | • Straightforward to implement<br>• Does not expand the feature space<br>• Capture information within the category, therefore creating more predictive features<br>• Creates monotonic relationship between categories and target<br>Note: Monotonic does not mean strictly linear. Monotonic means that it increases constantly, or it decreases constantly.<br>Specific to WOE:<br>• It orders the categories on a \"logistic\" scale which is natural for logistic regression<br>• The transformed variables can then be compared because they are on the same scale. Therefore, it is   possible to determine which one is more predictive. | • May lead to over-fitting<br>• Difficult to implement together with cross-validation with current libraries | • the encoding is guided by the target, and<br>• they create a monotonic relationship between the variable and the target.<br>Monotonicity<br>A monotonic relationship is a relationship that does one of the following:<br>• (1) as the value of one variable increases, so does the value of the other variable; or<br>• (2) as the value of one variable increases, the value of the other variable decreases<br>• These methods can be also used on numerical variables, after discretisation. This creates a monotonic relationship between the numerical variable and the target, and therefore improves the performance of linear models<br>• Replacing categorical labels with Pandas code and this method will generate missing values for categories present in the test set that were not seen in the training set. Therefore it is extremely important to handle rare labels before-hand. |\n",
    "|6| Target guided encodings - Mean encoding | Mean encoding implies replacing the category by the average target value for that category. | Same as Ordered Ordinal Encoding | Same as Ordered Ordinal Encoding | Same as Ordered Ordinal Encoding |\n",
    "|7| Target guided encodings - Probability Ratio Encoding | For each category, we calculate the mean of target=1, that is the probability of the target being 1 ( P(1) ), and the probability of the target=0 ( P(0) ). And then, we calculate the ratio P(1)/P(0), and replace the categories by that ratio.<br>Note: These encoding is suitable for classification problems only, where the target is binary | Same as Ordered Ordinal Encoding | Same as Ordered Ordinal Encoding | Same as Ordered Ordinal Encoding |\n",
    "|8| Target guided encodings - Weight of evidence | WoE = ln ( Distribution of Goods / Distribution of bads )<br>WoE = ln ( p(1) / p(0) )<br>Note: WoE is well suited for Logistic Regression | Same as Ordered Ordinal Encoding | Same as Ordered Ordinal Encoding | Same as Ordered Ordinal Encoding |\n",
    "|9| Rare Label Encoding | Rare labels are those that appear only in a tiny proportion of the observations in a dataset<br>Scenario for re-grouping:<br>  • One predominant category<br>  • A small number of categories<br>  • High cardinality<br> | • Grouping categories into rare for variables that show low cardinality may or may not improve model performance, however, we tend to re-group them into a new category to smooth model deployment.<br>• Grouping categories into rare for variables with high cardinality, tends to improve model performance as well. | | • Grouping infrequent labels or categories under a new category called 'Rare' or 'Other' is the common practice in machine learning for business<br>• Rare labels should be identified in the training set only. |"
   ]
  },
  {
   "cell_type": "code",
   "execution_count": 72,
   "id": "514fd427-6de0-4736-bac6-402c7daddacc",
   "metadata": {},
   "outputs": [
    {
     "data": {
      "text/html": [
       "<div>\n",
       "<style scoped>\n",
       "    .dataframe tbody tr th:only-of-type {\n",
       "        vertical-align: middle;\n",
       "    }\n",
       "\n",
       "    .dataframe tbody tr th {\n",
       "        vertical-align: top;\n",
       "    }\n",
       "\n",
       "    .dataframe thead th {\n",
       "        text-align: right;\n",
       "    }\n",
       "</style>\n",
       "<table border=\"1\" class=\"dataframe\">\n",
       "  <thead>\n",
       "    <tr style=\"text-align: right;\">\n",
       "      <th></th>\n",
       "      <th>pclass</th>\n",
       "      <th>sex</th>\n",
       "      <th>sibsp</th>\n",
       "      <th>parch</th>\n",
       "      <th>cabin</th>\n",
       "      <th>embarked</th>\n",
       "    </tr>\n",
       "  </thead>\n",
       "  <tbody>\n",
       "    <tr>\n",
       "      <th>501</th>\n",
       "      <td>2</td>\n",
       "      <td>female</td>\n",
       "      <td>0</td>\n",
       "      <td>1</td>\n",
       "      <td>Missing</td>\n",
       "      <td>S</td>\n",
       "    </tr>\n",
       "    <tr>\n",
       "      <th>588</th>\n",
       "      <td>2</td>\n",
       "      <td>female</td>\n",
       "      <td>1</td>\n",
       "      <td>1</td>\n",
       "      <td>Missing</td>\n",
       "      <td>S</td>\n",
       "    </tr>\n",
       "    <tr>\n",
       "      <th>402</th>\n",
       "      <td>2</td>\n",
       "      <td>female</td>\n",
       "      <td>1</td>\n",
       "      <td>0</td>\n",
       "      <td>Missing</td>\n",
       "      <td>C</td>\n",
       "    </tr>\n",
       "    <tr>\n",
       "      <th>1193</th>\n",
       "      <td>3</td>\n",
       "      <td>male</td>\n",
       "      <td>0</td>\n",
       "      <td>0</td>\n",
       "      <td>Missing</td>\n",
       "      <td>Q</td>\n",
       "    </tr>\n",
       "    <tr>\n",
       "      <th>686</th>\n",
       "      <td>3</td>\n",
       "      <td>female</td>\n",
       "      <td>0</td>\n",
       "      <td>0</td>\n",
       "      <td>Missing</td>\n",
       "      <td>Q</td>\n",
       "    </tr>\n",
       "  </tbody>\n",
       "</table>\n",
       "</div>"
      ],
      "text/plain": [
       "      pclass     sex  sibsp  parch    cabin embarked\n",
       "501        2  female      0      1  Missing        S\n",
       "588        2  female      1      1  Missing        S\n",
       "402        2  female      1      0  Missing        C\n",
       "1193       3    male      0      0  Missing        Q\n",
       "686        3  female      0      0  Missing        Q"
      ]
     },
     "execution_count": 72,
     "metadata": {},
     "output_type": "execute_result"
    }
   ],
   "source": [
    "# load data\n",
    "import pandas as pd\n",
    "from sklearn.model_selection import train_test_split\n",
    "\n",
    "usecols = [\"pclass\", \"sibsp\", \"parch\", \"sex\", \"embarked\", \"cabin\", \"survived\"]\n",
    "data = pd.read_csv(\"Datasets/titanic.csv\", usecols=usecols)\n",
    "data[\"cabin\"] = data[\"cabin\"].str[0]\n",
    "data.fillna('Missing', inplace = True)\n",
    "\n",
    "# let's separate into training and testing set\n",
    "X_train, X_test, y_train, y_test = train_test_split( data.drop(\"survived\", axis=1), data[\"survived\"], test_size=0.3, random_state=0)\n",
    "X_train.head()"
   ]
  },
  {
   "attachments": {},
   "cell_type": "markdown",
   "id": "63187319-649d-43c1-b822-93afbd8e78cb",
   "metadata": {
    "tags": []
   },
   "source": [
    "## One-hot encoding\n",
    "- One hot encoding, consists in encoding each categorical variable with different boolean variables (also called dummy variables) which take values `0` or `1`, indicating if a category is present in an observation. Encoding into `K` or `K-1` binary variable.\n",
    "- Most ML algorithms, encoding into `k-1` binary variables is better, as avoids introducing redundant information\n",
    "- Exception, encoding into `k` dummy variables in case:\n",
    "     - Build tree-base model (because tree is not consider all features at the same time, instead make decision by only a random selection of features)\n",
    "     - Doing feature selection by recursive algorithms\n",
    "     - Want to determine the importance of each single category\n",
    " \n",
    "**1. Advantages**\n",
    "- Straightforward to implement\n",
    "- Makes no assumption about the distribution or categories of the categorical variable\n",
    "- Keeps all the information of the categorical variable\n",
    "- Suitable for linear models\n",
    "\n",
    "**2. Disadvantages**\n",
    "- Expands the feature space, specially with highly cardinal categorical variables\n",
    "- Does not add extra information while encoding\n",
    "- May be introducing redundant information, create multi-collinearity even if we encode into k-1 because original categorical variable have rare labels"
   ]
  },
  {
   "attachments": {},
   "cell_type": "markdown",
   "id": "8d4052a5-f278-4cc2-96af-c26d47b6e5bb",
   "metadata": {},
   "source": [
    "### One hot encoding with Scikit-learn\n",
    "\n",
    "**Advantages**\n",
    "\n",
    "- quick\n",
    "- Creates the same number of features in train and test set\n",
    "- works within a pipeline\n",
    "\n",
    "**Limitations**\n",
    "\n",
    "- need to set specific output to return pandas\n",
    "- need additional transformer to encode variable subset\n",
    "- changes variable names after transformation"
   ]
  },
  {
   "cell_type": "code",
   "execution_count": 73,
   "id": "6923e268-21a3-4f60-a129-dc7667c84a08",
   "metadata": {},
   "outputs": [
    {
     "data": {
      "text/html": [
       "<style>#sk-container-id-2 {color: black;background-color: white;}#sk-container-id-2 pre{padding: 0;}#sk-container-id-2 div.sk-toggleable {background-color: white;}#sk-container-id-2 label.sk-toggleable__label {cursor: pointer;display: block;width: 100%;margin-bottom: 0;padding: 0.3em;box-sizing: border-box;text-align: center;}#sk-container-id-2 label.sk-toggleable__label-arrow:before {content: \"▸\";float: left;margin-right: 0.25em;color: #696969;}#sk-container-id-2 label.sk-toggleable__label-arrow:hover:before {color: black;}#sk-container-id-2 div.sk-estimator:hover label.sk-toggleable__label-arrow:before {color: black;}#sk-container-id-2 div.sk-toggleable__content {max-height: 0;max-width: 0;overflow: hidden;text-align: left;background-color: #f0f8ff;}#sk-container-id-2 div.sk-toggleable__content pre {margin: 0.2em;color: black;border-radius: 0.25em;background-color: #f0f8ff;}#sk-container-id-2 input.sk-toggleable__control:checked~div.sk-toggleable__content {max-height: 200px;max-width: 100%;overflow: auto;}#sk-container-id-2 input.sk-toggleable__control:checked~label.sk-toggleable__label-arrow:before {content: \"▾\";}#sk-container-id-2 div.sk-estimator input.sk-toggleable__control:checked~label.sk-toggleable__label {background-color: #d4ebff;}#sk-container-id-2 div.sk-label input.sk-toggleable__control:checked~label.sk-toggleable__label {background-color: #d4ebff;}#sk-container-id-2 input.sk-hidden--visually {border: 0;clip: rect(1px 1px 1px 1px);clip: rect(1px, 1px, 1px, 1px);height: 1px;margin: -1px;overflow: hidden;padding: 0;position: absolute;width: 1px;}#sk-container-id-2 div.sk-estimator {font-family: monospace;background-color: #f0f8ff;border: 1px dotted black;border-radius: 0.25em;box-sizing: border-box;margin-bottom: 0.5em;}#sk-container-id-2 div.sk-estimator:hover {background-color: #d4ebff;}#sk-container-id-2 div.sk-parallel-item::after {content: \"\";width: 100%;border-bottom: 1px solid gray;flex-grow: 1;}#sk-container-id-2 div.sk-label:hover label.sk-toggleable__label {background-color: #d4ebff;}#sk-container-id-2 div.sk-serial::before {content: \"\";position: absolute;border-left: 1px solid gray;box-sizing: border-box;top: 0;bottom: 0;left: 50%;z-index: 0;}#sk-container-id-2 div.sk-serial {display: flex;flex-direction: column;align-items: center;background-color: white;padding-right: 0.2em;padding-left: 0.2em;position: relative;}#sk-container-id-2 div.sk-item {position: relative;z-index: 1;}#sk-container-id-2 div.sk-parallel {display: flex;align-items: stretch;justify-content: center;background-color: white;position: relative;}#sk-container-id-2 div.sk-item::before, #sk-container-id-2 div.sk-parallel-item::before {content: \"\";position: absolute;border-left: 1px solid gray;box-sizing: border-box;top: 0;bottom: 0;left: 50%;z-index: -1;}#sk-container-id-2 div.sk-parallel-item {display: flex;flex-direction: column;z-index: 1;position: relative;background-color: white;}#sk-container-id-2 div.sk-parallel-item:first-child::after {align-self: flex-end;width: 50%;}#sk-container-id-2 div.sk-parallel-item:last-child::after {align-self: flex-start;width: 50%;}#sk-container-id-2 div.sk-parallel-item:only-child::after {width: 0;}#sk-container-id-2 div.sk-dashed-wrapped {border: 1px dashed gray;margin: 0 0.4em 0.5em 0.4em;box-sizing: border-box;padding-bottom: 0.4em;background-color: white;}#sk-container-id-2 div.sk-label label {font-family: monospace;font-weight: bold;display: inline-block;line-height: 1.2em;}#sk-container-id-2 div.sk-label-container {text-align: center;}#sk-container-id-2 div.sk-container {/* jupyter's `normalize.less` sets `[hidden] { display: none; }` but bootstrap.min.css set `[hidden] { display: none !important; }` so we also need the `!important` here to be able to override the default hidden behavior on the sphinx rendered scikit-learn.org. See: https://github.com/scikit-learn/scikit-learn/issues/21755 */display: inline-block !important;position: relative;}#sk-container-id-2 div.sk-text-repr-fallback {display: none;}</style><div id=\"sk-container-id-2\" class=\"sk-top-container\"><div class=\"sk-text-repr-fallback\"><pre>OneHotEncoder(drop=&#x27;first&#x27;, sparse_output=False)</pre><b>In a Jupyter environment, please rerun this cell to show the HTML representation or trust the notebook. <br />On GitHub, the HTML representation is unable to render, please try loading this page with nbviewer.org.</b></div><div class=\"sk-container\" hidden><div class=\"sk-item\"><div class=\"sk-estimator sk-toggleable\"><input class=\"sk-toggleable__control sk-hidden--visually\" id=\"sk-estimator-id-10\" type=\"checkbox\" checked><label for=\"sk-estimator-id-10\" class=\"sk-toggleable__label sk-toggleable__label-arrow\">OneHotEncoder</label><div class=\"sk-toggleable__content\"><pre>OneHotEncoder(drop=&#x27;first&#x27;, sparse_output=False)</pre></div></div></div></div></div>"
      ],
      "text/plain": [
       "OneHotEncoder(drop='first', sparse_output=False)"
      ]
     },
     "execution_count": 73,
     "metadata": {},
     "output_type": "execute_result"
    }
   ],
   "source": [
    "# sklearn\n",
    "from sklearn.compose import ColumnTransformer\n",
    "from sklearn.impute import SimpleImputer\n",
    "from sklearn.pipeline import Pipeline\n",
    "from sklearn.preprocessing import OneHotEncoder\n",
    "\n",
    "# set up encoder\n",
    "encoder = OneHotEncoder(\n",
    "    categories=\"auto\",\n",
    "    drop=\"first\",  # to return k-1, use drop=false to return k dummies\n",
    "    sparse_output=False,\n",
    "    handle_unknown=\"error\",  # helps deal with rare labels to raise error when transform new dataset\n",
    ").set_output(transform=\"pandas\")\n",
    "\n",
    "# setup encoder for subset of variable by ColumnTransformer\n",
    "ct = ColumnTransformer(\n",
    "    [(\"encoder\", encoder, [\"sex\", \"embarked\", \"cabin\"])], \n",
    "    remainder=\"passthrough\" # keep remain the variables are not encoded\n",
    ")\n",
    "\n",
    "# fit the encoder (finds categories)\n",
    "encoder.fit(X_train)"
   ]
  },
  {
   "cell_type": "code",
   "execution_count": 74,
   "id": "cacb0193-decd-4790-87fd-a0e351ac02fe",
   "metadata": {},
   "outputs": [
    {
     "data": {
      "text/plain": [
       "[array([1, 2, 3]),\n",
       " array(['female', 'male'], dtype=object),\n",
       " array([0, 1, 2, 3, 4, 5, 8]),\n",
       " array([0, 1, 2, 3, 4, 5, 6, 9]),\n",
       " array(['A', 'B', 'C', 'D', 'E', 'F', 'G', 'Missing', 'T'], dtype=object),\n",
       " array(['C', 'Missing', 'Q', 'S'], dtype=object)]"
      ]
     },
     "execution_count": 74,
     "metadata": {},
     "output_type": "execute_result"
    }
   ],
   "source": [
    "# we observe the learned categories\n",
    "encoder.categories_"
   ]
  },
  {
   "cell_type": "code",
   "execution_count": 75,
   "id": "1f90f8f0-7b03-4e70-8729-ca5dded2e304",
   "metadata": {},
   "outputs": [
    {
     "data": {
      "text/html": [
       "<div>\n",
       "<style scoped>\n",
       "    .dataframe tbody tr th:only-of-type {\n",
       "        vertical-align: middle;\n",
       "    }\n",
       "\n",
       "    .dataframe tbody tr th {\n",
       "        vertical-align: top;\n",
       "    }\n",
       "\n",
       "    .dataframe thead th {\n",
       "        text-align: right;\n",
       "    }\n",
       "</style>\n",
       "<table border=\"1\" class=\"dataframe\">\n",
       "  <thead>\n",
       "    <tr style=\"text-align: right;\">\n",
       "      <th></th>\n",
       "      <th>pclass_2</th>\n",
       "      <th>pclass_3</th>\n",
       "      <th>sex_male</th>\n",
       "      <th>sibsp_1</th>\n",
       "      <th>sibsp_2</th>\n",
       "      <th>sibsp_3</th>\n",
       "      <th>sibsp_4</th>\n",
       "      <th>sibsp_5</th>\n",
       "      <th>sibsp_8</th>\n",
       "      <th>parch_1</th>\n",
       "      <th>...</th>\n",
       "      <th>cabin_C</th>\n",
       "      <th>cabin_D</th>\n",
       "      <th>cabin_E</th>\n",
       "      <th>cabin_F</th>\n",
       "      <th>cabin_G</th>\n",
       "      <th>cabin_Missing</th>\n",
       "      <th>cabin_T</th>\n",
       "      <th>embarked_Missing</th>\n",
       "      <th>embarked_Q</th>\n",
       "      <th>embarked_S</th>\n",
       "    </tr>\n",
       "  </thead>\n",
       "  <tbody>\n",
       "    <tr>\n",
       "      <th>501</th>\n",
       "      <td>1.0</td>\n",
       "      <td>0.0</td>\n",
       "      <td>0.0</td>\n",
       "      <td>0.0</td>\n",
       "      <td>0.0</td>\n",
       "      <td>0.0</td>\n",
       "      <td>0.0</td>\n",
       "      <td>0.0</td>\n",
       "      <td>0.0</td>\n",
       "      <td>1.0</td>\n",
       "      <td>...</td>\n",
       "      <td>0.0</td>\n",
       "      <td>0.0</td>\n",
       "      <td>0.0</td>\n",
       "      <td>0.0</td>\n",
       "      <td>0.0</td>\n",
       "      <td>1.0</td>\n",
       "      <td>0.0</td>\n",
       "      <td>0.0</td>\n",
       "      <td>0.0</td>\n",
       "      <td>1.0</td>\n",
       "    </tr>\n",
       "    <tr>\n",
       "      <th>588</th>\n",
       "      <td>1.0</td>\n",
       "      <td>0.0</td>\n",
       "      <td>0.0</td>\n",
       "      <td>1.0</td>\n",
       "      <td>0.0</td>\n",
       "      <td>0.0</td>\n",
       "      <td>0.0</td>\n",
       "      <td>0.0</td>\n",
       "      <td>0.0</td>\n",
       "      <td>1.0</td>\n",
       "      <td>...</td>\n",
       "      <td>0.0</td>\n",
       "      <td>0.0</td>\n",
       "      <td>0.0</td>\n",
       "      <td>0.0</td>\n",
       "      <td>0.0</td>\n",
       "      <td>1.0</td>\n",
       "      <td>0.0</td>\n",
       "      <td>0.0</td>\n",
       "      <td>0.0</td>\n",
       "      <td>1.0</td>\n",
       "    </tr>\n",
       "    <tr>\n",
       "      <th>402</th>\n",
       "      <td>1.0</td>\n",
       "      <td>0.0</td>\n",
       "      <td>0.0</td>\n",
       "      <td>1.0</td>\n",
       "      <td>0.0</td>\n",
       "      <td>0.0</td>\n",
       "      <td>0.0</td>\n",
       "      <td>0.0</td>\n",
       "      <td>0.0</td>\n",
       "      <td>0.0</td>\n",
       "      <td>...</td>\n",
       "      <td>0.0</td>\n",
       "      <td>0.0</td>\n",
       "      <td>0.0</td>\n",
       "      <td>0.0</td>\n",
       "      <td>0.0</td>\n",
       "      <td>1.0</td>\n",
       "      <td>0.0</td>\n",
       "      <td>0.0</td>\n",
       "      <td>0.0</td>\n",
       "      <td>0.0</td>\n",
       "    </tr>\n",
       "    <tr>\n",
       "      <th>1193</th>\n",
       "      <td>0.0</td>\n",
       "      <td>1.0</td>\n",
       "      <td>1.0</td>\n",
       "      <td>0.0</td>\n",
       "      <td>0.0</td>\n",
       "      <td>0.0</td>\n",
       "      <td>0.0</td>\n",
       "      <td>0.0</td>\n",
       "      <td>0.0</td>\n",
       "      <td>0.0</td>\n",
       "      <td>...</td>\n",
       "      <td>0.0</td>\n",
       "      <td>0.0</td>\n",
       "      <td>0.0</td>\n",
       "      <td>0.0</td>\n",
       "      <td>0.0</td>\n",
       "      <td>1.0</td>\n",
       "      <td>0.0</td>\n",
       "      <td>0.0</td>\n",
       "      <td>1.0</td>\n",
       "      <td>0.0</td>\n",
       "    </tr>\n",
       "    <tr>\n",
       "      <th>686</th>\n",
       "      <td>0.0</td>\n",
       "      <td>1.0</td>\n",
       "      <td>0.0</td>\n",
       "      <td>0.0</td>\n",
       "      <td>0.0</td>\n",
       "      <td>0.0</td>\n",
       "      <td>0.0</td>\n",
       "      <td>0.0</td>\n",
       "      <td>0.0</td>\n",
       "      <td>0.0</td>\n",
       "      <td>...</td>\n",
       "      <td>0.0</td>\n",
       "      <td>0.0</td>\n",
       "      <td>0.0</td>\n",
       "      <td>0.0</td>\n",
       "      <td>0.0</td>\n",
       "      <td>1.0</td>\n",
       "      <td>0.0</td>\n",
       "      <td>0.0</td>\n",
       "      <td>1.0</td>\n",
       "      <td>0.0</td>\n",
       "    </tr>\n",
       "  </tbody>\n",
       "</table>\n",
       "<p>5 rows × 27 columns</p>\n",
       "</div>"
      ],
      "text/plain": [
       "      pclass_2  pclass_3  sex_male  sibsp_1  sibsp_2  sibsp_3  sibsp_4  \\\n",
       "501        1.0       0.0       0.0      0.0      0.0      0.0      0.0   \n",
       "588        1.0       0.0       0.0      1.0      0.0      0.0      0.0   \n",
       "402        1.0       0.0       0.0      1.0      0.0      0.0      0.0   \n",
       "1193       0.0       1.0       1.0      0.0      0.0      0.0      0.0   \n",
       "686        0.0       1.0       0.0      0.0      0.0      0.0      0.0   \n",
       "\n",
       "      sibsp_5  sibsp_8  parch_1  ...  cabin_C  cabin_D  cabin_E  cabin_F  \\\n",
       "501       0.0      0.0      1.0  ...      0.0      0.0      0.0      0.0   \n",
       "588       0.0      0.0      1.0  ...      0.0      0.0      0.0      0.0   \n",
       "402       0.0      0.0      0.0  ...      0.0      0.0      0.0      0.0   \n",
       "1193      0.0      0.0      0.0  ...      0.0      0.0      0.0      0.0   \n",
       "686       0.0      0.0      0.0  ...      0.0      0.0      0.0      0.0   \n",
       "\n",
       "      cabin_G  cabin_Missing  cabin_T  embarked_Missing  embarked_Q  \\\n",
       "501       0.0            1.0      0.0               0.0         0.0   \n",
       "588       0.0            1.0      0.0               0.0         0.0   \n",
       "402       0.0            1.0      0.0               0.0         0.0   \n",
       "1193      0.0            1.0      0.0               0.0         1.0   \n",
       "686       0.0            1.0      0.0               0.0         1.0   \n",
       "\n",
       "      embarked_S  \n",
       "501          1.0  \n",
       "588          1.0  \n",
       "402          0.0  \n",
       "1193         0.0  \n",
       "686          0.0  \n",
       "\n",
       "[5 rows x 27 columns]"
      ]
     },
     "execution_count": 75,
     "metadata": {},
     "output_type": "execute_result"
    }
   ],
   "source": [
    "# transform the data sets\n",
    "X_train_enc = encoder.transform(X_train)\n",
    "X_test_enc = encoder.transform(X_test)\n",
    "\n",
    "X_train_enc.head()"
   ]
  },
  {
   "cell_type": "code",
   "execution_count": 76,
   "id": "1f325c66-2605-4da1-a946-ab9ae771120a",
   "metadata": {},
   "outputs": [
    {
     "data": {
      "text/plain": [
       "array(['pclass_2', 'pclass_3', 'sex_male', 'sibsp_1', 'sibsp_2',\n",
       "       'sibsp_3', 'sibsp_4', 'sibsp_5', 'sibsp_8', 'parch_1', 'parch_2',\n",
       "       'parch_3', 'parch_4', 'parch_5', 'parch_6', 'parch_9', 'cabin_B',\n",
       "       'cabin_C', 'cabin_D', 'cabin_E', 'cabin_F', 'cabin_G',\n",
       "       'cabin_Missing', 'cabin_T', 'embarked_Missing', 'embarked_Q',\n",
       "       'embarked_S'], dtype=object)"
      ]
     },
     "execution_count": 76,
     "metadata": {},
     "output_type": "execute_result"
    }
   ],
   "source": [
    "# we can retrieve the feature names as follows:\n",
    "encoder.get_feature_names_out()"
   ]
  },
  {
   "cell_type": "code",
   "execution_count": 77,
   "id": "28a6c3b0-a84e-4910-a13b-aa1f3df2dcd8",
   "metadata": {},
   "outputs": [
    {
     "data": {
      "text/html": [
       "<style>#sk-container-id-3 {color: black;background-color: white;}#sk-container-id-3 pre{padding: 0;}#sk-container-id-3 div.sk-toggleable {background-color: white;}#sk-container-id-3 label.sk-toggleable__label {cursor: pointer;display: block;width: 100%;margin-bottom: 0;padding: 0.3em;box-sizing: border-box;text-align: center;}#sk-container-id-3 label.sk-toggleable__label-arrow:before {content: \"▸\";float: left;margin-right: 0.25em;color: #696969;}#sk-container-id-3 label.sk-toggleable__label-arrow:hover:before {color: black;}#sk-container-id-3 div.sk-estimator:hover label.sk-toggleable__label-arrow:before {color: black;}#sk-container-id-3 div.sk-toggleable__content {max-height: 0;max-width: 0;overflow: hidden;text-align: left;background-color: #f0f8ff;}#sk-container-id-3 div.sk-toggleable__content pre {margin: 0.2em;color: black;border-radius: 0.25em;background-color: #f0f8ff;}#sk-container-id-3 input.sk-toggleable__control:checked~div.sk-toggleable__content {max-height: 200px;max-width: 100%;overflow: auto;}#sk-container-id-3 input.sk-toggleable__control:checked~label.sk-toggleable__label-arrow:before {content: \"▾\";}#sk-container-id-3 div.sk-estimator input.sk-toggleable__control:checked~label.sk-toggleable__label {background-color: #d4ebff;}#sk-container-id-3 div.sk-label input.sk-toggleable__control:checked~label.sk-toggleable__label {background-color: #d4ebff;}#sk-container-id-3 input.sk-hidden--visually {border: 0;clip: rect(1px 1px 1px 1px);clip: rect(1px, 1px, 1px, 1px);height: 1px;margin: -1px;overflow: hidden;padding: 0;position: absolute;width: 1px;}#sk-container-id-3 div.sk-estimator {font-family: monospace;background-color: #f0f8ff;border: 1px dotted black;border-radius: 0.25em;box-sizing: border-box;margin-bottom: 0.5em;}#sk-container-id-3 div.sk-estimator:hover {background-color: #d4ebff;}#sk-container-id-3 div.sk-parallel-item::after {content: \"\";width: 100%;border-bottom: 1px solid gray;flex-grow: 1;}#sk-container-id-3 div.sk-label:hover label.sk-toggleable__label {background-color: #d4ebff;}#sk-container-id-3 div.sk-serial::before {content: \"\";position: absolute;border-left: 1px solid gray;box-sizing: border-box;top: 0;bottom: 0;left: 50%;z-index: 0;}#sk-container-id-3 div.sk-serial {display: flex;flex-direction: column;align-items: center;background-color: white;padding-right: 0.2em;padding-left: 0.2em;position: relative;}#sk-container-id-3 div.sk-item {position: relative;z-index: 1;}#sk-container-id-3 div.sk-parallel {display: flex;align-items: stretch;justify-content: center;background-color: white;position: relative;}#sk-container-id-3 div.sk-item::before, #sk-container-id-3 div.sk-parallel-item::before {content: \"\";position: absolute;border-left: 1px solid gray;box-sizing: border-box;top: 0;bottom: 0;left: 50%;z-index: -1;}#sk-container-id-3 div.sk-parallel-item {display: flex;flex-direction: column;z-index: 1;position: relative;background-color: white;}#sk-container-id-3 div.sk-parallel-item:first-child::after {align-self: flex-end;width: 50%;}#sk-container-id-3 div.sk-parallel-item:last-child::after {align-self: flex-start;width: 50%;}#sk-container-id-3 div.sk-parallel-item:only-child::after {width: 0;}#sk-container-id-3 div.sk-dashed-wrapped {border: 1px dashed gray;margin: 0 0.4em 0.5em 0.4em;box-sizing: border-box;padding-bottom: 0.4em;background-color: white;}#sk-container-id-3 div.sk-label label {font-family: monospace;font-weight: bold;display: inline-block;line-height: 1.2em;}#sk-container-id-3 div.sk-label-container {text-align: center;}#sk-container-id-3 div.sk-container {/* jupyter's `normalize.less` sets `[hidden] { display: none; }` but bootstrap.min.css set `[hidden] { display: none !important; }` so we also need the `!important` here to be able to override the default hidden behavior on the sphinx rendered scikit-learn.org. See: https://github.com/scikit-learn/scikit-learn/issues/21755 */display: inline-block !important;position: relative;}#sk-container-id-3 div.sk-text-repr-fallback {display: none;}</style><div id=\"sk-container-id-3\" class=\"sk-top-container\"><div class=\"sk-text-repr-fallback\"><pre>ColumnTransformer(remainder=&#x27;passthrough&#x27;,\n",
       "                  transformers=[(&#x27;encoder&#x27;,\n",
       "                                 Pipeline(steps=[(&#x27;imputer&#x27;,\n",
       "                                                  SimpleImputer(fill_value=&#x27;missing&#x27;,\n",
       "                                                                strategy=&#x27;constant&#x27;)),\n",
       "                                                 (&#x27;ohe&#x27;,\n",
       "                                                  OneHotEncoder(drop=&#x27;first&#x27;,\n",
       "                                                                sparse_output=False))]),\n",
       "                                 [&#x27;sex&#x27;, &#x27;embarked&#x27;, &#x27;cabin&#x27;])])</pre><b>In a Jupyter environment, please rerun this cell to show the HTML representation or trust the notebook. <br />On GitHub, the HTML representation is unable to render, please try loading this page with nbviewer.org.</b></div><div class=\"sk-container\" hidden><div class=\"sk-item sk-dashed-wrapped\"><div class=\"sk-label-container\"><div class=\"sk-label sk-toggleable\"><input class=\"sk-toggleable__control sk-hidden--visually\" id=\"sk-estimator-id-11\" type=\"checkbox\" ><label for=\"sk-estimator-id-11\" class=\"sk-toggleable__label sk-toggleable__label-arrow\">ColumnTransformer</label><div class=\"sk-toggleable__content\"><pre>ColumnTransformer(remainder=&#x27;passthrough&#x27;,\n",
       "                  transformers=[(&#x27;encoder&#x27;,\n",
       "                                 Pipeline(steps=[(&#x27;imputer&#x27;,\n",
       "                                                  SimpleImputer(fill_value=&#x27;missing&#x27;,\n",
       "                                                                strategy=&#x27;constant&#x27;)),\n",
       "                                                 (&#x27;ohe&#x27;,\n",
       "                                                  OneHotEncoder(drop=&#x27;first&#x27;,\n",
       "                                                                sparse_output=False))]),\n",
       "                                 [&#x27;sex&#x27;, &#x27;embarked&#x27;, &#x27;cabin&#x27;])])</pre></div></div></div><div class=\"sk-parallel\"><div class=\"sk-parallel-item\"><div class=\"sk-item\"><div class=\"sk-label-container\"><div class=\"sk-label sk-toggleable\"><input class=\"sk-toggleable__control sk-hidden--visually\" id=\"sk-estimator-id-12\" type=\"checkbox\" ><label for=\"sk-estimator-id-12\" class=\"sk-toggleable__label sk-toggleable__label-arrow\">encoder</label><div class=\"sk-toggleable__content\"><pre>[&#x27;sex&#x27;, &#x27;embarked&#x27;, &#x27;cabin&#x27;]</pre></div></div></div><div class=\"sk-serial\"><div class=\"sk-item\"><div class=\"sk-serial\"><div class=\"sk-item\"><div class=\"sk-estimator sk-toggleable\"><input class=\"sk-toggleable__control sk-hidden--visually\" id=\"sk-estimator-id-13\" type=\"checkbox\" ><label for=\"sk-estimator-id-13\" class=\"sk-toggleable__label sk-toggleable__label-arrow\">SimpleImputer</label><div class=\"sk-toggleable__content\"><pre>SimpleImputer(fill_value=&#x27;missing&#x27;, strategy=&#x27;constant&#x27;)</pre></div></div></div><div class=\"sk-item\"><div class=\"sk-estimator sk-toggleable\"><input class=\"sk-toggleable__control sk-hidden--visually\" id=\"sk-estimator-id-14\" type=\"checkbox\" ><label for=\"sk-estimator-id-14\" class=\"sk-toggleable__label sk-toggleable__label-arrow\">OneHotEncoder</label><div class=\"sk-toggleable__content\"><pre>OneHotEncoder(drop=&#x27;first&#x27;, sparse_output=False)</pre></div></div></div></div></div></div></div></div><div class=\"sk-parallel-item\"><div class=\"sk-item\"><div class=\"sk-label-container\"><div class=\"sk-label sk-toggleable\"><input class=\"sk-toggleable__control sk-hidden--visually\" id=\"sk-estimator-id-15\" type=\"checkbox\" ><label for=\"sk-estimator-id-15\" class=\"sk-toggleable__label sk-toggleable__label-arrow\">remainder</label><div class=\"sk-toggleable__content\"><pre></pre></div></div></div><div class=\"sk-serial\"><div class=\"sk-item\"><div class=\"sk-estimator sk-toggleable\"><input class=\"sk-toggleable__control sk-hidden--visually\" id=\"sk-estimator-id-16\" type=\"checkbox\" ><label for=\"sk-estimator-id-16\" class=\"sk-toggleable__label sk-toggleable__label-arrow\">passthrough</label><div class=\"sk-toggleable__content\"><pre>passthrough</pre></div></div></div></div></div></div></div></div></div></div>"
      ],
      "text/plain": [
       "ColumnTransformer(remainder='passthrough',\n",
       "                  transformers=[('encoder',\n",
       "                                 Pipeline(steps=[('imputer',\n",
       "                                                  SimpleImputer(fill_value='missing',\n",
       "                                                                strategy='constant')),\n",
       "                                                 ('ohe',\n",
       "                                                  OneHotEncoder(drop='first',\n",
       "                                                                sparse_output=False))]),\n",
       "                                 ['sex', 'embarked', 'cabin'])])"
      ]
     },
     "execution_count": 77,
     "metadata": {},
     "output_type": "execute_result"
    }
   ],
   "source": [
    "# pipeline imputation and encoder\n",
    "cat_pipe = Pipeline(\n",
    "    [\n",
    "        (\"imputer\", SimpleImputer(strategy=\"constant\", fill_value=\"missing\")),\n",
    "        ((\"ohe\", encoder)),\n",
    "    ]\n",
    ")\n",
    "ct = ColumnTransformer(\n",
    "    [(\"encoder\", cat_pipe, [\"sex\", \"embarked\", \"cabin\"])], remainder=\"passthrough\"\n",
    ")\n",
    "ct.set_output(transform=\"pandas\")"
   ]
  },
  {
   "attachments": {},
   "cell_type": "markdown",
   "id": "4d26291f-13cc-46e4-84c1-bdf3ca2a977c",
   "metadata": {},
   "source": [
    "### Feature-engine\n",
    "\n",
    "**Advantages**\n",
    "\n",
    "- quick\n",
    "- returns dataframe\n",
    "- returns feature names\n",
    "- allows to select features to encode\n",
    "- appends dummies to original dataset\n",
    "\n",
    "**Limitations**\n",
    "\n",
    "- Not sure yet."
   ]
  },
  {
   "cell_type": "code",
   "execution_count": 78,
   "id": "0ad53d99-f614-49b7-a7be-605d7f774079",
   "metadata": {},
   "outputs": [
    {
     "data": {
      "text/html": [
       "<style>#sk-container-id-4 {color: black;background-color: white;}#sk-container-id-4 pre{padding: 0;}#sk-container-id-4 div.sk-toggleable {background-color: white;}#sk-container-id-4 label.sk-toggleable__label {cursor: pointer;display: block;width: 100%;margin-bottom: 0;padding: 0.3em;box-sizing: border-box;text-align: center;}#sk-container-id-4 label.sk-toggleable__label-arrow:before {content: \"▸\";float: left;margin-right: 0.25em;color: #696969;}#sk-container-id-4 label.sk-toggleable__label-arrow:hover:before {color: black;}#sk-container-id-4 div.sk-estimator:hover label.sk-toggleable__label-arrow:before {color: black;}#sk-container-id-4 div.sk-toggleable__content {max-height: 0;max-width: 0;overflow: hidden;text-align: left;background-color: #f0f8ff;}#sk-container-id-4 div.sk-toggleable__content pre {margin: 0.2em;color: black;border-radius: 0.25em;background-color: #f0f8ff;}#sk-container-id-4 input.sk-toggleable__control:checked~div.sk-toggleable__content {max-height: 200px;max-width: 100%;overflow: auto;}#sk-container-id-4 input.sk-toggleable__control:checked~label.sk-toggleable__label-arrow:before {content: \"▾\";}#sk-container-id-4 div.sk-estimator input.sk-toggleable__control:checked~label.sk-toggleable__label {background-color: #d4ebff;}#sk-container-id-4 div.sk-label input.sk-toggleable__control:checked~label.sk-toggleable__label {background-color: #d4ebff;}#sk-container-id-4 input.sk-hidden--visually {border: 0;clip: rect(1px 1px 1px 1px);clip: rect(1px, 1px, 1px, 1px);height: 1px;margin: -1px;overflow: hidden;padding: 0;position: absolute;width: 1px;}#sk-container-id-4 div.sk-estimator {font-family: monospace;background-color: #f0f8ff;border: 1px dotted black;border-radius: 0.25em;box-sizing: border-box;margin-bottom: 0.5em;}#sk-container-id-4 div.sk-estimator:hover {background-color: #d4ebff;}#sk-container-id-4 div.sk-parallel-item::after {content: \"\";width: 100%;border-bottom: 1px solid gray;flex-grow: 1;}#sk-container-id-4 div.sk-label:hover label.sk-toggleable__label {background-color: #d4ebff;}#sk-container-id-4 div.sk-serial::before {content: \"\";position: absolute;border-left: 1px solid gray;box-sizing: border-box;top: 0;bottom: 0;left: 50%;z-index: 0;}#sk-container-id-4 div.sk-serial {display: flex;flex-direction: column;align-items: center;background-color: white;padding-right: 0.2em;padding-left: 0.2em;position: relative;}#sk-container-id-4 div.sk-item {position: relative;z-index: 1;}#sk-container-id-4 div.sk-parallel {display: flex;align-items: stretch;justify-content: center;background-color: white;position: relative;}#sk-container-id-4 div.sk-item::before, #sk-container-id-4 div.sk-parallel-item::before {content: \"\";position: absolute;border-left: 1px solid gray;box-sizing: border-box;top: 0;bottom: 0;left: 50%;z-index: -1;}#sk-container-id-4 div.sk-parallel-item {display: flex;flex-direction: column;z-index: 1;position: relative;background-color: white;}#sk-container-id-4 div.sk-parallel-item:first-child::after {align-self: flex-end;width: 50%;}#sk-container-id-4 div.sk-parallel-item:last-child::after {align-self: flex-start;width: 50%;}#sk-container-id-4 div.sk-parallel-item:only-child::after {width: 0;}#sk-container-id-4 div.sk-dashed-wrapped {border: 1px dashed gray;margin: 0 0.4em 0.5em 0.4em;box-sizing: border-box;padding-bottom: 0.4em;background-color: white;}#sk-container-id-4 div.sk-label label {font-family: monospace;font-weight: bold;display: inline-block;line-height: 1.2em;}#sk-container-id-4 div.sk-label-container {text-align: center;}#sk-container-id-4 div.sk-container {/* jupyter's `normalize.less` sets `[hidden] { display: none; }` but bootstrap.min.css set `[hidden] { display: none !important; }` so we also need the `!important` here to be able to override the default hidden behavior on the sphinx rendered scikit-learn.org. See: https://github.com/scikit-learn/scikit-learn/issues/21755 */display: inline-block !important;position: relative;}#sk-container-id-4 div.sk-text-repr-fallback {display: none;}</style><div id=\"sk-container-id-4\" class=\"sk-top-container\"><div class=\"sk-text-repr-fallback\"><pre>OneHotEncoder(drop_last=True)</pre><b>In a Jupyter environment, please rerun this cell to show the HTML representation or trust the notebook. <br />On GitHub, the HTML representation is unable to render, please try loading this page with nbviewer.org.</b></div><div class=\"sk-container\" hidden><div class=\"sk-item\"><div class=\"sk-estimator sk-toggleable\"><input class=\"sk-toggleable__control sk-hidden--visually\" id=\"sk-estimator-id-17\" type=\"checkbox\" checked><label for=\"sk-estimator-id-17\" class=\"sk-toggleable__label sk-toggleable__label-arrow\">OneHotEncoder</label><div class=\"sk-toggleable__content\"><pre>OneHotEncoder(drop_last=True)</pre></div></div></div></div></div>"
      ],
      "text/plain": [
       "OneHotEncoder(drop_last=True)"
      ]
     },
     "execution_count": 78,
     "metadata": {},
     "output_type": "execute_result"
    }
   ],
   "source": [
    "from feature_engine.encoding import OneHotEncoder\n",
    "from feature_engine.imputation import CategoricalImputer\n",
    "\n",
    "# set up encoder\n",
    "encoder = OneHotEncoder(\n",
    "    variables=None,  # alternatively pass a list of variables\n",
    "    drop_last=True,  # to return k-1, use drop=false to return k dummies\n",
    ")\n",
    "\n",
    "# fit the encoder (finds categories)\n",
    "encoder.fit(X_train)"
   ]
  },
  {
   "cell_type": "code",
   "execution_count": 79,
   "id": "97a5f605-1f8a-490d-b6a8-7c55d52b48f0",
   "metadata": {},
   "outputs": [
    {
     "data": {
      "text/plain": [
       "pclass       int64\n",
       "sex         object\n",
       "sibsp        int64\n",
       "parch        int64\n",
       "cabin       object\n",
       "embarked    object\n",
       "dtype: object"
      ]
     },
     "execution_count": 79,
     "metadata": {},
     "output_type": "execute_result"
    }
   ],
   "source": [
    "X_train.dtypes"
   ]
  },
  {
   "cell_type": "code",
   "execution_count": 80,
   "id": "aef1ba99-6110-4e49-8acd-64b2a37a5fab",
   "metadata": {},
   "outputs": [
    {
     "data": {
      "text/plain": [
       "{'sex': ['female'],\n",
       " 'cabin': ['Missing', 'E', 'C', 'D', 'B', 'A', 'F', 'T'],\n",
       " 'embarked': ['S', 'C', 'Q']}"
      ]
     },
     "execution_count": 80,
     "metadata": {},
     "output_type": "execute_result"
    }
   ],
   "source": [
    "# automatically found numerical variables\n",
    "encoder.variables_\n",
    "\n",
    "# we observe the learned categories\n",
    "encoder.encoder_dict_"
   ]
  },
  {
   "attachments": {},
   "cell_type": "markdown",
   "id": "0c0f9796-76ad-4760-bf05-4bea8fdaa5a2",
   "metadata": {},
   "source": [
    "### One hot encoding with Category encoders\n",
    "\n",
    "**Advantages**\n",
    "\n",
    "- quick\n",
    "- returns dataframe\n",
    "- returns feature names\n",
    "- allows to select features to encode\n",
    "- appends dummies to original dataset\n",
    "\n",
    "**Limitations**\n",
    "\n",
    "- No option for k-1 dummies"
   ]
  },
  {
   "cell_type": "code",
   "execution_count": 81,
   "id": "ad852ce5-c469-47cd-be49-337e1b193e9f",
   "metadata": {},
   "outputs": [],
   "source": [
    "from category_encoders.one_hot import OneHotEncoder\n",
    "\n",
    "# set up encoder\n",
    "encoder = OneHotEncoder(\n",
    "    cols=None,  # alternatively pass a list of variables\n",
    "    use_cat_names=True,\n",
    ")"
   ]
  },
  {
   "attachments": {},
   "cell_type": "markdown",
   "id": "555125c0-b146-4aad-b746-1f38d35e2a27",
   "metadata": {},
   "source": [
    "## One Hot Encoding of Frequent Categories (Rare label handle)\n",
    "- One hot encoding for the top most frequent labels only, and grouping all the remaining categories under a new category\n",
    "- Often, categorical variables show a few dominating categories while the remaining labels add little information. Therefore, OHE of top categories is a simple and useful technique.\n",
    "- This number of top frequent label can be chosen arbitrarily or derived from data exploration.\n",
    "\n",
    "**1. Advantages**\n",
    "- Straightforward to implement\n",
    "- Does not require hrs of variable exploration\n",
    "- Does not expand massively the feature space\n",
    "- Suitable for linear models\n",
    "\n",
    "**2. Disadvantages**\n",
    "- Does not add any information that may make the variable more predictive.\n",
    "- Does not keep the information of the ignored labels."
   ]
  },
  {
   "cell_type": "code",
   "execution_count": 82,
   "id": "90ded7f2-d004-45e5-b632-c8319b17c346",
   "metadata": {},
   "outputs": [
    {
     "data": {
      "text/html": [
       "<style>#sk-container-id-5 {color: black;background-color: white;}#sk-container-id-5 pre{padding: 0;}#sk-container-id-5 div.sk-toggleable {background-color: white;}#sk-container-id-5 label.sk-toggleable__label {cursor: pointer;display: block;width: 100%;margin-bottom: 0;padding: 0.3em;box-sizing: border-box;text-align: center;}#sk-container-id-5 label.sk-toggleable__label-arrow:before {content: \"▸\";float: left;margin-right: 0.25em;color: #696969;}#sk-container-id-5 label.sk-toggleable__label-arrow:hover:before {color: black;}#sk-container-id-5 div.sk-estimator:hover label.sk-toggleable__label-arrow:before {color: black;}#sk-container-id-5 div.sk-toggleable__content {max-height: 0;max-width: 0;overflow: hidden;text-align: left;background-color: #f0f8ff;}#sk-container-id-5 div.sk-toggleable__content pre {margin: 0.2em;color: black;border-radius: 0.25em;background-color: #f0f8ff;}#sk-container-id-5 input.sk-toggleable__control:checked~div.sk-toggleable__content {max-height: 200px;max-width: 100%;overflow: auto;}#sk-container-id-5 input.sk-toggleable__control:checked~label.sk-toggleable__label-arrow:before {content: \"▾\";}#sk-container-id-5 div.sk-estimator input.sk-toggleable__control:checked~label.sk-toggleable__label {background-color: #d4ebff;}#sk-container-id-5 div.sk-label input.sk-toggleable__control:checked~label.sk-toggleable__label {background-color: #d4ebff;}#sk-container-id-5 input.sk-hidden--visually {border: 0;clip: rect(1px 1px 1px 1px);clip: rect(1px, 1px, 1px, 1px);height: 1px;margin: -1px;overflow: hidden;padding: 0;position: absolute;width: 1px;}#sk-container-id-5 div.sk-estimator {font-family: monospace;background-color: #f0f8ff;border: 1px dotted black;border-radius: 0.25em;box-sizing: border-box;margin-bottom: 0.5em;}#sk-container-id-5 div.sk-estimator:hover {background-color: #d4ebff;}#sk-container-id-5 div.sk-parallel-item::after {content: \"\";width: 100%;border-bottom: 1px solid gray;flex-grow: 1;}#sk-container-id-5 div.sk-label:hover label.sk-toggleable__label {background-color: #d4ebff;}#sk-container-id-5 div.sk-serial::before {content: \"\";position: absolute;border-left: 1px solid gray;box-sizing: border-box;top: 0;bottom: 0;left: 50%;z-index: 0;}#sk-container-id-5 div.sk-serial {display: flex;flex-direction: column;align-items: center;background-color: white;padding-right: 0.2em;padding-left: 0.2em;position: relative;}#sk-container-id-5 div.sk-item {position: relative;z-index: 1;}#sk-container-id-5 div.sk-parallel {display: flex;align-items: stretch;justify-content: center;background-color: white;position: relative;}#sk-container-id-5 div.sk-item::before, #sk-container-id-5 div.sk-parallel-item::before {content: \"\";position: absolute;border-left: 1px solid gray;box-sizing: border-box;top: 0;bottom: 0;left: 50%;z-index: -1;}#sk-container-id-5 div.sk-parallel-item {display: flex;flex-direction: column;z-index: 1;position: relative;background-color: white;}#sk-container-id-5 div.sk-parallel-item:first-child::after {align-self: flex-end;width: 50%;}#sk-container-id-5 div.sk-parallel-item:last-child::after {align-self: flex-start;width: 50%;}#sk-container-id-5 div.sk-parallel-item:only-child::after {width: 0;}#sk-container-id-5 div.sk-dashed-wrapped {border: 1px dashed gray;margin: 0 0.4em 0.5em 0.4em;box-sizing: border-box;padding-bottom: 0.4em;background-color: white;}#sk-container-id-5 div.sk-label label {font-family: monospace;font-weight: bold;display: inline-block;line-height: 1.2em;}#sk-container-id-5 div.sk-label-container {text-align: center;}#sk-container-id-5 div.sk-container {/* jupyter's `normalize.less` sets `[hidden] { display: none; }` but bootstrap.min.css set `[hidden] { display: none !important; }` so we also need the `!important` here to be able to override the default hidden behavior on the sphinx rendered scikit-learn.org. See: https://github.com/scikit-learn/scikit-learn/issues/21755 */display: inline-block !important;position: relative;}#sk-container-id-5 div.sk-text-repr-fallback {display: none;}</style><div id=\"sk-container-id-5\" class=\"sk-top-container\"><div class=\"sk-text-repr-fallback\"><pre>OneHotEncoder(handle_unknown=&#x27;infrequent_if_exist&#x27;, max_categories=5,\n",
       "              sparse_output=False)</pre><b>In a Jupyter environment, please rerun this cell to show the HTML representation or trust the notebook. <br />On GitHub, the HTML representation is unable to render, please try loading this page with nbviewer.org.</b></div><div class=\"sk-container\" hidden><div class=\"sk-item\"><div class=\"sk-estimator sk-toggleable\"><input class=\"sk-toggleable__control sk-hidden--visually\" id=\"sk-estimator-id-18\" type=\"checkbox\" checked><label for=\"sk-estimator-id-18\" class=\"sk-toggleable__label sk-toggleable__label-arrow\">OneHotEncoder</label><div class=\"sk-toggleable__content\"><pre>OneHotEncoder(handle_unknown=&#x27;infrequent_if_exist&#x27;, max_categories=5,\n",
       "              sparse_output=False)</pre></div></div></div></div></div>"
      ],
      "text/plain": [
       "OneHotEncoder(handle_unknown='infrequent_if_exist', max_categories=5,\n",
       "              sparse_output=False)"
      ]
     },
     "execution_count": 82,
     "metadata": {},
     "output_type": "execute_result"
    }
   ],
   "source": [
    "from sklearn.preprocessing import OneHotEncoder\n",
    "\n",
    "ohe_enc = OneHotEncoder(\n",
    "    handle_unknown=\"infrequent_if_exist\",  # unseen categories will be treated like the less frequent ones\n",
    "    max_categories=5,  # the number of top categories\n",
    "    sparse_output=False,  # necessary for set output pandas\n",
    ")\n",
    "\n",
    "ohe_enc.set_output(transform=\"pandas\")\n",
    "\n",
    "ohe_enc.fit(X_train)"
   ]
  },
  {
   "cell_type": "code",
   "execution_count": 83,
   "id": "ed15fb57-cde3-48e3-b9eb-2d12adf9c97e",
   "metadata": {},
   "outputs": [
    {
     "data": {
      "text/plain": [
       "[None,\n",
       " None,\n",
       " array([3, 5, 8]),\n",
       " array([4, 5, 6, 9]),\n",
       " array(['A', 'D', 'F', 'G', 'T'], dtype=object),\n",
       " None]"
      ]
     },
     "execution_count": 83,
     "metadata": {},
     "output_type": "execute_result"
    }
   ],
   "source": [
    "ohe_enc.infrequent_categories_"
   ]
  },
  {
   "cell_type": "code",
   "execution_count": 84,
   "id": "9c042acb-a062-402e-b4dd-4c3ad753d6ac",
   "metadata": {},
   "outputs": [
    {
     "data": {
      "text/plain": [
       "[array([1, 2, 3]),\n",
       " array(['female', 'male'], dtype=object),\n",
       " array([0, 1, 2, 3, 4, 5, 8]),\n",
       " array([0, 1, 2, 3, 4, 5, 6, 9]),\n",
       " array(['A', 'B', 'C', 'D', 'E', 'F', 'G', 'Missing', 'T'], dtype=object),\n",
       " array(['C', 'Missing', 'Q', 'S'], dtype=object)]"
      ]
     },
     "execution_count": 84,
     "metadata": {},
     "output_type": "execute_result"
    }
   ],
   "source": [
    "# the categories found in each variable\n",
    "ohe_enc.categories_"
   ]
  },
  {
   "cell_type": "code",
   "execution_count": 85,
   "id": "0fb67279-3084-47ab-b4c9-0a305df755f2",
   "metadata": {},
   "outputs": [
    {
     "data": {
      "text/plain": [
       "array(['pclass_1', 'pclass_2', 'pclass_3', 'sex_female', 'sex_male',\n",
       "       'sibsp_0', 'sibsp_1', 'sibsp_2', 'sibsp_4',\n",
       "       'sibsp_infrequent_sklearn', 'parch_0', 'parch_1', 'parch_2',\n",
       "       'parch_3', 'parch_infrequent_sklearn', 'cabin_B', 'cabin_C',\n",
       "       'cabin_E', 'cabin_Missing', 'cabin_infrequent_sklearn',\n",
       "       'embarked_C', 'embarked_Missing', 'embarked_Q', 'embarked_S'],\n",
       "      dtype=object)"
      ]
     },
     "execution_count": 85,
     "metadata": {},
     "output_type": "execute_result"
    }
   ],
   "source": [
    "ohe_enc.get_feature_names_out()"
   ]
  },
  {
   "cell_type": "code",
   "execution_count": 86,
   "id": "d6267610-8678-4ae2-b274-1e05fca62f3c",
   "metadata": {},
   "outputs": [],
   "source": [
    "# feature_engine\n",
    "# for one hot encoding with feature-engine\n",
    "from feature_engine.encoding import OneHotEncoder\n",
    "\n",
    "ohe_enc = OneHotEncoder(\n",
    "    top_categories=10,  # you can change this value to select more or less variables\n",
    "    variables=[\"Neighborhood\", \"Exterior1st\", \"Exterior2nd\"], # we can select which variables to encode\n",
    "    drop_last=False,\n",
    ")"
   ]
  },
  {
   "attachments": {},
   "cell_type": "markdown",
   "id": "2fc82ede-a87b-4789-af28-e803ec9033f8",
   "metadata": {},
   "source": [
    "## Label encoding / Ordinal encoding\n",
    "- Replacing the categories by digits from 1 to n (or 0 to n-1) where n is the number of distinct categories of the variables\n",
    "- Should use for the ordinal categorical variables\n",
    "\n",
    "**1. Advantages**\n",
    "- Straightforward to implement\n",
    "- Does not expand the feature space\n",
    "- Work well for tree-base model\n",
    "\n",
    "**2. Disadvantages**\n",
    "- Does not capture any information about the categories labels\n",
    "- Not suitable for linear models.\n",
    "- Do not handle new categories in testset or production"
   ]
  },
  {
   "cell_type": "code",
   "execution_count": 87,
   "id": "12135fa7-f6ac-4d2b-bba2-942db224904d",
   "metadata": {},
   "outputs": [],
   "source": [
    "# sklearn\n",
    "from sklearn.preprocessing import OrdinalEncoder, LabelEncoder # LabelEncoder use for target variables\n",
    "\n",
    "# cat features\n",
    "cat_vars = list(X_train.select_dtypes(include=\"O\").columns)\n",
    "\n",
    "# let's set up the encoder\n",
    "encoder = OrdinalEncoder()\n",
    "\n",
    "# let's set up the column transformer\n",
    "ct = ColumnTransformer(\n",
    "    [(\"oe\", encoder, cat_vars)],\n",
    "    remainder=\"passthrough\",\n",
    ").set_output(transform=\"pandas\")"
   ]
  },
  {
   "attachments": {},
   "cell_type": "markdown",
   "id": "1ec525c4-5ae7-4257-a068-237c5154bff2",
   "metadata": {},
   "source": [
    "## Count frequency encoding\n",
    "\n",
    "- Categories are replaced by the `count` or `percentage` of observations that show that category in the dataset. Therefore, Captures the representation of each label in a dataset.\n",
    "- Very popular encoding method in Kaggle competitions\n",
    "- **Assumption**: the number observations shown by each category is predictive of the target. (Mức độ phổ biến của label có khả năng dự đoán cho target)\n",
    "\n",
    "**1. Advantages**\n",
    "- Straightforward to implement\n",
    "- Does not expand the feature space\n",
    "- Can work well enough with tree based algorithms\n",
    "\n",
    "**2. Disadvantages**\n",
    "- Not suitable for linear models\n",
    "- Does not handle new categories in test set automatically\n",
    "- If 2 different categories appear the same amount of times in the dataset, that is, they appear in the same number of observations, they will be replaced by the same number: may lose valuable information."
   ]
  },
  {
   "cell_type": "code",
   "execution_count": 88,
   "id": "2041840b-6145-4ba9-a493-4e9347832591",
   "metadata": {},
   "outputs": [
    {
     "data": {
      "text/html": [
       "<style>#sk-container-id-6 {color: black;background-color: white;}#sk-container-id-6 pre{padding: 0;}#sk-container-id-6 div.sk-toggleable {background-color: white;}#sk-container-id-6 label.sk-toggleable__label {cursor: pointer;display: block;width: 100%;margin-bottom: 0;padding: 0.3em;box-sizing: border-box;text-align: center;}#sk-container-id-6 label.sk-toggleable__label-arrow:before {content: \"▸\";float: left;margin-right: 0.25em;color: #696969;}#sk-container-id-6 label.sk-toggleable__label-arrow:hover:before {color: black;}#sk-container-id-6 div.sk-estimator:hover label.sk-toggleable__label-arrow:before {color: black;}#sk-container-id-6 div.sk-toggleable__content {max-height: 0;max-width: 0;overflow: hidden;text-align: left;background-color: #f0f8ff;}#sk-container-id-6 div.sk-toggleable__content pre {margin: 0.2em;color: black;border-radius: 0.25em;background-color: #f0f8ff;}#sk-container-id-6 input.sk-toggleable__control:checked~div.sk-toggleable__content {max-height: 200px;max-width: 100%;overflow: auto;}#sk-container-id-6 input.sk-toggleable__control:checked~label.sk-toggleable__label-arrow:before {content: \"▾\";}#sk-container-id-6 div.sk-estimator input.sk-toggleable__control:checked~label.sk-toggleable__label {background-color: #d4ebff;}#sk-container-id-6 div.sk-label input.sk-toggleable__control:checked~label.sk-toggleable__label {background-color: #d4ebff;}#sk-container-id-6 input.sk-hidden--visually {border: 0;clip: rect(1px 1px 1px 1px);clip: rect(1px, 1px, 1px, 1px);height: 1px;margin: -1px;overflow: hidden;padding: 0;position: absolute;width: 1px;}#sk-container-id-6 div.sk-estimator {font-family: monospace;background-color: #f0f8ff;border: 1px dotted black;border-radius: 0.25em;box-sizing: border-box;margin-bottom: 0.5em;}#sk-container-id-6 div.sk-estimator:hover {background-color: #d4ebff;}#sk-container-id-6 div.sk-parallel-item::after {content: \"\";width: 100%;border-bottom: 1px solid gray;flex-grow: 1;}#sk-container-id-6 div.sk-label:hover label.sk-toggleable__label {background-color: #d4ebff;}#sk-container-id-6 div.sk-serial::before {content: \"\";position: absolute;border-left: 1px solid gray;box-sizing: border-box;top: 0;bottom: 0;left: 50%;z-index: 0;}#sk-container-id-6 div.sk-serial {display: flex;flex-direction: column;align-items: center;background-color: white;padding-right: 0.2em;padding-left: 0.2em;position: relative;}#sk-container-id-6 div.sk-item {position: relative;z-index: 1;}#sk-container-id-6 div.sk-parallel {display: flex;align-items: stretch;justify-content: center;background-color: white;position: relative;}#sk-container-id-6 div.sk-item::before, #sk-container-id-6 div.sk-parallel-item::before {content: \"\";position: absolute;border-left: 1px solid gray;box-sizing: border-box;top: 0;bottom: 0;left: 50%;z-index: -1;}#sk-container-id-6 div.sk-parallel-item {display: flex;flex-direction: column;z-index: 1;position: relative;background-color: white;}#sk-container-id-6 div.sk-parallel-item:first-child::after {align-self: flex-end;width: 50%;}#sk-container-id-6 div.sk-parallel-item:last-child::after {align-self: flex-start;width: 50%;}#sk-container-id-6 div.sk-parallel-item:only-child::after {width: 0;}#sk-container-id-6 div.sk-dashed-wrapped {border: 1px dashed gray;margin: 0 0.4em 0.5em 0.4em;box-sizing: border-box;padding-bottom: 0.4em;background-color: white;}#sk-container-id-6 div.sk-label label {font-family: monospace;font-weight: bold;display: inline-block;line-height: 1.2em;}#sk-container-id-6 div.sk-label-container {text-align: center;}#sk-container-id-6 div.sk-container {/* jupyter's `normalize.less` sets `[hidden] { display: none; }` but bootstrap.min.css set `[hidden] { display: none !important; }` so we also need the `!important` here to be able to override the default hidden behavior on the sphinx rendered scikit-learn.org. See: https://github.com/scikit-learn/scikit-learn/issues/21755 */display: inline-block !important;position: relative;}#sk-container-id-6 div.sk-text-repr-fallback {display: none;}</style><div id=\"sk-container-id-6\" class=\"sk-top-container\"><div class=\"sk-text-repr-fallback\"><pre>CountFrequencyEncoder(variables=[&#x27;sex&#x27;, &#x27;cabin&#x27;, &#x27;embarked&#x27;])</pre><b>In a Jupyter environment, please rerun this cell to show the HTML representation or trust the notebook. <br />On GitHub, the HTML representation is unable to render, please try loading this page with nbviewer.org.</b></div><div class=\"sk-container\" hidden><div class=\"sk-item\"><div class=\"sk-estimator sk-toggleable\"><input class=\"sk-toggleable__control sk-hidden--visually\" id=\"sk-estimator-id-19\" type=\"checkbox\" checked><label for=\"sk-estimator-id-19\" class=\"sk-toggleable__label sk-toggleable__label-arrow\">CountFrequencyEncoder</label><div class=\"sk-toggleable__content\"><pre>CountFrequencyEncoder(variables=[&#x27;sex&#x27;, &#x27;cabin&#x27;, &#x27;embarked&#x27;])</pre></div></div></div></div></div>"
      ],
      "text/plain": [
       "CountFrequencyEncoder(variables=['sex', 'cabin', 'embarked'])"
      ]
     },
     "execution_count": 88,
     "metadata": {},
     "output_type": "execute_result"
    }
   ],
   "source": [
    "# to encode with feature-engine\n",
    "from feature_engine.encoding import CountFrequencyEncoder\n",
    "\n",
    "count_enc = CountFrequencyEncoder(\n",
    "    encoding_method=\"count\",  # to do frequency ==> encoding_method='frequency'\n",
    "    variables=cat_vars,\n",
    ")\n",
    "\n",
    "count_enc.fit(X_train)"
   ]
  },
  {
   "attachments": {},
   "cell_type": "markdown",
   "id": "f533243c-c485-4ba4-b8c0-cb7d52db2550",
   "metadata": {},
   "source": [
    "## Group rare label encoding (Rare label handle)\n",
    "- Grouping rare labels are those that appear only in a tiny proportion of the obs in a dataset into one '`Rare`' label.\n",
    "- Replacing the labels that are present only in a small percentage of the observations below a `threshold` or have a big difference in weight compared to common labels. Scenario for re-grouping:\n",
    "    - One predominant category \n",
    "    - A small number of categories with the differently dominant\n",
    "    - Highly cardinal categorical\n",
    "\n",
    "**1. Advantages**\n",
    "- Improve performance model with grouping categories into rare for variables that show low or high cardinality, avoid overfitting\n",
    "- Handle the unseen labels in testset or production into rare label\n"
   ]
  },
  {
   "cell_type": "code",
   "execution_count": 89,
   "id": "4fbb3ede-d998-4425-bb67-42082afd3414",
   "metadata": {},
   "outputs": [
    {
     "name": "stderr",
     "output_type": "stream",
     "text": [
      "/Users/khongdat/miniforge3/lib/python3.10/site-packages/feature_engine/encoding/rare_label.py:199: UserWarning:\n",
      "\n",
      "The number of unique categories for variable ExterQual is less than that indicated in n_categories. Thus, all categories will be considered frequent\n",
      "\n"
     ]
    },
    {
     "data": {
      "text/html": [
       "<style>#sk-container-id-7 {color: black;background-color: white;}#sk-container-id-7 pre{padding: 0;}#sk-container-id-7 div.sk-toggleable {background-color: white;}#sk-container-id-7 label.sk-toggleable__label {cursor: pointer;display: block;width: 100%;margin-bottom: 0;padding: 0.3em;box-sizing: border-box;text-align: center;}#sk-container-id-7 label.sk-toggleable__label-arrow:before {content: \"▸\";float: left;margin-right: 0.25em;color: #696969;}#sk-container-id-7 label.sk-toggleable__label-arrow:hover:before {color: black;}#sk-container-id-7 div.sk-estimator:hover label.sk-toggleable__label-arrow:before {color: black;}#sk-container-id-7 div.sk-toggleable__content {max-height: 0;max-width: 0;overflow: hidden;text-align: left;background-color: #f0f8ff;}#sk-container-id-7 div.sk-toggleable__content pre {margin: 0.2em;color: black;border-radius: 0.25em;background-color: #f0f8ff;}#sk-container-id-7 input.sk-toggleable__control:checked~div.sk-toggleable__content {max-height: 200px;max-width: 100%;overflow: auto;}#sk-container-id-7 input.sk-toggleable__control:checked~label.sk-toggleable__label-arrow:before {content: \"▾\";}#sk-container-id-7 div.sk-estimator input.sk-toggleable__control:checked~label.sk-toggleable__label {background-color: #d4ebff;}#sk-container-id-7 div.sk-label input.sk-toggleable__control:checked~label.sk-toggleable__label {background-color: #d4ebff;}#sk-container-id-7 input.sk-hidden--visually {border: 0;clip: rect(1px 1px 1px 1px);clip: rect(1px, 1px, 1px, 1px);height: 1px;margin: -1px;overflow: hidden;padding: 0;position: absolute;width: 1px;}#sk-container-id-7 div.sk-estimator {font-family: monospace;background-color: #f0f8ff;border: 1px dotted black;border-radius: 0.25em;box-sizing: border-box;margin-bottom: 0.5em;}#sk-container-id-7 div.sk-estimator:hover {background-color: #d4ebff;}#sk-container-id-7 div.sk-parallel-item::after {content: \"\";width: 100%;border-bottom: 1px solid gray;flex-grow: 1;}#sk-container-id-7 div.sk-label:hover label.sk-toggleable__label {background-color: #d4ebff;}#sk-container-id-7 div.sk-serial::before {content: \"\";position: absolute;border-left: 1px solid gray;box-sizing: border-box;top: 0;bottom: 0;left: 50%;z-index: 0;}#sk-container-id-7 div.sk-serial {display: flex;flex-direction: column;align-items: center;background-color: white;padding-right: 0.2em;padding-left: 0.2em;position: relative;}#sk-container-id-7 div.sk-item {position: relative;z-index: 1;}#sk-container-id-7 div.sk-parallel {display: flex;align-items: stretch;justify-content: center;background-color: white;position: relative;}#sk-container-id-7 div.sk-item::before, #sk-container-id-7 div.sk-parallel-item::before {content: \"\";position: absolute;border-left: 1px solid gray;box-sizing: border-box;top: 0;bottom: 0;left: 50%;z-index: -1;}#sk-container-id-7 div.sk-parallel-item {display: flex;flex-direction: column;z-index: 1;position: relative;background-color: white;}#sk-container-id-7 div.sk-parallel-item:first-child::after {align-self: flex-end;width: 50%;}#sk-container-id-7 div.sk-parallel-item:last-child::after {align-self: flex-start;width: 50%;}#sk-container-id-7 div.sk-parallel-item:only-child::after {width: 0;}#sk-container-id-7 div.sk-dashed-wrapped {border: 1px dashed gray;margin: 0 0.4em 0.5em 0.4em;box-sizing: border-box;padding-bottom: 0.4em;background-color: white;}#sk-container-id-7 div.sk-label label {font-family: monospace;font-weight: bold;display: inline-block;line-height: 1.2em;}#sk-container-id-7 div.sk-label-container {text-align: center;}#sk-container-id-7 div.sk-container {/* jupyter's `normalize.less` sets `[hidden] { display: none; }` but bootstrap.min.css set `[hidden] { display: none !important; }` so we also need the `!important` here to be able to override the default hidden behavior on the sphinx rendered scikit-learn.org. See: https://github.com/scikit-learn/scikit-learn/issues/21755 */display: inline-block !important;position: relative;}#sk-container-id-7 div.sk-text-repr-fallback {display: none;}</style><div id=\"sk-container-id-7\" class=\"sk-top-container\"><div class=\"sk-text-repr-fallback\"><pre>RareLabelEncoder(n_categories=4,\n",
       "                 variables=[&#x27;Neighborhood&#x27;, &#x27;Exterior1st&#x27;, &#x27;Exterior2nd&#x27;,\n",
       "                            &#x27;MasVnrType&#x27;, &#x27;ExterQual&#x27;, &#x27;BsmtCond&#x27;])</pre><b>In a Jupyter environment, please rerun this cell to show the HTML representation or trust the notebook. <br />On GitHub, the HTML representation is unable to render, please try loading this page with nbviewer.org.</b></div><div class=\"sk-container\" hidden><div class=\"sk-item\"><div class=\"sk-estimator sk-toggleable\"><input class=\"sk-toggleable__control sk-hidden--visually\" id=\"sk-estimator-id-20\" type=\"checkbox\" checked><label for=\"sk-estimator-id-20\" class=\"sk-toggleable__label sk-toggleable__label-arrow\">RareLabelEncoder</label><div class=\"sk-toggleable__content\"><pre>RareLabelEncoder(n_categories=4,\n",
       "                 variables=[&#x27;Neighborhood&#x27;, &#x27;Exterior1st&#x27;, &#x27;Exterior2nd&#x27;,\n",
       "                            &#x27;MasVnrType&#x27;, &#x27;ExterQual&#x27;, &#x27;BsmtCond&#x27;])</pre></div></div></div></div></div>"
      ],
      "text/plain": [
       "RareLabelEncoder(n_categories=4,\n",
       "                 variables=['Neighborhood', 'Exterior1st', 'Exterior2nd',\n",
       "                            'MasVnrType', 'ExterQual', 'BsmtCond'])"
      ]
     },
     "execution_count": 89,
     "metadata": {},
     "output_type": "execute_result"
    }
   ],
   "source": [
    "from feature_engine.encoding import RareLabelEncoder\n",
    "\n",
    "# let's load the house price dataset\n",
    "\n",
    "data = pd.read_csv(\"Datasets/houseprice_train.csv\").fillna(\"Missing\")\n",
    "X_train, X_test, y_train, y_test = train_test_split( data.drop(labels=[\"SalePrice\"], axis=1),\n",
    "                                                data.SalePrice,     test_size=0.3,    random_state=0)\n",
    "\n",
    "# Rare value encoder\n",
    "rare_encoder = RareLabelEncoder(\n",
    "    tol=0.05,  # minimal percentage to be considered non-rare\n",
    "    n_categories=4,  # minimal number of categories the variable should have to re-group rare categories\n",
    "    # số lượng label tối thiểu sau khi regroup, nếu ban đầu có số lượng label ít hơn thì ko regroup nữa\n",
    "    variables=[\"Neighborhood\",\"Exterior1st\",\"Exterior2nd\",\"MasVnrType\",\"ExterQual\",\"BsmtCond\"],  # variables to re-group\n",
    ")\n",
    "rare_encoder.fit(X_train)"
   ]
  },
  {
   "cell_type": "code",
   "execution_count": 90,
   "id": "4e4e76f9-9a70-4847-bcb1-4e23c640a57d",
   "metadata": {},
   "outputs": [],
   "source": [
    "X_train_enc = rare_encoder.transform(X_train)"
   ]
  },
  {
   "cell_type": "code",
   "execution_count": 91,
   "id": "767cca19-e529-4e01-83cf-7cb47c7d6de6",
   "metadata": {},
   "outputs": [
    {
     "data": {
      "text/plain": [
       "25"
      ]
     },
     "execution_count": 91,
     "metadata": {},
     "output_type": "execute_result"
    }
   ],
   "source": [
    "X_train.Neighborhood.nunique()"
   ]
  },
  {
   "cell_type": "code",
   "execution_count": 92,
   "id": "3adf0348-3fac-4698-af60-6a6ef2b098a7",
   "metadata": {},
   "outputs": [
    {
     "data": {
      "text/plain": [
       "Rare       0.440313\n",
       "NAmes      0.147750\n",
       "CollgCr    0.102740\n",
       "OldTown    0.071429\n",
       "Edwards    0.069472\n",
       "Sawyer     0.059687\n",
       "Somerst    0.054795\n",
       "Gilbert    0.053816\n",
       "Name: Neighborhood, dtype: float64"
      ]
     },
     "execution_count": 92,
     "metadata": {},
     "output_type": "execute_result"
    }
   ],
   "source": [
    "X_train_enc.Neighborhood.value_counts()/(X_train.shape[0])"
   ]
  },
  {
   "attachments": {},
   "cell_type": "markdown",
   "id": "d0c30f2d-6c81-4a6a-85d2-c4b9964c0543",
   "metadata": {},
   "source": [
    "## Binary encoding\n",
    "- Similar One-hot encoding but minimize the increase of feature space\n",
    "<img src = \"_images/05cate_binary_enc.png\">"
   ]
  },
  {
   "cell_type": "code",
   "execution_count": 93,
   "id": "9b2b26cc-d2f2-44b4-8162-21629ec43068",
   "metadata": {},
   "outputs": [],
   "source": [
    "from category_encoders.binary import BinaryEncoder"
   ]
  },
  {
   "cell_type": "code",
   "execution_count": 94,
   "id": "4b283ae0-267a-4200-ae7d-704189e5fcb4",
   "metadata": {},
   "outputs": [
    {
     "data": {
      "text/html": [
       "<style>#sk-container-id-8 {color: black;background-color: white;}#sk-container-id-8 pre{padding: 0;}#sk-container-id-8 div.sk-toggleable {background-color: white;}#sk-container-id-8 label.sk-toggleable__label {cursor: pointer;display: block;width: 100%;margin-bottom: 0;padding: 0.3em;box-sizing: border-box;text-align: center;}#sk-container-id-8 label.sk-toggleable__label-arrow:before {content: \"▸\";float: left;margin-right: 0.25em;color: #696969;}#sk-container-id-8 label.sk-toggleable__label-arrow:hover:before {color: black;}#sk-container-id-8 div.sk-estimator:hover label.sk-toggleable__label-arrow:before {color: black;}#sk-container-id-8 div.sk-toggleable__content {max-height: 0;max-width: 0;overflow: hidden;text-align: left;background-color: #f0f8ff;}#sk-container-id-8 div.sk-toggleable__content pre {margin: 0.2em;color: black;border-radius: 0.25em;background-color: #f0f8ff;}#sk-container-id-8 input.sk-toggleable__control:checked~div.sk-toggleable__content {max-height: 200px;max-width: 100%;overflow: auto;}#sk-container-id-8 input.sk-toggleable__control:checked~label.sk-toggleable__label-arrow:before {content: \"▾\";}#sk-container-id-8 div.sk-estimator input.sk-toggleable__control:checked~label.sk-toggleable__label {background-color: #d4ebff;}#sk-container-id-8 div.sk-label input.sk-toggleable__control:checked~label.sk-toggleable__label {background-color: #d4ebff;}#sk-container-id-8 input.sk-hidden--visually {border: 0;clip: rect(1px 1px 1px 1px);clip: rect(1px, 1px, 1px, 1px);height: 1px;margin: -1px;overflow: hidden;padding: 0;position: absolute;width: 1px;}#sk-container-id-8 div.sk-estimator {font-family: monospace;background-color: #f0f8ff;border: 1px dotted black;border-radius: 0.25em;box-sizing: border-box;margin-bottom: 0.5em;}#sk-container-id-8 div.sk-estimator:hover {background-color: #d4ebff;}#sk-container-id-8 div.sk-parallel-item::after {content: \"\";width: 100%;border-bottom: 1px solid gray;flex-grow: 1;}#sk-container-id-8 div.sk-label:hover label.sk-toggleable__label {background-color: #d4ebff;}#sk-container-id-8 div.sk-serial::before {content: \"\";position: absolute;border-left: 1px solid gray;box-sizing: border-box;top: 0;bottom: 0;left: 50%;z-index: 0;}#sk-container-id-8 div.sk-serial {display: flex;flex-direction: column;align-items: center;background-color: white;padding-right: 0.2em;padding-left: 0.2em;position: relative;}#sk-container-id-8 div.sk-item {position: relative;z-index: 1;}#sk-container-id-8 div.sk-parallel {display: flex;align-items: stretch;justify-content: center;background-color: white;position: relative;}#sk-container-id-8 div.sk-item::before, #sk-container-id-8 div.sk-parallel-item::before {content: \"\";position: absolute;border-left: 1px solid gray;box-sizing: border-box;top: 0;bottom: 0;left: 50%;z-index: -1;}#sk-container-id-8 div.sk-parallel-item {display: flex;flex-direction: column;z-index: 1;position: relative;background-color: white;}#sk-container-id-8 div.sk-parallel-item:first-child::after {align-self: flex-end;width: 50%;}#sk-container-id-8 div.sk-parallel-item:last-child::after {align-self: flex-start;width: 50%;}#sk-container-id-8 div.sk-parallel-item:only-child::after {width: 0;}#sk-container-id-8 div.sk-dashed-wrapped {border: 1px dashed gray;margin: 0 0.4em 0.5em 0.4em;box-sizing: border-box;padding-bottom: 0.4em;background-color: white;}#sk-container-id-8 div.sk-label label {font-family: monospace;font-weight: bold;display: inline-block;line-height: 1.2em;}#sk-container-id-8 div.sk-label-container {text-align: center;}#sk-container-id-8 div.sk-container {/* jupyter's `normalize.less` sets `[hidden] { display: none; }` but bootstrap.min.css set `[hidden] { display: none !important; }` so we also need the `!important` here to be able to override the default hidden behavior on the sphinx rendered scikit-learn.org. See: https://github.com/scikit-learn/scikit-learn/issues/21755 */display: inline-block !important;position: relative;}#sk-container-id-8 div.sk-text-repr-fallback {display: none;}</style><div id=\"sk-container-id-8\" class=\"sk-top-container\"><div class=\"sk-text-repr-fallback\"><pre>BinaryEncoder(cols=[&#x27;Neighborhood&#x27;, &#x27;Exterior1st&#x27;, &#x27;Exterior2nd&#x27;],\n",
       "              mapping=[{&#x27;col&#x27;: &#x27;Neighborhood&#x27;,\n",
       "                        &#x27;mapping&#x27;:      Neighborhood_0  Neighborhood_1  Neighborhood_2  Neighborhood_3  \\\n",
       " 1                0               0               0               0   \n",
       " 2                0               0               0               1   \n",
       " 3                0               0               0               1   \n",
       " 4                0               0               1               0   \n",
       " 5                0               0               1               0   \n",
       " 6                0               0               1               1   \n",
       " 7                0               0               1               1   \n",
       " 8                0               1               0               0   \n",
       " 9                0               1               0               0   \n",
       " 10               0               1               0               1   \n",
       " 11               0               1               0               1   \n",
       " 12               0               1               1               0   \n",
       " 13               0               1               1               0   \n",
       " 14               0               1               1               1   \n",
       " 15               0               1               1               1   \n",
       " 16               1               0               0               0   \n",
       " 17               1               0               0               0   \n",
       " 18               1               0               0               1   \n",
       " 19               1               0               0               1   \n",
       " 20               1               0               1               0   \n",
       " 21               1               0               1               0   \n",
       " 22               1               0               1               1   \n",
       " 23               1               0               1               1   \n",
       " 24               1               1               0               0   \n",
       " 25               1               1               0               0   \n",
       "-1                0               0               0               0   \n",
       "-2                0               0               0               0   \n",
       "\n",
       "     Neighborhood_4  \n",
       " 1                1  \n",
       " 2                0  \n",
       " 3                1  \n",
       " 4                0  \n",
       " 5                1  \n",
       " 6                0  \n",
       " 7                1  \n",
       " 8                0  \n",
       " 9                1  \n",
       " 10               0...\n",
       "                        &#x27;mapping&#x27;:      Exterior1st_0  Exterior1st_1  Exterior1st_2  Exterior1st_3\n",
       " 1               0              0              0              1\n",
       " 2               0              0              1              0\n",
       " 3               0              0              1              1\n",
       " 4               0              1              0              0\n",
       " 5               0              1              0              1\n",
       " 6               0              1              1              0\n",
       " 7               0              1              1              1\n",
       " 8               1              0              0              0\n",
       " 9               1              0              0              1\n",
       " 10              1              0              1              0\n",
       " 11              1              0              1              1\n",
       " 12              1              1              0              0\n",
       " 13              1              1              0              1\n",
       " 14              1              1              1              0\n",
       " 15              1              1              1              1\n",
       "-1               0              0              0              0\n",
       "-2               0              0              0              0},\n",
       "                       {&#x27;col&#x27;: &#x27;Exterior2nd&#x27;,\n",
       "                        &#x27;mapping&#x27;:      Exterior2nd_0  Exterior2nd_1  Exterior2nd_2  Exterior2nd_3  Exterior2nd_4\n",
       " 1               0              0              0              0              1\n",
       " 2               0              0              0              1              0\n",
       " 3               0              0              0              1              1\n",
       " 4               0              0              1              0              0\n",
       " 5               0              0              1              0              1\n",
       " 6               0              0              1              1              0\n",
       " 7               0              0              1              1              1\n",
       " 8               0              1              0              0              0\n",
       " 9               0              1              0              0              1\n",
       " 10              0              1              0              1              0\n",
       " 11              0              1              0              1              1\n",
       " 12              0              1              1              0              0\n",
       " 13              0              1              1              0              1\n",
       " 14              0              1              1              1              0\n",
       " 15              0              1              1              1              1\n",
       " 16              1              0              0              0              0\n",
       "-1               0              0              0              0              0\n",
       "-2               0              0              0              0              0}])</pre><b>In a Jupyter environment, please rerun this cell to show the HTML representation or trust the notebook. <br />On GitHub, the HTML representation is unable to render, please try loading this page with nbviewer.org.</b></div><div class=\"sk-container\" hidden><div class=\"sk-item\"><div class=\"sk-estimator sk-toggleable\"><input class=\"sk-toggleable__control sk-hidden--visually\" id=\"sk-estimator-id-21\" type=\"checkbox\" checked><label for=\"sk-estimator-id-21\" class=\"sk-toggleable__label sk-toggleable__label-arrow\">BinaryEncoder</label><div class=\"sk-toggleable__content\"><pre>BinaryEncoder(cols=[&#x27;Neighborhood&#x27;, &#x27;Exterior1st&#x27;, &#x27;Exterior2nd&#x27;],\n",
       "              mapping=[{&#x27;col&#x27;: &#x27;Neighborhood&#x27;,\n",
       "                        &#x27;mapping&#x27;:      Neighborhood_0  Neighborhood_1  Neighborhood_2  Neighborhood_3  \\\n",
       " 1                0               0               0               0   \n",
       " 2                0               0               0               1   \n",
       " 3                0               0               0               1   \n",
       " 4                0               0               1               0   \n",
       " 5                0               0               1               0   \n",
       " 6                0               0               1               1   \n",
       " 7                0               0               1               1   \n",
       " 8                0               1               0               0   \n",
       " 9                0               1               0               0   \n",
       " 10               0               1               0               1   \n",
       " 11               0               1               0               1   \n",
       " 12               0               1               1               0   \n",
       " 13               0               1               1               0   \n",
       " 14               0               1               1               1   \n",
       " 15               0               1               1               1   \n",
       " 16               1               0               0               0   \n",
       " 17               1               0               0               0   \n",
       " 18               1               0               0               1   \n",
       " 19               1               0               0               1   \n",
       " 20               1               0               1               0   \n",
       " 21               1               0               1               0   \n",
       " 22               1               0               1               1   \n",
       " 23               1               0               1               1   \n",
       " 24               1               1               0               0   \n",
       " 25               1               1               0               0   \n",
       "-1                0               0               0               0   \n",
       "-2                0               0               0               0   \n",
       "\n",
       "     Neighborhood_4  \n",
       " 1                1  \n",
       " 2                0  \n",
       " 3                1  \n",
       " 4                0  \n",
       " 5                1  \n",
       " 6                0  \n",
       " 7                1  \n",
       " 8                0  \n",
       " 9                1  \n",
       " 10               0...\n",
       "                        &#x27;mapping&#x27;:      Exterior1st_0  Exterior1st_1  Exterior1st_2  Exterior1st_3\n",
       " 1               0              0              0              1\n",
       " 2               0              0              1              0\n",
       " 3               0              0              1              1\n",
       " 4               0              1              0              0\n",
       " 5               0              1              0              1\n",
       " 6               0              1              1              0\n",
       " 7               0              1              1              1\n",
       " 8               1              0              0              0\n",
       " 9               1              0              0              1\n",
       " 10              1              0              1              0\n",
       " 11              1              0              1              1\n",
       " 12              1              1              0              0\n",
       " 13              1              1              0              1\n",
       " 14              1              1              1              0\n",
       " 15              1              1              1              1\n",
       "-1               0              0              0              0\n",
       "-2               0              0              0              0},\n",
       "                       {&#x27;col&#x27;: &#x27;Exterior2nd&#x27;,\n",
       "                        &#x27;mapping&#x27;:      Exterior2nd_0  Exterior2nd_1  Exterior2nd_2  Exterior2nd_3  Exterior2nd_4\n",
       " 1               0              0              0              0              1\n",
       " 2               0              0              0              1              0\n",
       " 3               0              0              0              1              1\n",
       " 4               0              0              1              0              0\n",
       " 5               0              0              1              0              1\n",
       " 6               0              0              1              1              0\n",
       " 7               0              0              1              1              1\n",
       " 8               0              1              0              0              0\n",
       " 9               0              1              0              0              1\n",
       " 10              0              1              0              1              0\n",
       " 11              0              1              0              1              1\n",
       " 12              0              1              1              0              0\n",
       " 13              0              1              1              0              1\n",
       " 14              0              1              1              1              0\n",
       " 15              0              1              1              1              1\n",
       " 16              1              0              0              0              0\n",
       "-1               0              0              0              0              0\n",
       "-2               0              0              0              0              0}])</pre></div></div></div></div></div>"
      ],
      "text/plain": [
       "BinaryEncoder(cols=['Neighborhood', 'Exterior1st', 'Exterior2nd'],\n",
       "              mapping=[{'col': 'Neighborhood',\n",
       "                        'mapping':      Neighborhood_0  Neighborhood_1  Neighborhood_2  Neighborhood_3  \\\n",
       " 1                0               0               0               0   \n",
       " 2                0               0               0               1   \n",
       " 3                0               0               0               1   \n",
       " 4                0               0               1               0   \n",
       " 5                0               0               1               0   \n",
       " 6                0               0               1               1   \n",
       " 7                0               0               1               1   \n",
       " 8                0               1               0               0   \n",
       " 9                0               1               0               0   \n",
       " 10               0               1               0               1   \n",
       " 11               0               1               0               1   \n",
       " 12               0               1               1               0   \n",
       " 13               0               1               1               0   \n",
       " 14               0               1               1               1   \n",
       " 15               0               1               1               1   \n",
       " 16               1               0               0               0   \n",
       " 17               1               0               0               0   \n",
       " 18               1               0               0               1   \n",
       " 19               1               0               0               1   \n",
       " 20               1               0               1               0   \n",
       " 21               1               0               1               0   \n",
       " 22               1               0               1               1   \n",
       " 23               1               0               1               1   \n",
       " 24               1               1               0               0   \n",
       " 25               1               1               0               0   \n",
       "-1                0               0               0               0   \n",
       "-2                0               0               0               0   \n",
       "\n",
       "     Neighborhood_4  \n",
       " 1                1  \n",
       " 2                0  \n",
       " 3                1  \n",
       " 4                0  \n",
       " 5                1  \n",
       " 6                0  \n",
       " 7                1  \n",
       " 8                0  \n",
       " 9                1  \n",
       " 10               0...\n",
       "                        'mapping':      Exterior1st_0  Exterior1st_1  Exterior1st_2  Exterior1st_3\n",
       " 1               0              0              0              1\n",
       " 2               0              0              1              0\n",
       " 3               0              0              1              1\n",
       " 4               0              1              0              0\n",
       " 5               0              1              0              1\n",
       " 6               0              1              1              0\n",
       " 7               0              1              1              1\n",
       " 8               1              0              0              0\n",
       " 9               1              0              0              1\n",
       " 10              1              0              1              0\n",
       " 11              1              0              1              1\n",
       " 12              1              1              0              0\n",
       " 13              1              1              0              1\n",
       " 14              1              1              1              0\n",
       " 15              1              1              1              1\n",
       "-1               0              0              0              0\n",
       "-2               0              0              0              0},\n",
       "                       {'col': 'Exterior2nd',\n",
       "                        'mapping':      Exterior2nd_0  Exterior2nd_1  Exterior2nd_2  Exterior2nd_3  Exterior2nd_4\n",
       " 1               0              0              0              0              1\n",
       " 2               0              0              0              1              0\n",
       " 3               0              0              0              1              1\n",
       " 4               0              0              1              0              0\n",
       " 5               0              0              1              0              1\n",
       " 6               0              0              1              1              0\n",
       " 7               0              0              1              1              1\n",
       " 8               0              1              0              0              0\n",
       " 9               0              1              0              0              1\n",
       " 10              0              1              0              1              0\n",
       " 11              0              1              0              1              1\n",
       " 12              0              1              1              0              0\n",
       " 13              0              1              1              0              1\n",
       " 14              0              1              1              1              0\n",
       " 15              0              1              1              1              1\n",
       " 16              1              0              0              0              0\n",
       "-1               0              0              0              0              0\n",
       "-2               0              0              0              0              0}])"
      ]
     },
     "execution_count": 94,
     "metadata": {},
     "output_type": "execute_result"
    }
   ],
   "source": [
    "be = BinaryEncoder(cols = [\"Neighborhood\",\"Exterior1st\",\"Exterior2nd\"])\n",
    "be.fit(X_train)"
   ]
  },
  {
   "attachments": {},
   "cell_type": "markdown",
   "id": "df1444a8-305d-436c-a122-3e07da127a4e",
   "metadata": {},
   "source": [
    "## Feature hashing"
   ]
  },
  {
   "cell_type": "code",
   "execution_count": 95,
   "id": "b914ac50-30a2-44c7-ba70-805afb76ce1c",
   "metadata": {},
   "outputs": [],
   "source": [
    "from category_encoders.hashing import HashingEncoder"
   ]
  },
  {
   "attachments": {},
   "cell_type": "markdown",
   "id": "4ff5944a-9e41-498f-8c32-3ca8ac5d6179",
   "metadata": {},
   "source": [
    "## Monotonic target guided encoding\n",
    "- The encoding is guided by the target, and create `monotonic` relationship between the variables and the target. (**Đồng biến**)\n",
    "- Can be used on numerical variables after discretisation (convert to discrete)\n",
    "- Need to attention for handling rare labels\n",
    "- **Note**: Monotonic does not mean strictly linear. Monotonic means that it increases constantly, or it decreases constantly.\n",
    "- **Need to explore original relationship between categorical variables and target by the mean value of target in each label via trainset and testset**\n",
    "\n",
    "**1. Advantages**\n",
    "- Straightforward to implement\n",
    "- Does not expand the feature space\n",
    "- Capture information within the category, therefore creating more predictive features\n",
    "- Creates monotonic relationship between categories and target, Create features suitable for linear models\n",
    "\n",
    "\n",
    "**1. Disadvantages**\n",
    "- May lead to over-fitting\n",
    "- Difficult to implement together with cross-validation with current libraries"
   ]
  },
  {
   "cell_type": "code",
   "execution_count": 96,
   "id": "9a8c338f-015f-4e1e-b49b-4a668543f243",
   "metadata": {},
   "outputs": [
    {
     "data": {
      "text/plain": [
       "<AxesSubplot: xlabel='ExterQual'>"
      ]
     },
     "execution_count": 96,
     "metadata": {},
     "output_type": "execute_result"
    },
    {
     "data": {
      "image/png": "[encoded data removed]",
      "text/plain": [
       "<Figure size 640x480 with 1 Axes>"
      ]
     },
     "metadata": {},
     "output_type": "display_data"
    }
   ],
   "source": [
    "# function to explore monotonic relationship between target and categorical variable by train and testset\n",
    "# With ordered label in trainset, we test the monotonic relationship in testset. If it was remained, that show there is a monotonic relationship\n",
    "def check_monotonic(var, X_train, X_test, y_train, y_test):\n",
    "    train = y_train.groupby(X_train[var]).mean().rename('mean_target in train')\n",
    "    test = y_test.groupby(X_test[var]).mean().rename('mean_target in test')\n",
    "    return pd.concat([train, test], axis = 1).sort_values('mean_target in train').interpolate().plot()\n",
    "    \n",
    "check_monotonic('ExterQual', X_train, X_test, y_train, y_test)"
   ]
  },
  {
   "attachments": {},
   "cell_type": "markdown",
   "id": "7341c405-8fcd-48a6-9e73-6e010453fd29",
   "metadata": {},
   "source": [
    "### Ordered ordinal encoding\n",
    "- Calculate the mean of target values for each label of variable, then assign numbers following the mean of target value from 0 (for highest mean) to k-1 (for smallest mean), with k is the number of distinct values of variable\n",
    "- Useful for `linear` or `non-linear` model"
   ]
  },
  {
   "cell_type": "code",
   "execution_count": 97,
   "id": "4ff48006-5966-40a1-be27-f1377abbb061",
   "metadata": {},
   "outputs": [
    {
     "data": {
      "text/plain": [
       "{'Neighborhood': {'IDOTRR': 0,\n",
       "  'BrDale': 1,\n",
       "  'MeadowV': 2,\n",
       "  'Edwards': 3,\n",
       "  'BrkSide': 4,\n",
       "  'OldTown': 5,\n",
       "  'Sawyer': 6,\n",
       "  'Blueste': 7,\n",
       "  'SWISU': 8,\n",
       "  'NPkVill': 9,\n",
       "  'NAmes': 10,\n",
       "  'Mitchel': 11,\n",
       "  'SawyerW': 12,\n",
       "  'Gilbert': 13,\n",
       "  'NWAmes': 14,\n",
       "  'Blmngtn': 15,\n",
       "  'CollgCr': 16,\n",
       "  'ClearCr': 17,\n",
       "  'Crawfor': 18,\n",
       "  'Somerst': 19,\n",
       "  'Veenker': 20,\n",
       "  'Timber': 21,\n",
       "  'NridgHt': 22,\n",
       "  'StoneBr': 23,\n",
       "  'NoRidge': 24},\n",
       " 'ExterQual': {'Fa': 0, 'TA': 1, 'Gd': 2, 'Ex': 3}}"
      ]
     },
     "execution_count": 97,
     "metadata": {},
     "output_type": "execute_result"
    }
   ],
   "source": [
    "# for encoding with feature-engine\n",
    "from feature_engine.encoding import OrdinalEncoder\n",
    "\n",
    "ordinal_enc = OrdinalEncoder(\n",
    "    # NOTE that we indicate ordered in the encoding_method, otherwise it assings numbers arbitrarily\n",
    "    encoding_method=\"ordered\",\n",
    "    variables=[\"Neighborhood\", \"ExterQual\"],\n",
    ")\n",
    "\n",
    "ordinal_enc.fit(X_train, y_train)\n",
    "\n",
    "# in the encoder dict we can observe each of the top categories selected for each of the variables\n",
    "ordinal_enc.encoder_dict_"
   ]
  },
  {
   "attachments": {},
   "cell_type": "markdown",
   "id": "68fae171-7068-4281-9724-3c0b889307fc",
   "metadata": {},
   "source": [
    "### Mean encoding\n",
    "- Replacing the category by the average target value for that category.\n",
    "- IF 2 categories show the same mean of target, they will have replace by the same number, lead to loss of value between them"
   ]
  },
  {
   "cell_type": "code",
   "execution_count": 98,
   "id": "00539984-480f-4acc-8f95-2b0fa8e3e213",
   "metadata": {},
   "outputs": [],
   "source": [
    "from feature_engine.encoding import MeanEncoder\n",
    "\n",
    "mean_enc = MeanEncoder(variables=[\"Neighborhood\", \"ExterQual\"], smoothing = 10)"
   ]
  },
  {
   "cell_type": "code",
   "execution_count": 99,
   "id": "c010426e-2fb9-4882-9081-d952eb7ab94f",
   "metadata": {},
   "outputs": [],
   "source": [
    "from feature_engine.encoding import WoEEncoder\n",
    "\n",
    "pr_enc = WoEEncoder(variables = [\"Neighborhood\", \"ExterQual\"])"
   ]
  },
  {
   "attachments": {},
   "cell_type": "markdown",
   "id": "a727a291-7b1a-45fa-b3f7-717f547c1353",
   "metadata": {},
   "source": [
    "### Weight of evidence encoding\n",
    "- For each category `i` of `X`, replace `i` by `Woe = Ln( P(X=i|Y=1) / P(X=i|Y=0) )` \n",
    "- These encoding is suitable for `logistic Regression`, where the `target` is `binary`\n",
    "\n",
    "- **Specific Advantages to `Weight of evidence`**:\n",
    "    - It orders the categories on a \"logistic\" scale which is natural for logistic regression\n",
    "    - The transformed variables can then be compared because they are on the same scale. Therefore, it is possible to determine which one is more predictive."
   ]
  },
  {
   "cell_type": "code",
   "execution_count": 100,
   "id": "90a804ef-4069-4aa9-877a-682a854d667a",
   "metadata": {},
   "outputs": [],
   "source": [
    "from feature_engine.encoding import WoEEncoder\n",
    "\n",
    "pr_enc = WoEEncoder(variables = [\"Neighborhood\", \"ExterQual\"])"
   ]
  }
 ],
 "metadata": {
  "kernelspec": {
   "display_name": "Python 3 (ipykernel)",
   "language": "python",
   "name": "python3"
  },
  "language_info": {
   "codemirror_mode": {
    "name": "ipython",
    "version": 3
   },
   "file_extension": ".py",
   "mimetype": "text/x-python",
   "name": "python",
   "nbconvert_exporter": "python",
   "pygments_lexer": "ipython3",
   "version": "3.10.6"
  },
  "toc-autonumbering": true,
  "toc-showcode": false,
  "toc-showmarkdowntxt": false
 },
 "nbformat": 4,
 "nbformat_minor": 5
}
