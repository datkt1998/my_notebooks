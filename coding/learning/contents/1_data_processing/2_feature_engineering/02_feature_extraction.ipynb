{
 "cells": [
  {
   "attachments": {},
   "cell_type": "markdown",
   "id": "e1325666-94c4-4622-bfc2-4718cc38b0a9",
   "metadata": {
    "tags": []
   },
   "source": [
    "# Feature extraction\n",
    "\n",
    "https://phamdinhkhanh.github.io/deepai-book/ch_ml/FeatureEngineering.html?fbclid=IwAR3jZLutFC58Bg_31esTUkwj_fG79S4uYIW5N2VXS4OkBeanzPuk47x_DK0#trich-loc-dac-trung-cho-van-ban"
   ]
  },
  {
   "attachments": {},
   "cell_type": "markdown",
   "id": "bf551fb9-b43f-42e2-b5af-52cb73d78069",
   "metadata": {},
   "source": [
    "## FE for text\n",
    "\n",
    "Dữ liệu văn bản có thể tồn tại ở nhiều dạng khác nhau như chữ cái thường, chữ cái hoa, dấu câu, các kí tự đặc biệt,… Các ngôn ngữ khác nhau cũng có mẫu kí tự khác nhau và cấu trúc ngữ pháp khác nhau.\n",
    "\n",
    "Vấn đề chính của dữ liệu dạng văn bản đó là làm thể nào để mã hoá được kí tự về dạng số? Kĩ thuật `tokenization` sẽ giúp ta thực hiện điều này. tokenization là việc chúng ta chia văn bản theo đơn vị nhỏ nhất và xây dựng một từ điển đánh dấu index cho những đơn vị này. Có hai kiểu mã hoá chính là `mã hoá theo từ` và `mã hoá theo kí tự`.\n",
    "\n",
    "- `mã hoá theo từ` thì các từ trong câu sẽ là đơn vị nhỏ nhất. Trong Tiếng Anh thì từ chủ yếu tồn tại ở dạng từ đơn trong khi Tiếng Việt tồn tại các từ ghép. Khi mã hoá theo từ thì kích thước của từ điển sẽ rất lớn, tuỳ thuộc vào số lượng các từ khác nhau xuất hiện trong toàn bộ các văn bản.\n",
    "- `Mã hoá theo kí tự` thì chúng ta sẽ sử dụng các kí hiệu trong bảng chữ cái để làm từ điển mã hoá từ. Kích thước của bộ từ điển khi mã hoá theo kí tự sẽ nhỏ hơn so với mã hoá theo từ."
   ]
  },
  {
   "attachments": {},
   "cell_type": "markdown",
   "id": "1440ad16-729e-46c8-bafe-ed21d132d05b",
   "metadata": {
    "tags": []
   },
   "source": [
    "### Bag-of-words\n",
    "Theo phương pháp bag-of-word chúng ta sẽ mã hoá các từ trong câu thành một véc tơ có độ dài bằng số lượng các từ trong từ điển và đếm tần suất xuất hiện của các từ. Tần xuất của từ thứ trong từ điển sẽ chính bằng phần tử thứ trong véc tơ."
   ]
  },
  {
   "cell_type": "code",
   "execution_count": 8,
   "id": "c8586183-93fe-414f-beeb-70eb1aab2e9f",
   "metadata": {},
   "outputs": [
    {
     "name": "stdout",
     "output_type": "stream",
     "text": [
      "words in dictionary:  ['and' 'cat' 'dog' 'has' 'have' 'he']\n",
      "[[0 1 0 0 1 0]\n",
      " [0 0 1 1 0 1]\n",
      " [1 1 1 2 0 2]]\n"
     ]
    }
   ],
   "source": [
    "from sklearn.feature_extraction.text import CountVectorizer\n",
    "\n",
    "texts = ['i have a cat', \n",
    "        'he has a dog', \n",
    "        'he has a dog and he has a cat']\n",
    "\n",
    "vect = CountVectorizer()\n",
    "X = vect.fit_transform(texts)\n",
    "print('words in dictionary: ', vect.get_feature_names_out())\n",
    "print(X.toarray())"
   ]
  },
  {
   "attachments": {},
   "cell_type": "markdown",
   "id": "b0ad8826-f0d7-4a81-af4c-ac91eeb20401",
   "metadata": {},
   "source": [
    "Các biểu diễn theo túi từ có hạn chế đó là chúng ta không phân biệt được 2 câu văn có cùng các từ bởi túi từ không phân biệt thứ tự trước sau của các từ trong một câu. Chặng như ‘you have no dog’ và ‘no, you have dog’ là 2 câu văn có biểu diễn giống nhau mặc dù có ý nghĩa trái ngược nhau."
   ]
  },
  {
   "cell_type": "code",
   "execution_count": 9,
   "id": "34441d9d-0331-419f-b1f9-9e54e981bf7c",
   "metadata": {},
   "outputs": [
    {
     "data": {
      "text/plain": [
       "array([[1, 1, 1, 1],\n",
       "       [1, 1, 1, 1]])"
      ]
     },
     "execution_count": 9,
     "metadata": {},
     "output_type": "execute_result"
    }
   ],
   "source": [
    "vect = CountVectorizer(ngram_range = (1, 1))\n",
    "vect.fit_transform(['you have no dog', 'no, you have dog']).toarray()"
   ]
  },
  {
   "attachments": {},
   "cell_type": "markdown",
   "id": "eeacc938-3290-4dbd-98fb-f5177261b315",
   "metadata": {},
   "source": [
    "Chính vì thế phương pháp bag-of-n-gram sẽ được sử dụng thay thế."
   ]
  },
  {
   "attachments": {},
   "cell_type": "markdown",
   "id": "1d2c20fe-2e1a-40c8-bb33-d0249d75fccb",
   "metadata": {},
   "source": [
    "### bag-of-n-gram\n",
    " Một `n-grams` là một chuỗi bao gồm `tokens`. Trong trường hợp từ ta gọi là `unigram`, đối với 2 từ là `bigram` và 3 từ là `trigram`. Khi thực hiện tokenization với `n-grams` thì trong từ điển sẽ xuất hiện những cụm từ nếu chúng xuất hiện trong các văn bản. Chẳng hạn như câu \"I have a dog\" sẽ được tokenize thành \"I have\", \"have a\", \"a dog\". Như vậy số lượng các từ trong từ điển sẽ gia tăng một cách đáng kể. Nếu chúng ta có k từ đơn thì có thể lên tới $k^2$ từ trong `bigram`. Nhưng thực tế không phải hầu hết các từ đều có thể ghép đôi với nhau nên véc tơ biểu diễn của câu trong `bigram` là một véc tơ rất thưa và có số chiều lớn. Điều này dẫn tới tốn kém về chi phí tính toán và lưu trữ."
   ]
  },
  {
   "cell_type": "code",
   "execution_count": 10,
   "id": "8056ff5f-aea3-4199-9404-ee9db9767e40",
   "metadata": {},
   "outputs": [],
   "source": [
    "# bigram\n",
    "bigram = CountVectorizer(ngram_range = (2, 2))\n",
    "n1, n2, n3 = bigram.fit_transform(['you have no dog', 'no, you have dog', 'you have a dog']).toarray()\n",
    "\n",
    "# trigram\n",
    "trigram = CountVectorizer(ngram_range = (3, 3))\n",
    "n1, n2, n3 = trigram.fit_transform(['you have no dog', 'no, you have dog', 'you have a dog']).toarray()"
   ]
  },
  {
   "cell_type": "code",
   "execution_count": 12,
   "id": "e35e6469-6b85-48c7-b4c9-8833091f6f31",
   "metadata": {},
   "outputs": [
    {
     "name": "stdout",
     "output_type": "stream",
     "text": [
      "2.0 1.0 1.7320508075688772\n"
     ]
    }
   ],
   "source": [
    "# euclidean distance of vector\n",
    "from scipy.spatial.distance import euclidean\n",
    "print(euclidean(n1, n2), euclidean(n2, n3), euclidean(n1, n3))"
   ]
  },
  {
   "attachments": {},
   "cell_type": "markdown",
   "id": "52f785a3-67d6-4c8f-b04b-7eb6c984eafe",
   "metadata": {},
   "source": [
    "### TF-IDF\n"
   ]
  },
  {
   "attachments": {},
   "cell_type": "markdown",
   "id": "7e06c54a-06eb-426a-b0dc-8db3c5608137",
   "metadata": {
    "id": "FfCtelTGcMF9"
   },
   "source": [
    "Giả sử chúng ta có một _bộ văn bản_ (_corpus_) bao gồm rất nhiều các văn bản con. Những từ hiếm khi được tìm thấy trong bộ văn bản (_corpus_) nhưng có mặt trong một số chủ đề nhất định có thể chiếm vai trò quan trọng hơn. Ví dụ đối với chủ đề gia đình thì các từ như `cha mẹ, ông bà, con cái, anh em, chị em` xuất hiện nhiều hơn so với các chủ đề khác.\n",
    "\n",
    "Ngoài ra cũng có những từ xuất hiện rất nhiều trong văn bản nhưng chúng xuất hiện ở hầu như mọi chủ đề, mọi văn bản chẳng hạn như `the, a, an`. Những từ như vậy được gọi là  _stopwords_ vì chúng không có nhiều ý nghĩa đối với việc phân loại văn bản. Khi mã hoá ngôn ngữ thì chúng ta sẽ tìm cách loại bỏ những từ _stopwords_ bằng cách sử dụng từ điển có sẵn các từ _stopwords_ quan trọng.\n",
    "\n",
    "Phương pháp TF-IDF là một phương pháp mà chúng ta sẽ đánh trọng số cho các từ mà xuất hiện ở một vài văn bản cụ thể lớn hơn thông qua công thức:\n",
    "\n",
    "$$\\begin{eqnarray}\\text{idf}(t,D) & = & \\log\\frac{\\mid D \\mid}{|\\{d \\in D; t \\in d \\}|+ 1} = \\log \\frac{\\mid D\\mid}{\\text{df}(d, t)+ 1} \\\\\n",
    "\\text{tfidf}(t,d,D) & = & \\text{tf}(t,d) \\times \\text{idf}(t,D)\n",
    "\\end{eqnarray}$$\n",
    "\n",
    "trong đó:\n",
    "\n",
    "* $\\mid D \\mid$ là số lượng các văn bản trong _bộ văn bản_.\n",
    "* $\\text{df}(d, t) = |\\{d \\in D; t \\in d \\}|$ là tần suất các văn bản $d \\in D$ mà từ $t$ xuất hiện. \n",
    "* $\\text{tf}(t,d)$ là tần suất xuất hiện của từ $t$ trong văn bản $d$.\n",
    "\n",
    "Như vậy $\\text{idf}(t, D)$ là chỉ số _nghịch đảo tần suất văn bản_ (_inverse document frequency_) chỉ số này bằng logarith của nghịch đảo số lượng văn bản chia cho số lượng văn bản chứa một từ cụ thể $t$. Một từ cụ thể có $\\text{idf}(t,D)$ lớn chứng tỏ rằng từ đó chỉ xuất hiện trong một số ít các văn bản.\n",
    "\n",
    "$\\text{tfidf}(t, d, D)$ tỷ lệ thuận với _tần suất của từ xuất hiện trong văn bản_ và _nghịch đảo tần suất văn bản_. Ta có thể giải thích ý nghĩa của $\\text{tfidf}$ đối với đánh giá mức độ quan trọng của từ như sau: Khi một từ càng quan trọng thì nó sẽ có tần suất xuất hiện trong một văn bản cụ thể, chẳng hạn văn bản $d$ lớn, tức là $\\text{tf}(t,d)$ lớn; Đồng thời từ đó phải không là _stopwords_, tức là số lượng văn bản mà nó xuất hiện trong toàn bộ bộ văn bản nhỏ, suy ra $\\text{idf}(t, D)$ phải lớn.\n",
    "\n",
    "Để mã hoá văn bản dựa trên phương pháp tfidf chúng ta sử dụng package `sklearn` như sau:"
   ]
  },
  {
   "cell_type": "code",
   "execution_count": 6,
   "id": "7c04b625",
   "metadata": {
    "colab": {
     "base_uri": "https://localhost:8080/"
    },
    "id": "ai99v4_ZdIRh",
    "outputId": "40c52488-e592-48b8-db02-5bf1bf1defe5"
   },
   "outputs": [
    {
     "name": "stdout",
     "output_type": "stream",
     "text": [
      "words in dictionary:\n",
      "['bánh', 'báo', 'chiều', 'chứng', 'còn', 'có', 'cô', 'của', 'danh', 'dự', 'gian', 'giảm', 'hà', 'hồi', 'khi', 'khoán', 'lo', 'làm', 'lại', 'lắng', 'mang', 'mì', 'mưa', 'mục', 'ngoài', 'nhân', 'nội', 'phục', 'ra', 'sẽ', 'thích', 'thị', 'thịt', 'thời', 'tiết', 'trường', 'trở', 'tăng', 'tối', 'tới', 'và', 'vào', 'xôi', 'ăn', 'ấy']\n",
      "X shape:  (5, 45)\n"
     ]
    }
   ],
   "source": [
    "from sklearn.feature_extraction.text import TfidfVectorizer\n",
    "corpus = [\n",
    " \t'tôi thích ăn bánh mì nhân thịt',\n",
    "\t'cô ấy thích ăn bánh mì, còn tôi thích ăn xôi',\n",
    "\t'thị trường chứng khoán giảm làm tôi lo lắng',\n",
    "\t'chứng khoán sẽ phục hồi vào thời gian tới. danh mục của tôi sẽ tăng trở lại',\n",
    "  'dự báo thời tiết hà nội có mưa vào chiều và tối. tôi sẽ mang ô khi ra ngoài'\n",
    "]\n",
    "\n",
    "# Tính tfidf cho mỗi từ. max_df để loại bỏ stopwords xuất hiện ở hơn 90% các câu\n",
    "vectorizer = TfidfVectorizer(max_df = 0.9)\n",
    "# Tokenize các câu theo tfidf\n",
    "X = vectorizer.fit_transform(corpus)\n",
    "print('words in dictionary:')\n",
    "print(vectorizer.get_feature_names())\n",
    "print('X shape: ', X.shape)"
   ]
  },
  {
   "attachments": {},
   "cell_type": "markdown",
   "id": "807acd8e-b916-469a-b986-76b9aabcac83",
   "metadata": {
    "id": "N8phDY0udM9b"
   },
   "source": [
    "Ta có thể thấy từ `tôi` xuất hiện ở toàn bộ các câu và không mang nhiều ý nghĩa của chủ đề của câu nên có thể coi là một _stopword_. Bằng phương pháp lọc cận trên của tần suất xuất hiện từ trong văn bản là 90% ta đã loại bỏ được từ này khỏi dictionary.\n",
    "\n",
    "Các phương pháp bỏ túi có thể tìm được một số cuộc thi trên kaggle như [Catch me if you can competition](https://www.kaggle.com/c/catch-me-if-you-can-intruder-detection-through-webpage-session-tracking), [bag of app](https://www.kaggle.com/xiaoml/bag-of-app-id-python-2-27392), [bag of event](http://www.interdigital.com/download/58540a46e3b9659c9f000372):"
   ]
  },
  {
   "attachments": {},
   "cell_type": "markdown",
   "id": "33c2c2cd-0a22-48db-826f-6ddba825f04d",
   "metadata": {
    "id": "evCPheQlJjjX"
   },
   "source": [
    "### Word2vec\n",
    "\n",
    "Word2vec is a group of related models that are used to produce word embeddings. These models are shallow, two-layer neural networks that are trained to reconstruct linguistic contexts of words. Word2vec takes as its input a large corpus of text and produces a vector space, typically of several hundred dimensions, with each unique word in the corpus being assigned a corresponding vector in the space. Word vectors are positioned in the vector space such that words that share common contexts in the corpus are located close to one another in the space.[1]\n",
    "\n",
    "word2vec là một nhóm các mô hình sử dụng để tạo ra biểu diễn nhúng cho từ. Những mô hình này tương đối nông, chỉ bao gồm những mạng neural 2 layers được huấn luyện để tái tạo lại bối cảnh ngôn ngữ cho từ. Thông qua mô hình word2vec mỗi một từ trong một _bộ văn bản_ được biểu diễn thông qua một véc tơ trong không gian cao chiều, có thể lên tới hàng trăm chiều, sao cho các từ có chung ngữ cảnh sẽ được đặt gần nhau hơn trong không gian.\n",
    "\n",
    "Chẳng hạn dưới đây là một ví dụ sau khi thực hiện mã hoá từ thông qua mô hình word2vec thì các từ `king, queen, man, woman` có mối liên hệ theo công thức: king - man + woman = queen\n",
    "\n",
    "![](https://camo.githubusercontent.com/7acb5beb08711a6e75b6eadb90fdf48fb67c67d87f45812dc8cbd8426c1ee44f/68747470733a2f2f63646e2d696d616765732d312e6d656469756d2e636f6d2f6d61782f3830302f312a4b3558344e2d4d4a4b743846474674725448776964672e676966)\n",
    "\n",
    "**Hình 2**: Mô hình word2vec đã định vị véc tơ biểu diễn cho những từ có chung ngữ cảnh thì được đặt gần nhau hơn. Để thực hiện được những biểu diễn từ chính xác, các mô hình cần được đào tạo trên các tập dữ liệu rất lớn để bao quát được đa dạng các ngữ cảnh khác nhau của từ. Các mô hình pretrained cho xử lý ngôn ngữ tự nhiên có thể được tải về tại [word2vec - api](https://github.com/3Top/word2vec-api#where-to-get-a-pretrained-models).\n",
    "\n",
    "Các phương pháp tương tự được áp dụng trong các lĩnh vực khác như trong tin sinh. Một ứng dụng khác nữa là [food2vec](https://jaan.io/food2vec-augmented-cooking-machine-intelligence/)."
   ]
  },
  {
   "attachments": {},
   "cell_type": "markdown",
   "id": "4125256e-d888-4768-aa0f-ea702aa2b539",
   "metadata": {
    "id": "ejsoOzi0nhYm"
   },
   "source": [
    "Tại một vị trí cụ thể trong câu văn chúng ta sẽ xác định được một từ mục tiêu và các từ bối cảnh. Từ mục tiêu là từ ở vị trí được lựa chọn còn từ bối cảnh là những từ ở vị trí xung quanh giúp tạo ra bối cảnh ngữ nghĩa cho từ mục tiêu.\n",
    "\n",
    "Giả sử chúng ta có một câu văn như sau: \"Tôi muốn một chiếc cốc màu xanh\". Nếu lựa chọn một _context window_ bao gồm 3 từ liền kề thì chúng ta sẽ lần lượt thu được các bộ 3 từ: `tôi muốn một, muốn một chiếc, một chiếc cốc, chiếc cốc màu, cốc màu xanh`. Đối với những bộ 3 từ này thì các từ ở giữa sẽ là từ mục tiêu và từ bối cảnh là những từ ở đầu và ở cuối. Như vậy chúng ta sẽ có các cặp từ mục tiêu và bối cảnh như sau:\n",
    "\n",
    "`[(('tôi', 'một'), 'muốn'), (('muốn', 'chiếc'), 'một'), (('một', 'cốc'), 'chiếc'), (('chiếc', 'màu'), 'cốc'), (('cốc', 'xanh'), 'màu')]`\n",
    "\n",
    "\n",
    "Mô hình word2vec có 2 phương pháp chính là skip-grams và CBOW như sau:\n",
    "\n",
    "![](https://imgur.com/41qQJ2u.jpeg)\n",
    "\n",
    "**Hình 3:** Mô hình CBOW và Skip-gram trong word2vec."
   ]
  },
  {
   "attachments": {},
   "cell_type": "markdown",
   "id": "70483d3d-0627-4481-97e9-35d6d74cfe89",
   "metadata": {
    "id": "f7kctHXpqZiI"
   },
   "source": [
    "#### Phương pháp CBOW\n",
    "\n",
    "Đối với mô hình CBOW chúng ta sẽ xây dựng một mô hình học có giám sát sử dụng đầu vào là các từ bối cảnh, chẳng hạn như trong hình là các từ $\\mathbf{w}_{t-2}, \\mathbf{w}_{t-1}, \\mathbf{w}_{t+1}, \\mathbf{w}_{t+2}$ để giải thích từ mục tiêu ở vị trí hiện tại là $\\mathbf{w}_t$.\n",
    "\n",
    "Các từ $\\mathbf{w}_t$ đã được mã hoá dưới dạng véc tơ one-hot trong không gian $\\mathbb{R}^{d}$ chiều để có thể đưa vào huấn luyện. Ở đây $d$ chính là kích thước của từ điển. Như vậy ở phương pháp CBOW chúng ta có 5 véc tơ one-hot đầu vào với số chiều bằng với số lượng từ trong từ điển. Sau đó những véc tơ này được giảm chiều dữ liệu thông qua một phép chiếu lên không gian thấp chiều, chẳng hạn 200 chiều, bước này chính là projection trên hình vẽ. Kết quả thu được là một véc tơ embedding $\\mathbf{e}_c \\in \\mathbb{R}^{200}$. Sau cùng, phân phối xác suất của từ mục tiêu được dự báo thông qua một hàm softmax áp dụng lên véc tơ $\\mathbf{e}_c$. Quá trình huấn luyện mô hình sẽ dựa trên hàm softmax dạng cross-entropy:\n",
    "\n",
    "$$\\mathcal{L}(\\mathbf{y}, \\hat{\\mathbf{y}}) = -\\sum_{i=1}^{d} y_i\\log(\\hat{y}_i)$$\n",
    "\n",
    "Trong đó $\\hat{y}_i$ là xác suất dự báo từ mục tiêu tương ứng với từ ở vị trí index thứ $i$ trong từ điển, được tính theo công thức softmax:\n",
    "\n",
    "$$\\hat{y_i} = \\frac{\\exp(\\mathbf{w}_{:i}^{\\intercal}\\mathbf{e}_c)}{\\sum_{i=1}^{d}\\exp(\\mathbf{w}_{:i}^{\\intercal}\\mathbf{e}_c)}$$\n",
    "\n",
    "$\\mathbf{w}_{:i} \\in \\mathbb{R}^{200}$ chính là véc tơ tham số kết nối toàn bộ các node thuộc $\\mathbf{e}_c$ tới vị trí node thứ $i$ của layer cuối cùng.\n",
    "\n",
    "Sau quá trình lan truyền thuận và lan truyền ngược, các hệ số của mô hình sẽ được cập nhật và chúng ta sẽ thu được biểu diễn từ dần chuẩn xác hơn. Một từ đầu vào sẽ có biểu diễn thông qua phương pháp CBOW chính là véc tơ $\\mathbf{e}_c$."
   ]
  },
  {
   "cell_type": "code",
   "execution_count": null,
   "id": "c87add83",
   "metadata": {
    "colab": {
     "base_uri": "https://localhost:8080/"
    },
    "id": "7nIH6q3q5w9p",
    "outputId": "348ce5e6-d719-4bb3-c661-6fa56e3274cd"
   },
   "outputs": [],
   "source": [
    "from tensorflow.keras.preprocessing import text\n",
    "from tensorflow.keras.utils import to_categorical\n",
    "from tensorflow.keras.preprocessing import sequence\n",
    "from nltk.corpus import gutenberg\n",
    "from string import punctuation\n",
    "import nltk\n",
    "\n",
    "# download bộ văn bản gutenberg\n",
    "nltk.download('gutenberg')\n",
    "nltk.download('punkt')\n",
    "norm_bible = gutenberg.sents('bible-kjv.txt') \n",
    "norm_bible = [' '.join(doc) for doc in norm_bible]\n",
    "\n",
    "# tokenize văn bản\n",
    "tokenizer = text.Tokenizer()\n",
    "tokenizer.fit_on_texts(norm_bible)\n",
    "word2id = tokenizer.word_index\n",
    "\n",
    "# khởi tạo từ điển cho bộ văn bản\n",
    "word2id['PAD'] = 0\n",
    "id2word = {v:k for k, v in word2id.items()}\n",
    "vocab_size = len(word2id)\n",
    "\n",
    "print('Vocabulary Size:', vocab_size)\n",
    "print('Vocabulary Sample:', list(word2id.items())[:10])"
   ]
  },
  {
   "cell_type": "code",
   "execution_count": null,
   "id": "3f43fa00",
   "metadata": {
    "colab": {
     "base_uri": "https://localhost:8080/"
    },
    "id": "9aNT99Vh54ZI",
    "outputId": "562e677c-5445-4586-9739-9492c32ed420"
   },
   "outputs": [],
   "source": [
    "# Mã hoá câu văn bằng index\n",
    "wids = [[word2id[w] for w in text.text_to_word_sequence(doc)] for doc in norm_bible]\n",
    "print('Embedding sentence by index: ', wids[:5])"
   ]
  },
  {
   "cell_type": "code",
   "execution_count": null,
   "id": "5f1d1558",
   "metadata": {
    "colab": {
     "base_uri": "https://localhost:8080/"
    },
    "id": "pKii69Bt6QOl",
    "outputId": "667ea7c6-40c0-4c9f-d44e-347cfbbdcb34"
   },
   "outputs": [],
   "source": [
    "%%script echo skipping\n",
    "# Xác định context and target\n",
    "import numpy as np\n",
    "def generate_context_word_pairs(corpus, window_size, vocab_size):\n",
    "    context_length = window_size*2\n",
    "    for words in corpus:\n",
    "        sentence_length = len(words)\n",
    "        # print('words: ', words)\n",
    "        for index, word in enumerate(words):\n",
    "            context_words = []\n",
    "            label_word   = [] \n",
    "            # Start index of context\n",
    "            start = index - window_size\n",
    "            # End index of context\n",
    "            end = index + window_size + 1\n",
    "            # List of context_words\n",
    "            context_words.append([words[i] for i in range(start, end) if 0 <= i < sentence_length and i != index])\n",
    "            # List of label_word (also is target word).\n",
    "            # print('context words {}: {}'.format(context_words, index))\n",
    "            label_word.append(word)\n",
    "            # Padding the input 0 in the left in case it does not satisfy number of context_words = 2*window_size.\n",
    "            x = sequence.pad_sequences(context_words, maxlen=context_length)\n",
    "            # print('context words padded: ', x)\n",
    "            # Convert label_word into one-hot vector corresponding with its index\n",
    "            y = to_categorical(label_word, vocab_size)\n",
    "            yield (x, y)\n",
    "            \n",
    "            \n",
    "# Test this out for some samples\n",
    "i = 0\n",
    "window_size = 2 # context window size\n",
    "for x, y in generate_context_word_pairs(corpus=wids, window_size=window_size, vocab_size=vocab_size):\n",
    "    if 0 not in x[0]:\n",
    "        print('Context (X):', [id2word[w] for w in x[0]], '-> Target (Y):', id2word[np.argwhere(y[0])[0][0]])\n",
    "    \n",
    "        if i == 10:\n",
    "            break\n",
    "        i += 1"
   ]
  },
  {
   "cell_type": "code",
   "execution_count": null,
   "id": "0271ec24",
   "metadata": {
    "colab": {
     "base_uri": "https://localhost:8080/"
    },
    "id": "_4qLOFaz6Ypa",
    "outputId": "aa446297-4629-46ce-bf5a-991b3cb13f00"
   },
   "outputs": [],
   "source": [
    "# Xây dựng mô hình CBOW là một mạng fully connected gồm 3 layers\n",
    "import tensorflow.keras.backend as K\n",
    "from tensorflow.keras.models import Sequential\n",
    "from tensorflow.keras.layers import Dense, Embedding, Lambda\n",
    "embed_size = 100\n",
    "window_size=2\n",
    "# build CBOW architecture\n",
    "cbow = Sequential()\n",
    "cbow.add(Embedding(input_dim=vocab_size, output_dim=embed_size, input_length=window_size*2))\n",
    "cbow.add(Lambda(lambda x: K.mean(x, axis=1), output_shape=(embed_size,)))\n",
    "cbow.add(Dense(vocab_size, activation='softmax'))\n",
    "cbow.compile(loss='categorical_crossentropy', optimizer='rmsprop')\n",
    "\n",
    "# view model summary\n",
    "print(cbow.summary())"
   ]
  },
  {
   "cell_type": "code",
   "execution_count": null,
   "id": "9f12d00c",
   "metadata": {
    "colab": {
     "base_uri": "https://localhost:8080/"
    },
    "id": "x6B827tm6oGb",
    "outputId": "3dbc6612-44dc-4719-b1a0-8fab55d0a5d2"
   },
   "outputs": [],
   "source": [
    "%%script echo skipping\n",
    "# Huấn luyện model với 5 epochs với 100 quan sát đầu tiên\n",
    "\n",
    "for epoch in range(1, 6):\n",
    "    loss = 0.\n",
    "    i = 0\n",
    "    for x, y in generate_context_word_pairs(corpus=wids[:100], window_size=window_size, vocab_size=vocab_size):\n",
    "        i += 1\n",
    "        loss += cbow.train_on_batch(x, y)\n",
    "        if i % 500 == 0:\n",
    "            print('Processed {} (context, word) pairs'.format(i))\n",
    "\n",
    "    print('Epoch:', epoch, '\\tLoss:', loss)"
   ]
  },
  {
   "attachments": {},
   "cell_type": "markdown",
   "id": "cc2e5098-ae06-4a71-a2d6-7e57c7fff2a5",
   "metadata": {
    "id": "QmpkT45z66uT"
   },
   "source": [
    "#### Phương pháp skip-gram\n",
    "\n",
    "Phương pháp skip-gram thực chất là một phiên bản đảo ngược của phương pháp CBOW. Chúng ta sẽ sử dụng đầu vào là các từ mục tiêu và dự báo các từ bối cảnh dự vào từ mục tiêu. Như thể hiện ở _hình 3_ thì $\\mathbf{w}_t$ chính là từ mục tiêu được sử dụng làm đầu vào, các từ $\\mathbf{w}_{t-2}, \\mathbf{w}_{t-1}, \\mathbf{w}_{t+1}, \\mathbf{w}_{t+2}$ là những từ bối cảnh cần được dự đoán. Những từ này đều được mã hoá thành véc tơ one-hot trong không gian $\\mathbb{R}^{d}$. Sau đó véc tơ one-hot sẽ được chiếu lên không gian nhằm giảm chiều dữ liệu xuống còn chẳng hạn $200$ chiều. Đầu ra thu được là véc tơ $\\mathbf{e}_c$ có kích thước 200, đây cũng chính là biểu diễn nhúng của từ trong skip-gram. Cuối cùng chúng ta sử dụng một sigmoid layer để dự đoán xem từ mục tiêu $\\mathbf{w}_t$ và từ bối cảnh $\\mathbf{w}_j$ ($\\mathbf{w}_j$ được lựa chọn ngẫu nhiên từ từ điển) có cùng bối cảnh hay không?"
   ]
  },
  {
   "cell_type": "code",
   "execution_count": null,
   "id": "93e0ce1d",
   "metadata": {
    "colab": {
     "base_uri": "https://localhost:8080/"
    },
    "id": "S3Qn8clu-G3t",
    "outputId": "36939f4e-a368-4ff2-983d-d91a25442ded"
   },
   "outputs": [],
   "source": [
    "from tensorflow.keras.preprocessing.sequence import skipgrams\n",
    "\n",
    "window_size=2\n",
    "# generate skip-grams\n",
    "skip_grams = [skipgrams(wid, vocabulary_size=vocab_size, window_size=window_size) for wid in wids[:100]]\n",
    "\n",
    "# view sample skip-grams\n",
    "pairs, labels = skip_grams[0][0], skip_grams[0][1]\n",
    "for i in range(10):\n",
    "    print(\"({:s} ({:d}), {:s} ({:d})) -> {:d}\".format(\n",
    "          id2word[pairs[i][0]], pairs[i][0], \n",
    "          id2word[pairs[i][1]], pairs[i][1], \n",
    "          labels[i]))"
   ]
  },
  {
   "cell_type": "code",
   "execution_count": null,
   "id": "fd141d15",
   "metadata": {
    "colab": {
     "base_uri": "https://localhost:8080/"
    },
    "id": "fAuzsMFg-F-T",
    "outputId": "185f0272-57ba-4deb-8f1e-d7da91ea3007"
   },
   "outputs": [],
   "source": [
    "from tensorflow.keras.layers import dot, concatenate\n",
    "from tensorflow.keras import Input\n",
    "from tensorflow.keras.layers import Dot, Dense, Reshape, Embedding\n",
    "from tensorflow.keras.models import Sequential, Model\n",
    "\n",
    "# build skip-gram architecture\n",
    "word_input = Input(shape = (1,))\n",
    "word_embed = Embedding(vocab_size, embed_size,\n",
    "                         embeddings_initializer=\"glorot_uniform\",\n",
    "                         input_length=1, name = 'word_embedding')(word_input)\n",
    "word_output = Reshape((embed_size, ))(word_embed)\n",
    "word_model = Model(word_input, word_output)\n",
    "\n",
    "print('word_model: \\n', word_model.summary())\n",
    "context_input = Input(shape = (1,))\n",
    "context_embed = Embedding(vocab_size, embed_size,\n",
    "                  embeddings_initializer=\"glorot_uniform\",\n",
    "                  input_length=1, name = 'context_embedding')(context_input)\n",
    "context_output = Reshape((embed_size,))(context_embed)\n",
    "context_model = Model(context_input, context_output)\n",
    "print('context_model: \\n', context_model.summary())\n",
    "\n",
    "concate = dot([word_output, context_output], axes = -1)\n",
    "dense = Dense(1, kernel_initializer=\"glorot_uniform\", activation=\"sigmoid\")(concate)\n",
    "model = Model(inputs = [word_input, context_input], outputs = dense)\n",
    "model.compile(loss=\"mean_squared_error\", optimizer=\"rmsprop\")\n",
    "\n",
    "# view model summary\n",
    "print('model merge word and context: \\n', model.summary())"
   ]
  },
  {
   "cell_type": "code",
   "execution_count": null,
   "id": "cd63f081",
   "metadata": {
    "colab": {
     "base_uri": "https://localhost:8080/"
    },
    "id": "js_-ZxQF-dg_",
    "outputId": "ef62c8f1-5dcc-4810-d5f2-289c21b65c13"
   },
   "outputs": [],
   "source": [
    "%%script echo skipping\n",
    "# Để cho nhanh thì mình sẽ training trên 100 skip_grams đầu tiên.\n",
    "for epoch in range(1, 6):\n",
    "    loss = 0\n",
    "    for i, elem in enumerate(skip_grams[:100]):\n",
    "        pair_first_elem = np.array(list(zip(*elem[0]))[0], dtype='int32')\n",
    "        pair_second_elem = np.array(list(zip(*elem[0]))[1], dtype='int32')\n",
    "        labels = np.array(elem[1], dtype='int32')\n",
    "        X = [pair_first_elem, pair_second_elem]\n",
    "        Y = labels\n",
    "        if i % 500 == 0:\n",
    "            print('Processed {} (skip_first, skip_second, relevance) pairs'.format(i))\n",
    "        loss += model.train_on_batch(X,Y)  \n",
    "\n",
    "    print('Epoch:', epoch, 'Loss:', loss)"
   ]
  },
  {
   "attachments": {},
   "cell_type": "markdown",
   "id": "6da8eddd-b6ff-4c3f-8e73-1774b4c42bc0",
   "metadata": {
    "id": "GQQyhbBO_tZ2"
   },
   "source": [
    "#### Sử dụng gensim huấn luyện mô hình word2vec\n",
    "\n",
    "Huấn luyện mô hình word2vec sử dụng mạng nơ ron là để chúng ta hiểu rõ hơn về cấu trúc mạng nơ ron và cách thức hoạt động của mạng. Trên thực tế để huấn luyện mô hình word2vec chúng ta có thể thông qua package gensim như sau:"
   ]
  },
  {
   "cell_type": "code",
   "execution_count": null,
   "id": "a44df72f",
   "metadata": {
    "colab": {
     "base_uri": "https://localhost:8080/"
    },
    "id": "IqgEsBLw_1vo",
    "outputId": "54f1f7f3-68ef-4ed4-a1bf-9d2e0b6a8511"
   },
   "outputs": [],
   "source": [
    "from gensim.models import Word2Vec\n",
    "# Training model với 1000 câu đầu tiên trong kinh thánh\n",
    "sentences = [[item.lower() for item in doc.split()] for doc in norm_bible[:1000]]\n",
    "model = Word2Vec(sentences, min_count = 1, vector_size = 150, window = 10, sg = 1, workers = 8)\n",
    "model.train(sentences, total_examples = model.corpus_count, epochs = 10)"
   ]
  },
  {
   "attachments": {},
   "cell_type": "markdown",
   "id": "649dd858-82b9-440f-af0e-906c8fb54a0c",
   "metadata": {
    "id": "K2mgxKyqAMoH"
   },
   "source": [
    "Tìm biểu diễn véc tơ nhúng của một từ:"
   ]
  },
  {
   "cell_type": "code",
   "execution_count": null,
   "id": "e89d3113",
   "metadata": {
    "colab": {
     "base_uri": "https://localhost:8080/"
    },
    "id": "tL09kmgiASqz",
    "outputId": "121aba28-4aa3-4486-f9f5-4e532a3c8d34"
   },
   "outputs": [],
   "source": [
    "print('embedding vector shape: ', model.wv['king'].shape)\n",
    "model.wv['king'][:5]"
   ]
  },
  {
   "attachments": {},
   "cell_type": "markdown",
   "id": "663929f6-8146-49f4-b9e7-6185a7d4b92f",
   "metadata": {
    "id": "zA6BCPt9d98i"
   },
   "source": [
    "## FE for image\n",
    "\n",
    "Trong quãng thời gian trước đây khi tài nguyên tính toán còn hạn chế và \"thời kì phục hưng của mạng thần kinh\" vẫn chưa thực sự quay trở lại, khai phá đặc trưng cho dữ liệu hình ảnh là một lĩnh vực phức tạp. Người ta phải thiết kế những bộ trích lọc thủ công để trích lọc các đặc trưng như góc, cạnh, đường nét ngang, dọc, chéo,.... Những thuật toán như [HOG](https://phamdinhkhanh.github.io/2019/11/22/HOG.html), [SHIFT](http://luthuli.cs.uiuc.edu/~daf/courses/ComputerVisionTutorial2012/EdgesOrientationHOGSIFT-2012.pdf) là phương pháp thường được sử dụng để trích lọc đặc trưng. Nhược điểm của những phương pháp này đó là tách rời bộ trích lọc đặc trưng (_feature extractor_) và bộ phân loại (_classifier_) nên mô hình có tốc độ huấn luyện và dự báo chậm.\n",
    "\n",
    "Thời kì tan băng của deep learning đã khiến mạng CNN phát triển mạnh mẽ. Những kiến trúc mạng CNN hiện đại ngày càng trở nên sâu hơn và đạt độ chính xác cao. Đây là những kiến trúc end-to-end cho phép các bộ trích lọc đặc trưng gắn liền với bộ phân loại trong một pipeline duy nhất. Các bộ trích lọc cũng không cần khởi tạo một cách thủ công mà trái lại chúng được sinh ngẫu nhiên theo các phân phối giả định. \n",
    "\n",
    "Nhờ các nguồn tài nguyên gồm các mô hình pretrained sẵn có mà bạn không cần phải tìm ra kiến trúc và huấn luyện mạng từ đầu. Thay vào đó, có thể tải xuống một mạng hiện đại đã được huấn luyện với trọng số từ các nguồn đã được công bố. Các nhà khoa học dữ liệu thường thực hiện điều chỉnh để thích ứng với các mạng này theo nhu cầu của họ bằng cách \"tách\" các lớp kết nối đầy đủ (fully connected layers) cuối cùng của mạng, thêm các lớp mới được thiết kế cho một nhiệm vụ cụ thể, và sau đó đào tạo mạng trên dữ liệu mới. Nếu nhiệm vụ của bạn chỉ là vector hóa hình ảnh, bạn chỉ cần loại bỏ các lớp cuối cùng và sử dụng kết quả đầu ra từ các lớp trước đó:\n",
    "\n",
    "![](https://camo.githubusercontent.com/ee00962051042ac56919da91c4b9d3209e6cb4f0c6fb30e80dda67e229495fca/68747470733a2f2f63646e2d696d616765732d312e6d656469756d2e636f6d2f6d61782f3830302f312a49775f634b46774c6b54564f325350724f5a553272512e706e67)\n",
    "\n",
    "**Hình 4**: Đây là một mô hình phân lớp được huấn luyện trên một bộ dữ liệu từ trước hay còn gọi là mô hình pretrained. Lớp cuối cùng của mạng được tách ra và sử dụng để huấn luyện lại trên tập dữ liệu mới nhằm điều chỉnh để dự báo cho bộ dữ liệu mới.\n",
    "\n",
    "Tuy nhiên, chúng ta sẽ không tập trung quá nhiều vào kỹ thuật mạng nơ ron. Thay vào đó các feature được tạo thủ công vẫn rất hữu ích: ví dụ đối với bài toán trong cuộc thi [Rental Listing Inquiries - Kaggle Competition](https://www.kaggle.com/c/two-sigma-connect-rental-listing-inquiries), để dự đoán mức độ phổ biến của danh sách cho thuê, ta có thể giả định rằng các căn hộ có ánh sáng sẽ thu hút nhiều sự chú ý hơn và tạo một feature mới như \"giá trị trung bình của pixel\"."
   ]
  },
  {
   "attachments": {},
   "cell_type": "markdown",
   "id": "b1e1d4e8-0170-471e-96f1-eebfa3b41528",
   "metadata": {
    "id": "dH2jSPgbGgXf"
   },
   "source": [
    "**Trích lọc thông tin văn bản trên hình ảnh**\n",
    "\n",
    "_OCR_ (_Optical character recognition_) là dạng bài toán trích lọc thông tin văn bản trên hình ảnh. Chúng có tính ứng dụng cao và thường mang lại nhiều thông tin khi xử lý dữ liệu dạng hình ảnh.\n",
    "\n",
    "Chằng hạn nếu có văn bản trên hình ảnh, bạn có thể đọc nó để khai thác một số thông tin thông qua gói phát hiện văn bản trong hình ảnh [pytesseract](https://github.com/madmaze/pytesseract)."
   ]
  },
  {
   "cell_type": "code",
   "execution_count": null,
   "id": "b19e044c",
   "metadata": {
    "colab": {
     "base_uri": "https://localhost:8080/"
    },
    "id": "87QtxenldT7P",
    "outputId": "9ec3cfd1-f1ab-46b2-b78e-0b8a614b9a35"
   },
   "outputs": [],
   "source": [
    "%%script echo skipping\n",
    "!sudo apt-get install tesseract-ocr"
   ]
  },
  {
   "cell_type": "code",
   "execution_count": null,
   "id": "25d5d5ab",
   "metadata": {
    "colab": {
     "base_uri": "https://localhost:8080/",
     "height": 231
    },
    "id": "9wv8pEQSe3Kc",
    "outputId": "4a48c28a-f4be-4fc6-8c9a-ba3a44402bbe"
   },
   "outputs": [],
   "source": [
    "import requests\n",
    "from io import BytesIO\n",
    "import matplotlib.pyplot as plt\n",
    "import numpy as np\n",
    "from PIL import Image\n",
    "\n",
    "%matplotlib inline\n",
    "\n",
    "##### Just a random picture from search\n",
    "img = 'http://ohscurrent.org/wp-content/uploads/2015/09/domus-01-google.jpg'\n",
    "img = requests.get(img)\n",
    "\n",
    "img = Image.open(BytesIO(img.content))\n",
    "\n",
    "# show image\n",
    "img_arr = np.array(img)\n",
    "plt.imshow(img_arr)"
   ]
  },
  {
   "attachments": {},
   "cell_type": "markdown",
   "id": "37c194fc-aad5-43e9-996b-9cddc2e97402",
   "metadata": {
    "id": "qJIo4JOOey4T"
   },
   "source": [
    "Đọc một hình ảnh thiết kế căn hộ thông qua link."
   ]
  },
  {
   "cell_type": "code",
   "execution_count": null,
   "id": "f757a03d",
   "metadata": {
    "colab": {
     "base_uri": "https://localhost:8080/"
    },
    "id": "JKp2iynQe6_z",
    "outputId": "872788aa-29d8-474d-af61-e290e49a8f11"
   },
   "outputs": [],
   "source": [
    "%%script echo skipping\n",
    "import cv2\n",
    "from PIL import Image\n",
    "import pytesseract\n",
    "\n",
    "img_rgb = cv2.cvtColor(img_arr, cv2.COLOR_BGR2RGB)\n",
    "print(image_to_string(img_rgb))"
   ]
  },
  {
   "attachments": {},
   "cell_type": "markdown",
   "id": "80b07d00-f4b6-4087-99f2-03051702a13a",
   "metadata": {
    "id": "xILpNQH_e-hy"
   },
   "source": [
    "## FE for area\n",
    "\n",
    "Trong python chúng ta có một package khá phổ biến trong việc khai thác các thông tin địa lý đó là `reverse_geocoder`. Có 2 dạng bài toán chính với thông tin địa lý gồm \n",
    "\n",
    "* geocoding: mã hóa một tọa độ địa lý từ một địa chỉ.\n",
    "* revert geocoding: từ thông tin cung cấp về kinh độ và vĩ độ trả về địa chỉ của địa điểm và các thông tin có liên quan. \n",
    "\n",
    "Cả hai bài toán đều có thể giải quyết thông qua API của google map hoặc OpenStreetMap. Sau đây là ví dụ trích xuất thông tin địa lý từ một địa điểm thông qua kinh độ và vĩ độ."
   ]
  },
  {
   "cell_type": "code",
   "execution_count": null,
   "id": "f292ea94",
   "metadata": {
    "colab": {
     "base_uri": "https://localhost:8080/"
    },
    "id": "TfY4whNIfIfy",
    "outputId": "73721dad-0a81-46d3-9287-450354d5b817"
   },
   "outputs": [],
   "source": [
    "%%script echo skipping\n",
    "# install package reverse_geocoder\n",
    "!pip install reverse_geocoder"
   ]
  },
  {
   "cell_type": "code",
   "execution_count": null,
   "id": "47acf840",
   "metadata": {
    "colab": {
     "base_uri": "https://localhost:8080/"
    },
    "id": "SKdXGZysfL_D",
    "outputId": "4ad51f5c-c596-47d6-95e8-39cca122fb48"
   },
   "outputs": [],
   "source": [
    "import reverse_geocoder as revgc\n",
    "\n",
    "# truyền vào latitude, longitude\n",
    "revgc.search((21.0364466, 105.8450788))"
   ]
  },
  {
   "attachments": {},
   "cell_type": "markdown",
   "id": "abb0013e-f1bc-44d5-b07d-4b52cb6506bc",
   "metadata": {
    "id": "Ri_y70oAfMtJ"
   },
   "source": [
    "Như chúng ta thấy, từ tọa độ có thể biết được căn hộ này nằm ở quận Hoàn Kiếm, Hà Nội, là một nơi phát triển và có mức sống cao. Như vậy mức giá của nó khả năng sẽ cao hơn. Từ quận và huyện ta xác định được căn hộ có nằm ở trung tâm hay không, các tiện nghi xung quan nó. Những thông tin trên rất quan trọng trong việc đánh giá khả năng bán được của căn hộ. Mặc dù trong bộ dữ liệu gốc không hề xuất hiện nhưng chúng có thể được trích xuất từ tọa độ địa lý."
   ]
  },
  {
   "attachments": {},
   "cell_type": "markdown",
   "id": "35b566a1-1365-4548-b1d7-a9e990e7995b",
   "metadata": {
    "id": "kk0IiXDjfQC3"
   },
   "source": [
    "## FE for datetime\n",
    "\n",
    "Trong dự báo, các dữ liệu thường có trạng thái thay đổi. Trạng thái của ngày hôm qua có thể khác biệt so với ngày hôm nay. Chẳng hạn như chiều cao, cân nặng của một người hay giá thị trường của các cổ phiếu. Chính vì thế thời gian là một thông tin có ảnh hưởng lớn tới biến mục tiêu. Từ một mốc thời gian biết trước chúng ta có thể phân rã thông tin thành giờ trong ngày, ngày trong tháng, tháng, quí, năm,.... Sẽ có rất nhiều điều thú vị được khám phá từ các thông tin này. Chẳng hạn như các qui luật của một số chuỗi số thay đổi theo mùa vụ: Nhiệt độ các tháng thay đổi theo mùa, GDP thay đổi theo qui luật quí, doanh số tiêu thụ kem thay đổi theo mùa,.... Yếu tố thời gian còn giúp xác định xu hướng biến đổi của một biến theo thời gian và kết hợp với tính mùa vụ sẽ trở thành một chỉ số quan trọng để ước lượng chuỗi thời gian."
   ]
  },
  {
   "attachments": {},
   "cell_type": "markdown",
   "id": "8622e0df-04ff-4070-9410-75cb82d00aa1",
   "metadata": {
    "id": "OAgtuLhFfYvU"
   },
   "source": [
    "Biến đổi one-hot coding là một phương pháp quan trọng được sử dụng để mã hóa các biến chu kì thời gian. One-hot coding sẽ biến đổi một biến thành các vector có phần tử là 0 hoặc 1, trong đó 1 đại diện cho sự xuất hiện của đặc trưng và 0 đại diện cho các đặc trưng mà biến không có. \n",
    "\n",
    "Ví dụ: Chúng ta có 1 ngày trong tuần có thể rơi vào các thứ từ 2 đến chủ nhật. Như vậy một biểu diễn one-hot encoding của ngày thứ 2 sẽ là một véc tơ có phần tử đầu tiên bằng 1 và các phần tử còn lại bằng 0. Biểu diễn này cũng tương tự như với mã hóa dữ liệu văn bản thành các _sparse vector_. \n",
    "\n",
    "Trong python chúng ta có thể sử dụng hàm weekday() để xác định thứ tự của một ngày trong tuần. Thuộc tính weekday() chỉ tồn tại đối với dữ liệu dạng datetime. Do đó ta cần chuyển đổi các biến ngày đang ở dạng string về dạng datetime thông qua strftime (string format time). Bảng string format time có thể xem [tại đây](https://strftime.org/)."
   ]
  },
  {
   "cell_type": "code",
   "execution_count": null,
   "id": "a8d99b34",
   "metadata": {
    "colab": {
     "base_uri": "https://localhost:8080/"
    },
    "id": "0FnARA-8fZke",
    "outputId": "6a32c093-3e51-4d9a-9279-53fbf9678587"
   },
   "outputs": [],
   "source": [
    "from datetime import datetime\n",
    "import pandas as pd\n",
    "\n",
    "dataset = pd.DataFrame({'created': ['2021-08-13 00:00:00', '2021-08-12 00:00:00', '2021-08-11 00:00:00', \n",
    "                                    '2021-08-10 00:00:00', '2021-08-09 00:00:00', '2021-08-08 00:00:00', '2021-08-07 00:00:00']})\n",
    "\n",
    "def parser(x):\n",
    "    # Để biết được định dạng strftime của một chuỗi kí tự ta phải tra trong bàng string format time\n",
    "    return datetime.strptime(x, '%Y-%m-%d %H:%M:%S')\n",
    "\n",
    "dataset['created'] = dataset['created'].map(lambda x: parser(x))\n",
    "print(dataset['created'].dtypes)"
   ]
  },
  {
   "attachments": {},
   "cell_type": "markdown",
   "id": "1550c658-fadf-451a-b207-5cb1cff273f6",
   "metadata": {
    "id": "UdtxxtipfkTe"
   },
   "source": [
    "Như vậy biến created đã được chuyển về dạng datetime. Chúng ta có thể tạo ra một one-hot encoding dựa vào hàm weekday()."
   ]
  },
  {
   "cell_type": "code",
   "execution_count": null,
   "id": "553c6e1a",
   "metadata": {
    "colab": {
     "base_uri": "https://localhost:8080/"
    },
    "id": "48RptEozflP6",
    "outputId": "2eb43832-3fb6-4fd2-90fe-ba4410d9ce11"
   },
   "outputs": [],
   "source": [
    "dataset['weekday'] = dataset['created'].apply(lambda x: x.date().weekday())\n",
    "dataset['weekday']"
   ]
  },
  {
   "attachments": {},
   "cell_type": "markdown",
   "id": "61b382e4-224b-457b-b3cb-78b4cec8e06a",
   "metadata": {
    "id": "bv6El19Lfsmd"
   },
   "source": [
    "Ta có thể tạo ra một biến trả về trạng thái ngày có phải là cuối tuần bằng kiểm tra weekday() có rơi vào [5, 6] là những ngày cuối tuần hay không."
   ]
  },
  {
   "cell_type": "code",
   "execution_count": null,
   "id": "c298e371",
   "metadata": {
    "colab": {
     "base_uri": "https://localhost:8080/"
    },
    "id": "Wd_YGJIyftef",
    "outputId": "ee017337-3c51-4fe3-b6d4-89bb5f5fc2d3"
   },
   "outputs": [],
   "source": [
    "dataset['is_weekend'] = dataset['created'].apply(lambda x: 1 if x.date().weekday() in [5, 6] else 0)\n",
    "dataset['is_weekend']"
   ]
  },
  {
   "attachments": {},
   "cell_type": "markdown",
   "id": "08b614b8-d33c-411d-a1ae-ecb3ee5a9bc0",
   "metadata": {
    "id": "ZDSyPntUfxdJ"
   },
   "source": [
    "Trong một số bài toán dữ liệu có thể bị phụ thuộc vào thời gian. Chẳng hạn như lịch trả nợ của thẻ tín dụng sẽ rơi vào kì sao kê là một ngày cụ thể trong tháng. Khi làm việc với dữ liệu chuỗi thời gian chúng ta nên lưu ý tới danh sách các ngày đặc biệt trong năm như nghỉ tết âm lịch, quốc khánh, quốc tế lao động,.... Bởi những ngày này thường sẽ có biến động lớn về dữ liệu kinh doanh."
   ]
  },
  {
   "cell_type": "code",
   "execution_count": null,
   "id": "e675df6b-59cb-4e7a-9ddd-e983cb6c449d",
   "metadata": {},
   "outputs": [
    {
     "data": {
      "text/html": [
       "<div>\n",
       "<style scoped>\n",
       "    .dataframe tbody tr th:only-of-type {\n",
       "        vertical-align: middle;\n",
       "    }\n",
       "\n",
       "    .dataframe tbody tr th {\n",
       "        vertical-align: top;\n",
       "    }\n",
       "\n",
       "    .dataframe thead th {\n",
       "        text-align: right;\n",
       "    }\n",
       "</style>\n",
       "<table border=\"1\" class=\"dataframe\">\n",
       "  <thead>\n",
       "    <tr style=\"text-align: right;\">\n",
       "      <th></th>\n",
       "      <th>time</th>\n",
       "    </tr>\n",
       "  </thead>\n",
       "  <tbody>\n",
       "    <tr>\n",
       "      <th>0</th>\n",
       "      <td>2014-08-01 09:00:00+02:00</td>\n",
       "    </tr>\n",
       "    <tr>\n",
       "      <th>1</th>\n",
       "      <td>2014-08-01 10:00:00+02:00</td>\n",
       "    </tr>\n",
       "    <tr>\n",
       "      <th>2</th>\n",
       "      <td>2014-08-01 11:00:00+02:00</td>\n",
       "    </tr>\n",
       "    <tr>\n",
       "      <th>0</th>\n",
       "      <td>2014-08-01 09:00:00-05:00</td>\n",
       "    </tr>\n",
       "    <tr>\n",
       "      <th>1</th>\n",
       "      <td>2014-08-01 10:00:00-05:00</td>\n",
       "    </tr>\n",
       "    <tr>\n",
       "      <th>2</th>\n",
       "      <td>2014-08-01 11:00:00-05:00</td>\n",
       "    </tr>\n",
       "  </tbody>\n",
       "</table>\n",
       "</div>"
      ],
      "text/plain": [
       "                        time\n",
       "0  2014-08-01 09:00:00+02:00\n",
       "1  2014-08-01 10:00:00+02:00\n",
       "2  2014-08-01 11:00:00+02:00\n",
       "0  2014-08-01 09:00:00-05:00\n",
       "1  2014-08-01 10:00:00-05:00\n",
       "2  2014-08-01 11:00:00-05:00"
      ]
     },
     "execution_count": 277,
     "metadata": {},
     "output_type": "execute_result"
    }
   ],
   "source": [
    "# first, let's create a toy dataframe with some timestamps in different time zones\n",
    "# Work with different timezones¶\n",
    "df = pd.DataFrame()\n",
    "\n",
    "df['time'] = pd.concat([\n",
    "    pd.Series(\n",
    "        pd.date_range(\n",
    "            start='2014-08-01 09:00', freq='H', periods=3,\n",
    "            tz='Europe/Berlin')),\n",
    "    pd.Series(\n",
    "        pd.date_range(\n",
    "            start='2014-08-01 09:00', freq='H', periods=3, tz='US/Central'))\n",
    "    ], axis=0)\n",
    "\n",
    "df"
   ]
  },
  {
   "cell_type": "code",
   "execution_count": null,
   "id": "fb6c0db4-e3b8-490c-9e51-0c9c53fee471",
   "metadata": {},
   "outputs": [
    {
     "data": {
      "text/html": [
       "<div>\n",
       "<style scoped>\n",
       "    .dataframe tbody tr th:only-of-type {\n",
       "        vertical-align: middle;\n",
       "    }\n",
       "\n",
       "    .dataframe tbody tr th {\n",
       "        vertical-align: top;\n",
       "    }\n",
       "\n",
       "    .dataframe thead th {\n",
       "        text-align: right;\n",
       "    }\n",
       "</style>\n",
       "<table border=\"1\" class=\"dataframe\">\n",
       "  <thead>\n",
       "    <tr style=\"text-align: right;\">\n",
       "      <th></th>\n",
       "      <th>time</th>\n",
       "      <th>time_utc</th>\n",
       "      <th>time_london</th>\n",
       "    </tr>\n",
       "  </thead>\n",
       "  <tbody>\n",
       "    <tr>\n",
       "      <th>0</th>\n",
       "      <td>2014-08-01 09:00:00+02:00</td>\n",
       "      <td>2014-08-01 07:00:00+00:00</td>\n",
       "      <td>2014-08-01 08:00:00+01:00</td>\n",
       "    </tr>\n",
       "    <tr>\n",
       "      <th>1</th>\n",
       "      <td>2014-08-01 10:00:00+02:00</td>\n",
       "      <td>2014-08-01 08:00:00+00:00</td>\n",
       "      <td>2014-08-01 09:00:00+01:00</td>\n",
       "    </tr>\n",
       "    <tr>\n",
       "      <th>2</th>\n",
       "      <td>2014-08-01 11:00:00+02:00</td>\n",
       "      <td>2014-08-01 09:00:00+00:00</td>\n",
       "      <td>2014-08-01 10:00:00+01:00</td>\n",
       "    </tr>\n",
       "    <tr>\n",
       "      <th>0</th>\n",
       "      <td>2014-08-01 09:00:00-05:00</td>\n",
       "      <td>2014-08-01 14:00:00+00:00</td>\n",
       "      <td>2014-08-01 15:00:00+01:00</td>\n",
       "    </tr>\n",
       "    <tr>\n",
       "      <th>1</th>\n",
       "      <td>2014-08-01 10:00:00-05:00</td>\n",
       "      <td>2014-08-01 15:00:00+00:00</td>\n",
       "      <td>2014-08-01 16:00:00+01:00</td>\n",
       "    </tr>\n",
       "    <tr>\n",
       "      <th>2</th>\n",
       "      <td>2014-08-01 11:00:00-05:00</td>\n",
       "      <td>2014-08-01 16:00:00+00:00</td>\n",
       "      <td>2014-08-01 17:00:00+01:00</td>\n",
       "    </tr>\n",
       "  </tbody>\n",
       "</table>\n",
       "</div>"
      ],
      "text/plain": [
       "                        time                  time_utc  \\\n",
       "0  2014-08-01 09:00:00+02:00 2014-08-01 07:00:00+00:00   \n",
       "1  2014-08-01 10:00:00+02:00 2014-08-01 08:00:00+00:00   \n",
       "2  2014-08-01 11:00:00+02:00 2014-08-01 09:00:00+00:00   \n",
       "0  2014-08-01 09:00:00-05:00 2014-08-01 14:00:00+00:00   \n",
       "1  2014-08-01 10:00:00-05:00 2014-08-01 15:00:00+00:00   \n",
       "2  2014-08-01 11:00:00-05:00 2014-08-01 16:00:00+00:00   \n",
       "\n",
       "                time_london  \n",
       "0 2014-08-01 08:00:00+01:00  \n",
       "1 2014-08-01 09:00:00+01:00  \n",
       "2 2014-08-01 10:00:00+01:00  \n",
       "0 2014-08-01 15:00:00+01:00  \n",
       "1 2014-08-01 16:00:00+01:00  \n",
       "2 2014-08-01 17:00:00+01:00  "
      ]
     },
     "execution_count": 278,
     "metadata": {},
     "output_type": "execute_result"
    }
   ],
   "source": [
    "# to work with different time zones, first we unify the timezone to the central one\n",
    "# setting utc = True\n",
    "\n",
    "df['time_utc'] = pd.to_datetime(df['time'], utc=True)\n",
    "\n",
    "# next we change all timestamps to the desired timezone, eg Europe/London\n",
    "# in this example\n",
    "\n",
    "df['time_london'] = df['time_utc'].dt.tz_convert('Europe/London')\n",
    "\n",
    "\n",
    "df"
   ]
  },
  {
   "attachments": {},
   "cell_type": "markdown",
   "id": "340cf675-9f87-4b19-a2f7-a1248a62bbce",
   "metadata": {
    "id": "70xnMGYzd84V"
   },
   "source": [
    "## FE for website, log\n",
    "\n",
    "Các hệ thống website lớn sẽ tracking lại các session của người dùng. Những thông tin được tracking bao gồm thông tin thiết bị, loại event, customer ID, ... Từ customer ID chúng có thể link tới database người dùng để biết được các thông tin về giới tính, độ tuổi, tài khoản, hành vi giao dịch,.... Trong một số trường hợp một khách hàng có thể thay đổi thiết bị truy cập, do đó không phải hầu hết các trường hợp chúng ta đều map được session với Customer ID trên dữ liệu local. Tuy nhiên từ các thông tin được lưu trong Cookie về người dùng (còn gọi là user agent) cũng cung cấp cho chúng ta khá nhiều điều. Chẳng hạn như: Thiết bị truy cập, trình duyệt, hệ điều hành,... Từ thiết bị di động chúng ta cũng ước đoán được người dùng có mức thu nhập như thế nào: Sử dụng Iphone X thì khả năng cao là người có thu nhập cao, sử dụng điện thoại xiaomi khả năng là người thu nhập trung bình và thấp,.... Để phân loại các thông tin về người dùng chúng ta có thể sử dụng package user_agents trong python."
   ]
  },
  {
   "cell_type": "code",
   "execution_count": null,
   "id": "a0abaf09",
   "metadata": {
    "colab": {
     "base_uri": "https://localhost:8080/"
    },
    "id": "aT8GEuZZgfFY",
    "outputId": "cf2ebf28-bcee-4f1c-eb5c-62e67e1e52db"
   },
   "outputs": [],
   "source": [
    "%%script echo skipping\n",
    "!pip install user_agents"
   ]
  },
  {
   "cell_type": "code",
   "execution_count": null,
   "id": "f60e1404",
   "metadata": {
    "colab": {
     "base_uri": "https://localhost:8080/"
    },
    "id": "1JZf9vrLgops",
    "outputId": "749c259d-a7e1-4aca-be5c-111150647253"
   },
   "outputs": [],
   "source": [
    "import user_agents\n",
    "# Giả định có một user agent như bên dưới\n",
    "ua = 'Mozilla/5.0 (X11; Linux x86_64) AppleWebKit/537.36 (KHTML, like Gecko) Ubuntu Chromium/56.0.2924.76 Chrome/56.0.2924.76 Safari/537.36'\n",
    "# Parser thông tin user agent\n",
    "ua = user_agents.parse(ua)\n",
    "# Khai thác các thuộc tính của user\n",
    "print('Is a bot? ', ua.is_bot)\n",
    "print('Is mobile? ', ua.is_mobile)\n",
    "print('Is PC? ',ua.is_pc)\n",
    "print('OS Family: ',ua.os.family)\n",
    "print('OS Version: ',ua.os.version)\n",
    "print('Browser Family: ',ua.browser.family)\n",
    "print('Browser Version: ',ua.browser.version)"
   ]
  },
  {
   "attachments": {},
   "cell_type": "markdown",
   "id": "5d580c40-2fdd-4264-b138-25e16ca8ace6",
   "metadata": {},
   "source": [
    "## FE for mixed variables"
   ]
  },
  {
   "cell_type": "code",
   "execution_count": 271,
   "id": "f335b18e-0a7c-40e6-8b24-e6f3a1caca6f",
   "metadata": {},
   "outputs": [
    {
     "data": {
      "text/html": [
       "<div>\n",
       "<style scoped>\n",
       "    .dataframe tbody tr th:only-of-type {\n",
       "        vertical-align: middle;\n",
       "    }\n",
       "\n",
       "    .dataframe tbody tr th {\n",
       "        vertical-align: top;\n",
       "    }\n",
       "\n",
       "    .dataframe thead th {\n",
       "        text-align: right;\n",
       "    }\n",
       "</style>\n",
       "<table border=\"1\" class=\"dataframe\">\n",
       "  <thead>\n",
       "    <tr style=\"text-align: right;\">\n",
       "      <th></th>\n",
       "      <th>col1</th>\n",
       "      <th>col2</th>\n",
       "    </tr>\n",
       "  </thead>\n",
       "  <tbody>\n",
       "    <tr>\n",
       "      <th>0</th>\n",
       "      <td>1</td>\n",
       "      <td>2</td>\n",
       "    </tr>\n",
       "    <tr>\n",
       "      <th>1</th>\n",
       "      <td>2</td>\n",
       "      <td>12a</td>\n",
       "    </tr>\n",
       "    <tr>\n",
       "      <th>2</th>\n",
       "      <td>a3</td>\n",
       "      <td>b3</td>\n",
       "    </tr>\n",
       "    <tr>\n",
       "      <th>3</th>\n",
       "      <td>b</td>\n",
       "      <td>3</td>\n",
       "    </tr>\n",
       "    <tr>\n",
       "      <th>4</th>\n",
       "      <td>3</td>\n",
       "      <td>c</td>\n",
       "    </tr>\n",
       "    <tr>\n",
       "      <th>5</th>\n",
       "      <td>c</td>\n",
       "      <td>b3c</td>\n",
       "    </tr>\n",
       "    <tr>\n",
       "      <th>6</th>\n",
       "      <td>ce</td>\n",
       "      <td>a</td>\n",
       "    </tr>\n",
       "  </tbody>\n",
       "</table>\n",
       "</div>"
      ],
      "text/plain": [
       "  col1 col2\n",
       "0    1    2\n",
       "1    2  12a\n",
       "2   a3   b3\n",
       "3    b    3\n",
       "4    3    c\n",
       "5    c  b3c\n",
       "6   ce    a"
      ]
     },
     "execution_count": 271,
     "metadata": {},
     "output_type": "execute_result"
    }
   ],
   "source": [
    "df = pd.DataFrame({'col1':[1,2,'a3','b',3,'c','ce'], \n",
    "                   'col2':[2,'12a','b3',3,'c','b3c','a']})\n",
    "df"
   ]
  },
  {
   "attachments": {},
   "cell_type": "markdown",
   "id": "efc979d2-76a2-43ce-bcef-ee1316153145",
   "metadata": {},
   "source": [
    "### Value is contain numbers and strings"
   ]
  },
  {
   "attachments": {},
   "cell_type": "markdown",
   "id": "d7c8e336-bfa7-47bb-b4ba-ae50b61b19ed",
   "metadata": {},
   "source": [
    "### Value is numbers or strings"
   ]
  },
  {
   "cell_type": "code",
   "execution_count": 276,
   "id": "7044c57e-9fe5-4731-b693-b94e3aeb1540",
   "metadata": {},
   "outputs": [
    {
     "data": {
      "text/html": [
       "<div>\n",
       "<style scoped>\n",
       "    .dataframe tbody tr th:only-of-type {\n",
       "        vertical-align: middle;\n",
       "    }\n",
       "\n",
       "    .dataframe tbody tr th {\n",
       "        vertical-align: top;\n",
       "    }\n",
       "\n",
       "    .dataframe thead th {\n",
       "        text-align: right;\n",
       "    }\n",
       "</style>\n",
       "<table border=\"1\" class=\"dataframe\">\n",
       "  <thead>\n",
       "    <tr style=\"text-align: right;\">\n",
       "      <th></th>\n",
       "      <th>col1</th>\n",
       "      <th>col2</th>\n",
       "      <th>col1_num1</th>\n",
       "      <th>col1_num2</th>\n",
       "      <th>col1_num3</th>\n",
       "    </tr>\n",
       "  </thead>\n",
       "  <tbody>\n",
       "    <tr>\n",
       "      <th>0</th>\n",
       "      <td>1</td>\n",
       "      <td>2</td>\n",
       "      <td>1.0</td>\n",
       "      <td>1</td>\n",
       "      <td>NaN</td>\n",
       "    </tr>\n",
       "    <tr>\n",
       "      <th>1</th>\n",
       "      <td>2</td>\n",
       "      <td>12a</td>\n",
       "      <td>2.0</td>\n",
       "      <td>2</td>\n",
       "      <td>NaN</td>\n",
       "    </tr>\n",
       "    <tr>\n",
       "      <th>2</th>\n",
       "      <td>a3</td>\n",
       "      <td>b3</td>\n",
       "      <td>NaN</td>\n",
       "      <td>3</td>\n",
       "      <td>3</td>\n",
       "    </tr>\n",
       "    <tr>\n",
       "      <th>3</th>\n",
       "      <td>b</td>\n",
       "      <td>3</td>\n",
       "      <td>NaN</td>\n",
       "      <td>NaN</td>\n",
       "      <td>NaN</td>\n",
       "    </tr>\n",
       "    <tr>\n",
       "      <th>4</th>\n",
       "      <td>3</td>\n",
       "      <td>c</td>\n",
       "      <td>3.0</td>\n",
       "      <td>3</td>\n",
       "      <td>NaN</td>\n",
       "    </tr>\n",
       "    <tr>\n",
       "      <th>5</th>\n",
       "      <td>c</td>\n",
       "      <td>b3c</td>\n",
       "      <td>NaN</td>\n",
       "      <td>NaN</td>\n",
       "      <td>NaN</td>\n",
       "    </tr>\n",
       "    <tr>\n",
       "      <th>6</th>\n",
       "      <td>ce</td>\n",
       "      <td>a</td>\n",
       "      <td>NaN</td>\n",
       "      <td>NaN</td>\n",
       "      <td>NaN</td>\n",
       "    </tr>\n",
       "  </tbody>\n",
       "</table>\n",
       "</div>"
      ],
      "text/plain": [
       "  col1 col2  col1_num1 col1_num2 col1_num3\n",
       "0    1    2        1.0         1       NaN\n",
       "1    2  12a        2.0         2       NaN\n",
       "2   a3   b3        NaN         3         3\n",
       "3    b    3        NaN       NaN       NaN\n",
       "4    3    c        3.0         3       NaN\n",
       "5    c  b3c        NaN       NaN       NaN\n",
       "6   ce    a        NaN       NaN       NaN"
      ]
     },
     "execution_count": 276,
     "metadata": {},
     "output_type": "execute_result"
    }
   ],
   "source": [
    "df['col1_num1'] = pd.to_numeric(df['col1'], errors='coerce', downcast='integer')\n",
    "df['col1_num2'] = df['col1'].astype(str).str.extract('(\\d+)')\n",
    "df['col1_num3'] = df['col1'].str.extract('(\\d+)')\n",
    "df"
   ]
  }
 ],
 "metadata": {
  "kernelspec": {
   "display_name": "Python 3 (ipykernel)",
   "language": "python",
   "name": "python3"
  },
  "language_info": {
   "codemirror_mode": {
    "name": "ipython",
    "version": 3
   },
   "file_extension": ".py",
   "mimetype": "text/x-python",
   "name": "python",
   "nbconvert_exporter": "python",
   "pygments_lexer": "ipython3",
   "version": "3.10.6"
  },
  "toc-autonumbering": true,
  "toc-showcode": false,
  "toc-showmarkdowntxt": false
 },
 "nbformat": 4,
 "nbformat_minor": 5
}
