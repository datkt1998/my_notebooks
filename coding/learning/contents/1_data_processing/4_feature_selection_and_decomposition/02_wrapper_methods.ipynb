{
 "cells": [
  {
   "attachments": {},
   "cell_type": "markdown",
   "id": "8c68ee9a-488f-4724-91f8-b332cfe420d3",
   "metadata": {},
   "source": [
    "# Wrapped methods\n",
    "- Use the ML models to score the subset feature by train model in this subset.\n",
    "\n",
    "**1. Advantages**:\n",
    "- It often give the best of subsets feature score for a desired ML model\n",
    "- Detect the interactions between features\n",
    "\n",
    "**2. Disavantages**:\n",
    "- Use more computationally expensive than other methods.\n",
    "- May not give the best feature combination for difference ML models\n",
    "\n",
    "\n",
    "**3. Usage**:\n",
    "- **Appropriate for select subset for single model that was build by this subset feature**\n",
    "\n",
    "**4. Produce steps**:\n",
    "- Seach for a subset of features\n",
    "- Build a ML model on the subset feature and evaluate model\n",
    "- Repeat for another subset\n",
    "\n",
    "**5. How to search ?**:\n",
    "- ***Forward selection***: Start with no feature, adds the best improved  feature (get best performance model) in un-selected features remained pool each iteraction until a predefined criteria is met.\n",
    "- ***Backward selection***: Start with all features in pool, removes the least significant feature (get best performance model) in pool each iteraction until a predefined criteria is met.\n",
    "- ***Exhaustive search***: searches across all possible of k-feature combinations that get best performance model, with k from 1 to N (number of all features), then select the combination of features that performs the best (often impractical)\n",
    "\n",
    "**6. How to stop the search ?**:\n",
    "- Performance increase/decrease\n",
    "- The Max number of features that predefined is reached"
   ]
  },
  {
   "attachments": {},
   "cell_type": "markdown",
   "id": "c2f4190f-fe7e-4655-b258-25027739cca0",
   "metadata": {},
   "source": [
    "## Step-forward"
   ]
  },
  {
   "cell_type": "code",
   "execution_count": 63,
   "id": "4700c523-bc9e-4236-8009-27ccfe6057b5",
   "metadata": {},
   "outputs": [],
   "source": [
    "from sklearn.feature_selection import SequentialFeatureSelector as SFS\n",
    "\n",
    "# within the SFS we indicate:\n",
    "# 1) the algorithm we want to create, in this case RandomForests (note that I use few trees to speed things up)\n",
    "# 2) the stopping criteria: see sklearn documentation for more details\n",
    "# 3) wheter to perform step forward or step backward\n",
    "# 4) the evaluation metric: in this case the roc_auc\n",
    "# 5) the cross-validation\n",
    "\n",
    "# this is going to take a while, do not despair\n",
    "\n",
    "sfs = SFS(\n",
    "    estimator=RandomForestClassifier( n_estimators=10, n_jobs=4, random_state=0),\n",
    "    n_features_to_select=10,  # the number of features to retain\n",
    "    tol=None,  # the maximum increase or decrease in the performance metric in each iterator change of n_features\n",
    "    direction='forward',  # the direction of the selection procedure\n",
    "    scoring='roc_auc',  # the metric to evaluate\n",
    "    cv=2,  # the cross-validation fold\n",
    "    n_jobs=4,  # for parallelization\n",
    ")\n",
    "\n",
    "sfs = sfs.fit(X_train, y_train)"
   ]
  },
  {
   "cell_type": "code",
   "execution_count": 64,
   "id": "8a3e96cf-0d80-45e4-8772-8343e71b0b80",
   "metadata": {},
   "outputs": [
    {
     "data": {
      "text/plain": [
       "array(['var_16', 'var_17', 'var_21', 'var_44', 'var_45', 'var_48',\n",
       "       'var_55', 'var_91', 'var_103', 'var_108'], dtype=object)"
      ]
     },
     "execution_count": 64,
     "metadata": {},
     "output_type": "execute_result"
    }
   ],
   "source": [
    "sfs.get_feature_names_out()"
   ]
  },
  {
   "attachments": {},
   "cell_type": "markdown",
   "id": "cb7c6d5e-a516-42e2-9714-d26800771873",
   "metadata": {},
   "source": [
    "## Step-backward"
   ]
  },
  {
   "cell_type": "code",
   "execution_count": null,
   "id": "606b7e17-c1cf-4822-bad7-d0f56a61cf9a",
   "metadata": {},
   "outputs": [],
   "source": [
    "sfs = SFS(\n",
    "    estimator=RandomForestClassifier(\n",
    "        n_estimators=10, n_jobs=4, random_state=0),\n",
    "    n_features_to_select=65,  # the number of features to retain\n",
    "    tol=None,  # the maximum increase or decrease in the performance metric\n",
    "    direction='backward',  # the direction of the selection procedure\n",
    "    scoring='roc_auc',  # the metric to evaluate\n",
    "    cv=2,  # the cross-validation fold\n",
    "    n_jobs=4,  # for parallelization\n",
    ")\n",
    "\n",
    "sfs = sfs.fit(X_train, y_train)"
   ]
  },
  {
   "attachments": {},
   "cell_type": "markdown",
   "id": "72ee9bef-6097-40ea-ac31-d192813ebf1b",
   "metadata": {
    "tags": []
   },
   "source": [
    "## Exhaustive"
   ]
  },
  {
   "cell_type": "code",
   "execution_count": null,
   "id": "375ff768-106f-4aa8-b16f-115a1ab26f78",
   "metadata": {},
   "outputs": [],
   "source": [
    "from mlxtend.feature_selection import ExhaustiveFeatureSelector as EFS\n",
    "\n",
    "##################################\n",
    "\n",
    "# in order to shorter search time for the demonstration\n",
    "# i will ask the algorithm to try all possible 1 and 2\n",
    "# feature combinations\n",
    "\n",
    "# if you have access to a multicore or distributed computer\n",
    "# system you can try more greedy searches\n",
    "\n",
    "###################################\n",
    "\n",
    "# within the EFS we indicate:\n",
    "\n",
    "# 1) the algorithm we want to create, in this case RandomForests\n",
    "# (note that I use few trees to speed things up)\n",
    "\n",
    "# 2) the number of minimum features we want our model to have\n",
    "\n",
    "# 3) the number of maximum features we want our model to have\n",
    "\n",
    "# with 2 and 3 we regulate the number of possible feature combinations to\n",
    "# be evaluated by the model.\n",
    "\n",
    "# 4) the evaluation metric: in this case the roc_auc\n",
    "# 5) the cross-validation\n",
    "\n",
    "# this is going to take a while, do not despair\n",
    "\n",
    "efs = EFS(RandomForestClassifier(n_estimators=5,n_jobs=4,random_state=0, max_depth=2),\n",
    "          min_features=1,\n",
    "          max_features=2,\n",
    "          scoring='roc_auc',\n",
    "          print_progress=True,\n",
    "          cv=2)\n",
    "\n",
    "# search features\n",
    "efs = efs.fit(X_train, y_train)\n",
    "\n",
    "selected_feat = X_train.columns[list(efs.best_idx_)]\n",
    "selected_feat"
   ]
  }
 ],
 "metadata": {
  "kernelspec": {
   "display_name": "Python 3 (ipykernel)",
   "language": "python",
   "name": "python3"
  },
  "language_info": {
   "codemirror_mode": {
    "name": "ipython",
    "version": 3
   },
   "file_extension": ".py",
   "mimetype": "text/x-python",
   "name": "python",
   "nbconvert_exporter": "python",
   "pygments_lexer": "ipython3",
   "version": "3.10.6"
  }
 },
 "nbformat": 4,
 "nbformat_minor": 5
}
