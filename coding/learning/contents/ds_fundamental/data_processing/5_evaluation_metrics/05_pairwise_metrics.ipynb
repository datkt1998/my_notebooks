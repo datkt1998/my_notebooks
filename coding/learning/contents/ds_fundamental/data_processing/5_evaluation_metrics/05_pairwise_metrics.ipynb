{
 "cells": [
  {
   "attachments": {},
   "cell_type": "markdown",
   "id": "e243a14a-baf7-404e-a8d2-11c57e9b48d9",
   "metadata": {},
   "source": [
    "# Pairwise metrics"
   ]
  },
  {
   "cell_type": "code",
   "execution_count": null,
   "id": "4458af1d-a2b3-4eea-a9d8-a9827b69fc86",
   "metadata": {},
   "outputs": [],
   "source": [
    "# updating"
   ]
  }
 ],
 "metadata": {
  "kernelspec": {
   "display_name": "Python 3 (ipykernel)",
   "language": "python",
   "name": "python3"
  },
  "language_info": {
   "codemirror_mode": {
    "name": "ipython",
    "version": 3
   },
   "file_extension": ".py",
   "mimetype": "text/x-python",
   "name": "python",
   "nbconvert_exporter": "python",
   "pygments_lexer": "ipython3",
   "version": "3.10.6"
  }
 },
 "nbformat": 4,
 "nbformat_minor": 5
}
