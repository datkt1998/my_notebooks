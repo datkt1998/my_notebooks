{
 "cells": [
  {
   "cell_type": "markdown",
   "metadata": {},
   "source": [
    "# Candidate Generation Metrics\n",
    "\n",
    "| Metric                | Use Cases                                                                                                                                      | Trường hợp sử dụng (Vietnamese)                                                                                                                                                                          |\n",
    "|-----------------------|-----------------------------------------------------------------------------------------------------------------------------------------------|---------------------------------------------------------------------------------------------------------------------------------------------------------------------------------------------------------|\n",
    "| **Novelty**            | Use novelty in evaluating recommendation systems when assessing the system’s ability to suggest unexpected, lesser-known, or new items, thereby enhancing user experience by introducing diversity and reducing the filter bubble effect prevalent in personalized recommendations. | Sử dụng tính mới lạ khi đánh giá hệ thống gợi ý để đánh giá khả năng của hệ thống trong việc đề xuất các mục không ngờ tới, ít được biết đến, hoặc mới, từ đó cải thiện trải nghiệm người dùng bằng cách giới thiệu sự đa dạng và giảm hiệu ứng lọc bọt khí phổ biến trong các gợi ý cá nhân hóa. |\n",
    "| **Diversity**          | Use Diversity in recommendation systems when the goal is to broaden user exposure beyond familiar items, avoid echo chambers, and enhance user engagement by presenting a varied range of options, thereby catering to a wider spectrum of user interests and preferences. | Sử dụng tính đa dạng trong hệ thống gợi ý khi mục tiêu là mở rộng sự tiếp xúc của người dùng vượt ra ngoài các mục quen thuộc, tránh buồng vang, và tăng cường sự tham gia của người dùng bằng cách đưa ra các lựa chọn đa dạng, từ đó đáp ứng một phổ rộng các sở thích và sự quan tâm của người dùng. |\n",
    "| **Serendipity**        | Use serendipity in evaluating recommendation systems when assessing their ability to offer novel, unexpected, yet relevant items, enhancing user experience by introducing diversity beyond typical or predictable suggestions. | Sử dụng sự tình cờ khi đánh giá hệ thống gợi ý khi đánh giá khả năng của chúng trong việc đề xuất các mục mới lạ, bất ngờ nhưng phù hợp, từ đó cải thiện trải nghiệm người dùng bằng cách giới thiệu sự đa dạng ngoài các gợi ý thông thường hoặc dự đoán được. |\n",
    "| **Catalog Coverage**   | Use Catalog Coverage to evaluate a recommendation system when assessing its ability to suggest a wide variety of items, particularly important in scenarios where exposing users to a broader selection of the catalog is crucial for enhancing user experience and business objectives. | Sử dụng độ phủ của danh mục để đánh giá hệ thống gợi ý khi đánh giá khả năng của nó trong việc đề xuất nhiều loại mục khác nhau, đặc biệt quan trọng trong các trường hợp mà việc giới thiệu người dùng đến một lựa chọn rộng hơn của danh mục là cần thiết để cải thiện trải nghiệm người dùng và các mục tiêu kinh doanh. |\n",
    "| **Distributional Coverage** | Distributional Coverage is used when evaluating the diversity of recommendations in a system, ensuring a wide range of items are suggested, rather than repeatedly offering popular or similar items, thus enhancing user discovery and experience. | Độ phủ phân phối được sử dụng khi đánh giá sự đa dạng của các gợi ý trong một hệ thống, đảm bảo rằng một loạt các mục được đề xuất, thay vì liên tục cung cấp các mục phổ biến hoặc tương tự, từ đó cải thiện sự khám phá và trải nghiệm của người dùng. |\n"
   ]
  },
  {
   "cell_type": "markdown",
   "metadata": {},
   "source": []
  }
 ],
 "metadata": {
  "language_info": {
   "name": "python"
  }
 },
 "nbformat": 4,
 "nbformat_minor": 2
}
