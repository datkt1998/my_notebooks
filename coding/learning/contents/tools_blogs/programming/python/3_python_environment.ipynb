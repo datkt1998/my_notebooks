{
 "cells": [
  {
   "cell_type": "markdown",
   "id": "e00472c6-989f-405a-a64d-363d557c4cc7",
   "metadata": {},
   "source": [
    "# Python Environment Overview\n",
    "\n",
    "Có 2 loại thường được sử dụng là:\n",
    "- `venv`: tạo môi trường python mới\n",
    "- `conda`: tạo môi trường conda mới"
   ]
  },
  {
   "cell_type": "markdown",
   "id": "6987737b-9473-4e63-92d8-e7ed9979fe74",
   "metadata": {},
   "source": [
    "## venv - virtual environments"
   ]
  },
  {
   "cell_type": "markdown",
   "id": "70d74f04-72fe-4295-8bcf-d87f824dcbf6",
   "metadata": {},
   "source": [
    "**Khởi tạo `venv`**\n",
    "\n",
    "```bash\n",
    "python -m venv </path/to/new/virtual/environment>\n",
    "```\n",
    "\n",
    "- Để khởi tạo `venv` với môi trường python cụ thể nào đó, ta cần cài python version đó trước khi khởi tạo môi trường mới\n",
    "\n",
    "```bash\n",
    "# Window: Cài đặt python@3.9 trước\n",
    "python3.9 -m venv new_env\n",
    "\n",
    "# Ubuntu\n",
    "sudo apt update\n",
    "sudo apt install python3.9\n",
    "python3.9 -m venv new_env\n",
    "\n",
    "# Macos\n",
    "brew install python@3.9\n",
    "python3.9 -m venv new_env\n",
    "```\n"
   ]
  },
  {
   "cell_type": "markdown",
   "id": "7714ed01-c77f-4859-a328-d4bd8ea7086f",
   "metadata": {},
   "source": [
    "**Activate môi trường**\n",
    "\n",
    "```bash\n",
    "# Window\n",
    ".\\new_env\\Scripts\\activate\n",
    "\n",
    "# Linux/MacOS\n",
    "source new_env/bin/activate\n",
    "```"
   ]
  },
  {
   "cell_type": "markdown",
   "id": "de91951c-6f3b-4444-83e1-7c00735bcdc6",
   "metadata": {},
   "source": [
    "**Deactivate**\n",
    "\n",
    "```bash\n",
    "deactivate\n",
    "```\n",
    "\n",
    "**List vent**\n",
    "\n",
    "```bash\n",
    "deactivate\n",
    "```"
   ]
  },
  {
   "cell_type": "markdown",
   "id": "94dd59fe-63a0-4979-a276-3b27ba69bd76",
   "metadata": {},
   "source": [
    "## Conda environment"
   ]
  },
  {
   "cell_type": "markdown",
   "id": "667be6d3-e188-45b5-9a33-dcb973a4fbeb",
   "metadata": {
    "jp-MarkdownHeadingCollapsed": true
   },
   "source": [
    "**1. Tạo môi trường** \n",
    "\n",
    "```bash\n",
    "conda create -n <env_name> python=<python_version>\n",
    "```\n",
    "\n",
    "Hoặc tạo môi trường từ `environment.yaml`\n",
    "\n",
    "```bash\n",
    "conda env create -f environment.yml\n",
    "```\n",
    "\n",
    "Thông thường môi trường sẽ được tạo trong `~/anaconda3/envs/` hoặc `~/miniconda3/envs/` chứ không lưu trữ trực tiếp tại project directory. Nếu muốn lưu trữ trực tiếp tại project\n",
    "```bash\n",
    "conda create --prefix ./env_name\n",
    "```\n",
    "\n",
    "**2. Activate**\n",
    "\n",
    "```bash\n",
    "conda activate <env_name>\n",
    "```\n",
    ">Lúc này bạn sẽ thấy có “env_name” ở đầu command\n",
    "\n",
    "**3. Deactivate**\n",
    "\n",
    "```bash\n",
    "conda deactivate\n",
    "```\n",
    "\n",
    "**4. Để liệt kê các environments đã được cài đặt**\n",
    "```bash\n",
    "conda env list\n",
    "```\n",
    "\n",
    "**5. Để liệt kê danh sách packages cũng như version tương ứng**\n",
    "```bash\n",
    "conda list\n",
    "```\n",
    "\n",
    "**6. Để cài đặt một package**\n",
    "```bash\n",
    "conda install <package_name>\n",
    "# hoặc \n",
    "conda install <package_name>==<version>\n",
    "```\n",
    "\n",
    "**7. Update package**\n",
    "```bash\n",
    "conda update <package_name>\n",
    "```\n",
    "\n",
    "**8. Loại bỏ packages trong một môi trường bất kì**\n",
    "```bash\n",
    "conda remove -n <name_env> <name_package>\n",
    "```\n",
    "\n",
    "**9. Loại bỏ packages trong môi trường hiện tại**\n",
    "```bash\n",
    "conda remove <name_package>\n",
    "```"
   ]
  },
  {
   "cell_type": "markdown",
   "id": "d1991f94-b749-4463-a056-9fa4da936497",
   "metadata": {},
   "source": [
    "**10. Export environment**\n",
    "\n",
    "```bash\n",
    "conda env export > environment.yml\n",
    "```\n",
    "\n",
    "It should yield the following file:\n",
    "\n",
    "```yaml\n",
    "name: conda_tutorial\n",
    "channels:\n",
    "  - defaults\n",
    "dependencies:\n",
    "  - ca-certificates=2022.4.26=hecd8cb5_0\n",
    "  - certifi=2021.10.8=py39hecd8cb5_2\n",
    "  - libcxx=12.0.0=h2f01273_0\n",
    "  - libffi=3.3=hb1e8313_2\n",
    "  - ncurses=6.3=hca72f7f_2\n",
    "  - openssl=1.1.1n=hca72f7f_0\n",
    "  - pip=21.2.4=py39hecd8cb5_0\n",
    "prefix: /Users/vatsalpatel/anaconda3/envs/conda_tutorial\n",
    "```\n",
    "\n",
    "> Sau đó có thể tạo môi trường từ file yaml\n",
    "\n",
    "```bash\n",
    "conda env create -f environment.yml\n",
    "```"
   ]
  },
  {
   "cell_type": "markdown",
   "id": "52673796-0d9a-4723-9bb2-f56545a7d518",
   "metadata": {},
   "source": [
    "**11. Clone environment**\n",
    "```bash\n",
    "conda create --name <clone_name> --clone <existing_env_name>\n",
    "```\n",
    "\n",
    "**12. Delete environment**\n",
    "```bash\n",
    "conda remove --name <env_name> --all\n",
    "```"
   ]
  },
  {
   "cell_type": "markdown",
   "id": "b6a3a07f-72c0-43fa-b28b-f0b5517b91b3",
   "metadata": {},
   "source": [
    "## pip\n",
    "\n",
    "`Pip` được sử dụng để quản lý thư viện được sử dụng trong cả `venv` và `conda`, tuy nhiên trong `conda` nên ưu tiên sử dụng **conda native** để cài đặt thư viện nếu có thể để tránh xung đột\n",
    "\n",
    "**1. Cài đặt thư viện**\n",
    "```bash\n",
    "pip install <package_name>\n",
    "# hoặc \n",
    "pip install <package_name>==<version>\n",
    "```\n",
    "\n",
    "**2. Upgrade thư viện**\n",
    "```bash\n",
    "pip install --upgrade <package_name>\n",
    "```\n",
    "\n",
    "**3. Xóa thư viện**\n",
    "```bash\n",
    "pip uninstall <package_name>\n",
    "```\n",
    "\n",
    "**4. Get info thư viện**\n",
    "```bash\n",
    "pip show <package_name>\n",
    "```\n",
    "\n",
    "**5. Để liệt kê danh sách packages cũng như version tương ứng**\n",
    "```bash\n",
    "pip list\n",
    "```\n",
    "\n",
    "**6. Export requirements.txt**\n",
    "```bash\n",
    "pip freeze > requirements.txt\n",
    "```\n",
    "\n",
    "**7. Install from requirements.txt**\n",
    "```bash\n",
    "pip install -r requirements.txt\n",
    "```"
   ]
  },
  {
   "cell_type": "markdown",
   "id": "0a24d551",
   "metadata": {},
   "source": [
    "## Environment Variable"
   ]
  },
  {
   "cell_type": "markdown",
   "id": "de9bd4d0",
   "metadata": {},
   "source": [
    "### Create & use Env Vars"
   ]
  },
  {
   "cell_type": "markdown",
   "id": "e908e3dc",
   "metadata": {},
   "source": [
    "**In macOS | Linux | Bash**\n",
    "\n",
    "```bash\n",
    "# You could create an env var MY_NAME with\n",
    "export MY_NAME=\"Wade Wilson\"\n",
    "\n",
    "# Then you could use it with other programs, like\n",
    "echo \"Hello $MY_NAME\"\n",
    "\n",
    "Hello Wade Wilson\n",
    "```"
   ]
  },
  {
   "cell_type": "markdown",
   "id": "3cd6c16f",
   "metadata": {},
   "source": [
    "### Read env vars in Python\n",
    "\n",
    "**In python file** `main.py` : \n",
    "\n",
    "```python\n",
    "import os\n",
    "\n",
    "name = os.getenv(\"MY_NAME\", \"World\")\n",
    "print(f\"Hello {name} from Python\")\n",
    "```\n",
    "\n",
    "**Run in bash**\n",
    "```bash\n",
    "💬 Create an env var MY_NAME in line for this program call\n",
    "MY_NAME=\"Wade Wilson\" python main.py\n",
    "\n",
    "💬 Now it can read the environment variable\n",
    "\n",
    "Hello Wade Wilson from Python\n",
    "\n",
    "💬 The env var no longer exists afterwards\n",
    "python main.py\n",
    "\n",
    "Hello World from Python\n",
    "```"
   ]
  },
  {
   "cell_type": "markdown",
   "id": "b716f565",
   "metadata": {},
   "source": []
  }
 ],
 "metadata": {
  "kernelspec": {
   "display_name": "Python 3 (ipykernel)",
   "language": "python",
   "name": "python3"
  },
  "language_info": {
   "codemirror_mode": {
    "name": "ipython",
    "version": 3
   },
   "file_extension": ".py",
   "mimetype": "text/x-python",
   "name": "python",
   "nbconvert_exporter": "python",
   "pygments_lexer": "ipython3",
   "version": "3.11.9"
  }
 },
 "nbformat": 4,
 "nbformat_minor": 5
}
