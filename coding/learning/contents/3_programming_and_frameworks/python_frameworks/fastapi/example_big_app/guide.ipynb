{
 "cells": [
  {
   "cell_type": "markdown",
   "metadata": {},
   "source": [
    "# Example: Big Application with Multiple Files"
   ]
  },
  {
   "cell_type": "markdown",
   "metadata": {},
   "source": [
    "## File structure\n",
    "\n",
    "```bash\n",
    ".\n",
    "├── app                  # \"app\" is a Python package\n",
    "│   ├── __init__.py      # this file makes \"app\" a \"Python package\"\n",
    "│   ├── main.py          # \"main\" module, e.g. import app.main\n",
    "│   ├── dependencies.py  # \"dependencies\" module, e.g. import app.dependencies\n",
    "│   └── routers          # \"routers\" is a \"Python subpackage\"\n",
    "│   │   ├── __init__.py  # makes \"routers\" a \"Python subpackage\"\n",
    "│   │   ├── items.py     # \"items\" submodule, e.g. import app.routers.items\n",
    "│   │   └── users.py     # \"users\" submodule, e.g. import app.routers.users\n",
    "│   └── internal         # \"internal\" is a \"Python subpackage\"\n",
    "│       ├── __init__.py  # makes \"internal\" a \"Python subpackage\"\n",
    "│       └── admin.py     # \"admin\" submodule, e.g. import app.internal.admin\n",
    "```\n",
    "\n",
    "<img src = \"https://fastapi.tiangolo.com/img/tutorial/bigger-applications/package.svg\">"
   ]
  },
  {
   "cell_type": "markdown",
   "metadata": {},
   "source": [
    "## Routers\n",
    "\n",
    "Path operations related to your users/items separated from the rest of the code, to keep it organized. \n",
    "\n",
    "Create the path operations for that module using `APIRouter`"
   ]
  },
  {
   "cell_type": "markdown",
   "metadata": {},
   "source": [
    "**For users:** <Cách đơn giản>"
   ]
  },
  {
   "cell_type": "code",
   "execution_count": 3,
   "metadata": {},
   "outputs": [
    {
     "name": "stdout",
     "output_type": "stream",
     "text": [
      "Overwriting routers/users.py\n"
     ]
    }
   ],
   "source": [
    "%%writefile routers/users.py\n",
    "\n",
    "from fastapi import APIRouter\n",
    "\n",
    "router = APIRouter()\n",
    "\n",
    "\n",
    "@router.get(\"/users/\", tags=[\"users\"])\n",
    "async def read_users():\n",
    "    return [{\"username\": \"Rick\"}, {\"username\": \"Morty\"}]\n",
    "\n",
    "\n",
    "@router.get(\"/users/me\", tags=[\"users\"])\n",
    "async def read_user_me():\n",
    "    return {\"username\": \"fakecurrentuser\"}\n",
    "\n",
    "\n",
    "@router.get(\"/users/{username}\", tags=[\"users\"])\n",
    "async def read_user(username: str):\n",
    "    return {\"username\": username}"
   ]
  },
  {
   "cell_type": "markdown",
   "metadata": {},
   "source": [
    "**For items:** <Cách thông minh và add thêm config>\n",
    "\n",
    "Sử dụng config để có thể cài đặt tất cả các đặc điểm chung cho tất cả các `router` \n",
    "\n",
    "> Hoàn toàn có thể add more config (đặc điểm riêng) cho từng loại router bằng cách như bình thường (xem ví dụ phía dưới)"
   ]
  },
  {
   "cell_type": "code",
   "execution_count": 2,
   "metadata": {},
   "outputs": [
    {
     "name": "stdout",
     "output_type": "stream",
     "text": [
      "Writing routers/items.py\n"
     ]
    }
   ],
   "source": [
    "%%writefile routers/items.py\n",
    "\n",
    "from fastapi import APIRouter, Depends, HTTPException\n",
    "\n",
    "from dependencies import get_token_header\n",
    "\n",
    "router = APIRouter(\n",
    "    prefix=\"/items\", # tất cả các router khi chạy ở main đều có path đứng đầu là \"items\"\n",
    "    tags=[\"items\"], # tất cả các config đều có tag là items\n",
    "    dependencies=[Depends(get_token_header)], # Extra responses\n",
    "    responses={404: {\"description\": \"Not found\"}}, # they all need that X-Token dependency we created.\n",
    ")\n",
    "\n",
    "\n",
    "fake_items_db = {\"plumbus\": {\"name\": \"Plumbus\"}, \"gun\": {\"name\": \"Portal Gun\"}}\n",
    "\n",
    "\n",
    "@router.get(\"/\")\n",
    "async def read_items():\n",
    "    return fake_items_db\n",
    "\n",
    "\n",
    "@router.get(\"/{item_id}\")\n",
    "async def read_item(item_id: str):\n",
    "    if item_id not in fake_items_db:\n",
    "        raise HTTPException(status_code=404, detail=\"Item not found\")\n",
    "    return {\"name\": fake_items_db[item_id][\"name\"], \"item_id\": item_id}\n",
    "\n",
    "\n",
    "@router.put(\n",
    "    \"/{item_id}\",\n",
    "    tags=[\"custom\"], # add more tags\n",
    "    responses={403: {\"description\": \"Operation forbidden\"}}, # add more responses\n",
    ")\n",
    "async def update_item(item_id: str):\n",
    "    if item_id != \"plumbus\":\n",
    "        raise HTTPException(\n",
    "            status_code=403, detail=\"You can only update the item: plumbus\"\n",
    "        )\n",
    "    return {\"item_id\": item_id, \"name\": \"The great Plumbus\"}"
   ]
  },
  {
   "cell_type": "markdown",
   "metadata": {},
   "source": [
    "**For admin:** <Cách đơn giản>\n",
    "\n",
    "Tuy nhiên sẽ tuỳ chỉnh phần config của nhóm routers này khi import vào `main.py` thay vì config trực tiếp trong file code"
   ]
  },
  {
   "cell_type": "code",
   "execution_count": 5,
   "metadata": {},
   "outputs": [
    {
     "name": "stdout",
     "output_type": "stream",
     "text": [
      "Writing internal/admin.py\n"
     ]
    }
   ],
   "source": [
    "%%writefile internal/admin.py\n",
    "from fastapi import APIRouter\n",
    "\n",
    "router = APIRouter()\n",
    "\n",
    "\n",
    "@router.post(\"/\")\n",
    "async def update_admin():\n",
    "    return {\"message\": \"Admin getting schwifty\"}"
   ]
  },
  {
   "cell_type": "markdown",
   "metadata": {},
   "source": [
    "## Dependencies\n",
    "\n",
    "Use a simple dependency to read a custom `X-Token` header"
   ]
  },
  {
   "cell_type": "code",
   "execution_count": 3,
   "metadata": {},
   "outputs": [
    {
     "name": "stdout",
     "output_type": "stream",
     "text": [
      "Overwriting dependencies.py\n"
     ]
    }
   ],
   "source": [
    "%%writefile dependencies.py\n",
    "\n",
    "from typing import Annotated\n",
    "\n",
    "from fastapi import Header, HTTPException\n",
    "\n",
    "\n",
    "async def get_token_header(x_token: Annotated[str, Header()]):\n",
    "    if x_token != \"fake-super-secret-token\":\n",
    "        raise HTTPException(status_code=400, detail=\"X-Token header invalid\")\n",
    "\n",
    "\n",
    "async def get_query_token(token: str):\n",
    "    if token != \"jessica\":\n",
    "        raise HTTPException(status_code=400, detail=\"No Jessica token provided\")"
   ]
  },
  {
   "cell_type": "markdown",
   "metadata": {},
   "source": [
    "## Main app\n",
    "\n",
    "- Thay vì config routers trong file code của router đó, thì config router khi add router vào `app` chính"
   ]
  },
  {
   "cell_type": "code",
   "execution_count": 1,
   "metadata": {},
   "outputs": [
    {
     "name": "stdout",
     "output_type": "stream",
     "text": [
      "Overwriting main.py\n"
     ]
    }
   ],
   "source": [
    "%%writefile main.py\n",
    "from fastapi import Depends, FastAPI\n",
    "\n",
    "from dependencies import get_query_token, get_token_header\n",
    "from internal import admin\n",
    "from routers import items, users\n",
    "\n",
    "app = FastAPI(dependencies=[Depends(get_query_token)])\n",
    "\n",
    "\n",
    "app.include_router(users.router)\n",
    "app.include_router(items.router)\n",
    "\n",
    "# config routers when add to app in main \n",
    "app.include_router(\n",
    "    admin.router,\n",
    "    prefix=\"/admin\",\n",
    "    tags=[\"admin\"],\n",
    "    dependencies=[Depends(get_token_header)],\n",
    "    responses={418: {\"description\": \"I'm a teapot\"}},\n",
    ")\n",
    "\n",
    "\n",
    "@app.get(\"/\")\n",
    "async def root():\n",
    "    return {\"message\": \"Hello Bigger Applications!\"}"
   ]
  },
  {
   "cell_type": "markdown",
   "metadata": {},
   "source": [
    "## Run app\n",
    "\n",
    "**Run in dev:** `fastapi dev main.py`\n",
    "\n",
    "**Run in prod:** `fastapi run main.py`"
   ]
  }
 ],
 "metadata": {
  "kernelspec": {
   "display_name": "base",
   "language": "python",
   "name": "python3"
  },
  "language_info": {
   "codemirror_mode": {
    "name": "ipython",
    "version": 3
   },
   "file_extension": ".py",
   "mimetype": "text/x-python",
   "name": "python",
   "nbconvert_exporter": "python",
   "pygments_lexer": "ipython3",
   "version": "3.11.9"
  }
 },
 "nbformat": 4,
 "nbformat_minor": 2
}
