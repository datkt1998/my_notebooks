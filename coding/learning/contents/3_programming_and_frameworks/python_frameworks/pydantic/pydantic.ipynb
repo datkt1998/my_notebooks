{
 "cells": [
  {
   "cell_type": "markdown",
   "metadata": {},
   "source": [
    "# Pydantic\n",
    "\n",
    "Pydantic là một thư viện mạnh mẽ cho việc xác thực dữ liệu và quản lý thiết lập cấu trúc dữ liệu và đối tượng."
   ]
  },
  {
   "cell_type": "markdown",
   "metadata": {},
   "source": [
    "## Python type hint\n",
    "\n",
    "Về cơ bản, các ngôn ngữ lập trình được chia làm 2 loại là **Statically typed** và **Dynamically typed**\n",
    "- **Statically typed**: khi lập trình, ta phải khai báo kiểu của biến một cách tường minh, kiểu dữ liệu của chúng phải được biết tại thời điểm biên dịch (compile time)\n",
    "-  **Dynamically typed**: kiểu của biến được liên kết với giá trị tại thời điểm chạy (run time), không cần khai báo kiểu của một biến khi lập trình, nó sẽ tự động ép kiểu khi nhận được giá trị. \n",
    "\n",
    "Python thuộc kiểu ***Dynamically typed***. Mục đích của **type hint** là cung cấp một cú pháp tiêu chuẩn cho chú thích kiểu của dữ liệu đầu vào và đầu ra. Type hint giúp thông báo tới người đọc và IDEs về các kiểu dữ liệu mong đợi. Điều này thì được khuyến khích chứ không bắt buộc.\n",
    "\n",
    "Và vì nó là **type hint**, nên nếu trong quá trình chạy pipeline mà kiểu dữ liệu không đúng theo định đạng nhưng ko gây ra error thì code vẫn được chấp nhận\n"
   ]
  },
  {
   "cell_type": "code",
   "execution_count": 1,
   "metadata": {},
   "outputs": [
    {
     "data": {
      "text/plain": [
       "'ab'"
      ]
     },
     "execution_count": 1,
     "metadata": {},
     "output_type": "execute_result"
    }
   ],
   "source": [
    "def add(a: int, b: int) -> int:\n",
    "    return a + b\n",
    "\n",
    "\n",
    "add(1, 2)  # đúng\n",
    "\n",
    "\n",
    "add(0.2, 1)  # sai kiểu dữ liệu nhưng run code không lỗi --> đúng\n",
    "\n",
    "\n",
    "add(\"a\", \"b\")  # sai kiểu dữ liệu nhưng run code không lỗi --> đúng\n"
   ]
  },
  {
   "cell_type": "markdown",
   "metadata": {},
   "source": [
    "## Định nghĩa data-type\n",
    "\n",
    "Là định nghĩa kiểu dữ liệu cần validate, đây là xác định kiểu dữ liệu cho bước **Pydantic internal validation**, khi đó dữ liệu cận phải map đúng với kiểu hoặc sau khi ép kiểu (ví dụ từ str -> int nếu được) thì dữ liệu sau khi ép kiểu sẽ phải đúng với datatype đã khai báo."
   ]
  },
  {
   "cell_type": "code",
   "execution_count": 22,
   "metadata": {},
   "outputs": [],
   "source": [
    "def add(\n",
    "    a: int,\n",
    "    b: int,\n",
    "    c: bool,\n",
    "    d: float,\n",
    "    e: list,\n",
    "    f: dict,\n",
    "    g: set,\n",
    "    h: list[str],  # each item in list is string\n",
    "    i: tuple[\n",
    "        int, str, float\n",
    "    ],  # a tuple with 3 items, an int, another int, and a str\n",
    "    k: set[bytes],  #  a set, and each of its items is of type bytes\n",
    "    l: dict[str, float],  # a dict with key is string and value is float\n",
    "    m: str | int,  # a value type is string or integer\n",
    "    n: str | None,  # string or None\n",
    ") -> int:\n",
    "    return int(a) + b\n"
   ]
  },
  {
   "cell_type": "markdown",
   "metadata": {},
   "source": [
    "## Định nghĩa data-value (metadata) - Field\n",
    "\n",
    "`Field` được sử dụng để thêm metadata cho dữ liệu gốc, thường sử dụng kết hợp với `Annotated` để thêm phần ghi chú `Field` cho datatype gốc\n",
    "\n",
    "**`Field`**:\n",
    "\n",
    "- `default` : default value\n",
    "- `alias` : đặt biệt danh cho trường thông tin khác với tên trong trường dữ liệu được xác thực\n",
    "- `validation_alias` : đặt biệt danh cho trường thông tin giống `alias` nhưng chỉ sử dụng only for validation\n",
    "- `serialization_alias` được sử dụng khi tên trường nội bộ của mô hình giống `alias`, nhưng không nhất thiết phải là tên bạn muốn sử dụng khi tuần tự hóa mô hình\n",
    "- `strict`: cho phép được sử dụng trong **strict mode** = không được phép ép kiểu ? (xem bảng bảng tham chiếu ep kiểu [table](https://docs.pydantic.dev/latest/concepts/conversion_table/))\n",
    "- `exclude` : can be used to control which fields should be excluded from the model when exporting the model\n",
    "\n",
    "Các trường không được tính đến trong định nghĩa mô hình sẽ không được phân tích."
   ]
  },
  {
   "cell_type": "code",
   "execution_count": 26,
   "metadata": {},
   "outputs": [
    {
     "name": "stdout",
     "output_type": "stream",
     "text": [
      "3 validation errors for process_payload\n",
      "url\n",
      "  URL scheme should be 'http' or 'https' [type=url_scheme, input_value='httpss://example.com', input_type=str]\n",
      "    For further information visit https://errors.pydantic.dev/2.7/v/url_scheme\n",
      "name\n",
      "  String should have at least 2 characters [type=string_too_short, input_value='A', input_type=str]\n",
      "    For further information visit https://errors.pydantic.dev/2.7/v/string_too_short\n",
      "birth_date\n",
      "  Date should be in the past [type=date_past, input_value='2024-12-12', input_type=str]\n",
      "    For further information visit https://errors.pydantic.dev/2.7/v/date_past\n"
     ]
    }
   ],
   "source": [
    "from pydantic import HttpUrl, PastDate\n",
    "from pydantic import Field\n",
    "from pydantic import validate_call\n",
    "from typing import Annotated\n",
    "from uuid import uuid4\n",
    "\n",
    "\n",
    "@validate_call(validate_return=True)\n",
    "def process_payload(\n",
    "    url: HttpUrl,  # là dạng url hyperlink\n",
    "    name: Annotated[\n",
    "        str, Field(min_length=2, max_length=15)\n",
    "    ],  # string có độ dài ký tự là 2 --> 15\n",
    "    birth_date: PastDate,  # là date nhưng là giá trị quá khứ\n",
    "    id: str = Field(\n",
    "        default_factory=lambda: uuid4().hex\n",
    "    ),  # sử dụng trực tiếp Field\n",
    ") -> str:\n",
    "    return url, name, birth_date, id\n",
    "\n",
    "\n",
    "payload = {\n",
    "    \"url\": \"httpss://example.com\",\n",
    "    \"name\": \"A\",\n",
    "    \"birth_date\": \"2024-12-12\",\n",
    "    \"id\": \"100017727\",\n",
    "}\n",
    "try:\n",
    "    process_payload(**payload)\n",
    "except Exception as e:\n",
    "    print(e)"
   ]
  },
  {
   "cell_type": "markdown",
   "metadata": {},
   "source": [
    "### tham số cho Numeric\n",
    "- `gt` : greater than\n",
    "- `lt` : less than\n",
    "- `ge` : greater than or equal to\n",
    "- `le` : less than or equal to\n",
    "- `multiple_of` : a multiple of the given number\n",
    "- `allow_inf_nan` : allow 'inf', '-inf', 'nan' values\n"
   ]
  },
  {
   "cell_type": "code",
   "execution_count": null,
   "metadata": {},
   "outputs": [],
   "source": [
    "from pydantic import BaseModel, Field\n",
    "\n",
    "\n",
    "class Foo(BaseModel):\n",
    "    positive: int = Field(gt=0)\n",
    "    non_negative: int = Field(ge=0)\n",
    "    negative: int = Field(lt=0)\n",
    "    non_positive: int = Field(le=0)\n",
    "    even: int = Field(multiple_of=2)\n",
    "    love_for_pydantic: float = Field(allow_inf_nan=True)"
   ]
  },
  {
   "cell_type": "markdown",
   "metadata": {},
   "source": [
    "### tham số cho Decimal\n",
    "- `max_digits` : Maximum number of digits within the Decimal. It does not include a zero before the decimal point or trailing decimal zeroes.\n",
    "- `decimal_places` : Maximum number of decimal places allowed. It does not include trailing decimal zeroes.\n"
   ]
  },
  {
   "cell_type": "code",
   "execution_count": 28,
   "metadata": {},
   "outputs": [
    {
     "name": "stdout",
     "output_type": "stream",
     "text": [
      "precise=Decimal('123.45')\n"
     ]
    }
   ],
   "source": [
    "from decimal import Decimal\n",
    "from pydantic import BaseModel, Field\n",
    "\n",
    "\n",
    "class Foo(BaseModel):\n",
    "    precise: Decimal = Field(max_digits=5, decimal_places=2)\n",
    "\n",
    "\n",
    "foo = Foo(precise=Decimal(\"123.45\"))\n",
    "print(foo)\n",
    "# > precise=Decimal('123.45')"
   ]
  },
  {
   "cell_type": "markdown",
   "metadata": {},
   "source": [
    "### tham số cho String\n",
    "- `min_length` : Minimum length of the string.\n",
    "- `max_length` : Maximum length of the string.\n",
    "- `pattern` : A regular expression that the string must match."
   ]
  },
  {
   "cell_type": "code",
   "execution_count": 27,
   "metadata": {},
   "outputs": [
    {
     "name": "stdout",
     "output_type": "stream",
     "text": [
      "short='foo' long='foobarbaz' regex='123'\n"
     ]
    }
   ],
   "source": [
    "from pydantic import BaseModel, Field\n",
    "\n",
    "\n",
    "class Foo(BaseModel):\n",
    "    short: str = Field(min_length=3)\n",
    "    long: str = Field(max_length=10)\n",
    "    regex: str = Field(pattern=r\"^\\d*$\")\n",
    "\n",
    "\n",
    "foo = Foo(short=\"foo\", long=\"foobarbaz\", regex=\"123\")\n",
    "print(foo)"
   ]
  },
  {
   "cell_type": "markdown",
   "metadata": {},
   "source": [
    "### tham số cho Dataclass\n",
    "\n",
    "- `init`: Whether the field should be included in the __init__ of the dataclass.\n",
    "- `init_var`: Whether the field should be seen as an init-only field in the dataclass.\n",
    "- `kw_only`: Whether the field should be a keyword-only argument in the constructor of the dataclass."
   ]
  },
  {
   "cell_type": "code",
   "execution_count": null,
   "metadata": {},
   "outputs": [],
   "source": [
    "from pydantic import BaseModel, Field\n",
    "from pydantic.dataclasses import dataclass\n",
    "\n",
    "\n",
    "@dataclass\n",
    "class Foo:\n",
    "    bar: str\n",
    "    baz: str = Field(\n",
    "        init_var=True\n",
    "    )  # not included in the model_dump() output, since it is an init-only field.\n",
    "    qux: str = Field(kw_only=True)\n",
    "\n",
    "\n",
    "class Model(BaseModel):\n",
    "    foo: Foo\n",
    "\n",
    "\n",
    "model = Model(foo=Foo(\"bar\", baz=\"baz\", qux=\"qux\"))"
   ]
  },
  {
   "cell_type": "markdown",
   "metadata": {},
   "source": [
    "### tham số cho Discriminator: phân loại\n",
    "\n",
    "- `discriminator` : sử dụng khi muốn control giá trị theo 1 attribute từ 1 số class nào đó"
   ]
  },
  {
   "cell_type": "code",
   "execution_count": 29,
   "metadata": {},
   "outputs": [],
   "source": [
    "from typing import Literal\n",
    "\n",
    "from pydantic import BaseModel, Field\n",
    "\n",
    "\n",
    "class Cat(BaseModel):\n",
    "    pet_type: Literal[\"cat\"]\n",
    "    age: int\n",
    "\n",
    "\n",
    "class Dog(BaseModel):\n",
    "    pet_type: Literal[\"dog\"]\n",
    "    age: int\n",
    "\n",
    "\n",
    "class Model(BaseModel):\n",
    "    # pet chỉ nhật được trong các giá trị là 'cat' hoặc 'dog' là attribute pet_type của các class định nghĩa\n",
    "    pet: Cat | Dog = Field(discriminator=\"pet_type\")"
   ]
  },
  {
   "cell_type": "markdown",
   "metadata": {},
   "source": [
    "### tham số cho property (class)\n",
    "\n",
    "Sử dụng `property` trong `class` thường được sử dụng khi tính toán 1 trường thông tin từ các trường khác hoặc việc tính toán trở nên phức tạp hoặc tốn nhiều chi phí, do đó các attribute này thường được tính khi call hoặc khi cần.\n",
    "\n",
    "- `computed_field` áp dụng cho các atrribute trong class được tính toán theo `property` nhưng vẫn đảm bảo sẽ không tính toán các attribute này cho đến khi được call\n"
   ]
  },
  {
   "cell_type": "code",
   "execution_count": 42,
   "metadata": {},
   "outputs": [],
   "source": [
    "from pydantic import BaseModel, computed_field\n",
    "\n",
    "\n",
    "class Box(BaseModel):\n",
    "    width: float\n",
    "    height: float\n",
    "    depth: float\n",
    "\n",
    "    @computed_field\n",
    "    @property  # attribute này sẽ không được tính toán cho đến khi call\n",
    "    def volume(self) -> float:\n",
    "        print(\"đã chạy dòng code tính attribute volume\")\n",
    "        return self.width * self.height * self.depth\n",
    "\n",
    "\n",
    "b = Box(width=1, height=2, depth=3)"
   ]
  },
  {
   "cell_type": "markdown",
   "metadata": {},
   "source": [
    "`volume` vẫn được validate datatype khi được call"
   ]
  },
  {
   "cell_type": "code",
   "execution_count": 43,
   "metadata": {},
   "outputs": [
    {
     "name": "stdout",
     "output_type": "stream",
     "text": [
      "đã chạy dòng code tính attribute volume\n",
      "{'width': 1.0, 'height': 2.0, 'depth': 3.0, 'volume': 6.0}\n"
     ]
    }
   ],
   "source": [
    "print(b.model_dump())"
   ]
  },
  {
   "cell_type": "markdown",
   "metadata": {},
   "source": [
    "## Validation for function (`def`) - `validate_call`\n",
    "\n",
    "`validate_call` để xác thực các lần gọi hàm dựa trên type hint và chú thích (annotations)\n",
    "- Pydantic được sử dụng để đảm bảo dữ liệu bạn truyền vào mỗi lần gọi hàm tuân theo các kiểu dữ liệu mong đợi (type hints).\n",
    "- Pydantic sẽ cố gắng hiểu ý của bạn và sử dụng ép kiểu (type coercion). Điều này có thể dẫn đến việc các giá trị string được truyền vào lần gọi hàm bị chuyển đổi ngầm thành kiểu dữ liệu mong đợi.\n",
    "    > Ép kiểu không phải lúc nào cũng khả thi, và trong trường hợp đó, `ValidationError` sẽ được phát sinh."
   ]
  },
  {
   "cell_type": "code",
   "execution_count": 11,
   "metadata": {},
   "outputs": [
    {
     "data": {
      "text/plain": [
       "5"
      ]
     },
     "execution_count": 11,
     "metadata": {},
     "output_type": "execute_result"
    }
   ],
   "source": [
    "import pydantic\n",
    "\n",
    "@pydantic.validate_call\n",
    "def add(a: int, b: int) -> int:\n",
    "    return a + b\n",
    "\n",
    "\n",
    "add(2, 3)"
   ]
  },
  {
   "cell_type": "markdown",
   "metadata": {},
   "source": [
    "báo lỗi khi sai kiểu dữ liệu input"
   ]
  },
  {
   "cell_type": "code",
   "execution_count": null,
   "metadata": {},
   "outputs": [],
   "source": [
    "add(\"a\", 3)"
   ]
  },
  {
   "cell_type": "markdown",
   "metadata": {},
   "source": [
    "> ValidationError: 1 validation error for add 0\n",
    "> \n",
    ">   Input should be a valid integer, unable to parse string as an integer [type=int_parsing, input_value='a', input_type=str]\n",
    ">    For further information visit https://errors.pydantic.dev/2.7/v/int_parsing"
   ]
  },
  {
   "cell_type": "markdown",
   "metadata": {},
   "source": [
    " sẽ đúng nếu ép kiểu thành công"
   ]
  },
  {
   "cell_type": "code",
   "execution_count": 6,
   "metadata": {},
   "outputs": [
    {
     "data": {
      "text/plain": [
       "6"
      ]
     },
     "execution_count": 6,
     "metadata": {},
     "output_type": "execute_result"
    }
   ],
   "source": [
    "add(\"3\", \"3\")"
   ]
  },
  {
   "cell_type": "markdown",
   "metadata": {},
   "source": [
    "Lỗi nếu ép kiểu từ float sang int mà giá trị bị thay đổi:\n",
    "- `3.0` --> int (**OKE**)\n",
    "- `0.3` --> int (**bị thay đổi**)"
   ]
  },
  {
   "cell_type": "code",
   "execution_count": null,
   "metadata": {},
   "outputs": [],
   "source": [
    "add(3.0, 0.3)"
   ]
  },
  {
   "cell_type": "markdown",
   "metadata": {},
   "source": [
    ">Input should be a valid integer, got a number with a fractional part [type=int_from_float, input_value=0.3, input_type=float]\n",
    ">    For further information visit https://errors.pydantic.dev/2.7/v/int_from_float"
   ]
  },
  {
   "cell_type": "markdown",
   "metadata": {},
   "source": [
    "`validate_return=True` nếu muốn validate giá trị trả về, (mặc định là `False`), phướng pháp ép kiểu cũng được áp dụng\n",
    "\n",
    "> ví dụ output của hàm định nghĩa là int, tuy nhiên output thực tế là string dạng int thì vẫn OKE"
   ]
  },
  {
   "cell_type": "code",
   "execution_count": 18,
   "metadata": {},
   "outputs": [
    {
     "data": {
      "text/plain": [
       "25"
      ]
     },
     "execution_count": 18,
     "metadata": {},
     "output_type": "execute_result"
    }
   ],
   "source": [
    "from pydantic import validate_call\n",
    "\n",
    "\n",
    "@validate_call(validate_return=True)\n",
    "def add(*args: int, a: int, b: int = 4) -> int:\n",
    "    return str(sum(args) + a + b)\n",
    "\n",
    "\n",
    "add(4, 3, 4, a=10)"
   ]
  },
  {
   "cell_type": "markdown",
   "metadata": {},
   "source": [
    "## Validation for class - `dataclass`\n",
    "\n",
    "Sử dụng decorator `pydantic.dataclasses.dataclass` nếu chỉ cần validate đơn giản và ưu tiên performance, áp dụng cho class"
   ]
  },
  {
   "cell_type": "markdown",
   "metadata": {},
   "source": [
    "## Validation for class - `BaseModel`\n",
    "\n",
    "Kế thừa từ `BaseModel`, chúng ta sử dụng một cơ chế ẩn để thực hiện việc **xác thực dữ liệu** nếu cần validate cả ***data-type*** và ***data-value***, **phân tích cú pháp**, và **tuần tự hóa**. \n",
    "\n",
    "--> Điều này cho phép chúng ta tạo ra các đối tượng phù hợp với các thông số của mô hình."
   ]
  },
  {
   "cell_type": "code",
   "execution_count": 45,
   "metadata": {},
   "outputs": [
    {
     "name": "stdout",
     "output_type": "stream",
     "text": [
      "name='john' age=20\n",
      "---------------------\n",
      "2 validation errors for Person\n",
      "name\n",
      "  String should have at least 2 characters [type=string_too_short, input_value='m', input_type=str]\n",
      "    For further information visit https://errors.pydantic.dev/2.7/v/string_too_short\n",
      "age\n",
      "  Input should be greater than 0 [type=greater_than, input_value=0, input_type=int]\n",
      "    For further information visit https://errors.pydantic.dev/2.7/v/greater_than\n"
     ]
    }
   ],
   "source": [
    "from pydantic import Field\n",
    "from pydantic import BaseModel\n",
    "from typing import Annotated\n",
    "\n",
    "\n",
    "class Person(BaseModel):\n",
    "    name: str = Field(min_length=2, max_length=15)\n",
    "\n",
    "    # cách khác sử dụng Annotated\n",
    "    age: Annotated[int, Field(default=1, ge=0, le=120)]\n",
    "\n",
    "\n",
    "# ----\n",
    "\n",
    "john = Person(name=\"john\", age=20)\n",
    "print(john)\n",
    "print(\"---------------------\")\n",
    "\n",
    "# ----\n",
    "try:\n",
    "    mike = Person(name=\"m\", age=0)\n",
    "except Exception as e:\n",
    "    print(e)"
   ]
  },
  {
   "cell_type": "markdown",
   "metadata": {},
   "source": [
    "### Các attributes và methods của `BaseModel`"
   ]
  },
  {
   "cell_type": "markdown",
   "metadata": {},
   "source": [
    "#### `model_validate()`: xác thực dữ liệu từ 1 object\n",
    "\n",
    "tương tụ như `__init__` method của model (khi tạo đối tượng bằng việc khai báo arguments class đó), thay vào đó là truyền vào `dict` hoặc object\n",
    "\n",
    "- **Chức năng**: Xác thực (validate) một đối tượng dựa trên mô hình Pydantic đã được định nghĩa. Nó kiểm tra dữ liệu có đúng kiểu và giá trị hay không dựa trên các quy tắc xác thực (validation rules) mà bạn đã định nghĩa trong mô hình.\n",
    "- **Ứng dụng**: Sử dụng khi bạn muốn đảm bảo rằng dữ liệu đầu vào của mình khớp với các yêu cầu của mô hình trước khi xử lý thêm."
   ]
  },
  {
   "cell_type": "code",
   "execution_count": 72,
   "metadata": {},
   "outputs": [
    {
     "data": {
      "text/plain": [
       "User(id=123, name='James', signup_ts=None)"
      ]
     },
     "execution_count": 72,
     "metadata": {},
     "output_type": "execute_result"
    }
   ],
   "source": [
    "from datetime import datetime\n",
    "from typing import Optional\n",
    "\n",
    "from pydantic import BaseModel, ValidationError\n",
    "\n",
    "\n",
    "class User(BaseModel):\n",
    "    id: int\n",
    "    name: str = \"John Doe\"\n",
    "    signup_ts: Optional[datetime] = None\n",
    "\n",
    "\n",
    "u = User.model_validate(\n",
    "    {\"id\": 123, \"name\": \"James\"}\n",
    ")  # --> return object of class\n",
    "u"
   ]
  },
  {
   "cell_type": "markdown",
   "metadata": {},
   "source": [
    "- `model_validate_json()`: this validates the provided data as a JSON string or bytes object. (nếu data đang dưới dạng `JSON` hoặc `bytes` thì cách này sẽ nhanh hơn)"
   ]
  },
  {
   "cell_type": "markdown",
   "metadata": {},
   "source": [
    "#### `model_construct()`: nhận dữ liệu bỏ qua validation\n",
    "\n",
    "This can be useful in at least a few cases:\n",
    "- data phức tạp được truyền vào nhưng đã biết được datatype, nên ko cần validate để đảm bảo performance\n",
    "- khi đã có 1 số hàm validate phía trong và không cần trigger validate lại lần nữa"
   ]
  },
  {
   "cell_type": "code",
   "execution_count": 73,
   "metadata": {},
   "outputs": [
    {
     "data": {
      "text/plain": [
       "User(name='John Doe', signup_ts=None)"
      ]
     },
     "execution_count": 73,
     "metadata": {},
     "output_type": "execute_result"
    }
   ],
   "source": [
    "User.model_construct({\"id\": \"ạkshdajs\", \"name\": [1231231]})"
   ]
  },
  {
   "cell_type": "markdown",
   "metadata": {},
   "source": [
    "#### `model_dump()`: convert to dict\n",
    "\n",
    "- **Chức năng**: Trả về một từ điển chứa các trường (fields) và giá trị (values) tương ứng của mô hình.\n",
    "- **Ứng dụng**: Khi bạn muốn tuần tự hóa (serialize) mô hình thành một dạng dễ xử lý hơn, ví dụ như trước khi lưu vào cơ sở dữ liệu hoặc trả về qua API."
   ]
  },
  {
   "cell_type": "code",
   "execution_count": 74,
   "metadata": {},
   "outputs": [
    {
     "data": {
      "text/plain": [
       "{'id': 123, 'name': 'James', 'signup_ts': None}"
      ]
     },
     "execution_count": 74,
     "metadata": {},
     "output_type": "execute_result"
    }
   ],
   "source": [
    "u.model_dump()"
   ]
  },
  {
   "cell_type": "markdown",
   "metadata": {},
   "source": [
    "- `model_dump_json()`: Trả về chuỗi JSON đại diện cho dữ liệu của mô hình (thực chất là kết quả của model_dump() nhưng dưới dạng JSON)"
   ]
  },
  {
   "cell_type": "code",
   "execution_count": 75,
   "metadata": {},
   "outputs": [
    {
     "data": {
      "text/plain": [
       "'{\"id\":123,\"name\":\"James\",\"signup_ts\":null}'"
      ]
     },
     "execution_count": 75,
     "metadata": {},
     "output_type": "execute_result"
    }
   ],
   "source": [
    "u.model_dump_json()"
   ]
  },
  {
   "cell_type": "markdown",
   "metadata": {},
   "source": [
    "#### `model_copy()` : copy model\n",
    "- **Chức năng**: Trả về một bản sao của mô hình. \n",
    "  - Mặc định là `shallow copy` (bản sao nông, nghĩa là chỉ sao chép đối tượng gốc mà không sao chép sâu các thành phần con bên trong). \n",
    "  - Có thể chỉ định để tạo `deep copy` (bản sao sâu).\n",
    "- **Ứng dụng**: Khi bạn cần một bản sao của mô hình để thực hiện các thay đổi mà không làm ảnh hưởng đến bản gốc."
   ]
  },
  {
   "cell_type": "markdown",
   "metadata": {},
   "source": [
    "#### `model_json_schema()` : trả về dictionary of class\n",
    "- **Chức năng**: Trả về một từ điển có thể chuyển đổi thành JSON, đại diện cho lược đồ JSON (JSON Schema) của mô hình. JSON Schema cung cấp thông tin chi tiết về kiểu dữ liệu, các quy tắc xác thực, v.v.\n",
    "- **Ứng dụng**: Khi bạn cần cung cấp tài liệu cho API hoặc các dịch vụ khác về cấu trúc dữ liệu được mong đợi."
   ]
  },
  {
   "cell_type": "code",
   "execution_count": 76,
   "metadata": {},
   "outputs": [
    {
     "data": {
      "text/plain": [
       "{'properties': {'id': {'title': 'Id', 'type': 'integer'},\n",
       "  'name': {'default': 'John Doe', 'title': 'Name', 'type': 'string'},\n",
       "  'signup_ts': {'anyOf': [{'format': 'date-time', 'type': 'string'},\n",
       "    {'type': 'null'}],\n",
       "   'default': None,\n",
       "   'title': 'Signup Ts'}},\n",
       " 'required': ['id'],\n",
       " 'title': 'User',\n",
       " 'type': 'object'}"
      ]
     },
     "execution_count": 76,
     "metadata": {},
     "output_type": "execute_result"
    }
   ],
   "source": [
    "u.model_json_schema()"
   ]
  },
  {
   "cell_type": "markdown",
   "metadata": {},
   "source": [
    "#### `model_post_init()` : chạy hàm sau khi `__init__`\n",
    "- **Chức năng**: Phương thức này thực hiện các hành động bổ sung sau khi mô hình đã được khởi tạo (sau khi quá trình khởi tạo và xác thực hoàn tất).\n",
    "- **Ứng dụng**: Sử dụng để thực hiện các thao tác tùy chỉnh sau khi mô hình đã được khởi tạo, như tính toán thêm các giá trị dựa trên các trường đã xác định."
   ]
  },
  {
   "cell_type": "code",
   "execution_count": 89,
   "metadata": {},
   "outputs": [
    {
     "name": "stdout",
     "output_type": "stream",
     "text": [
      "AAAAAAAAA\n"
     ]
    }
   ],
   "source": [
    "class User(BaseModel):\n",
    "    id: int\n",
    "    name: str = \"John Doe\"\n",
    "    signup_ts: Optional[datetime] = None\n",
    "\n",
    "    def model_post_init(self, *args, **kwargs):\n",
    "        # Tính toán giá trị tổng sau khi mô hình đã được khởi tạo\n",
    "        print(\"AAAAAAAAA\")\n",
    "\n",
    "    @computed_field\n",
    "    @property\n",
    "    def name_id(self) -> str:\n",
    "        return f\"{self.name}-{self.id}\"\n",
    "\n",
    "\n",
    "u = User(id=123, name=\"James\")"
   ]
  },
  {
   "cell_type": "markdown",
   "metadata": {},
   "source": [
    "#### `model_fields` : trả về danh sách định nghĩa các field\n",
    "- **Chức năng**: Một ánh xạ (mapping) giữa tên trường (field names) và **các định nghĩa của chúng (FieldInfo instances)** (**not Value**). Mỗi trường trong mô hình đều có một định nghĩa riêng về kiểu dữ liệu và các quy tắc xác thực.\n",
    "- **Ứng dụng**: Sử dụng khi bạn cần truy cập hoặc kiểm tra thông tin về các trường trong mô hình (như kiểu dữ liệu, giá trị mặc định, v.v.).\n",
    "\n",
    "Chú ý:\n",
    "- trả về là định nghĩa field, chứ ko phải value\n",
    "- không bao gồm các `computed_fields` / `property`"
   ]
  },
  {
   "cell_type": "code",
   "execution_count": 90,
   "metadata": {},
   "outputs": [
    {
     "data": {
      "text/plain": [
       "{'id': FieldInfo(annotation=int, required=True),\n",
       " 'name': FieldInfo(annotation=str, required=False, default='John Doe'),\n",
       " 'signup_ts': FieldInfo(annotation=Union[datetime, NoneType], required=False, default=None)}"
      ]
     },
     "execution_count": 90,
     "metadata": {},
     "output_type": "execute_result"
    }
   ],
   "source": [
    "u.model_fields"
   ]
  },
  {
   "cell_type": "markdown",
   "metadata": {},
   "source": [
    "#### `model_computed_fields` : trả về danh sách định nghĩa các field được tính toán\n",
    "- **Chức năng**: Ánh xạ giữa tên các trường tính toán (computed field names) và các định nghĩa của chúng (ComputedFieldInfo instances). Các trường này không được cung cấp trực tiếp mà được tính toán dựa trên các trường khác.\n",
    "- **Ứng dụng**: Khi bạn muốn kiểm tra hoặc làm việc với các trường tính toán trong mô hình."
   ]
  },
  {
   "cell_type": "code",
   "execution_count": 91,
   "metadata": {},
   "outputs": [
    {
     "data": {
      "text/plain": [
       "{'name_id': ComputedFieldInfo(wrapped_property=<property object at 0x000001AFEC920CC0>, return_type=<class 'str'>, alias=None, alias_priority=None, title=None, description=None, deprecated=None, examples=None, json_schema_extra=None, repr=True)}"
      ]
     },
     "execution_count": 91,
     "metadata": {},
     "output_type": "execute_result"
    }
   ],
   "source": [
    "u.model_computed_fields"
   ]
  },
  {
   "cell_type": "markdown",
   "metadata": {},
   "source": [
    "#### `model_fields_set` : kiểm trả giá trị của trường được khia báo hay mặc định\n",
    "- **Chức năng**: Tập hợp các trường (fields) đã được cung cấp rõ ràng khi mô hình được khởi tạo, có nghĩa là danh sách các trường đã được truyền input vào thay vì lấy giá trị mặc định\n",
    "- **Ứng dụng**: Dùng để kiểm tra xem trường nào đã được gán giá trị ban đầu và trường nào có giá trị mặc định."
   ]
  },
  {
   "cell_type": "code",
   "execution_count": 94,
   "metadata": {},
   "outputs": [
    {
     "data": {
      "text/plain": [
       "{'id', 'name'}"
      ]
     },
     "execution_count": 94,
     "metadata": {},
     "output_type": "execute_result"
    }
   ],
   "source": [
    "u.model_fields_set"
   ]
  },
  {
   "cell_type": "markdown",
   "metadata": {},
   "source": [
    "#### `model_config`: thay đổi tính chất của class"
   ]
  },
  {
   "cell_type": "markdown",
   "metadata": {},
   "source": [
    "Sử dụng `ConfigDict` để sử đổi attribute `model_config` của class, từ đó sửa đổi các tính chất của class:\n",
    " - `use_enum_values=True` : khi call model lấy giá trị thì sẽ trả về value của model (`.value`) thay vì để dạng raw là `<LLMProviders.OPENAI: 'openai'>`"
   ]
  },
  {
   "cell_type": "code",
   "execution_count": null,
   "metadata": {},
   "outputs": [
    {
     "name": "stdout",
     "output_type": "stream",
     "text": [
      "req_id='test' text='This is a sample text.' instruction='embed' llm_provider=<LLMProviders.OPENAI: 'openai'> llm_params=LLMParams(temperature=0, llm_name='gpt4o')\n"
     ]
    }
   ],
   "source": [
    "from pydantic import Field\n",
    "from pydantic import BaseModel\n",
    "from pydantic import ConfigDict\n",
    "\n",
    "from typing import Literal\n",
    "from enum import Enum\n",
    "\n",
    "\n",
    "# định nghĩa LLMProviders là dạng string chỉ được nhận 1 trong các giá trị sau : openai, claude.\n",
    "# Thay vì sử dụng Literal định nghĩa trong attribute\n",
    "class LLMProviders(str, Enum):\n",
    "    OPENAI = \"openai\"\n",
    "    CLAUDE = \"claude\"\n",
    "\n",
    "\n",
    "class LLMParams(BaseModel):\n",
    "    temperature: int = Field(validation_alias=\"llm_temperature\", ge=0, le=1)\n",
    "    llm_name: str = Field(\n",
    "        validation_alias=\"llm_model_name\", serialization_alias=\"model\"\n",
    "    )\n",
    "\n",
    "\n",
    "class Payload(BaseModel):\n",
    "    req_id: str = Field(exclude=True, min_length=2, max_length=15)\n",
    "    text: str = Field(min_length=5)\n",
    "    instruction: Literal[\"embed\", \"chat\"]\n",
    "    llm_provider: LLMProviders\n",
    "    llm_params: LLMParams\n",
    "\n",
    "\n",
    "payload = {\n",
    "    \"req_id\": \"test\",\n",
    "    \"text\": \"This is a sample text.\",\n",
    "    \"instruction\": \"embed\",\n",
    "    \"llm_provider\": \"openai\",\n",
    "    \"misc\": \"what\",\n",
    "    \"llm_params\": {\"llm_temperature\": 0, \"llm_model_name\": \"gpt4o\"},\n",
    "}\n",
    "validated_payload = Payload(**payload)\n",
    "print(validated_payload)\n"
   ]
  },
  {
   "cell_type": "code",
   "execution_count": null,
   "metadata": {},
   "outputs": [
    {
     "data": {
      "text/plain": [
       "{'text': 'This is a sample text.',\n",
       " 'instruction': 'embed',\n",
       " 'llm_provider': <LLMProviders.OPENAI: 'openai'>,\n",
       " 'llm_params': {'temperature': 0, 'llm_name': 'gpt4o'}}"
      ]
     },
     "metadata": {},
     "output_type": "display_data"
    }
   ],
   "source": [
    "validated_payload.model_dump()"
   ]
  },
  {
   "cell_type": "code",
   "execution_count": null,
   "metadata": {},
   "outputs": [
    {
     "data": {
      "text/plain": [
       "{'text': 'This is a sample text.',\n",
       " 'instruction': 'embed',\n",
       " 'llm_provider': <LLMProviders.OPENAI: 'openai'>,\n",
       " 'llm_params': {'temperature': 0, 'model': 'gpt4o'}}"
      ]
     },
     "metadata": {},
     "output_type": "display_data"
    }
   ],
   "source": [
    "validated_payload.model_dump(by_alias=True)"
   ]
  },
  {
   "cell_type": "markdown",
   "metadata": {},
   "source": [
    "Tiến hành sửa lại `model_config` thông qua class `ConfigDict`"
   ]
  },
  {
   "cell_type": "code",
   "execution_count": null,
   "metadata": {},
   "outputs": [
    {
     "data": {
      "text/plain": [
       "{'text': 'This is a sample text.',\n",
       " 'instruction': 'embed',\n",
       " 'llm_provider': 'openai',\n",
       " 'llm_params': {'temperature': 0, 'model': 'gpt4o'}}"
      ]
     },
     "metadata": {},
     "output_type": "display_data"
    }
   ],
   "source": [
    "from pydantic import ConfigDict\n",
    "\n",
    "class Payload(BaseModel):\n",
    "    req_id: str = Field(exclude=True)\n",
    "    text: str = Field(min_length=5)\n",
    "    instruction: Literal[\"embed\", \"chat\"]\n",
    "    llm_provider: LLMProviders\n",
    "    llm_params: LLMParams\n",
    "\n",
    "    # thêm trường model_config\n",
    "    model_config = ConfigDict(use_enum_values=True)  # khi call sẽ trả ra class.value thay vì class: <LLMProviders.OPENAI: 'openai'> sẽ chuyển thành 'openai'\n",
    "\n",
    "\n",
    "validated_payload = Payload(**payload)\n",
    "validated_payload.model_dump(by_alias=True)"
   ]
  },
  {
   "cell_type": "markdown",
   "metadata": {},
   "source": [
    "### Các mode/loại validators\n",
    "\n",
    "có các loại validators sau:\n",
    "- (A): **Pydantic internal validation** | validate ***data-type***\n",
    "- (B): `Field` | validate ***data-value***\n",
    "- (C): `BeforeValidator`  | `mode = 'before'` \n",
    "- (D): `AfterValidator`  | `mode = 'after'` \n",
    "- (E): `PlainValidator`  | `mode = 'plain'`\n",
    "\n",
    "Thứ tự chạy các mode này được mô tả như sau:\n",
    "\n"
   ]
  },
  {
   "cell_type": "markdown",
   "metadata": {},
   "source": [
    "#### Phân loại các loại validators"
   ]
  },
  {
   "cell_type": "markdown",
   "metadata": {},
   "source": [
    "##### **Pydantic internal validation** | validate ***data-type***\n",
    "\n",
    "Sử dụng `type-hint` để định nghĩa data-type của dữ liệu sau khi chạy qua các validators mode = `before`, validator này thực hiện việc parsing và xử lý dữ liệu và xác thực `datatype`. Nếu dữ liệu khớp với ***data-type*** khai báo hoặc sau khi ép kiểu (chuyển `int` --> `str`) khớp với ***data-type*** khai báo thì sẽ `success` hoặc không thì báo `ValidationError`\n",
    "  - Loại validator này chạy sau khi chạy hết các mode = `before` hoặc không có bất cứ 1 mode = `plain` nào trong cả pipeline validation.\n",
    "  - Sau khi chạy xong validator này thì sẽ chạy đến các mode = `after`"
   ]
  },
  {
   "cell_type": "code",
   "execution_count": 154,
   "metadata": {},
   "outputs": [
    {
     "name": "stdout",
     "output_type": "stream",
     "text": [
      "1 validation error for MyModel\n",
      "number\n",
      "  Input should be a valid string [type=string_type, input_value=78.2981, input_type=float]\n",
      "    For further information visit https://errors.pydantic.dev/2.7/v/string_type\n"
     ]
    }
   ],
   "source": [
    "from pydantic import BaseModel\n",
    "\n",
    "class MyModel(BaseModel):\n",
    "    number: str  # (Pydantic internal validation)\n",
    "\n",
    "try:\n",
    "    MyModel(number=78.2981)\n",
    "except Exception as e:\n",
    "    print(e)"
   ]
  },
  {
   "cell_type": "markdown",
   "metadata": {},
   "source": [
    "##### `Field` | validate ***data-value***\n",
    "\n",
    "Sử dụng `Field` để định nghĩa giá trị data-value hợp lệ của dữ liệu sau khi chạy qua các validators khác (**chạy sau cùng**), validator này kiểm tra giá trị dữ liệu có hợp lệ với định nghĩa đã khai báo. Nếu ***data-value*** trong phạm vi cho phép với khai báo thì sẽ `success` hoặc không thì báo `ValidationError`\n",
    "  - Loại validator này chạy sau khi chạy hết các mode khác (`before`, validate `data-type`, `after`, `plain` `wrap`), nói chung là mode chạy sau cùng.\n",
    "  - Giữa các `Field` cùng khai báo trong pipeline: validator `Field` nào khai báo trước thì chạy trước, khai báo sau thì chạy sau (theo đúng thứ tự khai báo)"
   ]
  },
  {
   "cell_type": "code",
   "execution_count": 157,
   "metadata": {},
   "outputs": [
    {
     "name": "stdout",
     "output_type": "stream",
     "text": [
      "1 validation error for MyModel\n",
      "number\n",
      "  Input should be a multiple of 5 [type=multiple_of, input_value=8.0, input_type=float]\n",
      "    For further information visit https://errors.pydantic.dev/2.7/v/multiple_of\n"
     ]
    }
   ],
   "source": [
    "from pydantic import BaseModel, Field\n",
    "from typing import Annotated\n",
    "\n",
    "class MyModel(BaseModel):\n",
    "    number: Annotated[\n",
    "        int,                                  # run #1 : (Pydantic internal validation) chạy trước\n",
    "        Field(gt=0, lt=10),                   # run #2 : (Field) khai báo đầu tiên trong nhóm Field nên chạy sau khi validate data-type\n",
    "        Field(multiple_of=5)                  # run #3 : (Field) khai báo cuối cùng trong nhóm Field nên chạy cuối cùng của pipeline\n",
    "        ]\n",
    "try:\n",
    "    MyModel(number=8.0)\n",
    "except Exception as e:\n",
    "    print(e)\n"
   ]
  },
  {
   "cell_type": "markdown",
   "metadata": {},
   "source": [
    "##### `BeforeValidator`  | `mode = 'before'` \n",
    "\n",
    "Là việc ta sẽ tự định nghĩa các hàm phục vụ các mục đích xử lý dữ liêu tho đầu vào hoặc làm sạch và kiểm tra trước khi thực hiện validate ***data-type*** (**Pydantic internal validation**).\n",
    "  - Trong quá trình validate giữa nhiều bước cùng mode `before`, **validator nào đươc khai báo sau sẽ chạy trước, còn khai báo trước sẽ chạy sau (bị ngược thứ tự)**\n",
    "  - Trong quá trình validate giữa nhiều validators khác mode: mode `before` sẽ chạy đầu tiên cho tới khi gặp **Pydantic internal validation** hoặc mode = `plain`"
   ]
  },
  {
   "cell_type": "code",
   "execution_count": 160,
   "metadata": {},
   "outputs": [
    {
     "name": "stdout",
     "output_type": "stream",
     "text": [
      "str_to_float: Bỏ ký tự đầu tiên và chuyển thành float\n",
      "float_to_int_to_str: chuyển về int sau đó chuyển về string\n"
     ]
    },
    {
     "data": {
      "text/plain": [
       "MyModel(number=8)"
      ]
     },
     "execution_count": 160,
     "metadata": {},
     "output_type": "execute_result"
    }
   ],
   "source": [
    "\n",
    "from typing import Any\n",
    "from pydantic import BaseModel, BeforeValidator\n",
    "from typing import Annotated\n",
    "\n",
    "\n",
    "def str_to_float(v: Any) -> float:\n",
    "    print(\"str_to_float: Bỏ ký tự đầu tiên và chuyển thành float\")\n",
    "    v_rm0ind = v[1:]\n",
    "    return float(v_rm0ind)\n",
    "\n",
    "def float_to_int_to_str(v: float) -> str:\n",
    "    print(\"float_to_int_to_str: chuyển về int sau đó chuyển về string\")\n",
    "    assert v > 0, \"Value must be positive\"\n",
    "    return str(int(v))\n",
    "\n",
    "class MyModel(BaseModel):\n",
    "    number: Annotated[\n",
    "        int,                                  # run #3 : (Pydantic internal validation) run sau khi chạy hết các mode = 'before'\n",
    "        BeforeValidator(float_to_int_to_str), # run #2 : (mode 'before') khai báo mode = 'before' đầu tiên nên chạy cuối cùng trong các mode = 'before'\n",
    "        BeforeValidator(str_to_float),        # run #1 : (mode 'before') do khai báo mode = 'before' sau cùng nên chạy đầu tiên của pipeline\n",
    "        Field(gt=0, lt=100),                  # run #4 : (Field) khai báo đầu tiên trong nhóm Field nên chạy sau khi validate data-type\n",
    "        Field(multiple_of=4)                  # run #5 : (Field) khai báo cuối cùng trong nhóm Field nên chạy cuối cùng của pipeline\n",
    "        ]\n",
    "\n",
    "MyModel(number=\"78.2981\")"
   ]
  },
  {
   "cell_type": "markdown",
   "metadata": {},
   "source": [
    "##### `AfterValidator`  | `mode = 'after'` \n",
    "\n",
    "Là việc ta sẽ tự định nghĩa các hàm phục vụ các mục đích xử lý dữ liêu làm việc với dữ liệu đã được xác thực và chuyển đổi thành đúng kiểu dữ liệu mong muốn sau khi thực hiện validate bằng **Pydantic internal validation**.\n",
    "  - Trong quá trình validate giữa nhiều bước cùng mode `after`, **validator nào đươc khai báo trước sẽ chạy trước, còn khai báo sau sẽ chạy sau (theo đúng thứ tự khai báo)**\n",
    "  - Trong quá trình validate giữa nhiều validators khác mode: mode `after` sẽ chạy sau khi chạy **Pydantic internal validation** hoặc mode = `plain` và trước bước validate ***data-value*** (`Field`)"
   ]
  },
  {
   "cell_type": "code",
   "execution_count": 161,
   "metadata": {},
   "outputs": [
    {
     "name": "stdout",
     "output_type": "stream",
     "text": [
      "str_to_float: Bỏ ký tự đầu tiên và chuyển thành float\n",
      "float_to_int_to_str: chuyển về int sau đó chuyển về string\n",
      "double: int sau đó nhân đôi\n",
      "check_squares: kiểm tra xem có phải số chính phương\n"
     ]
    },
    {
     "data": {
      "text/plain": [
       "MyModel(number=36)"
      ]
     },
     "execution_count": 161,
     "metadata": {},
     "output_type": "execute_result"
    }
   ],
   "source": [
    "from typing import Any\n",
    "from pydantic import BaseModel, BeforeValidator, AfterValidator\n",
    "from typing import Annotated\n",
    "\n",
    "\n",
    "def str_to_float(v: Any) -> float:\n",
    "    print(\"str_to_float: Bỏ ký tự đầu tiên và chuyển thành float\")\n",
    "    v_rm0ind = v[1:]\n",
    "    return float(v_rm0ind)\n",
    "\n",
    "def float_to_int_to_str(v: float) -> str:\n",
    "    print(\"float_to_int_to_str: chuyển về int sau đó chuyển về string\")\n",
    "    assert v > 0, \"Value must be positive\"\n",
    "    return str(int(v))\n",
    "\n",
    "def double(v: Any) -> Any:\n",
    "    print(\"double: int sau đó nhân đôi\")\n",
    "    return (10 + v) * 2\n",
    "\n",
    "\n",
    "def check_squares(v: int) -> int:\n",
    "    print(\"check_squares: kiểm tra xem có phải số chính phương\")\n",
    "    assert v**0.5 % 1 == 0, f\"{v} is not a square number\"\n",
    "    return v\n",
    "\n",
    "class MyModel(BaseModel):\n",
    "    number: Annotated[\n",
    "        int,                                  # run #3 : (Pydantic internal validation) run sau khi chạy hết các mode = 'before'\n",
    "        BeforeValidator(float_to_int_to_str), # run #2 : (mode 'before') khai báo mode = 'before' đầu tiên nên chạy cuối cùng trong các mode = 'before'\n",
    "        BeforeValidator(str_to_float),        # run #1 : (mode 'before') do khai báo mode = 'before' sau cùng nên chạy đầu tiên của pipeline\n",
    "        AfterValidator(double),               # run #4 : (mode 'after') khai báo mode = 'after' đầu tiên nên chạy đầu tiên trong các mode = 'after' nhưng sau data-type\n",
    "        AfterValidator(check_squares),        # run #5 : (mode 'after') khai báo mode = 'after' cuôi cùng nên chạy cuối cùng trong các mode = 'after'\n",
    "        Field(gt=0, lt=100),                  # run #6 : (Field) khai báo đầu tiên trong nhóm Field nên chạy sau khi validators 'after'\n",
    "        Field(multiple_of=4)                  # run #7 : (Field) khai báo cuối cùng trong nhóm Field nên chạy cuối cùng của pipeline\n",
    "        ]\n",
    "\n",
    "MyModel(number=\"78.2981\")"
   ]
  },
  {
   "cell_type": "markdown",
   "metadata": {},
   "source": [
    "##### `PlainValidator`  | `mode = 'plain'` \n",
    "\n",
    "Là việc ta sẽ tự định nghĩa các hàm phục vụ các mục đích bao gồm chức năng của cả validator mode `before` và **Pydantic internal validation** (bao gồm xử lý dữ liêu thô và chuyển đổi thành đúng kiểu dữ liệu mong muốn, sau đó xác thực ***data-type***). Cho nên khi chạy qua 1 validator mode = `plain` thì sẽ không chạy qua thêm bất cứ 1 validator mode `before` và **Pydantic internal validation** nào nữa.\n",
    "  - Trong quá trình validate nếu có mode `plain` thì chỉ có 1 validator mode `plain`, về thứ tự tương đương với 1 validator mode `before`, tức là có thể chạy qua các mode `before` phía trước (khai báo sau), sau khi chạy qua validator mode `plain` sẽ đến luồng mode `after` và validate data-value `Field`"
   ]
  },
  {
   "cell_type": "code",
   "execution_count": 164,
   "metadata": {},
   "outputs": [
    {
     "name": "stdout",
     "output_type": "stream",
     "text": [
      "str_to_float: Bỏ ký tự đầu tiên và chuyển thành float\n",
      "check_is_float: Plain validator\n",
      "double: int sau đó nhân đôi\n",
      "check_squares: kiểm tra xem có phải số chính phương\n"
     ]
    },
    {
     "data": {
      "text/plain": [
       "MyModel(number=36.0)"
      ]
     },
     "execution_count": 164,
     "metadata": {},
     "output_type": "execute_result"
    }
   ],
   "source": [
    "from typing import Any\n",
    "from pydantic import BaseModel, BeforeValidator, AfterValidator, PlainValidator\n",
    "from typing import Annotated\n",
    "\n",
    "\n",
    "def str_to_float(v: Any) -> float:\n",
    "    print(\"str_to_float: Bỏ ký tự đầu tiên và chuyển thành float\")\n",
    "    v_rm0ind = v[1:]\n",
    "    return float(v_rm0ind)\n",
    "\n",
    "def float_to_int_to_str(v: float) -> str:\n",
    "    print(\"float_to_int_to_str: chuyển về int sau đó chuyển về string\")\n",
    "    assert v > 0, \"Value must be positive\"\n",
    "    return str(int(v))\n",
    "\n",
    "def check_is_float(v:Any) -> Any:\n",
    "    print(\"check_is_float: Plain validator\")\n",
    "    assert isinstance(v, float), f\"{v} is not float\"\n",
    "    return v\n",
    "\n",
    "def double(v: Any) -> Any:\n",
    "    print(\"double: int sau đó nhân đôi\")\n",
    "    return (10 + v) * 2\n",
    "\n",
    "\n",
    "def check_squares(v: int) -> int:\n",
    "    print(\"check_squares: kiểm tra xem có phải số chính phương\")\n",
    "    assert v**0.5 % 1 == 0, f\"{v} is not a square number\"\n",
    "    return v\n",
    "\n",
    "class MyModel(BaseModel):\n",
    "    number: Annotated[\n",
    "        str,                                  # not run : (Pydantic internal validation) ko run do trong pipeline chứa mode 'plain'\n",
    "        BeforeValidator(float_to_int_to_str), # not run : (mode 'before') khai báo mode = 'before' trước mode = 'plain' nên sẽ không run\n",
    "        PlainValidator(check_is_float),         # run #2 : (mode 'plain') khai báo mode = 'plain' nên thứ tự chạy tương đương với validator mode 'before' \n",
    "        BeforeValidator(str_to_float),        # run #1 : (mode 'before') do khai báo mode = 'before' sau cùng và sau mode 'plain' nên chạy đầu tiên của pipeline\n",
    "        AfterValidator(double),               # run #3 : (mode 'after') khai báo mode = 'after' đầu tiên nên chạy đầu tiên trong các mode = 'after' nhưng sau data-type\n",
    "        AfterValidator(check_squares),        # run #4 : (mode 'after') khai báo mode = 'after' cuôi cùng nên chạy cuối cùng trong các mode = 'after'\n",
    "        Field(gt=0, lt=100),                  # run #5 : (Field) khai báo đầu tiên trong nhóm Field nên chạy sau khi validators 'after'\n",
    "        Field(multiple_of=4)                  # run #6 : (Field) khai báo cuối cùng trong nhóm Field nên chạy cuối cùng của pipeline\n",
    "        ]\n",
    "\n",
    "MyModel(number=\"78.0\")"
   ]
  },
  {
   "cell_type": "markdown",
   "metadata": {},
   "source": [
    "#### Thứ tự chạy các trình xác thực"
   ]
  },
  {
   "cell_type": "markdown",
   "metadata": {},
   "source": [
    "## Các cách áp dụng validators"
   ]
  },
  {
   "cell_type": "markdown",
   "metadata": {},
   "source": [
    "### Định nghĩa bằng `Annotated`"
   ]
  },
  {
   "cell_type": "markdown",
   "metadata": {},
   "source": [
    "### Decorate bằng `field_validator`"
   ]
  },
  {
   "cell_type": "markdown",
   "metadata": {},
   "source": [
    "### Decorate bằng `model_validator` "
   ]
  },
  {
   "cell_type": "markdown",
   "metadata": {},
   "source": []
  }
 ],
 "metadata": {
  "kernelspec": {
   "display_name": "base",
   "language": "python",
   "name": "python3"
  },
  "language_info": {
   "codemirror_mode": {
    "name": "ipython",
    "version": 3
   },
   "file_extension": ".py",
   "mimetype": "text/x-python",
   "name": "python",
   "nbconvert_exporter": "python",
   "pygments_lexer": "ipython3",
   "version": "3.12.4"
  }
 },
 "nbformat": 4,
 "nbformat_minor": 2
}
