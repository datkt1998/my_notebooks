{
 "cells": [
  {
   "cell_type": "markdown",
   "id": "dacc5ada",
   "metadata": {},
   "source": [
    "# PySpark"
   ]
  },
  {
   "cell_type": "markdown",
   "id": "ae70c7d7",
   "metadata": {},
   "source": [
    "## Spark Environment"
   ]
  },
  {
   "cell_type": "markdown",
   "id": "0ad0eb4e",
   "metadata": {},
   "source": [
    "### Cơ chế hoạt động của spark\n",
    "\n",
    "Bước đầu tiên để thiết lập spark là tạo ra 1 cụm xử lý (`cluster`) trên một máy chủ. Cụm xử lý này được kết nối tới rất nhiều nodes khác nhau. Máy chủ (`master`) sẽ làm nhiệm vụ: phân chia dữ liệu và quản lý tính toán trên các máy con. máy chủ sẽ kết nối đến các máy con (`slaves`) trong cụm bằng các `session`. Máy chủ sẽ gửi dữ liệu và yêu cầu tính toán để máy con thực thi. Sau khi có kết quả máy con có nhiệm vụ trả về máy chủ. Máy chủ tổng hợp tất cả các tính toán trên máy con để tính ra kết quả cuối cùng.\n",
    "\n",
    "Trong bài này do mới làm quen với spark nên mình sẽ khởi tạo một cluster trên local. Thay vì kết nối tới những máy khác, các tính toán sẽ được thực hiện chỉ trên server local thông qua một giả lập cụm."
   ]
  },
  {
   "cell_type": "markdown",
   "id": "a2999827",
   "metadata": {},
   "source": [
    "Để kiểm tra các schema có trong một table chúng ta sử dụng hàm `printSchema()`"
   ]
  },
  {
   "cell_type": "markdown",
   "id": "41a2f6e7",
   "metadata": {},
   "source": [
    "### Tìm kiếm spark environment"
   ]
  },
  {
   "cell_type": "code",
   "execution_count": 14,
   "id": "a7b0214a-52ca-4af5-9b29-1308d036720a",
   "metadata": {},
   "outputs": [
    {
     "data": {
      "text/html": [
       "\n",
       "            <div>\n",
       "                <p><b>SparkSession - in-memory</b></p>\n",
       "                \n",
       "        <div>\n",
       "            <p><b>SparkContext</b></p>\n",
       "\n",
       "            <p><a href=\"http://host.docker.internal:4041\">Spark UI</a></p>\n",
       "\n",
       "            <dl>\n",
       "              <dt>Version</dt>\n",
       "                <dd><code>v3.2.1</code></dd>\n",
       "              <dt>Master</dt>\n",
       "                <dd><code>local[*]</code></dd>\n",
       "              <dt>AppName</dt>\n",
       "                <dd><code>Lesson1</code></dd>\n",
       "            </dl>\n",
       "        </div>\n",
       "        \n",
       "            </div>\n",
       "        "
      ],
      "text/plain": [
       "<pyspark.sql.session.SparkSession at 0x21ae61a1d90>"
      ]
     },
     "execution_count": 14,
     "metadata": {},
     "output_type": "execute_result"
    }
   ],
   "source": [
    "# find the env spark\n",
    "import findspark\n",
    "findspark.init()\n",
    "\n",
    "import pyspark\n",
    "\n",
    " # khởi tạo trình chạy pyspark\n",
    "from pyspark.sql import SparkSession\n",
    "spark = SparkSession.builder.appName('Lesson1').getOrCreate()\n",
    "spark "
   ]
  },
  {
   "cell_type": "code",
   "execution_count": 2,
   "id": "4db57fc2-8720-45e3-a50e-7db6585fc5ba",
   "metadata": {},
   "outputs": [
    {
     "data": {
      "text/plain": [
       "1"
      ]
     },
     "execution_count": 2,
     "metadata": {},
     "output_type": "execute_result"
    }
   ],
   "source": [
    "# check cores\n",
    "spark._jsc.sc().getExecutorMemoryStatus().keySet().size()"
   ]
  },
  {
   "cell_type": "markdown",
   "id": "156fcf53",
   "metadata": {},
   "source": [
    "## DataFrame Creation"
   ]
  },
  {
   "cell_type": "markdown",
   "id": "198c4ba7",
   "metadata": {},
   "source": [
    "### Import dataframe to catelog\n",
    "\n",
    "Tuy nhiên lúc này **flights** vẫn chỉ là một spark DataFrame chưa có trong **catalog** của của **cluster**. Sử dụng hàm `listTable()` liệt kê danh sách bảng ta thu được 1 list rỗng.\n",
    "\n",
    "Lý do là bởi khi được đọc từ hàm `read.csv()` thì dữ liệu chỉ được lưu trữ ở Local dưới dạng một spark DataFrame. Để đưa dự liệu từ local lên cluster chúng ta cần save nó dưới dạng một **temporary table** thông một trong những lệnh bên dưới:\n",
    "- `.createTempView()`: là một phương thức của spark DataFrame trong đó tham số duy nhất được truyền vào là tên bảng mà bạn muốn lưu trữ dưới dạng temporary table. Bảng được tạo ra là tạm thời và chỉ có thể được truy cập từ session được sử dụng để tạo ra spark DataFrame.\n",
    "- `.createOrReplaceTempView()`: Có tác dụng hoàn toàn giống như .createTempView() nhưng nó sẽ update lại temporary table nếu nó đã tồn tại hoặc tạo mới nếu chưa tồn tại trước dây. Tránh trường hợp duplicate dữ liệu.\n",
    "- `.createDataFrame()`: Tạo một spark DataFrame từ một pandas DataFrame.\n",
    "\n",
    "Để hiểu rõ hơn về nguyên tắc khởi tạo bảng chúng ta có thể xem sơ đồ bên dưới:\n",
    "\n",
    "![](https://s3.amazonaws.com/assets.datacamp.com/production/course_4452/datasets/spark_figure.png)\n",
    "\n",
    "**Spark Cluster** sẽ tương tác với **user** thông qua kết nối từ **SparkContext**. Có 2 dạng lưu trữ chính ở **SparkContext** là spark **DataFrame** và **catalog**. Trong đó **spark DataFrame** là định dạng dạng bảng được lưu trữ ở Local và **catalog** là các temporary table sống trong các **SparkSession**. Để dữ liệu có thể truy cập từ một session chúng ta cần chuyển nó từ định dạng **spark DataFrame** sang **temporary table** thông qua hàm `.createTempView()` hoặc `.createOrReplaceTempView()`."
   ]
  },
  {
   "cell_type": "markdown",
   "id": "4d656665",
   "metadata": {},
   "source": [
    "Bên dưới ta sẽ khởi tạo một **temporary table** với tên là `flights_temp` cho bảng **flights**."
   ]
  },
  {
   "cell_type": "code",
   "execution_count": null,
   "id": "f5911459",
   "metadata": {},
   "outputs": [
    {
     "data": {
      "text/plain": [
       "[Table(name='flights_temp', catalog=None, namespace=[], description=None, tableType='TEMPORARY', isTemporary=True)]"
      ]
     },
     "metadata": {},
     "output_type": "display_data"
    }
   ],
   "source": [
    "# Create a temporary table on catalog of local data frame flights as new temporary table flights_temp on catalog\n",
    "flights.createOrReplaceTempView('flights_temp')\n",
    "# check list all table available on catalog\n",
    "my_spark.catalog.listTables()"
   ]
  },
  {
   "cell_type": "markdown",
   "id": "bd7d1d04-62ed-4118-af4c-de2a93837a92",
   "metadata": {},
   "source": [
    "### Create dataframe"
   ]
  },
  {
   "cell_type": "code",
   "execution_count": 13,
   "id": "95990802-c737-4471-a475-41f8d70eda04",
   "metadata": {},
   "outputs": [
    {
     "name": "stdout",
     "output_type": "stream",
     "text": [
      "+---+---+-------+----------+-------------------+\n",
      "|  a|  b|      c|         d|                  e|\n",
      "+---+---+-------+----------+-------------------+\n",
      "|  1|2.0|string1|2000-01-01|2000-01-01 12:00:00|\n",
      "|  2|3.0|string2|2000-02-01|2000-01-02 12:00:00|\n",
      "|  4|5.0|string3|2000-03-01|2000-01-03 12:00:00|\n",
      "+---+---+-------+----------+-------------------+\n",
      "\n"
     ]
    }
   ],
   "source": [
    "# create from row\n",
    "from datetime import datetime, date\n",
    "import pandas as pd\n",
    "from pyspark.sql import Row\n",
    "\n",
    "df = spark.createDataFrame([\n",
    "    Row(a=1, b=2., c='string1', d=date(2000, 1, 1), e=datetime(2000, 1, 1, 12, 0)),\n",
    "    Row(a=2, b=3., c='string2', d=date(2000, 2, 1), e=datetime(2000, 1, 2, 12, 0)),\n",
    "    Row(a=4, b=5., c='string3', d=date(2000, 3, 1), e=datetime(2000, 1, 3, 12, 0))\n",
    "])\n",
    "df.show()"
   ]
  },
  {
   "cell_type": "code",
   "execution_count": 7,
   "id": "64975128-4158-43d0-8db9-aaae421f1419",
   "metadata": {},
   "outputs": [
    {
     "data": {
      "text/plain": [
       "DataFrame[a: bigint, b: double, c: string, d: date, e: timestamp]"
      ]
     },
     "execution_count": 7,
     "metadata": {},
     "output_type": "execute_result"
    }
   ],
   "source": [
    "# create from tuple\n",
    "df = spark.createDataFrame([\n",
    "    (1, 2., 'string1', date(2000, 1, 1), datetime(2000, 1, 1, 12, 0)),\n",
    "    (2, 3., 'string2', date(2000, 2, 1), datetime(2000, 1, 2, 12, 0)),\n",
    "    (3, 4., 'string3', date(2000, 3, 1), datetime(2000, 1, 3, 12, 0))\n",
    "], schema='a long, b double, c string, d date, e timestamp')\n",
    "df"
   ]
  },
  {
   "cell_type": "code",
   "execution_count": 8,
   "id": "db4b7109-609c-4108-a2f5-08771c4481ea",
   "metadata": {},
   "outputs": [
    {
     "data": {
      "text/plain": [
       "DataFrame[a: bigint, b: double, c: string, d: date, e: timestamp]"
      ]
     },
     "execution_count": 8,
     "metadata": {},
     "output_type": "execute_result"
    }
   ],
   "source": [
    "# Create a PySpark DataFrame from an RDD consisting of a list of tuples.\n",
    "rdd = spark.sparkContext.parallelize([\n",
    "    (1, 2., 'string1', date(2000, 1, 1), datetime(2000, 1, 1, 12, 0)),\n",
    "    (2, 3., 'string2', date(2000, 2, 1), datetime(2000, 1, 2, 12, 0)),\n",
    "    (3, 4., 'string3', date(2000, 3, 1), datetime(2000, 1, 3, 12, 0))\n",
    "])\n",
    "df = spark.createDataFrame(rdd, schema=['a', 'b', 'c', 'd', 'e'])\n",
    "df"
   ]
  },
  {
   "cell_type": "code",
   "execution_count": 23,
   "id": "405c956d-05ed-4f65-802b-3a4a3408e549",
   "metadata": {},
   "outputs": [
    {
     "data": {
      "text/plain": [
       "DataFrame[a: bigint, b: double, c: string, d: date, e: timestamp]"
      ]
     },
     "execution_count": 23,
     "metadata": {},
     "output_type": "execute_result"
    }
   ],
   "source": [
    "# from pandas.dataframe\n",
    "pandas_df = pd.DataFrame({\n",
    "    'a': [1, 2, 3],\n",
    "    'b': [2., 3., 4.],\n",
    "    'c': ['string1', 'string2', 'string3'],\n",
    "    'd': [date(2000, 1, 1), date(2000, 2, 1), date(2000, 3, 1)],\n",
    "    'e': [datetime(2000, 1, 1, 12, 0), datetime(2000, 1, 2, 12, 0), datetime(2000, 1, 3, 12, 0)]\n",
    "})\n",
    "df = spark.createDataFrame(pandas_df)\n",
    "df"
   ]
  },
  {
   "cell_type": "markdown",
   "id": "3cd806ef-45f8-4bfb-bd7e-3e5ee2a4c4d2",
   "metadata": {},
   "source": [
    "### Reading file"
   ]
  },
  {
   "cell_type": "code",
   "execution_count": 3,
   "id": "00688478-b1b6-4fdc-a291-f9e1bbeff98f",
   "metadata": {},
   "outputs": [
    {
     "data": {
      "text/plain": [
       "'J:\\\\My Drive\\\\GitCode\\\\My_learning\\\\11. BigData\\\\0. Data\\\\datatest.csv'"
      ]
     },
     "execution_count": 3,
     "metadata": {},
     "output_type": "execute_result"
    }
   ],
   "source": [
    "import os\n",
    "file = os.path.normpath(os.path.join(os.getcwd(),\"..\",\"0. Data\",'datatest.csv')) ## \"..\" to get out folder\n",
    "file"
   ]
  },
  {
   "cell_type": "code",
   "execution_count": 4,
   "id": "e4524b1d-f257-4ec1-bee3-a0fbf6ed40ef",
   "metadata": {},
   "outputs": [
    {
     "name": "stdout",
     "output_type": "stream",
     "text": [
      "+---+------------+-----------+------------+-----------+-------+\n",
      "|_c0|sepal_length|sepal_width|petal_length|petal_width|species|\n",
      "+---+------------+-----------+------------+-----------+-------+\n",
      "|  0|         5.1|        3.5|         1.4|        0.2| setosa|\n",
      "+---+------------+-----------+------------+-----------+-------+\n",
      "only showing top 1 row\n",
      "\n"
     ]
    }
   ],
   "source": [
    "df = spark.read.csv(file,header=True)\n",
    "df.show(1)"
   ]
  },
  {
   "cell_type": "code",
   "execution_count": 23,
   "id": "7d78d611-b028-4577-8929-7276f8ab670f",
   "metadata": {},
   "outputs": [
    {
     "name": "stdout",
     "output_type": "stream",
     "text": [
      "+---+------------+-----------+------------+-----------+-------+\n",
      "|_c0|sepal_length|sepal_width|petal_length|petal_width|species|\n",
      "+---+------------+-----------+------------+-----------+-------+\n",
      "|  0|         5.1|        3.5|         1.4|        0.2| setosa|\n",
      "+---+------------+-----------+------------+-----------+-------+\n",
      "only showing top 1 row\n",
      "\n"
     ]
    }
   ],
   "source": [
    "# csv\n",
    "import os\n",
    "# file = os.path.normpath(os.path.join(os.getcwd(),\"..\",\"2.Dask\",'datatest','1989.csv')) ## \"..\" to get out folder\n",
    "df = spark.read.csv(r\"J:\\My Drive\\GitCode\\My_learning\\11. BigData\\0. Data\\datatest.csv\",header=True)\n",
    "df.show(1)"
   ]
  },
  {
   "cell_type": "code",
   "execution_count": 19,
   "id": "6c533e90-1508-40b1-8533-d0a44b2d856d",
   "metadata": {},
   "outputs": [
    {
     "data": {
      "text/html": [
       "<div>\n",
       "<style scoped>\n",
       "    .dataframe tbody tr th:only-of-type {\n",
       "        vertical-align: middle;\n",
       "    }\n",
       "\n",
       "    .dataframe tbody tr th {\n",
       "        vertical-align: top;\n",
       "    }\n",
       "\n",
       "    .dataframe thead th {\n",
       "        text-align: right;\n",
       "    }\n",
       "</style>\n",
       "<table border=\"1\" class=\"dataframe\">\n",
       "  <thead>\n",
       "    <tr style=\"text-align: right;\">\n",
       "      <th></th>\n",
       "      <th>_c0</th>\n",
       "      <th>sepal_length</th>\n",
       "      <th>sepal_width</th>\n",
       "      <th>petal_length</th>\n",
       "      <th>petal_width</th>\n",
       "      <th>species</th>\n",
       "    </tr>\n",
       "  </thead>\n",
       "  <tbody>\n",
       "    <tr>\n",
       "      <th>0</th>\n",
       "      <td>0</td>\n",
       "      <td>5.1</td>\n",
       "      <td>3.5</td>\n",
       "      <td>1.4</td>\n",
       "      <td>0.2</td>\n",
       "      <td>setosa</td>\n",
       "    </tr>\n",
       "    <tr>\n",
       "      <th>1</th>\n",
       "      <td>1</td>\n",
       "      <td>4.9</td>\n",
       "      <td>3.0</td>\n",
       "      <td>1.4</td>\n",
       "      <td>0.2</td>\n",
       "      <td>setosa</td>\n",
       "    </tr>\n",
       "    <tr>\n",
       "      <th>2</th>\n",
       "      <td>2</td>\n",
       "      <td>4.7</td>\n",
       "      <td>3.2</td>\n",
       "      <td>1.3</td>\n",
       "      <td>0.2</td>\n",
       "      <td>setosa</td>\n",
       "    </tr>\n",
       "    <tr>\n",
       "      <th>3</th>\n",
       "      <td>3</td>\n",
       "      <td>4.6</td>\n",
       "      <td>3.1</td>\n",
       "      <td>1.5</td>\n",
       "      <td>0.2</td>\n",
       "      <td>setosa</td>\n",
       "    </tr>\n",
       "  </tbody>\n",
       "</table>\n",
       "</div>"
      ],
      "text/plain": [
       "  _c0 sepal_length sepal_width petal_length petal_width species\n",
       "0   0          5.1         3.5          1.4         0.2  setosa\n",
       "1   1          4.9         3.0          1.4         0.2  setosa\n",
       "2   2          4.7         3.2          1.3         0.2  setosa\n",
       "3   3          4.6         3.1          1.5         0.2  setosa"
      ]
     },
     "metadata": {},
     "output_type": "display_data"
    }
   ],
   "source": [
    "import myfunction as mf\n",
    "mf.display(df.limit(4).toPandas())"
   ]
  },
  {
   "cell_type": "code",
   "execution_count": null,
   "id": "d28b3ba8-8b97-4dc6-8cdc-36b32fab85df",
   "metadata": {},
   "outputs": [],
   "source": [
    "# read parquet\n",
    "df = spark.read.parquet('data.parquet') # read file parquet\n",
    "\n",
    "# read many file parquet with the sample form\n",
    "df_all = spark.read.parquet('data*.parquet')\n",
    "df1_2 = spark.read.parquet('data1.parquet','data2.parquet')\n",
    "df = spark.read.option('bathPath',path).parquet(path + '//data*.parquet') # set option\n",
    "df = spark.read.parquet(folder1 +\"//data*.parquet\", folder2 +\"//*\") # set option"
   ]
  },
  {
   "cell_type": "markdown",
   "id": "28f197f2",
   "metadata": {},
   "source": [
    "## Dataframe function"
   ]
  },
  {
   "cell_type": "markdown",
   "id": "19d0c835",
   "metadata": {},
   "source": [
    "### Viewing"
   ]
  },
  {
   "cell_type": "code",
   "execution_count": null,
   "id": "26846c7e",
   "metadata": {},
   "outputs": [
    {
     "name": "stdout",
     "output_type": "stream",
     "text": [
      "+---+------------+-----------+------------+-----------+-------+\n",
      "|_c0|sepal_length|sepal_width|petal_length|petal_width|species|\n",
      "+---+------------+-----------+------------+-----------+-------+\n",
      "|  0|         5.1|        3.5|         1.4|        0.2| setosa|\n",
      "|  1|         4.9|        3.0|         1.4|        0.2| setosa|\n",
      "|  2|         4.7|        3.2|         1.3|        0.2| setosa|\n",
      "+---+------------+-----------+------------+-----------+-------+\n",
      "\n"
     ]
    }
   ],
   "source": [
    "df.limit(3).show()"
   ]
  },
  {
   "cell_type": "code",
   "execution_count": null,
   "id": "7b1921f9",
   "metadata": {},
   "outputs": [
    {
     "name": "stdout",
     "output_type": "stream",
     "text": [
      "+---+---+-------+----------+-------------------+\n",
      "|  a|  b|      c|         d|                  e|\n",
      "+---+---+-------+----------+-------------------+\n",
      "|  1|2.0|string1|2000-01-01|2000-01-01 12:00:00|\n",
      "+---+---+-------+----------+-------------------+\n",
      "only showing top 1 row\n",
      "\n"
     ]
    }
   ],
   "source": [
    "# show sample\n",
    "df.show(1)"
   ]
  },
  {
   "cell_type": "code",
   "execution_count": null,
   "id": "4dd242ad",
   "metadata": {},
   "outputs": [
    {
     "name": "stdout",
     "output_type": "stream",
     "text": [
      "-RECORD 0------------------\n",
      " a   | 1                   \n",
      " b   | 2.0                 \n",
      " c   | string1             \n",
      " d   | 2000-01-01          \n",
      " e   | 2000-01-01 12:00:00 \n",
      "only showing top 1 row\n",
      "\n"
     ]
    }
   ],
   "source": [
    "df.show(1, vertical=True)"
   ]
  },
  {
   "cell_type": "code",
   "execution_count": null,
   "id": "8f58393a",
   "metadata": {},
   "outputs": [
    {
     "data": {
      "text/plain": [
       "3"
      ]
     },
     "metadata": {},
     "output_type": "display_data"
    }
   ],
   "source": [
    "# len df \n",
    "df.count()"
   ]
  },
  {
   "cell_type": "code",
   "execution_count": null,
   "id": "a8f47600",
   "metadata": {},
   "outputs": [
    {
     "data": {
      "text/html": [
       "<table border='1'>\n",
       "<tr><th>a</th><th>b</th><th>c</th><th>d</th><th>e</th></tr>\n",
       "<tr><td>1</td><td>2.0</td><td>string1</td><td>2000-01-01</td><td>2000-01-01 12:00:00</td></tr>\n",
       "<tr><td>2</td><td>3.0</td><td>string2</td><td>2000-02-01</td><td>2000-01-02 12:00:00</td></tr>\n",
       "<tr><td>3</td><td>4.0</td><td>string3</td><td>2000-03-01</td><td>2000-01-03 12:00:00</td></tr>\n",
       "</table>\n"
      ],
      "text/plain": [
       "DataFrame[a: bigint, b: double, c: string, d: date, e: timestamp]"
      ]
     },
     "metadata": {},
     "output_type": "display_data"
    }
   ],
   "source": [
    "spark.sql.repl.eagerEval.maxNumRows # setup maxrow to show\n",
    "spark.conf.set('spark.sql.repl.eagerEval.enabled', True) # setup config to show in jupyter\n",
    "df"
   ]
  },
  {
   "cell_type": "code",
   "execution_count": null,
   "id": "e4d9b8f9",
   "metadata": {},
   "outputs": [
    {
     "name": "stdout",
     "output_type": "stream",
     "text": [
      "root\n",
      " |-- a: long (nullable = true)\n",
      " |-- b: double (nullable = true)\n",
      " |-- c: string (nullable = true)\n",
      " |-- d: date (nullable = true)\n",
      " |-- e: timestamp (nullable = true)\n",
      "\n"
     ]
    }
   ],
   "source": [
    "# dtype\n",
    "df.printSchema()"
   ]
  },
  {
   "cell_type": "code",
   "execution_count": null,
   "id": "a9ef7cc7",
   "metadata": {},
   "outputs": [
    {
     "data": {
      "text/html": [
       "<div>\n",
       "<style scoped>\n",
       "    .dataframe tbody tr th:only-of-type {\n",
       "        vertical-align: middle;\n",
       "    }\n",
       "\n",
       "    .dataframe tbody tr th {\n",
       "        vertical-align: top;\n",
       "    }\n",
       "\n",
       "    .dataframe thead th {\n",
       "        text-align: right;\n",
       "    }\n",
       "</style>\n",
       "<table border=\"1\" class=\"dataframe\">\n",
       "  <thead>\n",
       "    <tr style=\"text-align: right;\">\n",
       "      <th></th>\n",
       "      <th>a</th>\n",
       "      <th>b</th>\n",
       "      <th>c</th>\n",
       "      <th>d</th>\n",
       "      <th>e</th>\n",
       "    </tr>\n",
       "  </thead>\n",
       "  <tbody>\n",
       "    <tr>\n",
       "      <th>0</th>\n",
       "      <td>1</td>\n",
       "      <td>2.0</td>\n",
       "      <td>string1</td>\n",
       "      <td>2000-01-01</td>\n",
       "      <td>2000-01-01 12:00:00</td>\n",
       "    </tr>\n",
       "    <tr>\n",
       "      <th>1</th>\n",
       "      <td>2</td>\n",
       "      <td>3.0</td>\n",
       "      <td>string2</td>\n",
       "      <td>2000-02-01</td>\n",
       "      <td>2000-01-02 12:00:00</td>\n",
       "    </tr>\n",
       "    <tr>\n",
       "      <th>2</th>\n",
       "      <td>3</td>\n",
       "      <td>4.0</td>\n",
       "      <td>string3</td>\n",
       "      <td>2000-03-01</td>\n",
       "      <td>2000-01-03 12:00:00</td>\n",
       "    </tr>\n",
       "  </tbody>\n",
       "</table>\n",
       "</div>"
      ],
      "text/plain": [
       "   a    b        c           d                   e\n",
       "0  1  2.0  string1  2000-01-01 2000-01-01 12:00:00\n",
       "1  2  3.0  string2  2000-02-01 2000-01-02 12:00:00\n",
       "2  3  4.0  string3  2000-03-01 2000-01-03 12:00:00"
      ]
     },
     "metadata": {},
     "output_type": "display_data"
    }
   ],
   "source": [
    "# convert pandas.df\n",
    "df.toPandas()"
   ]
  },
  {
   "cell_type": "code",
   "execution_count": null,
   "id": "8a72486d",
   "metadata": {},
   "outputs": [
    {
     "data": {
      "text/plain": [
       "['a', 'b', 'c', 'd', 'e']"
      ]
     },
     "metadata": {},
     "output_type": "display_data"
    }
   ],
   "source": [
    "# show columns\n",
    "df.columns"
   ]
  },
  {
   "cell_type": "markdown",
   "id": "791f2479",
   "metadata": {},
   "source": [
    "### Validate datatype"
   ]
  },
  {
   "cell_type": "code",
   "execution_count": null,
   "id": "37e5adbc",
   "metadata": {},
   "outputs": [
    {
     "name": "stdout",
     "output_type": "stream",
     "text": [
      "root\n",
      " |-- _c0: string (nullable = true)\n",
      " |-- sepal_length: string (nullable = true)\n",
      " |-- sepal_width: string (nullable = true)\n",
      " |-- petal_length: string (nullable = true)\n",
      " |-- petal_width: string (nullable = true)\n",
      " |-- species: string (nullable = true)\n",
      "\n"
     ]
    }
   ],
   "source": [
    "df.printSchema() # get dtype by SAMPLE of beginning datafile"
   ]
  },
  {
   "cell_type": "code",
   "execution_count": null,
   "id": "c53e5541",
   "metadata": {},
   "outputs": [
    {
     "data": {
      "text/plain": [
       "DataFrame[summary: string, _c0: string, sepal_length: string, sepal_width: string, petal_length: string, petal_width: string, species: string]"
      ]
     },
     "metadata": {},
     "output_type": "display_data"
    }
   ],
   "source": [
    "df.describe()"
   ]
  },
  {
   "cell_type": "code",
   "execution_count": null,
   "id": "c556cf67",
   "metadata": {},
   "outputs": [
    {
     "data": {
      "text/plain": [
       "StructField('sepal_length', StringType(), True)"
      ]
     },
     "metadata": {},
     "output_type": "display_data"
    }
   ],
   "source": [
    "df.schema['sepal_length']"
   ]
  },
  {
   "cell_type": "code",
   "execution_count": null,
   "id": "314f523b",
   "metadata": {},
   "outputs": [
    {
     "name": "stdout",
     "output_type": "stream",
     "text": [
      "root\n",
      " |-- sepal_length: float (nullable = true)\n",
      " |-- sepal_width: float (nullable = true)\n",
      " |-- petal_width: float (nullable = true)\n",
      " |-- species: string (nullable = true)\n",
      "\n"
     ]
    }
   ],
   "source": [
    "from pyspark.sql.types import *\n",
    "\n",
    "# set schema\n",
    "data_schema = [\n",
    "            # StructField('_c0',IntegerType()),\n",
    "              StructField('sepal_length',FloatType()),\n",
    "              StructField('sepal_width',FloatType()),\n",
    "              # StructField('petal_length',FloatType()), # dont need to set all\n",
    "              StructField('petal_width',FloatType()),\n",
    "              StructField('species',StringType()),\n",
    "              ]\n",
    "\n",
    "final_struc = StructType(fields = data_schema)\n",
    "\n",
    "df = spark.read.csv(file,header=True,schema = final_struc)\n",
    "\n",
    "df.printSchema() # chỉ đọc những cột có định nghĩa trong final_struc schema"
   ]
  },
  {
   "cell_type": "code",
   "execution_count": null,
   "id": "cd6c843e",
   "metadata": {},
   "outputs": [
    {
     "name": "stdout",
     "output_type": "stream",
     "text": [
      "+---+------------+-----------+------------+-----------+-------+\n",
      "|_c0|sepal_length|sepal_width|petal_length|petal_width|species|\n",
      "+---+------------+-----------+------------+-----------+-------+\n",
      "|  0|         5.1|        3.5|         1.4|        0.2| setosa|\n",
      "|  1|         4.9|        3.0|         1.4|        0.2| setosa|\n",
      "+---+------------+-----------+------------+-----------+-------+\n",
      "only showing top 2 rows\n",
      "\n",
      "root\n",
      " |-- _c0: string (nullable = true)\n",
      " |-- sepal_length: string (nullable = true)\n",
      " |-- sepal_width: string (nullable = true)\n",
      " |-- petal_length: string (nullable = true)\n",
      " |-- petal_width: string (nullable = true)\n",
      " |-- species: string (nullable = true)\n",
      "\n"
     ]
    }
   ],
   "source": [
    "df.show(2)\n",
    "df.printSchema()"
   ]
  },
  {
   "cell_type": "code",
   "execution_count": null,
   "id": "ac9c02c8",
   "metadata": {},
   "outputs": [],
   "source": [
    "# change the dtype columns\n",
    "from pyspark.sql.types import *\n",
    "\n",
    "df = df.withColumn('sepal_length',df['sepal_length'].cast(FloatType()) )\\\n",
    "        .withColumn('sepal_width',df['sepal_width'].cast(IntegerType()) )\\\n",
    "        .withColumn('sepal_length',to_date(df['sepal_length'],'yy.dd.mm') )\\\n",
    "        .withColumn('sepal_length',to_timestamp(df['petal_width'],'yy.dd.mm'))"
   ]
  },
  {
   "cell_type": "markdown",
   "id": "cfc8ec2d",
   "metadata": {},
   "source": [
    "### Thêm một trường mới vào một bảng sẵn có\n",
    "\n",
    "`.withColumn(“newColumnName”, formular)`\n",
    "\n",
    "Gồm 2 tham số chính, tham số thứ nhất là tên trường mới, tham số thứ 2 là công thức cập nhật tên trường. "
   ]
  },
  {
   "cell_type": "code",
   "execution_count": null,
   "id": "b5a691a8",
   "metadata": {},
   "outputs": [],
   "source": [
    "# thêm 1 trường mới là HOUR_ARR được tính dựa trên AIR_TIME/60 (qui từ phút ra h) của bảng flights\n",
    "flights = flights.withColumn('HOUR_ARR', flights.AIR_TIME/60)"
   ]
  },
  {
   "cell_type": "markdown",
   "id": "660dec9b",
   "metadata": {},
   "source": [
    "Lưu ý rằng spark DataFrame là một dạng dữ liệu immutable (không thể modified được). Do đó ta không thể inplace update (như các hàm `fillna()` hoặc `replace()` của pandas dataframe) mà cần phải gán giá trị trả về vào chính tên bảng ban đầu để cập nhật trường mới."
   ]
  },
  {
   "cell_type": "code",
   "execution_count": null,
   "id": "77331343",
   "metadata": {},
   "outputs": [
    {
     "name": "stdout",
     "output_type": "stream",
     "text": [
      "+----+-----+---+-----------+-------+-------------+-----------+--------------+-------------------+-------------------+--------------+---------------+--------+----------+--------------+------------+--------+--------+---------+-------+-----------------+------------+-------------+--------+---------+-------------------+----------------+--------------+-------------+-------------------+-------------+-----------------+\n",
      "|YEAR|MONTH|DAY|DAY_OF_WEEK|AIRLINE|FLIGHT_NUMBER|TAIL_NUMBER|ORIGIN_AIRPORT|DESTINATION_AIRPORT|SCHEDULED_DEPARTURE|DEPARTURE_TIME|DEPARTURE_DELAY|TAXI_OUT|WHEELS_OFF|SCHEDULED_TIME|ELAPSED_TIME|AIR_TIME|DISTANCE|WHEELS_ON|TAXI_IN|SCHEDULED_ARRIVAL|ARRIVAL_TIME|ARRIVAL_DELAY|DIVERTED|CANCELLED|CANCELLATION_REASON|AIR_SYSTEM_DELAY|SECURITY_DELAY|AIRLINE_DELAY|LATE_AIRCRAFT_DELAY|WEATHER_DELAY|         HOUR_ARR|\n",
      "+----+-----+---+-----------+-------+-------------+-----------+--------------+-------------------+-------------------+--------------+---------------+--------+----------+--------------+------------+--------+--------+---------+-------+-----------------+------------+-------------+--------+---------+-------------------+----------------+--------------+-------------+-------------------+-------------+-----------------+\n",
      "|2015|    1|  1|          4|     AS|           98|     N407AS|           ANC|                SEA|               0005|          2354|            -11|      21|      0015|           205|         194|     169|    1448|     0404|      4|             0430|        0408|          -22|       0|        0|               NULL|            NULL|          NULL|         NULL|               NULL|         NULL|2.816666666666667|\n",
      "|2015|    1|  1|          4|     AA|         2336|     N3KUAA|           LAX|                PBI|               0010|          0002|             -8|      12|      0014|           280|         279|     263|    2330|     0737|      4|             0750|        0741|           -9|       0|        0|               NULL|            NULL|          NULL|         NULL|               NULL|         NULL|4.383333333333334|\n",
      "|2015|    1|  1|          4|     US|          840|     N171US|           SFO|                CLT|               0020|          0018|             -2|      16|      0034|           286|         293|     266|    2296|     0800|     11|             0806|        0811|            5|       0|        0|               NULL|            NULL|          NULL|         NULL|               NULL|         NULL|4.433333333333334|\n",
      "+----+-----+---+-----------+-------+-------------+-----------+--------------+-------------------+-------------------+--------------+---------------+--------+----------+--------------+------------+--------+--------+---------+-------+-----------------+------------+-------------+--------+---------+-------------------+----------------+--------------+-------------+-------------------+-------------+-----------------+\n",
      "only showing top 3 rows\n",
      "\n"
     ]
    }
   ],
   "source": [
    "flights.show(3)"
   ]
  },
  {
   "cell_type": "markdown",
   "id": "5514266e",
   "metadata": {},
   "source": [
    "### Lựa chọn danh sách các trường\n",
    "\n",
    "`.select(“column1”, “column2”, … , “columnt”, formular)`\n",
    "\n",
    "tên column được truyền vào đưới dạng string và tạo ra một trường mới thông qua formular\n",
    "\n",
    "> Lưu ý để đặt tên cho trường mới ứng với formular chúng ta sẽ cần sử dụng hàm `formula.alias(\"columnName\")`"
   ]
  },
  {
   "cell_type": "code",
   "execution_count": null,
   "id": "9151ae6d",
   "metadata": {},
   "outputs": [
    {
     "name": "stdout",
     "output_type": "stream",
     "text": [
      "root\n",
      " |-- ORIGIN_AIRPORT: string (nullable = true)\n",
      " |-- DESTINATION_AIRPORT: string (nullable = true)\n",
      " |-- TAIL_NUMBER: string (nullable = true)\n",
      " |-- avg_speed: double (nullable = true)\n",
      "\n",
      "+--------------+-------------------+-----------+-----------------+\n",
      "|ORIGIN_AIRPORT|DESTINATION_AIRPORT|TAIL_NUMBER|        avg_speed|\n",
      "+--------------+-------------------+-----------+-----------------+\n",
      "|           ANC|                SEA|     N407AS|514.0828402366864|\n",
      "|           LAX|                PBI|     N3KUAA|531.5589353612166|\n",
      "|           SFO|                CLT|     N171US|517.8947368421052|\n",
      "|           LAX|                MIA|     N3HYAA|544.6511627906978|\n",
      "|           SEA|                ANC|     N527AS|436.5829145728643|\n",
      "+--------------+-------------------+-----------+-----------------+\n",
      "only showing top 5 rows\n",
      "\n"
     ]
    }
   ],
   "source": [
    "# tạo ra trường avg_speed tính vận tốc trung bình của các máy bay bằng cách lấy khoảng cách (DISTANCE) chia cho thời gian bay (HOUR_ARR) \n",
    "# group by theo mã máy bay (TAIL_NUMBER) bằng lệnh select\n",
    "\n",
    "avg_speed = flights.select(\"ORIGIN_AIRPORT\", \"DESTINATION_AIRPORT\", \"TAIL_NUMBER\", (flights.DISTANCE/flights.HOUR_ARR).alias(\"avg_speed\"))\n",
    "avg_speed.printSchema()\n",
    "avg_speed.show(5)"
   ]
  },
  {
   "cell_type": "markdown",
   "id": "c54ae594",
   "metadata": {},
   "source": [
    "`.selectExpr(“column1”, “column2”, … , “columnt”, “formularExpr”)`\n",
    "\n",
    "Hoàn toàn tương tự như `.select()` nhưng tham số formular được thay thế bằng chuỗi string biểu diễn công thức như trong câu lệnh SQL.\n"
   ]
  },
  {
   "cell_type": "code",
   "execution_count": null,
   "id": "84b5c806",
   "metadata": {},
   "outputs": [
    {
     "name": "stdout",
     "output_type": "stream",
     "text": [
      "root\n",
      " |-- ORIGIN_AIRPORT: string (nullable = true)\n",
      " |-- DESTINATION_AIRPORT: string (nullable = true)\n",
      " |-- TAIL_NUMBER: string (nullable = true)\n",
      " |-- avg_speed: double (nullable = true)\n",
      "\n",
      "+--------------+-------------------+-----------+-----------------+\n",
      "|ORIGIN_AIRPORT|DESTINATION_AIRPORT|TAIL_NUMBER|        avg_speed|\n",
      "+--------------+-------------------+-----------+-----------------+\n",
      "|           ANC|                SEA|     N407AS|514.0828402366864|\n",
      "|           LAX|                PBI|     N3KUAA|531.5589353612166|\n",
      "|           SFO|                CLT|     N171US|517.8947368421052|\n",
      "|           LAX|                MIA|     N3HYAA|544.6511627906978|\n",
      "|           SEA|                ANC|     N527AS|436.5829145728643|\n",
      "+--------------+-------------------+-----------+-----------------+\n",
      "only showing top 5 rows\n",
      "\n"
     ]
    }
   ],
   "source": [
    "avg_speed_exp = flights.selectExpr(\"ORIGIN_AIRPORT\", \"DESTINATION_AIRPORT\", \"TAIL_NUMBER\", \"(DISTANCE/HOUR_ARR) AS avg_speed\")\n",
    "avg_speed_exp.printSchema()\n",
    "avg_speed_exp.show(5)"
   ]
  },
  {
   "cell_type": "markdown",
   "id": "41d912fc",
   "metadata": {},
   "source": [
    "### Đổi tên của một column name\n",
    "\n",
    "`.withColumnRenamed(“oldColumnName”, “newColumnName”)`"
   ]
  },
  {
   "cell_type": "markdown",
   "id": "db9b385d",
   "metadata": {},
   "source": [
    "### Đổi định dạng data cột\n",
    "`.withColumn(\"conlumnName\", value)`"
   ]
  },
  {
   "cell_type": "markdown",
   "id": "cfec94bd",
   "metadata": {},
   "source": [
    "### Filter bảng\n",
    "\n",
    "`.filter(condition)`\n",
    "\n",
    "Condition có thể làm một string expression biểu diễn công thức lọc hoặc một công thức giữa các trường trong spark DataFrame. \n",
    "> Lưu ý Condition phải trả về một trường dạng **Boolean type**"
   ]
  },
  {
   "cell_type": "code",
   "execution_count": null,
   "id": "e648e7ef",
   "metadata": {},
   "outputs": [
    {
     "name": "stdout",
     "output_type": "stream",
     "text": [
      "+----+-----+---+-----------+-------+-------------+-----------+--------------+-------------------+-------------------+--------------+---------------+--------+----------+--------------+------------+--------+--------+---------+-------+-----------------+------------+-------------+--------+---------+-------------------+----------------+--------------+-------------+-------------------+-------------+------------------+\n",
      "|YEAR|MONTH|DAY|DAY_OF_WEEK|AIRLINE|FLIGHT_NUMBER|TAIL_NUMBER|ORIGIN_AIRPORT|DESTINATION_AIRPORT|SCHEDULED_DEPARTURE|DEPARTURE_TIME|DEPARTURE_DELAY|TAXI_OUT|WHEELS_OFF|SCHEDULED_TIME|ELAPSED_TIME|AIR_TIME|DISTANCE|WHEELS_ON|TAXI_IN|SCHEDULED_ARRIVAL|ARRIVAL_TIME|ARRIVAL_DELAY|DIVERTED|CANCELLED|CANCELLATION_REASON|AIR_SYSTEM_DELAY|SECURITY_DELAY|AIRLINE_DELAY|LATE_AIRCRAFT_DELAY|WEATHER_DELAY|          HOUR_ARR|\n",
      "+----+-----+---+-----------+-------+-------------+-----------+--------------+-------------------+-------------------+--------------+---------------+--------+----------+--------------+------------+--------+--------+---------+-------+-----------------+------------+-------------+--------+---------+-------------------+----------------+--------------+-------------+-------------------+-------------+------------------+\n",
      "|2015|    1|  1|          4|     AS|          135|     N527AS|           SEA|                ANC|               0025|          0024|             -1|      11|      0035|           235|         215|     199|    1448|     0254|      5|             0320|        0259|          -21|       0|        0|               NULL|            NULL|          NULL|         NULL|               NULL|         NULL| 3.316666666666667|\n",
      "|2015|    1|  1|          4|     AS|           81|     N577AS|           SEA|                ANC|               0600|          0557|             -3|      25|      0622|           234|         224|     195|    1448|     0837|      4|             0854|        0841|          -13|       0|        0|               NULL|            NULL|          NULL|         NULL|               NULL|         NULL|              3.25|\n",
      "|2015|    1|  1|          4|     AS|           83|     N532AS|           SEA|                ANC|               0800|          0802|              2|      14|      0816|           235|         211|     194|    1448|     1030|      3|             1055|        1033|          -22|       0|        0|               NULL|            NULL|          NULL|         NULL|               NULL|         NULL|3.2333333333333334|\n",
      "|2015|    1|  1|          4|     AS|          111|     N570AS|           SEA|                ANC|               0905|          0859|             -6|      30|      0929|           230|         226|     193|    1448|     1142|      3|             1155|        1145|          -10|       0|        0|               NULL|            NULL|          NULL|         NULL|               NULL|         NULL| 3.216666666666667|\n",
      "|2015|    1|  1|          4|     AS|           85|     N764AS|           SEA|                ANC|               1020|          1020|              0|      19|      1039|           223|         220|     198|    1448|     1257|      3|             1303|        1300|           -3|       0|        0|               NULL|            NULL|          NULL|         NULL|               NULL|         NULL|               3.3|\n",
      "+----+-----+---+-----------+-------+-------------+-----------+--------------+-------------------+-------------------+--------------+---------------+--------+----------+--------------+------------+--------+--------+---------+-------+-----------------+------------+-------------+--------+---------+-------------------+----------------+--------------+-------------+-------------------+-------------+------------------+\n",
      "only showing top 5 rows\n",
      "\n"
     ]
    }
   ],
   "source": [
    "filter_SEA_ANC = flights.filter(\"ORIGIN_AIRPORT == 'SEA'\").filter(\"DESTINATION_AIRPORT == 'ANC'\")\n",
    "filter_SEA_ANC.show(5)"
   ]
  },
  {
   "cell_type": "code",
   "execution_count": null,
   "id": "825275a9",
   "metadata": {},
   "outputs": [
    {
     "name": "stdout",
     "output_type": "stream",
     "text": [
      "+---+------------+-----------+------------+-----------+-------+\n",
      "|_c0|sepal_length|sepal_width|petal_length|petal_width|species|\n",
      "+---+------------+-----------+------------+-----------+-------+\n",
      "|  0|         5.1|        3.5|         1.4|        0.2| setosa|\n",
      "+---+------------+-----------+------------+-----------+-------+\n",
      "only showing top 1 row\n",
      "\n"
     ]
    }
   ],
   "source": [
    "import os\n",
    "# file = os.path.normpath(os.path.join(os.getcwd(),\"..\",\"2.Dask\",'datatest','1989.csv')) ## \"..\" to get out folder\n",
    "df = spark.read.csv(r\"J:\\My Drive\\GitCode\\My_learning\\11. BigData\\0. Data\\datatest.csv\",header=True)\n",
    "df.show(1)"
   ]
  },
  {
   "cell_type": "code",
   "execution_count": null,
   "id": "37b8d6c5",
   "metadata": {},
   "outputs": [
    {
     "name": "stdout",
     "output_type": "stream",
     "text": [
      "+---+------------+-----------+------------+-----------+----------+\n",
      "|_c0|sepal_length|sepal_width|petal_length|petal_width|   species|\n",
      "+---+------------+-----------+------------+-----------+----------+\n",
      "|  0|         5.1|        3.5|         1.4|        0.2|    setosa|\n",
      "| 17|         5.1|        3.5|         1.4|        0.3|    setosa|\n",
      "| 19|         5.1|        3.8|         1.5|        0.3|    setosa|\n",
      "| 21|         5.1|        3.7|         1.5|        0.4|    setosa|\n",
      "| 23|         5.1|        3.3|         1.7|        0.5|    setosa|\n",
      "| 39|         5.1|        3.4|         1.5|        0.2|    setosa|\n",
      "| 44|         5.1|        3.8|         1.9|        0.4|    setosa|\n",
      "| 46|         5.1|        3.8|         1.6|        0.2|    setosa|\n",
      "| 98|         5.1|        2.5|         3.0|        1.1|versicolor|\n",
      "+---+------------+-----------+------------+-----------+----------+\n",
      "\n"
     ]
    }
   ],
   "source": [
    "#filter\n",
    "df.filter(df.sepal_length == 5.1).show()"
   ]
  },
  {
   "cell_type": "code",
   "execution_count": null,
   "id": "97cfd2b7",
   "metadata": {},
   "outputs": [
    {
     "name": "stdout",
     "output_type": "stream",
     "text": [
      "+------------+-----------+------------+-------+\n",
      "|sepal_length|sepal_width|petal_length|species|\n",
      "+------------+-----------+------------+-------+\n",
      "|         5.1|        3.5|         1.4| setosa|\n",
      "|         4.9|        3.0|         1.4| setosa|\n",
      "+------------+-----------+------------+-------+\n",
      "only showing top 2 rows\n",
      "\n"
     ]
    }
   ],
   "source": [
    "# where va filter la nhu nhau \n",
    "df.select(['sepal_length','sepal_width','petal_length','species']).where(df.species.like(\"%eto%\")).show(2)"
   ]
  },
  {
   "cell_type": "code",
   "execution_count": null,
   "id": "4b41fe28",
   "metadata": {},
   "outputs": [
    {
     "name": "stdout",
     "output_type": "stream",
     "text": [
      "+-------+-------------------------+\n",
      "|species|substring(species, -4, 3)|\n",
      "+-------+-------------------------+\n",
      "| setosa|                      tos|\n",
      "| setosa|                      tos|\n",
      "| setosa|                      tos|\n",
      "+-------+-------------------------+\n",
      "only showing top 3 rows\n",
      "\n"
     ]
    }
   ],
   "source": [
    "df.select('species',df.species.substr(-4,3)).show(2) # string lấy substring từ -4, 3 ký tu"
   ]
  },
  {
   "cell_type": "code",
   "execution_count": null,
   "id": "5e0c8492",
   "metadata": {},
   "outputs": [
    {
     "name": "stdout",
     "output_type": "stream",
     "text": [
      "+---+------------+-----------+------------+-----------+-------+\n",
      "|_c0|sepal_length|sepal_width|petal_length|petal_width|species|\n",
      "+---+------------+-----------+------------+-----------+-------+\n",
      "|  0|         5.1|        3.5|         1.4|        0.2| setosa|\n",
      "|  1|         4.9|        3.0|         1.4|        0.2| setosa|\n",
      "+---+------------+-----------+------------+-----------+-------+\n",
      "only showing top 2 rows\n",
      "\n",
      "+---+------------+-----------+------------+-----------+-------+\n",
      "|_c0|sepal_length|sepal_width|petal_length|petal_width|species|\n",
      "+---+------------+-----------+------------+-----------+-------+\n",
      "|  0|         5.1|        3.5|         1.4|        0.2| setosa|\n",
      "|  1|         4.9|        3.0|         1.4|        0.2| setosa|\n",
      "+---+------------+-----------+------------+-----------+-------+\n",
      "only showing top 2 rows\n",
      "\n"
     ]
    }
   ],
   "source": [
    "df[df.species.isin('setosa','versicolor')].show(2) # isin\n",
    "df[df.species.startswith('s')].show(2) # startswith"
   ]
  },
  {
   "cell_type": "code",
   "execution_count": null,
   "id": "1da9da0b",
   "metadata": {},
   "outputs": [
    {
     "name": "stdout",
     "output_type": "stream",
     "text": [
      "+---+------------+-----------+\n",
      "|_c0|sepal_length|sepal_width|\n",
      "+---+------------+-----------+\n",
      "|  0|         5.1|        3.5|\n",
      "|  1|         4.9|        3.0|\n",
      "+---+------------+-----------+\n",
      "only showing top 2 rows\n",
      "\n"
     ]
    }
   ],
   "source": [
    "df.select(df.columns[:3]).show(2)"
   ]
  },
  {
   "cell_type": "code",
   "execution_count": null,
   "id": "ee427ad5",
   "metadata": {},
   "outputs": [
    {
     "name": "stdout",
     "output_type": "stream",
     "text": [
      "<class 'pyspark.sql.types.Row'>\n",
      "virginica\n"
     ]
    }
   ],
   "source": [
    "# collect\n",
    "a = df.where('sepal_length > 6').collect()\n",
    "print(type(a[0]))\n",
    "print(a[1][-1])"
   ]
  },
  {
   "cell_type": "code",
   "execution_count": null,
   "id": "95bc44b0",
   "metadata": {},
   "outputs": [
    {
     "name": "stdout",
     "output_type": "stream",
     "text": [
      "+----------+--------------------+\n",
      "|   species|   sepal_length_list|\n",
      "+----------+--------------------+\n",
      "| virginica|[6.3, 5.8, 7.1, 6...|\n",
      "|versicolor|[7.0, 6.4, 6.9, 5...|\n",
      "|    setosa|[5.1, 4.9, 4.7, 4...|\n",
      "+----------+--------------------+\n",
      "\n",
      "+----------+\n",
      "|      col1|\n",
      "+----------+\n",
      "|[5.8, 7.1]|\n",
      "|[6.4, 6.9]|\n",
      "|[4.9, 4.7]|\n",
      "+----------+\n",
      "\n"
     ]
    }
   ],
   "source": [
    "# slice\n",
    "from pyspark.sql.functions import collect_list, slice\n",
    "df2 = df.groupBy('species').agg(collect_list(\"sepal_length\").alias(\"sepal_length_list\"))\n",
    "df2.show()\n",
    "df2.select(slice(df2.sepal_length_list,2,2).alias('col1')).show() # slice(self, start, leght)"
   ]
  },
  {
   "cell_type": "markdown",
   "id": "1277fe85",
   "metadata": {},
   "source": [
    "### Sort value"
   ]
  },
  {
   "cell_type": "code",
   "execution_count": null,
   "id": "07890292",
   "metadata": {},
   "outputs": [
    {
     "name": "stdout",
     "output_type": "stream",
     "text": [
      "+------------+-----------+------------+\n",
      "|sepal_length|sepal_width|petal_length|\n",
      "+------------+-----------+------------+\n",
      "|         4.3|        3.0|         1.1|\n",
      "|         4.4|        3.2|         1.3|\n",
      "|         4.4|        3.0|         1.3|\n",
      "|         4.4|        2.9|         1.4|\n",
      "|         4.5|        2.3|         1.3|\n",
      "+------------+-----------+------------+\n",
      "only showing top 5 rows\n",
      "\n"
     ]
    }
   ],
   "source": [
    "# sort value\n",
    "df.select(['sepal_length','sepal_width','petal_length']).orderBy(df['sepal_length']).show(5)\n",
    "df.select(['sepal_length','sepal_width','petal_length']).orderBy(df['sepal_length'].desc()).show(5) # sort desc \n",
    "df.orderBy(df['sepal_length'].desc(),df['sepal_width']).show() # multi columns to sort"
   ]
  },
  {
   "cell_type": "markdown",
   "id": "4aa28d3e",
   "metadata": {},
   "source": [
    "### Groupby\n",
    "\n",
    "`.groupBy(“column1”, “column2”,…,”columnt”)`\n",
    "\n",
    "Tương tự như lệnh GROUP BY của SQL, lệnh này sẽ nhóm các biến theo các dimension được truyền vào groupBy. Theo sau lệnh groupBy() là một build-in function của spark DataFrame được sử dụng để tính toán theo một biến đo lường nào đó chẳng hạn như hàm `avg()`, `min()`, `max()`, `sum()`. Tham số được truyền vào các hàm này chính là tên biến đo lường."
   ]
  },
  {
   "cell_type": "code",
   "execution_count": null,
   "id": "2ddc0f2b",
   "metadata": {},
   "outputs": [
    {
     "name": "stdout",
     "output_type": "stream",
     "text": [
      "+--------------+------------------+\n",
      "|ORIGIN_AIRPORT|     avg(HOUR_ARR)|\n",
      "+--------------+------------------+\n",
      "|           BGM| 1.096525096525096|\n",
      "|           PSE|3.0352529358626916|\n",
      "|           INL|0.5327937649880096|\n",
      "|           MSY|1.7156564469514983|\n",
      "|           PPG| 5.153144654088051|\n",
      "+--------------+------------------+\n",
      "only showing top 5 rows\n",
      "\n"
     ]
    }
   ],
   "source": [
    "# tính thời gian bay trung bình theo điểm xuất phát (ORIGIN_AIRPORT)\n",
    "\n",
    "avg_time_org_airport = flights.groupBy(\"ORIGIN_AIRPORT\").avg(\"HOUR_ARR\")\n",
    "avg_time_org_airport.show(5)"
   ]
  },
  {
   "cell_type": "code",
   "execution_count": null,
   "id": "99db746c",
   "metadata": {},
   "outputs": [],
   "source": [
    "from pyspark.sql.functions import col as scol, sum as ssum, avg as savg, max as smax, count as scount"
   ]
  },
  {
   "cell_type": "code",
   "execution_count": null,
   "id": "f2f76c53",
   "metadata": {},
   "outputs": [
    {
     "name": "stdout",
     "output_type": "stream",
     "text": [
      "+-----+------+---+---+\n",
      "|color| fruit| v1| v2|\n",
      "+-----+------+---+---+\n",
      "|  red|banana|  1| 10|\n",
      "| blue|banana|  2| 20|\n",
      "|  red|carrot|  3| 30|\n",
      "| blue| grape|  4| 40|\n",
      "|  red|carrot|  5| 50|\n",
      "|black|carrot|  6| 60|\n",
      "|  red|banana|  7| 70|\n",
      "|  red| grape|  8| 80|\n",
      "+-----+------+---+---+\n",
      "\n"
     ]
    }
   ],
   "source": [
    "df = spark.createDataFrame([\n",
    "    ['red', 'banana', 1, 10], ['blue', 'banana', 2, 20], ['red', 'carrot', 3, 30],\n",
    "    ['blue', 'grape', 4, 40], ['red', 'carrot', 5, 50], ['black', 'carrot', 6, 60],\n",
    "    ['red', 'banana', 7, 70], ['red', 'grape', 8, 80]], schema=['color', 'fruit', 'v1', 'v2'])\n",
    "df.show()"
   ]
  },
  {
   "cell_type": "code",
   "execution_count": null,
   "id": "2db319a8",
   "metadata": {},
   "outputs": [
    {
     "name": "stdout",
     "output_type": "stream",
     "text": [
      "+-----+-------+-------+\n",
      "|color|avg(v1)|avg(v2)|\n",
      "+-----+-------+-------+\n",
      "|  red|    4.8|   48.0|\n",
      "| blue|    3.0|   30.0|\n",
      "|black|    6.0|   60.0|\n",
      "+-----+-------+-------+\n",
      "\n"
     ]
    }
   ],
   "source": [
    "# groupby color with mean\n",
    "df.groupby('color').avg().show()"
   ]
  },
  {
   "cell_type": "code",
   "execution_count": null,
   "id": "05c2177c",
   "metadata": {},
   "outputs": [
    {
     "name": "stdout",
     "output_type": "stream",
     "text": [
      "+-----+------+-------+-------+\n",
      "|color| fruit|sum(v1)|sum(v2)|\n",
      "+-----+------+-------+-------+\n",
      "|  red|banana|      8|     80|\n",
      "| blue|banana|      2|     20|\n",
      "|  red|carrot|      8|     80|\n",
      "| blue| grape|      4|     40|\n",
      "|black|carrot|      6|     60|\n",
      "|  red| grape|      8|     80|\n",
      "+-----+------+-------+-------+\n",
      "\n"
     ]
    }
   ],
   "source": [
    "df.groupBy(\"color\",\"fruit\").sum(\"v1\",\"v2\").show()"
   ]
  },
  {
   "cell_type": "code",
   "execution_count": null,
   "id": "fc3e52c6",
   "metadata": {},
   "outputs": [
    {
     "name": "stdout",
     "output_type": "stream",
     "text": [
      "+-----+------+------+------+\n",
      "|color|avg_v1|sum_v2|max_v2|\n",
      "+-----+------+------+------+\n",
      "|  red|   4.8|   240|    80|\n",
      "| blue|   3.0|    60|    40|\n",
      "|black|   6.0|    60|    60|\n",
      "+-----+------+------+------+\n",
      "\n"
     ]
    }
   ],
   "source": [
    "df.groupBy(\"color\").agg(savg(\"v1\").alias(\"avg_v1\"), ssum(\"v2\").alias(\"sum_v2\"), smax(\"v2\").alias(\"max_v2\") ).show()"
   ]
  },
  {
   "cell_type": "code",
   "execution_count": null,
   "id": "e6cb480b",
   "metadata": {},
   "outputs": [
    {
     "name": "stdout",
     "output_type": "stream",
     "text": [
      "+-----+------+------+------+\n",
      "|color|avg_v1|sum_v2|max_v2|\n",
      "+-----+------+------+------+\n",
      "|red  |4.8   |240   |80    |\n",
      "|black|6.0   |60    |60    |\n",
      "+-----+------+------+------+\n",
      "\n"
     ]
    }
   ],
   "source": [
    "# tuong tu having sql\n",
    "df.groupBy(\"color\")\\\n",
    ".agg(savg(\"v1\").alias(\"avg_v1\"), \n",
    "     ssum(\"v2\").alias(\"sum_v2\"), \n",
    "     smax(\"v2\").alias(\"max_v2\") )\\\n",
    ".where(scol(\"max_v2\") >= 50) \\\n",
    ".show(truncate=False)"
   ]
  },
  {
   "cell_type": "code",
   "execution_count": null,
   "id": "abda878c",
   "metadata": {},
   "outputs": [
    {
     "name": "stdout",
     "output_type": "stream",
     "text": [
      "+-----+----------------+---------+\n",
      "|color|v1_groupby_color|v1_custom|\n",
      "+-----+----------------+---------+\n",
      "|  red| [1, 3, 5, 7, 8]|     null|\n",
      "| blue|          [2, 4]|     null|\n",
      "|black|             [6]|     null|\n",
      "+-----+----------------+---------+\n",
      "\n"
     ]
    }
   ],
   "source": [
    "# custom function for groupby\n",
    "import pyspark.sql.functions as F\n",
    "from pyspark.sql.types import FloatType\n",
    "\n",
    "@F.udf(returnType=FloatType()) # define return float\n",
    "def custom_func(x):\n",
    "    return x[0] - x[-1]\n",
    "\n",
    "df.groupby('color')\\\n",
    ".agg(F.collect_list(\"v1\").alias(\"v1_groupby_color\"))\\\n",
    ".withColumn('v1_custom', custom_func('v1_groupby_color'))\\\n",
    ".show()"
   ]
  },
  {
   "cell_type": "code",
   "execution_count": null,
   "id": "853a9a03",
   "metadata": {},
   "outputs": [
    {
     "name": "stdout",
     "output_type": "stream",
     "text": [
      "+---+----------+\n",
      "| v1|v1_squared|\n",
      "+---+----------+\n",
      "|  1|       1.0|\n",
      "|  2|       4.0|\n",
      "|  3|       9.0|\n",
      "|  4|      16.0|\n",
      "|  5|      25.0|\n",
      "|  6|      36.0|\n",
      "|  7|      49.0|\n",
      "|  8|      64.0|\n",
      "+---+----------+\n",
      "\n"
     ]
    }
   ],
   "source": [
    "# udf\n",
    "from pyspark.sql.functions import udf\n",
    "\n",
    "@udf(returnType = FloatType())\n",
    "def square_float(x):\n",
    "    return float(x**2)\n",
    "\n",
    "df.select('v1',square_float('v1').alias('v1_squared')).show()"
   ]
  },
  {
   "cell_type": "code",
   "execution_count": null,
   "id": "265934cb",
   "metadata": {},
   "outputs": [
    {
     "name": "stdout",
     "output_type": "stream",
     "text": [
      "+-----+-------+\n",
      "|color|avg_min|\n",
      "+-----+-------+\n",
      "|black|   33.0|\n",
      "| blue|   11.0|\n",
      "|  red|    5.5|\n",
      "+-----+-------+\n",
      "\n"
     ]
    }
   ],
   "source": [
    "# multi columns in groupby\n",
    "from pyspark.sql.functions import pandas_udf, PandasUDFType\n",
    "from pyspark.sql.types import DoubleType\n",
    "import numpy as np\n",
    "@pandas_udf(DoubleType(), functionType=PandasUDFType.GROUPED_AGG)\n",
    "def f(x, y):\n",
    "    return np.mean([np.min(x), np.min(y)])\n",
    "\n",
    "df.groupBy(\"color\").agg(f(\"v1\", \"v2\").alias(\"avg_min\")).show()"
   ]
  },
  {
   "cell_type": "code",
   "execution_count": null,
   "id": "52979a5b",
   "metadata": {},
   "outputs": [
    {
     "name": "stderr",
     "output_type": "stream",
     "text": [
      "C:\\Users\\User\\anaconda3\\lib\\site-packages\\pyspark\\sql\\pandas\\group_ops.py:98: UserWarning: It is preferred to use 'applyInPandas' over this API. This API will be deprecated in the future releases. See SPARK-28264 for more details.\n",
      "  warnings.warn(\n"
     ]
    },
    {
     "name": "stdout",
     "output_type": "stream",
     "text": [
      "+-----+------+---+---+-----------+\n",
      "|color| fruit| v1| v2|        v1_|\n",
      "+-----+------+---+---+-----------+\n",
      "|black|carrot|  6| 60|       null|\n",
      "| blue|banana|  2| 20|-0.70710677|\n",
      "| blue| grape|  4| 40| 0.70710677|\n",
      "|  red|banana|  1| 10| -1.3270175|\n",
      "|  red|carrot|  3| 30|-0.62858725|\n",
      "|  red|carrot|  5| 50| 0.06984303|\n",
      "|  red|banana|  7| 70| 0.76827335|\n",
      "|  red| grape|  8| 80|  1.1174885|\n",
      "+-----+------+---+---+-----------+\n",
      "\n"
     ]
    }
   ],
   "source": [
    "@pandas_udf(\"color string, fruit string, v1 bigint, v2 bigint, v1_ float\",functionType = PandasUDFType.GROUPED_MAP)  \n",
    "def normalize(df):\n",
    "    v1 = df.v1\n",
    "    return df.assign(v1_=(v1 - v1.mean()) / v1.std())\n",
    "\n",
    "df.groupby(\"color\").apply(normalize).show()  "
   ]
  },
  {
   "cell_type": "markdown",
   "id": "febe5ac8",
   "metadata": {},
   "source": [
    "### Apply function"
   ]
  },
  {
   "cell_type": "code",
   "execution_count": null,
   "id": "90017c9e",
   "metadata": {},
   "outputs": [
    {
     "name": "stdout",
     "output_type": "stream",
     "text": [
      "+---+---+-------+----------+-------------------+---+\n",
      "|  a|  b|      c|         d|                  e|age|\n",
      "+---+---+-------+----------+-------------------+---+\n",
      "|  1|2.0|string1|2000-01-01|2000-01-01 12:00:00|  2|\n",
      "|  2|3.0|string2|2000-02-01|2000-01-02 12:00:00|  3|\n",
      "|  3|4.0|string3|2000-03-01|2000-01-03 12:00:00|  4|\n",
      "+---+---+-------+----------+-------------------+---+\n",
      "\n"
     ]
    }
   ],
   "source": [
    "# use the APIs in a pandas Series within Python native function\n",
    "\n",
    "import pandas\n",
    "from pyspark.sql.functions import pandas_udf\n",
    "\n",
    "@pandas_udf('long')\n",
    "def pandas_plus_one(series: pd.Series) -> pd.Series:\n",
    "    # Simply plus one by using pandas Series.\n",
    "    return series + 1\n",
    "\n",
    "df.select(\"*\",pandas_plus_one('a').alias('age')).show() # select * rename columns as 'age'"
   ]
  },
  {
   "cell_type": "code",
   "execution_count": null,
   "id": "9e12ee68",
   "metadata": {},
   "outputs": [
    {
     "name": "stdout",
     "output_type": "stream",
     "text": [
      "+---+---+-------+----------+-------------------+\n",
      "|  a|  b|      c|         d|                  e|\n",
      "+---+---+-------+----------+-------------------+\n",
      "|  1|2.0|string1|2000-01-01|2000-01-01 12:00:00|\n",
      "|  2|3.0|string2|2000-02-01|2000-01-02 12:00:00|\n",
      "|  4|5.0|string3|2000-03-01|2000-01-03 12:00:00|\n",
      "+---+---+-------+----------+-------------------+\n",
      "\n",
      "+---+---+-------+----------+-------------------+-------+\n",
      "|  a|  b|      c|         d|                  e|percent|\n",
      "+---+---+-------+----------+-------------------+-------+\n",
      "|  1|2.0|string1|2000-01-01|2000-01-01 12:00:00|   20.0|\n",
      "|  2|3.0|string2|2000-02-01|2000-01-02 12:00:00|   30.0|\n",
      "|  4|5.0|string3|2000-03-01|2000-01-03 12:00:00|   50.0|\n",
      "+---+---+-------+----------+-------------------+-------+\n",
      "\n"
     ]
    }
   ],
   "source": [
    "from pyspark.sql.functions import expr\n",
    "df.show(3)\n",
    "df.withColumn('percent',expr(\"b/10*100\")).show()"
   ]
  },
  {
   "cell_type": "markdown",
   "id": "9ae6b4ca",
   "metadata": {},
   "source": [
    "### Join bảng\n",
    "\n",
    "`.join(tableName, on = “columnNameJoin”, how = “leftouter”)`\n",
    "\n",
    "Join 2 bảng với nhau tương tự như lệnh left join trong SQL. Kết quả trả về sẽ là các trường mới trong bảng tableName kết hợp với các trường cũ trong bảng gốc thông qua key. \n",
    "> Lưu ý rằng columnNameJoin phải trùng nhau giữa 2 bảng."
   ]
  },
  {
   "cell_type": "markdown",
   "id": "f53c5c3c",
   "metadata": {},
   "source": [
    "### Sử dụng SQL\n",
    "\n",
    "Sử dụng các câu lệnh biến đổi SQL từ phương thức `.sql()` của spark để transform dữ liệu"
   ]
  },
  {
   "cell_type": "code",
   "execution_count": null,
   "id": "fac203f1",
   "metadata": {},
   "outputs": [
    {
     "name": "stdout",
     "output_type": "stream",
     "text": [
      "+--------------+-------------------+-----------+------------------+\n",
      "|ORIGIN_AIRPORT|DESTINATION_AIRPORT|TAIL_NUMBER|         avg_speed|\n",
      "+--------------+-------------------+-----------+------------------+\n",
      "|           IAG|                FLL|     N630NK|             158.0|\n",
      "|           RIC|                ATL|     N947DN|  75.6470588235294|\n",
      "|           EWR|                ATL|     N970AT|108.02777777777777|\n",
      "|           MSN|                ORD|     N703SK|              28.0|\n",
      "|           AVL|                ATL|     N994AT|              30.5|\n",
      "+--------------+-------------------+-----------+------------------+\n",
      "only showing top 5 rows\n",
      "\n"
     ]
    }
   ],
   "source": [
    "sql = \"\"\"\n",
    "SELECT ORIGIN_AIRPORT, DESTINATION_AIRPORT, TAIL_NUMBER, MEAN(AIR_TIME) AS avg_speed\n",
    "FROM flights_temp\n",
    "WHERE AIR_TIME > 10\n",
    "GROUP BY ORIGIN_AIRPORT, DESTINATION_AIRPORT, TAIL_NUMBER\n",
    "\"\"\"\n",
    "flights_10 = my_spark.sql(sql)\n",
    "flights_10.show(5)"
   ]
  },
  {
   "cell_type": "code",
   "execution_count": null,
   "id": "390fdefe",
   "metadata": {},
   "outputs": [
    {
     "data": {
      "text/html": [
       "<div>\n",
       "<style scoped>\n",
       "    .dataframe tbody tr th:only-of-type {\n",
       "        vertical-align: middle;\n",
       "    }\n",
       "\n",
       "    .dataframe tbody tr th {\n",
       "        vertical-align: top;\n",
       "    }\n",
       "\n",
       "    .dataframe thead th {\n",
       "        text-align: right;\n",
       "    }\n",
       "</style>\n",
       "<table border=\"1\" class=\"dataframe\">\n",
       "  <thead>\n",
       "    <tr style=\"text-align: right;\">\n",
       "      <th></th>\n",
       "      <th>a</th>\n",
       "      <th>b</th>\n",
       "      <th>c</th>\n",
       "      <th>d</th>\n",
       "      <th>e</th>\n",
       "    </tr>\n",
       "  </thead>\n",
       "  <tbody>\n",
       "    <tr>\n",
       "      <th>0</th>\n",
       "      <td>1</td>\n",
       "      <td>2.0</td>\n",
       "      <td>string1</td>\n",
       "      <td>2000-01-01</td>\n",
       "      <td>2000-01-01 12:00:00</td>\n",
       "    </tr>\n",
       "    <tr>\n",
       "      <th>1</th>\n",
       "      <td>2</td>\n",
       "      <td>3.0</td>\n",
       "      <td>string2</td>\n",
       "      <td>2000-02-01</td>\n",
       "      <td>2000-01-02 12:00:00</td>\n",
       "    </tr>\n",
       "    <tr>\n",
       "      <th>2</th>\n",
       "      <td>4</td>\n",
       "      <td>5.0</td>\n",
       "      <td>string3</td>\n",
       "      <td>2000-03-01</td>\n",
       "      <td>2000-01-03 12:00:00</td>\n",
       "    </tr>\n",
       "  </tbody>\n",
       "</table>\n",
       "</div>"
      ],
      "text/plain": [
       "   a    b        c           d                   e\n",
       "0  1  2.0  string1  2000-01-01 2000-01-01 12:00:00\n",
       "1  2  3.0  string2  2000-02-01 2000-01-02 12:00:00\n",
       "2  4  5.0  string3  2000-03-01 2000-01-03 12:00:00"
      ]
     },
     "metadata": {},
     "output_type": "display_data"
    }
   ],
   "source": [
    "# set df table name\n",
    "df.createOrReplaceTempView('table1')\n",
    "spark.sql('select * from table1').limit(10).toPandas()"
   ]
  },
  {
   "cell_type": "code",
   "execution_count": null,
   "id": "2bb58519",
   "metadata": {},
   "outputs": [],
   "source": [
    "from pyspark.sql.types import sqlContext\n",
    "sqlContext.registerDataFrameAsTable(df, \"df_table\")\n",
    "\n",
    "median_rating = sqlContext.sql(\"\"\"\n",
    "    SELECT percentile(v2, 0.5) AS median_rating \n",
    "    FROM df_table\n",
    "\"\"\").first()[\"median_rating\"]\n",
    "\n",
    "print(\"Median rating:\", median_rating)"
   ]
  },
  {
   "cell_type": "code",
   "execution_count": null,
   "id": "cd4e6385",
   "metadata": {},
   "outputs": [
    {
     "name": "stdout",
     "output_type": "stream",
     "text": [
      "+---+---+-------+----------+-------------------+\n",
      "|  a|  b|      c|         d|                  e|\n",
      "+---+---+-------+----------+-------------------+\n",
      "|  1|2.0|string1|2000-01-01|2000-01-01 12:00:00|\n",
      "|  2|3.0|string2|2000-02-01|2000-01-02 12:00:00|\n",
      "+---+---+-------+----------+-------------------+\n",
      "only showing top 2 rows\n",
      "\n"
     ]
    }
   ],
   "source": [
    "from pyspark.ml.feature import SQLTransformer\n",
    "sqlTrans = SQLTransformer(statement='select * from __THIS__')\n",
    "sqlTrans.transform(df).show(2)"
   ]
  },
  {
   "cell_type": "code",
   "execution_count": null,
   "id": "dbf06bbd",
   "metadata": {},
   "outputs": [],
   "source": []
  },
  {
   "cell_type": "code",
   "execution_count": null,
   "id": "bd998722",
   "metadata": {},
   "outputs": [],
   "source": [
    "# from pyspark.conf import SparkConf\n",
    "# conf = SparkConf()  # create the configuration\n",
    "# conf.set(\"spark.jars\", r\"C:\\Spark_env\\ojdbc11.jar\")  # set the spark.jars\n",
    "driver =\"oracle.jdbc.driver.OracleDriver\"# 'oracle.jdbc.driver.OracleDriver'\n",
    "url = 'jdbc:oracle:thin:@192.168.18.32:1521/DTT'\n",
    "user = 'datkt'\n",
    "password = 'hct5Kg'\n",
    "table = 'DTT_SD.IRIS'\n",
    "\n",
    "df = spark.read \\\n",
    "    .format(\"jdbc\") \\\n",
    "    .option(\"driver\", driver) \\\n",
    "    .option(\"url\", url) \\\n",
    "    .option(\"dbtable\", table) \\\n",
    "    .option(\"user\", user) \\\n",
    "    .option(\"password\", password) \\\n",
    "    .load()"
   ]
  },
  {
   "cell_type": "markdown",
   "id": "09d2a4d8-b635-433b-b341-3221b3ea15a3",
   "metadata": {},
   "source": [
    "### Write data"
   ]
  },
  {
   "cell_type": "code",
   "execution_count": 3,
   "id": "d97ca423-29f5-4b8c-be18-dea7c2d0c374",
   "metadata": {},
   "outputs": [],
   "source": [
    "df = spark.read.csv(r\"J:\\My Drive\\GitCode\\My_learning\\11. BigData\\0. Data\\datatest.csv\",header=True)"
   ]
  },
  {
   "cell_type": "code",
   "execution_count": null,
   "id": "cfd83115-58bc-4b69-b86e-fd39d2e46d38",
   "metadata": {},
   "outputs": [],
   "source": [
    "df.write.csv(\"/Volumes/GoogleDrive-106231888590528523181/My Drive/GitCode/My_learning/11. BigData/3. Spark/ab\",'overwrite')"
   ]
  },
  {
   "cell_type": "code",
   "execution_count": 21,
   "id": "ea4f77e8-82ae-4b56-a228-7172c16f3260",
   "metadata": {},
   "outputs": [],
   "source": [
    "from py4j.java_gateway import java_import"
   ]
  },
  {
   "cell_type": "code",
   "execution_count": 22,
   "id": "3dc6ad51-2b26-45ea-983c-74d0be171f52",
   "metadata": {},
   "outputs": [],
   "source": [
    "java_import(spark._jvm,\"org.apache.hadoop.fs.Path\")"
   ]
  },
  {
   "cell_type": "code",
   "execution_count": null,
   "id": "49c48aba-f461-44fa-a9cd-622c2ab8be57",
   "metadata": {},
   "outputs": [],
   "source": [
    "fs = spark._jvm.org.apache.hadoop.fs.FileSystem.get(spark._jsc.hadoopConfiguration())\n",
    "file = fs.globStatus(spark._jvm.Path('write_test.csv/part*'))[0].getPath().getName()"
   ]
  },
  {
   "cell_type": "code",
   "execution_count": null,
   "id": "1bf298a1-adc4-4799-8525-2cdd9d001574",
   "metadata": {},
   "outputs": [],
   "source": [
    "df.write.parquet(\"namesAndFavColors.parquet\")"
   ]
  },
  {
   "cell_type": "markdown",
   "id": "a4780d95",
   "metadata": {},
   "source": [
    "# Pipeline End-to-End model\n",
    "\n",
    "Pyspark cho phép xây dựng các end-to-end model mà dữ liệu truyền vào là các raw data và kết quả trả ra là nhãn, xác xuất hoặc giá trị được dự báo của model. Các end-to-end model này được đi qua một pipeline của `pyspark.ml` bao gồm 2 class cơ bản là `Transformer` cho phép biến đổi dữ liệu và `Estimator` ước lượng mô hình dự báo.\n",
    "\n",
    "- **Transfromer** sử dụng hàm `.transform()` nhận đầu vào là 1 DataFrame và trả ra một DataFrame mới có các trường đã biến đổi theo Transform\n",
    "- **Estimator** sử dụng hàm `.fit()` để huấn luyện model, nhận đầu vào là một **DataFrame** nhưng kết quả được trả ở đầu ra là 1 model object. Hiện tại spark hỗ trợ khá nhiều các lớp model cơ bản trong ML. Các lớp model xuất hiện trong Esimator bao gồm:\n",
    "    - **Đối với bài toán phân loại**: `LogisticRegression`, `DecisionTreeClassifier`, `RandomForestModel`, `GBTClassifier` (gradient bosting tree), `MultilayerPerceptronClassifier`, `LinearSVC` (Linear Support Vector Machine), `NaiveBayes`.\n",
    "    - **Đối với bài toán dự báo**: `GeneralizedLinearRegression`, `DecisionTreeRegressor`, `RandomForestRegressor`, `GBTRegressor` (gradient boosting Tree), `AFTSurvivalRegression` (Hồi qui đối với các lớp bài toán estimate survival).\n",
    "\n",
    "Cách thức áp dụng các model này các bạn có thể xem hướng dẫn rất chi tiết tại trang chủ của [Spark apache](https://spark.apache.org/docs/latest/ml-classification-regression.html)\n",
    "\n",
    "[Hướng dẫn bài viết](https://phamdinhkhanh.github.io/2019/07/15/PySparkSQL.html#3-x%C3%A2y-d%E1%BB%B1ng-pipeline-end-to-end-model-tr%C3%AAn-pyspark)"
   ]
  },
  {
   "cell_type": "markdown",
   "id": "3af79bb7",
   "metadata": {},
   "source": [
    "## Preprocessing pipeline"
   ]
  },
  {
   "cell_type": "code",
   "execution_count": null,
   "id": "05963e54",
   "metadata": {},
   "outputs": [
    {
     "name": "stdout",
     "output_type": "stream",
     "text": [
      "Shape of previous data: (5819079, 32)\n",
      "Shape of flights_SEA data: (19956, 7)\n"
     ]
    }
   ],
   "source": [
    "print('Shape of previous data: ({}, {})'.format(flights.count(), len(flights.columns)))\n",
    "flights_SEA = my_spark.sql(\"select ARRIVAL_DELAY, ARRIVAL_TIME, MONTH, YEAR, DAY_OF_WEEK, DESTINATION_AIRPORT, AIRLINE from flights_temp where ORIGIN_AIRPORT = 'SEA' and AIRLINE in ('DL', 'AA') \")\n",
    "print('Shape of flights_SEA data: ({}, {})'.format(flights_SEA.count(), len(flights_SEA.columns)))\n",
    "\n",
    "# Remove missing value\n",
    "model_data = flights_SEA.filter(\"ARRIVAL_DELAY is not null \\\n",
    "                                and ARRIVAL_TIME is not null \\\n",
    "                                and MONTH is not null \\\n",
    "                                and YEAR is not null  \\\n",
    "                                and DAY_OF_WEEK is not null \\\n",
    "                                and DESTINATION_AIRPORT is not null \\\n",
    "                                and AIRLINE is not null\")"
   ]
  },
  {
   "cell_type": "markdown",
   "id": "91aaa7ed",
   "metadata": {},
   "source": [
    "> Một chú ý quan trọng đó là các model phân loại của pyspark luôn mặc định nhận biến dự báo là **`label`**. Do đó trong bất kì model nào chúng ta cũng cần tạo ra biến integer là nhãn của model dưới tên **`label`**."
   ]
  },
  {
   "cell_type": "code",
   "execution_count": null,
   "id": "9fa2525f",
   "metadata": {},
   "outputs": [
    {
     "name": "stdout",
     "output_type": "stream",
     "text": [
      "Shape of model_data data: (19823, 9)\n"
     ]
    }
   ],
   "source": [
    "# labeling\n",
    "# Create boolean variable IS_DELAY variable as Target\n",
    "model_data = model_data.withColumn(\"IS_DELAY\", model_data.ARRIVAL_DELAY > 0)\n",
    "# Now Convert Boolean variable into integer\n",
    "model_data = model_data.withColumn(\"label\", model_data.IS_DELAY.cast(\"integer\"))\n",
    "\n",
    "print('Shape of model_data data: ({}, {})'.format(model_data.count(), len(model_data.columns)))\n"
   ]
  },
  {
   "cell_type": "markdown",
   "id": "7044a0f0",
   "metadata": {},
   "source": [
    "- Các biến numeric: `ARRIVAL_TIME`, `MONTH`, `YEAR`, `DAY_OF_WEEK`. Không cần phải qua biến đổi và được sử dụng trực tiếp làm đầu vào của model hồi qui. Tuy nhiên các biến này đang được để ở dạng string nên phải chuyển qua numeric bằng hàm `CAST`."
   ]
  },
  {
   "cell_type": "code",
   "execution_count": null,
   "id": "46439563",
   "metadata": {},
   "outputs": [
    {
     "name": "stdout",
     "output_type": "stream",
     "text": [
      "root\n",
      " |-- ARRIVAL_DELAY: string (nullable = true)\n",
      " |-- ARRIVAL_TIME: integer (nullable = true)\n",
      " |-- MONTH: integer (nullable = true)\n",
      " |-- YEAR: integer (nullable = true)\n",
      " |-- DAY_OF_WEEK: integer (nullable = true)\n",
      " |-- DESTINATION_AIRPORT: string (nullable = true)\n",
      " |-- AIRLINE: string (nullable = true)\n",
      " |-- IS_DELAY: boolean (nullable = true)\n",
      " |-- label: integer (nullable = true)\n",
      "\n"
     ]
    }
   ],
   "source": [
    "# ARRIVAL_TIME, MONTH, YEAR, DAY_OF_WEEK\n",
    "model_data = model_data.withColumn(\"ARRIVAL_TIME\", model_data.ARRIVAL_TIME.cast(\"integer\"))\n",
    "model_data = model_data.withColumn(\"MONTH\", model_data.MONTH.cast(\"integer\"))\n",
    "model_data = model_data.withColumn(\"YEAR\", model_data.YEAR.cast(\"integer\"))\n",
    "model_data = model_data.withColumn(\"DAY_OF_WEEK\", model_data.DAY_OF_WEEK.cast(\"integer\"))\n",
    "model_data.printSchema()"
   ]
  },
  {
   "cell_type": "markdown",
   "id": "deb3bd22",
   "metadata": {},
   "source": [
    "- Các biến string: `DESTINATION_AIRPORT`, `AIRLINE` là các biến dạng category cần được đánh index và biến đổi sang dạng biến dummies (chỉ nhận giá trị 0 và 1) để có thể đưa vào model hồi qui. Khi đó mỗi một biến sẽ được phân thành nhiều features mà mỗi một features đại diện cho 1 nhóm của biến.\n",
    "\n",
    "Quá trình biến đổi dummies sẽ trải qua 2 bước: \n",
    "- Đánh index cho biến bằng class `StringIndexer()`. Một index sẽ được gán cho 1 nhóm biến.\n",
    "- Biểu diễn one-hot vector thông qua class `OneHotEncoder()`: Từ index của biến sẽ biểu diễn các biến dưới dạng one-hot vector sao cho vị trí bằng 1 sẽ là phần tử có thứ tự trùng với index.\n",
    "\n",
    "Cả 2 class `StringIndexer()` và `OneHotEncoder()` đều là các object của **pyspark.ml.feature**"
   ]
  },
  {
   "cell_type": "code",
   "execution_count": null,
   "id": "92d993a0",
   "metadata": {},
   "outputs": [],
   "source": [
    "from pyspark.ml.feature import StringIndexer, OneHotEncoder\n",
    "# I. With DESTINATION_AIRPORT\n",
    "# Create StringIndexer\n",
    "dest_indexer = StringIndexer(inputCol = \"DESTINATION_AIRPORT\", \\\n",
    "                             outputCol = \"DESTINATION_INDEX\")\n",
    "\n",
    "# Create OneHotEncoder\n",
    "dest_onehot = OneHotEncoder(inputCol = \"DESTINATION_INDEX\", \\\n",
    "                            outputCol = \"DESTINATION_FACT\")\n",
    "\n",
    "# II. With AIRLINE\n",
    "# Create StringIndexer\n",
    "airline_indexer = StringIndexer(inputCol = \"AIRLINE\", \\\n",
    "                                outputCol = \"AIRLINE_INDEX\")\n",
    "\n",
    "# Create OneHotEncoder\n",
    "airline_onehot = OneHotEncoder(inputCol = \"AIRLINE_INDEX\", \\\n",
    "                               outputCol = \"AIRLINE_FACT\")"
   ]
  },
  {
   "cell_type": "markdown",
   "id": "c5e5f6e2",
   "metadata": {},
   "source": [
    "Đầu ra của quá trình biến đổi trên 2 biến `DESTINATION_AIRPORT` và `AIRLINE` chính là biến `DESTINATION_FACT` và `AIRLINE_FACT`"
   ]
  },
  {
   "cell_type": "markdown",
   "id": "5444d8d2",
   "metadata": {},
   "source": [
    "Bước cuối cùng của pipeline là kết hợp toàn bộ các columns chứa các features thành một column duy nhất. \n",
    "\n",
    "Bước này phải được thực hiện trước khi model training bởi spark model sẽ chỉ chấp nhận đầu vào ở định dạng này. Chúng ta có thể lưu mỗi một giá trị từ một cột như một phần tử của vector. Khi đó vector sẽ chứa toàn bộ các thông tin cần thiết của 1 quan sát để xác định nhãn hoặc giá trị dự báo ở đầu ra của quan sát đó. \n",
    "\n",
    "Class `VectorAssembler` của `pyspark.ml.feature` sẽ tạo ra vector tổng hợp đại diện cho toàn bộ các chiều của quan sát đầu vào. Việc chúng ta cần thực hiện chỉ là truyền vào class list string tên các trường thành phần của vector tổng hợp."
   ]
  },
  {
   "cell_type": "code",
   "execution_count": null,
   "id": "fe663ec9",
   "metadata": {},
   "outputs": [],
   "source": [
    "# Make a VectorAssembler\n",
    "from pyspark.ml.feature import VectorAssembler\n",
    "vec_assembler = VectorAssembler(inputCols = [\"ARRIVAL_TIME\", \"MONTH\", \"YEAR\", \\\n",
    "                                             \"DAY_OF_WEEK\", \"DESTINATION_FACT\",\\\n",
    "                                             \"AIRLINE_FACT\"], \n",
    "                                outputCol = \"features\")"
   ]
  },
  {
   "cell_type": "markdown",
   "id": "651d1220",
   "metadata": {},
   "source": [
    "Sau stage này chúng ta sẽ tổng hợp các biến trong `inputCols` thành một vector dự báo ở `outputCol` được lưu dưới tên `features`. Nhãn của model luôn mặc định là biến `label` đã khởi tạo từ đầu.\n",
    "\n",
    "Tiếp theo chúng ta sẽ khởi tạo pipeline biến đổi dữ liệu cho model thông qua class `Pipeline` của `pyspark.ml`. Các transformer biến đổi dữ liệu sẽ được sắp xếp trong 1 list và truyền vào tham số stages như bên dưới.\n",
    "\n",
    "> Sau khi dữ liệu được `fit()` qua pipeline sẽ thu được đầu ra là vector tổng hợp các biến dự báo features và nhãn của quan sát label."
   ]
  },
  {
   "cell_type": "code",
   "execution_count": null,
   "id": "2d822e15",
   "metadata": {},
   "outputs": [],
   "source": [
    "from pyspark.ml import Pipeline\n",
    "\n",
    "# Make a pipeline\n",
    "flights_sea_pipe  = Pipeline(stages = [dest_indexer, dest_onehot, airline_indexer, airline_onehot, vec_assembler])"
   ]
  },
  {
   "cell_type": "code",
   "execution_count": null,
   "id": "146c7bf1",
   "metadata": {},
   "outputs": [
    {
     "name": "stdout",
     "output_type": "stream",
     "text": [
      "+-------------+------------+-----+----+-----------+-------------------+-------+--------+-----+-----------------+----------------+-------------+-------------+--------------------+\n",
      "|ARRIVAL_DELAY|ARRIVAL_TIME|MONTH|YEAR|DAY_OF_WEEK|DESTINATION_AIRPORT|AIRLINE|IS_DELAY|label|DESTINATION_INDEX|DESTINATION_FACT|AIRLINE_INDEX| AIRLINE_FACT|            features|\n",
      "+-------------+------------+-----+----+-----------+-------------------+-------+--------+-----+-----------------+----------------+-------------+-------------+--------------------+\n",
      "|            8|         557|    1|2015|          4|                MSP|     DL|    true|    1|              3.0|  (24,[3],[1.0])|          0.0|(1,[0],[1.0])|(29,[0,1,2,3,7,28...|\n",
      "|            1|         939|    1|2015|          4|                MIA|     AA|    true|    1|             13.0| (24,[13],[1.0])|          1.0|    (1,[],[])|(29,[0,1,2,3,17],...|\n",
      "|           16|        1206|    1|2015|          4|                DFW|     AA|    true|    1|              0.0|  (24,[0],[1.0])|          1.0|    (1,[],[])|(29,[0,1,2,3,4],[...|\n",
      "|           13|        1418|    1|2015|          4|                ATL|     DL|    true|    1|              1.0|  (24,[1],[1.0])|          0.0|(1,[0],[1.0])|(29,[0,1,2,3,5,28...|\n",
      "|           24|        1314|    1|2015|          4|                DFW|     AA|    true|    1|              0.0|  (24,[0],[1.0])|          1.0|    (1,[],[])|(29,[0,1,2,3,4],[...|\n",
      "+-------------+------------+-----+----+-----------+-------------------+-------+--------+-----+-----------------+----------------+-------------+-------------+--------------------+\n",
      "only showing top 5 rows\n",
      "\n"
     ]
    }
   ],
   "source": [
    "# create pipe_data from pipeline\n",
    "pipe_data = flights_sea_pipe.fit(model_data).transform(model_data)\n",
    "pipe_data.show(5)"
   ]
  },
  {
   "cell_type": "markdown",
   "id": "3393fc9b",
   "metadata": {},
   "source": [
    "## Setup model"
   ]
  },
  {
   "cell_type": "code",
   "execution_count": null,
   "id": "25c347aa",
   "metadata": {},
   "outputs": [],
   "source": [
    "# Split train/test data\n",
    "train, test = pipe_data.randomSplit([0.8, 0.2])"
   ]
  },
  {
   "cell_type": "code",
   "execution_count": null,
   "id": "cdafda48",
   "metadata": {},
   "outputs": [],
   "source": [
    "# Create logistic regression\n",
    "from pyspark.ml.classification import LogisticRegression\n",
    "lr = LogisticRegression()"
   ]
  },
  {
   "cell_type": "markdown",
   "id": "29cf0d98",
   "metadata": {},
   "source": [
    "Để đánh giá model chúng ta cần sử dụng các metric như `ROC`, `Accuracy`, `F1`, `precision` hoặc `recal`. \n",
    "> Do dữ liệu không có hiện tượng mất cân bằng giữa 2 lớp nên ta sẽ sử dụng `ROC` làm metric đánh giá model. Trong trường hợp mẫu mất cân bằng thì các chỉ số `F1`, `precision` hoặc `recal` nên được sử dụng thay thế vì trong tình huống này `ROC`, `Accuracy` thường mặc định là rất cao.\n",
    "\n",
    "Chúng ta sử dụng class `BinaryClassificationEvaluator` trong `pyspark.ml.evaluation` module để tính toán các metrics đánh giá model."
   ]
  },
  {
   "cell_type": "code",
   "execution_count": null,
   "id": "9acca8ad",
   "metadata": {},
   "outputs": [],
   "source": [
    "# Import the evaluation submodule\n",
    "import pyspark.ml.evaluation as evals\n",
    "\n",
    "# Create a BinaryClassificationEvaluator\n",
    "evaluator = evals.BinaryClassificationEvaluator(metricName = \"areaUnderROC\")"
   ]
  },
  {
   "cell_type": "markdown",
   "id": "e00f1da7",
   "metadata": {},
   "source": [
    "## Tuning model thông qua param gridSearch\n",
    "\n",
    "Tuning model được hiểu là tìm kiếm trong 1 không gian các tham số của model để thu được model mà giá trị của metric khai báo ở bước 3.2.2 thu được là nhỏ nhất trên tập test  "
   ]
  },
  {
   "cell_type": "code",
   "execution_count": null,
   "id": "3e7dc8bd",
   "metadata": {},
   "outputs": [],
   "source": [
    "# Import the tuning submodule\n",
    "import pyspark.ml.tuning as tune\n",
    "import numpy as np\n",
    "\n",
    "# Create the parameter grid - khởi tạo grid\n",
    "grid = tune.ParamGridBuilder()\n",
    "\n",
    "# Add the hyperparameter, we can add more than one hyperparameter\n",
    "grid = grid.addGrid(lr.regParam, np.arange(0, 0.1, 0.01))\n",
    "# có thể add thêm nhiều tham số khác : grid = grid.addGrid(<tham số>, <list value của tham số>)\n",
    "\n",
    "# Build the grid - khởi tạo gridSearch\n",
    "grid = grid.build()"
   ]
  },
  {
   "cell_type": "code",
   "execution_count": null,
   "id": "accb911e",
   "metadata": {},
   "outputs": [],
   "source": [
    "# khởi tạo một cross validator từ class CrossValidator của pyspark.ml.tuning\n",
    "# Create the CrossValidator\n",
    "cv = tune.CrossValidator(\n",
    "    estimator=lr,\n",
    "    estimatorParamMaps=grid,\n",
    "    evaluator=evaluator\n",
    ")\n",
    "\n",
    "# Fit cross validation on models\n",
    "models = cv.fit(train)"
   ]
  },
  {
   "cell_type": "code",
   "execution_count": null,
   "id": "cf7ce375",
   "metadata": {},
   "outputs": [
    {
     "name": "stdout",
     "output_type": "stream",
     "text": [
      "0.5958682645678443\n"
     ]
    }
   ],
   "source": [
    "# model tốt nhất\n",
    "best_lr = models.bestModel\n",
    "\n",
    "# Lưu ý để dự báo từ các model của pyspark, chúng ta không sử dụng hàm predict() như thông thường mà sử dụng hàm transform(). \n",
    "test_results = best_lr.transform(test)\n",
    "\n",
    "# Kiểm tra mức độ chính xác của model trên tập test bằng hàm evaluate()\n",
    "print(evaluator.evaluate(test_results))"
   ]
  },
  {
   "cell_type": "code",
   "execution_count": null,
   "id": "77cb833c",
   "metadata": {},
   "outputs": [
    {
     "name": "stdout",
     "output_type": "stream",
     "text": [
      "+-------------+------------+-----+----+-----------+-------------------+-------+--------+-----+-----------------+----------------+-------------+-------------+--------------------+\n",
      "|ARRIVAL_DELAY|ARRIVAL_TIME|MONTH|YEAR|DAY_OF_WEEK|DESTINATION_AIRPORT|AIRLINE|IS_DELAY|label|DESTINATION_INDEX|DESTINATION_FACT|AIRLINE_INDEX| AIRLINE_FACT|            features|\n",
      "+-------------+------------+-----+----+-----------+-------------------+-------+--------+-----+-----------------+----------------+-------------+-------------+--------------------+\n",
      "|           -1|         620|    3|2015|          2|                ATL|     DL|   false|    0|              1.0|  (24,[1],[1.0])|          0.0|(1,[0],[1.0])|(29,[0,1,2,3,5,28...|\n",
      "|           -1|         825|    1|2015|          7|                MIA|     AA|   false|    0|             13.0| (24,[13],[1.0])|          1.0|    (1,[],[])|(29,[0,1,2,3,17],...|\n",
      "|           -1|        1024|    1|2015|          7|                SLC|     DL|   false|    0|              2.0|  (24,[2],[1.0])|          0.0|(1,[0],[1.0])|(29,[0,1,2,3,6,28...|\n",
      "|           -1|        1122|    3|2015|          1|                HNL|     DL|   false|    0|             10.0| (24,[10],[1.0])|          0.0|(1,[0],[1.0])|(29,[0,1,2,3,14,2...|\n",
      "|           -1|        1156|    3|2015|          7|                MSP|     DL|   false|    0|              3.0|  (24,[3],[1.0])|          0.0|(1,[0],[1.0])|(29,[0,1,2,3,7,28...|\n",
      "+-------------+------------+-----+----+-----------+-------------------+-------+--------+-----+-----------------+----------------+-------------+-------------+--------------------+\n",
      "only showing top 5 rows\n",
      "\n"
     ]
    }
   ],
   "source": [
    "test.show(5)"
   ]
  },
  {
   "cell_type": "code",
   "execution_count": null,
   "id": "86188311",
   "metadata": {},
   "outputs": [],
   "source": [
    "df = test_results.toPandas()"
   ]
  },
  {
   "cell_type": "code",
   "execution_count": null,
   "id": "bdda0859",
   "metadata": {},
   "outputs": [
    {
     "data": {
      "text/plain": [
       "label\n",
       "0    2428\n",
       "1    1667\n",
       "Name: count, dtype: int64"
      ]
     },
     "metadata": {},
     "output_type": "display_data"
    }
   ],
   "source": [
    "df['label'].value_counts()"
   ]
  },
  {
   "cell_type": "code",
   "execution_count": null,
   "id": "28dbf177",
   "metadata": {},
   "outputs": [
    {
     "data": {
      "text/plain": [
       "<sklearn.metrics._plot.roc_curve.RocCurveDisplay at 0x28e5ab07f10>"
      ]
     },
     "metadata": {},
     "output_type": "display_data"
    },
    {
     "data": {
      "image/png": "[encoded data removed]",
      "text/plain": [
       "<Figure size 640x480 with 1 Axes>"
      ]
     },
     "metadata": {},
     "output_type": "display_data"
    }
   ],
   "source": [
    "from sklearn.metrics import roc_curve, auc, roc_auc_score, RocCurveDisplay\n",
    "RocCurveDisplay.from_predictions(df['label'], 1-df['probability'].map(lambda x: x[0]))"
   ]
  }
 ],
 "metadata": {
  "kernelspec": {
   "display_name": "Python 3 (ipykernel)",
   "language": "python",
   "name": "python3"
  },
  "language_info": {
   "codemirror_mode": {
    "name": "ipython",
    "version": 3
   },
   "file_extension": ".py",
   "mimetype": "text/x-python",
   "name": "python",
   "nbconvert_exporter": "python",
   "pygments_lexer": "ipython3",
   "version": "3.11.9"
  },
  "toc-autonumbering": true,
  "vscode": {
   "interpreter": {
    "hash": "f08154012ddadd8e950e6e9e035c7a7b32c136e7647e9b7c77e02eb723a8bedb"
   }
  }
 },
 "nbformat": 4,
 "nbformat_minor": 5
}
