{
 "cells": [
  {
   "cell_type": "markdown",
   "metadata": {},
   "source": [
    "# Concurrency & Parallelism in Python\n",
    "\n",
    "**Concurrency** và **parallelism** chỉ hai nguyên tắc cơ bản của việc triển khai nhiệm vụ trong điện toán, với mỗi nguyên tắc lại có đặc điểm riêng.\n",
    "\n",
    "1. **Concurrency** là tính năng của một chương trình để quản lý nhiều tác vụ cùng lúc mà không cần thực thi chúng ở cùng thời điểm chính xác. Nó xoay quanh ý tưởng xen kẽ các nhiệm vụ, chuyển đổi giữa chúng theo phương pháp hiện đồng thời.\n",
    "\n",
    "<img src = \"https://st.quantrimang.com/photos/image/2023/10/28/Python-Con-Parallelism-1.jpg\">\n",
    "\n",
    "2. **Parallelism** liên quan tới việc triển khai hàng loạt nhiệm vụ song song. Nó thường tận dụng nhiều lõi hay bộ vi xử lý CPU. **Parallelism** đạt được triển khai đồng thời thực sự, cho phép bạn thực hiện các nhiệm vụ nhanh hơn và phù hợp cho các hoạt động tính toán mở rộng.\n",
    "\n",
    "<img src = \"https://st.quantrimang.com/photos/image/2023/10/28/Python-Con-Parallelism-2.jpg\">\n",
    "\n",
    "**Tầm quan trọng của Concurrency và Parallelism**\n",
    "- **Sử dụng tài nguyên**: Concurrency cho phép sử dụng hiệu quả tài nguyên hệ thống, đảm bảo các nhiệm vụ đó đang tích cực tiến triển thay vì chờ đợi tài nguyên bên ngoài.\n",
    "- **Phản hồi**: Concurrency có thể cải thiện khả năng phản hồi của ứng dụng, nhất là trong bối cảnh liên quan tới giao diện người dùng hoặc web server.\n",
    "- **Hiệu suất**: Parallelism quan trọng trong việc đạt hiệu suất tối ưu, nhất là với những nhiệm vụ liên quan tới CPU như tính toán phức tạp, xử lý dữ liệu và mô phỏng.\n",
    "- **Có thể mở rộng**: Cả đồng thời và song song đều cần cho xây dựng các hệ thống có thể mở rộng.\n",
    "- **Kiểm chứng trong tương lai**: Khi xu hướng phần cứng liên tục ủng hộ các bộ vi xử lý đa lõi, khả năng khai thác tính song song sẽ ngày càng trở nên cần thiết."
   ]
  },
  {
   "cell_type": "markdown",
   "metadata": {
    "vscode": {
     "languageId": "plaintext"
    }
   },
   "source": [
    "## Các tác vụ I/O operations\n",
    "\n",
    "Phân loại các Bound (tác vụ bị nghẽn bởi 1 vấn đề nào đó):\n",
    "\n",
    "- **CPU Bound**: là những chương trình bị giới hạn chủ yếu bởi tốc độ của CPU: việc tính toán small set of number,…–> Nên giải quyết bằng dùng CPU pool\n",
    "- **I/O Bound**: means the rate at which a process progresses is limited by the speed of the I/O subsystem. A task that processes data from disk, for example, counting the number of lines in a file is likely to be I/O bound. –> Nên dùng thread pool hoặc cơ chế bất đồng bộ tasks\n",
    "- **Memory Bound**: means the rate at which a process progresses is limited by the amount memory available and the speed of that memory access. A task that processes large amounts of in memory data, for example : nhân matrix lớn\n",
    "- **Cache Bound**: means the rate at which a process progress is limited by the amount and speed of the cache available. A task that simply processes more data than fits in the cache will be cache bound.\n",
    "\n",
    "**Ví dụ 1 số tác vụ I/O Bound**:\n",
    "- Lấy data từ 1 client/Gửi data cho client được gửi thông qua network\n",
    "- Data được đọc/ghi giữa program với disk\n",
    "- Query dữ liệu từ database và trả về kết quả.\n",
    "- Gửi operation để database thực hiện\n",
    "- Remote API operation"
   ]
  },
  {
   "cell_type": "markdown",
   "metadata": {},
   "source": [
    "## Concurrency\n",
    "\n",
    "Concurrency trong Python có thể bằng lập trình luồng hoặc không đồng bộ với thư viện `asyncio` sử dụng `async` và `await`."
   ]
  },
  {
   "cell_type": "markdown",
   "metadata": {},
   "source": [
    "### Threading (luồng)\n",
    "\n",
    "**Threading** là cơ chế đồng thời trong Python, cho phép bạn tạo và quản lý các nhiệm vụ trong một quá trình đơn giản. Thread phù hợp với những kiểu nhiệm vụ cụ thể, đặc biệt là tác vụ giới hạn I/O và có thể tận hưởng lợi ích từ việc thực thi đồng thời.\n",
    "\n",
    "Mô đun threading của Python cung cấp giao diện cấp cao để tạo vào quản lý luồng. Trong khi GIL (Global Interpreter Lock) hạn chế các luồng về mặt parallelism thực sự, chúng vẫn có thể đạt được tính đồng thời bằng cách xen kẽ hiệu quả các nhiệm vụ.\n",
    "\n",
    "Code bên dưới hiện một ví dụ triển khai tính đồng thời bằng thread. Nó dùng thư viện truy vấn Python để gửi một truy vấn HTTP, một nhiệm vụ khối I/O phổ biến. Nó cũng dùng mô đun thời gian để tính thời gian thực thi."
   ]
  }
 ],
 "metadata": {
  "language_info": {
   "name": "python"
  }
 },
 "nbformat": 4,
 "nbformat_minor": 2
}
