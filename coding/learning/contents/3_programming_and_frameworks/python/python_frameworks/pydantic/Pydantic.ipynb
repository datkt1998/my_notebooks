{
 "cells": [
  {
   "cell_type": "markdown",
   "metadata": {},
   "source": [
    "# Pydantic\n",
    "\n",
    "Pydantic là một thư viện mạnh mẽ cho việc xác thực dữ liệu và quản lý thiết lập cấu trúc dữ liệu và đối tượng."
   ]
  },
  {
   "cell_type": "markdown",
   "metadata": {},
   "source": [
    "**Python type hint**\n",
    "\n",
    "Về cơ bản, các ngôn ngữ lập trình được chia làm 2 loại là **Statically typed** và **Dynamically typed**\n",
    "- **Statically typed**: khi lập trình, ta phải khai báo kiểu của biến một cách tường minh, kiểu dữ liệu của chúng phải được biết tại thời điểm biên dịch (compile time)\n",
    "-  **Dynamically typed**: kiểu của biến được liên kết với giá trị tại thời điểm chạy (run time), không cần khai báo kiểu của một biến khi lập trình, nó sẽ tự động ép kiểu khi nhận được giá trị. \n",
    "\n",
    "Python thuộc kiểu ***Dynamically typed***. Mục đích của **type hint** là cung cấp một cú pháp tiêu chuẩn cho chú thích kiểu của dữ liệu đầu vào và đầu ra. Type hint giúp thông báo tới người đọc và IDEs về các kiểu dữ liệu mong đợi. Điều này thì được khuyến khích chứ không bắt buộc.\n",
    "\n",
    "Và vì nó là **type hint**, nên nếu trong quá trình chạy pipeline mà kiểu dữ liệu không đúng theo định đạng nhưng ko gây ra error thì code vẫn được chấp nhận\n"
   ]
  },
  {
   "cell_type": "code",
   "execution_count": 1,
   "metadata": {},
   "outputs": [
    {
     "data": {
      "text/plain": [
       "'ab'"
      ]
     },
     "execution_count": 1,
     "metadata": {},
     "output_type": "execute_result"
    }
   ],
   "source": [
    "def add(a: int, b: int) -> int:\n",
    "    return a + b\n",
    "\n",
    "\n",
    "add(1, 2)  # đúng\n",
    "\n",
    "\n",
    "add(0.2, 1)  # sai kiểu dữ liệu nhưng run code không lỗi --> đúng\n",
    "\n",
    "\n",
    "add(\"a\", \"b\")  # sai kiểu dữ liệu nhưng run code không lỗi --> đúng\n"
   ]
  },
  {
   "cell_type": "markdown",
   "metadata": {},
   "source": [
    "## Các mode/loại validators\n",
    "\n",
    "Phân loại các loại validators trong Pydantic\n",
    "\n",
    "có các loại validators sau:\n",
    "- (A): **Pydantic internal validation** | validate ***data-type***\n",
    "- (B): `BeforeValidator`  | `mode = 'before'` \n",
    "- (C): `AfterValidator`  | `mode = 'after'` \n",
    "- (D): `PlainValidator`  | `mode = 'plain'`\n",
    "\n",
    "Thứ tự chạy các mode này được mô tả như sau:\n",
    "\n",
    "<!-- <img src=\"validators_mode_ordering.png\"> -->\n",
    "![image](./validators_mode_ordering.png)\n",
    "\n",
    "- các `BeforeValidators` sẽ chạy theo thứ tự ngược so với khai báo trong cùng loại `before`\n",
    "- các `AfterValidators` hoặc `Field` sẽ chạy theo thứ tự cùng với thứ tự khai báo\n"
   ]
  },
  {
   "cell_type": "markdown",
   "metadata": {},
   "source": [
    "### **Pydantic internal validation** | validate ***data-type***\n",
    "\n",
    "Là định nghĩa kiểu dữ liệu cần validate, đây là xác định kiểu dữ liệu cho bước **Pydantic internal validation**, khi đó dữ liệu cận phải map đúng với kiểu hoặc sau khi ép kiểu (ví dụ từ str -> int nếu được) thì dữ liệu sau khi ép kiểu sẽ phải đúng với datatype đã khai báo.\n",
    "\n",
    "```python\n",
    "def add(\n",
    "    a: int,\n",
    "    b: int,\n",
    "    c: bool,\n",
    "    d: float,\n",
    "    e: list,\n",
    "    f: dict,\n",
    "    g: set,\n",
    "    h: list[str],  # each item in list is string\n",
    "    i: tuple[\n",
    "        int, str, float\n",
    "    ],  # a tuple with 3 items, an int, another int, and a str\n",
    "    k: set[bytes],  #  a set, and each of its items is of type bytes\n",
    "    l: dict[str, float],  # a dict with key is string and value is float\n",
    "    m: str | int,  # a value type is string or integer\n",
    "    n: str | None,  # string or None\n",
    ") -> int:\n",
    "    return int(a) + b\n",
    "```\n",
    "\n",
    "Sử dụng `type-hint` để định nghĩa data-type của dữ liệu sau khi chạy qua các validators mode = `before`, validator này thực hiện việc parsing và xử lý dữ liệu và xác thực `datatype`. Nếu dữ liệu khớp với ***data-type*** khai báo hoặc sau khi ép kiểu (chuyển `int` --> `str`) khớp với ***data-type*** khai báo thì sẽ `success` hoặc không thì báo `ValidationError`\n",
    "  - Loại validator này chạy sau khi chạy hết các mode = `before` hoặc không có bất cứ 1 mode = `plain` nào trong cả pipeline validation.\n",
    "  - Sau khi chạy xong validator này thì sẽ chạy đến các mode = `after`"
   ]
  },
  {
   "cell_type": "code",
   "execution_count": null,
   "metadata": {},
   "outputs": [
    {
     "name": "stdout",
     "output_type": "stream",
     "text": [
      "1 validation error for MyModel\n",
      "number\n",
      "  Input should be a valid string [type=string_type, input_value=78.2981, input_type=float]\n",
      "    For further information visit https://errors.pydantic.dev/2.7/v/string_type\n"
     ]
    }
   ],
   "source": [
    "from pydantic import BaseModel\n",
    "\n",
    "\n",
    "class MyModel(BaseModel):\n",
    "    number: str  # (Pydantic internal validation)\n",
    "\n",
    "\n",
    "try:\n",
    "    MyModel(number=78.2981)\n",
    "except Exception as e:\n",
    "    print(e)"
   ]
  },
  {
   "cell_type": "markdown",
   "metadata": {},
   "source": [
    "### `BeforeValidator`  | `mode = 'before'` \n",
    "\n",
    "Là việc ta sẽ tự định nghĩa các hàm phục vụ các mục đích xử lý dữ liêu tho đầu vào hoặc làm sạch và kiểm tra trước khi thực hiện validate ***data-type*** (**Pydantic internal validation**).\n",
    "  - Trong quá trình validate giữa nhiều bước cùng mode `before`, **validator nào đươc khai báo sau sẽ chạy trước, còn khai báo trước sẽ chạy sau (bị ngược thứ tự)**\n",
    "  - Trong quá trình validate giữa nhiều validators khác mode: mode `before` sẽ chạy đầu tiên cho tới khi gặp **Pydantic internal validation** hoặc mode = `plain`"
   ]
  },
  {
   "cell_type": "code",
   "execution_count": 30,
   "metadata": {},
   "outputs": [
    {
     "name": "stdout",
     "output_type": "stream",
     "text": [
      "str_to_float: Bỏ ký tự đầu tiên và chuyển thành float\n",
      "float_to_int_to_str: chuyển về int sau đó chuyển về string\n"
     ]
    },
    {
     "data": {
      "text/plain": [
       "MyModel(number=8)"
      ]
     },
     "execution_count": 30,
     "metadata": {},
     "output_type": "execute_result"
    }
   ],
   "source": [
    "from typing import Any\n",
    "from pydantic import BaseModel, BeforeValidator, Field\n",
    "from typing import Annotated\n",
    "\n",
    "\n",
    "def str_to_float(v: Any) -> float:\n",
    "    print(\"str_to_float: Bỏ ký tự đầu tiên và chuyển thành float\")\n",
    "    v_rm0ind = v[1:]\n",
    "    return float(v_rm0ind)\n",
    "\n",
    "\n",
    "def float_to_int_to_str(v: float) -> str:\n",
    "    print(\"float_to_int_to_str: chuyển về int sau đó chuyển về string\")\n",
    "    assert v > 0, \"Value must be positive\"\n",
    "    return str(int(v))\n",
    "\n",
    "\n",
    "class MyModel(BaseModel):\n",
    "    number: Annotated[\n",
    "        int,  # run #3 : (Pydantic internal validation) run sau khi chạy hết các mode = 'before'\n",
    "        BeforeValidator(\n",
    "            float_to_int_to_str\n",
    "        ),  # run #2 : (mode 'before') khai báo mode = 'before' đầu tiên nên chạy cuối cùng trong các mode = 'before'\n",
    "        BeforeValidator(\n",
    "            str_to_float\n",
    "        ),  # run #1 : (mode 'before') do khai báo mode = 'before' sau cùng nên chạy đầu tiên của pipeline\n",
    "    ]\n",
    "\n",
    "\n",
    "MyModel(number=\"78.2981\")"
   ]
  },
  {
   "cell_type": "markdown",
   "metadata": {},
   "source": [
    "### `AfterValidator`  | `mode = 'after'` \n",
    "\n",
    "Là việc ta sẽ tự định nghĩa các hàm phục vụ các mục đích xử lý dữ liêu làm việc với dữ liệu đã được xác thực và chuyển đổi thành đúng kiểu dữ liệu mong muốn sau khi thực hiện validate bằng **Pydantic internal validation**.\n",
    "  - Trong quá trình validate giữa nhiều bước cùng mode `after`, **validator nào đươc khai báo trước sẽ chạy trước, còn khai báo sau sẽ chạy sau (theo đúng thứ tự khai báo)**\n",
    "  - Trong quá trình validate giữa nhiều validators khác mode: mode `after` sẽ chạy sau khi chạy **Pydantic internal validation** hoặc mode = `plain`\n",
    "\n",
    "`Field` | validate ***data-value*** : là 1 dạng **after validators** được khởi tạo nhanh để kiểm tra những method đơn giản của dữ liệu"
   ]
  },
  {
   "cell_type": "code",
   "execution_count": 168,
   "metadata": {},
   "outputs": [
    {
     "name": "stdout",
     "output_type": "stream",
     "text": [
      "str_to_float: Bỏ ký tự đầu tiên và chuyển thành float\n",
      "float_to_int_to_str: chuyển về int sau đó chuyển về string\n",
      "double: int sau đó nhân đôi\n",
      "check_squares: kiểm tra xem có phải số chính phương\n"
     ]
    },
    {
     "data": {
      "text/plain": [
       "MyModel(number=36)"
      ]
     },
     "execution_count": 168,
     "metadata": {},
     "output_type": "execute_result"
    }
   ],
   "source": [
    "from typing import Any\n",
    "from pydantic import BaseModel, BeforeValidator, AfterValidator\n",
    "from typing import Annotated\n",
    "\n",
    "\n",
    "def str_to_float(v: Any) -> float:\n",
    "    print(\"str_to_float: Bỏ ký tự đầu tiên và chuyển thành float\")\n",
    "    v_rm0ind = v[1:]\n",
    "    return float(v_rm0ind)\n",
    "\n",
    "\n",
    "def float_to_int_to_str(v: float) -> str:\n",
    "    print(\"float_to_int_to_str: chuyển về int sau đó chuyển về string\")\n",
    "    assert v > 0, \"Value must be positive\"\n",
    "    return str(int(v))\n",
    "\n",
    "\n",
    "def double(v: Any) -> Any:\n",
    "    print(\"double: int sau đó nhân đôi\")\n",
    "    return (10 + v) * 2\n",
    "\n",
    "\n",
    "def check_squares(v: int) -> int:\n",
    "    print(\"check_squares: kiểm tra xem có phải số chính phương\")\n",
    "    assert v**0.5 % 1 == 0, f\"{v} is not a square number\"\n",
    "    return v\n",
    "\n",
    "\n",
    "class MyModel(BaseModel):\n",
    "    number: Annotated[\n",
    "        int,  # run #3 : (Pydantic internal validation) run sau khi chạy hết các mode = 'before'\n",
    "        BeforeValidator(\n",
    "            float_to_int_to_str\n",
    "        ),  # run #2 : (mode 'before') khai báo mode = 'before' đầu tiên nên chạy cuối cùng trong các mode = 'before'\n",
    "        BeforeValidator(\n",
    "            str_to_float\n",
    "        ),  # run #1 : (mode 'before') do khai báo mode = 'before' sau cùng nên chạy đầu tiên của pipeline\n",
    "        AfterValidator(\n",
    "            double\n",
    "        ),  # run #4 : (mode 'after') khai báo mode = 'after' đầu tiên nên chạy đầu tiên trong các mode = 'after' nhưng sau data-type\n",
    "        Field(\n",
    "            gt=0, lt=100\n",
    "        ),  # run #5 : (mode 'after') là 1 dạng after validator\n",
    "        AfterValidator(\n",
    "            check_squares\n",
    "        ),  # run #6 : (mode 'after') khai báo mode = 'after' cuôi cùng nên chạy cuối cùng của pipeline\n",
    "    ]\n",
    "\n",
    "\n",
    "MyModel(number=\"78.2981\")"
   ]
  },
  {
   "cell_type": "markdown",
   "metadata": {},
   "source": [
    "#### `Field` | validate ***data-value***\n",
    "\n",
    "Sử dụng `Field` để định nghĩa giá trị data-value hợp lệ của dữ liệu là 1 dạng validator mode = `after`, thường được sử dụng kết hợp với `Annotated`\n",
    "\n",
    "**`Field` parameters**:\n",
    "\n",
    "- `default` : default value\n",
    "- `alias` : đặt biệt danh cho trường thông tin khác với tên trong trường dữ liệu được xác thực\n",
    "- `validation_alias` : đặt biệt danh cho trường thông tin giống `alias` nhưng chỉ sử dụng only for validation\n",
    "- `serialization_alias` được sử dụng khi tên trường nội bộ của mô hình giống `alias`, nhưng không nhất thiết phải là tên bạn muốn sử dụng khi tuần tự hóa mô hình\n",
    "- `strict`: cho phép được sử dụng trong **strict mode** = không được phép ép kiểu ? (xem bảng bảng tham chiếu ep kiểu [table](https://docs.pydantic.dev/latest/concepts/conversion_table/))\n",
    "- `exclude` : can be used to control which fields should be excluded from the model when exporting the model\n",
    "- `description`: mô tả Field\n",
    "- `validate_default`: bool = False: có validate giá trị mặc định của field hay không ? (vì ta thường giả sử là giá trị mặc định sẽ luôn thoả mãn validation)\n",
    "\n",
    "**tham số cho Numeric**\n",
    "- `gt` : greater than\n",
    "- `lt` : less than\n",
    "- `ge` : greater than or equal to\n",
    "- `le` : less than or equal to\n",
    "- `multiple_of` : a multiple of the given number\n",
    "- `allow_inf_nan` : allow 'inf', '-inf', 'nan' values\n",
    "\n",
    "**tham số cho Decimal**\n",
    "- `max_digits` : Maximum number of digits within the Decimal. It does not include a zero before the decimal point or trailing decimal zeroes.\n",
    "- `decimal_places` : Maximum number of decimal places allowed. It does not include trailing decimal zeroes.\n",
    "\n",
    "**tham số cho String**\n",
    "- `min_length` : Minimum length of the string.\n",
    "- `max_length` : Maximum length of the string.\n",
    "- `pattern` : A regular expression that the string must match.\n",
    "\n",
    "**tham số cho Dataclass**\n",
    "- `init`: Whether the field should be included in the __init__ of the dataclass.\n",
    "- `init_var`: Whether the field should be seen as an init-only field in the dataclass.\n",
    "- `kw_only`: Whether the field should be a keyword-only argument in the constructor of the dataclass.\n",
    "\n",
    "**tham số cho Discriminator: phân loại**\n",
    "- `discriminator` : sử dụng khi muốn control giá trị chỉ nằm trong 1 list các giá trị từ 1 attribute từ 1 số class nào đó\n",
    "\n",
    "```python\n",
    "from typing import Literal\n",
    "from pydantic import BaseModel, Field\n",
    "\n",
    "class Cat(BaseModel):\n",
    "    pet_type: Literal[\"cat\"]\n",
    "    age: int\n",
    "\n",
    "class Dog(BaseModel):\n",
    "    pet_type: Literal[\"dog\"]\n",
    "    age: int\n",
    "\n",
    "class Model(BaseModel):\n",
    "    # pet chỉ nhật được trong các giá trị là 'cat' hoặc 'dog' là attribute pet_type của các class định nghĩa\n",
    "    pet: Cat | Dog = Field(discriminator=\"pet_type\")\n",
    "```"
   ]
  },
  {
   "cell_type": "code",
   "execution_count": 28,
   "metadata": {},
   "outputs": [
    {
     "name": "stdout",
     "output_type": "stream",
     "text": [
      "3 validation errors for process_payload\n",
      "url\n",
      "  URL scheme should be 'http' or 'https' [type=url_scheme, input_value='httpss://example.com', input_type=str]\n",
      "    For further information visit https://errors.pydantic.dev/2.9/v/url_scheme\n",
      "name\n",
      "  String should have at least 2 characters [type=string_too_short, input_value='A', input_type=str]\n",
      "    For further information visit https://errors.pydantic.dev/2.9/v/string_too_short\n",
      "birth_date\n",
      "  Date should be in the past [type=date_past, input_value='2024-12-12', input_type=str]\n",
      "    For further information visit https://errors.pydantic.dev/2.9/v/date_past\n"
     ]
    }
   ],
   "source": [
    "from pydantic import HttpUrl, PastDate\n",
    "from pydantic import Field\n",
    "from pydantic import validate_call\n",
    "from typing import Annotated\n",
    "from uuid import uuid4\n",
    "\n",
    "\n",
    "@validate_call(validate_return=True)\n",
    "def process_payload(\n",
    "    url: HttpUrl,  # là dạng url hyperlink\n",
    "    name: Annotated[\n",
    "        str, Field(min_length=2, max_length=15)\n",
    "    ],  # string có độ dài ký tự là 2 --> 15\n",
    "    birth_date: PastDate,  # là date nhưng là giá trị quá khứ\n",
    "    id: str = Field(\n",
    "        default_factory=lambda: uuid4().hex\n",
    "    ),  # sử dụng trực tiếp Field\n",
    ") -> str:\n",
    "    return url, name, birth_date, id\n",
    "\n",
    "\n",
    "payload = {\n",
    "    \"url\": \"httpss://example.com\",\n",
    "    \"name\": \"A\",\n",
    "    \"birth_date\": \"2024-12-12\",\n",
    "    \"id\": \"100017727\",\n",
    "}\n",
    "try:\n",
    "    process_payload(**payload)\n",
    "except Exception as e:\n",
    "    print(e)"
   ]
  },
  {
   "cell_type": "markdown",
   "metadata": {},
   "source": [
    "### `PlainValidator`  | `mode = 'plain'` \n",
    "\n",
    "Là việc ta sẽ tự định nghĩa các hàm phục vụ các mục đích bao gồm chức năng của cả validator mode `before` và **Pydantic internal validation** (bao gồm xử lý dữ liêu thô và chuyển đổi thành đúng kiểu dữ liệu mong muốn, sau đó xác thực ***data-type***). Cho nên khi chạy qua 1 validator mode = `plain` thì sẽ không chạy qua thêm bất cứ 1 validator mode `before` và **Pydantic internal validation** nào nữa.\n",
    "  - Trong quá trình validate nếu có mode `plain` thì chỉ có 1 validator mode `plain`, về thứ tự tương đương với 1 validator mode `before`, tức là có thể chạy qua các mode `before` phía trước (khai báo sau), sau khi chạy qua validator mode `plain` sẽ đến luồng mode `after`"
   ]
  },
  {
   "cell_type": "code",
   "execution_count": 169,
   "metadata": {},
   "outputs": [
    {
     "name": "stdout",
     "output_type": "stream",
     "text": [
      "str_to_float: Bỏ ký tự đầu tiên và chuyển thành float\n",
      "check_is_float: Plain validator\n",
      "double: int sau đó nhân đôi\n",
      "check_squares: kiểm tra xem có phải số chính phương\n"
     ]
    },
    {
     "data": {
      "text/plain": [
       "MyModel(number=36.0)"
      ]
     },
     "execution_count": 169,
     "metadata": {},
     "output_type": "execute_result"
    }
   ],
   "source": [
    "from typing import Any\n",
    "from pydantic import BaseModel, BeforeValidator, AfterValidator, PlainValidator\n",
    "from typing import Annotated\n",
    "\n",
    "\n",
    "def str_to_float(v: Any) -> float:\n",
    "    print(\"str_to_float: Bỏ ký tự đầu tiên và chuyển thành float\")\n",
    "    v_rm0ind = v[1:]\n",
    "    return float(v_rm0ind)\n",
    "\n",
    "\n",
    "def float_to_int_to_str(v: float) -> str:\n",
    "    print(\"float_to_int_to_str: chuyển về int sau đó chuyển về string\")\n",
    "    assert v > 0, \"Value must be positive\"\n",
    "    return str(int(v))\n",
    "\n",
    "\n",
    "def check_is_float(v: Any) -> Any:\n",
    "    print(\"check_is_float: Plain validator\")\n",
    "    assert isinstance(v, float), f\"{v} is not float\"\n",
    "    return v\n",
    "\n",
    "\n",
    "def double(v: Any) -> Any:\n",
    "    print(\"double: int sau đó nhân đôi\")\n",
    "    return (10 + v) * 2\n",
    "\n",
    "\n",
    "def check_squares(v: int) -> int:\n",
    "    print(\"check_squares: kiểm tra xem có phải số chính phương\")\n",
    "    assert v**0.5 % 1 == 0, f\"{v} is not a square number\"\n",
    "    return v\n",
    "\n",
    "\n",
    "class MyModel(BaseModel):\n",
    "    number: Annotated[\n",
    "        str,  # not run : (Pydantic internal validation) ko run do trong pipeline chứa mode 'plain'\n",
    "        BeforeValidator(\n",
    "            float_to_int_to_str\n",
    "        ),  # not run : (mode 'before') khai báo mode = 'before' trước mode = 'plain' nên sẽ không run\n",
    "        PlainValidator(\n",
    "            check_is_float\n",
    "        ),  # run #2 : (mode 'plain') khai báo mode = 'plain' nên thứ tự chạy tương đương với validator mode 'before'\n",
    "        BeforeValidator(\n",
    "            str_to_float\n",
    "        ),  # run #1 : (mode 'before') do khai báo mode = 'before' sau cùng và sau mode 'plain' nên chạy đầu tiên của pipeline\n",
    "        AfterValidator(\n",
    "            double\n",
    "        ),  # run #3 : (mode 'after') khai báo mode = 'after' đầu tiên nên chạy đầu tiên trong các mode = 'after' nhưng sau data-type\n",
    "        Field(\n",
    "            gt=0, lt=100\n",
    "        ),  # run #4 : (mode 'after') là 1 dạng after validator\n",
    "        AfterValidator(\n",
    "            check_squares\n",
    "        ),  # run #5 : (mode 'after') khai báo mode = 'after' cuôi cùng nên chạy cuối cùng của pipeline\n",
    "    ]\n",
    "\n",
    "\n",
    "MyModel(number=\"78.0\")"
   ]
  },
  {
   "cell_type": "markdown",
   "metadata": {},
   "source": [
    "## Cách định nghĩa validators\n",
    "\n",
    "Định nghĩa validators giúp xác định xem 1 field sẽ run qua pipeline validation theo phương pháp nào"
   ]
  },
  {
   "cell_type": "markdown",
   "metadata": {},
   "source": [
    "### Định nghĩa bằng `Annotated`\n",
    "\n",
    "Cấu trúc:\n",
    "\n",
    "`Annotated[<data-type>, <Các loại validators khác>]`\n",
    "\n",
    "Thứ tự khai báo cái validators theo thứ tự khai báo trong list `Annotated` (chú ý là với validator mode `before` thì thứ tự run ngược lại với thứ tự khai báo)"
   ]
  },
  {
   "cell_type": "markdown",
   "metadata": {},
   "source": [
    "**Sử dụng cho class validation**"
   ]
  },
  {
   "cell_type": "code",
   "execution_count": 29,
   "metadata": {},
   "outputs": [
    {
     "name": "stdout",
     "output_type": "stream",
     "text": [
      "str_to_float: Bỏ ký tự đầu tiên và chuyển thành float\n",
      "float_to_int_to_str: chuyển về int sau đó chuyển về string\n",
      "double: int sau đó nhân đôi\n",
      "check_squares: kiểm tra xem có phải số chính phương\n"
     ]
    },
    {
     "data": {
      "text/plain": [
       "MyModel(numbers=[36])"
      ]
     },
     "execution_count": 29,
     "metadata": {},
     "output_type": "execute_result"
    }
   ],
   "source": [
    "from typing import Any\n",
    "from pydantic import BaseModel, BeforeValidator, AfterValidator\n",
    "from typing import Annotated\n",
    "\n",
    "\n",
    "def str_to_float(v: Any) -> float:\n",
    "    print(\"str_to_float: Bỏ ký tự đầu tiên và chuyển thành float\")\n",
    "    v_rm0ind = v[1:]\n",
    "    return float(v_rm0ind)\n",
    "\n",
    "\n",
    "def float_to_int_to_str(v: float) -> str:\n",
    "    print(\"float_to_int_to_str: chuyển về int sau đó chuyển về string\")\n",
    "    assert v > 0, \"Value must be positive\"\n",
    "    return str(int(v))\n",
    "\n",
    "\n",
    "def double(v: Any) -> Any:\n",
    "    print(\"double: int sau đó nhân đôi\")\n",
    "    return (10 + v) * 2\n",
    "\n",
    "\n",
    "def check_squares(v: int) -> int:\n",
    "    print(\"check_squares: kiểm tra xem có phải số chính phương\")\n",
    "    assert v**0.5 % 1 == 0, f\"{v} is not a square number\"\n",
    "    return v\n",
    "\n",
    "\n",
    "MyNumber = Annotated[\n",
    "    int,  # run #3 : (Pydantic internal validation) run sau khi chạy hết các mode = 'before'\n",
    "    BeforeValidator(\n",
    "        float_to_int_to_str\n",
    "    ),  # run #2 : (mode 'before') khai báo mode = 'before' đầu tiên nên chạy cuối cùng trong các mode = 'before'\n",
    "    BeforeValidator(\n",
    "        str_to_float\n",
    "    ),  # run #1 : (mode 'before') do khai báo mode = 'before' sau cùng nên chạy đầu tiên của pipeline\n",
    "    AfterValidator(\n",
    "        double\n",
    "    ),  # run #4 : (mode 'after') khai báo mode = 'after' đầu tiên nên chạy đầu tiên trong các mode = 'after' nhưng sau data-type\n",
    "    Field(gt=0, lt=100),  # run #5 : (mode 'after') là 1 dạng after validator\n",
    "    AfterValidator(\n",
    "        check_squares\n",
    "    ),  # run #6 : (mode 'after') khai báo mode = 'after' cuôi cùng nên chạy cuối cùng của pipeline\n",
    "]\n",
    "\n",
    "\n",
    "class MyModel(BaseModel):\n",
    "    numbers: list[MyNumber]\n",
    "\n",
    "\n",
    "MyModel(numbers=[\"78.2981\"])"
   ]
  },
  {
   "cell_type": "markdown",
   "metadata": {},
   "source": [
    "**Sử dụng trong function validation**"
   ]
  },
  {
   "cell_type": "code",
   "execution_count": 4,
   "metadata": {},
   "outputs": [
    {
     "name": "stdout",
     "output_type": "stream",
     "text": [
      "1 validation error for how_many\n",
      "0\n",
      "  Input should be greater than 10 [type=greater_than, input_value=9, input_type=int]\n",
      "    For further information visit https://errors.pydantic.dev/2.7/v/greater_than\n"
     ]
    }
   ],
   "source": [
    "from pydantic import validate_call, Field\n",
    "from typing import Annotated\n",
    "\n",
    "\n",
    "@validate_call\n",
    "def how_many(num: Annotated[int, Field(gt=10)]):\n",
    "    return num\n",
    "\n",
    "\n",
    "try:\n",
    "    how_many(9)\n",
    "except Exception as e:\n",
    "    print(e)"
   ]
  },
  {
   "cell_type": "markdown",
   "metadata": {},
   "source": [
    "**Sử dụng trực tiếp Annotated**"
   ]
  },
  {
   "cell_type": "code",
   "execution_count": null,
   "metadata": {},
   "outputs": [
    {
     "data": {
      "text/plain": [
       "78"
      ]
     },
     "metadata": {},
     "output_type": "display_data"
    }
   ],
   "source": [
    "from typing import Annotated\n",
    "from pydantic import Field\n",
    "\n",
    "my = Annotated[\n",
    "    int,  # RUN #3\n",
    "    Field(gt=0, lt=100),  # RUN #4\n",
    "    Field(multiple_of=4),  # RUN #5\n",
    "]\n",
    "\n",
    "my(78.34)"
   ]
  },
  {
   "cell_type": "markdown",
   "metadata": {},
   "source": [
    "### Decorate bằng `field_validator`\n",
    "\n",
    "`@field_validator` là một decorator được sử dụng để định nghĩa các hàm (**validators**) tùy chỉnh nhằm xác thực (validate) và xử lý các trường dữ liệu (fields) của mô hình (model). `@field_validator` cho phép bạn xác định các quy tắc hoặc logic xác thực đặc biệt để kiểm tra giá trị của các trường trước khi chúng được gán vào model.\n",
    "\n",
    "Chú ý: `@field_validator` nên decorate cho 1 classmethod `@classmethod`\n",
    "\n",
    "```python\n",
    "from pydantic import BaseModel, field_validator\n",
    "\n",
    "class MyModel(BaseModel):\n",
    "    my_field: str\n",
    "\n",
    "    @field_validator('my_field')\n",
    "    def validate_my_field(cls, v, info: ValidationInfo ):\n",
    "        # logic xác thực\n",
    "        return v\n",
    "```\n",
    "***Tham số của `field_validator`***\n",
    "- mode = `before` | `after` | `plain`\n",
    "- check_fields : check xem field đó có thực sự tồn tại hay không ?\n",
    "\n",
    "***Tham số của hàm validator***\n",
    "- `v`: is the field value to validate\n",
    "- `info`: is an instance of `pydantic.ValidationInfo`\n",
    "\n",
    "Thứ tự khai báo cái validators cho mỗi 1 trường sẽ theo thứ tự xuất hiện cho `validator` trong class (chú ý là với validator mode `before` thì thứ tự run ngược lại với thứ tự khai báo)"
   ]
  },
  {
   "cell_type": "code",
   "execution_count": 13,
   "metadata": {},
   "outputs": [
    {
     "name": "stdout",
     "output_type": "stream",
     "text": [
      "str_to_float: Bỏ ký tự đầu tiên và chuyển thành float\n",
      "float_to_int_to_str: chuyển về int sau đó chuyển về string\n",
      "double: int sau đó nhân đôi\n",
      "check_squares: kiểm tra xem có phải số chính phương\n"
     ]
    },
    {
     "data": {
      "text/plain": [
       "MyModel(numbers=36)"
      ]
     },
     "execution_count": 13,
     "metadata": {},
     "output_type": "execute_result"
    }
   ],
   "source": [
    "from pydantic import BaseModel, field_validator, ValidationInfo\n",
    "from typing import Annotated\n",
    "\n",
    "\n",
    "class MyModel(BaseModel):\n",
    "    numbers: Annotated[\n",
    "        int,  # RUN #3\n",
    "        Field(gt=0, lt=100),  # RUN #4\n",
    "        Field(multiple_of=4),  # RUN #5\n",
    "    ]\n",
    "\n",
    "    # RUN #2: chạy thứ 2\n",
    "    @field_validator(\"numbers\", mode=\"before\")  # validate field : numbers\n",
    "    @classmethod\n",
    "    def float_to_int_to_str(cls, v: float, info: ValidationInfo) -> str:\n",
    "        print(\"float_to_int_to_str: chuyển về int sau đó chuyển về string\")\n",
    "        assert v > 0, \"Value must be positive\"\n",
    "        return str(int(v))\n",
    "\n",
    "    # RUN #1: chạy đầu tiên\n",
    "    @field_validator(\"numbers\", mode=\"before\")  # validate field : numbers\n",
    "    @classmethod\n",
    "    def str_to_float(cls, v: Any, info: ValidationInfo) -> float:\n",
    "        print(\"str_to_float: Bỏ ký tự đầu tiên và chuyển thành float\")\n",
    "        v_rm0ind = v[1:]\n",
    "        return float(v_rm0ind)\n",
    "\n",
    "    # RUN #6\n",
    "    @field_validator(\"*\", mode=\"after\")  # validate all field\n",
    "    @classmethod\n",
    "    def double(cls, v: Any, info: ValidationInfo) -> Any:\n",
    "        print(\"double: int sau đó nhân đôi\")\n",
    "        return (10 + v) * 2\n",
    "\n",
    "    # RUN #7\n",
    "    @field_validator(\"*\", mode=\"after\")  # validate all field\n",
    "    @classmethod\n",
    "    def check_squares(cls, v: int, info: ValidationInfo) -> int:\n",
    "        print(\"check_squares: kiểm tra xem có phải số chính phương\")\n",
    "        assert v**0.5 % 1 == 0, f\"{v} is not a square number\"\n",
    "        return v\n",
    "\n",
    "\n",
    "MyModel(numbers=\"78.2981\")"
   ]
  },
  {
   "cell_type": "markdown",
   "metadata": {},
   "source": [
    "### Decorate bằng `model_validator` \n",
    "\n",
    "Sử dụng `model_validator` nếu muốn validate bằng mối quan hệ giữa nhiều trường field với nhau (thay vì chỉ validate 1 trường duy nhất)\n",
    "\n",
    "thứ tự chạy : `@model_validator(mode = 'before')` ---> `@field_validator` ---> `@model_validator(mode = 'after')`\n",
    "\n",
    "`model_validator` sẽ bọc ngoài `field_validator`"
   ]
  },
  {
   "cell_type": "code",
   "execution_count": 13,
   "metadata": {},
   "outputs": [
    {
     "name": "stdout",
     "output_type": "stream",
     "text": [
      "1 validation error for UserModel\n",
      "  Assertion failed, card_number should not be included [type=assertion_error, input_value={'username': 'scolvin', '..., 'card_number': '1234'}, input_type=dict]\n",
      "    For further information visit https://errors.pydantic.dev/2.9/v/assertion_error\n"
     ]
    }
   ],
   "source": [
    "from typing import Any\n",
    "from typing_extensions import Self\n",
    "from pydantic import BaseModel, model_validator, field_validator\n",
    "\n",
    "\n",
    "class UserModel(BaseModel):\n",
    "    username: str\n",
    "    password1: str\n",
    "    password2: str\n",
    "\n",
    "    @field_validator(\"password1\", \"password2\", mode=\"after\")\n",
    "    @classmethod\n",
    "    def strip_data(cls, v):\n",
    "        return str(v).strip()\n",
    "\n",
    "    # kiểm tra input đầu vào không nên có trường card_number\n",
    "    # sử dụng với classmethod và lấy data từ argument đầu tiên : data\n",
    "    @model_validator(mode=\"before\")\n",
    "    @classmethod\n",
    "    def check_card_number_omitted(cls, data: Any) -> Any:\n",
    "        if isinstance(data, dict):\n",
    "            assert (\n",
    "                \"card_number\" not in data\n",
    "            ), \"card_number should not be included\"\n",
    "        return data\n",
    "\n",
    "    # kiểm tra password1 trùng với password2\n",
    "    # sử dụng trong self và lấy data từ self\n",
    "    @model_validator(mode=\"after\")\n",
    "    def check_passwords_match(self) -> Self:\n",
    "        pw1 = self.password1\n",
    "        pw2 = self.password2\n",
    "        if pw1 is not None and pw2 is not None and pw1 != pw2:\n",
    "            raise ValueError(\"passwords do not match\")\n",
    "        return self\n",
    "\n",
    "\n",
    "# lỗi khi ở before validator\n",
    "try:\n",
    "    u = UserModel(\n",
    "        username=\"scolvin\",\n",
    "        password1=\"zxcvbn\",\n",
    "        password2=\"  zxcvbn \",\n",
    "        card_number=\"1234\",\n",
    "    )\n",
    "    print(u)\n",
    "except Exception as e:\n",
    "    print(e)"
   ]
  },
  {
   "cell_type": "code",
   "execution_count": 6,
   "metadata": {},
   "outputs": [
    {
     "name": "stdout",
     "output_type": "stream",
     "text": [
      "1 validation error for UserModel\n",
      "  Value error, passwords do not match [type=value_error, input_value={'username': 'scolvin', '...assword2': 'zxcvbn-123'}, input_type=dict]\n",
      "    For further information visit https://errors.pydantic.dev/2.9/v/value_error\n"
     ]
    }
   ],
   "source": [
    "# lỗi khi ở after validator\n",
    "try:\n",
    "    UserModel(\n",
    "        username=\"scolvin\",\n",
    "        password1=\"zxcvbn\",\n",
    "        password2=\"zxcvbn-123\",\n",
    "    )\n",
    "except Exception as e:\n",
    "    print(e)"
   ]
  },
  {
   "cell_type": "markdown",
   "metadata": {},
   "source": [
    "## Các cách áp dụng Validation\n",
    "\n",
    "Các áp dụng **Pydantic** validation trong python"
   ]
  },
  {
   "cell_type": "markdown",
   "metadata": {},
   "source": [
    "### Validation for function (`def`) - `validate_call`\n",
    "\n",
    "`validate_call` để xác thực các lần gọi hàm dựa trên type hint và chú thích (annotations)\n",
    "- Pydantic được sử dụng để đảm bảo dữ liệu bạn truyền vào mỗi lần gọi hàm tuân theo các kiểu dữ liệu mong đợi (type hints).\n",
    "- Pydantic sẽ cố gắng hiểu ý của bạn và sử dụng ép kiểu (type coercion). Điều này có thể dẫn đến việc các giá trị string được truyền vào lần gọi hàm bị chuyển đổi ngầm thành kiểu dữ liệu mong đợi.\n",
    "    > Ép kiểu không phải lúc nào cũng khả thi, và trong trường hợp đó, `ValidationError` sẽ được phát sinh."
   ]
  },
  {
   "cell_type": "code",
   "execution_count": null,
   "metadata": {},
   "outputs": [
    {
     "data": {
      "text/plain": [
       "5"
      ]
     },
     "metadata": {},
     "output_type": "display_data"
    }
   ],
   "source": [
    "import pydantic\n",
    "\n",
    "\n",
    "@pydantic.validate_call\n",
    "def add(a: int, b: int) -> int:\n",
    "    return a + b\n",
    "\n",
    "\n",
    "add(2, 3)"
   ]
  },
  {
   "cell_type": "markdown",
   "metadata": {},
   "source": [
    "báo lỗi khi sai kiểu dữ liệu input"
   ]
  },
  {
   "cell_type": "code",
   "execution_count": null,
   "metadata": {},
   "outputs": [],
   "source": [
    "add(\"a\", 3)"
   ]
  },
  {
   "cell_type": "markdown",
   "metadata": {},
   "source": [
    "> ValidationError: 1 validation error for add 0\n",
    "> \n",
    ">   Input should be a valid integer, unable to parse string as an integer [type=int_parsing, input_value='a', input_type=str]\n",
    ">    For further information visit https://errors.pydantic.dev/2.7/v/int_parsing"
   ]
  },
  {
   "cell_type": "markdown",
   "metadata": {},
   "source": [
    " sẽ đúng nếu ép kiểu thành công"
   ]
  },
  {
   "cell_type": "code",
   "execution_count": null,
   "metadata": {},
   "outputs": [
    {
     "data": {
      "text/plain": [
       "6"
      ]
     },
     "metadata": {},
     "output_type": "display_data"
    }
   ],
   "source": [
    "add(\"3\", \"3\")"
   ]
  },
  {
   "cell_type": "markdown",
   "metadata": {},
   "source": [
    "Lỗi nếu ép kiểu từ float sang int mà giá trị bị thay đổi:\n",
    "- `3.0` --> int (**OKE**)\n",
    "- `0.3` --> int (**bị thay đổi**)"
   ]
  },
  {
   "cell_type": "code",
   "execution_count": null,
   "metadata": {},
   "outputs": [],
   "source": [
    "add(3.0, 0.3)"
   ]
  },
  {
   "cell_type": "markdown",
   "metadata": {},
   "source": [
    ">Input should be a valid integer, got a number with a fractional part [type=int_from_float, input_value=0.3, input_type=float]\n",
    ">    For further information visit https://errors.pydantic.dev/2.7/v/int_from_float"
   ]
  },
  {
   "cell_type": "markdown",
   "metadata": {},
   "source": [
    "`validate_return=True` nếu muốn validate giá trị trả về, (mặc định là `False`), phướng pháp ép kiểu cũng được áp dụng\n",
    "\n",
    "> ví dụ output của hàm định nghĩa là int, tuy nhiên output thực tế là string dạng int thì vẫn OKE"
   ]
  },
  {
   "cell_type": "code",
   "execution_count": null,
   "metadata": {},
   "outputs": [
    {
     "data": {
      "text/plain": [
       "25"
      ]
     },
     "metadata": {},
     "output_type": "display_data"
    }
   ],
   "source": [
    "from pydantic import validate_call\n",
    "\n",
    "\n",
    "@validate_call(validate_return=True)\n",
    "def add(*args: int, a: int, b: int = 4) -> int:\n",
    "    return str(sum(args) + a + b)\n",
    "\n",
    "\n",
    "add(4, 3, 4, a=10)"
   ]
  },
  {
   "cell_type": "markdown",
   "metadata": {},
   "source": [
    "**Customize the validator**"
   ]
  },
  {
   "cell_type": "code",
   "execution_count": null,
   "metadata": {},
   "outputs": [],
   "source": [
    "from pydantic import validate_call\n",
    "from datetime import datetime\n",
    "\n",
    "\n",
    "@validate_call\n",
    "def how_many(num: Annotated[int, Field(gt=10)]):\n",
    "    return num\n",
    "\n",
    "\n",
    "@validate_call\n",
    "def when(dt: datetime = Field(default_factory=datetime.now)):\n",
    "    return dt"
   ]
  },
  {
   "cell_type": "markdown",
   "metadata": {},
   "source": [
    "### Validation for class - `dataclass`\n",
    "\n",
    "Sử dụng decorator `pydantic.dataclasses.dataclass` nếu chỉ cần validate đơn giản và ưu tiên performance, áp dụng cho class"
   ]
  },
  {
   "cell_type": "markdown",
   "metadata": {},
   "source": [
    "### Validation for class - `BaseModel`\n",
    "\n",
    "Kế thừa từ `BaseModel`, chúng ta sử dụng một cơ chế ẩn để thực hiện việc **xác thực dữ liệu** nếu cần validate cả ***data-type*** và ***data-value***, **phân tích cú pháp**, và **tuần tự hóa**. \n",
    "\n",
    "--> Điều này cho phép chúng ta tạo ra các đối tượng phù hợp với các thông số của mô hình."
   ]
  },
  {
   "cell_type": "code",
   "execution_count": null,
   "metadata": {},
   "outputs": [
    {
     "name": "stdout",
     "output_type": "stream",
     "text": [
      "name='john' age=20\n",
      "---------------------\n",
      "2 validation errors for Person\n",
      "name\n",
      "  String should have at least 2 characters [type=string_too_short, input_value='m', input_type=str]\n",
      "    For further information visit https://errors.pydantic.dev/2.7/v/string_too_short\n",
      "age\n",
      "  Input should be greater than 0 [type=greater_than, input_value=0, input_type=int]\n",
      "    For further information visit https://errors.pydantic.dev/2.7/v/greater_than\n"
     ]
    }
   ],
   "source": [
    "from pydantic import Field\n",
    "from pydantic import BaseModel\n",
    "from typing import Annotated\n",
    "\n",
    "\n",
    "class Person(BaseModel):\n",
    "    name: str = Field(min_length=2, max_length=15)\n",
    "\n",
    "    # cách khác sử dụng Annotated\n",
    "    age: Annotated[int, Field(default=1, ge=0, le=120)]\n",
    "\n",
    "\n",
    "# ----\n",
    "\n",
    "john = Person(name=\"john\", age=20)\n",
    "print(john)\n",
    "print(\"---------------------\")\n",
    "\n",
    "# ----\n",
    "try:\n",
    "    mike = Person(name=\"m\", age=0)\n",
    "except Exception as e:\n",
    "    print(e)"
   ]
  },
  {
   "cell_type": "markdown",
   "metadata": {},
   "source": [
    "#### validation for property attribute\n",
    "\n",
    "Sử dụng `property` trong `class` thường được sử dụng khi tính toán 1 trường thông tin từ các trường khác hoặc việc tính toán trở nên phức tạp hoặc tốn nhiều chi phí, do đó các attribute này thường được tính khi call hoặc khi cần.\n",
    "\n",
    "- `computed_field` áp dụng cho các atrribute trong class được tính toán theo `property` nhưng vẫn đảm bảo sẽ không tính toán các attribute này cho đến khi được call\n"
   ]
  },
  {
   "cell_type": "code",
   "execution_count": null,
   "metadata": {},
   "outputs": [],
   "source": [
    "from pydantic import BaseModel, computed_field\n",
    "\n",
    "\n",
    "class Box(BaseModel):\n",
    "    width: float\n",
    "    height: float\n",
    "    depth: float\n",
    "\n",
    "    @computed_field\n",
    "    @property  # attribute này sẽ không được tính toán cho đến khi call\n",
    "    def volume(self) -> float:\n",
    "        print(\"đã chạy dòng code tính attribute volume\")\n",
    "        return self.width * self.height * self.depth\n",
    "\n",
    "\n",
    "b = Box(width=1, height=2, depth=3)"
   ]
  },
  {
   "cell_type": "markdown",
   "metadata": {},
   "source": [
    "`volume` vẫn được validate datatype khi được call"
   ]
  },
  {
   "cell_type": "code",
   "execution_count": null,
   "metadata": {},
   "outputs": [
    {
     "name": "stdout",
     "output_type": "stream",
     "text": [
      "đã chạy dòng code tính attribute volume\n",
      "{'width': 1.0, 'height': 2.0, 'depth': 3.0, 'volume': 6.0}\n"
     ]
    }
   ],
   "source": [
    "print(b.model_dump())"
   ]
  },
  {
   "cell_type": "markdown",
   "metadata": {},
   "source": [
    "#### `model_validate()`: xác thực dữ liệu từ 1 object\n",
    "\n",
    "tương tụ như `__init__` method của model (khi tạo đối tượng bằng việc khai báo arguments class đó), thay vào đó là truyền vào `dict` hoặc object\n",
    "\n",
    "- **Chức năng**: Xác thực (validate) một đối tượng dựa trên mô hình Pydantic đã được định nghĩa. Nó kiểm tra dữ liệu có đúng kiểu và giá trị hay không dựa trên các quy tắc xác thực (validation rules) mà bạn đã định nghĩa trong mô hình.\n",
    "- **Ứng dụng**: Sử dụng khi bạn muốn đảm bảo rằng dữ liệu đầu vào của mình khớp với các yêu cầu của mô hình trước khi xử lý thêm."
   ]
  },
  {
   "cell_type": "code",
   "execution_count": null,
   "metadata": {},
   "outputs": [
    {
     "data": {
      "text/plain": [
       "User(id=123, name='James', signup_ts=None)"
      ]
     },
     "metadata": {},
     "output_type": "display_data"
    }
   ],
   "source": [
    "from datetime import datetime\n",
    "from typing import Optional\n",
    "\n",
    "from pydantic import BaseModel\n",
    "\n",
    "\n",
    "class User(BaseModel):\n",
    "    id: int\n",
    "    name: str = \"John Doe\"\n",
    "    signup_ts: Optional[datetime] = None\n",
    "\n",
    "\n",
    "u = User.model_validate(\n",
    "    {\"id\": 123, \"name\": \"James\"}\n",
    ")  # --> return object of class\n",
    "u"
   ]
  },
  {
   "cell_type": "markdown",
   "metadata": {},
   "source": [
    "- `model_validate_json()`: this validates the provided data as a JSON string or bytes object. (nếu data đang dưới dạng `JSON` hoặc `bytes` thì cách này sẽ nhanh hơn)"
   ]
  },
  {
   "cell_type": "markdown",
   "metadata": {},
   "source": [
    "#### `model_construct()`: nhận dữ liệu bỏ qua validation\n",
    "\n",
    "This can be useful in at least a few cases:\n",
    "- data phức tạp được truyền vào nhưng đã biết được datatype, nên ko cần validate để đảm bảo performance\n",
    "- khi đã có 1 số hàm validate phía trong và không cần trigger validate lại lần nữa"
   ]
  },
  {
   "cell_type": "code",
   "execution_count": null,
   "metadata": {},
   "outputs": [
    {
     "data": {
      "text/plain": [
       "User(name='John Doe', signup_ts=None)"
      ]
     },
     "metadata": {},
     "output_type": "display_data"
    }
   ],
   "source": [
    "User.model_construct({\"id\": \"ạkshdajs\", \"name\": [1231231]})"
   ]
  },
  {
   "cell_type": "markdown",
   "metadata": {},
   "source": [
    "#### `model_dump()`: convert to dict\n",
    "\n",
    "- **Chức năng**: Trả về một từ điển chứa các trường (fields) và giá trị (values) tương ứng của mô hình.\n",
    "- **Ứng dụng**: Khi bạn muốn tuần tự hóa (serialize) mô hình thành một dạng dễ xử lý hơn, ví dụ như trước khi lưu vào cơ sở dữ liệu hoặc trả về qua API."
   ]
  },
  {
   "cell_type": "code",
   "execution_count": null,
   "metadata": {},
   "outputs": [
    {
     "data": {
      "text/plain": [
       "{'id': 123, 'name': 'James', 'signup_ts': None}"
      ]
     },
     "metadata": {},
     "output_type": "display_data"
    }
   ],
   "source": [
    "u.model_dump()"
   ]
  },
  {
   "cell_type": "markdown",
   "metadata": {},
   "source": [
    "- `model_dump_json()`: Trả về chuỗi JSON đại diện cho dữ liệu của mô hình (thực chất là kết quả của model_dump() nhưng dưới dạng JSON)"
   ]
  },
  {
   "cell_type": "code",
   "execution_count": null,
   "metadata": {},
   "outputs": [
    {
     "data": {
      "text/plain": [
       "'{\"id\":123,\"name\":\"James\",\"signup_ts\":null}'"
      ]
     },
     "metadata": {},
     "output_type": "display_data"
    }
   ],
   "source": [
    "u.model_dump_json()"
   ]
  },
  {
   "cell_type": "markdown",
   "metadata": {},
   "source": [
    "#### `model_copy()` : copy model\n",
    "- **Chức năng**: Trả về một bản sao của mô hình. \n",
    "  - Mặc định là `shallow copy` (bản sao nông, nghĩa là chỉ sao chép đối tượng gốc mà không sao chép sâu các thành phần con bên trong). \n",
    "  - Có thể chỉ định để tạo `deep copy` (bản sao sâu).\n",
    "- **Ứng dụng**: Khi bạn cần một bản sao của mô hình để thực hiện các thay đổi mà không làm ảnh hưởng đến bản gốc."
   ]
  },
  {
   "cell_type": "markdown",
   "metadata": {},
   "source": [
    "#### `model_json_schema()` : trả về dictionary of class\n",
    "- **Chức năng**: Trả về một từ điển có thể chuyển đổi thành JSON, đại diện cho lược đồ JSON (JSON Schema) của mô hình. JSON Schema cung cấp thông tin chi tiết về kiểu dữ liệu, các quy tắc xác thực, v.v.\n",
    "- **Ứng dụng**: Khi bạn cần cung cấp tài liệu cho API hoặc các dịch vụ khác về cấu trúc dữ liệu được mong đợi."
   ]
  },
  {
   "cell_type": "code",
   "execution_count": null,
   "metadata": {},
   "outputs": [
    {
     "data": {
      "text/plain": [
       "{'properties': {'id': {'title': 'Id', 'type': 'integer'},\n",
       "  'name': {'default': 'John Doe', 'title': 'Name', 'type': 'string'},\n",
       "  'signup_ts': {'anyOf': [{'format': 'date-time', 'type': 'string'},\n",
       "    {'type': 'null'}],\n",
       "   'default': None,\n",
       "   'title': 'Signup Ts'}},\n",
       " 'required': ['id'],\n",
       " 'title': 'User',\n",
       " 'type': 'object'}"
      ]
     },
     "metadata": {},
     "output_type": "display_data"
    }
   ],
   "source": [
    "u.model_json_schema()"
   ]
  },
  {
   "cell_type": "markdown",
   "metadata": {},
   "source": [
    "#### `model_post_init()` : chạy hàm sau khi `__init__`\n",
    "- **Chức năng**: Phương thức này thực hiện các hành động bổ sung sau khi mô hình đã được khởi tạo (sau khi quá trình khởi tạo và xác thực hoàn tất).\n",
    "- **Ứng dụng**: Sử dụng để thực hiện các thao tác tùy chỉnh sau khi mô hình đã được khởi tạo, như tính toán thêm các giá trị dựa trên các trường đã xác định."
   ]
  },
  {
   "cell_type": "code",
   "execution_count": null,
   "metadata": {},
   "outputs": [
    {
     "name": "stdout",
     "output_type": "stream",
     "text": [
      "AAAAAAAAA\n"
     ]
    }
   ],
   "source": [
    "class User(BaseModel):\n",
    "    id: int\n",
    "    name: str = \"John Doe\"\n",
    "    signup_ts: Optional[datetime] = None\n",
    "\n",
    "    def model_post_init(self, *args, **kwargs):\n",
    "        # Tính toán giá trị tổng sau khi mô hình đã được khởi tạo\n",
    "        print(\"AAAAAAAAA\")\n",
    "\n",
    "    @computed_field\n",
    "    @property\n",
    "    def name_id(self) -> str:\n",
    "        return f\"{self.name}-{self.id}\"\n",
    "\n",
    "\n",
    "u = User(id=123, name=\"James\")"
   ]
  },
  {
   "cell_type": "markdown",
   "metadata": {},
   "source": [
    "#### `model_fields` : trả về danh sách định nghĩa các field\n",
    "- **Chức năng**: Một ánh xạ (mapping) giữa tên trường (field names) và **các định nghĩa của chúng (FieldInfo instances)** (**not Value**). Mỗi trường trong mô hình đều có một định nghĩa riêng về kiểu dữ liệu và các quy tắc xác thực.\n",
    "- **Ứng dụng**: Sử dụng khi bạn cần truy cập hoặc kiểm tra thông tin về các trường trong mô hình (như kiểu dữ liệu, giá trị mặc định, v.v.).\n",
    "\n",
    "Chú ý:\n",
    "- trả về là định nghĩa field, chứ ko phải value\n",
    "- không bao gồm các `computed_fields` / `property`"
   ]
  },
  {
   "cell_type": "code",
   "execution_count": null,
   "metadata": {},
   "outputs": [
    {
     "data": {
      "text/plain": [
       "{'id': FieldInfo(annotation=int, required=True),\n",
       " 'name': FieldInfo(annotation=str, required=False, default='John Doe'),\n",
       " 'signup_ts': FieldInfo(annotation=Union[datetime, NoneType], required=False, default=None)}"
      ]
     },
     "metadata": {},
     "output_type": "display_data"
    }
   ],
   "source": [
    "u.model_fields"
   ]
  },
  {
   "cell_type": "markdown",
   "metadata": {},
   "source": [
    "#### `model_computed_fields` : trả về danh sách định nghĩa các field được tính toán\n",
    "- **Chức năng**: Ánh xạ giữa tên các trường tính toán (computed field names) và các định nghĩa của chúng (ComputedFieldInfo instances). Các trường này không được cung cấp trực tiếp mà được tính toán dựa trên các trường khác.\n",
    "- **Ứng dụng**: Khi bạn muốn kiểm tra hoặc làm việc với các trường tính toán trong mô hình."
   ]
  },
  {
   "cell_type": "code",
   "execution_count": null,
   "metadata": {},
   "outputs": [
    {
     "data": {
      "text/plain": [
       "{'name_id': ComputedFieldInfo(wrapped_property=<property object at 0x000001AFEC920CC0>, return_type=<class 'str'>, alias=None, alias_priority=None, title=None, description=None, deprecated=None, examples=None, json_schema_extra=None, repr=True)}"
      ]
     },
     "metadata": {},
     "output_type": "display_data"
    }
   ],
   "source": [
    "u.model_computed_fields"
   ]
  },
  {
   "cell_type": "markdown",
   "metadata": {},
   "source": [
    "#### `model_fields_set` : kiểm trả giá trị của trường được khia báo hay mặc định\n",
    "- **Chức năng**: Tập hợp các trường (fields) đã được cung cấp rõ ràng khi mô hình được khởi tạo, có nghĩa là danh sách các trường đã được truyền input vào thay vì lấy giá trị mặc định\n",
    "- **Ứng dụng**: Dùng để kiểm tra xem trường nào đã được gán giá trị ban đầu và trường nào có giá trị mặc định."
   ]
  },
  {
   "cell_type": "code",
   "execution_count": null,
   "metadata": {},
   "outputs": [
    {
     "data": {
      "text/plain": [
       "{'id', 'name'}"
      ]
     },
     "metadata": {},
     "output_type": "display_data"
    }
   ],
   "source": [
    "u.model_fields_set"
   ]
  },
  {
   "cell_type": "markdown",
   "metadata": {},
   "source": [
    "#### `model_config`: thay đổi tính chất của class"
   ]
  },
  {
   "cell_type": "markdown",
   "metadata": {},
   "source": [
    "Sử dụng `ConfigDict` để sử đổi attribute `model_config` của class, từ đó sửa đổi các tính chất của class:\n",
    " - `use_enum_values=True` : khi call model lấy giá trị thì sẽ trả về value của model (`.value`) thay vì để dạng raw là `<LLMProviders.OPENAI: 'openai'>`"
   ]
  },
  {
   "cell_type": "code",
   "execution_count": null,
   "metadata": {},
   "outputs": [
    {
     "name": "stdout",
     "output_type": "stream",
     "text": [
      "req_id='test' text='This is a sample text.' instruction='embed' llm_provider=<LLMProviders.OPENAI: 'openai'> llm_params=LLMParams(temperature=0, llm_name='gpt4o')\n"
     ]
    }
   ],
   "source": [
    "from pydantic import Field\n",
    "from pydantic import BaseModel\n",
    "from typing import Literal\n",
    "from enum import Enum\n",
    "\n",
    "\n",
    "# định nghĩa LLMProviders là dạng string chỉ được nhận 1 trong các giá trị sau : openai, claude.\n",
    "# Thay vì sử dụng Literal định nghĩa trong attribute\n",
    "class LLMProviders(str, Enum):\n",
    "    OPENAI = \"openai\"\n",
    "    CLAUDE = \"claude\"\n",
    "\n",
    "\n",
    "class LLMParams(BaseModel):\n",
    "    temperature: int = Field(validation_alias=\"llm_temperature\", ge=0, le=1)\n",
    "    llm_name: str = Field(\n",
    "        validation_alias=\"llm_model_name\", serialization_alias=\"model\"\n",
    "    )\n",
    "\n",
    "\n",
    "class Payload(BaseModel):\n",
    "    req_id: str = Field(exclude=True, min_length=2, max_length=15)\n",
    "    text: str = Field(min_length=5)\n",
    "    instruction: Literal[\"embed\", \"chat\"]\n",
    "    llm_provider: LLMProviders\n",
    "    llm_params: LLMParams\n",
    "\n",
    "\n",
    "payload = {\n",
    "    \"req_id\": \"test\",\n",
    "    \"text\": \"This is a sample text.\",\n",
    "    \"instruction\": \"embed\",\n",
    "    \"llm_provider\": \"openai\",\n",
    "    \"misc\": \"what\",\n",
    "    \"llm_params\": {\"llm_temperature\": 0, \"llm_model_name\": \"gpt4o\"},\n",
    "}\n",
    "validated_payload = Payload(**payload)\n",
    "print(validated_payload)\n"
   ]
  },
  {
   "cell_type": "code",
   "execution_count": null,
   "metadata": {},
   "outputs": [
    {
     "data": {
      "text/plain": [
       "{'text': 'This is a sample text.',\n",
       " 'instruction': 'embed',\n",
       " 'llm_provider': <LLMProviders.OPENAI: 'openai'>,\n",
       " 'llm_params': {'temperature': 0, 'llm_name': 'gpt4o'}}"
      ]
     },
     "metadata": {},
     "output_type": "display_data"
    }
   ],
   "source": [
    "validated_payload.model_dump()"
   ]
  },
  {
   "cell_type": "code",
   "execution_count": null,
   "metadata": {},
   "outputs": [
    {
     "data": {
      "text/plain": [
       "{'text': 'This is a sample text.',\n",
       " 'instruction': 'embed',\n",
       " 'llm_provider': <LLMProviders.OPENAI: 'openai'>,\n",
       " 'llm_params': {'temperature': 0, 'model': 'gpt4o'}}"
      ]
     },
     "metadata": {},
     "output_type": "display_data"
    }
   ],
   "source": [
    "validated_payload.model_dump(by_alias=True)"
   ]
  },
  {
   "cell_type": "markdown",
   "metadata": {},
   "source": [
    "Tiến hành sửa lại `model_config` thông qua class `ConfigDict`"
   ]
  },
  {
   "cell_type": "code",
   "execution_count": null,
   "metadata": {},
   "outputs": [
    {
     "data": {
      "text/plain": [
       "{'text': 'This is a sample text.',\n",
       " 'instruction': 'embed',\n",
       " 'llm_provider': 'openai',\n",
       " 'llm_params': {'temperature': 0, 'model': 'gpt4o'}}"
      ]
     },
     "metadata": {},
     "output_type": "display_data"
    }
   ],
   "source": [
    "from pydantic import ConfigDict\n",
    "\n",
    "\n",
    "class Payload(BaseModel):\n",
    "    req_id: str = Field(exclude=True)\n",
    "    text: str = Field(min_length=5)\n",
    "    instruction: Literal[\"embed\", \"chat\"]\n",
    "    llm_provider: LLMProviders\n",
    "    llm_params: LLMParams\n",
    "\n",
    "    # thêm trường model_config\n",
    "    model_config = ConfigDict(\n",
    "        use_enum_values=True\n",
    "    )  # khi call sẽ trả ra class.value thay vì class: <LLMProviders.OPENAI: 'openai'> sẽ chuyển thành 'openai'\n",
    "\n",
    "\n",
    "validated_payload = Payload(**payload)\n",
    "validated_payload.model_dump(by_alias=True)"
   ]
  },
  {
   "cell_type": "markdown",
   "metadata": {},
   "source": [
    "## Use-case"
   ]
  },
  {
   "cell_type": "markdown",
   "metadata": {},
   "source": [
    "### Validate dataframe from csv\n",
    "\n",
    "**Mô tả dữ liệu data in csv file:**\n",
    "\n",
    "```csv\n",
    "name,age,bank_account\n",
    "johnny,0,20\n",
    "matt,10,0\n",
    "abraham,100,100000\n",
    "mary,15,15\n",
    "linda,130,100000\n",
    "```\n",
    "\n",
    "Sử dụng thư viện `pandantic` được fork lại `pydantic` bổ sung thêm method `parse_df` cho `BaseModel`, hoặc ta có thể tự build lại theo code phía dưới"
   ]
  },
  {
   "cell_type": "code",
   "execution_count": null,
   "metadata": {},
   "outputs": [],
   "source": [
    "\"\"\"A subclass of the Pydantic BaseModel that adds a parse_df method to validate DataFrames.\"\"\"\n",
    "from __future__ import annotations\n",
    "\n",
    "import logging\n",
    "import math\n",
    "import os\n",
    "from typing import Any, Literal\n",
    "\n",
    "import pandas as pd\n",
    "from multiprocess import (  # type:ignore # pylint: disable=no-name-in-module\n",
    "    Process,\n",
    "    Queue,\n",
    ")\n",
    "from pydantic import BaseModel\n",
    "\n",
    "\n",
    "class PandanticBaseModel(BaseModel):\n",
    "    \"\"\"A subclass of the Pydantic BaseModel that adds a parse_df method to validate DataFrames.\"\"\"\n",
    "\n",
    "    @classmethod\n",
    "    def parse_df(\n",
    "        cls,\n",
    "        dataframe: pd.DataFrame,\n",
    "        errors: Literal['raise', 'filter'] = \"raise\",\n",
    "        context: dict[str, Any] | None = None,\n",
    "        n_jobs: int = 1,\n",
    "        verbose: bool = True,\n",
    "    ) -> pd.DataFrame:\n",
    "        \"\"\"Validate a DataFrame using the schema defined in the Pydantic model.\n",
    "\n",
    "        Args:\n",
    "            dataframe (pd.DataFrame): The DataFrame to validate.\n",
    "            errors (str, optional): How to handle validation errors. Defaults to \"raise\".\n",
    "            context (Optional[dict[str, Any], None], optional): The context to use for validation.\n",
    "            n_jobs (int, optional): The number of processes to use for validation. Defaults to 1.\n",
    "            verbose (bool, optional): Whether to log validation errors. Defaults to True.\n",
    "\n",
    "        Returns:\n",
    "            pd.DataFrame: The DataFrame with valid rows in case of errors=\"filter\".\n",
    "        \"\"\"\n",
    "        errors_index = []\n",
    "        logging.debug(\"Amount of available cores: %s\", os.cpu_count())\n",
    "\n",
    "        dataframe = dataframe.copy()\n",
    "        dataframe[\"_index\"] = dataframe.index\n",
    "\n",
    "        if n_jobs != 1:\n",
    "            if n_jobs < 0:\n",
    "                n_jobs = os.cpu_count()  # type: ignore\n",
    "\n",
    "            chunks = []\n",
    "            chunk_size = math.floor(len(dataframe) / n_jobs)\n",
    "            num_chunks = len(dataframe) // chunk_size + 1\n",
    "\n",
    "            q = Queue()\n",
    "\n",
    "            for i in range(num_chunks):\n",
    "                chunks.append(dataframe.iloc[i * chunk_size : (i + 1) * chunk_size])\n",
    "\n",
    "            for i in range(num_chunks):\n",
    "                p = Process(  # pylint: disable=not-callable\n",
    "                    target=cls._validate_row, args=(chunks[i], q), daemon=True\n",
    "                )\n",
    "                p.start()\n",
    "\n",
    "            num_stops = 0\n",
    "            for i in range(num_chunks):\n",
    "                while True:\n",
    "                    index = q.get()\n",
    "                    if index is None:\n",
    "                        num_stops += 1\n",
    "                        break\n",
    "\n",
    "                    errors_index.append(index)\n",
    "\n",
    "                if num_stops == num_chunks:\n",
    "                    break\n",
    "        else:\n",
    "            for row in dataframe.to_dict(\"records\"):\n",
    "                try:\n",
    "                    cls.model_validate(\n",
    "                        obj=row,\n",
    "                        context=context,\n",
    "                    )\n",
    "                except Exception as exc:  # pylint: disable=broad-exception-caught\n",
    "                    if verbose:\n",
    "                        print(exc)\n",
    "                        logging.info(\"Validation error found at index %s\\n%s\", row[\"_index\"], exc)\n",
    "\n",
    "                    errors_index.append(row[\"_index\"])\n",
    "\n",
    "        logging.debug(\"# invalid rows: %s\", len(errors_index))\n",
    "\n",
    "        if len(errors_index) > 0 and errors == \"raise\":\n",
    "            raise ValueError(f\"{len(errors_index)} validation errors found in dataframe.\")\n",
    "        if len(errors_index) > 0 and errors == \"filter\":\n",
    "            return dataframe[~dataframe.index.isin(list(errors_index))].drop(columns=[\"_index\"])\n",
    "\n",
    "        return dataframe.drop(columns=[\"_index\"])\n",
    "\n",
    "    @classmethod\n",
    "    def _validate_row(\n",
    "        cls,\n",
    "        chunk: pd.DataFrame,\n",
    "        q: Queue,\n",
    "        context: dict[str, Any] | None = None,\n",
    "        verbose: bool = True,\n",
    "    ) -> None:\n",
    "        \"\"\"Validate a single row of a DataFrame.\n",
    "\n",
    "        Args:\n",
    "            chunk (pd.DataFrame): The DataFrame chunk to validate.\n",
    "            q (Queue): The queue to put the index of the row in case of an error.\n",
    "            context (Optional[dict[str, Any], None], optional): The context to use for validation.\n",
    "            verbose (bool, optional): Whether to log validation errors. Defaults to True.\n",
    "        \"\"\"\n",
    "        logging.debug(\"Process started.\")\n",
    "\n",
    "        for row in chunk.to_dict(\"records\"):\n",
    "            try:\n",
    "                cls.model_validate(\n",
    "                    obj=row,\n",
    "                    context=context,\n",
    "                )\n",
    "            except Exception as exc:  # pylint: disable=broad-exception-caught\n",
    "                if verbose:\n",
    "                    logging.info(\"Validation error found at index %s\\n%s\", row[\"_index\"], exc)\n",
    "\n",
    "                q.put(row[\"_index\"])\n",
    "\n",
    "        logging.debug(\"Process ended.\")\n",
    "        q.put(None)\n"
   ]
  },
  {
   "cell_type": "code",
   "execution_count": 182,
   "metadata": {},
   "outputs": [
    {
     "data": {
      "text/html": [
       "<div>\n",
       "<style scoped>\n",
       "    .dataframe tbody tr th:only-of-type {\n",
       "        vertical-align: middle;\n",
       "    }\n",
       "\n",
       "    .dataframe tbody tr th {\n",
       "        vertical-align: top;\n",
       "    }\n",
       "\n",
       "    .dataframe thead th {\n",
       "        text-align: right;\n",
       "    }\n",
       "</style>\n",
       "<table border=\"1\" class=\"dataframe\">\n",
       "  <thead>\n",
       "    <tr style=\"text-align: right;\">\n",
       "      <th></th>\n",
       "      <th>name</th>\n",
       "      <th>age</th>\n",
       "      <th>bank_account</th>\n",
       "    </tr>\n",
       "  </thead>\n",
       "  <tbody>\n",
       "    <tr>\n",
       "      <th>1</th>\n",
       "      <td>matt</td>\n",
       "      <td>10</td>\n",
       "      <td>0</td>\n",
       "    </tr>\n",
       "    <tr>\n",
       "      <th>2</th>\n",
       "      <td>abraham</td>\n",
       "      <td>100</td>\n",
       "      <td>100000</td>\n",
       "    </tr>\n",
       "    <tr>\n",
       "      <th>3</th>\n",
       "      <td>mary</td>\n",
       "      <td>15</td>\n",
       "      <td>15</td>\n",
       "    </tr>\n",
       "  </tbody>\n",
       "</table>\n",
       "</div>"
      ],
      "text/plain": [
       "      name  age  bank_account\n",
       "1     matt   10             0\n",
       "2  abraham  100        100000\n",
       "3     mary   15            15"
      ]
     },
     "execution_count": 182,
     "metadata": {},
     "output_type": "execute_result"
    }
   ],
   "source": [
    "import pandas as pd\n",
    "from pandantic import BaseModel\n",
    "\n",
    "FILE_NAME = 'data/testcase.csv'\n",
    "\n",
    "class DataModel(BaseModel):\n",
    "    name: str = Field(min_length=2, max_length=15)\n",
    "    age: int = Field(ge=1, le=120)\n",
    "    bank_account: float = Field(ge=0, default=0)\n",
    "\n",
    "    @field_validator('name')\n",
    "    @classmethod\n",
    "    def validate_name(cls, v: str, info: ValidationInfo) -> str:\n",
    "        return str(v).capitalize()\n",
    "\n",
    "df = pd.read_csv(FILE_NAME)\n",
    "\n",
    "df_validated = DataModel.parse_df(df, errors='filter', n_jobs= 1, verbose=False)\n",
    "\n",
    "df_validated"
   ]
  },
  {
   "cell_type": "markdown",
   "metadata": {},
   "source": [
    "### validate FastAPI request\n",
    "\n",
    "**FastAPI** đã được tích hợp với **Pydantic**. Cách **FastAPI** xử lý request là chuyển chúng đến một hàm xử lý route. Bằng cách chuyển request này đến hàm, việc xác thực được thực hiện tự động, tương tự như `validate_call`.\n",
    "\n",
    "Khi này, các request được tự động xác thực bằng `pydantic`"
   ]
  },
  {
   "cell_type": "code",
   "execution_count": 178,
   "metadata": {},
   "outputs": [],
   "source": [
    "from fastapi import FastAPI\n",
    "from pydantic import BaseModel, HttpUrl\n",
    "\n",
    "class Request(BaseModel):\n",
    "    request_id: str\n",
    "    url: HttpUrl\n",
    "\n",
    "app = FastAPI()\n",
    "\n",
    "@app.post(\"/search/by_url/\")\n",
    "async def create_item(req: Request):\n",
    "    return item\n"
   ]
  }
 ],
 "metadata": {
  "kernelspec": {
   "display_name": "Python 3 (ipykernel)",
   "language": "python",
   "name": "python3"
  },
  "language_info": {
   "codemirror_mode": {
    "name": "ipython",
    "version": 3
   },
   "file_extension": ".py",
   "mimetype": "text/x-python",
   "name": "python",
   "nbconvert_exporter": "python",
   "pygments_lexer": "ipython3",
   "version": "3.12.4"
  },
  "widgets": {
   "application/vnd.jupyter.widget-state+json": {
    "state": {},
    "version_major": 2,
    "version_minor": 0
   }
  }
 },
 "nbformat": 4,
 "nbformat_minor": 4
}
