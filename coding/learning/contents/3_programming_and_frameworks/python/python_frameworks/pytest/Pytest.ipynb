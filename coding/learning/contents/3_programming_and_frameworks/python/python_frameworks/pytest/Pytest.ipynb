{
 "cells": [
  {
   "cell_type": "markdown",
   "metadata": {},
   "source": [
    "# Pytest\n",
    "\n",
    "doc: https://andypickup.com/developing-in-python-with-dev-containers-part-3-a-simple-guide-to-tdd-with-pytest-and-fastapi-6dd11fb1f1f4"
   ]
  }
 ],
 "metadata": {
  "language_info": {
   "name": "python"
  }
 },
 "nbformat": 4,
 "nbformat_minor": 2
}
