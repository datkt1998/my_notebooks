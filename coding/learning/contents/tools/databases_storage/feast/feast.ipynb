{
 "cells": [
  {
   "metadata": {},
   "cell_type": "markdown",
   "source": "# Feast",
   "id": "e33baa4a00e3cb7f"
  },
  {
   "metadata": {},
   "cell_type": "code",
   "outputs": [],
   "execution_count": null,
   "source": "",
   "id": "c6daa16ebca1baf3"
  }
 ],
 "metadata": {},
 "nbformat": 5,
 "nbformat_minor": 9
}
