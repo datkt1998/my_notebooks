{
 "cells": [
  {
   "cell_type": "markdown",
   "metadata": {},
   "source": [
    "# Git"
   ]
  },
  {
   "cell_type": "markdown",
   "metadata": {},
   "source": [
    "## Command navigator\n",
    "```bash\n",
    "# di chuyen den folder\n",
    "## nếu có space sử dụng \"\\ \"\n",
    "## \"tab\" để auto completion\n",
    "cd <folder directory>\n",
    "\n",
    "# hiện all content in folder\n",
    "ls\n",
    "\n",
    "# tạo content\n",
    "mkdir <content name>\n",
    "\n",
    "# remove content\n",
    "rmdir <content name>\n",
    "\n",
    "# To navigate to your home directory\n",
    "cd\n",
    "cd ~\n",
    "\n",
    "# To navigate up one directory level\n",
    "cd ..\n",
    "\n",
    "# To navigate to the previous directory (or back)\n",
    "cd -\n",
    "\n",
    "# To navigate into the root directory\n",
    "cd /\n",
    "```"
   ]
  },
  {
   "cell_type": "markdown",
   "metadata": {},
   "source": [
    "## Git config"
   ]
  },
  {
   "cell_type": "markdown",
   "metadata": {},
   "source": [
    "### Get git info\n",
    "```bash\n",
    "# check version\n",
    "git --version\n",
    "\n",
    "# help\n",
    "git --help\n",
    "```"
   ]
  },
  {
   "cell_type": "markdown",
   "metadata": {},
   "source": [
    "### Modify config\n",
    "```bash\n",
    "# view list config\n",
    "git config --list\n",
    "\n",
    "# user.name\n",
    "git config --global user.name <name>\n",
    "\n",
    "# user.email\n",
    "git config --global user.email <email>\n",
    "```"
   ]
  },
  {
   "cell_type": "markdown",
   "metadata": {},
   "source": [
    "### Git authenticate account\n",
    "\n",
    "Authenticate with [GitHub CLI](https://cli.github.com/) then run `gh auth login` in cmd"
   ]
  },
  {
   "cell_type": "markdown",
   "metadata": {},
   "source": [
    "## Git-flow \n",
    "![](https://images.viblo.asia/84f47fd1-a009-4beb-8957-26395fe1023d.png)\n",
    "\n",
    "\n",
    "- __Master/Prod/Main__: branchs có sẵn trong git và là branchs chứa mã nguồn khởi tạo của ứng dụng và các version đã sẵn sàng để realease cho người dùng có thể sử dụng (đặt Tag trên mỗi version). Thường cấu hình cho manage tương tác. Đây là branch dùng cho sản phẩm chính thức. Đây luôn là branch ổn định nhất và nó chưa lịch sử các lần release của dự án\n",
    "\n",
    "- __Hotfix__: Khi sản phẩm trên `master` branch của chúng ta gặp phải trục trặc và cần có bản vá ngay lập tức thì ta sẽ tạo ra `hotfix` branch. Branch này tương tự như `release` branch nhưng nó được tạo ra từ master branch thay vì từ `develop` branch như `release` (*Chú ý `hotfix` branch cũng cần được gộp lại với `master` branch với `develop` branch để các version `develop` tiếp theo đã được fix bug từ bản `hotfix`*), teamlead sẽ tạo branchs `hotfix` base trên branchs `Master` để hotfix sau đó merge lại vào `Master` (thường thì sẽ không được thay đổi trược tiếp mã nguồn trên branch `master` nên phải lam cách này)\n",
    "\n",
    "- __Release__: Trước khi Release một phần mềm, dev team cần được tạo ra để kiểm tra lại lần cuối trước đi release sản phần để người dùng có thể sử dụng (Thuông thường mã nguồn tại thời điểm này sẽ tạo ra bản build để test và kiểm tra lại bussiness). Khi `develop` branch đã có đủ số tính năng cần thiết để có thể release, ta có thể tạo branch mới với tên quy ước `release/tên_version`. Khi đến thời điểm release ứng dụng, teamlead sẽ merge lên branchs `master` để release cho ngời dùng.\n",
    "\n",
    "- __Develop__: Được khởi tạo từ `master` branches để lưu lại tất cả lịch sử thay đổi của mã nguồn, là nhánh dùng cho sản phẩm trong quá trình phát triển. `Develop` branchs là merge code của tất cả các branchs `feature`. Khi dev team hoàn thành hết `feature` của một topic, teamlead sẽ review ứng dụng và merge đến branchs `release` để tạo ra bản một bản release cho sản phẩm.\n",
    "\n",
    "- __Feature__: Được base trên branchs `Develop`. Mỗi khi phát triển một feature mới chúng ta cần tạo một branchs để việt mã nguồn cho từng feature. Khi có một feature mới dev tạo một branchs mới (thường đặt theo tên feature/<tên feature đó>) base trên branchs `Develop` để code cho feature đó. Sau khi code xong, dev tạo merge request đến branchs `develop` để teamlead review mà merge lại vào branchs `Develop`. (Lưu ý: các Feature không được phép gộp trực tiếp với master branch)\n",
    "\n",
    "Ngoài ra còn một số branchs mà chúng ta thường tạo ra tùy vào yêu cầu của dự án: \n",
    "- __Pre-pro__: môi trường chưa mã nguồi của bản buil chạy trên môi trường user test, \n",
    "- __QC__: Môi trường chứa mã nguồi của bản build chạy trên môi trường test, \n",
    "- __BugFix__: để chứa mã nguồn khi thực hiện công việc fix bug.\n",
    "\n",
    "---------------\n",
    "__Git-flow__ là một set of command của git, để thực hiện dự án theo đúng git-flow [Tham khảo cheatsheet về git-flow](https://danielkummer.github.io/git-flow-cheatsheet/index.vi_VN.html)\n",
    "\n",
    "```bash\n",
    "# khởi tạo một git-flow cho một project, Lệnh này sẽ tạo ra hai branch ban đầu là master và develop\n",
    "# Bạn sẽ cần trả lời một số câu hỏi cho việc thiết lập git-flow sau câu lệnh khởi tạo\n",
    "git flow init\n",
    "\n",
    "# tạo một feature: Sẽ tạo ra một nhánh mới có tên dạng feature/<tên-feature> từ nhánh 'develop' và tự động chuyển sang nhánh mới này \n",
    "git flow feature start <tên-feature>\n",
    "\n",
    "# Sau khi feature đó được thực hiện xong, ta có thể công bố feature đó lên remote server để mọi người cùng có thể cập nhật\n",
    "# Khi bạn làm việc với những người khác trên cùng một chức năng, bạn sẽ cần đẩy (push) phần mã nguồn của bạn cho chức năng đó lên máy chủ (remote) để những người khác có thể kéo về (pull) được.\n",
    "git flow feature publish <tên-feature>\n",
    "\n",
    "# pull feature của người khác về\n",
    "git flow feature pull REMOTE_NAME MYFEATURE\n",
    "\n",
    "# Để tiến hành gộp branch đó vào develop branch ta dùng lệnh\n",
    "# merge to \"develop\" + del \"feature\" branch + checkout \"develop\" branch\n",
    "git flow feature finish <tên-feature>\n",
    "\n",
    "# Tạo ra nhánh 'release' từ nhánh 'develop' để bắt đầu một phát hành mới\n",
    "git flow release start <verion-no>\n",
    "\n",
    "# Để công bố phần code 'release' của mình cho các thành viên khác\n",
    "git flow release publish <verion-no>\n",
    "\n",
    "# Để tiến hành merge bản release đó vào master branch và develop branch\n",
    "# = merge \"release\" to \"master\" + tag \"master\" theo \"release\" + merge \"release\" to \"dev\" + del \"release\"\n",
    "git flow release finish <version-no>\n",
    "\n",
    "# Để tạo một bản \"hotfix\" ta dùng lệnh\n",
    "git flow hotfix start <tên-hotfix>\n",
    "\n",
    "# Sau khi bản \"hotfix\" hoàn thiện ta có thể tiến hành merge lại với \"master\" branch và \"develop\" branch như sau\n",
    "git flow hotfix finish <tên-hotfix>\n",
    "```"
   ]
  },
  {
   "cell_type": "markdown",
   "metadata": {
    "tags": []
   },
   "source": [
    "## Github-flow\n",
    "Việc thao tác, vận dụng với Git-flow khá lằng nhằng, nên GitHub-flow đã đơn giản nó đi rất nhiều\n",
    "> Github Flow là một quy trình đơn giản dựa trên các branch với mục đích hỗ trợ team và các project được deploy một cách thường xuyên, automated deployments\n",
    "\n",
    "> Gitflow thường sử dụng cho các product có tần suất release ít hơn Github-flow, \n",
    "\n",
    "- GitHub-flow bao gồm nhánh __master__ và nhánh __feature__.\n",
    "- Từ nhánh __master__ dùng cho Product, tạo 1 nhánh có tên phù hợp với mục đích. (ở đây gọi là __feature__, gần giống với ___feature/hotfix__ ở git-flow)\n",
    "- Làm việc trên nhánh __feature__ đã tạo, sau khi hoàn thành công việc thì `push` lên nhánh __remote__.\n",
    "- Sử dụng chức năng tạo `Pull Request` của GitHub, sau khi review thì `merge` vào nhánh __master__.\n",
    "- Sau khi `merge` vào nhánh __master__ thì lập tức được `deploy` lên Product\n",
    "\n",
    "![](https://cdn.hashnode.com/res/hashnode/image/upload/v1668070000889/rvf5Hx764.png)"
   ]
  },
  {
   "cell_type": "markdown",
   "metadata": {},
   "source": [
    "## Git command"
   ]
  },
  {
   "cell_type": "markdown",
   "metadata": {},
   "source": [
    "### Create new repo "
   ]
  },
  {
   "cell_type": "markdown",
   "metadata": {},
   "source": [
    "#### init\n",
    "```bash\n",
    "# install git for new project\n",
    "git init\n",
    "```"
   ]
  },
  {
   "cell_type": "markdown",
   "metadata": {},
   "source": [
    "#### clone\n",
    "```bash\n",
    "# clone repo from link\n",
    "git clone <link.git - HTTPS>\n",
    "```"
   ]
  },
  {
   "cell_type": "markdown",
   "metadata": {},
   "source": [
    "#### connect to remote\n",
    "```bash\n",
    "# set new remote với tên là \"origin\", tạo new repo từ github.com xong copy paste SSH url của repository\n",
    "git remote add origin <remote_url>\n",
    "\n",
    "# Verifies the new remote URL\n",
    "git remote -v \n",
    "```"
   ]
  },
  {
   "cell_type": "markdown",
   "metadata": {},
   "source": [
    "### File change"
   ]
  },
  {
   "cell_type": "markdown",
   "metadata": {
    "tags": []
   },
   "source": [
    "#### file's status\n",
    "__4 type of status__: `Untracked` --> `Unmodified` --> `Modified` --> `Staged`\n",
    "\n",
    "```\n",
    "(Untracked) ------------------------------add-------------------------------------->>(Staged)\n",
    "\n",
    "(Untracked) <<----remove----- (Unmodified) -----edit---->> (Modified)-----stage---->>(Staged)\n",
    "\n",
    "                              (Unmodified) <<------------commit----------------------(Staged)\n",
    "```"
   ]
  },
  {
   "cell_type": "markdown",
   "metadata": {},
   "source": [
    "#### status\n",
    "```bash\n",
    "# check status\n",
    "git status\n",
    "\n",
    "# check status each file\n",
    "git status -s\n",
    "```"
   ]
  },
  {
   "cell_type": "markdown",
   "metadata": {
    "tags": []
   },
   "source": [
    "#### add\n",
    "```bash\n",
    "# Thêm tất cả thay đổi\n",
    "git add -A   \n",
    "\n",
    "# track all file (exclude file/folder begin \".\")\n",
    "git add * \n",
    "\n",
    "# track all file (include file/folder begin \".\") , trừ xóa file\n",
    "git add .   \n",
    "\n",
    "# add file from untracked to status\n",
    "git add <filename>\n",
    "\n",
    "# Thêm tất cả các file có phần mở rộng .c\n",
    "git add *.c\n",
    "```"
   ]
  },
  {
   "cell_type": "markdown",
   "metadata": {},
   "source": [
    "#### commit\n",
    "Việc thực `commit` là thao tác đưa toàn bộ nội dung trong `staged` vào dữ liệu của `Git` - nó tạo ra ảnh chụp toàn bộ thư mục làm việc ở thời điểm đó. \n",
    "\n",
    "Như sơ đồ trên nếu đã commit thì nó chuyển file từ trạng thái `staged` sang `unmodified`\n",
    "\n",
    "```bash\n",
    "# commit include the message\n",
    "git commit -m \"C0 - Khoi tao du an\"\n",
    "\n",
    "# commit, nhưng sửa lại commit message ngay trước đó\n",
    "git commit --amend -m \"Thông báo ...\" \n",
    "```\n",
    "\n",
    "__Xóa commit khi commit nhầm__\n",
    "\n",
    "```bash\n",
    "# Tuỳ vào từng trường hợp mà ta có 3 cách sau để đưa lịch sử commit về như cũ\n",
    " \n",
    "# 1. Chỉ đưa HEAD về như cũ\n",
    "git reset --soft HEAD~\n",
    " \n",
    "# 2. Đưa HEAD và index về như cũ\n",
    "git reset HEAD~\n",
    " \n",
    "# 3. Đưa cả index, working tree về 1 commit trước đó\n",
    "git reset --hard HEAD~\n",
    "```\n",
    "\n",
    "__Hồi phục commit đã xóa__\n",
    "```bash\n",
    "# Xem lại toàn bộ lịch sử commit\n",
    "git reflog \n",
    "\n",
    "# Chọn commit muốn phục hồi và khôi phục lại\n",
    "# git reset --hard HEAD@{2}\n",
    "git reset --hard <commit>\n",
    "```\n",
    "\n",
    "__Xóa bỏ 1 vài commit gần đây__\n",
    "```bash\n",
    "# tạo ra một commit mới đảo ngược lại những thay đổi trong commit được chỉ định\n",
    "git revert <commit-hash-code>\n",
    "```"
   ]
  },
  {
   "cell_type": "markdown",
   "metadata": {},
   "source": [
    "#### log\n",
    "```bash\n",
    "# check log commit\n",
    "git log --oneline \n",
    "\n",
    "# xem log nhánh master của remote origin\n",
    "!git log --oneline origin/master\n",
    "```"
   ]
  },
  {
   "cell_type": "markdown",
   "metadata": {},
   "source": [
    "#### diff\n",
    "check sự khác nhau nội dung trong thư mục đang làm việc, staged với commit cuối\n",
    "> Nó cho biết bản có màu đỏ là bản gốc (ở commit cuối), bản có màu xanh là bản đang sửa đổi.\n",
    "```bash\n",
    "# Kiểm tra thay đổi giữa hai commit\n",
    "git diff commit1 commit2\n",
    "\n",
    "# Kiểm tra sự thay đổi của hai nhánh\n",
    "git diff branch1 branch2\n",
    "```"
   ]
  },
  {
   "cell_type": "markdown",
   "metadata": {},
   "source": [
    "#### rollback\n",
    "Chuyển trạng thái file về commit trước đó / phục hồi file\n",
    "\n",
    "```bash\n",
    "# chuyển về commit trước\n",
    "git checkout -- <tên file>\n",
    "\n",
    "# phục hồi file test2.html nếu xóa\n",
    "git checkout [hash] filename # khôi phục lại filename\n",
    "git reset HEAD test2.html\n",
    "git checkout -- test2.html\n",
    "```"
   ]
  },
  {
   "cell_type": "markdown",
   "metadata": {},
   "source": [
    "### Branch command\n",
    "\n",
    "```bash\n",
    "# check current brancha\n",
    "git branch\n",
    "\n",
    "# tao branch mới\n",
    "git branch <branch_name> \n",
    "\n",
    "# switch to other branch\n",
    "git checkout <branch> \n",
    "\n",
    "# add and switch new branch\n",
    "git checkout -b <branch> \n",
    "\n",
    " # rename branch\n",
    "git branch -m <newname>\n",
    "\n",
    "# delete branch remotely\n",
    "git push origin --delete <remoteBranchName> \n",
    "\n",
    "# Xóa branch đã tồn tại\n",
    "git branch -d BRANCH_NAME\n",
    "\n",
    "# Xóa branch có commit nhưng chưa được merge\n",
    "git branch -D BRANCH_NAME\n",
    "```\n",
    "\n",
    "__Phục hồi branch đã xóa__\n",
    "```bash\n",
    "# Xem lại toàn bộ lịch sử commit\n",
    "git reflog\n",
    " \n",
    "# Từ các commit này, chọn rồi tạo branch mới\n",
    "git branch <tên branch> <commit>\n",
    "```"
   ]
  },
  {
   "cell_type": "markdown",
   "metadata": {},
   "source": [
    "### Repository command\n",
    "\n",
    "Ưu tiên sử dụng luồng __Git-flow__ hoặc __github-flow__ ở trên."
   ]
  },
  {
   "cell_type": "markdown",
   "metadata": {},
   "source": [
    "#### fetch\n",
    "`git fetch` tải xuống các nội dung từ __Remote repository__ mà không làm thay đổi trạng thái của __Local repository__ (các dữ liệu như commit, các file, refs), __git__ sẽ thu thập và lưu trữ những thay đổi mới từ các branch của __Remote repository__ về máy tính của bạn, nhưng không hợp nhất chúng với __Local repository__. \n",
    "\n",
    "Với `git fetch`, bạn có thể theo dõi các `commit` người khác đã cập nhật lên __server__, đồng thời nắm bắt được những thông tin khác nhau giữa __remote__ và __local__. \n",
    "\n",
    "```bash\n",
    "# Tải về thông tin của tất cả các nhánh của remote có trong folder \"origin\"\n",
    "git fetch origin\n",
    "\n",
    "# Get all\n",
    "git fetch --all\n",
    "\n",
    "# tải 1 nhánh cụ thể\n",
    "git fetch origin <branch>\n",
    "```"
   ]
  },
  {
   "cell_type": "markdown",
   "metadata": {},
   "source": [
    "#### merge\n",
    "`merge` sẽ tạo ra một `commit` mới là kết hợp từ 2 `commit` cuối cùng của 2 nhánh cần gộp vào với nhau. `Log commit` sẽ không bị thay đổi và thứ tự các `commit` sẽ được sắp xếp theo thời gian tạo `commit`.\n",
    "\n",
    "![](https://images.viblo.asia/2916cb93-a062-4546-9414-16781503b1c1.png) ==> ![](https://images.viblo.asia/8da09449-44e1-49e6-902e-0648cdcb2977.png)\n",
    "\n",
    "```bash\n",
    "# chuyển nhánh \"master\"\n",
    "git checkout master\n",
    "\n",
    "# Lấy code mới nhất về nhánh master trên local\n",
    "git pull origin master\n",
    "\n",
    "# merge \"feature1\" into current branch (master)\n",
    "git merge feature1             \n",
    "```\n",
    "\n",
    "__Lưu ý khi merge__: Không nên `merge` trực tiếp code vào `develop` branch, mà hãy tạo và `push` lên `feature` branch, sau đó sử dụng `merge request`:\n",
    "- tạo merge request để teamlead hoặc review có thể review mã nguồi trước khi merge để đảm bảo tính toàn vẹn của mã nguồn\n",
    "- người review sẽ comment trực tiếp cần thay đổi lên merge request để giảm thời gian trao đổi tăng tính hiệu quả khi làm việc nhóm\n",
    "- tạo merge request để lưu lại lịch sử thay đổi của mã nguồi.Khi có vấn đề về lỗi, chất lượng phần mềm.... chúng ta có thể xem lại tất cả những sự thay đổi trên từ dòng code ( việc này có thể kiếm tra bằng cách kiểm tra trên từng commit nhưng commit thì rất nhiều)\n",
    "- đây còn là nơi để lưu lại các comment của người review, các lỗi thông thường để các member sao không còn mắc lại lỗi cũ và là nơi để học hỏi code lẫn nhau thông qua việc xem lại sự thay đổi từng dòng code của member khác.\n",
    "- Để tránh conflict code, nên thường xuyên merge code ở branchs về để đảm bảo code hiện tại là mới nhất, merge code của branchs trước và sau khi code nếu có conflict thì merge conflict trước khi tạo merge request.\n",
    "\n",
    "Thông thường thì tất cả các thay đổi về mã nguồi của branchs `develop`, `release`, `master` đều thông qua __merge request__ (trừ mã nguồn lúc khởi tạo dự án)."
   ]
  },
  {
   "cell_type": "markdown",
   "metadata": {},
   "source": [
    "#### rebase \n",
    "`rebase` sẽ đưa toàn bộ branch Feature lên trên top branch `master`, làm thay đổi lịch sử `commit`.\n",
    "\n",
    "![](https://images.viblo.asia/2916cb93-a062-4546-9414-16781503b1c1.png) ==> ![](https://images.viblo.asia/e26ee7ad-e024-4dda-b500-261cfe7b9dd9.png)\n",
    "\n",
    "```bash\n",
    "# Chuyển sang nhánh master\n",
    "git checkout master\n",
    "\n",
    "# Lấy code mới nhất về nhánh master trên local\n",
    "git pull origin master\n",
    "\n",
    "# Quay lại branch bạn muốn bổ sung phần thay đổi của master mới nhất trước khi chạy đến các commit của BRANCH_NAME\n",
    "git checkout BRANCH_NAME\n",
    "\n",
    "# BRANCH_NAME sẽ được bắt đầu bằng last commit của master, rồi mới chạy các commit tiếp theo của BRANCH_NAME\n",
    "git rebase master        \n",
    "```\n",
    "![](https://jeffkreeftmeijer.com/git-rebase/git-rebase.png)\n",
    "\n",
    "__Nếu bị conflict khi rebase__\n",
    "\n",
    "```bash\n",
    "# Kiểm tra các file bị conflict\n",
    "git status\n",
    "\n",
    "# Sửa các file bị conflict (sửa bằng tay)\n",
    "\n",
    "# Sau khi sửa conflict, dùng lệnh add để phản ảnh sự điều chinhr\n",
    "git add FILE_PATH\n",
    "\n",
    "# Sau khi sửa conflict, tiếp tục lại lệnh rebase\n",
    "git rebase --continue\n",
    "\n",
    "# Hủy rebase\n",
    "git rebase --abort\n",
    "\n",
    "```"
   ]
  },
  {
   "cell_type": "markdown",
   "metadata": {},
   "source": [
    "#### cherry-pick\n",
    "\n",
    "`cherry-pick` tương tự với `merge` và `rebase` là lấy thay đổi từ một branch này và gộp vào branch khác, tuy nhiên `cherry-pick` chỉ gộp một __commit__ được chỉ định từ một nhánh khác vào nhánh hiện tại trong khi `merge` và `rebase` sẽ gộp toàn bộ các __commit__ lại. \n",
    "\n",
    "Để sử dụng `cherry-pick`, ta cần xem lại `log` các __commit__ sau đó lấy __mã hash của commit__ cần được `cherry-pick` và `checkout` sang nhánh cần được gộp __commit__ của mã hash kia và thực hiện lệnh:\n",
    "\n",
    "```bash\n",
    "git cherry-pick <commit-hash-code>\n",
    "```\n",
    "Ví dụ lấy commit `C` từ nhánh master gộp vào nhanh cherry-pick:\n",
    "\n",
    "![](https://images.viblo.asia/58fb9676-c97d-4ad8-8431-172c129cdad1.png) ===> ![](https://images.viblo.asia/4db578c2-aa4c-44fa-a6ae-4af4ec1d548c.png)"
   ]
  },
  {
   "cell_type": "markdown",
   "metadata": {},
   "source": [
    "#### pull\n",
    "\n",
    "`pull` = `fetch` + `merge`\n",
    "\n",
    "```bash\n",
    "git pull <tên-remote> <tên-remote-branch>\n",
    "```"
   ]
  },
  {
   "cell_type": "markdown",
   "metadata": {
    "tags": []
   },
   "source": [
    "#### push\n",
    "push __local repository__ to __remote repository__\n",
    "\n",
    "```bash\n",
    "# set new remote với tên là \"origin\", tạo new repo từ github.com xong copy paste SSH url của repository\n",
    "git remote add origin <remote_url>\n",
    "\n",
    "# Verifies the new remote URL\n",
    "git remote -v \n",
    "\n",
    "# add file to stage status\n",
    "git add .\n",
    "\n",
    "# commit file to git snapshoot with the message comment with push\n",
    "git commit -m \"initial commit\"\n",
    "\n",
    "# đẩy từ local repo lên remote repo với folder tên \"origin\"\n",
    "git push origin <remote branch>\n",
    "\n",
    "# force push the file is in working\n",
    "git push origin <branch> --force \n",
    "\n",
    "```"
   ]
  },
  {
   "cell_type": "markdown",
   "metadata": {},
   "source": [
    "### git stash\n",
    "\n",
    "Khi muốn tạm dừng công việc hiện tại và chuyển sang một branch khác. `git stash` cho bạn khả năng lưu lại trạng những thay đổi mà bạn đã tạo ra mà không cần thiết phải commit nó giúp bạn có thể dễ dàng chuyển sang nhánh khác làm việc và sau đó quay lại và tiếp tục những gì bạn đang làm ở nhánh đó\n",
    "\n",
    "```bash\n",
    "# Để lưu được những thay đổi mà không cần commit nó\n",
    "git add .\n",
    "\n",
    "# Tạm thời lưu lại các phần công việc còn đang làm dở\n",
    "git stash -u\n",
    "\n",
    "# xem lại các thay đổi đã lưu\n",
    "git stash list\n",
    " \n",
    "# Chuyển sang một branch khác và làm việc\n",
    "git checkout -b other-branch\n",
    "\n",
    "#### ~làm việc, làm việc, làm việc~\n",
    "\n",
    "git add <các file cần thiết>\n",
    "git commit -m \"commit message\"\n",
    " \n",
    "# Trở về branch cũ\n",
    "git checkout origin-branch\n",
    " \n",
    "# Lấy lại các nội dung công việc đang làm dở trước đó\n",
    "git stash pop\n",
    "\n",
    "# Để xóa toàn bộ những lần đã lưu\n",
    "git stash clear\n",
    "\n",
    "# Để drop một lần lưu chỉ định\n",
    "git stash drop 'stash@{n}'\n",
    "```"
   ]
  },
  {
   "cell_type": "markdown",
   "metadata": {},
   "source": [
    "## Git ignore \n",
    "File __.gitignore__ sử dụng để chỉ định các file/folder mà sẽ untrack từ git. Trong file __.gitignore__ sẽ là list danh sách các TH: \n",
    "\n",
    "- Một __file__ cụ thể cần ignore: example.exe\n",
    "- Một __folder__ cụ thể cần ignore: example_folder/\n",
    "- Dấu `!` phía trước có ý nghĩa phủ định: !abc/example.exe\n",
    "- Sử dụng 1 `*` để tìm các file có cùng định dạng. \n",
    "\n",
    "> Ví dụ 1: `*.xml` (ignore tất cả các file `.xml` trong project)\n",
    "\n",
    "> Ví dụ 2: `config/*.xml` (ignore các file `*.xml` trong thư mục config)\n",
    "\n",
    "- Sử dụng `**` để có hiệu lực cho các thư mục không cần định rõ tên. \n",
    "\n",
    "> Ví dụ 1: `**/foo` (ignore tất cả file/thư mục có tên là \"foo\" ở mọi nơi trong project)\n",
    "\n",
    "> Ví dụ 2: `folder/**` (ignore tất cả các file bên trong folder)\n",
    "\n",
    "__Tips:__\n",
    "- Sử dụng `#` để __comment__ và có thể để cách dòng cho dễ đọc.\n",
    "- Khi __ignore thư mục__ nên có dấu `/` ở sau tên thư mục để nhận biết đó là thư mục, nếu không nó có thể là coi là __thư mục__ hoặc __file__ hay __symbolic link__.\n",
    "- Cách tạo [gitignore](https://www.toptal.com/developers/gitignore/)\n",
    "\n",
    "```bash\n",
    "# create file gitignore\n",
    "touch .gitignore\n",
    "\n",
    "# các file trong git cache vẫn sẽ được git quản lý mặc dù đã list trong gitignore, phải xoá git cache (xong add các file lại để commit)\n",
    "git rm -r --cached .\n",
    "```"
   ]
  },
  {
   "cell_type": "markdown",
   "metadata": {},
   "source": [
    "## Git tags\n",
    "\n",
    "`Tag` là chức năng đặt tên một cách đơn giản của Git, nó cho phép ta xác định một cách rõ ràng các phiên bản mã nguồn (code) của dự án. Ta có thể coi `tag` như một branch không thay đổi được. Một khi nó được tạo (gắn với 1 commit cụ thể) thì ta không thể thay đổi lịch sử commit ấy được nữa."
   ]
  },
  {
   "cell_type": "markdown",
   "metadata": {},
   "source": [
    "## Git CI/CD\n",
    "\n",
    "__CI (Continuous Integration)__ và __CD (Continuous Delivery)__ tức là quá trình tích và triển khai hợp nhanh và liên tục, là quá trình tự động thực hiện các quá trình `build`, `test`, `release`, `deploy` khi có các trigger như `commit/merge` code lên một branch định sẵn hoặc có thể là tự động chạy theo một lịch cố định\n",
    " \n",
    "![](https://images.viblo.asia/c334d2bd-3851-499c-9bc2-81c8631fdaf8.png)\n",
    "\n",
    "- khi hoàn thành một __feature__ thì teamlead tạo __merge request__ rồi `merge` vào branch __develop__, __đúng 5h chiều hàng ngày__ hệ thống sẽ tự động `build`, `test`, `quét sonar`.... và `deploy` lên __develop eviroment__ (quá trình này là CD).(_không trigger merger code để deploy với branch này vì code được merge vào đây liên tục nếu trigger merger code sẽ dẫn đến việc build liên tục, làm chậm hệ thống_)\n",
    "- Với branch __prepro__ thì sẽ được trigger mỗi lần có sự thay đổi về code sẽ tự động thực hiện các bước như với branch __develop__.\n",
    "- Với branch __master__ thì có hơi khách một chúc, Git cũng sẽ tự động trigger và tiến hành các bước `build`, `run unit test`, `quét sonar`.... nhưng không tiến hành `deploy` (quá trình này chỉ là CI) lên server mà chỉ được `deploy` khi có confirm từ một người có quyền hoặc `deploy` bằng tay để đảm bảo quá trình delevery sản phẩm không xảy ra lỗi và đúng với thời gian khách hàng mong muốn."
   ]
  },
  {
   "cell_type": "markdown",
   "metadata": {},
   "source": [
    "### GitHub Actions\n",
    "__Github actions__ được sinh ra để hỗ trợ việc tự động hóa các tác vụ trong vòng đời của một phần mềm. __Git actions__ hoạt động theo hướng sự kiện, nghĩa là nó sẽ thực hiện một loạt commands đã được định nghĩa sẵn khi có một sự kiện được xảy ra. \n",
    ">Ví dụ như, bạn có thể cấu hình để mỗi khi có người tạo một `mergers request` lên một repository nào đó hệ thống sẽ tự động run `commands` để run các unit test case của bạn.\n",
    "\n",
    "[Tham khảo](https://viblo.asia/p/cau-hinh-cicd-voi-github-phan-1-mot-it-ly-thuyet-Qbq5Q9NL5D8)"
   ]
  },
  {
   "cell_type": "code",
   "execution_count": null,
   "metadata": {},
   "outputs": [],
   "source": []
  }
 ],
 "metadata": {
  "kernelspec": {
   "display_name": "Python 3 (ipykernel)",
   "language": "python",
   "name": "python3"
  },
  "language_info": {
   "codemirror_mode": {
    "name": "ipython",
    "version": 3
   },
   "file_extension": ".py",
   "mimetype": "text/x-python",
   "name": "python",
   "nbconvert_exporter": "python",
   "pygments_lexer": "ipython3",
   "version": "3.10.10"
  },
  "toc-autonumbering": true
 },
 "nbformat": 4,
 "nbformat_minor": 4
}
